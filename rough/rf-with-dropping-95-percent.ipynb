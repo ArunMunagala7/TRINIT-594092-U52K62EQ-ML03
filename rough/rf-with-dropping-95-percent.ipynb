{
 "cells": [
  {
   "cell_type": "code",
   "execution_count": 1,
   "id": "c3897b86",
   "metadata": {
    "_cell_guid": "b1076dfc-b9ad-4769-8c92-a6c4dae69d19",
    "_uuid": "8f2839f25d086af736a60e9eeb907d3b93b6e0e5",
    "execution": {
     "iopub.execute_input": "2023-02-11T11:39:13.865594Z",
     "iopub.status.busy": "2023-02-11T11:39:13.864954Z",
     "iopub.status.idle": "2023-02-11T11:39:13.905055Z",
     "shell.execute_reply": "2023-02-11T11:39:13.903773Z"
    },
    "papermill": {
     "duration": 0.070002,
     "end_time": "2023-02-11T11:39:13.907702",
     "exception": false,
     "start_time": "2023-02-11T11:39:13.837700",
     "status": "completed"
    },
    "scrolled": true,
    "tags": []
   },
   "outputs": [
    {
     "name": "stdout",
     "output_type": "stream",
     "text": [
      "/kaggle/input/all-agriculture-related-datasets-for-india/csv\n",
      "/kaggle/input/historicalweatherdataforindiancities/Temperature_And_Precipitation_Cities_IN/Lucknow_1990_2022.csv\n",
      "/kaggle/input/historicalweatherdataforindiancities/Temperature_And_Precipitation_Cities_IN/Delhi_NCR_1990_2022_Safdarjung.csv\n",
      "/kaggle/input/historicalweatherdataforindiancities/Temperature_And_Precipitation_Cities_IN/weather_Rourkela_2021_2022.csv\n",
      "/kaggle/input/historicalweatherdataforindiancities/Temperature_And_Precipitation_Cities_IN/Chennai_1990_2022_Madras.csv\n",
      "/kaggle/input/historicalweatherdataforindiancities/Temperature_And_Precipitation_Cities_IN/Rajasthan_1990_2022_Jodhpur.csv\n",
      "/kaggle/input/historicalweatherdataforindiancities/Temperature_And_Precipitation_Cities_IN/Bangalore_1990_2022_BangaloreCity.csv\n",
      "/kaggle/input/historicalweatherdataforindiancities/Temperature_And_Precipitation_Cities_IN/Station_GeoLocation_Longitute_Latitude_Elevation_EPSG_4326.csv\n",
      "/kaggle/input/historicalweatherdataforindiancities/Temperature_And_Precipitation_Cities_IN/Mumbai_1990_2022_Santacruz.csv\n",
      "/kaggle/input/historicalweatherdataforindiancities/Temperature_And_Precipitation_Cities_IN/weather_Bhubhneshwar_1990_2022.csv\n",
      "/kaggle/input/crop-recommendation-dataset/Crop_recommendation.csv\n",
      "/kaggle/input/rainfall-in-india/rainfall in india 1901-2015.csv\n",
      "/kaggle/input/rainfall-in-india/district wise rainfall normal.csv\n"
     ]
    }
   ],
   "source": [
    "# This Python 3 environment comes with many helpful analytics libraries installed\n",
    "# It is defined by the kaggle/python Docker image: https://github.com/kaggle/docker-python\n",
    "# For example, here's several helpful packages to load\n",
    "\n",
    "import numpy as np # linear algebra\n",
    "import pandas as pd # data processing, CSV file I/O (e.g. pd.read_csv)\n",
    "\n",
    "# Input data files are available in the read-only \"../input/\" directory\n",
    "# For example, running this (by clicking run or pressing Shift+Enter) will list all files under the input directory\n",
    "\n",
    "import os\n",
    "for dirname, _, filenames in os.walk('/kaggle/input'):\n",
    "    for filename in filenames:\n",
    "        print(os.path.join(dirname, filename))\n",
    "\n",
    "# You can write up to 20GB to the current directory (/kaggle/working/) that gets preserved as output when you create a version using \"Save & Run All\" \n",
    "# You can also write temporary files to /kaggle/temp/, but they won't be saved outside of the current session"
   ]
  },
  {
   "cell_type": "markdown",
   "id": "577de555",
   "metadata": {
    "papermill": {
     "duration": 0.024124,
     "end_time": "2023-02-11T11:39:13.956125",
     "exception": false,
     "start_time": "2023-02-11T11:39:13.932001",
     "status": "completed"
    },
    "tags": []
   },
   "source": [
    "extracting the rainfall data and viewing the features accordingly"
   ]
  },
  {
   "cell_type": "code",
   "execution_count": 2,
   "id": "f8b75184",
   "metadata": {
    "execution": {
     "iopub.execute_input": "2023-02-11T11:39:14.006596Z",
     "iopub.status.busy": "2023-02-11T11:39:14.006179Z",
     "iopub.status.idle": "2023-02-11T11:39:14.047532Z",
     "shell.execute_reply": "2023-02-11T11:39:14.045937Z"
    },
    "papermill": {
     "duration": 0.069976,
     "end_time": "2023-02-11T11:39:14.050563",
     "exception": false,
     "start_time": "2023-02-11T11:39:13.980587",
     "status": "completed"
    },
    "tags": []
   },
   "outputs": [],
   "source": [
    "district_rainfall_data=pd.read_csv('/kaggle/input/rainfall-in-india/district wise rainfall normal.csv')\n",
    "india_rainfall_data=pd.read_csv('/kaggle/input/rainfall-in-india/rainfall in india 1901-2015.csv')"
   ]
  },
  {
   "cell_type": "code",
   "execution_count": 3,
   "id": "8d19bdad",
   "metadata": {
    "execution": {
     "iopub.execute_input": "2023-02-11T11:39:14.100329Z",
     "iopub.status.busy": "2023-02-11T11:39:14.099948Z",
     "iopub.status.idle": "2023-02-11T11:39:14.134166Z",
     "shell.execute_reply": "2023-02-11T11:39:14.132967Z"
    },
    "papermill": {
     "duration": 0.061568,
     "end_time": "2023-02-11T11:39:14.136164",
     "exception": false,
     "start_time": "2023-02-11T11:39:14.074596",
     "status": "completed"
    },
    "tags": []
   },
   "outputs": [
    {
     "data": {
      "text/html": [
       "<div>\n",
       "<style scoped>\n",
       "    .dataframe tbody tr th:only-of-type {\n",
       "        vertical-align: middle;\n",
       "    }\n",
       "\n",
       "    .dataframe tbody tr th {\n",
       "        vertical-align: top;\n",
       "    }\n",
       "\n",
       "    .dataframe thead th {\n",
       "        text-align: right;\n",
       "    }\n",
       "</style>\n",
       "<table border=\"1\" class=\"dataframe\">\n",
       "  <thead>\n",
       "    <tr style=\"text-align: right;\">\n",
       "      <th></th>\n",
       "      <th>STATE_UT_NAME</th>\n",
       "      <th>DISTRICT</th>\n",
       "      <th>JAN</th>\n",
       "      <th>FEB</th>\n",
       "      <th>MAR</th>\n",
       "      <th>APR</th>\n",
       "      <th>MAY</th>\n",
       "      <th>JUN</th>\n",
       "      <th>JUL</th>\n",
       "      <th>AUG</th>\n",
       "      <th>SEP</th>\n",
       "      <th>OCT</th>\n",
       "      <th>NOV</th>\n",
       "      <th>DEC</th>\n",
       "      <th>ANNUAL</th>\n",
       "      <th>Jan-Feb</th>\n",
       "      <th>Mar-May</th>\n",
       "      <th>Jun-Sep</th>\n",
       "      <th>Oct-Dec</th>\n",
       "    </tr>\n",
       "  </thead>\n",
       "  <tbody>\n",
       "    <tr>\n",
       "      <th>0</th>\n",
       "      <td>ANDAMAN And NICOBAR ISLANDS</td>\n",
       "      <td>NICOBAR</td>\n",
       "      <td>107.3</td>\n",
       "      <td>57.9</td>\n",
       "      <td>65.2</td>\n",
       "      <td>117.0</td>\n",
       "      <td>358.5</td>\n",
       "      <td>295.5</td>\n",
       "      <td>285.0</td>\n",
       "      <td>271.9</td>\n",
       "      <td>354.8</td>\n",
       "      <td>326.0</td>\n",
       "      <td>315.2</td>\n",
       "      <td>250.9</td>\n",
       "      <td>2805.2</td>\n",
       "      <td>165.2</td>\n",
       "      <td>540.7</td>\n",
       "      <td>1207.2</td>\n",
       "      <td>892.1</td>\n",
       "    </tr>\n",
       "    <tr>\n",
       "      <th>1</th>\n",
       "      <td>ANDAMAN And NICOBAR ISLANDS</td>\n",
       "      <td>SOUTH ANDAMAN</td>\n",
       "      <td>43.7</td>\n",
       "      <td>26.0</td>\n",
       "      <td>18.6</td>\n",
       "      <td>90.5</td>\n",
       "      <td>374.4</td>\n",
       "      <td>457.2</td>\n",
       "      <td>421.3</td>\n",
       "      <td>423.1</td>\n",
       "      <td>455.6</td>\n",
       "      <td>301.2</td>\n",
       "      <td>275.8</td>\n",
       "      <td>128.3</td>\n",
       "      <td>3015.7</td>\n",
       "      <td>69.7</td>\n",
       "      <td>483.5</td>\n",
       "      <td>1757.2</td>\n",
       "      <td>705.3</td>\n",
       "    </tr>\n",
       "    <tr>\n",
       "      <th>2</th>\n",
       "      <td>ANDAMAN And NICOBAR ISLANDS</td>\n",
       "      <td>N &amp; M ANDAMAN</td>\n",
       "      <td>32.7</td>\n",
       "      <td>15.9</td>\n",
       "      <td>8.6</td>\n",
       "      <td>53.4</td>\n",
       "      <td>343.6</td>\n",
       "      <td>503.3</td>\n",
       "      <td>465.4</td>\n",
       "      <td>460.9</td>\n",
       "      <td>454.8</td>\n",
       "      <td>276.1</td>\n",
       "      <td>198.6</td>\n",
       "      <td>100.0</td>\n",
       "      <td>2913.3</td>\n",
       "      <td>48.6</td>\n",
       "      <td>405.6</td>\n",
       "      <td>1884.4</td>\n",
       "      <td>574.7</td>\n",
       "    </tr>\n",
       "    <tr>\n",
       "      <th>3</th>\n",
       "      <td>ARUNACHAL PRADESH</td>\n",
       "      <td>LOHIT</td>\n",
       "      <td>42.2</td>\n",
       "      <td>80.8</td>\n",
       "      <td>176.4</td>\n",
       "      <td>358.5</td>\n",
       "      <td>306.4</td>\n",
       "      <td>447.0</td>\n",
       "      <td>660.1</td>\n",
       "      <td>427.8</td>\n",
       "      <td>313.6</td>\n",
       "      <td>167.1</td>\n",
       "      <td>34.1</td>\n",
       "      <td>29.8</td>\n",
       "      <td>3043.8</td>\n",
       "      <td>123.0</td>\n",
       "      <td>841.3</td>\n",
       "      <td>1848.5</td>\n",
       "      <td>231.0</td>\n",
       "    </tr>\n",
       "    <tr>\n",
       "      <th>4</th>\n",
       "      <td>ARUNACHAL PRADESH</td>\n",
       "      <td>EAST SIANG</td>\n",
       "      <td>33.3</td>\n",
       "      <td>79.5</td>\n",
       "      <td>105.9</td>\n",
       "      <td>216.5</td>\n",
       "      <td>323.0</td>\n",
       "      <td>738.3</td>\n",
       "      <td>990.9</td>\n",
       "      <td>711.2</td>\n",
       "      <td>568.0</td>\n",
       "      <td>206.9</td>\n",
       "      <td>29.5</td>\n",
       "      <td>31.7</td>\n",
       "      <td>4034.7</td>\n",
       "      <td>112.8</td>\n",
       "      <td>645.4</td>\n",
       "      <td>3008.4</td>\n",
       "      <td>268.1</td>\n",
       "    </tr>\n",
       "  </tbody>\n",
       "</table>\n",
       "</div>"
      ],
      "text/plain": [
       "                 STATE_UT_NAME       DISTRICT    JAN   FEB    MAR    APR  \\\n",
       "0  ANDAMAN And NICOBAR ISLANDS        NICOBAR  107.3  57.9   65.2  117.0   \n",
       "1  ANDAMAN And NICOBAR ISLANDS  SOUTH ANDAMAN   43.7  26.0   18.6   90.5   \n",
       "2  ANDAMAN And NICOBAR ISLANDS  N & M ANDAMAN   32.7  15.9    8.6   53.4   \n",
       "3            ARUNACHAL PRADESH          LOHIT   42.2  80.8  176.4  358.5   \n",
       "4            ARUNACHAL PRADESH     EAST SIANG   33.3  79.5  105.9  216.5   \n",
       "\n",
       "     MAY    JUN    JUL    AUG    SEP    OCT    NOV    DEC  ANNUAL  Jan-Feb  \\\n",
       "0  358.5  295.5  285.0  271.9  354.8  326.0  315.2  250.9  2805.2    165.2   \n",
       "1  374.4  457.2  421.3  423.1  455.6  301.2  275.8  128.3  3015.7     69.7   \n",
       "2  343.6  503.3  465.4  460.9  454.8  276.1  198.6  100.0  2913.3     48.6   \n",
       "3  306.4  447.0  660.1  427.8  313.6  167.1   34.1   29.8  3043.8    123.0   \n",
       "4  323.0  738.3  990.9  711.2  568.0  206.9   29.5   31.7  4034.7    112.8   \n",
       "\n",
       "   Mar-May  Jun-Sep  Oct-Dec  \n",
       "0    540.7   1207.2    892.1  \n",
       "1    483.5   1757.2    705.3  \n",
       "2    405.6   1884.4    574.7  \n",
       "3    841.3   1848.5    231.0  \n",
       "4    645.4   3008.4    268.1  "
      ]
     },
     "execution_count": 3,
     "metadata": {},
     "output_type": "execute_result"
    }
   ],
   "source": [
    "district_rainfall_data.head()"
   ]
  },
  {
   "cell_type": "code",
   "execution_count": 4,
   "id": "4fa2aa7c",
   "metadata": {
    "execution": {
     "iopub.execute_input": "2023-02-11T11:39:14.189494Z",
     "iopub.status.busy": "2023-02-11T11:39:14.188879Z",
     "iopub.status.idle": "2023-02-11T11:39:14.211924Z",
     "shell.execute_reply": "2023-02-11T11:39:14.210521Z"
    },
    "papermill": {
     "duration": 0.052386,
     "end_time": "2023-02-11T11:39:14.214172",
     "exception": false,
     "start_time": "2023-02-11T11:39:14.161786",
     "status": "completed"
    },
    "tags": []
   },
   "outputs": [
    {
     "data": {
      "text/html": [
       "<div>\n",
       "<style scoped>\n",
       "    .dataframe tbody tr th:only-of-type {\n",
       "        vertical-align: middle;\n",
       "    }\n",
       "\n",
       "    .dataframe tbody tr th {\n",
       "        vertical-align: top;\n",
       "    }\n",
       "\n",
       "    .dataframe thead th {\n",
       "        text-align: right;\n",
       "    }\n",
       "</style>\n",
       "<table border=\"1\" class=\"dataframe\">\n",
       "  <thead>\n",
       "    <tr style=\"text-align: right;\">\n",
       "      <th></th>\n",
       "      <th>SUBDIVISION</th>\n",
       "      <th>YEAR</th>\n",
       "      <th>JAN</th>\n",
       "      <th>FEB</th>\n",
       "      <th>MAR</th>\n",
       "      <th>APR</th>\n",
       "      <th>MAY</th>\n",
       "      <th>JUN</th>\n",
       "      <th>JUL</th>\n",
       "      <th>AUG</th>\n",
       "      <th>SEP</th>\n",
       "      <th>OCT</th>\n",
       "      <th>NOV</th>\n",
       "      <th>DEC</th>\n",
       "      <th>ANNUAL</th>\n",
       "      <th>Jan-Feb</th>\n",
       "      <th>Mar-May</th>\n",
       "      <th>Jun-Sep</th>\n",
       "      <th>Oct-Dec</th>\n",
       "    </tr>\n",
       "  </thead>\n",
       "  <tbody>\n",
       "    <tr>\n",
       "      <th>0</th>\n",
       "      <td>ANDAMAN &amp; NICOBAR ISLANDS</td>\n",
       "      <td>1901</td>\n",
       "      <td>49.2</td>\n",
       "      <td>87.1</td>\n",
       "      <td>29.2</td>\n",
       "      <td>2.3</td>\n",
       "      <td>528.8</td>\n",
       "      <td>517.5</td>\n",
       "      <td>365.1</td>\n",
       "      <td>481.1</td>\n",
       "      <td>332.6</td>\n",
       "      <td>388.5</td>\n",
       "      <td>558.2</td>\n",
       "      <td>33.6</td>\n",
       "      <td>3373.2</td>\n",
       "      <td>136.3</td>\n",
       "      <td>560.3</td>\n",
       "      <td>1696.3</td>\n",
       "      <td>980.3</td>\n",
       "    </tr>\n",
       "    <tr>\n",
       "      <th>1</th>\n",
       "      <td>ANDAMAN &amp; NICOBAR ISLANDS</td>\n",
       "      <td>1902</td>\n",
       "      <td>0.0</td>\n",
       "      <td>159.8</td>\n",
       "      <td>12.2</td>\n",
       "      <td>0.0</td>\n",
       "      <td>446.1</td>\n",
       "      <td>537.1</td>\n",
       "      <td>228.9</td>\n",
       "      <td>753.7</td>\n",
       "      <td>666.2</td>\n",
       "      <td>197.2</td>\n",
       "      <td>359.0</td>\n",
       "      <td>160.5</td>\n",
       "      <td>3520.7</td>\n",
       "      <td>159.8</td>\n",
       "      <td>458.3</td>\n",
       "      <td>2185.9</td>\n",
       "      <td>716.7</td>\n",
       "    </tr>\n",
       "    <tr>\n",
       "      <th>2</th>\n",
       "      <td>ANDAMAN &amp; NICOBAR ISLANDS</td>\n",
       "      <td>1903</td>\n",
       "      <td>12.7</td>\n",
       "      <td>144.0</td>\n",
       "      <td>0.0</td>\n",
       "      <td>1.0</td>\n",
       "      <td>235.1</td>\n",
       "      <td>479.9</td>\n",
       "      <td>728.4</td>\n",
       "      <td>326.7</td>\n",
       "      <td>339.0</td>\n",
       "      <td>181.2</td>\n",
       "      <td>284.4</td>\n",
       "      <td>225.0</td>\n",
       "      <td>2957.4</td>\n",
       "      <td>156.7</td>\n",
       "      <td>236.1</td>\n",
       "      <td>1874.0</td>\n",
       "      <td>690.6</td>\n",
       "    </tr>\n",
       "    <tr>\n",
       "      <th>3</th>\n",
       "      <td>ANDAMAN &amp; NICOBAR ISLANDS</td>\n",
       "      <td>1904</td>\n",
       "      <td>9.4</td>\n",
       "      <td>14.7</td>\n",
       "      <td>0.0</td>\n",
       "      <td>202.4</td>\n",
       "      <td>304.5</td>\n",
       "      <td>495.1</td>\n",
       "      <td>502.0</td>\n",
       "      <td>160.1</td>\n",
       "      <td>820.4</td>\n",
       "      <td>222.2</td>\n",
       "      <td>308.7</td>\n",
       "      <td>40.1</td>\n",
       "      <td>3079.6</td>\n",
       "      <td>24.1</td>\n",
       "      <td>506.9</td>\n",
       "      <td>1977.6</td>\n",
       "      <td>571.0</td>\n",
       "    </tr>\n",
       "    <tr>\n",
       "      <th>4</th>\n",
       "      <td>ANDAMAN &amp; NICOBAR ISLANDS</td>\n",
       "      <td>1905</td>\n",
       "      <td>1.3</td>\n",
       "      <td>0.0</td>\n",
       "      <td>3.3</td>\n",
       "      <td>26.9</td>\n",
       "      <td>279.5</td>\n",
       "      <td>628.7</td>\n",
       "      <td>368.7</td>\n",
       "      <td>330.5</td>\n",
       "      <td>297.0</td>\n",
       "      <td>260.7</td>\n",
       "      <td>25.4</td>\n",
       "      <td>344.7</td>\n",
       "      <td>2566.7</td>\n",
       "      <td>1.3</td>\n",
       "      <td>309.7</td>\n",
       "      <td>1624.9</td>\n",
       "      <td>630.8</td>\n",
       "    </tr>\n",
       "  </tbody>\n",
       "</table>\n",
       "</div>"
      ],
      "text/plain": [
       "                 SUBDIVISION  YEAR   JAN    FEB   MAR    APR    MAY    JUN  \\\n",
       "0  ANDAMAN & NICOBAR ISLANDS  1901  49.2   87.1  29.2    2.3  528.8  517.5   \n",
       "1  ANDAMAN & NICOBAR ISLANDS  1902   0.0  159.8  12.2    0.0  446.1  537.1   \n",
       "2  ANDAMAN & NICOBAR ISLANDS  1903  12.7  144.0   0.0    1.0  235.1  479.9   \n",
       "3  ANDAMAN & NICOBAR ISLANDS  1904   9.4   14.7   0.0  202.4  304.5  495.1   \n",
       "4  ANDAMAN & NICOBAR ISLANDS  1905   1.3    0.0   3.3   26.9  279.5  628.7   \n",
       "\n",
       "     JUL    AUG    SEP    OCT    NOV    DEC  ANNUAL  Jan-Feb  Mar-May  \\\n",
       "0  365.1  481.1  332.6  388.5  558.2   33.6  3373.2    136.3    560.3   \n",
       "1  228.9  753.7  666.2  197.2  359.0  160.5  3520.7    159.8    458.3   \n",
       "2  728.4  326.7  339.0  181.2  284.4  225.0  2957.4    156.7    236.1   \n",
       "3  502.0  160.1  820.4  222.2  308.7   40.1  3079.6     24.1    506.9   \n",
       "4  368.7  330.5  297.0  260.7   25.4  344.7  2566.7      1.3    309.7   \n",
       "\n",
       "   Jun-Sep  Oct-Dec  \n",
       "0   1696.3    980.3  \n",
       "1   2185.9    716.7  \n",
       "2   1874.0    690.6  \n",
       "3   1977.6    571.0  \n",
       "4   1624.9    630.8  "
      ]
     },
     "execution_count": 4,
     "metadata": {},
     "output_type": "execute_result"
    }
   ],
   "source": [
    "india_rainfall_data.head()"
   ]
  },
  {
   "cell_type": "markdown",
   "id": "93741876",
   "metadata": {
    "papermill": {
     "duration": 0.024479,
     "end_time": "2023-02-11T11:39:14.263344",
     "exception": false,
     "start_time": "2023-02-11T11:39:14.238865",
     "status": "completed"
    },
    "tags": []
   },
   "source": [
    "printing all the unique values in the rainfall dataset"
   ]
  },
  {
   "cell_type": "code",
   "execution_count": 5,
   "id": "4cc4999a",
   "metadata": {
    "execution": {
     "iopub.execute_input": "2023-02-11T11:39:14.315661Z",
     "iopub.status.busy": "2023-02-11T11:39:14.315220Z",
     "iopub.status.idle": "2023-02-11T11:39:14.331099Z",
     "shell.execute_reply": "2023-02-11T11:39:14.330336Z"
    },
    "papermill": {
     "duration": 0.045312,
     "end_time": "2023-02-11T11:39:14.333451",
     "exception": false,
     "start_time": "2023-02-11T11:39:14.288139",
     "status": "completed"
    },
    "tags": []
   },
   "outputs": [
    {
     "name": "stdout",
     "output_type": "stream",
     "text": [
      "['ANDAMAN & NICOBAR ISLANDS' 'ARUNACHAL PRADESH' 'ASSAM & MEGHALAYA'\n",
      " 'NAGA MANI MIZO TRIPURA' 'SUB HIMALAYAN WEST BENGAL & SIKKIM'\n",
      " 'GANGETIC WEST BENGAL' 'ORISSA' 'JHARKHAND' 'BIHAR' 'EAST UTTAR PRADESH'\n",
      " 'WEST UTTAR PRADESH' 'UTTARAKHAND' 'HARYANA DELHI & CHANDIGARH' 'PUNJAB'\n",
      " 'HIMACHAL PRADESH' 'JAMMU & KASHMIR' 'WEST RAJASTHAN' 'EAST RAJASTHAN'\n",
      " 'WEST MADHYA PRADESH' 'EAST MADHYA PRADESH' 'GUJARAT REGION'\n",
      " 'SAURASHTRA & KUTCH' 'KONKAN & GOA' 'MADHYA MAHARASHTRA' 'MATATHWADA'\n",
      " 'VIDARBHA' 'CHHATTISGARH' 'COASTAL ANDHRA PRADESH' 'TELANGANA'\n",
      " 'RAYALSEEMA' 'TAMIL NADU' 'COASTAL KARNATAKA' 'NORTH INTERIOR KARNATAKA'\n",
      " 'SOUTH INTERIOR KARNATAKA' 'KERALA' 'LAKSHADWEEP']\n"
     ]
    }
   ],
   "source": [
    "unique_values=india_rainfall_data['SUBDIVISION'].unique()\n",
    "print(unique_values)"
   ]
  },
  {
   "cell_type": "markdown",
   "id": "4cc6aa4d",
   "metadata": {
    "papermill": {
     "duration": 0.025553,
     "end_time": "2023-02-11T11:39:14.383813",
     "exception": false,
     "start_time": "2023-02-11T11:39:14.358260",
     "status": "completed"
    },
    "tags": []
   },
   "source": [
    "checking for null values"
   ]
  },
  {
   "cell_type": "code",
   "execution_count": 6,
   "id": "ef93d829",
   "metadata": {
    "execution": {
     "iopub.execute_input": "2023-02-11T11:39:14.436602Z",
     "iopub.status.busy": "2023-02-11T11:39:14.435657Z",
     "iopub.status.idle": "2023-02-11T11:39:14.441874Z",
     "shell.execute_reply": "2023-02-11T11:39:14.441177Z"
    },
    "papermill": {
     "duration": 0.035389,
     "end_time": "2023-02-11T11:39:14.443801",
     "exception": false,
     "start_time": "2023-02-11T11:39:14.408412",
     "status": "completed"
    },
    "tags": []
   },
   "outputs": [
    {
     "data": {
      "text/plain": [
       "(4116, 19)"
      ]
     },
     "execution_count": 6,
     "metadata": {},
     "output_type": "execute_result"
    }
   ],
   "source": [
    "india_rainfall_data.shape"
   ]
  },
  {
   "cell_type": "markdown",
   "id": "3bef04ba",
   "metadata": {
    "papermill": {
     "duration": 0.024388,
     "end_time": "2023-02-11T11:39:14.493261",
     "exception": false,
     "start_time": "2023-02-11T11:39:14.468873",
     "status": "completed"
    },
    "tags": []
   },
   "source": [
    "checking total null values"
   ]
  },
  {
   "cell_type": "code",
   "execution_count": 7,
   "id": "d92d41e3",
   "metadata": {
    "execution": {
     "iopub.execute_input": "2023-02-11T11:39:14.544408Z",
     "iopub.status.busy": "2023-02-11T11:39:14.543963Z",
     "iopub.status.idle": "2023-02-11T11:39:14.552915Z",
     "shell.execute_reply": "2023-02-11T11:39:14.552003Z"
    },
    "papermill": {
     "duration": 0.037167,
     "end_time": "2023-02-11T11:39:14.555217",
     "exception": false,
     "start_time": "2023-02-11T11:39:14.518050",
     "status": "completed"
    },
    "tags": []
   },
   "outputs": [
    {
     "data": {
      "text/plain": [
       "134"
      ]
     },
     "execution_count": 7,
     "metadata": {},
     "output_type": "execute_result"
    }
   ],
   "source": [
    "india_rainfall_data.isnull().sum().sum()"
   ]
  },
  {
   "cell_type": "markdown",
   "id": "11874c89",
   "metadata": {
    "papermill": {
     "duration": 0.025469,
     "end_time": "2023-02-11T11:39:14.606003",
     "exception": false,
     "start_time": "2023-02-11T11:39:14.580534",
     "status": "completed"
    },
    "tags": []
   },
   "source": [
    "checking the columns that have said null values"
   ]
  },
  {
   "cell_type": "code",
   "execution_count": 8,
   "id": "72dd68d7",
   "metadata": {
    "execution": {
     "iopub.execute_input": "2023-02-11T11:39:14.659175Z",
     "iopub.status.busy": "2023-02-11T11:39:14.658426Z",
     "iopub.status.idle": "2023-02-11T11:39:14.667980Z",
     "shell.execute_reply": "2023-02-11T11:39:14.666801Z"
    },
    "papermill": {
     "duration": 0.038191,
     "end_time": "2023-02-11T11:39:14.669821",
     "exception": false,
     "start_time": "2023-02-11T11:39:14.631630",
     "status": "completed"
    },
    "tags": []
   },
   "outputs": [
    {
     "data": {
      "text/plain": [
       "SUBDIVISION     0\n",
       "YEAR            0\n",
       "JAN             4\n",
       "FEB             3\n",
       "MAR             6\n",
       "APR             4\n",
       "MAY             3\n",
       "JUN             5\n",
       "JUL             7\n",
       "AUG             4\n",
       "SEP             6\n",
       "OCT             7\n",
       "NOV            11\n",
       "DEC            10\n",
       "ANNUAL         26\n",
       "Jan-Feb         6\n",
       "Mar-May         9\n",
       "Jun-Sep        10\n",
       "Oct-Dec        13\n",
       "dtype: int64"
      ]
     },
     "execution_count": 8,
     "metadata": {},
     "output_type": "execute_result"
    }
   ],
   "source": [
    "missing_values_count=india_rainfall_data.isnull().sum()\n",
    "missing_values_count"
   ]
  },
  {
   "cell_type": "markdown",
   "id": "1373501a",
   "metadata": {
    "papermill": {
     "duration": 0.025271,
     "end_time": "2023-02-11T11:39:14.722042",
     "exception": false,
     "start_time": "2023-02-11T11:39:14.696771",
     "status": "completed"
    },
    "tags": []
   },
   "source": [
    "check percentage of null values"
   ]
  },
  {
   "cell_type": "code",
   "execution_count": 9,
   "id": "ff6c20f3",
   "metadata": {
    "execution": {
     "iopub.execute_input": "2023-02-11T11:39:14.774994Z",
     "iopub.status.busy": "2023-02-11T11:39:14.774220Z",
     "iopub.status.idle": "2023-02-11T11:39:14.780147Z",
     "shell.execute_reply": "2023-02-11T11:39:14.779247Z"
    },
    "papermill": {
     "duration": 0.03532,
     "end_time": "2023-02-11T11:39:14.782514",
     "exception": false,
     "start_time": "2023-02-11T11:39:14.747194",
     "status": "completed"
    },
    "tags": []
   },
   "outputs": [
    {
     "name": "stdout",
     "output_type": "stream",
     "text": [
      "0.17134673418239477\n"
     ]
    }
   ],
   "source": [
    "total_cells = np.product(india_rainfall_data.shape)\n",
    "total_missing = missing_values_count.sum()\n",
    "\n",
    "# percent of data that is missing\n",
    "percent_missing = (total_missing/total_cells) * 100\n",
    "print(percent_missing)"
   ]
  },
  {
   "cell_type": "markdown",
   "id": "a8d3841c",
   "metadata": {
    "papermill": {
     "duration": 0.024889,
     "end_time": "2023-02-11T11:39:14.833031",
     "exception": false,
     "start_time": "2023-02-11T11:39:14.808142",
     "status": "completed"
    },
    "tags": []
   },
   "source": [
    "removing all the na values"
   ]
  },
  {
   "cell_type": "code",
   "execution_count": 10,
   "id": "0d60fc43",
   "metadata": {
    "execution": {
     "iopub.execute_input": "2023-02-11T11:39:14.885066Z",
     "iopub.status.busy": "2023-02-11T11:39:14.884379Z",
     "iopub.status.idle": "2023-02-11T11:39:14.898047Z",
     "shell.execute_reply": "2023-02-11T11:39:14.897297Z"
    },
    "papermill": {
     "duration": 0.042246,
     "end_time": "2023-02-11T11:39:14.900139",
     "exception": false,
     "start_time": "2023-02-11T11:39:14.857893",
     "status": "completed"
    },
    "tags": []
   },
   "outputs": [
    {
     "data": {
      "text/plain": [
       "0"
      ]
     },
     "execution_count": 10,
     "metadata": {},
     "output_type": "execute_result"
    }
   ],
   "source": [
    "rainfall_india_clean=india_rainfall_data.dropna()\n",
    "rainfall_india_clean.isnull().sum().sum()"
   ]
  },
  {
   "cell_type": "markdown",
   "id": "a3e09f99",
   "metadata": {
    "papermill": {
     "duration": 0.025083,
     "end_time": "2023-02-11T11:39:14.950772",
     "exception": false,
     "start_time": "2023-02-11T11:39:14.925689",
     "status": "completed"
    },
    "tags": []
   },
   "source": [
    "checking Nan values"
   ]
  },
  {
   "cell_type": "code",
   "execution_count": 11,
   "id": "8e65ebe8",
   "metadata": {
    "execution": {
     "iopub.execute_input": "2023-02-11T11:39:15.003302Z",
     "iopub.status.busy": "2023-02-11T11:39:15.002908Z",
     "iopub.status.idle": "2023-02-11T11:39:15.011062Z",
     "shell.execute_reply": "2023-02-11T11:39:15.010283Z"
    },
    "papermill": {
     "duration": 0.037042,
     "end_time": "2023-02-11T11:39:15.013132",
     "exception": false,
     "start_time": "2023-02-11T11:39:14.976090",
     "status": "completed"
    },
    "tags": []
   },
   "outputs": [
    {
     "data": {
      "text/plain": [
       "0"
      ]
     },
     "execution_count": 11,
     "metadata": {},
     "output_type": "execute_result"
    }
   ],
   "source": [
    "rainfall_india_clean.isna().sum().sum()"
   ]
  },
  {
   "cell_type": "markdown",
   "id": "57dc23a5",
   "metadata": {
    "papermill": {
     "duration": 0.02487,
     "end_time": "2023-02-11T11:39:15.063542",
     "exception": false,
     "start_time": "2023-02-11T11:39:15.038672",
     "status": "completed"
    },
    "tags": []
   },
   "source": [
    "viewing the final rainfall clean dataset"
   ]
  },
  {
   "cell_type": "code",
   "execution_count": 12,
   "id": "355a5acd",
   "metadata": {
    "execution": {
     "iopub.execute_input": "2023-02-11T11:39:15.115615Z",
     "iopub.status.busy": "2023-02-11T11:39:15.115240Z",
     "iopub.status.idle": "2023-02-11T11:39:15.138459Z",
     "shell.execute_reply": "2023-02-11T11:39:15.137480Z"
    },
    "papermill": {
     "duration": 0.052798,
     "end_time": "2023-02-11T11:39:15.141441",
     "exception": false,
     "start_time": "2023-02-11T11:39:15.088643",
     "status": "completed"
    },
    "tags": []
   },
   "outputs": [
    {
     "data": {
      "text/html": [
       "<div>\n",
       "<style scoped>\n",
       "    .dataframe tbody tr th:only-of-type {\n",
       "        vertical-align: middle;\n",
       "    }\n",
       "\n",
       "    .dataframe tbody tr th {\n",
       "        vertical-align: top;\n",
       "    }\n",
       "\n",
       "    .dataframe thead th {\n",
       "        text-align: right;\n",
       "    }\n",
       "</style>\n",
       "<table border=\"1\" class=\"dataframe\">\n",
       "  <thead>\n",
       "    <tr style=\"text-align: right;\">\n",
       "      <th></th>\n",
       "      <th>SUBDIVISION</th>\n",
       "      <th>YEAR</th>\n",
       "      <th>JAN</th>\n",
       "      <th>FEB</th>\n",
       "      <th>MAR</th>\n",
       "      <th>APR</th>\n",
       "      <th>MAY</th>\n",
       "      <th>JUN</th>\n",
       "      <th>JUL</th>\n",
       "      <th>AUG</th>\n",
       "      <th>SEP</th>\n",
       "      <th>OCT</th>\n",
       "      <th>NOV</th>\n",
       "      <th>DEC</th>\n",
       "      <th>ANNUAL</th>\n",
       "      <th>Jan-Feb</th>\n",
       "      <th>Mar-May</th>\n",
       "      <th>Jun-Sep</th>\n",
       "      <th>Oct-Dec</th>\n",
       "    </tr>\n",
       "  </thead>\n",
       "  <tbody>\n",
       "    <tr>\n",
       "      <th>0</th>\n",
       "      <td>ANDAMAN &amp; NICOBAR ISLANDS</td>\n",
       "      <td>1901</td>\n",
       "      <td>49.2</td>\n",
       "      <td>87.1</td>\n",
       "      <td>29.2</td>\n",
       "      <td>2.3</td>\n",
       "      <td>528.8</td>\n",
       "      <td>517.5</td>\n",
       "      <td>365.1</td>\n",
       "      <td>481.1</td>\n",
       "      <td>332.6</td>\n",
       "      <td>388.5</td>\n",
       "      <td>558.2</td>\n",
       "      <td>33.6</td>\n",
       "      <td>3373.2</td>\n",
       "      <td>136.3</td>\n",
       "      <td>560.3</td>\n",
       "      <td>1696.3</td>\n",
       "      <td>980.3</td>\n",
       "    </tr>\n",
       "    <tr>\n",
       "      <th>1</th>\n",
       "      <td>ANDAMAN &amp; NICOBAR ISLANDS</td>\n",
       "      <td>1902</td>\n",
       "      <td>0.0</td>\n",
       "      <td>159.8</td>\n",
       "      <td>12.2</td>\n",
       "      <td>0.0</td>\n",
       "      <td>446.1</td>\n",
       "      <td>537.1</td>\n",
       "      <td>228.9</td>\n",
       "      <td>753.7</td>\n",
       "      <td>666.2</td>\n",
       "      <td>197.2</td>\n",
       "      <td>359.0</td>\n",
       "      <td>160.5</td>\n",
       "      <td>3520.7</td>\n",
       "      <td>159.8</td>\n",
       "      <td>458.3</td>\n",
       "      <td>2185.9</td>\n",
       "      <td>716.7</td>\n",
       "    </tr>\n",
       "    <tr>\n",
       "      <th>2</th>\n",
       "      <td>ANDAMAN &amp; NICOBAR ISLANDS</td>\n",
       "      <td>1903</td>\n",
       "      <td>12.7</td>\n",
       "      <td>144.0</td>\n",
       "      <td>0.0</td>\n",
       "      <td>1.0</td>\n",
       "      <td>235.1</td>\n",
       "      <td>479.9</td>\n",
       "      <td>728.4</td>\n",
       "      <td>326.7</td>\n",
       "      <td>339.0</td>\n",
       "      <td>181.2</td>\n",
       "      <td>284.4</td>\n",
       "      <td>225.0</td>\n",
       "      <td>2957.4</td>\n",
       "      <td>156.7</td>\n",
       "      <td>236.1</td>\n",
       "      <td>1874.0</td>\n",
       "      <td>690.6</td>\n",
       "    </tr>\n",
       "    <tr>\n",
       "      <th>3</th>\n",
       "      <td>ANDAMAN &amp; NICOBAR ISLANDS</td>\n",
       "      <td>1904</td>\n",
       "      <td>9.4</td>\n",
       "      <td>14.7</td>\n",
       "      <td>0.0</td>\n",
       "      <td>202.4</td>\n",
       "      <td>304.5</td>\n",
       "      <td>495.1</td>\n",
       "      <td>502.0</td>\n",
       "      <td>160.1</td>\n",
       "      <td>820.4</td>\n",
       "      <td>222.2</td>\n",
       "      <td>308.7</td>\n",
       "      <td>40.1</td>\n",
       "      <td>3079.6</td>\n",
       "      <td>24.1</td>\n",
       "      <td>506.9</td>\n",
       "      <td>1977.6</td>\n",
       "      <td>571.0</td>\n",
       "    </tr>\n",
       "    <tr>\n",
       "      <th>4</th>\n",
       "      <td>ANDAMAN &amp; NICOBAR ISLANDS</td>\n",
       "      <td>1905</td>\n",
       "      <td>1.3</td>\n",
       "      <td>0.0</td>\n",
       "      <td>3.3</td>\n",
       "      <td>26.9</td>\n",
       "      <td>279.5</td>\n",
       "      <td>628.7</td>\n",
       "      <td>368.7</td>\n",
       "      <td>330.5</td>\n",
       "      <td>297.0</td>\n",
       "      <td>260.7</td>\n",
       "      <td>25.4</td>\n",
       "      <td>344.7</td>\n",
       "      <td>2566.7</td>\n",
       "      <td>1.3</td>\n",
       "      <td>309.7</td>\n",
       "      <td>1624.9</td>\n",
       "      <td>630.8</td>\n",
       "    </tr>\n",
       "  </tbody>\n",
       "</table>\n",
       "</div>"
      ],
      "text/plain": [
       "                 SUBDIVISION  YEAR   JAN    FEB   MAR    APR    MAY    JUN  \\\n",
       "0  ANDAMAN & NICOBAR ISLANDS  1901  49.2   87.1  29.2    2.3  528.8  517.5   \n",
       "1  ANDAMAN & NICOBAR ISLANDS  1902   0.0  159.8  12.2    0.0  446.1  537.1   \n",
       "2  ANDAMAN & NICOBAR ISLANDS  1903  12.7  144.0   0.0    1.0  235.1  479.9   \n",
       "3  ANDAMAN & NICOBAR ISLANDS  1904   9.4   14.7   0.0  202.4  304.5  495.1   \n",
       "4  ANDAMAN & NICOBAR ISLANDS  1905   1.3    0.0   3.3   26.9  279.5  628.7   \n",
       "\n",
       "     JUL    AUG    SEP    OCT    NOV    DEC  ANNUAL  Jan-Feb  Mar-May  \\\n",
       "0  365.1  481.1  332.6  388.5  558.2   33.6  3373.2    136.3    560.3   \n",
       "1  228.9  753.7  666.2  197.2  359.0  160.5  3520.7    159.8    458.3   \n",
       "2  728.4  326.7  339.0  181.2  284.4  225.0  2957.4    156.7    236.1   \n",
       "3  502.0  160.1  820.4  222.2  308.7   40.1  3079.6     24.1    506.9   \n",
       "4  368.7  330.5  297.0  260.7   25.4  344.7  2566.7      1.3    309.7   \n",
       "\n",
       "   Jun-Sep  Oct-Dec  \n",
       "0   1696.3    980.3  \n",
       "1   2185.9    716.7  \n",
       "2   1874.0    690.6  \n",
       "3   1977.6    571.0  \n",
       "4   1624.9    630.8  "
      ]
     },
     "execution_count": 12,
     "metadata": {},
     "output_type": "execute_result"
    }
   ],
   "source": [
    "rainfall_india_clean.head()"
   ]
  },
  {
   "cell_type": "markdown",
   "id": "7846ad8e",
   "metadata": {
    "papermill": {
     "duration": 0.027859,
     "end_time": "2023-02-11T11:39:15.195248",
     "exception": false,
     "start_time": "2023-02-11T11:39:15.167389",
     "status": "completed"
    },
    "tags": []
   },
   "source": [
    "checking for null values in the district rainfall dataset"
   ]
  },
  {
   "cell_type": "code",
   "execution_count": 13,
   "id": "5fb2d84e",
   "metadata": {
    "execution": {
     "iopub.execute_input": "2023-02-11T11:39:15.248501Z",
     "iopub.status.busy": "2023-02-11T11:39:15.247853Z",
     "iopub.status.idle": "2023-02-11T11:39:15.254663Z",
     "shell.execute_reply": "2023-02-11T11:39:15.254064Z"
    },
    "papermill": {
     "duration": 0.035222,
     "end_time": "2023-02-11T11:39:15.256396",
     "exception": false,
     "start_time": "2023-02-11T11:39:15.221174",
     "status": "completed"
    },
    "tags": []
   },
   "outputs": [
    {
     "data": {
      "text/plain": [
       "0"
      ]
     },
     "execution_count": 13,
     "metadata": {},
     "output_type": "execute_result"
    }
   ],
   "source": [
    "district_rainfall_data.isnull().sum().sum()"
   ]
  },
  {
   "cell_type": "markdown",
   "id": "8a389a53",
   "metadata": {
    "papermill": {
     "duration": 0.025263,
     "end_time": "2023-02-11T11:39:15.307450",
     "exception": false,
     "start_time": "2023-02-11T11:39:15.282187",
     "status": "completed"
    },
    "tags": []
   },
   "source": [
    "checking NaN values in"
   ]
  },
  {
   "cell_type": "code",
   "execution_count": 14,
   "id": "ed40c05f",
   "metadata": {
    "execution": {
     "iopub.execute_input": "2023-02-11T11:39:15.360967Z",
     "iopub.status.busy": "2023-02-11T11:39:15.360184Z",
     "iopub.status.idle": "2023-02-11T11:39:15.368069Z",
     "shell.execute_reply": "2023-02-11T11:39:15.366816Z"
    },
    "papermill": {
     "duration": 0.03769,
     "end_time": "2023-02-11T11:39:15.370849",
     "exception": false,
     "start_time": "2023-02-11T11:39:15.333159",
     "status": "completed"
    },
    "tags": []
   },
   "outputs": [
    {
     "data": {
      "text/plain": [
       "0"
      ]
     },
     "execution_count": 14,
     "metadata": {},
     "output_type": "execute_result"
    }
   ],
   "source": [
    "district_rainfall_data.isna().sum().sum()"
   ]
  },
  {
   "cell_type": "markdown",
   "id": "087dc5ed",
   "metadata": {
    "papermill": {
     "duration": 0.025473,
     "end_time": "2023-02-11T11:39:15.423293",
     "exception": false,
     "start_time": "2023-02-11T11:39:15.397820",
     "status": "completed"
    },
    "tags": []
   },
   "source": [
    "importing the crop recommendation data"
   ]
  },
  {
   "cell_type": "code",
   "execution_count": 15,
   "id": "6e9d859f",
   "metadata": {
    "execution": {
     "iopub.execute_input": "2023-02-11T11:39:15.476730Z",
     "iopub.status.busy": "2023-02-11T11:39:15.476286Z",
     "iopub.status.idle": "2023-02-11T11:39:15.492856Z",
     "shell.execute_reply": "2023-02-11T11:39:15.492167Z"
    },
    "papermill": {
     "duration": 0.045437,
     "end_time": "2023-02-11T11:39:15.494440",
     "exception": false,
     "start_time": "2023-02-11T11:39:15.449003",
     "status": "completed"
    },
    "tags": []
   },
   "outputs": [
    {
     "data": {
      "text/plain": [
       "0"
      ]
     },
     "execution_count": 15,
     "metadata": {},
     "output_type": "execute_result"
    }
   ],
   "source": [
    "recommendation_data=pd.read_csv('/kaggle/input/crop-recommendation-dataset/Crop_recommendation.csv')\n",
    "recommendation_data.isnull().sum().sum()"
   ]
  },
  {
   "cell_type": "markdown",
   "id": "05a0c2d4",
   "metadata": {
    "papermill": {
     "duration": 0.024814,
     "end_time": "2023-02-11T11:39:15.544437",
     "exception": false,
     "start_time": "2023-02-11T11:39:15.519623",
     "status": "completed"
    },
    "tags": []
   },
   "source": [
    "checking for null values"
   ]
  },
  {
   "cell_type": "code",
   "execution_count": 16,
   "id": "440b30c5",
   "metadata": {
    "execution": {
     "iopub.execute_input": "2023-02-11T11:39:15.596475Z",
     "iopub.status.busy": "2023-02-11T11:39:15.596008Z",
     "iopub.status.idle": "2023-02-11T11:39:15.604210Z",
     "shell.execute_reply": "2023-02-11T11:39:15.603032Z"
    },
    "papermill": {
     "duration": 0.037366,
     "end_time": "2023-02-11T11:39:15.606970",
     "exception": false,
     "start_time": "2023-02-11T11:39:15.569604",
     "status": "completed"
    },
    "tags": []
   },
   "outputs": [
    {
     "data": {
      "text/plain": [
       "0"
      ]
     },
     "execution_count": 16,
     "metadata": {},
     "output_type": "execute_result"
    }
   ],
   "source": [
    "recommendation_data.isna().sum().sum()"
   ]
  },
  {
   "cell_type": "code",
   "execution_count": 17,
   "id": "ea4835c3",
   "metadata": {
    "execution": {
     "iopub.execute_input": "2023-02-11T11:39:15.661057Z",
     "iopub.status.busy": "2023-02-11T11:39:15.660330Z",
     "iopub.status.idle": "2023-02-11T11:39:15.686142Z",
     "shell.execute_reply": "2023-02-11T11:39:15.685408Z"
    },
    "papermill": {
     "duration": 0.05503,
     "end_time": "2023-02-11T11:39:15.688270",
     "exception": false,
     "start_time": "2023-02-11T11:39:15.633240",
     "status": "completed"
    },
    "tags": []
   },
   "outputs": [
    {
     "data": {
      "text/html": [
       "<div>\n",
       "<style scoped>\n",
       "    .dataframe tbody tr th:only-of-type {\n",
       "        vertical-align: middle;\n",
       "    }\n",
       "\n",
       "    .dataframe tbody tr th {\n",
       "        vertical-align: top;\n",
       "    }\n",
       "\n",
       "    .dataframe thead th {\n",
       "        text-align: right;\n",
       "    }\n",
       "</style>\n",
       "<table border=\"1\" class=\"dataframe\">\n",
       "  <thead>\n",
       "    <tr style=\"text-align: right;\">\n",
       "      <th></th>\n",
       "      <th>state</th>\n",
       "      <th>district</th>\n",
       "      <th>market</th>\n",
       "      <th>commodity</th>\n",
       "      <th>variety</th>\n",
       "      <th>arrival_date</th>\n",
       "      <th>min_price</th>\n",
       "      <th>max_price</th>\n",
       "      <th>modal_price</th>\n",
       "    </tr>\n",
       "  </thead>\n",
       "  <tbody>\n",
       "    <tr>\n",
       "      <th>0</th>\n",
       "      <td>Andaman and Nicobar</td>\n",
       "      <td>South Andaman</td>\n",
       "      <td>Port Blair</td>\n",
       "      <td>Amaranthus</td>\n",
       "      <td>Amaranthus</td>\n",
       "      <td>04/03/2019</td>\n",
       "      <td>6000</td>\n",
       "      <td>8000</td>\n",
       "      <td>7000</td>\n",
       "    </tr>\n",
       "    <tr>\n",
       "      <th>1</th>\n",
       "      <td>Andaman and Nicobar</td>\n",
       "      <td>South Andaman</td>\n",
       "      <td>Port Blair</td>\n",
       "      <td>Banana - Green</td>\n",
       "      <td>Banana - Green</td>\n",
       "      <td>04/03/2019</td>\n",
       "      <td>4500</td>\n",
       "      <td>5500</td>\n",
       "      <td>5000</td>\n",
       "    </tr>\n",
       "    <tr>\n",
       "      <th>2</th>\n",
       "      <td>Andaman and Nicobar</td>\n",
       "      <td>South Andaman</td>\n",
       "      <td>Port Blair</td>\n",
       "      <td>Bhindi(Ladies Finger)</td>\n",
       "      <td>Bhindi</td>\n",
       "      <td>04/03/2019</td>\n",
       "      <td>6000</td>\n",
       "      <td>8000</td>\n",
       "      <td>7000</td>\n",
       "    </tr>\n",
       "    <tr>\n",
       "      <th>3</th>\n",
       "      <td>Andaman and Nicobar</td>\n",
       "      <td>South Andaman</td>\n",
       "      <td>Port Blair</td>\n",
       "      <td>Bitter gourd</td>\n",
       "      <td>Other</td>\n",
       "      <td>04/03/2019</td>\n",
       "      <td>6000</td>\n",
       "      <td>8000</td>\n",
       "      <td>7000</td>\n",
       "    </tr>\n",
       "    <tr>\n",
       "      <th>4</th>\n",
       "      <td>Andaman and Nicobar</td>\n",
       "      <td>South Andaman</td>\n",
       "      <td>Port Blair</td>\n",
       "      <td>Black pepper</td>\n",
       "      <td>Other</td>\n",
       "      <td>04/03/2019</td>\n",
       "      <td>110000</td>\n",
       "      <td>130000</td>\n",
       "      <td>120000</td>\n",
       "    </tr>\n",
       "  </tbody>\n",
       "</table>\n",
       "</div>"
      ],
      "text/plain": [
       "                 state       district      market              commodity  \\\n",
       "0  Andaman and Nicobar  South Andaman  Port Blair             Amaranthus   \n",
       "1  Andaman and Nicobar  South Andaman  Port Blair         Banana - Green   \n",
       "2  Andaman and Nicobar  South Andaman  Port Blair  Bhindi(Ladies Finger)   \n",
       "3  Andaman and Nicobar  South Andaman  Port Blair           Bitter gourd   \n",
       "4  Andaman and Nicobar  South Andaman  Port Blair           Black pepper   \n",
       "\n",
       "          variety arrival_date  min_price  max_price  modal_price  \n",
       "0      Amaranthus   04/03/2019       6000       8000         7000  \n",
       "1  Banana - Green   04/03/2019       4500       5500         5000  \n",
       "2          Bhindi   04/03/2019       6000       8000         7000  \n",
       "3           Other   04/03/2019       6000       8000         7000  \n",
       "4           Other   04/03/2019     110000     130000       120000  "
      ]
     },
     "execution_count": 17,
     "metadata": {},
     "output_type": "execute_result"
    }
   ],
   "source": [
    "agriculture_related_data=pd.read_csv('/kaggle/input/all-agriculture-related-datasets-for-india/csv')\n",
    "agriculture_related_data.head()"
   ]
  },
  {
   "cell_type": "code",
   "execution_count": 18,
   "id": "7e993a4c",
   "metadata": {
    "execution": {
     "iopub.execute_input": "2023-02-11T11:39:15.743956Z",
     "iopub.status.busy": "2023-02-11T11:39:15.743268Z",
     "iopub.status.idle": "2023-02-11T11:39:15.748408Z",
     "shell.execute_reply": "2023-02-11T11:39:15.747750Z"
    },
    "papermill": {
     "duration": 0.03587,
     "end_time": "2023-02-11T11:39:15.750868",
     "exception": false,
     "start_time": "2023-02-11T11:39:15.714998",
     "status": "completed"
    },
    "tags": []
   },
   "outputs": [
    {
     "data": {
      "text/plain": [
       "(2238, 9)"
      ]
     },
     "execution_count": 18,
     "metadata": {},
     "output_type": "execute_result"
    }
   ],
   "source": [
    "agriculture_related_data.shape"
   ]
  },
  {
   "cell_type": "code",
   "execution_count": 19,
   "id": "4a44b42a",
   "metadata": {
    "execution": {
     "iopub.execute_input": "2023-02-11T11:39:15.808276Z",
     "iopub.status.busy": "2023-02-11T11:39:15.807611Z",
     "iopub.status.idle": "2023-02-11T11:39:15.813237Z",
     "shell.execute_reply": "2023-02-11T11:39:15.812592Z"
    },
    "papermill": {
     "duration": 0.03701,
     "end_time": "2023-02-11T11:39:15.814930",
     "exception": false,
     "start_time": "2023-02-11T11:39:15.777920",
     "status": "completed"
    },
    "tags": []
   },
   "outputs": [
    {
     "data": {
      "text/plain": [
       "Index(['state', 'district', 'market', 'commodity', 'variety', 'arrival_date',\n",
       "       'min_price', 'max_price', 'modal_price'],\n",
       "      dtype='object')"
      ]
     },
     "execution_count": 19,
     "metadata": {},
     "output_type": "execute_result"
    }
   ],
   "source": [
    "agriculture_related_data.columns"
   ]
  },
  {
   "cell_type": "code",
   "execution_count": 20,
   "id": "7912405d",
   "metadata": {
    "execution": {
     "iopub.execute_input": "2023-02-11T11:39:15.869670Z",
     "iopub.status.busy": "2023-02-11T11:39:15.869041Z",
     "iopub.status.idle": "2023-02-11T11:39:15.876403Z",
     "shell.execute_reply": "2023-02-11T11:39:15.875701Z"
    },
    "papermill": {
     "duration": 0.03681,
     "end_time": "2023-02-11T11:39:15.878052",
     "exception": false,
     "start_time": "2023-02-11T11:39:15.841242",
     "status": "completed"
    },
    "tags": []
   },
   "outputs": [
    {
     "data": {
      "text/plain": [
       "0"
      ]
     },
     "execution_count": 20,
     "metadata": {},
     "output_type": "execute_result"
    }
   ],
   "source": [
    "agriculture_related_data.isnull().sum().sum()"
   ]
  },
  {
   "cell_type": "code",
   "execution_count": 21,
   "id": "7ed39518",
   "metadata": {
    "execution": {
     "iopub.execute_input": "2023-02-11T11:39:15.931918Z",
     "iopub.status.busy": "2023-02-11T11:39:15.931500Z",
     "iopub.status.idle": "2023-02-11T11:39:15.939500Z",
     "shell.execute_reply": "2023-02-11T11:39:15.938164Z"
    },
    "papermill": {
     "duration": 0.037071,
     "end_time": "2023-02-11T11:39:15.941295",
     "exception": false,
     "start_time": "2023-02-11T11:39:15.904224",
     "status": "completed"
    },
    "tags": []
   },
   "outputs": [
    {
     "data": {
      "text/plain": [
       "0"
      ]
     },
     "execution_count": 21,
     "metadata": {},
     "output_type": "execute_result"
    }
   ],
   "source": [
    "agriculture_related_data.isna().sum().sum()"
   ]
  },
  {
   "cell_type": "code",
   "execution_count": 22,
   "id": "354f91b4",
   "metadata": {
    "execution": {
     "iopub.execute_input": "2023-02-11T11:39:15.994758Z",
     "iopub.status.busy": "2023-02-11T11:39:15.993664Z",
     "iopub.status.idle": "2023-02-11T11:39:16.007424Z",
     "shell.execute_reply": "2023-02-11T11:39:16.006525Z"
    },
    "papermill": {
     "duration": 0.042646,
     "end_time": "2023-02-11T11:39:16.009598",
     "exception": false,
     "start_time": "2023-02-11T11:39:15.966952",
     "status": "completed"
    },
    "tags": []
   },
   "outputs": [
    {
     "data": {
      "text/html": [
       "<div>\n",
       "<style scoped>\n",
       "    .dataframe tbody tr th:only-of-type {\n",
       "        vertical-align: middle;\n",
       "    }\n",
       "\n",
       "    .dataframe tbody tr th {\n",
       "        vertical-align: top;\n",
       "    }\n",
       "\n",
       "    .dataframe thead th {\n",
       "        text-align: right;\n",
       "    }\n",
       "</style>\n",
       "<table border=\"1\" class=\"dataframe\">\n",
       "  <thead>\n",
       "    <tr style=\"text-align: right;\">\n",
       "      <th></th>\n",
       "      <th>state</th>\n",
       "      <th>district</th>\n",
       "      <th>market</th>\n",
       "      <th>commodity</th>\n",
       "      <th>variety</th>\n",
       "      <th>arrival_date</th>\n",
       "      <th>min_price</th>\n",
       "      <th>max_price</th>\n",
       "      <th>modal_price</th>\n",
       "    </tr>\n",
       "  </thead>\n",
       "  <tbody>\n",
       "    <tr>\n",
       "      <th>0</th>\n",
       "      <td>Andaman and Nicobar</td>\n",
       "      <td>South Andaman</td>\n",
       "      <td>Port Blair</td>\n",
       "      <td>Amaranthus</td>\n",
       "      <td>Amaranthus</td>\n",
       "      <td>04/03/2019</td>\n",
       "      <td>6000</td>\n",
       "      <td>8000</td>\n",
       "      <td>7000</td>\n",
       "    </tr>\n",
       "    <tr>\n",
       "      <th>1</th>\n",
       "      <td>Andaman and Nicobar</td>\n",
       "      <td>South Andaman</td>\n",
       "      <td>Port Blair</td>\n",
       "      <td>Banana - Green</td>\n",
       "      <td>Banana - Green</td>\n",
       "      <td>04/03/2019</td>\n",
       "      <td>4500</td>\n",
       "      <td>5500</td>\n",
       "      <td>5000</td>\n",
       "    </tr>\n",
       "    <tr>\n",
       "      <th>2</th>\n",
       "      <td>Andaman and Nicobar</td>\n",
       "      <td>South Andaman</td>\n",
       "      <td>Port Blair</td>\n",
       "      <td>Bhindi(Ladies Finger)</td>\n",
       "      <td>Bhindi</td>\n",
       "      <td>04/03/2019</td>\n",
       "      <td>6000</td>\n",
       "      <td>8000</td>\n",
       "      <td>7000</td>\n",
       "    </tr>\n",
       "    <tr>\n",
       "      <th>3</th>\n",
       "      <td>Andaman and Nicobar</td>\n",
       "      <td>South Andaman</td>\n",
       "      <td>Port Blair</td>\n",
       "      <td>Bitter gourd</td>\n",
       "      <td>Other</td>\n",
       "      <td>04/03/2019</td>\n",
       "      <td>6000</td>\n",
       "      <td>8000</td>\n",
       "      <td>7000</td>\n",
       "    </tr>\n",
       "    <tr>\n",
       "      <th>4</th>\n",
       "      <td>Andaman and Nicobar</td>\n",
       "      <td>South Andaman</td>\n",
       "      <td>Port Blair</td>\n",
       "      <td>Black pepper</td>\n",
       "      <td>Other</td>\n",
       "      <td>04/03/2019</td>\n",
       "      <td>110000</td>\n",
       "      <td>130000</td>\n",
       "      <td>120000</td>\n",
       "    </tr>\n",
       "  </tbody>\n",
       "</table>\n",
       "</div>"
      ],
      "text/plain": [
       "                 state       district      market              commodity  \\\n",
       "0  Andaman and Nicobar  South Andaman  Port Blair             Amaranthus   \n",
       "1  Andaman and Nicobar  South Andaman  Port Blair         Banana - Green   \n",
       "2  Andaman and Nicobar  South Andaman  Port Blair  Bhindi(Ladies Finger)   \n",
       "3  Andaman and Nicobar  South Andaman  Port Blair           Bitter gourd   \n",
       "4  Andaman and Nicobar  South Andaman  Port Blair           Black pepper   \n",
       "\n",
       "          variety arrival_date  min_price  max_price  modal_price  \n",
       "0      Amaranthus   04/03/2019       6000       8000         7000  \n",
       "1  Banana - Green   04/03/2019       4500       5500         5000  \n",
       "2          Bhindi   04/03/2019       6000       8000         7000  \n",
       "3           Other   04/03/2019       6000       8000         7000  \n",
       "4           Other   04/03/2019     110000     130000       120000  "
      ]
     },
     "execution_count": 22,
     "metadata": {},
     "output_type": "execute_result"
    }
   ],
   "source": [
    "agriculture_related_data.head()"
   ]
  },
  {
   "cell_type": "code",
   "execution_count": 23,
   "id": "87de84e7",
   "metadata": {
    "_kg_hide-output": true,
    "execution": {
     "iopub.execute_input": "2023-02-11T11:39:16.066065Z",
     "iopub.status.busy": "2023-02-11T11:39:16.065405Z",
     "iopub.status.idle": "2023-02-11T11:39:16.072461Z",
     "shell.execute_reply": "2023-02-11T11:39:16.070968Z"
    },
    "papermill": {
     "duration": 0.037834,
     "end_time": "2023-02-11T11:39:16.074504",
     "exception": false,
     "start_time": "2023-02-11T11:39:16.036670",
     "status": "completed"
    },
    "tags": []
   },
   "outputs": [
    {
     "name": "stdout",
     "output_type": "stream",
     "text": [
      "174\n"
     ]
    }
   ],
   "source": [
    "ard_unique_districts=agriculture_related_data['district'].unique()\n",
    "ard_unique_states=agriculture_related_data['state'].unique()\n",
    "print(len(ard_unique_districts))"
   ]
  },
  {
   "cell_type": "markdown",
   "id": "e1a9c8c2",
   "metadata": {
    "papermill": {
     "duration": 0.026594,
     "end_time": "2023-02-11T11:39:16.127819",
     "exception": false,
     "start_time": "2023-02-11T11:39:16.101225",
     "status": "completed"
    },
    "tags": []
   },
   "source": [
    "checking the unique states in the dataset"
   ]
  },
  {
   "cell_type": "code",
   "execution_count": 24,
   "id": "8806e405",
   "metadata": {
    "execution": {
     "iopub.execute_input": "2023-02-11T11:39:16.183997Z",
     "iopub.status.busy": "2023-02-11T11:39:16.183562Z",
     "iopub.status.idle": "2023-02-11T11:39:16.190546Z",
     "shell.execute_reply": "2023-02-11T11:39:16.189127Z"
    },
    "papermill": {
     "duration": 0.037569,
     "end_time": "2023-02-11T11:39:16.192415",
     "exception": false,
     "start_time": "2023-02-11T11:39:16.154846",
     "status": "completed"
    },
    "tags": []
   },
   "outputs": [
    {
     "name": "stdout",
     "output_type": "stream",
     "text": [
      "26\n"
     ]
    }
   ],
   "source": [
    "print(len(ard_unique_states))"
   ]
  },
  {
   "cell_type": "code",
   "execution_count": 25,
   "id": "0821b9b2",
   "metadata": {
    "execution": {
     "iopub.execute_input": "2023-02-11T11:39:16.249468Z",
     "iopub.status.busy": "2023-02-11T11:39:16.248507Z",
     "iopub.status.idle": "2023-02-11T11:39:16.253507Z",
     "shell.execute_reply": "2023-02-11T11:39:16.252850Z"
    },
    "papermill": {
     "duration": 0.036757,
     "end_time": "2023-02-11T11:39:16.255983",
     "exception": false,
     "start_time": "2023-02-11T11:39:16.219226",
     "status": "completed"
    },
    "tags": []
   },
   "outputs": [
    {
     "name": "stdout",
     "output_type": "stream",
     "text": [
      "['Andaman and Nicobar' 'Andhra Pradesh' 'Assam' 'Chattisgarh' 'Goa'\n",
      " 'Gujarat' 'Haryana' 'Himachal Pradesh' 'Jammu and Kashmir' 'Karnataka'\n",
      " 'Kerala' 'Madhya Pradesh' 'Maharashtra' 'Manipur' 'Meghalaya' 'Nagaland'\n",
      " 'Odisha' 'Pondicherry' 'Punjab' 'Rajasthan' 'Tamil Nadu' 'Telangana'\n",
      " 'Tripura' 'Uttar Pradesh' 'Uttrakhand' 'West Bengal']\n"
     ]
    }
   ],
   "source": [
    "print(ard_unique_states)"
   ]
  },
  {
   "cell_type": "markdown",
   "id": "40df68b6",
   "metadata": {
    "papermill": {
     "duration": 0.027014,
     "end_time": "2023-02-11T11:39:16.310099",
     "exception": false,
     "start_time": "2023-02-11T11:39:16.283085",
     "status": "completed"
    },
    "tags": []
   },
   "source": [
    "checking districts for the districts dataset as well"
   ]
  },
  {
   "cell_type": "code",
   "execution_count": 26,
   "id": "15b9c673",
   "metadata": {
    "execution": {
     "iopub.execute_input": "2023-02-11T11:39:16.375958Z",
     "iopub.status.busy": "2023-02-11T11:39:16.375540Z",
     "iopub.status.idle": "2023-02-11T11:39:16.399635Z",
     "shell.execute_reply": "2023-02-11T11:39:16.397973Z"
    },
    "papermill": {
     "duration": 0.060557,
     "end_time": "2023-02-11T11:39:16.401994",
     "exception": false,
     "start_time": "2023-02-11T11:39:16.341437",
     "status": "completed"
    },
    "tags": []
   },
   "outputs": [
    {
     "data": {
      "text/html": [
       "<div>\n",
       "<style scoped>\n",
       "    .dataframe tbody tr th:only-of-type {\n",
       "        vertical-align: middle;\n",
       "    }\n",
       "\n",
       "    .dataframe tbody tr th {\n",
       "        vertical-align: top;\n",
       "    }\n",
       "\n",
       "    .dataframe thead th {\n",
       "        text-align: right;\n",
       "    }\n",
       "</style>\n",
       "<table border=\"1\" class=\"dataframe\">\n",
       "  <thead>\n",
       "    <tr style=\"text-align: right;\">\n",
       "      <th></th>\n",
       "      <th>STATE_UT_NAME</th>\n",
       "      <th>DISTRICT</th>\n",
       "      <th>JAN</th>\n",
       "      <th>FEB</th>\n",
       "      <th>MAR</th>\n",
       "      <th>APR</th>\n",
       "      <th>MAY</th>\n",
       "      <th>JUN</th>\n",
       "      <th>JUL</th>\n",
       "      <th>AUG</th>\n",
       "      <th>SEP</th>\n",
       "      <th>OCT</th>\n",
       "      <th>NOV</th>\n",
       "      <th>DEC</th>\n",
       "      <th>ANNUAL</th>\n",
       "      <th>Jan-Feb</th>\n",
       "      <th>Mar-May</th>\n",
       "      <th>Jun-Sep</th>\n",
       "      <th>Oct-Dec</th>\n",
       "    </tr>\n",
       "  </thead>\n",
       "  <tbody>\n",
       "    <tr>\n",
       "      <th>0</th>\n",
       "      <td>ANDAMAN And NICOBAR ISLANDS</td>\n",
       "      <td>NICOBAR</td>\n",
       "      <td>107.3</td>\n",
       "      <td>57.9</td>\n",
       "      <td>65.2</td>\n",
       "      <td>117.0</td>\n",
       "      <td>358.5</td>\n",
       "      <td>295.5</td>\n",
       "      <td>285.0</td>\n",
       "      <td>271.9</td>\n",
       "      <td>354.8</td>\n",
       "      <td>326.0</td>\n",
       "      <td>315.2</td>\n",
       "      <td>250.9</td>\n",
       "      <td>2805.2</td>\n",
       "      <td>165.2</td>\n",
       "      <td>540.7</td>\n",
       "      <td>1207.2</td>\n",
       "      <td>892.1</td>\n",
       "    </tr>\n",
       "    <tr>\n",
       "      <th>1</th>\n",
       "      <td>ANDAMAN And NICOBAR ISLANDS</td>\n",
       "      <td>SOUTH ANDAMAN</td>\n",
       "      <td>43.7</td>\n",
       "      <td>26.0</td>\n",
       "      <td>18.6</td>\n",
       "      <td>90.5</td>\n",
       "      <td>374.4</td>\n",
       "      <td>457.2</td>\n",
       "      <td>421.3</td>\n",
       "      <td>423.1</td>\n",
       "      <td>455.6</td>\n",
       "      <td>301.2</td>\n",
       "      <td>275.8</td>\n",
       "      <td>128.3</td>\n",
       "      <td>3015.7</td>\n",
       "      <td>69.7</td>\n",
       "      <td>483.5</td>\n",
       "      <td>1757.2</td>\n",
       "      <td>705.3</td>\n",
       "    </tr>\n",
       "    <tr>\n",
       "      <th>2</th>\n",
       "      <td>ANDAMAN And NICOBAR ISLANDS</td>\n",
       "      <td>N &amp; M ANDAMAN</td>\n",
       "      <td>32.7</td>\n",
       "      <td>15.9</td>\n",
       "      <td>8.6</td>\n",
       "      <td>53.4</td>\n",
       "      <td>343.6</td>\n",
       "      <td>503.3</td>\n",
       "      <td>465.4</td>\n",
       "      <td>460.9</td>\n",
       "      <td>454.8</td>\n",
       "      <td>276.1</td>\n",
       "      <td>198.6</td>\n",
       "      <td>100.0</td>\n",
       "      <td>2913.3</td>\n",
       "      <td>48.6</td>\n",
       "      <td>405.6</td>\n",
       "      <td>1884.4</td>\n",
       "      <td>574.7</td>\n",
       "    </tr>\n",
       "    <tr>\n",
       "      <th>3</th>\n",
       "      <td>ARUNACHAL PRADESH</td>\n",
       "      <td>LOHIT</td>\n",
       "      <td>42.2</td>\n",
       "      <td>80.8</td>\n",
       "      <td>176.4</td>\n",
       "      <td>358.5</td>\n",
       "      <td>306.4</td>\n",
       "      <td>447.0</td>\n",
       "      <td>660.1</td>\n",
       "      <td>427.8</td>\n",
       "      <td>313.6</td>\n",
       "      <td>167.1</td>\n",
       "      <td>34.1</td>\n",
       "      <td>29.8</td>\n",
       "      <td>3043.8</td>\n",
       "      <td>123.0</td>\n",
       "      <td>841.3</td>\n",
       "      <td>1848.5</td>\n",
       "      <td>231.0</td>\n",
       "    </tr>\n",
       "    <tr>\n",
       "      <th>4</th>\n",
       "      <td>ARUNACHAL PRADESH</td>\n",
       "      <td>EAST SIANG</td>\n",
       "      <td>33.3</td>\n",
       "      <td>79.5</td>\n",
       "      <td>105.9</td>\n",
       "      <td>216.5</td>\n",
       "      <td>323.0</td>\n",
       "      <td>738.3</td>\n",
       "      <td>990.9</td>\n",
       "      <td>711.2</td>\n",
       "      <td>568.0</td>\n",
       "      <td>206.9</td>\n",
       "      <td>29.5</td>\n",
       "      <td>31.7</td>\n",
       "      <td>4034.7</td>\n",
       "      <td>112.8</td>\n",
       "      <td>645.4</td>\n",
       "      <td>3008.4</td>\n",
       "      <td>268.1</td>\n",
       "    </tr>\n",
       "  </tbody>\n",
       "</table>\n",
       "</div>"
      ],
      "text/plain": [
       "                 STATE_UT_NAME       DISTRICT    JAN   FEB    MAR    APR  \\\n",
       "0  ANDAMAN And NICOBAR ISLANDS        NICOBAR  107.3  57.9   65.2  117.0   \n",
       "1  ANDAMAN And NICOBAR ISLANDS  SOUTH ANDAMAN   43.7  26.0   18.6   90.5   \n",
       "2  ANDAMAN And NICOBAR ISLANDS  N & M ANDAMAN   32.7  15.9    8.6   53.4   \n",
       "3            ARUNACHAL PRADESH          LOHIT   42.2  80.8  176.4  358.5   \n",
       "4            ARUNACHAL PRADESH     EAST SIANG   33.3  79.5  105.9  216.5   \n",
       "\n",
       "     MAY    JUN    JUL    AUG    SEP    OCT    NOV    DEC  ANNUAL  Jan-Feb  \\\n",
       "0  358.5  295.5  285.0  271.9  354.8  326.0  315.2  250.9  2805.2    165.2   \n",
       "1  374.4  457.2  421.3  423.1  455.6  301.2  275.8  128.3  3015.7     69.7   \n",
       "2  343.6  503.3  465.4  460.9  454.8  276.1  198.6  100.0  2913.3     48.6   \n",
       "3  306.4  447.0  660.1  427.8  313.6  167.1   34.1   29.8  3043.8    123.0   \n",
       "4  323.0  738.3  990.9  711.2  568.0  206.9   29.5   31.7  4034.7    112.8   \n",
       "\n",
       "   Mar-May  Jun-Sep  Oct-Dec  \n",
       "0    540.7   1207.2    892.1  \n",
       "1    483.5   1757.2    705.3  \n",
       "2    405.6   1884.4    574.7  \n",
       "3    841.3   1848.5    231.0  \n",
       "4    645.4   3008.4    268.1  "
      ]
     },
     "execution_count": 26,
     "metadata": {},
     "output_type": "execute_result"
    }
   ],
   "source": [
    "district_rainfall_data.head()"
   ]
  },
  {
   "cell_type": "code",
   "execution_count": 27,
   "id": "b6fcf0b6",
   "metadata": {
    "execution": {
     "iopub.execute_input": "2023-02-11T11:39:16.461993Z",
     "iopub.status.busy": "2023-02-11T11:39:16.461353Z",
     "iopub.status.idle": "2023-02-11T11:39:16.468055Z",
     "shell.execute_reply": "2023-02-11T11:39:16.466757Z"
    },
    "papermill": {
     "duration": 0.039935,
     "end_time": "2023-02-11T11:39:16.470340",
     "exception": false,
     "start_time": "2023-02-11T11:39:16.430405",
     "status": "completed"
    },
    "tags": []
   },
   "outputs": [
    {
     "name": "stdout",
     "output_type": "stream",
     "text": [
      "637\n"
     ]
    }
   ],
   "source": [
    "drd_unique_districts=district_rainfall_data['DISTRICT'].unique()\n",
    "drd_unique_states=district_rainfall_data['STATE_UT_NAME'].unique()\n",
    "print(len(drd_unique_districts))"
   ]
  },
  {
   "cell_type": "markdown",
   "id": "7d11ec2b",
   "metadata": {
    "papermill": {
     "duration": 0.027061,
     "end_time": "2023-02-11T11:39:16.525963",
     "exception": false,
     "start_time": "2023-02-11T11:39:16.498902",
     "status": "completed"
    },
    "tags": []
   },
   "source": [
    "checking the unique states for district rainfall"
   ]
  },
  {
   "cell_type": "code",
   "execution_count": 28,
   "id": "2fa3b1e9",
   "metadata": {
    "execution": {
     "iopub.execute_input": "2023-02-11T11:39:16.582434Z",
     "iopub.status.busy": "2023-02-11T11:39:16.582056Z",
     "iopub.status.idle": "2023-02-11T11:39:16.587983Z",
     "shell.execute_reply": "2023-02-11T11:39:16.586406Z"
    },
    "papermill": {
     "duration": 0.03714,
     "end_time": "2023-02-11T11:39:16.590523",
     "exception": false,
     "start_time": "2023-02-11T11:39:16.553383",
     "status": "completed"
    },
    "tags": []
   },
   "outputs": [
    {
     "name": "stdout",
     "output_type": "stream",
     "text": [
      "35\n"
     ]
    }
   ],
   "source": [
    "print(len(drd_unique_states))"
   ]
  },
  {
   "cell_type": "markdown",
   "id": "7ee0bd7a",
   "metadata": {
    "papermill": {
     "duration": 0.027262,
     "end_time": "2023-02-11T11:39:16.645540",
     "exception": false,
     "start_time": "2023-02-11T11:39:16.618278",
     "status": "completed"
    },
    "tags": []
   },
   "source": [
    "checking the unique states of the agriculture dataset"
   ]
  },
  {
   "cell_type": "code",
   "execution_count": 29,
   "id": "a63389bb",
   "metadata": {
    "execution": {
     "iopub.execute_input": "2023-02-11T11:39:16.703056Z",
     "iopub.status.busy": "2023-02-11T11:39:16.702620Z",
     "iopub.status.idle": "2023-02-11T11:39:16.708663Z",
     "shell.execute_reply": "2023-02-11T11:39:16.707308Z"
    },
    "papermill": {
     "duration": 0.037269,
     "end_time": "2023-02-11T11:39:16.710657",
     "exception": false,
     "start_time": "2023-02-11T11:39:16.673388",
     "status": "completed"
    },
    "tags": []
   },
   "outputs": [
    {
     "name": "stdout",
     "output_type": "stream",
     "text": [
      "['ANDAMAN And NICOBAR ISLANDS' 'ARUNACHAL PRADESH' 'ASSAM' 'MEGHALAYA'\n",
      " 'MANIPUR' 'MIZORAM' 'NAGALAND' 'TRIPURA' 'WEST BENGAL' 'SIKKIM' 'ORISSA'\n",
      " 'JHARKHAND' 'BIHAR' 'UTTAR PRADESH' 'UTTARANCHAL' 'HARYANA' 'CHANDIGARH'\n",
      " 'DELHI' 'PUNJAB' 'HIMACHAL' 'JAMMU AND KASHMIR' 'RAJASTHAN'\n",
      " 'MADHYA PRADESH' 'GUJARAT' 'DADAR NAGAR HAVELI' 'DAMAN AND DUI'\n",
      " 'MAHARASHTRA' 'GOA' 'CHATISGARH' 'ANDHRA PRADESH' 'TAMIL NADU'\n",
      " 'PONDICHERRY' 'KARNATAKA' 'KERALA' 'LAKSHADWEEP']\n"
     ]
    }
   ],
   "source": [
    "print(drd_unique_states)"
   ]
  },
  {
   "cell_type": "markdown",
   "id": "94545f64",
   "metadata": {
    "papermill": {
     "duration": 0.028127,
     "end_time": "2023-02-11T11:39:16.765976",
     "exception": false,
     "start_time": "2023-02-11T11:39:16.737849",
     "status": "completed"
    },
    "tags": []
   },
   "source": [
    "renaming the state and district column names for agriculture related dataset"
   ]
  },
  {
   "cell_type": "code",
   "execution_count": 30,
   "id": "e2fbbb4a",
   "metadata": {
    "execution": {
     "iopub.execute_input": "2023-02-11T11:39:16.823058Z",
     "iopub.status.busy": "2023-02-11T11:39:16.822589Z",
     "iopub.status.idle": "2023-02-11T11:39:16.850997Z",
     "shell.execute_reply": "2023-02-11T11:39:16.849724Z"
    },
    "papermill": {
     "duration": 0.059884,
     "end_time": "2023-02-11T11:39:16.853428",
     "exception": false,
     "start_time": "2023-02-11T11:39:16.793544",
     "status": "completed"
    },
    "tags": []
   },
   "outputs": [
    {
     "data": {
      "text/html": [
       "<div>\n",
       "<style scoped>\n",
       "    .dataframe tbody tr th:only-of-type {\n",
       "        vertical-align: middle;\n",
       "    }\n",
       "\n",
       "    .dataframe tbody tr th {\n",
       "        vertical-align: top;\n",
       "    }\n",
       "\n",
       "    .dataframe thead th {\n",
       "        text-align: right;\n",
       "    }\n",
       "</style>\n",
       "<table border=\"1\" class=\"dataframe\">\n",
       "  <thead>\n",
       "    <tr style=\"text-align: right;\">\n",
       "      <th></th>\n",
       "      <th>state</th>\n",
       "      <th>district</th>\n",
       "      <th>JAN</th>\n",
       "      <th>FEB</th>\n",
       "      <th>MAR</th>\n",
       "      <th>APR</th>\n",
       "      <th>MAY</th>\n",
       "      <th>JUN</th>\n",
       "      <th>JUL</th>\n",
       "      <th>AUG</th>\n",
       "      <th>SEP</th>\n",
       "      <th>OCT</th>\n",
       "      <th>NOV</th>\n",
       "      <th>DEC</th>\n",
       "      <th>ANNUAL</th>\n",
       "      <th>Jan-Feb</th>\n",
       "      <th>Mar-May</th>\n",
       "      <th>Jun-Sep</th>\n",
       "      <th>Oct-Dec</th>\n",
       "    </tr>\n",
       "  </thead>\n",
       "  <tbody>\n",
       "    <tr>\n",
       "      <th>0</th>\n",
       "      <td>ANDAMAN And NICOBAR ISLANDS</td>\n",
       "      <td>NICOBAR</td>\n",
       "      <td>107.3</td>\n",
       "      <td>57.9</td>\n",
       "      <td>65.2</td>\n",
       "      <td>117.0</td>\n",
       "      <td>358.5</td>\n",
       "      <td>295.5</td>\n",
       "      <td>285.0</td>\n",
       "      <td>271.9</td>\n",
       "      <td>354.8</td>\n",
       "      <td>326.0</td>\n",
       "      <td>315.2</td>\n",
       "      <td>250.9</td>\n",
       "      <td>2805.2</td>\n",
       "      <td>165.2</td>\n",
       "      <td>540.7</td>\n",
       "      <td>1207.2</td>\n",
       "      <td>892.1</td>\n",
       "    </tr>\n",
       "    <tr>\n",
       "      <th>1</th>\n",
       "      <td>ANDAMAN And NICOBAR ISLANDS</td>\n",
       "      <td>SOUTH ANDAMAN</td>\n",
       "      <td>43.7</td>\n",
       "      <td>26.0</td>\n",
       "      <td>18.6</td>\n",
       "      <td>90.5</td>\n",
       "      <td>374.4</td>\n",
       "      <td>457.2</td>\n",
       "      <td>421.3</td>\n",
       "      <td>423.1</td>\n",
       "      <td>455.6</td>\n",
       "      <td>301.2</td>\n",
       "      <td>275.8</td>\n",
       "      <td>128.3</td>\n",
       "      <td>3015.7</td>\n",
       "      <td>69.7</td>\n",
       "      <td>483.5</td>\n",
       "      <td>1757.2</td>\n",
       "      <td>705.3</td>\n",
       "    </tr>\n",
       "    <tr>\n",
       "      <th>2</th>\n",
       "      <td>ANDAMAN And NICOBAR ISLANDS</td>\n",
       "      <td>N &amp; M ANDAMAN</td>\n",
       "      <td>32.7</td>\n",
       "      <td>15.9</td>\n",
       "      <td>8.6</td>\n",
       "      <td>53.4</td>\n",
       "      <td>343.6</td>\n",
       "      <td>503.3</td>\n",
       "      <td>465.4</td>\n",
       "      <td>460.9</td>\n",
       "      <td>454.8</td>\n",
       "      <td>276.1</td>\n",
       "      <td>198.6</td>\n",
       "      <td>100.0</td>\n",
       "      <td>2913.3</td>\n",
       "      <td>48.6</td>\n",
       "      <td>405.6</td>\n",
       "      <td>1884.4</td>\n",
       "      <td>574.7</td>\n",
       "    </tr>\n",
       "    <tr>\n",
       "      <th>3</th>\n",
       "      <td>ARUNACHAL PRADESH</td>\n",
       "      <td>LOHIT</td>\n",
       "      <td>42.2</td>\n",
       "      <td>80.8</td>\n",
       "      <td>176.4</td>\n",
       "      <td>358.5</td>\n",
       "      <td>306.4</td>\n",
       "      <td>447.0</td>\n",
       "      <td>660.1</td>\n",
       "      <td>427.8</td>\n",
       "      <td>313.6</td>\n",
       "      <td>167.1</td>\n",
       "      <td>34.1</td>\n",
       "      <td>29.8</td>\n",
       "      <td>3043.8</td>\n",
       "      <td>123.0</td>\n",
       "      <td>841.3</td>\n",
       "      <td>1848.5</td>\n",
       "      <td>231.0</td>\n",
       "    </tr>\n",
       "    <tr>\n",
       "      <th>4</th>\n",
       "      <td>ARUNACHAL PRADESH</td>\n",
       "      <td>EAST SIANG</td>\n",
       "      <td>33.3</td>\n",
       "      <td>79.5</td>\n",
       "      <td>105.9</td>\n",
       "      <td>216.5</td>\n",
       "      <td>323.0</td>\n",
       "      <td>738.3</td>\n",
       "      <td>990.9</td>\n",
       "      <td>711.2</td>\n",
       "      <td>568.0</td>\n",
       "      <td>206.9</td>\n",
       "      <td>29.5</td>\n",
       "      <td>31.7</td>\n",
       "      <td>4034.7</td>\n",
       "      <td>112.8</td>\n",
       "      <td>645.4</td>\n",
       "      <td>3008.4</td>\n",
       "      <td>268.1</td>\n",
       "    </tr>\n",
       "  </tbody>\n",
       "</table>\n",
       "</div>"
      ],
      "text/plain": [
       "                         state       district    JAN   FEB    MAR    APR  \\\n",
       "0  ANDAMAN And NICOBAR ISLANDS        NICOBAR  107.3  57.9   65.2  117.0   \n",
       "1  ANDAMAN And NICOBAR ISLANDS  SOUTH ANDAMAN   43.7  26.0   18.6   90.5   \n",
       "2  ANDAMAN And NICOBAR ISLANDS  N & M ANDAMAN   32.7  15.9    8.6   53.4   \n",
       "3            ARUNACHAL PRADESH          LOHIT   42.2  80.8  176.4  358.5   \n",
       "4            ARUNACHAL PRADESH     EAST SIANG   33.3  79.5  105.9  216.5   \n",
       "\n",
       "     MAY    JUN    JUL    AUG    SEP    OCT    NOV    DEC  ANNUAL  Jan-Feb  \\\n",
       "0  358.5  295.5  285.0  271.9  354.8  326.0  315.2  250.9  2805.2    165.2   \n",
       "1  374.4  457.2  421.3  423.1  455.6  301.2  275.8  128.3  3015.7     69.7   \n",
       "2  343.6  503.3  465.4  460.9  454.8  276.1  198.6  100.0  2913.3     48.6   \n",
       "3  306.4  447.0  660.1  427.8  313.6  167.1   34.1   29.8  3043.8    123.0   \n",
       "4  323.0  738.3  990.9  711.2  568.0  206.9   29.5   31.7  4034.7    112.8   \n",
       "\n",
       "   Mar-May  Jun-Sep  Oct-Dec  \n",
       "0    540.7   1207.2    892.1  \n",
       "1    483.5   1757.2    705.3  \n",
       "2    405.6   1884.4    574.7  \n",
       "3    841.3   1848.5    231.0  \n",
       "4    645.4   3008.4    268.1  "
      ]
     },
     "execution_count": 30,
     "metadata": {},
     "output_type": "execute_result"
    }
   ],
   "source": [
    "district_rainfall_data.rename(columns={'STATE_UT_NAME':'state','DISTRICT':'district'},inplace=True)\n",
    "district_rainfall_data.head()"
   ]
  },
  {
   "cell_type": "markdown",
   "id": "392968ff",
   "metadata": {
    "papermill": {
     "duration": 0.027919,
     "end_time": "2023-02-11T11:39:16.909580",
     "exception": false,
     "start_time": "2023-02-11T11:39:16.881661",
     "status": "completed"
    },
    "tags": []
   },
   "source": [
    "trying to combine two pandas datasets based on common values. I will be using both the common features(state,district) and will get two seperate datasets accordingly"
   ]
  },
  {
   "cell_type": "markdown",
   "id": "861485dc",
   "metadata": {
    "papermill": {
     "duration": 0.028577,
     "end_time": "2023-02-11T11:39:16.966414",
     "exception": false,
     "start_time": "2023-02-11T11:39:16.937837",
     "status": "completed"
    },
    "tags": []
   },
   "source": [
    "checking the columns of the two datasets"
   ]
  },
  {
   "cell_type": "code",
   "execution_count": 31,
   "id": "37ff0af1",
   "metadata": {
    "execution": {
     "iopub.execute_input": "2023-02-11T11:39:17.023925Z",
     "iopub.status.busy": "2023-02-11T11:39:17.023370Z",
     "iopub.status.idle": "2023-02-11T11:39:17.033426Z",
     "shell.execute_reply": "2023-02-11T11:39:17.032421Z"
    },
    "papermill": {
     "duration": 0.041105,
     "end_time": "2023-02-11T11:39:17.035380",
     "exception": false,
     "start_time": "2023-02-11T11:39:16.994275",
     "status": "completed"
    },
    "tags": []
   },
   "outputs": [
    {
     "data": {
      "text/plain": [
       "Index(['state', 'district', 'market', 'commodity', 'variety', 'arrival_date',\n",
       "       'min_price', 'max_price', 'modal_price'],\n",
       "      dtype='object')"
      ]
     },
     "execution_count": 31,
     "metadata": {},
     "output_type": "execute_result"
    }
   ],
   "source": [
    "agriculture_related_data.columns"
   ]
  },
  {
   "cell_type": "code",
   "execution_count": 32,
   "id": "6bd928cf",
   "metadata": {
    "execution": {
     "iopub.execute_input": "2023-02-11T11:39:17.093129Z",
     "iopub.status.busy": "2023-02-11T11:39:17.092666Z",
     "iopub.status.idle": "2023-02-11T11:39:17.100148Z",
     "shell.execute_reply": "2023-02-11T11:39:17.098538Z"
    },
    "papermill": {
     "duration": 0.039821,
     "end_time": "2023-02-11T11:39:17.103048",
     "exception": false,
     "start_time": "2023-02-11T11:39:17.063227",
     "status": "completed"
    },
    "tags": []
   },
   "outputs": [
    {
     "data": {
      "text/plain": [
       "Index(['state', 'district', 'JAN', 'FEB', 'MAR', 'APR', 'MAY', 'JUN', 'JUL',\n",
       "       'AUG', 'SEP', 'OCT', 'NOV', 'DEC', 'ANNUAL', 'Jan-Feb', 'Mar-May',\n",
       "       'Jun-Sep', 'Oct-Dec'],\n",
       "      dtype='object')"
      ]
     },
     "execution_count": 32,
     "metadata": {},
     "output_type": "execute_result"
    }
   ],
   "source": [
    "district_rainfall_data.columns"
   ]
  },
  {
   "cell_type": "markdown",
   "id": "5fc5f871",
   "metadata": {
    "papermill": {
     "duration": 0.026915,
     "end_time": "2023-02-11T11:39:17.157995",
     "exception": false,
     "start_time": "2023-02-11T11:39:17.131080",
     "status": "completed"
    },
    "tags": []
   },
   "source": [
    "dropping rows which have uncommon state values in district rainfall data "
   ]
  },
  {
   "cell_type": "code",
   "execution_count": 33,
   "id": "f48ac348",
   "metadata": {
    "execution": {
     "iopub.execute_input": "2023-02-11T11:39:17.214721Z",
     "iopub.status.busy": "2023-02-11T11:39:17.214325Z",
     "iopub.status.idle": "2023-02-11T11:39:17.219147Z",
     "shell.execute_reply": "2023-02-11T11:39:17.217574Z"
    },
    "papermill": {
     "duration": 0.036803,
     "end_time": "2023-02-11T11:39:17.221891",
     "exception": false,
     "start_time": "2023-02-11T11:39:17.185088",
     "status": "completed"
    },
    "tags": []
   },
   "outputs": [],
   "source": [
    "# # Drop rows where column 'B' is equal to values in values_to_drop list\n",
    "# district_rainfall_data = district_rainfall_data[~district_rainfall_data['state'].isin(result)]\n",
    "# district_rainfall_data.reset_index(drop=True)\n",
    "# # district_rainfall_data.head()"
   ]
  },
  {
   "cell_type": "markdown",
   "id": "4877b9a2",
   "metadata": {
    "papermill": {
     "duration": 0.027237,
     "end_time": "2023-02-11T11:39:17.277328",
     "exception": false,
     "start_time": "2023-02-11T11:39:17.250091",
     "status": "completed"
    },
    "tags": []
   },
   "source": [
    "checking the unique values now"
   ]
  },
  {
   "cell_type": "code",
   "execution_count": 34,
   "id": "732e6520",
   "metadata": {
    "execution": {
     "iopub.execute_input": "2023-02-11T11:39:17.334726Z",
     "iopub.status.busy": "2023-02-11T11:39:17.334274Z",
     "iopub.status.idle": "2023-02-11T11:39:17.342656Z",
     "shell.execute_reply": "2023-02-11T11:39:17.341112Z"
    },
    "papermill": {
     "duration": 0.040355,
     "end_time": "2023-02-11T11:39:17.345461",
     "exception": false,
     "start_time": "2023-02-11T11:39:17.305106",
     "status": "completed"
    },
    "tags": []
   },
   "outputs": [
    {
     "name": "stdout",
     "output_type": "stream",
     "text": [
      "35\n"
     ]
    }
   ],
   "source": [
    "drd_unique_districts=district_rainfall_data['district'].unique()\n",
    "drd_unique_states=district_rainfall_data['state'].unique()\n",
    "print(len(drd_unique_states))"
   ]
  },
  {
   "cell_type": "markdown",
   "id": "f8a8cf6d",
   "metadata": {
    "papermill": {
     "duration": 0.028168,
     "end_time": "2023-02-11T11:39:17.402207",
     "exception": false,
     "start_time": "2023-02-11T11:39:17.374039",
     "status": "completed"
    },
    "tags": []
   },
   "source": [
    "merging two datasets on the basis of state"
   ]
  },
  {
   "cell_type": "code",
   "execution_count": 35,
   "id": "c846c64b",
   "metadata": {
    "execution": {
     "iopub.execute_input": "2023-02-11T11:39:17.459886Z",
     "iopub.status.busy": "2023-02-11T11:39:17.459308Z",
     "iopub.status.idle": "2023-02-11T11:39:17.477453Z",
     "shell.execute_reply": "2023-02-11T11:39:17.476199Z"
    },
    "papermill": {
     "duration": 0.049789,
     "end_time": "2023-02-11T11:39:17.480180",
     "exception": false,
     "start_time": "2023-02-11T11:39:17.430391",
     "status": "completed"
    },
    "tags": []
   },
   "outputs": [],
   "source": [
    "state_merged=pd.merge(agriculture_related_data,district_rainfall_data,on='state',how='outer')"
   ]
  },
  {
   "cell_type": "code",
   "execution_count": 36,
   "id": "f2e85e55",
   "metadata": {
    "execution": {
     "iopub.execute_input": "2023-02-11T11:39:17.537702Z",
     "iopub.status.busy": "2023-02-11T11:39:17.537316Z",
     "iopub.status.idle": "2023-02-11T11:39:17.560788Z",
     "shell.execute_reply": "2023-02-11T11:39:17.559911Z"
    },
    "papermill": {
     "duration": 0.055662,
     "end_time": "2023-02-11T11:39:17.563538",
     "exception": false,
     "start_time": "2023-02-11T11:39:17.507876",
     "status": "completed"
    },
    "tags": []
   },
   "outputs": [
    {
     "data": {
      "text/html": [
       "<div>\n",
       "<style scoped>\n",
       "    .dataframe tbody tr th:only-of-type {\n",
       "        vertical-align: middle;\n",
       "    }\n",
       "\n",
       "    .dataframe tbody tr th {\n",
       "        vertical-align: top;\n",
       "    }\n",
       "\n",
       "    .dataframe thead th {\n",
       "        text-align: right;\n",
       "    }\n",
       "</style>\n",
       "<table border=\"1\" class=\"dataframe\">\n",
       "  <thead>\n",
       "    <tr style=\"text-align: right;\">\n",
       "      <th></th>\n",
       "      <th>state</th>\n",
       "      <th>district_x</th>\n",
       "      <th>market</th>\n",
       "      <th>commodity</th>\n",
       "      <th>variety</th>\n",
       "      <th>arrival_date</th>\n",
       "      <th>min_price</th>\n",
       "      <th>max_price</th>\n",
       "      <th>modal_price</th>\n",
       "      <th>district_y</th>\n",
       "      <th>...</th>\n",
       "      <th>AUG</th>\n",
       "      <th>SEP</th>\n",
       "      <th>OCT</th>\n",
       "      <th>NOV</th>\n",
       "      <th>DEC</th>\n",
       "      <th>ANNUAL</th>\n",
       "      <th>Jan-Feb</th>\n",
       "      <th>Mar-May</th>\n",
       "      <th>Jun-Sep</th>\n",
       "      <th>Oct-Dec</th>\n",
       "    </tr>\n",
       "  </thead>\n",
       "  <tbody>\n",
       "    <tr>\n",
       "      <th>0</th>\n",
       "      <td>Andaman and Nicobar</td>\n",
       "      <td>South Andaman</td>\n",
       "      <td>Port Blair</td>\n",
       "      <td>Amaranthus</td>\n",
       "      <td>Amaranthus</td>\n",
       "      <td>04/03/2019</td>\n",
       "      <td>6000.0</td>\n",
       "      <td>8000.0</td>\n",
       "      <td>7000.0</td>\n",
       "      <td>NaN</td>\n",
       "      <td>...</td>\n",
       "      <td>NaN</td>\n",
       "      <td>NaN</td>\n",
       "      <td>NaN</td>\n",
       "      <td>NaN</td>\n",
       "      <td>NaN</td>\n",
       "      <td>NaN</td>\n",
       "      <td>NaN</td>\n",
       "      <td>NaN</td>\n",
       "      <td>NaN</td>\n",
       "      <td>NaN</td>\n",
       "    </tr>\n",
       "    <tr>\n",
       "      <th>1</th>\n",
       "      <td>Andaman and Nicobar</td>\n",
       "      <td>South Andaman</td>\n",
       "      <td>Port Blair</td>\n",
       "      <td>Banana - Green</td>\n",
       "      <td>Banana - Green</td>\n",
       "      <td>04/03/2019</td>\n",
       "      <td>4500.0</td>\n",
       "      <td>5500.0</td>\n",
       "      <td>5000.0</td>\n",
       "      <td>NaN</td>\n",
       "      <td>...</td>\n",
       "      <td>NaN</td>\n",
       "      <td>NaN</td>\n",
       "      <td>NaN</td>\n",
       "      <td>NaN</td>\n",
       "      <td>NaN</td>\n",
       "      <td>NaN</td>\n",
       "      <td>NaN</td>\n",
       "      <td>NaN</td>\n",
       "      <td>NaN</td>\n",
       "      <td>NaN</td>\n",
       "    </tr>\n",
       "    <tr>\n",
       "      <th>2</th>\n",
       "      <td>Andaman and Nicobar</td>\n",
       "      <td>South Andaman</td>\n",
       "      <td>Port Blair</td>\n",
       "      <td>Bhindi(Ladies Finger)</td>\n",
       "      <td>Bhindi</td>\n",
       "      <td>04/03/2019</td>\n",
       "      <td>6000.0</td>\n",
       "      <td>8000.0</td>\n",
       "      <td>7000.0</td>\n",
       "      <td>NaN</td>\n",
       "      <td>...</td>\n",
       "      <td>NaN</td>\n",
       "      <td>NaN</td>\n",
       "      <td>NaN</td>\n",
       "      <td>NaN</td>\n",
       "      <td>NaN</td>\n",
       "      <td>NaN</td>\n",
       "      <td>NaN</td>\n",
       "      <td>NaN</td>\n",
       "      <td>NaN</td>\n",
       "      <td>NaN</td>\n",
       "    </tr>\n",
       "    <tr>\n",
       "      <th>3</th>\n",
       "      <td>Andaman and Nicobar</td>\n",
       "      <td>South Andaman</td>\n",
       "      <td>Port Blair</td>\n",
       "      <td>Bitter gourd</td>\n",
       "      <td>Other</td>\n",
       "      <td>04/03/2019</td>\n",
       "      <td>6000.0</td>\n",
       "      <td>8000.0</td>\n",
       "      <td>7000.0</td>\n",
       "      <td>NaN</td>\n",
       "      <td>...</td>\n",
       "      <td>NaN</td>\n",
       "      <td>NaN</td>\n",
       "      <td>NaN</td>\n",
       "      <td>NaN</td>\n",
       "      <td>NaN</td>\n",
       "      <td>NaN</td>\n",
       "      <td>NaN</td>\n",
       "      <td>NaN</td>\n",
       "      <td>NaN</td>\n",
       "      <td>NaN</td>\n",
       "    </tr>\n",
       "    <tr>\n",
       "      <th>4</th>\n",
       "      <td>Andaman and Nicobar</td>\n",
       "      <td>South Andaman</td>\n",
       "      <td>Port Blair</td>\n",
       "      <td>Black pepper</td>\n",
       "      <td>Other</td>\n",
       "      <td>04/03/2019</td>\n",
       "      <td>110000.0</td>\n",
       "      <td>130000.0</td>\n",
       "      <td>120000.0</td>\n",
       "      <td>NaN</td>\n",
       "      <td>...</td>\n",
       "      <td>NaN</td>\n",
       "      <td>NaN</td>\n",
       "      <td>NaN</td>\n",
       "      <td>NaN</td>\n",
       "      <td>NaN</td>\n",
       "      <td>NaN</td>\n",
       "      <td>NaN</td>\n",
       "      <td>NaN</td>\n",
       "      <td>NaN</td>\n",
       "      <td>NaN</td>\n",
       "    </tr>\n",
       "  </tbody>\n",
       "</table>\n",
       "<p>5 rows × 27 columns</p>\n",
       "</div>"
      ],
      "text/plain": [
       "                 state     district_x      market              commodity  \\\n",
       "0  Andaman and Nicobar  South Andaman  Port Blair             Amaranthus   \n",
       "1  Andaman and Nicobar  South Andaman  Port Blair         Banana - Green   \n",
       "2  Andaman and Nicobar  South Andaman  Port Blair  Bhindi(Ladies Finger)   \n",
       "3  Andaman and Nicobar  South Andaman  Port Blair           Bitter gourd   \n",
       "4  Andaman and Nicobar  South Andaman  Port Blair           Black pepper   \n",
       "\n",
       "          variety arrival_date  min_price  max_price  modal_price district_y  \\\n",
       "0      Amaranthus   04/03/2019     6000.0     8000.0       7000.0        NaN   \n",
       "1  Banana - Green   04/03/2019     4500.0     5500.0       5000.0        NaN   \n",
       "2          Bhindi   04/03/2019     6000.0     8000.0       7000.0        NaN   \n",
       "3           Other   04/03/2019     6000.0     8000.0       7000.0        NaN   \n",
       "4           Other   04/03/2019   110000.0   130000.0     120000.0        NaN   \n",
       "\n",
       "   ...  AUG  SEP  OCT  NOV  DEC  ANNUAL  Jan-Feb  Mar-May  Jun-Sep  Oct-Dec  \n",
       "0  ...  NaN  NaN  NaN  NaN  NaN     NaN      NaN      NaN      NaN      NaN  \n",
       "1  ...  NaN  NaN  NaN  NaN  NaN     NaN      NaN      NaN      NaN      NaN  \n",
       "2  ...  NaN  NaN  NaN  NaN  NaN     NaN      NaN      NaN      NaN      NaN  \n",
       "3  ...  NaN  NaN  NaN  NaN  NaN     NaN      NaN      NaN      NaN      NaN  \n",
       "4  ...  NaN  NaN  NaN  NaN  NaN     NaN      NaN      NaN      NaN      NaN  \n",
       "\n",
       "[5 rows x 27 columns]"
      ]
     },
     "execution_count": 36,
     "metadata": {},
     "output_type": "execute_result"
    }
   ],
   "source": [
    "state_merged.head()"
   ]
  },
  {
   "cell_type": "markdown",
   "id": "5094ccea",
   "metadata": {
    "papermill": {
     "duration": 0.028592,
     "end_time": "2023-02-11T11:39:17.620775",
     "exception": false,
     "start_time": "2023-02-11T11:39:17.592183",
     "status": "completed"
    },
    "tags": []
   },
   "source": [
    "kill me now if i get a lot of na values"
   ]
  },
  {
   "cell_type": "code",
   "execution_count": 37,
   "id": "afbd99ae",
   "metadata": {
    "execution": {
     "iopub.execute_input": "2023-02-11T11:39:17.680996Z",
     "iopub.status.busy": "2023-02-11T11:39:17.680574Z",
     "iopub.status.idle": "2023-02-11T11:39:17.692503Z",
     "shell.execute_reply": "2023-02-11T11:39:17.691099Z"
    },
    "papermill": {
     "duration": 0.046059,
     "end_time": "2023-02-11T11:39:17.695593",
     "exception": false,
     "start_time": "2023-02-11T11:39:17.649534",
     "status": "completed"
    },
    "tags": []
   },
   "outputs": [
    {
     "data": {
      "text/plain": [
       "45412"
      ]
     },
     "execution_count": 37,
     "metadata": {},
     "output_type": "execute_result"
    }
   ],
   "source": [
    "state_merged.isna().sum().sum()"
   ]
  },
  {
   "cell_type": "code",
   "execution_count": 38,
   "id": "bdeb2092",
   "metadata": {
    "execution": {
     "iopub.execute_input": "2023-02-11T11:39:17.756277Z",
     "iopub.status.busy": "2023-02-11T11:39:17.755838Z",
     "iopub.status.idle": "2023-02-11T11:39:17.767625Z",
     "shell.execute_reply": "2023-02-11T11:39:17.765560Z"
    },
    "papermill": {
     "duration": 0.046531,
     "end_time": "2023-02-11T11:39:17.770933",
     "exception": false,
     "start_time": "2023-02-11T11:39:17.724402",
     "status": "completed"
    },
    "tags": []
   },
   "outputs": [
    {
     "name": "stdout",
     "output_type": "stream",
     "text": [
      "state            0.000000\n",
      "district_x      22.264675\n",
      "market          22.264675\n",
      "commodity       22.264675\n",
      "variety         22.264675\n",
      "arrival_date    22.264675\n",
      "min_price       22.264675\n",
      "max_price       22.264675\n",
      "modal_price     22.264675\n",
      "district_y      77.735325\n",
      "JAN             77.735325\n",
      "FEB             77.735325\n",
      "MAR             77.735325\n",
      "APR             77.735325\n",
      "MAY             77.735325\n",
      "JUN             77.735325\n",
      "JUL             77.735325\n",
      "AUG             77.735325\n",
      "SEP             77.735325\n",
      "OCT             77.735325\n",
      "NOV             77.735325\n",
      "DEC             77.735325\n",
      "ANNUAL          77.735325\n",
      "Jan-Feb         77.735325\n",
      "Mar-May         77.735325\n",
      "Jun-Sep         77.735325\n",
      "Oct-Dec         77.735325\n",
      "dtype: float64\n"
     ]
    }
   ],
   "source": [
    "missing_values = state_merged.isna().mean() * 100\n",
    "\n",
    "print(missing_values)"
   ]
  },
  {
   "cell_type": "markdown",
   "id": "14506533",
   "metadata": {
    "papermill": {
     "duration": 0.028625,
     "end_time": "2023-02-11T11:39:17.828450",
     "exception": false,
     "start_time": "2023-02-11T11:39:17.799825",
     "status": "completed"
    },
    "tags": []
   },
   "source": []
  },
  {
   "cell_type": "code",
   "execution_count": 39,
   "id": "156e207c",
   "metadata": {
    "execution": {
     "iopub.execute_input": "2023-02-11T11:39:17.887774Z",
     "iopub.status.busy": "2023-02-11T11:39:17.887348Z",
     "iopub.status.idle": "2023-02-11T11:39:17.892601Z",
     "shell.execute_reply": "2023-02-11T11:39:17.891251Z"
    },
    "papermill": {
     "duration": 0.037564,
     "end_time": "2023-02-11T11:39:17.894816",
     "exception": false,
     "start_time": "2023-02-11T11:39:17.857252",
     "status": "completed"
    },
    "tags": []
   },
   "outputs": [],
   "source": [
    "# Impute missing values with the mean of the column\n",
    "# state_merged.fillna(state_merged.mean(), inplace=True)"
   ]
  },
  {
   "cell_type": "code",
   "execution_count": 40,
   "id": "d3024e56",
   "metadata": {
    "execution": {
     "iopub.execute_input": "2023-02-11T11:39:17.953400Z",
     "iopub.status.busy": "2023-02-11T11:39:17.953016Z",
     "iopub.status.idle": "2023-02-11T11:39:17.958391Z",
     "shell.execute_reply": "2023-02-11T11:39:17.957179Z"
    },
    "papermill": {
     "duration": 0.03882,
     "end_time": "2023-02-11T11:39:17.961859",
     "exception": false,
     "start_time": "2023-02-11T11:39:17.923039",
     "status": "completed"
    },
    "tags": []
   },
   "outputs": [],
   "source": [
    "# state_merged.isna().sum().sum()"
   ]
  },
  {
   "cell_type": "code",
   "execution_count": 41,
   "id": "3f692dac",
   "metadata": {
    "execution": {
     "iopub.execute_input": "2023-02-11T11:39:18.022258Z",
     "iopub.status.busy": "2023-02-11T11:39:18.021784Z",
     "iopub.status.idle": "2023-02-11T11:39:18.029514Z",
     "shell.execute_reply": "2023-02-11T11:39:18.027968Z"
    },
    "papermill": {
     "duration": 0.04063,
     "end_time": "2023-02-11T11:39:18.032236",
     "exception": false,
     "start_time": "2023-02-11T11:39:17.991606",
     "status": "completed"
    },
    "tags": []
   },
   "outputs": [
    {
     "name": "stdout",
     "output_type": "stream",
     "text": [
      "['ANDAMAN & NICOBAR ISLANDS' 'ARUNACHAL PRADESH' 'ASSAM & MEGHALAYA'\n",
      " 'NAGA MANI MIZO TRIPURA' 'SUB HIMALAYAN WEST BENGAL & SIKKIM'\n",
      " 'GANGETIC WEST BENGAL' 'ORISSA' 'JHARKHAND' 'BIHAR' 'EAST UTTAR PRADESH'\n",
      " 'WEST UTTAR PRADESH' 'UTTARAKHAND' 'HARYANA DELHI & CHANDIGARH' 'PUNJAB'\n",
      " 'HIMACHAL PRADESH' 'JAMMU & KASHMIR' 'WEST RAJASTHAN' 'EAST RAJASTHAN'\n",
      " 'WEST MADHYA PRADESH' 'EAST MADHYA PRADESH' 'GUJARAT REGION'\n",
      " 'SAURASHTRA & KUTCH' 'KONKAN & GOA' 'MADHYA MAHARASHTRA' 'MATATHWADA'\n",
      " 'VIDARBHA' 'CHHATTISGARH' 'COASTAL ANDHRA PRADESH' 'TELANGANA'\n",
      " 'RAYALSEEMA' 'TAMIL NADU' 'COASTAL KARNATAKA' 'NORTH INTERIOR KARNATAKA'\n",
      " 'SOUTH INTERIOR KARNATAKA' 'KERALA' 'LAKSHADWEEP']\n"
     ]
    }
   ],
   "source": [
    "subdivisions=india_rainfall_data['SUBDIVISION'].unique()\n",
    "print(subdivisions)"
   ]
  },
  {
   "cell_type": "code",
   "execution_count": 42,
   "id": "552193d9",
   "metadata": {
    "execution": {
     "iopub.execute_input": "2023-02-11T11:39:18.090906Z",
     "iopub.status.busy": "2023-02-11T11:39:18.090490Z",
     "iopub.status.idle": "2023-02-11T11:39:18.096630Z",
     "shell.execute_reply": "2023-02-11T11:39:18.094866Z"
    },
    "papermill": {
     "duration": 0.03783,
     "end_time": "2023-02-11T11:39:18.098791",
     "exception": false,
     "start_time": "2023-02-11T11:39:18.060961",
     "status": "completed"
    },
    "tags": []
   },
   "outputs": [
    {
     "name": "stdout",
     "output_type": "stream",
     "text": [
      "36\n"
     ]
    }
   ],
   "source": [
    "print(len(subdivisions))"
   ]
  },
  {
   "cell_type": "code",
   "execution_count": 43,
   "id": "e617048d",
   "metadata": {
    "execution": {
     "iopub.execute_input": "2023-02-11T11:39:18.157927Z",
     "iopub.status.busy": "2023-02-11T11:39:18.157514Z",
     "iopub.status.idle": "2023-02-11T11:39:18.181610Z",
     "shell.execute_reply": "2023-02-11T11:39:18.180733Z"
    },
    "papermill": {
     "duration": 0.056246,
     "end_time": "2023-02-11T11:39:18.183909",
     "exception": false,
     "start_time": "2023-02-11T11:39:18.127663",
     "status": "completed"
    },
    "tags": []
   },
   "outputs": [
    {
     "data": {
      "text/html": [
       "<div>\n",
       "<style scoped>\n",
       "    .dataframe tbody tr th:only-of-type {\n",
       "        vertical-align: middle;\n",
       "    }\n",
       "\n",
       "    .dataframe tbody tr th {\n",
       "        vertical-align: top;\n",
       "    }\n",
       "\n",
       "    .dataframe thead th {\n",
       "        text-align: right;\n",
       "    }\n",
       "</style>\n",
       "<table border=\"1\" class=\"dataframe\">\n",
       "  <thead>\n",
       "    <tr style=\"text-align: right;\">\n",
       "      <th></th>\n",
       "      <th>state</th>\n",
       "      <th>YEAR</th>\n",
       "      <th>JAN</th>\n",
       "      <th>FEB</th>\n",
       "      <th>MAR</th>\n",
       "      <th>APR</th>\n",
       "      <th>MAY</th>\n",
       "      <th>JUN</th>\n",
       "      <th>JUL</th>\n",
       "      <th>AUG</th>\n",
       "      <th>SEP</th>\n",
       "      <th>OCT</th>\n",
       "      <th>NOV</th>\n",
       "      <th>DEC</th>\n",
       "      <th>ANNUAL</th>\n",
       "      <th>Jan-Feb</th>\n",
       "      <th>Mar-May</th>\n",
       "      <th>Jun-Sep</th>\n",
       "      <th>Oct-Dec</th>\n",
       "    </tr>\n",
       "  </thead>\n",
       "  <tbody>\n",
       "    <tr>\n",
       "      <th>0</th>\n",
       "      <td>ANDAMAN &amp; NICOBAR ISLANDS</td>\n",
       "      <td>1901</td>\n",
       "      <td>49.2</td>\n",
       "      <td>87.1</td>\n",
       "      <td>29.2</td>\n",
       "      <td>2.3</td>\n",
       "      <td>528.8</td>\n",
       "      <td>517.5</td>\n",
       "      <td>365.1</td>\n",
       "      <td>481.1</td>\n",
       "      <td>332.6</td>\n",
       "      <td>388.5</td>\n",
       "      <td>558.2</td>\n",
       "      <td>33.6</td>\n",
       "      <td>3373.2</td>\n",
       "      <td>136.3</td>\n",
       "      <td>560.3</td>\n",
       "      <td>1696.3</td>\n",
       "      <td>980.3</td>\n",
       "    </tr>\n",
       "    <tr>\n",
       "      <th>1</th>\n",
       "      <td>ANDAMAN &amp; NICOBAR ISLANDS</td>\n",
       "      <td>1902</td>\n",
       "      <td>0.0</td>\n",
       "      <td>159.8</td>\n",
       "      <td>12.2</td>\n",
       "      <td>0.0</td>\n",
       "      <td>446.1</td>\n",
       "      <td>537.1</td>\n",
       "      <td>228.9</td>\n",
       "      <td>753.7</td>\n",
       "      <td>666.2</td>\n",
       "      <td>197.2</td>\n",
       "      <td>359.0</td>\n",
       "      <td>160.5</td>\n",
       "      <td>3520.7</td>\n",
       "      <td>159.8</td>\n",
       "      <td>458.3</td>\n",
       "      <td>2185.9</td>\n",
       "      <td>716.7</td>\n",
       "    </tr>\n",
       "    <tr>\n",
       "      <th>2</th>\n",
       "      <td>ANDAMAN &amp; NICOBAR ISLANDS</td>\n",
       "      <td>1903</td>\n",
       "      <td>12.7</td>\n",
       "      <td>144.0</td>\n",
       "      <td>0.0</td>\n",
       "      <td>1.0</td>\n",
       "      <td>235.1</td>\n",
       "      <td>479.9</td>\n",
       "      <td>728.4</td>\n",
       "      <td>326.7</td>\n",
       "      <td>339.0</td>\n",
       "      <td>181.2</td>\n",
       "      <td>284.4</td>\n",
       "      <td>225.0</td>\n",
       "      <td>2957.4</td>\n",
       "      <td>156.7</td>\n",
       "      <td>236.1</td>\n",
       "      <td>1874.0</td>\n",
       "      <td>690.6</td>\n",
       "    </tr>\n",
       "    <tr>\n",
       "      <th>3</th>\n",
       "      <td>ANDAMAN &amp; NICOBAR ISLANDS</td>\n",
       "      <td>1904</td>\n",
       "      <td>9.4</td>\n",
       "      <td>14.7</td>\n",
       "      <td>0.0</td>\n",
       "      <td>202.4</td>\n",
       "      <td>304.5</td>\n",
       "      <td>495.1</td>\n",
       "      <td>502.0</td>\n",
       "      <td>160.1</td>\n",
       "      <td>820.4</td>\n",
       "      <td>222.2</td>\n",
       "      <td>308.7</td>\n",
       "      <td>40.1</td>\n",
       "      <td>3079.6</td>\n",
       "      <td>24.1</td>\n",
       "      <td>506.9</td>\n",
       "      <td>1977.6</td>\n",
       "      <td>571.0</td>\n",
       "    </tr>\n",
       "    <tr>\n",
       "      <th>4</th>\n",
       "      <td>ANDAMAN &amp; NICOBAR ISLANDS</td>\n",
       "      <td>1905</td>\n",
       "      <td>1.3</td>\n",
       "      <td>0.0</td>\n",
       "      <td>3.3</td>\n",
       "      <td>26.9</td>\n",
       "      <td>279.5</td>\n",
       "      <td>628.7</td>\n",
       "      <td>368.7</td>\n",
       "      <td>330.5</td>\n",
       "      <td>297.0</td>\n",
       "      <td>260.7</td>\n",
       "      <td>25.4</td>\n",
       "      <td>344.7</td>\n",
       "      <td>2566.7</td>\n",
       "      <td>1.3</td>\n",
       "      <td>309.7</td>\n",
       "      <td>1624.9</td>\n",
       "      <td>630.8</td>\n",
       "    </tr>\n",
       "  </tbody>\n",
       "</table>\n",
       "</div>"
      ],
      "text/plain": [
       "                       state  YEAR   JAN    FEB   MAR    APR    MAY    JUN  \\\n",
       "0  ANDAMAN & NICOBAR ISLANDS  1901  49.2   87.1  29.2    2.3  528.8  517.5   \n",
       "1  ANDAMAN & NICOBAR ISLANDS  1902   0.0  159.8  12.2    0.0  446.1  537.1   \n",
       "2  ANDAMAN & NICOBAR ISLANDS  1903  12.7  144.0   0.0    1.0  235.1  479.9   \n",
       "3  ANDAMAN & NICOBAR ISLANDS  1904   9.4   14.7   0.0  202.4  304.5  495.1   \n",
       "4  ANDAMAN & NICOBAR ISLANDS  1905   1.3    0.0   3.3   26.9  279.5  628.7   \n",
       "\n",
       "     JUL    AUG    SEP    OCT    NOV    DEC  ANNUAL  Jan-Feb  Mar-May  \\\n",
       "0  365.1  481.1  332.6  388.5  558.2   33.6  3373.2    136.3    560.3   \n",
       "1  228.9  753.7  666.2  197.2  359.0  160.5  3520.7    159.8    458.3   \n",
       "2  728.4  326.7  339.0  181.2  284.4  225.0  2957.4    156.7    236.1   \n",
       "3  502.0  160.1  820.4  222.2  308.7   40.1  3079.6     24.1    506.9   \n",
       "4  368.7  330.5  297.0  260.7   25.4  344.7  2566.7      1.3    309.7   \n",
       "\n",
       "   Jun-Sep  Oct-Dec  \n",
       "0   1696.3    980.3  \n",
       "1   2185.9    716.7  \n",
       "2   1874.0    690.6  \n",
       "3   1977.6    571.0  \n",
       "4   1624.9    630.8  "
      ]
     },
     "execution_count": 43,
     "metadata": {},
     "output_type": "execute_result"
    }
   ],
   "source": [
    "india_rainfall_data.rename(columns={'SUBDIVISION': 'state'},inplace=True)\n",
    "india_rainfall_data.head()"
   ]
  },
  {
   "cell_type": "code",
   "execution_count": 44,
   "id": "3d97412a",
   "metadata": {
    "execution": {
     "iopub.execute_input": "2023-02-11T11:39:18.243590Z",
     "iopub.status.busy": "2023-02-11T11:39:18.242609Z",
     "iopub.status.idle": "2023-02-11T11:39:18.416458Z",
     "shell.execute_reply": "2023-02-11T11:39:18.414749Z"
    },
    "papermill": {
     "duration": 0.206215,
     "end_time": "2023-02-11T11:39:18.418658",
     "exception": false,
     "start_time": "2023-02-11T11:39:18.212443",
     "status": "completed"
    },
    "tags": []
   },
   "outputs": [
    {
     "name": "stderr",
     "output_type": "stream",
     "text": [
      "/opt/conda/lib/python3.7/site-packages/ipykernel_launcher.py:5: FutureWarning: Dropping of nuisance columns in DataFrame reductions (with 'numeric_only=None') is deprecated; in a future version this will raise TypeError.  Select only valid columns before calling the reduction.\n",
      "  \"\"\"\n"
     ]
    },
    {
     "data": {
      "text/html": [
       "<div>\n",
       "<style scoped>\n",
       "    .dataframe tbody tr th:only-of-type {\n",
       "        vertical-align: middle;\n",
       "    }\n",
       "\n",
       "    .dataframe tbody tr th {\n",
       "        vertical-align: top;\n",
       "    }\n",
       "\n",
       "    .dataframe thead th {\n",
       "        text-align: right;\n",
       "    }\n",
       "</style>\n",
       "<table border=\"1\" class=\"dataframe\">\n",
       "  <thead>\n",
       "    <tr style=\"text-align: right;\">\n",
       "      <th></th>\n",
       "      <th>state</th>\n",
       "      <th>YEAR</th>\n",
       "      <th>JAN_x</th>\n",
       "      <th>FEB_x</th>\n",
       "      <th>MAR_x</th>\n",
       "      <th>APR_x</th>\n",
       "      <th>MAY_x</th>\n",
       "      <th>JUN_x</th>\n",
       "      <th>JUL_x</th>\n",
       "      <th>AUG_x</th>\n",
       "      <th>...</th>\n",
       "      <th>Jun-Sep_y</th>\n",
       "      <th>Oct-Dec_y</th>\n",
       "      <th>district_y</th>\n",
       "      <th>market</th>\n",
       "      <th>commodity</th>\n",
       "      <th>variety</th>\n",
       "      <th>arrival_date</th>\n",
       "      <th>min_price</th>\n",
       "      <th>max_price</th>\n",
       "      <th>modal_price</th>\n",
       "    </tr>\n",
       "  </thead>\n",
       "  <tbody>\n",
       "    <tr>\n",
       "      <th>0</th>\n",
       "      <td>ANDAMAN &amp; NICOBAR ISLANDS</td>\n",
       "      <td>1901.0</td>\n",
       "      <td>49.2</td>\n",
       "      <td>87.1</td>\n",
       "      <td>29.2</td>\n",
       "      <td>2.3</td>\n",
       "      <td>528.8</td>\n",
       "      <td>517.5</td>\n",
       "      <td>365.1</td>\n",
       "      <td>481.1</td>\n",
       "      <td>...</td>\n",
       "      <td>1007.78413</td>\n",
       "      <td>207.296242</td>\n",
       "      <td>NaN</td>\n",
       "      <td>NaN</td>\n",
       "      <td>NaN</td>\n",
       "      <td>NaN</td>\n",
       "      <td>NaN</td>\n",
       "      <td>2456.230563</td>\n",
       "      <td>2855.890527</td>\n",
       "      <td>2698.865952</td>\n",
       "    </tr>\n",
       "    <tr>\n",
       "      <th>1</th>\n",
       "      <td>ANDAMAN &amp; NICOBAR ISLANDS</td>\n",
       "      <td>1902.0</td>\n",
       "      <td>0.0</td>\n",
       "      <td>159.8</td>\n",
       "      <td>12.2</td>\n",
       "      <td>0.0</td>\n",
       "      <td>446.1</td>\n",
       "      <td>537.1</td>\n",
       "      <td>228.9</td>\n",
       "      <td>753.7</td>\n",
       "      <td>...</td>\n",
       "      <td>1007.78413</td>\n",
       "      <td>207.296242</td>\n",
       "      <td>NaN</td>\n",
       "      <td>NaN</td>\n",
       "      <td>NaN</td>\n",
       "      <td>NaN</td>\n",
       "      <td>NaN</td>\n",
       "      <td>2456.230563</td>\n",
       "      <td>2855.890527</td>\n",
       "      <td>2698.865952</td>\n",
       "    </tr>\n",
       "    <tr>\n",
       "      <th>2</th>\n",
       "      <td>ANDAMAN &amp; NICOBAR ISLANDS</td>\n",
       "      <td>1903.0</td>\n",
       "      <td>12.7</td>\n",
       "      <td>144.0</td>\n",
       "      <td>0.0</td>\n",
       "      <td>1.0</td>\n",
       "      <td>235.1</td>\n",
       "      <td>479.9</td>\n",
       "      <td>728.4</td>\n",
       "      <td>326.7</td>\n",
       "      <td>...</td>\n",
       "      <td>1007.78413</td>\n",
       "      <td>207.296242</td>\n",
       "      <td>NaN</td>\n",
       "      <td>NaN</td>\n",
       "      <td>NaN</td>\n",
       "      <td>NaN</td>\n",
       "      <td>NaN</td>\n",
       "      <td>2456.230563</td>\n",
       "      <td>2855.890527</td>\n",
       "      <td>2698.865952</td>\n",
       "    </tr>\n",
       "    <tr>\n",
       "      <th>3</th>\n",
       "      <td>ANDAMAN &amp; NICOBAR ISLANDS</td>\n",
       "      <td>1904.0</td>\n",
       "      <td>9.4</td>\n",
       "      <td>14.7</td>\n",
       "      <td>0.0</td>\n",
       "      <td>202.4</td>\n",
       "      <td>304.5</td>\n",
       "      <td>495.1</td>\n",
       "      <td>502.0</td>\n",
       "      <td>160.1</td>\n",
       "      <td>...</td>\n",
       "      <td>1007.78413</td>\n",
       "      <td>207.296242</td>\n",
       "      <td>NaN</td>\n",
       "      <td>NaN</td>\n",
       "      <td>NaN</td>\n",
       "      <td>NaN</td>\n",
       "      <td>NaN</td>\n",
       "      <td>2456.230563</td>\n",
       "      <td>2855.890527</td>\n",
       "      <td>2698.865952</td>\n",
       "    </tr>\n",
       "    <tr>\n",
       "      <th>4</th>\n",
       "      <td>ANDAMAN &amp; NICOBAR ISLANDS</td>\n",
       "      <td>1905.0</td>\n",
       "      <td>1.3</td>\n",
       "      <td>0.0</td>\n",
       "      <td>3.3</td>\n",
       "      <td>26.9</td>\n",
       "      <td>279.5</td>\n",
       "      <td>628.7</td>\n",
       "      <td>368.7</td>\n",
       "      <td>330.5</td>\n",
       "      <td>...</td>\n",
       "      <td>1007.78413</td>\n",
       "      <td>207.296242</td>\n",
       "      <td>NaN</td>\n",
       "      <td>NaN</td>\n",
       "      <td>NaN</td>\n",
       "      <td>NaN</td>\n",
       "      <td>NaN</td>\n",
       "      <td>2456.230563</td>\n",
       "      <td>2855.890527</td>\n",
       "      <td>2698.865952</td>\n",
       "    </tr>\n",
       "  </tbody>\n",
       "</table>\n",
       "<p>5 rows × 45 columns</p>\n",
       "</div>"
      ],
      "text/plain": [
       "                       state    YEAR  JAN_x  FEB_x  MAR_x  APR_x  MAY_x  \\\n",
       "0  ANDAMAN & NICOBAR ISLANDS  1901.0   49.2   87.1   29.2    2.3  528.8   \n",
       "1  ANDAMAN & NICOBAR ISLANDS  1902.0    0.0  159.8   12.2    0.0  446.1   \n",
       "2  ANDAMAN & NICOBAR ISLANDS  1903.0   12.7  144.0    0.0    1.0  235.1   \n",
       "3  ANDAMAN & NICOBAR ISLANDS  1904.0    9.4   14.7    0.0  202.4  304.5   \n",
       "4  ANDAMAN & NICOBAR ISLANDS  1905.0    1.3    0.0    3.3   26.9  279.5   \n",
       "\n",
       "   JUN_x  JUL_x  AUG_x  ...   Jun-Sep_y   Oct-Dec_y  district_y  market  \\\n",
       "0  517.5  365.1  481.1  ...  1007.78413  207.296242         NaN     NaN   \n",
       "1  537.1  228.9  753.7  ...  1007.78413  207.296242         NaN     NaN   \n",
       "2  479.9  728.4  326.7  ...  1007.78413  207.296242         NaN     NaN   \n",
       "3  495.1  502.0  160.1  ...  1007.78413  207.296242         NaN     NaN   \n",
       "4  628.7  368.7  330.5  ...  1007.78413  207.296242         NaN     NaN   \n",
       "\n",
       "   commodity  variety  arrival_date    min_price    max_price  modal_price  \n",
       "0        NaN      NaN           NaN  2456.230563  2855.890527  2698.865952  \n",
       "1        NaN      NaN           NaN  2456.230563  2855.890527  2698.865952  \n",
       "2        NaN      NaN           NaN  2456.230563  2855.890527  2698.865952  \n",
       "3        NaN      NaN           NaN  2456.230563  2855.890527  2698.865952  \n",
       "4        NaN      NaN           NaN  2456.230563  2855.890527  2698.865952  \n",
       "\n",
       "[5 rows x 45 columns]"
      ]
     },
     "execution_count": 44,
     "metadata": {},
     "output_type": "execute_result"
    }
   ],
   "source": [
    "merged_dataset = pd.merge(india_rainfall_data,district_rainfall_data, on='state', how='outer')\n",
    "merged_dataset = pd.merge(merged_dataset,agriculture_related_data, on='state', how='outer')\n",
    "\n",
    "# Impute all NaN values with the mean value of each column\n",
    "merged_dataset.fillna(merged_dataset.mean(), inplace=True)\n",
    "\n",
    "# Print the head of the merged dataset\n",
    "merged_dataset.head()"
   ]
  },
  {
   "cell_type": "markdown",
   "id": "b031d6b8",
   "metadata": {
    "papermill": {
     "duration": 0.028998,
     "end_time": "2023-02-11T11:39:18.477196",
     "exception": false,
     "start_time": "2023-02-11T11:39:18.448198",
     "status": "completed"
    },
    "tags": []
   },
   "source": [
    "please"
   ]
  },
  {
   "cell_type": "code",
   "execution_count": 45,
   "id": "4f5df8de",
   "metadata": {
    "execution": {
     "iopub.execute_input": "2023-02-11T11:39:18.538259Z",
     "iopub.status.busy": "2023-02-11T11:39:18.537829Z",
     "iopub.status.idle": "2023-02-11T11:39:18.554405Z",
     "shell.execute_reply": "2023-02-11T11:39:18.552761Z"
    },
    "papermill": {
     "duration": 0.050057,
     "end_time": "2023-02-11T11:39:18.556732",
     "exception": false,
     "start_time": "2023-02-11T11:39:18.506675",
     "status": "completed"
    },
    "tags": []
   },
   "outputs": [
    {
     "name": "stdout",
     "output_type": "stream",
     "text": [
      "10.616104747729675\n"
     ]
    }
   ],
   "source": [
    "missing_values_count = merged_dataset.isnull().sum()\n",
    "# how many total missing values do we have?\n",
    "total_cells = np.product(merged_dataset.shape)\n",
    "total_missing = missing_values_count.sum()\n",
    "\n",
    "# percent of data that is missing\n",
    "percent_missing = (total_missing/total_cells) * 100\n",
    "print(percent_missing)"
   ]
  },
  {
   "cell_type": "code",
   "execution_count": 46,
   "id": "63f3e5c3",
   "metadata": {
    "execution": {
     "iopub.execute_input": "2023-02-11T11:39:18.618680Z",
     "iopub.status.busy": "2023-02-11T11:39:18.617424Z",
     "iopub.status.idle": "2023-02-11T11:39:18.624471Z",
     "shell.execute_reply": "2023-02-11T11:39:18.623186Z"
    },
    "papermill": {
     "duration": 0.039616,
     "end_time": "2023-02-11T11:39:18.626357",
     "exception": false,
     "start_time": "2023-02-11T11:39:18.586741",
     "status": "completed"
    },
    "tags": []
   },
   "outputs": [
    {
     "data": {
      "text/plain": [
       "123038"
      ]
     },
     "execution_count": 46,
     "metadata": {},
     "output_type": "execute_result"
    }
   ],
   "source": [
    "total_missing"
   ]
  },
  {
   "cell_type": "code",
   "execution_count": 47,
   "id": "ecd5f074",
   "metadata": {
    "execution": {
     "iopub.execute_input": "2023-02-11T11:39:18.687922Z",
     "iopub.status.busy": "2023-02-11T11:39:18.687463Z",
     "iopub.status.idle": "2023-02-11T11:39:18.695347Z",
     "shell.execute_reply": "2023-02-11T11:39:18.693803Z"
    },
    "papermill": {
     "duration": 0.042011,
     "end_time": "2023-02-11T11:39:18.698242",
     "exception": false,
     "start_time": "2023-02-11T11:39:18.656231",
     "status": "completed"
    },
    "tags": []
   },
   "outputs": [
    {
     "data": {
      "text/plain": [
       "1158975"
      ]
     },
     "execution_count": 47,
     "metadata": {},
     "output_type": "execute_result"
    }
   ],
   "source": [
    "total_cells"
   ]
  },
  {
   "cell_type": "code",
   "execution_count": 48,
   "id": "906ab726",
   "metadata": {
    "execution": {
     "iopub.execute_input": "2023-02-11T11:39:18.760876Z",
     "iopub.status.busy": "2023-02-11T11:39:18.760471Z",
     "iopub.status.idle": "2023-02-11T11:39:18.768166Z",
     "shell.execute_reply": "2023-02-11T11:39:18.767226Z"
    },
    "papermill": {
     "duration": 0.041723,
     "end_time": "2023-02-11T11:39:18.769951",
     "exception": false,
     "start_time": "2023-02-11T11:39:18.728228",
     "status": "completed"
    },
    "tags": []
   },
   "outputs": [
    {
     "data": {
      "text/plain": [
       "state               0\n",
       "YEAR                0\n",
       "JAN_x               0\n",
       "FEB_x               0\n",
       "MAR_x               0\n",
       "APR_x               0\n",
       "MAY_x               0\n",
       "JUN_x               0\n",
       "JUL_x               0\n",
       "AUG_x               0\n",
       "SEP_x               0\n",
       "OCT_x               0\n",
       "NOV_x               0\n",
       "DEC_x               0\n",
       "ANNUAL_x            0\n",
       "Jan-Feb_x           0\n",
       "Mar-May_x           0\n",
       "Jun-Sep_x           0\n",
       "Oct-Dec_x           0\n",
       "district_x       5453\n",
       "JAN_y               0\n",
       "FEB_y               0\n",
       "MAR_y               0\n",
       "APR_y               0\n",
       "MAY_y               0\n",
       "JUN_y               0\n",
       "JUL_y               0\n",
       "AUG_y               0\n",
       "SEP_y               0\n",
       "OCT_y               0\n",
       "NOV_y               0\n",
       "DEC_y               0\n",
       "ANNUAL_y            0\n",
       "Jan-Feb_y           0\n",
       "Mar-May_y           0\n",
       "Jun-Sep_y           0\n",
       "Oct-Dec_y           0\n",
       "district_y      23517\n",
       "market          23517\n",
       "commodity       23517\n",
       "variety         23517\n",
       "arrival_date    23517\n",
       "min_price           0\n",
       "max_price           0\n",
       "modal_price         0\n",
       "dtype: int64"
      ]
     },
     "execution_count": 48,
     "metadata": {},
     "output_type": "execute_result"
    }
   ],
   "source": [
    "missing_values_count"
   ]
  },
  {
   "cell_type": "code",
   "execution_count": 49,
   "id": "4a49db51",
   "metadata": {
    "execution": {
     "iopub.execute_input": "2023-02-11T11:39:18.829767Z",
     "iopub.status.busy": "2023-02-11T11:39:18.829408Z",
     "iopub.status.idle": "2023-02-11T11:39:18.846561Z",
     "shell.execute_reply": "2023-02-11T11:39:18.845186Z"
    },
    "papermill": {
     "duration": 0.050172,
     "end_time": "2023-02-11T11:39:18.849209",
     "exception": false,
     "start_time": "2023-02-11T11:39:18.799037",
     "status": "completed"
    },
    "tags": []
   },
   "outputs": [
    {
     "data": {
      "text/plain": [
       "state               0\n",
       "YEAR                0\n",
       "JAN_x               0\n",
       "FEB_x               0\n",
       "MAR_x               0\n",
       "APR_x               0\n",
       "MAY_x               0\n",
       "JUN_x               0\n",
       "JUL_x               0\n",
       "AUG_x               0\n",
       "SEP_x               0\n",
       "OCT_x               0\n",
       "NOV_x               0\n",
       "DEC_x               0\n",
       "ANNUAL_x            0\n",
       "Jan-Feb_x           0\n",
       "Mar-May_x           0\n",
       "Jun-Sep_x           0\n",
       "Oct-Dec_x           0\n",
       "district_x       5453\n",
       "JAN_y               0\n",
       "FEB_y               0\n",
       "MAR_y               0\n",
       "APR_y               0\n",
       "MAY_y               0\n",
       "JUN_y               0\n",
       "JUL_y               0\n",
       "AUG_y               0\n",
       "SEP_y               0\n",
       "OCT_y               0\n",
       "NOV_y               0\n",
       "DEC_y               0\n",
       "ANNUAL_y            0\n",
       "Jan-Feb_y           0\n",
       "Mar-May_y           0\n",
       "Jun-Sep_y           0\n",
       "Oct-Dec_y           0\n",
       "district_y      23517\n",
       "market          23517\n",
       "commodity       23517\n",
       "variety         23517\n",
       "arrival_date    23517\n",
       "min_price           0\n",
       "max_price           0\n",
       "modal_price         0\n",
       "dtype: int64"
      ]
     },
     "execution_count": 49,
     "metadata": {},
     "output_type": "execute_result"
    }
   ],
   "source": [
    "merged_dataset.isna().sum()"
   ]
  },
  {
   "cell_type": "code",
   "execution_count": 50,
   "id": "9d7987ec",
   "metadata": {
    "execution": {
     "iopub.execute_input": "2023-02-11T11:39:18.913934Z",
     "iopub.status.busy": "2023-02-11T11:39:18.913287Z",
     "iopub.status.idle": "2023-02-11T11:39:18.923636Z",
     "shell.execute_reply": "2023-02-11T11:39:18.922766Z"
    },
    "papermill": {
     "duration": 0.046509,
     "end_time": "2023-02-11T11:39:18.926040",
     "exception": false,
     "start_time": "2023-02-11T11:39:18.879531",
     "status": "completed"
    },
    "tags": []
   },
   "outputs": [],
   "source": [
    "df=merged_dataset.copy()\n",
    "df.drop(columns=['district_x','district_y','market','commodity','variety','arrival_date'], inplace=True)\n",
    "\n"
   ]
  },
  {
   "cell_type": "code",
   "execution_count": 51,
   "id": "eab387d3",
   "metadata": {
    "execution": {
     "iopub.execute_input": "2023-02-11T11:39:18.989329Z",
     "iopub.status.busy": "2023-02-11T11:39:18.988917Z",
     "iopub.status.idle": "2023-02-11T11:39:18.998325Z",
     "shell.execute_reply": "2023-02-11T11:39:18.997602Z"
    },
    "papermill": {
     "duration": 0.043956,
     "end_time": "2023-02-11T11:39:19.000808",
     "exception": false,
     "start_time": "2023-02-11T11:39:18.956852",
     "status": "completed"
    },
    "tags": []
   },
   "outputs": [
    {
     "data": {
      "text/plain": [
       "0"
      ]
     },
     "execution_count": 51,
     "metadata": {},
     "output_type": "execute_result"
    }
   ],
   "source": [
    "df.isnull().sum().sum()"
   ]
  },
  {
   "cell_type": "code",
   "execution_count": 52,
   "id": "6163ada1",
   "metadata": {
    "execution": {
     "iopub.execute_input": "2023-02-11T11:39:19.063072Z",
     "iopub.status.busy": "2023-02-11T11:39:19.062599Z",
     "iopub.status.idle": "2023-02-11T11:39:19.069962Z",
     "shell.execute_reply": "2023-02-11T11:39:19.068529Z"
    },
    "papermill": {
     "duration": 0.040928,
     "end_time": "2023-02-11T11:39:19.071800",
     "exception": false,
     "start_time": "2023-02-11T11:39:19.030872",
     "status": "completed"
    },
    "tags": []
   },
   "outputs": [],
   "source": [
    "y=df['state']\n",
    "X=df.drop(columns=['state'])"
   ]
  },
  {
   "cell_type": "code",
   "execution_count": 53,
   "id": "82df38dc",
   "metadata": {
    "execution": {
     "iopub.execute_input": "2023-02-11T11:39:19.131834Z",
     "iopub.status.busy": "2023-02-11T11:39:19.131437Z",
     "iopub.status.idle": "2023-02-11T11:39:19.157150Z",
     "shell.execute_reply": "2023-02-11T11:39:19.156214Z"
    },
    "papermill": {
     "duration": 0.059183,
     "end_time": "2023-02-11T11:39:19.160362",
     "exception": false,
     "start_time": "2023-02-11T11:39:19.101179",
     "status": "completed"
    },
    "tags": []
   },
   "outputs": [
    {
     "data": {
      "text/html": [
       "<div>\n",
       "<style scoped>\n",
       "    .dataframe tbody tr th:only-of-type {\n",
       "        vertical-align: middle;\n",
       "    }\n",
       "\n",
       "    .dataframe tbody tr th {\n",
       "        vertical-align: top;\n",
       "    }\n",
       "\n",
       "    .dataframe thead th {\n",
       "        text-align: right;\n",
       "    }\n",
       "</style>\n",
       "<table border=\"1\" class=\"dataframe\">\n",
       "  <thead>\n",
       "    <tr style=\"text-align: right;\">\n",
       "      <th></th>\n",
       "      <th>YEAR</th>\n",
       "      <th>JAN_x</th>\n",
       "      <th>FEB_x</th>\n",
       "      <th>MAR_x</th>\n",
       "      <th>APR_x</th>\n",
       "      <th>MAY_x</th>\n",
       "      <th>JUN_x</th>\n",
       "      <th>JUL_x</th>\n",
       "      <th>AUG_x</th>\n",
       "      <th>SEP_x</th>\n",
       "      <th>...</th>\n",
       "      <th>NOV_y</th>\n",
       "      <th>DEC_y</th>\n",
       "      <th>ANNUAL_y</th>\n",
       "      <th>Jan-Feb_y</th>\n",
       "      <th>Mar-May_y</th>\n",
       "      <th>Jun-Sep_y</th>\n",
       "      <th>Oct-Dec_y</th>\n",
       "      <th>min_price</th>\n",
       "      <th>max_price</th>\n",
       "      <th>modal_price</th>\n",
       "    </tr>\n",
       "  </thead>\n",
       "  <tbody>\n",
       "    <tr>\n",
       "      <th>0</th>\n",
       "      <td>1901.0</td>\n",
       "      <td>49.2</td>\n",
       "      <td>87.1</td>\n",
       "      <td>29.2</td>\n",
       "      <td>2.3</td>\n",
       "      <td>528.8</td>\n",
       "      <td>517.5</td>\n",
       "      <td>365.1</td>\n",
       "      <td>481.1</td>\n",
       "      <td>332.6</td>\n",
       "      <td>...</td>\n",
       "      <td>58.700837</td>\n",
       "      <td>28.529795</td>\n",
       "      <td>1427.970678</td>\n",
       "      <td>40.871239</td>\n",
       "      <td>172.019067</td>\n",
       "      <td>1007.78413</td>\n",
       "      <td>207.296242</td>\n",
       "      <td>2456.230563</td>\n",
       "      <td>2855.890527</td>\n",
       "      <td>2698.865952</td>\n",
       "    </tr>\n",
       "    <tr>\n",
       "      <th>1</th>\n",
       "      <td>1902.0</td>\n",
       "      <td>0.0</td>\n",
       "      <td>159.8</td>\n",
       "      <td>12.2</td>\n",
       "      <td>0.0</td>\n",
       "      <td>446.1</td>\n",
       "      <td>537.1</td>\n",
       "      <td>228.9</td>\n",
       "      <td>753.7</td>\n",
       "      <td>666.2</td>\n",
       "      <td>...</td>\n",
       "      <td>58.700837</td>\n",
       "      <td>28.529795</td>\n",
       "      <td>1427.970678</td>\n",
       "      <td>40.871239</td>\n",
       "      <td>172.019067</td>\n",
       "      <td>1007.78413</td>\n",
       "      <td>207.296242</td>\n",
       "      <td>2456.230563</td>\n",
       "      <td>2855.890527</td>\n",
       "      <td>2698.865952</td>\n",
       "    </tr>\n",
       "    <tr>\n",
       "      <th>2</th>\n",
       "      <td>1903.0</td>\n",
       "      <td>12.7</td>\n",
       "      <td>144.0</td>\n",
       "      <td>0.0</td>\n",
       "      <td>1.0</td>\n",
       "      <td>235.1</td>\n",
       "      <td>479.9</td>\n",
       "      <td>728.4</td>\n",
       "      <td>326.7</td>\n",
       "      <td>339.0</td>\n",
       "      <td>...</td>\n",
       "      <td>58.700837</td>\n",
       "      <td>28.529795</td>\n",
       "      <td>1427.970678</td>\n",
       "      <td>40.871239</td>\n",
       "      <td>172.019067</td>\n",
       "      <td>1007.78413</td>\n",
       "      <td>207.296242</td>\n",
       "      <td>2456.230563</td>\n",
       "      <td>2855.890527</td>\n",
       "      <td>2698.865952</td>\n",
       "    </tr>\n",
       "    <tr>\n",
       "      <th>3</th>\n",
       "      <td>1904.0</td>\n",
       "      <td>9.4</td>\n",
       "      <td>14.7</td>\n",
       "      <td>0.0</td>\n",
       "      <td>202.4</td>\n",
       "      <td>304.5</td>\n",
       "      <td>495.1</td>\n",
       "      <td>502.0</td>\n",
       "      <td>160.1</td>\n",
       "      <td>820.4</td>\n",
       "      <td>...</td>\n",
       "      <td>58.700837</td>\n",
       "      <td>28.529795</td>\n",
       "      <td>1427.970678</td>\n",
       "      <td>40.871239</td>\n",
       "      <td>172.019067</td>\n",
       "      <td>1007.78413</td>\n",
       "      <td>207.296242</td>\n",
       "      <td>2456.230563</td>\n",
       "      <td>2855.890527</td>\n",
       "      <td>2698.865952</td>\n",
       "    </tr>\n",
       "    <tr>\n",
       "      <th>4</th>\n",
       "      <td>1905.0</td>\n",
       "      <td>1.3</td>\n",
       "      <td>0.0</td>\n",
       "      <td>3.3</td>\n",
       "      <td>26.9</td>\n",
       "      <td>279.5</td>\n",
       "      <td>628.7</td>\n",
       "      <td>368.7</td>\n",
       "      <td>330.5</td>\n",
       "      <td>297.0</td>\n",
       "      <td>...</td>\n",
       "      <td>58.700837</td>\n",
       "      <td>28.529795</td>\n",
       "      <td>1427.970678</td>\n",
       "      <td>40.871239</td>\n",
       "      <td>172.019067</td>\n",
       "      <td>1007.78413</td>\n",
       "      <td>207.296242</td>\n",
       "      <td>2456.230563</td>\n",
       "      <td>2855.890527</td>\n",
       "      <td>2698.865952</td>\n",
       "    </tr>\n",
       "  </tbody>\n",
       "</table>\n",
       "<p>5 rows × 38 columns</p>\n",
       "</div>"
      ],
      "text/plain": [
       "     YEAR  JAN_x  FEB_x  MAR_x  APR_x  MAY_x  JUN_x  JUL_x  AUG_x  SEP_x  ...  \\\n",
       "0  1901.0   49.2   87.1   29.2    2.3  528.8  517.5  365.1  481.1  332.6  ...   \n",
       "1  1902.0    0.0  159.8   12.2    0.0  446.1  537.1  228.9  753.7  666.2  ...   \n",
       "2  1903.0   12.7  144.0    0.0    1.0  235.1  479.9  728.4  326.7  339.0  ...   \n",
       "3  1904.0    9.4   14.7    0.0  202.4  304.5  495.1  502.0  160.1  820.4  ...   \n",
       "4  1905.0    1.3    0.0    3.3   26.9  279.5  628.7  368.7  330.5  297.0  ...   \n",
       "\n",
       "       NOV_y      DEC_y     ANNUAL_y  Jan-Feb_y   Mar-May_y   Jun-Sep_y  \\\n",
       "0  58.700837  28.529795  1427.970678  40.871239  172.019067  1007.78413   \n",
       "1  58.700837  28.529795  1427.970678  40.871239  172.019067  1007.78413   \n",
       "2  58.700837  28.529795  1427.970678  40.871239  172.019067  1007.78413   \n",
       "3  58.700837  28.529795  1427.970678  40.871239  172.019067  1007.78413   \n",
       "4  58.700837  28.529795  1427.970678  40.871239  172.019067  1007.78413   \n",
       "\n",
       "    Oct-Dec_y    min_price    max_price  modal_price  \n",
       "0  207.296242  2456.230563  2855.890527  2698.865952  \n",
       "1  207.296242  2456.230563  2855.890527  2698.865952  \n",
       "2  207.296242  2456.230563  2855.890527  2698.865952  \n",
       "3  207.296242  2456.230563  2855.890527  2698.865952  \n",
       "4  207.296242  2456.230563  2855.890527  2698.865952  \n",
       "\n",
       "[5 rows x 38 columns]"
      ]
     },
     "execution_count": 53,
     "metadata": {},
     "output_type": "execute_result"
    }
   ],
   "source": [
    "X.head()"
   ]
  },
  {
   "cell_type": "code",
   "execution_count": 54,
   "id": "11f63671",
   "metadata": {
    "execution": {
     "iopub.execute_input": "2023-02-11T11:39:19.222916Z",
     "iopub.status.busy": "2023-02-11T11:39:19.222462Z",
     "iopub.status.idle": "2023-02-11T11:39:19.228620Z",
     "shell.execute_reply": "2023-02-11T11:39:19.227816Z"
    },
    "papermill": {
     "duration": 0.039125,
     "end_time": "2023-02-11T11:39:19.230382",
     "exception": false,
     "start_time": "2023-02-11T11:39:19.191257",
     "status": "completed"
    },
    "tags": []
   },
   "outputs": [
    {
     "data": {
      "text/plain": [
       "(25755, 38)"
      ]
     },
     "execution_count": 54,
     "metadata": {},
     "output_type": "execute_result"
    }
   ],
   "source": [
    "X.shape"
   ]
  },
  {
   "cell_type": "code",
   "execution_count": 55,
   "id": "0de5d1e5",
   "metadata": {
    "execution": {
     "iopub.execute_input": "2023-02-11T11:39:19.294747Z",
     "iopub.status.busy": "2023-02-11T11:39:19.294273Z",
     "iopub.status.idle": "2023-02-11T11:39:19.302052Z",
     "shell.execute_reply": "2023-02-11T11:39:19.300039Z"
    },
    "papermill": {
     "duration": 0.042866,
     "end_time": "2023-02-11T11:39:19.304252",
     "exception": false,
     "start_time": "2023-02-11T11:39:19.261386",
     "status": "completed"
    },
    "tags": []
   },
   "outputs": [
    {
     "data": {
      "text/plain": [
       "Index(['YEAR', 'JAN_x', 'FEB_x', 'MAR_x', 'APR_x', 'MAY_x', 'JUN_x', 'JUL_x',\n",
       "       'AUG_x', 'SEP_x', 'OCT_x', 'NOV_x', 'DEC_x', 'ANNUAL_x', 'Jan-Feb_x',\n",
       "       'Mar-May_x', 'Jun-Sep_x', 'Oct-Dec_x', 'JAN_y', 'FEB_y', 'MAR_y',\n",
       "       'APR_y', 'MAY_y', 'JUN_y', 'JUL_y', 'AUG_y', 'SEP_y', 'OCT_y', 'NOV_y',\n",
       "       'DEC_y', 'ANNUAL_y', 'Jan-Feb_y', 'Mar-May_y', 'Jun-Sep_y', 'Oct-Dec_y',\n",
       "       'min_price', 'max_price', 'modal_price'],\n",
       "      dtype='object')"
      ]
     },
     "execution_count": 55,
     "metadata": {},
     "output_type": "execute_result"
    }
   ],
   "source": [
    "X.columns"
   ]
  },
  {
   "cell_type": "code",
   "execution_count": 56,
   "id": "f8bee0cd",
   "metadata": {
    "execution": {
     "iopub.execute_input": "2023-02-11T11:39:19.367624Z",
     "iopub.status.busy": "2023-02-11T11:39:19.367018Z",
     "iopub.status.idle": "2023-02-11T11:39:19.373953Z",
     "shell.execute_reply": "2023-02-11T11:39:19.373165Z"
    },
    "papermill": {
     "duration": 0.04105,
     "end_time": "2023-02-11T11:39:19.375916",
     "exception": false,
     "start_time": "2023-02-11T11:39:19.334866",
     "status": "completed"
    },
    "tags": []
   },
   "outputs": [
    {
     "data": {
      "text/plain": [
       "(2200, 8)"
      ]
     },
     "execution_count": 56,
     "metadata": {},
     "output_type": "execute_result"
    }
   ],
   "source": [
    "recommendation_data.shape"
   ]
  },
  {
   "cell_type": "markdown",
   "id": "57b6ff1f",
   "metadata": {
    "papermill": {
     "duration": 0.030197,
     "end_time": "2023-02-11T11:39:19.438231",
     "exception": false,
     "start_time": "2023-02-11T11:39:19.408034",
     "status": "completed"
    },
    "tags": []
   },
   "source": [
    "columns of all"
   ]
  },
  {
   "cell_type": "code",
   "execution_count": 57,
   "id": "6df170df",
   "metadata": {
    "execution": {
     "iopub.execute_input": "2023-02-11T11:39:19.501944Z",
     "iopub.status.busy": "2023-02-11T11:39:19.501530Z",
     "iopub.status.idle": "2023-02-11T11:39:19.508595Z",
     "shell.execute_reply": "2023-02-11T11:39:19.507641Z"
    },
    "papermill": {
     "duration": 0.042741,
     "end_time": "2023-02-11T11:39:19.511811",
     "exception": false,
     "start_time": "2023-02-11T11:39:19.469070",
     "status": "completed"
    },
    "tags": []
   },
   "outputs": [
    {
     "data": {
      "text/plain": [
       "Index(['state', 'YEAR', 'JAN_x', 'FEB_x', 'MAR_x', 'APR_x', 'MAY_x', 'JUN_x',\n",
       "       'JUL_x', 'AUG_x', 'SEP_x', 'OCT_x', 'NOV_x', 'DEC_x', 'ANNUAL_x',\n",
       "       'Jan-Feb_x', 'Mar-May_x', 'Jun-Sep_x', 'Oct-Dec_x', 'JAN_y', 'FEB_y',\n",
       "       'MAR_y', 'APR_y', 'MAY_y', 'JUN_y', 'JUL_y', 'AUG_y', 'SEP_y', 'OCT_y',\n",
       "       'NOV_y', 'DEC_y', 'ANNUAL_y', 'Jan-Feb_y', 'Mar-May_y', 'Jun-Sep_y',\n",
       "       'Oct-Dec_y', 'min_price', 'max_price', 'modal_price'],\n",
       "      dtype='object')"
      ]
     },
     "execution_count": 57,
     "metadata": {},
     "output_type": "execute_result"
    }
   ],
   "source": [
    "df.columns"
   ]
  },
  {
   "cell_type": "code",
   "execution_count": 58,
   "id": "4a973e67",
   "metadata": {
    "execution": {
     "iopub.execute_input": "2023-02-11T11:39:19.577624Z",
     "iopub.status.busy": "2023-02-11T11:39:19.577182Z",
     "iopub.status.idle": "2023-02-11T11:39:19.585354Z",
     "shell.execute_reply": "2023-02-11T11:39:19.584044Z"
    },
    "papermill": {
     "duration": 0.043874,
     "end_time": "2023-02-11T11:39:19.587339",
     "exception": false,
     "start_time": "2023-02-11T11:39:19.543465",
     "status": "completed"
    },
    "tags": []
   },
   "outputs": [
    {
     "data": {
      "text/plain": [
       "Index(['N', 'P', 'K', 'temperature', 'humidity', 'ph', 'rainfall', 'label'], dtype='object')"
      ]
     },
     "execution_count": 58,
     "metadata": {},
     "output_type": "execute_result"
    }
   ],
   "source": [
    "recommendation_data.columns"
   ]
  },
  {
   "cell_type": "code",
   "execution_count": 59,
   "id": "9d755089",
   "metadata": {
    "execution": {
     "iopub.execute_input": "2023-02-11T11:39:19.651936Z",
     "iopub.status.busy": "2023-02-11T11:39:19.651493Z",
     "iopub.status.idle": "2023-02-11T11:39:19.692564Z",
     "shell.execute_reply": "2023-02-11T11:39:19.691293Z"
    },
    "papermill": {
     "duration": 0.076214,
     "end_time": "2023-02-11T11:39:19.694865",
     "exception": false,
     "start_time": "2023-02-11T11:39:19.618651",
     "status": "completed"
    },
    "tags": []
   },
   "outputs": [
    {
     "data": {
      "text/html": [
       "<div>\n",
       "<style scoped>\n",
       "    .dataframe tbody tr th:only-of-type {\n",
       "        vertical-align: middle;\n",
       "    }\n",
       "\n",
       "    .dataframe tbody tr th {\n",
       "        vertical-align: top;\n",
       "    }\n",
       "\n",
       "    .dataframe thead th {\n",
       "        text-align: right;\n",
       "    }\n",
       "</style>\n",
       "<table border=\"1\" class=\"dataframe\">\n",
       "  <thead>\n",
       "    <tr style=\"text-align: right;\">\n",
       "      <th></th>\n",
       "      <th>state</th>\n",
       "      <th>YEAR</th>\n",
       "      <th>JAN_x</th>\n",
       "      <th>FEB_x</th>\n",
       "      <th>MAR_x</th>\n",
       "      <th>APR_x</th>\n",
       "      <th>MAY_x</th>\n",
       "      <th>JUN_x</th>\n",
       "      <th>JUL_x</th>\n",
       "      <th>AUG_x</th>\n",
       "      <th>...</th>\n",
       "      <th>NOV_y</th>\n",
       "      <th>DEC_y</th>\n",
       "      <th>ANNUAL_y</th>\n",
       "      <th>Jan-Feb_y</th>\n",
       "      <th>Mar-May_y</th>\n",
       "      <th>Jun-Sep_y</th>\n",
       "      <th>Oct-Dec_y</th>\n",
       "      <th>min_price</th>\n",
       "      <th>max_price</th>\n",
       "      <th>modal_price</th>\n",
       "    </tr>\n",
       "  </thead>\n",
       "  <tbody>\n",
       "    <tr>\n",
       "      <th>0</th>\n",
       "      <td>ANDAMAN &amp; NICOBAR ISLANDS</td>\n",
       "      <td>1901.0</td>\n",
       "      <td>49.2</td>\n",
       "      <td>87.1</td>\n",
       "      <td>29.2</td>\n",
       "      <td>2.3</td>\n",
       "      <td>528.8</td>\n",
       "      <td>517.5</td>\n",
       "      <td>365.1</td>\n",
       "      <td>481.1</td>\n",
       "      <td>...</td>\n",
       "      <td>58.700837</td>\n",
       "      <td>28.529795</td>\n",
       "      <td>1427.970678</td>\n",
       "      <td>40.871239</td>\n",
       "      <td>172.019067</td>\n",
       "      <td>1007.78413</td>\n",
       "      <td>207.296242</td>\n",
       "      <td>2456.230563</td>\n",
       "      <td>2855.890527</td>\n",
       "      <td>2698.865952</td>\n",
       "    </tr>\n",
       "    <tr>\n",
       "      <th>1</th>\n",
       "      <td>ANDAMAN &amp; NICOBAR ISLANDS</td>\n",
       "      <td>1902.0</td>\n",
       "      <td>0.0</td>\n",
       "      <td>159.8</td>\n",
       "      <td>12.2</td>\n",
       "      <td>0.0</td>\n",
       "      <td>446.1</td>\n",
       "      <td>537.1</td>\n",
       "      <td>228.9</td>\n",
       "      <td>753.7</td>\n",
       "      <td>...</td>\n",
       "      <td>58.700837</td>\n",
       "      <td>28.529795</td>\n",
       "      <td>1427.970678</td>\n",
       "      <td>40.871239</td>\n",
       "      <td>172.019067</td>\n",
       "      <td>1007.78413</td>\n",
       "      <td>207.296242</td>\n",
       "      <td>2456.230563</td>\n",
       "      <td>2855.890527</td>\n",
       "      <td>2698.865952</td>\n",
       "    </tr>\n",
       "    <tr>\n",
       "      <th>2</th>\n",
       "      <td>ANDAMAN &amp; NICOBAR ISLANDS</td>\n",
       "      <td>1903.0</td>\n",
       "      <td>12.7</td>\n",
       "      <td>144.0</td>\n",
       "      <td>0.0</td>\n",
       "      <td>1.0</td>\n",
       "      <td>235.1</td>\n",
       "      <td>479.9</td>\n",
       "      <td>728.4</td>\n",
       "      <td>326.7</td>\n",
       "      <td>...</td>\n",
       "      <td>58.700837</td>\n",
       "      <td>28.529795</td>\n",
       "      <td>1427.970678</td>\n",
       "      <td>40.871239</td>\n",
       "      <td>172.019067</td>\n",
       "      <td>1007.78413</td>\n",
       "      <td>207.296242</td>\n",
       "      <td>2456.230563</td>\n",
       "      <td>2855.890527</td>\n",
       "      <td>2698.865952</td>\n",
       "    </tr>\n",
       "    <tr>\n",
       "      <th>3</th>\n",
       "      <td>ANDAMAN &amp; NICOBAR ISLANDS</td>\n",
       "      <td>1904.0</td>\n",
       "      <td>9.4</td>\n",
       "      <td>14.7</td>\n",
       "      <td>0.0</td>\n",
       "      <td>202.4</td>\n",
       "      <td>304.5</td>\n",
       "      <td>495.1</td>\n",
       "      <td>502.0</td>\n",
       "      <td>160.1</td>\n",
       "      <td>...</td>\n",
       "      <td>58.700837</td>\n",
       "      <td>28.529795</td>\n",
       "      <td>1427.970678</td>\n",
       "      <td>40.871239</td>\n",
       "      <td>172.019067</td>\n",
       "      <td>1007.78413</td>\n",
       "      <td>207.296242</td>\n",
       "      <td>2456.230563</td>\n",
       "      <td>2855.890527</td>\n",
       "      <td>2698.865952</td>\n",
       "    </tr>\n",
       "    <tr>\n",
       "      <th>4</th>\n",
       "      <td>ANDAMAN &amp; NICOBAR ISLANDS</td>\n",
       "      <td>1905.0</td>\n",
       "      <td>1.3</td>\n",
       "      <td>0.0</td>\n",
       "      <td>3.3</td>\n",
       "      <td>26.9</td>\n",
       "      <td>279.5</td>\n",
       "      <td>628.7</td>\n",
       "      <td>368.7</td>\n",
       "      <td>330.5</td>\n",
       "      <td>...</td>\n",
       "      <td>58.700837</td>\n",
       "      <td>28.529795</td>\n",
       "      <td>1427.970678</td>\n",
       "      <td>40.871239</td>\n",
       "      <td>172.019067</td>\n",
       "      <td>1007.78413</td>\n",
       "      <td>207.296242</td>\n",
       "      <td>2456.230563</td>\n",
       "      <td>2855.890527</td>\n",
       "      <td>2698.865952</td>\n",
       "    </tr>\n",
       "    <tr>\n",
       "      <th>5</th>\n",
       "      <td>ANDAMAN &amp; NICOBAR ISLANDS</td>\n",
       "      <td>1906.0</td>\n",
       "      <td>36.6</td>\n",
       "      <td>0.0</td>\n",
       "      <td>0.0</td>\n",
       "      <td>0.0</td>\n",
       "      <td>556.1</td>\n",
       "      <td>733.3</td>\n",
       "      <td>247.7</td>\n",
       "      <td>320.5</td>\n",
       "      <td>...</td>\n",
       "      <td>58.700837</td>\n",
       "      <td>28.529795</td>\n",
       "      <td>1427.970678</td>\n",
       "      <td>40.871239</td>\n",
       "      <td>172.019067</td>\n",
       "      <td>1007.78413</td>\n",
       "      <td>207.296242</td>\n",
       "      <td>2456.230563</td>\n",
       "      <td>2855.890527</td>\n",
       "      <td>2698.865952</td>\n",
       "    </tr>\n",
       "    <tr>\n",
       "      <th>6</th>\n",
       "      <td>ANDAMAN &amp; NICOBAR ISLANDS</td>\n",
       "      <td>1907.0</td>\n",
       "      <td>110.7</td>\n",
       "      <td>0.0</td>\n",
       "      <td>113.3</td>\n",
       "      <td>21.6</td>\n",
       "      <td>616.3</td>\n",
       "      <td>305.2</td>\n",
       "      <td>443.9</td>\n",
       "      <td>377.6</td>\n",
       "      <td>...</td>\n",
       "      <td>58.700837</td>\n",
       "      <td>28.529795</td>\n",
       "      <td>1427.970678</td>\n",
       "      <td>40.871239</td>\n",
       "      <td>172.019067</td>\n",
       "      <td>1007.78413</td>\n",
       "      <td>207.296242</td>\n",
       "      <td>2456.230563</td>\n",
       "      <td>2855.890527</td>\n",
       "      <td>2698.865952</td>\n",
       "    </tr>\n",
       "    <tr>\n",
       "      <th>7</th>\n",
       "      <td>ANDAMAN &amp; NICOBAR ISLANDS</td>\n",
       "      <td>1908.0</td>\n",
       "      <td>20.9</td>\n",
       "      <td>85.1</td>\n",
       "      <td>0.0</td>\n",
       "      <td>29.0</td>\n",
       "      <td>562.0</td>\n",
       "      <td>693.6</td>\n",
       "      <td>481.4</td>\n",
       "      <td>699.9</td>\n",
       "      <td>...</td>\n",
       "      <td>58.700837</td>\n",
       "      <td>28.529795</td>\n",
       "      <td>1427.970678</td>\n",
       "      <td>40.871239</td>\n",
       "      <td>172.019067</td>\n",
       "      <td>1007.78413</td>\n",
       "      <td>207.296242</td>\n",
       "      <td>2456.230563</td>\n",
       "      <td>2855.890527</td>\n",
       "      <td>2698.865952</td>\n",
       "    </tr>\n",
       "    <tr>\n",
       "      <th>8</th>\n",
       "      <td>ANDAMAN &amp; NICOBAR ISLANDS</td>\n",
       "      <td>1910.0</td>\n",
       "      <td>26.6</td>\n",
       "      <td>22.7</td>\n",
       "      <td>206.3</td>\n",
       "      <td>89.3</td>\n",
       "      <td>224.5</td>\n",
       "      <td>472.7</td>\n",
       "      <td>264.3</td>\n",
       "      <td>337.4</td>\n",
       "      <td>...</td>\n",
       "      <td>58.700837</td>\n",
       "      <td>28.529795</td>\n",
       "      <td>1427.970678</td>\n",
       "      <td>40.871239</td>\n",
       "      <td>172.019067</td>\n",
       "      <td>1007.78413</td>\n",
       "      <td>207.296242</td>\n",
       "      <td>2456.230563</td>\n",
       "      <td>2855.890527</td>\n",
       "      <td>2698.865952</td>\n",
       "    </tr>\n",
       "    <tr>\n",
       "      <th>9</th>\n",
       "      <td>ANDAMAN &amp; NICOBAR ISLANDS</td>\n",
       "      <td>1911.0</td>\n",
       "      <td>0.0</td>\n",
       "      <td>8.4</td>\n",
       "      <td>0.0</td>\n",
       "      <td>122.5</td>\n",
       "      <td>327.3</td>\n",
       "      <td>649.0</td>\n",
       "      <td>253.0</td>\n",
       "      <td>187.1</td>\n",
       "      <td>...</td>\n",
       "      <td>58.700837</td>\n",
       "      <td>28.529795</td>\n",
       "      <td>1427.970678</td>\n",
       "      <td>40.871239</td>\n",
       "      <td>172.019067</td>\n",
       "      <td>1007.78413</td>\n",
       "      <td>207.296242</td>\n",
       "      <td>2456.230563</td>\n",
       "      <td>2855.890527</td>\n",
       "      <td>2698.865952</td>\n",
       "    </tr>\n",
       "    <tr>\n",
       "      <th>10</th>\n",
       "      <td>ANDAMAN &amp; NICOBAR ISLANDS</td>\n",
       "      <td>1912.0</td>\n",
       "      <td>583.7</td>\n",
       "      <td>0.8</td>\n",
       "      <td>0.0</td>\n",
       "      <td>21.9</td>\n",
       "      <td>140.7</td>\n",
       "      <td>549.8</td>\n",
       "      <td>468.9</td>\n",
       "      <td>370.3</td>\n",
       "      <td>...</td>\n",
       "      <td>58.700837</td>\n",
       "      <td>28.529795</td>\n",
       "      <td>1427.970678</td>\n",
       "      <td>40.871239</td>\n",
       "      <td>172.019067</td>\n",
       "      <td>1007.78413</td>\n",
       "      <td>207.296242</td>\n",
       "      <td>2456.230563</td>\n",
       "      <td>2855.890527</td>\n",
       "      <td>2698.865952</td>\n",
       "    </tr>\n",
       "    <tr>\n",
       "      <th>11</th>\n",
       "      <td>ANDAMAN &amp; NICOBAR ISLANDS</td>\n",
       "      <td>1913.0</td>\n",
       "      <td>84.8</td>\n",
       "      <td>0.5</td>\n",
       "      <td>1.3</td>\n",
       "      <td>2.5</td>\n",
       "      <td>190.7</td>\n",
       "      <td>530.0</td>\n",
       "      <td>280.8</td>\n",
       "      <td>205.8</td>\n",
       "      <td>...</td>\n",
       "      <td>58.700837</td>\n",
       "      <td>28.529795</td>\n",
       "      <td>1427.970678</td>\n",
       "      <td>40.871239</td>\n",
       "      <td>172.019067</td>\n",
       "      <td>1007.78413</td>\n",
       "      <td>207.296242</td>\n",
       "      <td>2456.230563</td>\n",
       "      <td>2855.890527</td>\n",
       "      <td>2698.865952</td>\n",
       "    </tr>\n",
       "    <tr>\n",
       "      <th>12</th>\n",
       "      <td>ANDAMAN &amp; NICOBAR ISLANDS</td>\n",
       "      <td>1914.0</td>\n",
       "      <td>0.0</td>\n",
       "      <td>0.0</td>\n",
       "      <td>0.0</td>\n",
       "      <td>37.7</td>\n",
       "      <td>298.8</td>\n",
       "      <td>383.3</td>\n",
       "      <td>792.8</td>\n",
       "      <td>520.5</td>\n",
       "      <td>...</td>\n",
       "      <td>58.700837</td>\n",
       "      <td>28.529795</td>\n",
       "      <td>1427.970678</td>\n",
       "      <td>40.871239</td>\n",
       "      <td>172.019067</td>\n",
       "      <td>1007.78413</td>\n",
       "      <td>207.296242</td>\n",
       "      <td>2456.230563</td>\n",
       "      <td>2855.890527</td>\n",
       "      <td>2698.865952</td>\n",
       "    </tr>\n",
       "    <tr>\n",
       "      <th>13</th>\n",
       "      <td>ANDAMAN &amp; NICOBAR ISLANDS</td>\n",
       "      <td>1915.0</td>\n",
       "      <td>45.0</td>\n",
       "      <td>56.7</td>\n",
       "      <td>33.3</td>\n",
       "      <td>40.9</td>\n",
       "      <td>170.2</td>\n",
       "      <td>334.7</td>\n",
       "      <td>269.0</td>\n",
       "      <td>317.2</td>\n",
       "      <td>...</td>\n",
       "      <td>58.700837</td>\n",
       "      <td>28.529795</td>\n",
       "      <td>1427.970678</td>\n",
       "      <td>40.871239</td>\n",
       "      <td>172.019067</td>\n",
       "      <td>1007.78413</td>\n",
       "      <td>207.296242</td>\n",
       "      <td>2456.230563</td>\n",
       "      <td>2855.890527</td>\n",
       "      <td>2698.865952</td>\n",
       "    </tr>\n",
       "    <tr>\n",
       "      <th>14</th>\n",
       "      <td>ANDAMAN &amp; NICOBAR ISLANDS</td>\n",
       "      <td>1916.0</td>\n",
       "      <td>0.0</td>\n",
       "      <td>0.0</td>\n",
       "      <td>0.0</td>\n",
       "      <td>0.5</td>\n",
       "      <td>487.4</td>\n",
       "      <td>450.1</td>\n",
       "      <td>317.3</td>\n",
       "      <td>425.0</td>\n",
       "      <td>...</td>\n",
       "      <td>58.700837</td>\n",
       "      <td>28.529795</td>\n",
       "      <td>1427.970678</td>\n",
       "      <td>40.871239</td>\n",
       "      <td>172.019067</td>\n",
       "      <td>1007.78413</td>\n",
       "      <td>207.296242</td>\n",
       "      <td>2456.230563</td>\n",
       "      <td>2855.890527</td>\n",
       "      <td>2698.865952</td>\n",
       "    </tr>\n",
       "    <tr>\n",
       "      <th>15</th>\n",
       "      <td>ANDAMAN &amp; NICOBAR ISLANDS</td>\n",
       "      <td>1917.0</td>\n",
       "      <td>8.0</td>\n",
       "      <td>3.6</td>\n",
       "      <td>112.0</td>\n",
       "      <td>4.5</td>\n",
       "      <td>295.9</td>\n",
       "      <td>301.1</td>\n",
       "      <td>394.8</td>\n",
       "      <td>437.4</td>\n",
       "      <td>...</td>\n",
       "      <td>58.700837</td>\n",
       "      <td>28.529795</td>\n",
       "      <td>1427.970678</td>\n",
       "      <td>40.871239</td>\n",
       "      <td>172.019067</td>\n",
       "      <td>1007.78413</td>\n",
       "      <td>207.296242</td>\n",
       "      <td>2456.230563</td>\n",
       "      <td>2855.890527</td>\n",
       "      <td>2698.865952</td>\n",
       "    </tr>\n",
       "    <tr>\n",
       "      <th>16</th>\n",
       "      <td>ANDAMAN &amp; NICOBAR ISLANDS</td>\n",
       "      <td>1918.0</td>\n",
       "      <td>77.4</td>\n",
       "      <td>6.9</td>\n",
       "      <td>11.4</td>\n",
       "      <td>10.7</td>\n",
       "      <td>729.3</td>\n",
       "      <td>710.8</td>\n",
       "      <td>200.9</td>\n",
       "      <td>455.4</td>\n",
       "      <td>...</td>\n",
       "      <td>58.700837</td>\n",
       "      <td>28.529795</td>\n",
       "      <td>1427.970678</td>\n",
       "      <td>40.871239</td>\n",
       "      <td>172.019067</td>\n",
       "      <td>1007.78413</td>\n",
       "      <td>207.296242</td>\n",
       "      <td>2456.230563</td>\n",
       "      <td>2855.890527</td>\n",
       "      <td>2698.865952</td>\n",
       "    </tr>\n",
       "    <tr>\n",
       "      <th>17</th>\n",
       "      <td>ANDAMAN &amp; NICOBAR ISLANDS</td>\n",
       "      <td>1919.0</td>\n",
       "      <td>10.2</td>\n",
       "      <td>18.0</td>\n",
       "      <td>0.0</td>\n",
       "      <td>35.5</td>\n",
       "      <td>283.9</td>\n",
       "      <td>542.5</td>\n",
       "      <td>246.5</td>\n",
       "      <td>259.8</td>\n",
       "      <td>...</td>\n",
       "      <td>58.700837</td>\n",
       "      <td>28.529795</td>\n",
       "      <td>1427.970678</td>\n",
       "      <td>40.871239</td>\n",
       "      <td>172.019067</td>\n",
       "      <td>1007.78413</td>\n",
       "      <td>207.296242</td>\n",
       "      <td>2456.230563</td>\n",
       "      <td>2855.890527</td>\n",
       "      <td>2698.865952</td>\n",
       "    </tr>\n",
       "    <tr>\n",
       "      <th>18</th>\n",
       "      <td>ANDAMAN &amp; NICOBAR ISLANDS</td>\n",
       "      <td>1920.0</td>\n",
       "      <td>122.3</td>\n",
       "      <td>7.4</td>\n",
       "      <td>3.1</td>\n",
       "      <td>13.0</td>\n",
       "      <td>237.4</td>\n",
       "      <td>546.9</td>\n",
       "      <td>294.4</td>\n",
       "      <td>467.4</td>\n",
       "      <td>...</td>\n",
       "      <td>58.700837</td>\n",
       "      <td>28.529795</td>\n",
       "      <td>1427.970678</td>\n",
       "      <td>40.871239</td>\n",
       "      <td>172.019067</td>\n",
       "      <td>1007.78413</td>\n",
       "      <td>207.296242</td>\n",
       "      <td>2456.230563</td>\n",
       "      <td>2855.890527</td>\n",
       "      <td>2698.865952</td>\n",
       "    </tr>\n",
       "    <tr>\n",
       "      <th>19</th>\n",
       "      <td>ANDAMAN &amp; NICOBAR ISLANDS</td>\n",
       "      <td>1921.0</td>\n",
       "      <td>13.2</td>\n",
       "      <td>3.1</td>\n",
       "      <td>0.0</td>\n",
       "      <td>37.5</td>\n",
       "      <td>351.2</td>\n",
       "      <td>282.7</td>\n",
       "      <td>487.1</td>\n",
       "      <td>330.0</td>\n",
       "      <td>...</td>\n",
       "      <td>58.700837</td>\n",
       "      <td>28.529795</td>\n",
       "      <td>1427.970678</td>\n",
       "      <td>40.871239</td>\n",
       "      <td>172.019067</td>\n",
       "      <td>1007.78413</td>\n",
       "      <td>207.296242</td>\n",
       "      <td>2456.230563</td>\n",
       "      <td>2855.890527</td>\n",
       "      <td>2698.865952</td>\n",
       "    </tr>\n",
       "  </tbody>\n",
       "</table>\n",
       "<p>20 rows × 39 columns</p>\n",
       "</div>"
      ],
      "text/plain": [
       "                        state    YEAR  JAN_x  FEB_x  MAR_x  APR_x  MAY_x  \\\n",
       "0   ANDAMAN & NICOBAR ISLANDS  1901.0   49.2   87.1   29.2    2.3  528.8   \n",
       "1   ANDAMAN & NICOBAR ISLANDS  1902.0    0.0  159.8   12.2    0.0  446.1   \n",
       "2   ANDAMAN & NICOBAR ISLANDS  1903.0   12.7  144.0    0.0    1.0  235.1   \n",
       "3   ANDAMAN & NICOBAR ISLANDS  1904.0    9.4   14.7    0.0  202.4  304.5   \n",
       "4   ANDAMAN & NICOBAR ISLANDS  1905.0    1.3    0.0    3.3   26.9  279.5   \n",
       "5   ANDAMAN & NICOBAR ISLANDS  1906.0   36.6    0.0    0.0    0.0  556.1   \n",
       "6   ANDAMAN & NICOBAR ISLANDS  1907.0  110.7    0.0  113.3   21.6  616.3   \n",
       "7   ANDAMAN & NICOBAR ISLANDS  1908.0   20.9   85.1    0.0   29.0  562.0   \n",
       "8   ANDAMAN & NICOBAR ISLANDS  1910.0   26.6   22.7  206.3   89.3  224.5   \n",
       "9   ANDAMAN & NICOBAR ISLANDS  1911.0    0.0    8.4    0.0  122.5  327.3   \n",
       "10  ANDAMAN & NICOBAR ISLANDS  1912.0  583.7    0.8    0.0   21.9  140.7   \n",
       "11  ANDAMAN & NICOBAR ISLANDS  1913.0   84.8    0.5    1.3    2.5  190.7   \n",
       "12  ANDAMAN & NICOBAR ISLANDS  1914.0    0.0    0.0    0.0   37.7  298.8   \n",
       "13  ANDAMAN & NICOBAR ISLANDS  1915.0   45.0   56.7   33.3   40.9  170.2   \n",
       "14  ANDAMAN & NICOBAR ISLANDS  1916.0    0.0    0.0    0.0    0.5  487.4   \n",
       "15  ANDAMAN & NICOBAR ISLANDS  1917.0    8.0    3.6  112.0    4.5  295.9   \n",
       "16  ANDAMAN & NICOBAR ISLANDS  1918.0   77.4    6.9   11.4   10.7  729.3   \n",
       "17  ANDAMAN & NICOBAR ISLANDS  1919.0   10.2   18.0    0.0   35.5  283.9   \n",
       "18  ANDAMAN & NICOBAR ISLANDS  1920.0  122.3    7.4    3.1   13.0  237.4   \n",
       "19  ANDAMAN & NICOBAR ISLANDS  1921.0   13.2    3.1    0.0   37.5  351.2   \n",
       "\n",
       "    JUN_x  JUL_x  AUG_x  ...      NOV_y      DEC_y     ANNUAL_y  Jan-Feb_y  \\\n",
       "0   517.5  365.1  481.1  ...  58.700837  28.529795  1427.970678  40.871239   \n",
       "1   537.1  228.9  753.7  ...  58.700837  28.529795  1427.970678  40.871239   \n",
       "2   479.9  728.4  326.7  ...  58.700837  28.529795  1427.970678  40.871239   \n",
       "3   495.1  502.0  160.1  ...  58.700837  28.529795  1427.970678  40.871239   \n",
       "4   628.7  368.7  330.5  ...  58.700837  28.529795  1427.970678  40.871239   \n",
       "5   733.3  247.7  320.5  ...  58.700837  28.529795  1427.970678  40.871239   \n",
       "6   305.2  443.9  377.6  ...  58.700837  28.529795  1427.970678  40.871239   \n",
       "7   693.6  481.4  699.9  ...  58.700837  28.529795  1427.970678  40.871239   \n",
       "8   472.7  264.3  337.4  ...  58.700837  28.529795  1427.970678  40.871239   \n",
       "9   649.0  253.0  187.1  ...  58.700837  28.529795  1427.970678  40.871239   \n",
       "10  549.8  468.9  370.3  ...  58.700837  28.529795  1427.970678  40.871239   \n",
       "11  530.0  280.8  205.8  ...  58.700837  28.529795  1427.970678  40.871239   \n",
       "12  383.3  792.8  520.5  ...  58.700837  28.529795  1427.970678  40.871239   \n",
       "13  334.7  269.0  317.2  ...  58.700837  28.529795  1427.970678  40.871239   \n",
       "14  450.1  317.3  425.0  ...  58.700837  28.529795  1427.970678  40.871239   \n",
       "15  301.1  394.8  437.4  ...  58.700837  28.529795  1427.970678  40.871239   \n",
       "16  710.8  200.9  455.4  ...  58.700837  28.529795  1427.970678  40.871239   \n",
       "17  542.5  246.5  259.8  ...  58.700837  28.529795  1427.970678  40.871239   \n",
       "18  546.9  294.4  467.4  ...  58.700837  28.529795  1427.970678  40.871239   \n",
       "19  282.7  487.1  330.0  ...  58.700837  28.529795  1427.970678  40.871239   \n",
       "\n",
       "     Mar-May_y   Jun-Sep_y   Oct-Dec_y    min_price    max_price  modal_price  \n",
       "0   172.019067  1007.78413  207.296242  2456.230563  2855.890527  2698.865952  \n",
       "1   172.019067  1007.78413  207.296242  2456.230563  2855.890527  2698.865952  \n",
       "2   172.019067  1007.78413  207.296242  2456.230563  2855.890527  2698.865952  \n",
       "3   172.019067  1007.78413  207.296242  2456.230563  2855.890527  2698.865952  \n",
       "4   172.019067  1007.78413  207.296242  2456.230563  2855.890527  2698.865952  \n",
       "5   172.019067  1007.78413  207.296242  2456.230563  2855.890527  2698.865952  \n",
       "6   172.019067  1007.78413  207.296242  2456.230563  2855.890527  2698.865952  \n",
       "7   172.019067  1007.78413  207.296242  2456.230563  2855.890527  2698.865952  \n",
       "8   172.019067  1007.78413  207.296242  2456.230563  2855.890527  2698.865952  \n",
       "9   172.019067  1007.78413  207.296242  2456.230563  2855.890527  2698.865952  \n",
       "10  172.019067  1007.78413  207.296242  2456.230563  2855.890527  2698.865952  \n",
       "11  172.019067  1007.78413  207.296242  2456.230563  2855.890527  2698.865952  \n",
       "12  172.019067  1007.78413  207.296242  2456.230563  2855.890527  2698.865952  \n",
       "13  172.019067  1007.78413  207.296242  2456.230563  2855.890527  2698.865952  \n",
       "14  172.019067  1007.78413  207.296242  2456.230563  2855.890527  2698.865952  \n",
       "15  172.019067  1007.78413  207.296242  2456.230563  2855.890527  2698.865952  \n",
       "16  172.019067  1007.78413  207.296242  2456.230563  2855.890527  2698.865952  \n",
       "17  172.019067  1007.78413  207.296242  2456.230563  2855.890527  2698.865952  \n",
       "18  172.019067  1007.78413  207.296242  2456.230563  2855.890527  2698.865952  \n",
       "19  172.019067  1007.78413  207.296242  2456.230563  2855.890527  2698.865952  \n",
       "\n",
       "[20 rows x 39 columns]"
      ]
     },
     "execution_count": 59,
     "metadata": {},
     "output_type": "execute_result"
    }
   ],
   "source": [
    "df.head(20)"
   ]
  },
  {
   "cell_type": "code",
   "execution_count": 60,
   "id": "824138cd",
   "metadata": {
    "execution": {
     "iopub.execute_input": "2023-02-11T11:39:19.761263Z",
     "iopub.status.busy": "2023-02-11T11:39:19.760856Z",
     "iopub.status.idle": "2023-02-11T11:39:19.774666Z",
     "shell.execute_reply": "2023-02-11T11:39:19.773325Z"
    },
    "papermill": {
     "duration": 0.050092,
     "end_time": "2023-02-11T11:39:19.776938",
     "exception": false,
     "start_time": "2023-02-11T11:39:19.726846",
     "status": "completed"
    },
    "tags": []
   },
   "outputs": [
    {
     "data": {
      "text/plain": [
       "207.296242    5453\n",
       "83.700000      345\n",
       "93.800000      231\n",
       "72.300000      231\n",
       "45.800000      230\n",
       "              ... \n",
       "26.300000        1\n",
       "29.900000        1\n",
       "19.000000        1\n",
       "21.000000        1\n",
       "225.200000       1\n",
       "Name: Oct-Dec_y, Length: 525, dtype: int64"
      ]
     },
     "execution_count": 60,
     "metadata": {},
     "output_type": "execute_result"
    }
   ],
   "source": [
    "df['Oct-Dec_y'].value_counts()"
   ]
  },
  {
   "cell_type": "code",
   "execution_count": 61,
   "id": "ae6c7036",
   "metadata": {
    "execution": {
     "iopub.execute_input": "2023-02-11T11:39:19.841455Z",
     "iopub.status.busy": "2023-02-11T11:39:19.841061Z",
     "iopub.status.idle": "2023-02-11T11:39:19.850687Z",
     "shell.execute_reply": "2023-02-11T11:39:19.849948Z"
    },
    "papermill": {
     "duration": 0.044077,
     "end_time": "2023-02-11T11:39:19.852493",
     "exception": false,
     "start_time": "2023-02-11T11:39:19.808416",
     "status": "completed"
    },
    "tags": []
   },
   "outputs": [
    {
     "data": {
      "text/plain": [
       "202.935536    1\n",
       "26.036577     1\n",
       "20.390205     1\n",
       "21.179248     1\n",
       "21.000099     1\n",
       "             ..\n",
       "65.816559     1\n",
       "63.497263     1\n",
       "65.628595     1\n",
       "61.192509     1\n",
       "140.937041    1\n",
       "Name: rainfall, Length: 2200, dtype: int64"
      ]
     },
     "execution_count": 61,
     "metadata": {},
     "output_type": "execute_result"
    }
   ],
   "source": [
    "recommendation_data['rainfall'].value_counts()"
   ]
  },
  {
   "cell_type": "code",
   "execution_count": 62,
   "id": "45f6c9bb",
   "metadata": {
    "execution": {
     "iopub.execute_input": "2023-02-11T11:39:19.916629Z",
     "iopub.status.busy": "2023-02-11T11:39:19.915749Z",
     "iopub.status.idle": "2023-02-11T11:39:19.925440Z",
     "shell.execute_reply": "2023-02-11T11:39:19.924673Z"
    },
    "papermill": {
     "duration": 0.043858,
     "end_time": "2023-02-11T11:39:19.927248",
     "exception": false,
     "start_time": "2023-02-11T11:39:19.883390",
     "status": "completed"
    },
    "tags": []
   },
   "outputs": [
    {
     "data": {
      "text/plain": [
       "172.019067    5453\n",
       "27.900000      233\n",
       "101.800000     230\n",
       "68.100000      230\n",
       "115.900000     230\n",
       "              ... \n",
       "25.100000        1\n",
       "13.400000        1\n",
       "48.200000        1\n",
       "48.800000        1\n",
       "104.800000       1\n",
       "Name: Mar-May_y, Length: 512, dtype: int64"
      ]
     },
     "execution_count": 62,
     "metadata": {},
     "output_type": "execute_result"
    }
   ],
   "source": [
    "df['Mar-May_y'].value_counts()"
   ]
  },
  {
   "cell_type": "code",
   "execution_count": 63,
   "id": "cf450a75",
   "metadata": {
    "execution": {
     "iopub.execute_input": "2023-02-11T11:39:19.994483Z",
     "iopub.status.busy": "2023-02-11T11:39:19.993770Z",
     "iopub.status.idle": "2023-02-11T11:39:20.003021Z",
     "shell.execute_reply": "2023-02-11T11:39:20.001533Z"
    },
    "papermill": {
     "duration": 0.0464,
     "end_time": "2023-02-11T11:39:20.006278",
     "exception": false,
     "start_time": "2023-02-11T11:39:19.959878",
     "status": "completed"
    },
    "tags": []
   },
   "outputs": [],
   "source": [
    "df['average']=(df['Jan-Feb_y']+df['Mar-May_y']+df['Jun-Sep_y']+df['Oct-Dec_y'])/4"
   ]
  },
  {
   "cell_type": "code",
   "execution_count": 64,
   "id": "da1f364f",
   "metadata": {
    "execution": {
     "iopub.execute_input": "2023-02-11T11:39:20.072642Z",
     "iopub.status.busy": "2023-02-11T11:39:20.071946Z",
     "iopub.status.idle": "2023-02-11T11:39:20.080992Z",
     "shell.execute_reply": "2023-02-11T11:39:20.079477Z"
    },
    "papermill": {
     "duration": 0.044979,
     "end_time": "2023-02-11T11:39:20.083331",
     "exception": false,
     "start_time": "2023-02-11T11:39:20.038352",
     "status": "completed"
    },
    "tags": []
   },
   "outputs": [
    {
     "data": {
      "text/plain": [
       "356.992669    5453\n",
       "362.075000     230\n",
       "286.700000     230\n",
       "260.450000     230\n",
       "383.375000     230\n",
       "              ... \n",
       "530.975000       1\n",
       "316.750000       1\n",
       "204.600000       1\n",
       "167.325000       1\n",
       "187.125000       1\n",
       "Name: average, Length: 594, dtype: int64"
      ]
     },
     "execution_count": 64,
     "metadata": {},
     "output_type": "execute_result"
    }
   ],
   "source": [
    "df['average'].value_counts()"
   ]
  },
  {
   "cell_type": "code",
   "execution_count": 65,
   "id": "267d6584",
   "metadata": {
    "execution": {
     "iopub.execute_input": "2023-02-11T11:39:20.150051Z",
     "iopub.status.busy": "2023-02-11T11:39:20.149594Z",
     "iopub.status.idle": "2023-02-11T11:39:20.175162Z",
     "shell.execute_reply": "2023-02-11T11:39:20.174226Z"
    },
    "papermill": {
     "duration": 0.061377,
     "end_time": "2023-02-11T11:39:20.177619",
     "exception": false,
     "start_time": "2023-02-11T11:39:20.116242",
     "status": "completed"
    },
    "tags": []
   },
   "outputs": [
    {
     "data": {
      "text/html": [
       "<div>\n",
       "<style scoped>\n",
       "    .dataframe tbody tr th:only-of-type {\n",
       "        vertical-align: middle;\n",
       "    }\n",
       "\n",
       "    .dataframe tbody tr th {\n",
       "        vertical-align: top;\n",
       "    }\n",
       "\n",
       "    .dataframe thead th {\n",
       "        text-align: right;\n",
       "    }\n",
       "</style>\n",
       "<table border=\"1\" class=\"dataframe\">\n",
       "  <thead>\n",
       "    <tr style=\"text-align: right;\">\n",
       "      <th></th>\n",
       "      <th>state</th>\n",
       "      <th>YEAR</th>\n",
       "      <th>JAN_x</th>\n",
       "      <th>FEB_x</th>\n",
       "      <th>MAR_x</th>\n",
       "      <th>APR_x</th>\n",
       "      <th>MAY_x</th>\n",
       "      <th>JUN_x</th>\n",
       "      <th>JUL_x</th>\n",
       "      <th>AUG_x</th>\n",
       "      <th>...</th>\n",
       "      <th>DEC_y</th>\n",
       "      <th>ANNUAL_y</th>\n",
       "      <th>Jan-Feb_y</th>\n",
       "      <th>Mar-May_y</th>\n",
       "      <th>Jun-Sep_y</th>\n",
       "      <th>Oct-Dec_y</th>\n",
       "      <th>min_price</th>\n",
       "      <th>max_price</th>\n",
       "      <th>modal_price</th>\n",
       "      <th>average</th>\n",
       "    </tr>\n",
       "  </thead>\n",
       "  <tbody>\n",
       "    <tr>\n",
       "      <th>0</th>\n",
       "      <td>ANDAMAN &amp; NICOBAR ISLANDS</td>\n",
       "      <td>1901.0</td>\n",
       "      <td>49.2</td>\n",
       "      <td>87.1</td>\n",
       "      <td>29.2</td>\n",
       "      <td>2.3</td>\n",
       "      <td>528.8</td>\n",
       "      <td>517.5</td>\n",
       "      <td>365.1</td>\n",
       "      <td>481.1</td>\n",
       "      <td>...</td>\n",
       "      <td>28.529795</td>\n",
       "      <td>1427.970678</td>\n",
       "      <td>40.871239</td>\n",
       "      <td>172.019067</td>\n",
       "      <td>1007.78413</td>\n",
       "      <td>207.296242</td>\n",
       "      <td>2456.230563</td>\n",
       "      <td>2855.890527</td>\n",
       "      <td>2698.865952</td>\n",
       "      <td>356.992669</td>\n",
       "    </tr>\n",
       "    <tr>\n",
       "      <th>1</th>\n",
       "      <td>ANDAMAN &amp; NICOBAR ISLANDS</td>\n",
       "      <td>1902.0</td>\n",
       "      <td>0.0</td>\n",
       "      <td>159.8</td>\n",
       "      <td>12.2</td>\n",
       "      <td>0.0</td>\n",
       "      <td>446.1</td>\n",
       "      <td>537.1</td>\n",
       "      <td>228.9</td>\n",
       "      <td>753.7</td>\n",
       "      <td>...</td>\n",
       "      <td>28.529795</td>\n",
       "      <td>1427.970678</td>\n",
       "      <td>40.871239</td>\n",
       "      <td>172.019067</td>\n",
       "      <td>1007.78413</td>\n",
       "      <td>207.296242</td>\n",
       "      <td>2456.230563</td>\n",
       "      <td>2855.890527</td>\n",
       "      <td>2698.865952</td>\n",
       "      <td>356.992669</td>\n",
       "    </tr>\n",
       "    <tr>\n",
       "      <th>2</th>\n",
       "      <td>ANDAMAN &amp; NICOBAR ISLANDS</td>\n",
       "      <td>1903.0</td>\n",
       "      <td>12.7</td>\n",
       "      <td>144.0</td>\n",
       "      <td>0.0</td>\n",
       "      <td>1.0</td>\n",
       "      <td>235.1</td>\n",
       "      <td>479.9</td>\n",
       "      <td>728.4</td>\n",
       "      <td>326.7</td>\n",
       "      <td>...</td>\n",
       "      <td>28.529795</td>\n",
       "      <td>1427.970678</td>\n",
       "      <td>40.871239</td>\n",
       "      <td>172.019067</td>\n",
       "      <td>1007.78413</td>\n",
       "      <td>207.296242</td>\n",
       "      <td>2456.230563</td>\n",
       "      <td>2855.890527</td>\n",
       "      <td>2698.865952</td>\n",
       "      <td>356.992669</td>\n",
       "    </tr>\n",
       "    <tr>\n",
       "      <th>3</th>\n",
       "      <td>ANDAMAN &amp; NICOBAR ISLANDS</td>\n",
       "      <td>1904.0</td>\n",
       "      <td>9.4</td>\n",
       "      <td>14.7</td>\n",
       "      <td>0.0</td>\n",
       "      <td>202.4</td>\n",
       "      <td>304.5</td>\n",
       "      <td>495.1</td>\n",
       "      <td>502.0</td>\n",
       "      <td>160.1</td>\n",
       "      <td>...</td>\n",
       "      <td>28.529795</td>\n",
       "      <td>1427.970678</td>\n",
       "      <td>40.871239</td>\n",
       "      <td>172.019067</td>\n",
       "      <td>1007.78413</td>\n",
       "      <td>207.296242</td>\n",
       "      <td>2456.230563</td>\n",
       "      <td>2855.890527</td>\n",
       "      <td>2698.865952</td>\n",
       "      <td>356.992669</td>\n",
       "    </tr>\n",
       "    <tr>\n",
       "      <th>4</th>\n",
       "      <td>ANDAMAN &amp; NICOBAR ISLANDS</td>\n",
       "      <td>1905.0</td>\n",
       "      <td>1.3</td>\n",
       "      <td>0.0</td>\n",
       "      <td>3.3</td>\n",
       "      <td>26.9</td>\n",
       "      <td>279.5</td>\n",
       "      <td>628.7</td>\n",
       "      <td>368.7</td>\n",
       "      <td>330.5</td>\n",
       "      <td>...</td>\n",
       "      <td>28.529795</td>\n",
       "      <td>1427.970678</td>\n",
       "      <td>40.871239</td>\n",
       "      <td>172.019067</td>\n",
       "      <td>1007.78413</td>\n",
       "      <td>207.296242</td>\n",
       "      <td>2456.230563</td>\n",
       "      <td>2855.890527</td>\n",
       "      <td>2698.865952</td>\n",
       "      <td>356.992669</td>\n",
       "    </tr>\n",
       "  </tbody>\n",
       "</table>\n",
       "<p>5 rows × 40 columns</p>\n",
       "</div>"
      ],
      "text/plain": [
       "                       state    YEAR  JAN_x  FEB_x  MAR_x  APR_x  MAY_x  \\\n",
       "0  ANDAMAN & NICOBAR ISLANDS  1901.0   49.2   87.1   29.2    2.3  528.8   \n",
       "1  ANDAMAN & NICOBAR ISLANDS  1902.0    0.0  159.8   12.2    0.0  446.1   \n",
       "2  ANDAMAN & NICOBAR ISLANDS  1903.0   12.7  144.0    0.0    1.0  235.1   \n",
       "3  ANDAMAN & NICOBAR ISLANDS  1904.0    9.4   14.7    0.0  202.4  304.5   \n",
       "4  ANDAMAN & NICOBAR ISLANDS  1905.0    1.3    0.0    3.3   26.9  279.5   \n",
       "\n",
       "   JUN_x  JUL_x  AUG_x  ...      DEC_y     ANNUAL_y  Jan-Feb_y   Mar-May_y  \\\n",
       "0  517.5  365.1  481.1  ...  28.529795  1427.970678  40.871239  172.019067   \n",
       "1  537.1  228.9  753.7  ...  28.529795  1427.970678  40.871239  172.019067   \n",
       "2  479.9  728.4  326.7  ...  28.529795  1427.970678  40.871239  172.019067   \n",
       "3  495.1  502.0  160.1  ...  28.529795  1427.970678  40.871239  172.019067   \n",
       "4  628.7  368.7  330.5  ...  28.529795  1427.970678  40.871239  172.019067   \n",
       "\n",
       "    Jun-Sep_y   Oct-Dec_y    min_price    max_price  modal_price     average  \n",
       "0  1007.78413  207.296242  2456.230563  2855.890527  2698.865952  356.992669  \n",
       "1  1007.78413  207.296242  2456.230563  2855.890527  2698.865952  356.992669  \n",
       "2  1007.78413  207.296242  2456.230563  2855.890527  2698.865952  356.992669  \n",
       "3  1007.78413  207.296242  2456.230563  2855.890527  2698.865952  356.992669  \n",
       "4  1007.78413  207.296242  2456.230563  2855.890527  2698.865952  356.992669  \n",
       "\n",
       "[5 rows x 40 columns]"
      ]
     },
     "execution_count": 65,
     "metadata": {},
     "output_type": "execute_result"
    }
   ],
   "source": [
    "df.head()"
   ]
  },
  {
   "cell_type": "code",
   "execution_count": 66,
   "id": "a5ec7d8c",
   "metadata": {
    "execution": {
     "iopub.execute_input": "2023-02-11T11:39:20.246991Z",
     "iopub.status.busy": "2023-02-11T11:39:20.246480Z",
     "iopub.status.idle": "2023-02-11T11:39:20.272585Z",
     "shell.execute_reply": "2023-02-11T11:39:20.271616Z"
    },
    "papermill": {
     "duration": 0.06463,
     "end_time": "2023-02-11T11:39:20.276136",
     "exception": false,
     "start_time": "2023-02-11T11:39:20.211506",
     "status": "completed"
    },
    "tags": []
   },
   "outputs": [
    {
     "data": {
      "text/html": [
       "<div>\n",
       "<style scoped>\n",
       "    .dataframe tbody tr th:only-of-type {\n",
       "        vertical-align: middle;\n",
       "    }\n",
       "\n",
       "    .dataframe tbody tr th {\n",
       "        vertical-align: top;\n",
       "    }\n",
       "\n",
       "    .dataframe thead th {\n",
       "        text-align: right;\n",
       "    }\n",
       "</style>\n",
       "<table border=\"1\" class=\"dataframe\">\n",
       "  <thead>\n",
       "    <tr style=\"text-align: right;\">\n",
       "      <th></th>\n",
       "      <th>state</th>\n",
       "      <th>YEAR</th>\n",
       "      <th>JAN_x</th>\n",
       "      <th>FEB_x</th>\n",
       "      <th>MAR_x</th>\n",
       "      <th>APR_x</th>\n",
       "      <th>MAY_x</th>\n",
       "      <th>JUN_x</th>\n",
       "      <th>JUL_x</th>\n",
       "      <th>AUG_x</th>\n",
       "      <th>...</th>\n",
       "      <th>DEC_y</th>\n",
       "      <th>ANNUAL_y</th>\n",
       "      <th>Jan-Feb_y</th>\n",
       "      <th>Mar-May_y</th>\n",
       "      <th>Jun-Sep_y</th>\n",
       "      <th>Oct-Dec_y</th>\n",
       "      <th>min_price</th>\n",
       "      <th>max_price</th>\n",
       "      <th>modal_price</th>\n",
       "      <th>rainfall</th>\n",
       "    </tr>\n",
       "  </thead>\n",
       "  <tbody>\n",
       "    <tr>\n",
       "      <th>0</th>\n",
       "      <td>ANDAMAN &amp; NICOBAR ISLANDS</td>\n",
       "      <td>1901.0</td>\n",
       "      <td>49.2</td>\n",
       "      <td>87.1</td>\n",
       "      <td>29.2</td>\n",
       "      <td>2.3</td>\n",
       "      <td>528.8</td>\n",
       "      <td>517.5</td>\n",
       "      <td>365.1</td>\n",
       "      <td>481.1</td>\n",
       "      <td>...</td>\n",
       "      <td>28.529795</td>\n",
       "      <td>1427.970678</td>\n",
       "      <td>40.871239</td>\n",
       "      <td>172.019067</td>\n",
       "      <td>1007.78413</td>\n",
       "      <td>207.296242</td>\n",
       "      <td>2456.230563</td>\n",
       "      <td>2855.890527</td>\n",
       "      <td>2698.865952</td>\n",
       "      <td>356.992669</td>\n",
       "    </tr>\n",
       "    <tr>\n",
       "      <th>1</th>\n",
       "      <td>ANDAMAN &amp; NICOBAR ISLANDS</td>\n",
       "      <td>1902.0</td>\n",
       "      <td>0.0</td>\n",
       "      <td>159.8</td>\n",
       "      <td>12.2</td>\n",
       "      <td>0.0</td>\n",
       "      <td>446.1</td>\n",
       "      <td>537.1</td>\n",
       "      <td>228.9</td>\n",
       "      <td>753.7</td>\n",
       "      <td>...</td>\n",
       "      <td>28.529795</td>\n",
       "      <td>1427.970678</td>\n",
       "      <td>40.871239</td>\n",
       "      <td>172.019067</td>\n",
       "      <td>1007.78413</td>\n",
       "      <td>207.296242</td>\n",
       "      <td>2456.230563</td>\n",
       "      <td>2855.890527</td>\n",
       "      <td>2698.865952</td>\n",
       "      <td>356.992669</td>\n",
       "    </tr>\n",
       "    <tr>\n",
       "      <th>2</th>\n",
       "      <td>ANDAMAN &amp; NICOBAR ISLANDS</td>\n",
       "      <td>1903.0</td>\n",
       "      <td>12.7</td>\n",
       "      <td>144.0</td>\n",
       "      <td>0.0</td>\n",
       "      <td>1.0</td>\n",
       "      <td>235.1</td>\n",
       "      <td>479.9</td>\n",
       "      <td>728.4</td>\n",
       "      <td>326.7</td>\n",
       "      <td>...</td>\n",
       "      <td>28.529795</td>\n",
       "      <td>1427.970678</td>\n",
       "      <td>40.871239</td>\n",
       "      <td>172.019067</td>\n",
       "      <td>1007.78413</td>\n",
       "      <td>207.296242</td>\n",
       "      <td>2456.230563</td>\n",
       "      <td>2855.890527</td>\n",
       "      <td>2698.865952</td>\n",
       "      <td>356.992669</td>\n",
       "    </tr>\n",
       "    <tr>\n",
       "      <th>3</th>\n",
       "      <td>ANDAMAN &amp; NICOBAR ISLANDS</td>\n",
       "      <td>1904.0</td>\n",
       "      <td>9.4</td>\n",
       "      <td>14.7</td>\n",
       "      <td>0.0</td>\n",
       "      <td>202.4</td>\n",
       "      <td>304.5</td>\n",
       "      <td>495.1</td>\n",
       "      <td>502.0</td>\n",
       "      <td>160.1</td>\n",
       "      <td>...</td>\n",
       "      <td>28.529795</td>\n",
       "      <td>1427.970678</td>\n",
       "      <td>40.871239</td>\n",
       "      <td>172.019067</td>\n",
       "      <td>1007.78413</td>\n",
       "      <td>207.296242</td>\n",
       "      <td>2456.230563</td>\n",
       "      <td>2855.890527</td>\n",
       "      <td>2698.865952</td>\n",
       "      <td>356.992669</td>\n",
       "    </tr>\n",
       "    <tr>\n",
       "      <th>4</th>\n",
       "      <td>ANDAMAN &amp; NICOBAR ISLANDS</td>\n",
       "      <td>1905.0</td>\n",
       "      <td>1.3</td>\n",
       "      <td>0.0</td>\n",
       "      <td>3.3</td>\n",
       "      <td>26.9</td>\n",
       "      <td>279.5</td>\n",
       "      <td>628.7</td>\n",
       "      <td>368.7</td>\n",
       "      <td>330.5</td>\n",
       "      <td>...</td>\n",
       "      <td>28.529795</td>\n",
       "      <td>1427.970678</td>\n",
       "      <td>40.871239</td>\n",
       "      <td>172.019067</td>\n",
       "      <td>1007.78413</td>\n",
       "      <td>207.296242</td>\n",
       "      <td>2456.230563</td>\n",
       "      <td>2855.890527</td>\n",
       "      <td>2698.865952</td>\n",
       "      <td>356.992669</td>\n",
       "    </tr>\n",
       "  </tbody>\n",
       "</table>\n",
       "<p>5 rows × 40 columns</p>\n",
       "</div>"
      ],
      "text/plain": [
       "                       state    YEAR  JAN_x  FEB_x  MAR_x  APR_x  MAY_x  \\\n",
       "0  ANDAMAN & NICOBAR ISLANDS  1901.0   49.2   87.1   29.2    2.3  528.8   \n",
       "1  ANDAMAN & NICOBAR ISLANDS  1902.0    0.0  159.8   12.2    0.0  446.1   \n",
       "2  ANDAMAN & NICOBAR ISLANDS  1903.0   12.7  144.0    0.0    1.0  235.1   \n",
       "3  ANDAMAN & NICOBAR ISLANDS  1904.0    9.4   14.7    0.0  202.4  304.5   \n",
       "4  ANDAMAN & NICOBAR ISLANDS  1905.0    1.3    0.0    3.3   26.9  279.5   \n",
       "\n",
       "   JUN_x  JUL_x  AUG_x  ...      DEC_y     ANNUAL_y  Jan-Feb_y   Mar-May_y  \\\n",
       "0  517.5  365.1  481.1  ...  28.529795  1427.970678  40.871239  172.019067   \n",
       "1  537.1  228.9  753.7  ...  28.529795  1427.970678  40.871239  172.019067   \n",
       "2  479.9  728.4  326.7  ...  28.529795  1427.970678  40.871239  172.019067   \n",
       "3  495.1  502.0  160.1  ...  28.529795  1427.970678  40.871239  172.019067   \n",
       "4  628.7  368.7  330.5  ...  28.529795  1427.970678  40.871239  172.019067   \n",
       "\n",
       "    Jun-Sep_y   Oct-Dec_y    min_price    max_price  modal_price    rainfall  \n",
       "0  1007.78413  207.296242  2456.230563  2855.890527  2698.865952  356.992669  \n",
       "1  1007.78413  207.296242  2456.230563  2855.890527  2698.865952  356.992669  \n",
       "2  1007.78413  207.296242  2456.230563  2855.890527  2698.865952  356.992669  \n",
       "3  1007.78413  207.296242  2456.230563  2855.890527  2698.865952  356.992669  \n",
       "4  1007.78413  207.296242  2456.230563  2855.890527  2698.865952  356.992669  \n",
       "\n",
       "[5 rows x 40 columns]"
      ]
     },
     "execution_count": 66,
     "metadata": {},
     "output_type": "execute_result"
    }
   ],
   "source": [
    "df.rename(columns={'average':'rainfall'},inplace=True)\n",
    "df.head()"
   ]
  },
  {
   "cell_type": "markdown",
   "id": "4f48e6b9",
   "metadata": {
    "papermill": {
     "duration": 0.032415,
     "end_time": "2023-02-11T11:39:20.340682",
     "exception": false,
     "start_time": "2023-02-11T11:39:20.308267",
     "status": "completed"
    },
    "tags": []
   },
   "source": [
    "making a couple of copies to try and left merge"
   ]
  },
  {
   "cell_type": "code",
   "execution_count": 67,
   "id": "ffd20634",
   "metadata": {
    "execution": {
     "iopub.execute_input": "2023-02-11T11:39:20.407220Z",
     "iopub.status.busy": "2023-02-11T11:39:20.406314Z",
     "iopub.status.idle": "2023-02-11T11:39:20.418236Z",
     "shell.execute_reply": "2023-02-11T11:39:20.416890Z"
    },
    "papermill": {
     "duration": 0.047671,
     "end_time": "2023-02-11T11:39:20.420803",
     "exception": false,
     "start_time": "2023-02-11T11:39:20.373132",
     "status": "completed"
    },
    "tags": []
   },
   "outputs": [],
   "source": [
    "df1=df.copy()\n",
    "df2=recommendation_data.copy()"
   ]
  },
  {
   "cell_type": "markdown",
   "id": "f94d03a3",
   "metadata": {
    "papermill": {
     "duration": 0.032912,
     "end_time": "2023-02-11T11:39:20.485484",
     "exception": false,
     "start_time": "2023-02-11T11:39:20.452572",
     "status": "completed"
    },
    "tags": []
   },
   "source": [
    "trying different joins"
   ]
  },
  {
   "cell_type": "code",
   "execution_count": 68,
   "id": "34d2b9ea",
   "metadata": {
    "execution": {
     "iopub.execute_input": "2023-02-11T11:39:20.553440Z",
     "iopub.status.busy": "2023-02-11T11:39:20.552238Z",
     "iopub.status.idle": "2023-02-11T11:39:20.573823Z",
     "shell.execute_reply": "2023-02-11T11:39:20.572765Z"
    },
    "papermill": {
     "duration": 0.057818,
     "end_time": "2023-02-11T11:39:20.576264",
     "exception": false,
     "start_time": "2023-02-11T11:39:20.518446",
     "status": "completed"
    },
    "tags": []
   },
   "outputs": [],
   "source": [
    "# Merge the two datasets on the rainfall column\n",
    "merged_df = pd.merge(df1, df2, on=\"rainfall\",how=\"outer\")\n",
    "\n",
    "# Fill missing values in the second dataset with the mean value of the rainfall column in the first dataset\n",
    "merged_df[\"rainfall\"].fillna(df1[\"rainfall\"].mean(), inplace=True)\n",
    "\n",
    "# Print the merged DataFramemerged_df.head()"
   ]
  },
  {
   "cell_type": "code",
   "execution_count": 69,
   "id": "2c3534b5",
   "metadata": {
    "execution": {
     "iopub.execute_input": "2023-02-11T11:39:20.644986Z",
     "iopub.status.busy": "2023-02-11T11:39:20.644300Z",
     "iopub.status.idle": "2023-02-11T11:39:20.650043Z",
     "shell.execute_reply": "2023-02-11T11:39:20.648960Z"
    },
    "papermill": {
     "duration": 0.042096,
     "end_time": "2023-02-11T11:39:20.651993",
     "exception": false,
     "start_time": "2023-02-11T11:39:20.609897",
     "status": "completed"
    },
    "tags": []
   },
   "outputs": [],
   "source": [
    "# merged_df = pd.merge(df1, df2, on=\"rainfall\", how=\"outer\")\n",
    "\n",
    "# # Fill any missing values in the second dataset with the mean value of the rainfall column in df2\n",
    "# merged_df[\"rainfall\"].fillna(df2[\"rainfall\"].mean(), inplace=True)\n",
    "\n",
    "# # Round the values in the rainfall column to the nearest whole number\n",
    "# merged_df[\"rainfall\"] = merged_df[\"rainfall\"].round()\n",
    "\n",
    "# # Rename the columns to their original names\n",
    "# merged_df.rename(columns={\"rainfall\": \"rainfall\"}, inplace=True)\n",
    "\n",
    "# # Drop any remaining rows with missing values in the rainfall column\n",
    "# merged_df.dropna(subset=[\"rainfall\"], inplace=True)"
   ]
  },
  {
   "cell_type": "code",
   "execution_count": 70,
   "id": "1adefb5d",
   "metadata": {
    "execution": {
     "iopub.execute_input": "2023-02-11T11:39:20.719634Z",
     "iopub.status.busy": "2023-02-11T11:39:20.718256Z",
     "iopub.status.idle": "2023-02-11T11:39:20.724799Z",
     "shell.execute_reply": "2023-02-11T11:39:20.723967Z"
    },
    "papermill": {
     "duration": 0.042858,
     "end_time": "2023-02-11T11:39:20.727688",
     "exception": false,
     "start_time": "2023-02-11T11:39:20.684830",
     "status": "completed"
    },
    "tags": []
   },
   "outputs": [
    {
     "data": {
      "text/plain": [
       "(27955, 47)"
      ]
     },
     "execution_count": 70,
     "metadata": {},
     "output_type": "execute_result"
    }
   ],
   "source": [
    "merged_df.shape"
   ]
  },
  {
   "cell_type": "code",
   "execution_count": 71,
   "id": "56004937",
   "metadata": {
    "execution": {
     "iopub.execute_input": "2023-02-11T11:39:20.798072Z",
     "iopub.status.busy": "2023-02-11T11:39:20.797611Z",
     "iopub.status.idle": "2023-02-11T11:39:20.808893Z",
     "shell.execute_reply": "2023-02-11T11:39:20.808280Z"
    },
    "papermill": {
     "duration": 0.04864,
     "end_time": "2023-02-11T11:39:20.810658",
     "exception": false,
     "start_time": "2023-02-11T11:39:20.762018",
     "status": "completed"
    },
    "tags": []
   },
   "outputs": [
    {
     "data": {
      "text/plain": [
       "266085"
      ]
     },
     "execution_count": 71,
     "metadata": {},
     "output_type": "execute_result"
    }
   ],
   "source": [
    "merged_df.isna().sum().sum()"
   ]
  },
  {
   "cell_type": "code",
   "execution_count": 72,
   "id": "b78c5f8a",
   "metadata": {
    "execution": {
     "iopub.execute_input": "2023-02-11T11:39:20.878482Z",
     "iopub.status.busy": "2023-02-11T11:39:20.877322Z",
     "iopub.status.idle": "2023-02-11T11:39:20.891212Z",
     "shell.execute_reply": "2023-02-11T11:39:20.890213Z"
    },
    "papermill": {
     "duration": 0.050605,
     "end_time": "2023-02-11T11:39:20.893683",
     "exception": false,
     "start_time": "2023-02-11T11:39:20.843078",
     "status": "completed"
    },
    "tags": []
   },
   "outputs": [
    {
     "data": {
      "text/plain": [
       "state           2200\n",
       "YEAR            2200\n",
       "JAN_x           2200\n",
       "FEB_x           2200\n",
       "MAR_x           2200\n",
       "APR_x           2200\n",
       "MAY_x           2200\n",
       "JUN_x           2200\n",
       "JUL_x           2200\n",
       "AUG_x           2200\n",
       "SEP_x           2200\n",
       "OCT_x           2200\n",
       "NOV_x           2200\n",
       "DEC_x           2200\n",
       "ANNUAL_x        2200\n",
       "Jan-Feb_x       2200\n",
       "Mar-May_x       2200\n",
       "Jun-Sep_x       2200\n",
       "Oct-Dec_x       2200\n",
       "JAN_y           2200\n",
       "FEB_y           2200\n",
       "MAR_y           2200\n",
       "APR_y           2200\n",
       "MAY_y           2200\n",
       "JUN_y           2200\n",
       "JUL_y           2200\n",
       "AUG_y           2200\n",
       "SEP_y           2200\n",
       "OCT_y           2200\n",
       "NOV_y           2200\n",
       "DEC_y           2200\n",
       "ANNUAL_y        2200\n",
       "Jan-Feb_y       2200\n",
       "Mar-May_y       2200\n",
       "Jun-Sep_y       2200\n",
       "Oct-Dec_y       2200\n",
       "min_price       2200\n",
       "max_price       2200\n",
       "modal_price     2200\n",
       "rainfall           0\n",
       "N              25755\n",
       "P              25755\n",
       "K              25755\n",
       "temperature    25755\n",
       "humidity       25755\n",
       "ph             25755\n",
       "label          25755\n",
       "dtype: int64"
      ]
     },
     "execution_count": 72,
     "metadata": {},
     "output_type": "execute_result"
    }
   ],
   "source": [
    "merged_df.isna().sum()"
   ]
  },
  {
   "cell_type": "code",
   "execution_count": 73,
   "id": "2451e563",
   "metadata": {
    "execution": {
     "iopub.execute_input": "2023-02-11T11:39:20.961965Z",
     "iopub.status.busy": "2023-02-11T11:39:20.960647Z",
     "iopub.status.idle": "2023-02-11T11:39:20.986665Z",
     "shell.execute_reply": "2023-02-11T11:39:20.985462Z"
    },
    "papermill": {
     "duration": 0.062467,
     "end_time": "2023-02-11T11:39:20.989343",
     "exception": false,
     "start_time": "2023-02-11T11:39:20.926876",
     "status": "completed"
    },
    "tags": []
   },
   "outputs": [
    {
     "data": {
      "text/html": [
       "<div>\n",
       "<style scoped>\n",
       "    .dataframe tbody tr th:only-of-type {\n",
       "        vertical-align: middle;\n",
       "    }\n",
       "\n",
       "    .dataframe tbody tr th {\n",
       "        vertical-align: top;\n",
       "    }\n",
       "\n",
       "    .dataframe thead th {\n",
       "        text-align: right;\n",
       "    }\n",
       "</style>\n",
       "<table border=\"1\" class=\"dataframe\">\n",
       "  <thead>\n",
       "    <tr style=\"text-align: right;\">\n",
       "      <th></th>\n",
       "      <th>state</th>\n",
       "      <th>YEAR</th>\n",
       "      <th>JAN_x</th>\n",
       "      <th>FEB_x</th>\n",
       "      <th>MAR_x</th>\n",
       "      <th>APR_x</th>\n",
       "      <th>MAY_x</th>\n",
       "      <th>JUN_x</th>\n",
       "      <th>JUL_x</th>\n",
       "      <th>AUG_x</th>\n",
       "      <th>...</th>\n",
       "      <th>max_price</th>\n",
       "      <th>modal_price</th>\n",
       "      <th>rainfall</th>\n",
       "      <th>N</th>\n",
       "      <th>P</th>\n",
       "      <th>K</th>\n",
       "      <th>temperature</th>\n",
       "      <th>humidity</th>\n",
       "      <th>ph</th>\n",
       "      <th>label</th>\n",
       "    </tr>\n",
       "  </thead>\n",
       "  <tbody>\n",
       "    <tr>\n",
       "      <th>0</th>\n",
       "      <td>ANDAMAN &amp; NICOBAR ISLANDS</td>\n",
       "      <td>1901.0</td>\n",
       "      <td>49.2</td>\n",
       "      <td>87.1</td>\n",
       "      <td>29.2</td>\n",
       "      <td>2.3</td>\n",
       "      <td>528.8</td>\n",
       "      <td>517.5</td>\n",
       "      <td>365.1</td>\n",
       "      <td>481.1</td>\n",
       "      <td>...</td>\n",
       "      <td>2855.890527</td>\n",
       "      <td>2698.865952</td>\n",
       "      <td>356.992669</td>\n",
       "      <td>NaN</td>\n",
       "      <td>NaN</td>\n",
       "      <td>NaN</td>\n",
       "      <td>NaN</td>\n",
       "      <td>NaN</td>\n",
       "      <td>NaN</td>\n",
       "      <td>NaN</td>\n",
       "    </tr>\n",
       "    <tr>\n",
       "      <th>1</th>\n",
       "      <td>ANDAMAN &amp; NICOBAR ISLANDS</td>\n",
       "      <td>1902.0</td>\n",
       "      <td>0.0</td>\n",
       "      <td>159.8</td>\n",
       "      <td>12.2</td>\n",
       "      <td>0.0</td>\n",
       "      <td>446.1</td>\n",
       "      <td>537.1</td>\n",
       "      <td>228.9</td>\n",
       "      <td>753.7</td>\n",
       "      <td>...</td>\n",
       "      <td>2855.890527</td>\n",
       "      <td>2698.865952</td>\n",
       "      <td>356.992669</td>\n",
       "      <td>NaN</td>\n",
       "      <td>NaN</td>\n",
       "      <td>NaN</td>\n",
       "      <td>NaN</td>\n",
       "      <td>NaN</td>\n",
       "      <td>NaN</td>\n",
       "      <td>NaN</td>\n",
       "    </tr>\n",
       "    <tr>\n",
       "      <th>2</th>\n",
       "      <td>ANDAMAN &amp; NICOBAR ISLANDS</td>\n",
       "      <td>1903.0</td>\n",
       "      <td>12.7</td>\n",
       "      <td>144.0</td>\n",
       "      <td>0.0</td>\n",
       "      <td>1.0</td>\n",
       "      <td>235.1</td>\n",
       "      <td>479.9</td>\n",
       "      <td>728.4</td>\n",
       "      <td>326.7</td>\n",
       "      <td>...</td>\n",
       "      <td>2855.890527</td>\n",
       "      <td>2698.865952</td>\n",
       "      <td>356.992669</td>\n",
       "      <td>NaN</td>\n",
       "      <td>NaN</td>\n",
       "      <td>NaN</td>\n",
       "      <td>NaN</td>\n",
       "      <td>NaN</td>\n",
       "      <td>NaN</td>\n",
       "      <td>NaN</td>\n",
       "    </tr>\n",
       "    <tr>\n",
       "      <th>3</th>\n",
       "      <td>ANDAMAN &amp; NICOBAR ISLANDS</td>\n",
       "      <td>1904.0</td>\n",
       "      <td>9.4</td>\n",
       "      <td>14.7</td>\n",
       "      <td>0.0</td>\n",
       "      <td>202.4</td>\n",
       "      <td>304.5</td>\n",
       "      <td>495.1</td>\n",
       "      <td>502.0</td>\n",
       "      <td>160.1</td>\n",
       "      <td>...</td>\n",
       "      <td>2855.890527</td>\n",
       "      <td>2698.865952</td>\n",
       "      <td>356.992669</td>\n",
       "      <td>NaN</td>\n",
       "      <td>NaN</td>\n",
       "      <td>NaN</td>\n",
       "      <td>NaN</td>\n",
       "      <td>NaN</td>\n",
       "      <td>NaN</td>\n",
       "      <td>NaN</td>\n",
       "    </tr>\n",
       "    <tr>\n",
       "      <th>4</th>\n",
       "      <td>ANDAMAN &amp; NICOBAR ISLANDS</td>\n",
       "      <td>1905.0</td>\n",
       "      <td>1.3</td>\n",
       "      <td>0.0</td>\n",
       "      <td>3.3</td>\n",
       "      <td>26.9</td>\n",
       "      <td>279.5</td>\n",
       "      <td>628.7</td>\n",
       "      <td>368.7</td>\n",
       "      <td>330.5</td>\n",
       "      <td>...</td>\n",
       "      <td>2855.890527</td>\n",
       "      <td>2698.865952</td>\n",
       "      <td>356.992669</td>\n",
       "      <td>NaN</td>\n",
       "      <td>NaN</td>\n",
       "      <td>NaN</td>\n",
       "      <td>NaN</td>\n",
       "      <td>NaN</td>\n",
       "      <td>NaN</td>\n",
       "      <td>NaN</td>\n",
       "    </tr>\n",
       "  </tbody>\n",
       "</table>\n",
       "<p>5 rows × 47 columns</p>\n",
       "</div>"
      ],
      "text/plain": [
       "                       state    YEAR  JAN_x  FEB_x  MAR_x  APR_x  MAY_x  \\\n",
       "0  ANDAMAN & NICOBAR ISLANDS  1901.0   49.2   87.1   29.2    2.3  528.8   \n",
       "1  ANDAMAN & NICOBAR ISLANDS  1902.0    0.0  159.8   12.2    0.0  446.1   \n",
       "2  ANDAMAN & NICOBAR ISLANDS  1903.0   12.7  144.0    0.0    1.0  235.1   \n",
       "3  ANDAMAN & NICOBAR ISLANDS  1904.0    9.4   14.7    0.0  202.4  304.5   \n",
       "4  ANDAMAN & NICOBAR ISLANDS  1905.0    1.3    0.0    3.3   26.9  279.5   \n",
       "\n",
       "   JUN_x  JUL_x  AUG_x  ...    max_price  modal_price    rainfall   N   P   K  \\\n",
       "0  517.5  365.1  481.1  ...  2855.890527  2698.865952  356.992669 NaN NaN NaN   \n",
       "1  537.1  228.9  753.7  ...  2855.890527  2698.865952  356.992669 NaN NaN NaN   \n",
       "2  479.9  728.4  326.7  ...  2855.890527  2698.865952  356.992669 NaN NaN NaN   \n",
       "3  495.1  502.0  160.1  ...  2855.890527  2698.865952  356.992669 NaN NaN NaN   \n",
       "4  628.7  368.7  330.5  ...  2855.890527  2698.865952  356.992669 NaN NaN NaN   \n",
       "\n",
       "   temperature  humidity  ph  label  \n",
       "0          NaN       NaN NaN    NaN  \n",
       "1          NaN       NaN NaN    NaN  \n",
       "2          NaN       NaN NaN    NaN  \n",
       "3          NaN       NaN NaN    NaN  \n",
       "4          NaN       NaN NaN    NaN  \n",
       "\n",
       "[5 rows x 47 columns]"
      ]
     },
     "execution_count": 73,
     "metadata": {},
     "output_type": "execute_result"
    }
   ],
   "source": [
    "merged_df.head()"
   ]
  },
  {
   "cell_type": "code",
   "execution_count": 74,
   "id": "e78fb8bd",
   "metadata": {
    "execution": {
     "iopub.execute_input": "2023-02-11T11:39:21.056486Z",
     "iopub.status.busy": "2023-02-11T11:39:21.056078Z",
     "iopub.status.idle": "2023-02-11T11:39:43.625247Z",
     "shell.execute_reply": "2023-02-11T11:39:43.623963Z"
    },
    "papermill": {
     "duration": 22.605591,
     "end_time": "2023-02-11T11:39:43.628117",
     "exception": false,
     "start_time": "2023-02-11T11:39:21.022526",
     "status": "completed"
    },
    "tags": []
   },
   "outputs": [
    {
     "data": {
      "text/html": [
       "<div>\n",
       "<style scoped>\n",
       "    .dataframe tbody tr th:only-of-type {\n",
       "        vertical-align: middle;\n",
       "    }\n",
       "\n",
       "    .dataframe tbody tr th {\n",
       "        vertical-align: top;\n",
       "    }\n",
       "\n",
       "    .dataframe thead th {\n",
       "        text-align: right;\n",
       "    }\n",
       "</style>\n",
       "<table border=\"1\" class=\"dataframe\">\n",
       "  <thead>\n",
       "    <tr style=\"text-align: right;\">\n",
       "      <th></th>\n",
       "      <th>state</th>\n",
       "      <th>YEAR</th>\n",
       "      <th>JAN_x</th>\n",
       "      <th>FEB_x</th>\n",
       "      <th>MAR_x</th>\n",
       "      <th>APR_x</th>\n",
       "      <th>MAY_x</th>\n",
       "      <th>JUN_x</th>\n",
       "      <th>JUL_x</th>\n",
       "      <th>AUG_x</th>\n",
       "      <th>...</th>\n",
       "      <th>rainfall_x</th>\n",
       "      <th>match_score</th>\n",
       "      <th>N</th>\n",
       "      <th>P</th>\n",
       "      <th>K</th>\n",
       "      <th>temperature</th>\n",
       "      <th>humidity</th>\n",
       "      <th>ph</th>\n",
       "      <th>rainfall_y</th>\n",
       "      <th>label</th>\n",
       "    </tr>\n",
       "  </thead>\n",
       "  <tbody>\n",
       "    <tr>\n",
       "      <th>0</th>\n",
       "      <td>ARUNACHAL PRADESH</td>\n",
       "      <td>1916.0</td>\n",
       "      <td>48.1</td>\n",
       "      <td>69.8</td>\n",
       "      <td>71.1</td>\n",
       "      <td>316.1</td>\n",
       "      <td>424.6</td>\n",
       "      <td>1124.9</td>\n",
       "      <td>327.463533</td>\n",
       "      <td>629.7</td>\n",
       "      <td>...</td>\n",
       "      <td>760.95</td>\n",
       "      <td>6</td>\n",
       "      <td>94</td>\n",
       "      <td>50</td>\n",
       "      <td>37</td>\n",
       "      <td>25.665852</td>\n",
       "      <td>80.663850</td>\n",
       "      <td>6.948020</td>\n",
       "      <td>209.586971</td>\n",
       "      <td>rice</td>\n",
       "    </tr>\n",
       "    <tr>\n",
       "      <th>1</th>\n",
       "      <td>ARUNACHAL PRADESH</td>\n",
       "      <td>1916.0</td>\n",
       "      <td>48.1</td>\n",
       "      <td>69.8</td>\n",
       "      <td>71.1</td>\n",
       "      <td>316.1</td>\n",
       "      <td>424.6</td>\n",
       "      <td>1124.9</td>\n",
       "      <td>327.463533</td>\n",
       "      <td>629.7</td>\n",
       "      <td>...</td>\n",
       "      <td>760.95</td>\n",
       "      <td>6</td>\n",
       "      <td>92</td>\n",
       "      <td>35</td>\n",
       "      <td>40</td>\n",
       "      <td>22.179319</td>\n",
       "      <td>80.331272</td>\n",
       "      <td>6.357389</td>\n",
       "      <td>200.088279</td>\n",
       "      <td>rice</td>\n",
       "    </tr>\n",
       "    <tr>\n",
       "      <th>2</th>\n",
       "      <td>ARUNACHAL PRADESH</td>\n",
       "      <td>1916.0</td>\n",
       "      <td>48.1</td>\n",
       "      <td>69.8</td>\n",
       "      <td>71.1</td>\n",
       "      <td>316.1</td>\n",
       "      <td>424.6</td>\n",
       "      <td>1124.9</td>\n",
       "      <td>327.463533</td>\n",
       "      <td>629.7</td>\n",
       "      <td>...</td>\n",
       "      <td>760.95</td>\n",
       "      <td>6</td>\n",
       "      <td>64</td>\n",
       "      <td>45</td>\n",
       "      <td>43</td>\n",
       "      <td>25.629801</td>\n",
       "      <td>83.528423</td>\n",
       "      <td>5.534878</td>\n",
       "      <td>209.900198</td>\n",
       "      <td>rice</td>\n",
       "    </tr>\n",
       "    <tr>\n",
       "      <th>3</th>\n",
       "      <td>ARUNACHAL PRADESH</td>\n",
       "      <td>1916.0</td>\n",
       "      <td>48.1</td>\n",
       "      <td>69.8</td>\n",
       "      <td>71.1</td>\n",
       "      <td>316.1</td>\n",
       "      <td>424.6</td>\n",
       "      <td>1124.9</td>\n",
       "      <td>327.463533</td>\n",
       "      <td>629.7</td>\n",
       "      <td>...</td>\n",
       "      <td>760.95</td>\n",
       "      <td>6</td>\n",
       "      <td>83</td>\n",
       "      <td>60</td>\n",
       "      <td>36</td>\n",
       "      <td>25.597049</td>\n",
       "      <td>80.145093</td>\n",
       "      <td>6.903986</td>\n",
       "      <td>200.834898</td>\n",
       "      <td>rice</td>\n",
       "    </tr>\n",
       "    <tr>\n",
       "      <th>4</th>\n",
       "      <td>ARUNACHAL PRADESH</td>\n",
       "      <td>1916.0</td>\n",
       "      <td>48.1</td>\n",
       "      <td>69.8</td>\n",
       "      <td>71.1</td>\n",
       "      <td>316.1</td>\n",
       "      <td>424.6</td>\n",
       "      <td>1124.9</td>\n",
       "      <td>327.463533</td>\n",
       "      <td>629.7</td>\n",
       "      <td>...</td>\n",
       "      <td>760.95</td>\n",
       "      <td>6</td>\n",
       "      <td>91</td>\n",
       "      <td>35</td>\n",
       "      <td>38</td>\n",
       "      <td>24.897282</td>\n",
       "      <td>80.525861</td>\n",
       "      <td>6.134287</td>\n",
       "      <td>183.679321</td>\n",
       "      <td>rice</td>\n",
       "    </tr>\n",
       "  </tbody>\n",
       "</table>\n",
       "<p>5 rows × 49 columns</p>\n",
       "</div>"
      ],
      "text/plain": [
       "               state    YEAR  JAN_x  FEB_x  MAR_x  APR_x  MAY_x   JUN_x  \\\n",
       "0  ARUNACHAL PRADESH  1916.0   48.1   69.8   71.1  316.1  424.6  1124.9   \n",
       "1  ARUNACHAL PRADESH  1916.0   48.1   69.8   71.1  316.1  424.6  1124.9   \n",
       "2  ARUNACHAL PRADESH  1916.0   48.1   69.8   71.1  316.1  424.6  1124.9   \n",
       "3  ARUNACHAL PRADESH  1916.0   48.1   69.8   71.1  316.1  424.6  1124.9   \n",
       "4  ARUNACHAL PRADESH  1916.0   48.1   69.8   71.1  316.1  424.6  1124.9   \n",
       "\n",
       "        JUL_x  AUG_x  ...  rainfall_x  match_score   N   P   K  temperature  \\\n",
       "0  327.463533  629.7  ...      760.95            6  94  50  37    25.665852   \n",
       "1  327.463533  629.7  ...      760.95            6  92  35  40    22.179319   \n",
       "2  327.463533  629.7  ...      760.95            6  64  45  43    25.629801   \n",
       "3  327.463533  629.7  ...      760.95            6  83  60  36    25.597049   \n",
       "4  327.463533  629.7  ...      760.95            6  91  35  38    24.897282   \n",
       "\n",
       "    humidity        ph  rainfall_y  label  \n",
       "0  80.663850  6.948020  209.586971   rice  \n",
       "1  80.331272  6.357389  200.088279   rice  \n",
       "2  83.528423  5.534878  209.900198   rice  \n",
       "3  80.145093  6.903986  200.834898   rice  \n",
       "4  80.525861  6.134287  183.679321   rice  \n",
       "\n",
       "[5 rows x 49 columns]"
      ]
     },
     "execution_count": 74,
     "metadata": {},
     "output_type": "execute_result"
    }
   ],
   "source": [
    "from fuzzywuzzy import fuzz\n",
    "# Create a new column in each DataFrame that contains the fuzzy match score between each value in the rainfall column and the corresponding value in the other DataFrame\n",
    "df1[\"match_score\"] = df1.apply(lambda x: fuzz.token_sort_ratio(x[\"rainfall\"], df2[\"rainfall\"]), axis=1)\n",
    "df2[\"match_score\"] = df2.apply(lambda x: fuzz.token_sort_ratio(x[\"rainfall\"], df1[\"rainfall\"]), axis=1)\n",
    "\n",
    "# Merge the two datasets on the match_score column using an inner join\n",
    "merged_df1= pd.merge(df1, df2, on=\"match_score\", how=\"inner\")\n",
    "\n",
    "# Print the merged DataFrame\n",
    "merged_df1.head()"
   ]
  },
  {
   "cell_type": "code",
   "execution_count": 75,
   "id": "aa92e00d",
   "metadata": {
    "execution": {
     "iopub.execute_input": "2023-02-11T11:39:43.699913Z",
     "iopub.status.busy": "2023-02-11T11:39:43.699281Z",
     "iopub.status.idle": "2023-02-11T11:39:44.499416Z",
     "shell.execute_reply": "2023-02-11T11:39:44.498761Z"
    },
    "papermill": {
     "duration": 0.83871,
     "end_time": "2023-02-11T11:39:44.501479",
     "exception": false,
     "start_time": "2023-02-11T11:39:43.662769",
     "status": "completed"
    },
    "tags": []
   },
   "outputs": [
    {
     "data": {
      "text/plain": [
       "0"
      ]
     },
     "execution_count": 75,
     "metadata": {},
     "output_type": "execute_result"
    }
   ],
   "source": [
    "merged_df1.isnull().sum().sum()"
   ]
  },
  {
   "cell_type": "code",
   "execution_count": 76,
   "id": "bf74d8e0",
   "metadata": {
    "execution": {
     "iopub.execute_input": "2023-02-11T11:39:44.572570Z",
     "iopub.status.busy": "2023-02-11T11:39:44.571966Z",
     "iopub.status.idle": "2023-02-11T11:39:44.577284Z",
     "shell.execute_reply": "2023-02-11T11:39:44.576384Z"
    },
    "papermill": {
     "duration": 0.043588,
     "end_time": "2023-02-11T11:39:44.579268",
     "exception": false,
     "start_time": "2023-02-11T11:39:44.535680",
     "status": "completed"
    },
    "tags": []
   },
   "outputs": [
    {
     "data": {
      "text/plain": [
       "(6154502, 49)"
      ]
     },
     "execution_count": 76,
     "metadata": {},
     "output_type": "execute_result"
    }
   ],
   "source": [
    "merged_df1.shape"
   ]
  },
  {
   "cell_type": "code",
   "execution_count": 77,
   "id": "e0f15598",
   "metadata": {
    "execution": {
     "iopub.execute_input": "2023-02-11T11:39:44.651060Z",
     "iopub.status.busy": "2023-02-11T11:39:44.650571Z",
     "iopub.status.idle": "2023-02-11T11:39:45.047607Z",
     "shell.execute_reply": "2023-02-11T11:39:45.046847Z"
    },
    "papermill": {
     "duration": 0.436203,
     "end_time": "2023-02-11T11:39:45.049585",
     "exception": false,
     "start_time": "2023-02-11T11:39:44.613382",
     "status": "completed"
    },
    "tags": []
   },
   "outputs": [
    {
     "data": {
      "text/plain": [
       "array(['rice', 'maize', 'chickpea', 'kidneybeans', 'pigeonpeas',\n",
       "       'mothbeans', 'mungbean', 'blackgram', 'lentil', 'pomegranate',\n",
       "       'banana', 'mango', 'grapes', 'watermelon', 'muskmelon', 'apple',\n",
       "       'orange', 'papaya', 'coconut', 'cotton', 'jute', 'coffee'],\n",
       "      dtype=object)"
      ]
     },
     "execution_count": 77,
     "metadata": {},
     "output_type": "execute_result"
    }
   ],
   "source": [
    "merged_df1['label'].unique()"
   ]
  },
  {
   "cell_type": "markdown",
   "id": "0a085a5b",
   "metadata": {
    "papermill": {
     "duration": 0.036163,
     "end_time": "2023-02-11T11:39:45.120461",
     "exception": false,
     "start_time": "2023-02-11T11:39:45.084298",
     "status": "completed"
    },
    "tags": []
   },
   "source": [
    "making a copy "
   ]
  },
  {
   "cell_type": "code",
   "execution_count": 78,
   "id": "826e8916",
   "metadata": {
    "execution": {
     "iopub.execute_input": "2023-02-11T11:39:45.191223Z",
     "iopub.status.busy": "2023-02-11T11:39:45.190560Z",
     "iopub.status.idle": "2023-02-11T11:39:47.165362Z",
     "shell.execute_reply": "2023-02-11T11:39:47.164576Z"
    },
    "papermill": {
     "duration": 2.012804,
     "end_time": "2023-02-11T11:39:47.167990",
     "exception": false,
     "start_time": "2023-02-11T11:39:45.155186",
     "status": "completed"
    },
    "tags": []
   },
   "outputs": [],
   "source": [
    "df=merged_df1.copy()"
   ]
  },
  {
   "cell_type": "markdown",
   "id": "f18a6d4f",
   "metadata": {
    "papermill": {
     "duration": 0.033148,
     "end_time": "2023-02-11T11:39:47.234536",
     "exception": false,
     "start_time": "2023-02-11T11:39:47.201388",
     "status": "completed"
    },
    "tags": []
   },
   "source": [
    "dropping 80 percent of said data while ensuring equal distribution"
   ]
  },
  {
   "cell_type": "code",
   "execution_count": 79,
   "id": "0bff01f8",
   "metadata": {
    "execution": {
     "iopub.execute_input": "2023-02-11T11:39:47.303999Z",
     "iopub.status.busy": "2023-02-11T11:39:47.303346Z",
     "iopub.status.idle": "2023-02-11T11:39:47.308373Z",
     "shell.execute_reply": "2023-02-11T11:39:47.307757Z"
    },
    "papermill": {
     "duration": 0.041974,
     "end_time": "2023-02-11T11:39:47.309971",
     "exception": false,
     "start_time": "2023-02-11T11:39:47.267997",
     "status": "completed"
    },
    "tags": []
   },
   "outputs": [
    {
     "data": {
      "text/plain": [
       "(6154502, 49)"
      ]
     },
     "execution_count": 79,
     "metadata": {},
     "output_type": "execute_result"
    }
   ],
   "source": [
    "df.shape"
   ]
  },
  {
   "cell_type": "code",
   "execution_count": 80,
   "id": "ed611d91",
   "metadata": {
    "execution": {
     "iopub.execute_input": "2023-02-11T11:39:47.378909Z",
     "iopub.status.busy": "2023-02-11T11:39:47.378209Z",
     "iopub.status.idle": "2023-02-11T11:39:47.586962Z",
     "shell.execute_reply": "2023-02-11T11:39:47.585328Z"
    },
    "papermill": {
     "duration": 0.246704,
     "end_time": "2023-02-11T11:39:47.590045",
     "exception": false,
     "start_time": "2023-02-11T11:39:47.343341",
     "status": "completed"
    },
    "tags": []
   },
   "outputs": [
    {
     "data": {
      "text/plain": [
       "cotton         385078\n",
       "chickpea       361492\n",
       "mango          339575\n",
       "mungbean       320943\n",
       "maize          316601\n",
       "grapes         310914\n",
       "papaya         293411\n",
       "watermelon     292731\n",
       "blackgram      288651\n",
       "mothbeans      286563\n",
       "muskmelon      280763\n",
       "lentil         280105\n",
       "jute           277701\n",
       "banana         277055\n",
       "kidneybeans    269590\n",
       "pomegranate    256169\n",
       "coconut        244107\n",
       "rice           239867\n",
       "pigeonpeas     235341\n",
       "orange         228852\n",
       "coffee         199147\n",
       "apple          169846\n",
       "Name: label, dtype: int64"
      ]
     },
     "execution_count": 80,
     "metadata": {},
     "output_type": "execute_result"
    }
   ],
   "source": [
    "df['label'].value_counts()"
   ]
  },
  {
   "cell_type": "code",
   "execution_count": 81,
   "id": "581b2cf2",
   "metadata": {
    "execution": {
     "iopub.execute_input": "2023-02-11T11:39:47.660552Z",
     "iopub.status.busy": "2023-02-11T11:39:47.659948Z",
     "iopub.status.idle": "2023-02-11T11:39:59.226523Z",
     "shell.execute_reply": "2023-02-11T11:39:59.225065Z"
    },
    "papermill": {
     "duration": 11.605418,
     "end_time": "2023-02-11T11:39:59.229303",
     "exception": false,
     "start_time": "2023-02-11T11:39:47.623885",
     "status": "completed"
    },
    "tags": []
   },
   "outputs": [],
   "source": [
    "classes = df['label'].unique()\n",
    "\n",
    "# Create a list to store the dataframes for each class\n",
    "class_dfs = []\n",
    "\n",
    "# Loop over the classes and create a separate dataframe for each class\n",
    "for c in classes:\n",
    "    class_df = df[df['label'] == c]\n",
    "    class_dfs.append(class_df.sample(frac=0.005, random_state=42))\n",
    "\n",
    "# Concatenate the class dataframes back into one\n",
    "result = pd.concat(class_dfs)"
   ]
  },
  {
   "cell_type": "code",
   "execution_count": 82,
   "id": "c7f407ce",
   "metadata": {
    "execution": {
     "iopub.execute_input": "2023-02-11T11:39:59.299298Z",
     "iopub.status.busy": "2023-02-11T11:39:59.298893Z",
     "iopub.status.idle": "2023-02-11T11:39:59.305385Z",
     "shell.execute_reply": "2023-02-11T11:39:59.303827Z"
    },
    "papermill": {
     "duration": 0.043768,
     "end_time": "2023-02-11T11:39:59.307433",
     "exception": false,
     "start_time": "2023-02-11T11:39:59.263665",
     "status": "completed"
    },
    "tags": []
   },
   "outputs": [
    {
     "data": {
      "text/plain": [
       "(30774, 49)"
      ]
     },
     "execution_count": 82,
     "metadata": {},
     "output_type": "execute_result"
    }
   ],
   "source": [
    "result.shape"
   ]
  },
  {
   "cell_type": "code",
   "execution_count": 83,
   "id": "573eddb7",
   "metadata": {
    "execution": {
     "iopub.execute_input": "2023-02-11T11:39:59.378602Z",
     "iopub.status.busy": "2023-02-11T11:39:59.378169Z",
     "iopub.status.idle": "2023-02-11T11:39:59.388638Z",
     "shell.execute_reply": "2023-02-11T11:39:59.387508Z"
    },
    "papermill": {
     "duration": 0.048445,
     "end_time": "2023-02-11T11:39:59.390323",
     "exception": false,
     "start_time": "2023-02-11T11:39:59.341878",
     "status": "completed"
    },
    "tags": []
   },
   "outputs": [
    {
     "data": {
      "text/plain": [
       "cotton         1925\n",
       "chickpea       1807\n",
       "mango          1698\n",
       "mungbean       1605\n",
       "maize          1583\n",
       "grapes         1555\n",
       "papaya         1467\n",
       "watermelon     1464\n",
       "blackgram      1443\n",
       "mothbeans      1433\n",
       "muskmelon      1404\n",
       "lentil         1401\n",
       "jute           1389\n",
       "banana         1385\n",
       "kidneybeans    1348\n",
       "pomegranate    1281\n",
       "coconut        1221\n",
       "rice           1199\n",
       "pigeonpeas     1177\n",
       "orange         1144\n",
       "coffee          996\n",
       "apple           849\n",
       "Name: label, dtype: int64"
      ]
     },
     "execution_count": 83,
     "metadata": {},
     "output_type": "execute_result"
    }
   ],
   "source": [
    "result['label'].value_counts()"
   ]
  },
  {
   "cell_type": "code",
   "execution_count": 84,
   "id": "2f642896",
   "metadata": {
    "execution": {
     "iopub.execute_input": "2023-02-11T11:39:59.458875Z",
     "iopub.status.busy": "2023-02-11T11:39:59.458409Z",
     "iopub.status.idle": "2023-02-11T11:39:59.466167Z",
     "shell.execute_reply": "2023-02-11T11:39:59.465216Z"
    },
    "papermill": {
     "duration": 0.044697,
     "end_time": "2023-02-11T11:39:59.467861",
     "exception": false,
     "start_time": "2023-02-11T11:39:59.423164",
     "status": "completed"
    },
    "tags": []
   },
   "outputs": [
    {
     "data": {
      "text/plain": [
       "Index(['state', 'YEAR', 'JAN_x', 'FEB_x', 'MAR_x', 'APR_x', 'MAY_x', 'JUN_x',\n",
       "       'JUL_x', 'AUG_x', 'SEP_x', 'OCT_x', 'NOV_x', 'DEC_x', 'ANNUAL_x',\n",
       "       'Jan-Feb_x', 'Mar-May_x', 'Jun-Sep_x', 'Oct-Dec_x', 'JAN_y', 'FEB_y',\n",
       "       'MAR_y', 'APR_y', 'MAY_y', 'JUN_y', 'JUL_y', 'AUG_y', 'SEP_y', 'OCT_y',\n",
       "       'NOV_y', 'DEC_y', 'ANNUAL_y', 'Jan-Feb_y', 'Mar-May_y', 'Jun-Sep_y',\n",
       "       'Oct-Dec_y', 'min_price', 'max_price', 'modal_price', 'rainfall_x',\n",
       "       'match_score', 'N', 'P', 'K', 'temperature', 'humidity', 'ph',\n",
       "       'rainfall_y', 'label'],\n",
       "      dtype='object')"
      ]
     },
     "execution_count": 84,
     "metadata": {},
     "output_type": "execute_result"
    }
   ],
   "source": [
    "result.columns"
   ]
  },
  {
   "cell_type": "code",
   "execution_count": 85,
   "id": "6750e884",
   "metadata": {
    "execution": {
     "iopub.execute_input": "2023-02-11T11:39:59.537286Z",
     "iopub.status.busy": "2023-02-11T11:39:59.536301Z",
     "iopub.status.idle": "2023-02-11T11:39:59.552259Z",
     "shell.execute_reply": "2023-02-11T11:39:59.551414Z"
    },
    "papermill": {
     "duration": 0.053551,
     "end_time": "2023-02-11T11:39:59.554755",
     "exception": false,
     "start_time": "2023-02-11T11:39:59.501204",
     "status": "completed"
    },
    "tags": []
   },
   "outputs": [],
   "source": [
    "Y=result['label']\n",
    "X=result.copy()\n",
    "X.drop(columns='label',inplace=True)"
   ]
  },
  {
   "cell_type": "code",
   "execution_count": 86,
   "id": "e192399a",
   "metadata": {
    "execution": {
     "iopub.execute_input": "2023-02-11T11:39:59.624904Z",
     "iopub.status.busy": "2023-02-11T11:39:59.624295Z",
     "iopub.status.idle": "2023-02-11T11:39:59.630965Z",
     "shell.execute_reply": "2023-02-11T11:39:59.629984Z"
    },
    "papermill": {
     "duration": 0.043989,
     "end_time": "2023-02-11T11:39:59.632821",
     "exception": false,
     "start_time": "2023-02-11T11:39:59.588832",
     "status": "completed"
    },
    "tags": []
   },
   "outputs": [
    {
     "data": {
      "text/plain": [
       "(30774, 48)"
      ]
     },
     "execution_count": 86,
     "metadata": {},
     "output_type": "execute_result"
    }
   ],
   "source": [
    "X.shape"
   ]
  },
  {
   "cell_type": "code",
   "execution_count": 87,
   "id": "672f74ca",
   "metadata": {
    "execution": {
     "iopub.execute_input": "2023-02-11T11:39:59.704017Z",
     "iopub.status.busy": "2023-02-11T11:39:59.703565Z",
     "iopub.status.idle": "2023-02-11T11:39:59.709575Z",
     "shell.execute_reply": "2023-02-11T11:39:59.708758Z"
    },
    "papermill": {
     "duration": 0.044617,
     "end_time": "2023-02-11T11:39:59.711889",
     "exception": false,
     "start_time": "2023-02-11T11:39:59.667272",
     "status": "completed"
    },
    "tags": []
   },
   "outputs": [
    {
     "data": {
      "text/plain": [
       "(30774,)"
      ]
     },
     "execution_count": 87,
     "metadata": {},
     "output_type": "execute_result"
    }
   ],
   "source": [
    "Y.shape"
   ]
  },
  {
   "cell_type": "code",
   "execution_count": 88,
   "id": "cb468ee7",
   "metadata": {
    "execution": {
     "iopub.execute_input": "2023-02-11T11:39:59.781575Z",
     "iopub.status.busy": "2023-02-11T11:39:59.781043Z",
     "iopub.status.idle": "2023-02-11T11:39:59.787541Z",
     "shell.execute_reply": "2023-02-11T11:39:59.786557Z"
    },
    "papermill": {
     "duration": 0.043523,
     "end_time": "2023-02-11T11:39:59.789446",
     "exception": false,
     "start_time": "2023-02-11T11:39:59.745923",
     "status": "completed"
    },
    "tags": []
   },
   "outputs": [
    {
     "data": {
      "text/plain": [
       "Index(['state', 'YEAR', 'JAN_x', 'FEB_x', 'MAR_x', 'APR_x', 'MAY_x', 'JUN_x',\n",
       "       'JUL_x', 'AUG_x', 'SEP_x', 'OCT_x', 'NOV_x', 'DEC_x', 'ANNUAL_x',\n",
       "       'Jan-Feb_x', 'Mar-May_x', 'Jun-Sep_x', 'Oct-Dec_x', 'JAN_y', 'FEB_y',\n",
       "       'MAR_y', 'APR_y', 'MAY_y', 'JUN_y', 'JUL_y', 'AUG_y', 'SEP_y', 'OCT_y',\n",
       "       'NOV_y', 'DEC_y', 'ANNUAL_y', 'Jan-Feb_y', 'Mar-May_y', 'Jun-Sep_y',\n",
       "       'Oct-Dec_y', 'min_price', 'max_price', 'modal_price', 'rainfall_x',\n",
       "       'match_score', 'N', 'P', 'K', 'temperature', 'humidity', 'ph',\n",
       "       'rainfall_y'],\n",
       "      dtype='object')"
      ]
     },
     "execution_count": 88,
     "metadata": {},
     "output_type": "execute_result"
    }
   ],
   "source": [
    "X.columns"
   ]
  },
  {
   "cell_type": "code",
   "execution_count": 89,
   "id": "04873c2f",
   "metadata": {
    "execution": {
     "iopub.execute_input": "2023-02-11T11:39:59.861564Z",
     "iopub.status.busy": "2023-02-11T11:39:59.861188Z",
     "iopub.status.idle": "2023-02-11T11:40:09.430156Z",
     "shell.execute_reply": "2023-02-11T11:40:09.428288Z"
    },
    "papermill": {
     "duration": 9.609009,
     "end_time": "2023-02-11T11:40:09.433853",
     "exception": false,
     "start_time": "2023-02-11T11:39:59.824844",
     "status": "completed"
    },
    "tags": []
   },
   "outputs": [
    {
     "name": "stdout",
     "output_type": "stream",
     "text": [
      "Accuracy: 0.9998375304630381\n"
     ]
    }
   ],
   "source": [
    "from sklearn.ensemble import RandomForestClassifier\n",
    "from xgboost import XGBClassifier\n",
    "from sklearn.model_selection import train_test_split\n",
    "from sklearn.metrics import accuracy_score\n",
    "categorical_cols = X.select_dtypes(include=[\"category\", \"object\"]).columns\n",
    "X=pd.get_dummies(X, columns=categorical_cols)#hot encoding categorical variables\n",
    "X_train, X_test, y_train, y_test = train_test_split(X, Y, test_size=0.2, random_state=0)\n",
    "clf = RandomForestClassifier()\n",
    "model=XGBClassifier()\n",
    "clf.fit(X_train, y_train)\n",
    "# Predict the target values of the test set\n",
    "y_pred = clf.predict(X_test)\n",
    "# Calculate the accuracy of the model\n",
    "accuracy = accuracy_score(y_test, y_pred)\n",
    "print(\"Accuracy:\", accuracy)"
   ]
  },
  {
   "cell_type": "markdown",
   "id": "92b0468a",
   "metadata": {
    "papermill": {
     "duration": 0.034846,
     "end_time": "2023-02-11T11:40:09.504784",
     "exception": false,
     "start_time": "2023-02-11T11:40:09.469938",
     "status": "completed"
    },
    "tags": []
   },
   "source": [
    "saving said model to a .pkl file"
   ]
  },
  {
   "cell_type": "code",
   "execution_count": 90,
   "id": "e51b05fe",
   "metadata": {
    "execution": {
     "iopub.execute_input": "2023-02-11T11:40:09.575299Z",
     "iopub.status.busy": "2023-02-11T11:40:09.574929Z",
     "iopub.status.idle": "2023-02-11T11:40:15.960670Z",
     "shell.execute_reply": "2023-02-11T11:40:15.959619Z"
    },
    "papermill": {
     "duration": 6.423906,
     "end_time": "2023-02-11T11:40:15.963219",
     "exception": false,
     "start_time": "2023-02-11T11:40:09.539313",
     "status": "completed"
    },
    "tags": []
   },
   "outputs": [],
   "source": [
    "import pickle\n",
    "from keras.models import load_model\n",
    "# Save the model to a file\n",
    "with open(\"/kaggle/working/rf_model.pkl\", \"wb\") as f:\n",
    "    pickle.dump(clf, f)"
   ]
  },
  {
   "cell_type": "code",
   "execution_count": null,
   "id": "2740e4e4",
   "metadata": {
    "papermill": {
     "duration": 0.034328,
     "end_time": "2023-02-11T11:40:16.031946",
     "exception": false,
     "start_time": "2023-02-11T11:40:15.997618",
     "status": "completed"
    },
    "tags": []
   },
   "outputs": [],
   "source": []
  },
  {
   "cell_type": "code",
   "execution_count": null,
   "id": "6c0071e9",
   "metadata": {
    "papermill": {
     "duration": 0.033805,
     "end_time": "2023-02-11T11:40:16.100274",
     "exception": false,
     "start_time": "2023-02-11T11:40:16.066469",
     "status": "completed"
    },
    "tags": []
   },
   "outputs": [],
   "source": []
  },
  {
   "cell_type": "code",
   "execution_count": null,
   "id": "729e0673",
   "metadata": {
    "papermill": {
     "duration": 0.033971,
     "end_time": "2023-02-11T11:40:16.168354",
     "exception": false,
     "start_time": "2023-02-11T11:40:16.134383",
     "status": "completed"
    },
    "tags": []
   },
   "outputs": [],
   "source": []
  },
  {
   "cell_type": "code",
   "execution_count": null,
   "id": "80fa5f00",
   "metadata": {
    "papermill": {
     "duration": 0.034978,
     "end_time": "2023-02-11T11:40:16.237259",
     "exception": false,
     "start_time": "2023-02-11T11:40:16.202281",
     "status": "completed"
    },
    "tags": []
   },
   "outputs": [],
   "source": []
  },
  {
   "cell_type": "code",
   "execution_count": null,
   "id": "35bf4755",
   "metadata": {
    "papermill": {
     "duration": 0.034979,
     "end_time": "2023-02-11T11:40:16.307769",
     "exception": false,
     "start_time": "2023-02-11T11:40:16.272790",
     "status": "completed"
    },
    "tags": []
   },
   "outputs": [],
   "source": []
  },
  {
   "cell_type": "code",
   "execution_count": null,
   "id": "f884ee35",
   "metadata": {
    "papermill": {
     "duration": 0.034629,
     "end_time": "2023-02-11T11:40:16.379221",
     "exception": false,
     "start_time": "2023-02-11T11:40:16.344592",
     "status": "completed"
    },
    "tags": []
   },
   "outputs": [],
   "source": []
  },
  {
   "cell_type": "code",
   "execution_count": null,
   "id": "6a7ffd6a",
   "metadata": {
    "papermill": {
     "duration": 0.034165,
     "end_time": "2023-02-11T11:40:16.447926",
     "exception": false,
     "start_time": "2023-02-11T11:40:16.413761",
     "status": "completed"
    },
    "tags": []
   },
   "outputs": [],
   "source": []
  },
  {
   "cell_type": "code",
   "execution_count": null,
   "id": "8ab54700",
   "metadata": {
    "papermill": {
     "duration": 0.033802,
     "end_time": "2023-02-11T11:40:16.517386",
     "exception": false,
     "start_time": "2023-02-11T11:40:16.483584",
     "status": "completed"
    },
    "tags": []
   },
   "outputs": [],
   "source": []
  },
  {
   "cell_type": "code",
   "execution_count": null,
   "id": "a6bced3b",
   "metadata": {
    "papermill": {
     "duration": 0.033901,
     "end_time": "2023-02-11T11:40:16.585654",
     "exception": false,
     "start_time": "2023-02-11T11:40:16.551753",
     "status": "completed"
    },
    "tags": []
   },
   "outputs": [],
   "source": []
  },
  {
   "cell_type": "code",
   "execution_count": null,
   "id": "8ec7c99c",
   "metadata": {
    "papermill": {
     "duration": 0.034016,
     "end_time": "2023-02-11T11:40:16.654210",
     "exception": false,
     "start_time": "2023-02-11T11:40:16.620194",
     "status": "completed"
    },
    "tags": []
   },
   "outputs": [],
   "source": []
  },
  {
   "cell_type": "code",
   "execution_count": null,
   "id": "e62dbb7c",
   "metadata": {
    "papermill": {
     "duration": 0.034711,
     "end_time": "2023-02-11T11:40:16.723566",
     "exception": false,
     "start_time": "2023-02-11T11:40:16.688855",
     "status": "completed"
    },
    "tags": []
   },
   "outputs": [],
   "source": []
  },
  {
   "cell_type": "code",
   "execution_count": null,
   "id": "563229c0",
   "metadata": {
    "papermill": {
     "duration": 0.034961,
     "end_time": "2023-02-11T11:40:16.793002",
     "exception": false,
     "start_time": "2023-02-11T11:40:16.758041",
     "status": "completed"
    },
    "tags": []
   },
   "outputs": [],
   "source": []
  },
  {
   "cell_type": "code",
   "execution_count": null,
   "id": "fb378462",
   "metadata": {
    "papermill": {
     "duration": 0.033727,
     "end_time": "2023-02-11T11:40:16.861097",
     "exception": false,
     "start_time": "2023-02-11T11:40:16.827370",
     "status": "completed"
    },
    "tags": []
   },
   "outputs": [],
   "source": []
  },
  {
   "cell_type": "code",
   "execution_count": null,
   "id": "32462602",
   "metadata": {
    "papermill": {
     "duration": 0.034231,
     "end_time": "2023-02-11T11:40:16.929426",
     "exception": false,
     "start_time": "2023-02-11T11:40:16.895195",
     "status": "completed"
    },
    "tags": []
   },
   "outputs": [],
   "source": []
  },
  {
   "cell_type": "code",
   "execution_count": null,
   "id": "dcc1bc3e",
   "metadata": {
    "papermill": {
     "duration": 0.035112,
     "end_time": "2023-02-11T11:40:16.999673",
     "exception": false,
     "start_time": "2023-02-11T11:40:16.964561",
     "status": "completed"
    },
    "tags": []
   },
   "outputs": [],
   "source": []
  },
  {
   "cell_type": "code",
   "execution_count": null,
   "id": "09e4672c",
   "metadata": {
    "papermill": {
     "duration": 0.03475,
     "end_time": "2023-02-11T11:40:17.069528",
     "exception": false,
     "start_time": "2023-02-11T11:40:17.034778",
     "status": "completed"
    },
    "tags": []
   },
   "outputs": [],
   "source": []
  },
  {
   "cell_type": "code",
   "execution_count": null,
   "id": "c1f0acb0",
   "metadata": {
    "papermill": {
     "duration": 0.03424,
     "end_time": "2023-02-11T11:40:17.139703",
     "exception": false,
     "start_time": "2023-02-11T11:40:17.105463",
     "status": "completed"
    },
    "tags": []
   },
   "outputs": [],
   "source": []
  }
 ],
 "metadata": {
  "kernelspec": {
   "display_name": "Python 3",
   "language": "python",
   "name": "python3"
  },
  "language_info": {
   "codemirror_mode": {
    "name": "ipython",
    "version": 3
   },
   "file_extension": ".py",
   "mimetype": "text/x-python",
   "name": "python",
   "nbconvert_exporter": "python",
   "pygments_lexer": "ipython3",
   "version": "3.7.12"
  },
  "papermill": {
   "default_parameters": {},
   "duration": 74.150431,
   "end_time": "2023-02-11T11:40:20.467275",
   "environment_variables": {},
   "exception": null,
   "input_path": "__notebook__.ipynb",
   "output_path": "__notebook__.ipynb",
   "parameters": {},
   "start_time": "2023-02-11T11:39:06.316844",
   "version": "2.3.4"
  }
 },
 "nbformat": 4,
 "nbformat_minor": 5
}
