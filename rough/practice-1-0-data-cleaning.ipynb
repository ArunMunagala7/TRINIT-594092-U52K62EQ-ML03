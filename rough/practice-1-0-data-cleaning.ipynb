{
 "cells": [
  {
   "cell_type": "code",
   "execution_count": 1,
   "id": "2279de4c",
   "metadata": {
    "_cell_guid": "b1076dfc-b9ad-4769-8c92-a6c4dae69d19",
    "_uuid": "8f2839f25d086af736a60e9eeb907d3b93b6e0e5",
    "execution": {
     "iopub.execute_input": "2023-02-10T22:43:03.406557Z",
     "iopub.status.busy": "2023-02-10T22:43:03.406137Z",
     "iopub.status.idle": "2023-02-10T22:43:03.457901Z",
     "shell.execute_reply": "2023-02-10T22:43:03.456762Z"
    },
    "papermill": {
     "duration": 0.070625,
     "end_time": "2023-02-10T22:43:03.460896",
     "exception": false,
     "start_time": "2023-02-10T22:43:03.390271",
     "status": "completed"
    },
    "scrolled": true,
    "tags": []
   },
   "outputs": [
    {
     "name": "stdout",
     "output_type": "stream",
     "text": [
      "/kaggle/input/rainfall-in-india/rainfall in india 1901-2015.csv\n",
      "/kaggle/input/rainfall-in-india/district wise rainfall normal.csv\n",
      "/kaggle/input/all-agriculture-related-datasets-for-india/csv\n",
      "/kaggle/input/crop-recommendation-dataset/Crop_recommendation.csv\n",
      "/kaggle/input/historicalweatherdataforindiancities/Temperature_And_Precipitation_Cities_IN/Lucknow_1990_2022.csv\n",
      "/kaggle/input/historicalweatherdataforindiancities/Temperature_And_Precipitation_Cities_IN/Delhi_NCR_1990_2022_Safdarjung.csv\n",
      "/kaggle/input/historicalweatherdataforindiancities/Temperature_And_Precipitation_Cities_IN/weather_Rourkela_2021_2022.csv\n",
      "/kaggle/input/historicalweatherdataforindiancities/Temperature_And_Precipitation_Cities_IN/Chennai_1990_2022_Madras.csv\n",
      "/kaggle/input/historicalweatherdataforindiancities/Temperature_And_Precipitation_Cities_IN/Rajasthan_1990_2022_Jodhpur.csv\n",
      "/kaggle/input/historicalweatherdataforindiancities/Temperature_And_Precipitation_Cities_IN/Bangalore_1990_2022_BangaloreCity.csv\n",
      "/kaggle/input/historicalweatherdataforindiancities/Temperature_And_Precipitation_Cities_IN/Station_GeoLocation_Longitute_Latitude_Elevation_EPSG_4326.csv\n",
      "/kaggle/input/historicalweatherdataforindiancities/Temperature_And_Precipitation_Cities_IN/Mumbai_1990_2022_Santacruz.csv\n",
      "/kaggle/input/historicalweatherdataforindiancities/Temperature_And_Precipitation_Cities_IN/weather_Bhubhneshwar_1990_2022.csv\n"
     ]
    }
   ],
   "source": [
    "# This Python 3 environment comes with many helpful analytics libraries installed\n",
    "# It is defined by the kaggle/python Docker image: https://github.com/kaggle/docker-python\n",
    "# For example, here's several helpful packages to load\n",
    "\n",
    "import numpy as np # linear algebra\n",
    "import pandas as pd # data processing, CSV file I/O (e.g. pd.read_csv)\n",
    "\n",
    "# Input data files are available in the read-only \"../input/\" directory\n",
    "# For example, running this (by clicking run or pressing Shift+Enter) will list all files under the input directory\n",
    "\n",
    "import os\n",
    "for dirname, _, filenames in os.walk('/kaggle/input'):\n",
    "    for filename in filenames:\n",
    "        print(os.path.join(dirname, filename))\n",
    "\n",
    "# You can write up to 20GB to the current directory (/kaggle/working/) that gets preserved as output when you create a version using \"Save & Run All\" \n",
    "# You can also write temporary files to /kaggle/temp/, but they won't be saved outside of the current session"
   ]
  },
  {
   "cell_type": "markdown",
   "id": "9dc7b789",
   "metadata": {
    "papermill": {
     "duration": 0.013281,
     "end_time": "2023-02-10T22:43:03.490172",
     "exception": false,
     "start_time": "2023-02-10T22:43:03.476891",
     "status": "completed"
    },
    "tags": []
   },
   "source": [
    "extracting the rainfall data and viewing the features accordingly"
   ]
  },
  {
   "cell_type": "code",
   "execution_count": 2,
   "id": "ef7c68f7",
   "metadata": {
    "execution": {
     "iopub.execute_input": "2023-02-10T22:43:03.519229Z",
     "iopub.status.busy": "2023-02-10T22:43:03.518371Z",
     "iopub.status.idle": "2023-02-10T22:43:03.569214Z",
     "shell.execute_reply": "2023-02-10T22:43:03.568477Z"
    },
    "papermill": {
     "duration": 0.067322,
     "end_time": "2023-02-10T22:43:03.571172",
     "exception": false,
     "start_time": "2023-02-10T22:43:03.503850",
     "status": "completed"
    },
    "tags": []
   },
   "outputs": [],
   "source": [
    "district_rainfall_data=pd.read_csv('/kaggle/input/rainfall-in-india/district wise rainfall normal.csv')\n",
    "india_rainfall_data=pd.read_csv('/kaggle/input/rainfall-in-india/rainfall in india 1901-2015.csv')"
   ]
  },
  {
   "cell_type": "code",
   "execution_count": 3,
   "id": "192165f1",
   "metadata": {
    "execution": {
     "iopub.execute_input": "2023-02-10T22:43:03.600200Z",
     "iopub.status.busy": "2023-02-10T22:43:03.599587Z",
     "iopub.status.idle": "2023-02-10T22:43:03.631041Z",
     "shell.execute_reply": "2023-02-10T22:43:03.630200Z"
    },
    "papermill": {
     "duration": 0.048355,
     "end_time": "2023-02-10T22:43:03.633309",
     "exception": false,
     "start_time": "2023-02-10T22:43:03.584954",
     "status": "completed"
    },
    "tags": []
   },
   "outputs": [
    {
     "data": {
      "text/html": [
       "<div>\n",
       "<style scoped>\n",
       "    .dataframe tbody tr th:only-of-type {\n",
       "        vertical-align: middle;\n",
       "    }\n",
       "\n",
       "    .dataframe tbody tr th {\n",
       "        vertical-align: top;\n",
       "    }\n",
       "\n",
       "    .dataframe thead th {\n",
       "        text-align: right;\n",
       "    }\n",
       "</style>\n",
       "<table border=\"1\" class=\"dataframe\">\n",
       "  <thead>\n",
       "    <tr style=\"text-align: right;\">\n",
       "      <th></th>\n",
       "      <th>STATE_UT_NAME</th>\n",
       "      <th>DISTRICT</th>\n",
       "      <th>JAN</th>\n",
       "      <th>FEB</th>\n",
       "      <th>MAR</th>\n",
       "      <th>APR</th>\n",
       "      <th>MAY</th>\n",
       "      <th>JUN</th>\n",
       "      <th>JUL</th>\n",
       "      <th>AUG</th>\n",
       "      <th>SEP</th>\n",
       "      <th>OCT</th>\n",
       "      <th>NOV</th>\n",
       "      <th>DEC</th>\n",
       "      <th>ANNUAL</th>\n",
       "      <th>Jan-Feb</th>\n",
       "      <th>Mar-May</th>\n",
       "      <th>Jun-Sep</th>\n",
       "      <th>Oct-Dec</th>\n",
       "    </tr>\n",
       "  </thead>\n",
       "  <tbody>\n",
       "    <tr>\n",
       "      <th>0</th>\n",
       "      <td>ANDAMAN And NICOBAR ISLANDS</td>\n",
       "      <td>NICOBAR</td>\n",
       "      <td>107.3</td>\n",
       "      <td>57.9</td>\n",
       "      <td>65.2</td>\n",
       "      <td>117.0</td>\n",
       "      <td>358.5</td>\n",
       "      <td>295.5</td>\n",
       "      <td>285.0</td>\n",
       "      <td>271.9</td>\n",
       "      <td>354.8</td>\n",
       "      <td>326.0</td>\n",
       "      <td>315.2</td>\n",
       "      <td>250.9</td>\n",
       "      <td>2805.2</td>\n",
       "      <td>165.2</td>\n",
       "      <td>540.7</td>\n",
       "      <td>1207.2</td>\n",
       "      <td>892.1</td>\n",
       "    </tr>\n",
       "    <tr>\n",
       "      <th>1</th>\n",
       "      <td>ANDAMAN And NICOBAR ISLANDS</td>\n",
       "      <td>SOUTH ANDAMAN</td>\n",
       "      <td>43.7</td>\n",
       "      <td>26.0</td>\n",
       "      <td>18.6</td>\n",
       "      <td>90.5</td>\n",
       "      <td>374.4</td>\n",
       "      <td>457.2</td>\n",
       "      <td>421.3</td>\n",
       "      <td>423.1</td>\n",
       "      <td>455.6</td>\n",
       "      <td>301.2</td>\n",
       "      <td>275.8</td>\n",
       "      <td>128.3</td>\n",
       "      <td>3015.7</td>\n",
       "      <td>69.7</td>\n",
       "      <td>483.5</td>\n",
       "      <td>1757.2</td>\n",
       "      <td>705.3</td>\n",
       "    </tr>\n",
       "    <tr>\n",
       "      <th>2</th>\n",
       "      <td>ANDAMAN And NICOBAR ISLANDS</td>\n",
       "      <td>N &amp; M ANDAMAN</td>\n",
       "      <td>32.7</td>\n",
       "      <td>15.9</td>\n",
       "      <td>8.6</td>\n",
       "      <td>53.4</td>\n",
       "      <td>343.6</td>\n",
       "      <td>503.3</td>\n",
       "      <td>465.4</td>\n",
       "      <td>460.9</td>\n",
       "      <td>454.8</td>\n",
       "      <td>276.1</td>\n",
       "      <td>198.6</td>\n",
       "      <td>100.0</td>\n",
       "      <td>2913.3</td>\n",
       "      <td>48.6</td>\n",
       "      <td>405.6</td>\n",
       "      <td>1884.4</td>\n",
       "      <td>574.7</td>\n",
       "    </tr>\n",
       "    <tr>\n",
       "      <th>3</th>\n",
       "      <td>ARUNACHAL PRADESH</td>\n",
       "      <td>LOHIT</td>\n",
       "      <td>42.2</td>\n",
       "      <td>80.8</td>\n",
       "      <td>176.4</td>\n",
       "      <td>358.5</td>\n",
       "      <td>306.4</td>\n",
       "      <td>447.0</td>\n",
       "      <td>660.1</td>\n",
       "      <td>427.8</td>\n",
       "      <td>313.6</td>\n",
       "      <td>167.1</td>\n",
       "      <td>34.1</td>\n",
       "      <td>29.8</td>\n",
       "      <td>3043.8</td>\n",
       "      <td>123.0</td>\n",
       "      <td>841.3</td>\n",
       "      <td>1848.5</td>\n",
       "      <td>231.0</td>\n",
       "    </tr>\n",
       "    <tr>\n",
       "      <th>4</th>\n",
       "      <td>ARUNACHAL PRADESH</td>\n",
       "      <td>EAST SIANG</td>\n",
       "      <td>33.3</td>\n",
       "      <td>79.5</td>\n",
       "      <td>105.9</td>\n",
       "      <td>216.5</td>\n",
       "      <td>323.0</td>\n",
       "      <td>738.3</td>\n",
       "      <td>990.9</td>\n",
       "      <td>711.2</td>\n",
       "      <td>568.0</td>\n",
       "      <td>206.9</td>\n",
       "      <td>29.5</td>\n",
       "      <td>31.7</td>\n",
       "      <td>4034.7</td>\n",
       "      <td>112.8</td>\n",
       "      <td>645.4</td>\n",
       "      <td>3008.4</td>\n",
       "      <td>268.1</td>\n",
       "    </tr>\n",
       "  </tbody>\n",
       "</table>\n",
       "</div>"
      ],
      "text/plain": [
       "                 STATE_UT_NAME       DISTRICT    JAN   FEB    MAR    APR  \\\n",
       "0  ANDAMAN And NICOBAR ISLANDS        NICOBAR  107.3  57.9   65.2  117.0   \n",
       "1  ANDAMAN And NICOBAR ISLANDS  SOUTH ANDAMAN   43.7  26.0   18.6   90.5   \n",
       "2  ANDAMAN And NICOBAR ISLANDS  N & M ANDAMAN   32.7  15.9    8.6   53.4   \n",
       "3            ARUNACHAL PRADESH          LOHIT   42.2  80.8  176.4  358.5   \n",
       "4            ARUNACHAL PRADESH     EAST SIANG   33.3  79.5  105.9  216.5   \n",
       "\n",
       "     MAY    JUN    JUL    AUG    SEP    OCT    NOV    DEC  ANNUAL  Jan-Feb  \\\n",
       "0  358.5  295.5  285.0  271.9  354.8  326.0  315.2  250.9  2805.2    165.2   \n",
       "1  374.4  457.2  421.3  423.1  455.6  301.2  275.8  128.3  3015.7     69.7   \n",
       "2  343.6  503.3  465.4  460.9  454.8  276.1  198.6  100.0  2913.3     48.6   \n",
       "3  306.4  447.0  660.1  427.8  313.6  167.1   34.1   29.8  3043.8    123.0   \n",
       "4  323.0  738.3  990.9  711.2  568.0  206.9   29.5   31.7  4034.7    112.8   \n",
       "\n",
       "   Mar-May  Jun-Sep  Oct-Dec  \n",
       "0    540.7   1207.2    892.1  \n",
       "1    483.5   1757.2    705.3  \n",
       "2    405.6   1884.4    574.7  \n",
       "3    841.3   1848.5    231.0  \n",
       "4    645.4   3008.4    268.1  "
      ]
     },
     "execution_count": 3,
     "metadata": {},
     "output_type": "execute_result"
    }
   ],
   "source": [
    "district_rainfall_data.head()"
   ]
  },
  {
   "cell_type": "code",
   "execution_count": 4,
   "id": "750e0e6a",
   "metadata": {
    "execution": {
     "iopub.execute_input": "2023-02-10T22:43:03.663341Z",
     "iopub.status.busy": "2023-02-10T22:43:03.662757Z",
     "iopub.status.idle": "2023-02-10T22:43:03.683833Z",
     "shell.execute_reply": "2023-02-10T22:43:03.682976Z"
    },
    "papermill": {
     "duration": 0.038011,
     "end_time": "2023-02-10T22:43:03.685607",
     "exception": false,
     "start_time": "2023-02-10T22:43:03.647596",
     "status": "completed"
    },
    "tags": []
   },
   "outputs": [
    {
     "data": {
      "text/html": [
       "<div>\n",
       "<style scoped>\n",
       "    .dataframe tbody tr th:only-of-type {\n",
       "        vertical-align: middle;\n",
       "    }\n",
       "\n",
       "    .dataframe tbody tr th {\n",
       "        vertical-align: top;\n",
       "    }\n",
       "\n",
       "    .dataframe thead th {\n",
       "        text-align: right;\n",
       "    }\n",
       "</style>\n",
       "<table border=\"1\" class=\"dataframe\">\n",
       "  <thead>\n",
       "    <tr style=\"text-align: right;\">\n",
       "      <th></th>\n",
       "      <th>SUBDIVISION</th>\n",
       "      <th>YEAR</th>\n",
       "      <th>JAN</th>\n",
       "      <th>FEB</th>\n",
       "      <th>MAR</th>\n",
       "      <th>APR</th>\n",
       "      <th>MAY</th>\n",
       "      <th>JUN</th>\n",
       "      <th>JUL</th>\n",
       "      <th>AUG</th>\n",
       "      <th>SEP</th>\n",
       "      <th>OCT</th>\n",
       "      <th>NOV</th>\n",
       "      <th>DEC</th>\n",
       "      <th>ANNUAL</th>\n",
       "      <th>Jan-Feb</th>\n",
       "      <th>Mar-May</th>\n",
       "      <th>Jun-Sep</th>\n",
       "      <th>Oct-Dec</th>\n",
       "    </tr>\n",
       "  </thead>\n",
       "  <tbody>\n",
       "    <tr>\n",
       "      <th>0</th>\n",
       "      <td>ANDAMAN &amp; NICOBAR ISLANDS</td>\n",
       "      <td>1901</td>\n",
       "      <td>49.2</td>\n",
       "      <td>87.1</td>\n",
       "      <td>29.2</td>\n",
       "      <td>2.3</td>\n",
       "      <td>528.8</td>\n",
       "      <td>517.5</td>\n",
       "      <td>365.1</td>\n",
       "      <td>481.1</td>\n",
       "      <td>332.6</td>\n",
       "      <td>388.5</td>\n",
       "      <td>558.2</td>\n",
       "      <td>33.6</td>\n",
       "      <td>3373.2</td>\n",
       "      <td>136.3</td>\n",
       "      <td>560.3</td>\n",
       "      <td>1696.3</td>\n",
       "      <td>980.3</td>\n",
       "    </tr>\n",
       "    <tr>\n",
       "      <th>1</th>\n",
       "      <td>ANDAMAN &amp; NICOBAR ISLANDS</td>\n",
       "      <td>1902</td>\n",
       "      <td>0.0</td>\n",
       "      <td>159.8</td>\n",
       "      <td>12.2</td>\n",
       "      <td>0.0</td>\n",
       "      <td>446.1</td>\n",
       "      <td>537.1</td>\n",
       "      <td>228.9</td>\n",
       "      <td>753.7</td>\n",
       "      <td>666.2</td>\n",
       "      <td>197.2</td>\n",
       "      <td>359.0</td>\n",
       "      <td>160.5</td>\n",
       "      <td>3520.7</td>\n",
       "      <td>159.8</td>\n",
       "      <td>458.3</td>\n",
       "      <td>2185.9</td>\n",
       "      <td>716.7</td>\n",
       "    </tr>\n",
       "    <tr>\n",
       "      <th>2</th>\n",
       "      <td>ANDAMAN &amp; NICOBAR ISLANDS</td>\n",
       "      <td>1903</td>\n",
       "      <td>12.7</td>\n",
       "      <td>144.0</td>\n",
       "      <td>0.0</td>\n",
       "      <td>1.0</td>\n",
       "      <td>235.1</td>\n",
       "      <td>479.9</td>\n",
       "      <td>728.4</td>\n",
       "      <td>326.7</td>\n",
       "      <td>339.0</td>\n",
       "      <td>181.2</td>\n",
       "      <td>284.4</td>\n",
       "      <td>225.0</td>\n",
       "      <td>2957.4</td>\n",
       "      <td>156.7</td>\n",
       "      <td>236.1</td>\n",
       "      <td>1874.0</td>\n",
       "      <td>690.6</td>\n",
       "    </tr>\n",
       "    <tr>\n",
       "      <th>3</th>\n",
       "      <td>ANDAMAN &amp; NICOBAR ISLANDS</td>\n",
       "      <td>1904</td>\n",
       "      <td>9.4</td>\n",
       "      <td>14.7</td>\n",
       "      <td>0.0</td>\n",
       "      <td>202.4</td>\n",
       "      <td>304.5</td>\n",
       "      <td>495.1</td>\n",
       "      <td>502.0</td>\n",
       "      <td>160.1</td>\n",
       "      <td>820.4</td>\n",
       "      <td>222.2</td>\n",
       "      <td>308.7</td>\n",
       "      <td>40.1</td>\n",
       "      <td>3079.6</td>\n",
       "      <td>24.1</td>\n",
       "      <td>506.9</td>\n",
       "      <td>1977.6</td>\n",
       "      <td>571.0</td>\n",
       "    </tr>\n",
       "    <tr>\n",
       "      <th>4</th>\n",
       "      <td>ANDAMAN &amp; NICOBAR ISLANDS</td>\n",
       "      <td>1905</td>\n",
       "      <td>1.3</td>\n",
       "      <td>0.0</td>\n",
       "      <td>3.3</td>\n",
       "      <td>26.9</td>\n",
       "      <td>279.5</td>\n",
       "      <td>628.7</td>\n",
       "      <td>368.7</td>\n",
       "      <td>330.5</td>\n",
       "      <td>297.0</td>\n",
       "      <td>260.7</td>\n",
       "      <td>25.4</td>\n",
       "      <td>344.7</td>\n",
       "      <td>2566.7</td>\n",
       "      <td>1.3</td>\n",
       "      <td>309.7</td>\n",
       "      <td>1624.9</td>\n",
       "      <td>630.8</td>\n",
       "    </tr>\n",
       "  </tbody>\n",
       "</table>\n",
       "</div>"
      ],
      "text/plain": [
       "                 SUBDIVISION  YEAR   JAN    FEB   MAR    APR    MAY    JUN  \\\n",
       "0  ANDAMAN & NICOBAR ISLANDS  1901  49.2   87.1  29.2    2.3  528.8  517.5   \n",
       "1  ANDAMAN & NICOBAR ISLANDS  1902   0.0  159.8  12.2    0.0  446.1  537.1   \n",
       "2  ANDAMAN & NICOBAR ISLANDS  1903  12.7  144.0   0.0    1.0  235.1  479.9   \n",
       "3  ANDAMAN & NICOBAR ISLANDS  1904   9.4   14.7   0.0  202.4  304.5  495.1   \n",
       "4  ANDAMAN & NICOBAR ISLANDS  1905   1.3    0.0   3.3   26.9  279.5  628.7   \n",
       "\n",
       "     JUL    AUG    SEP    OCT    NOV    DEC  ANNUAL  Jan-Feb  Mar-May  \\\n",
       "0  365.1  481.1  332.6  388.5  558.2   33.6  3373.2    136.3    560.3   \n",
       "1  228.9  753.7  666.2  197.2  359.0  160.5  3520.7    159.8    458.3   \n",
       "2  728.4  326.7  339.0  181.2  284.4  225.0  2957.4    156.7    236.1   \n",
       "3  502.0  160.1  820.4  222.2  308.7   40.1  3079.6     24.1    506.9   \n",
       "4  368.7  330.5  297.0  260.7   25.4  344.7  2566.7      1.3    309.7   \n",
       "\n",
       "   Jun-Sep  Oct-Dec  \n",
       "0   1696.3    980.3  \n",
       "1   2185.9    716.7  \n",
       "2   1874.0    690.6  \n",
       "3   1977.6    571.0  \n",
       "4   1624.9    630.8  "
      ]
     },
     "execution_count": 4,
     "metadata": {},
     "output_type": "execute_result"
    }
   ],
   "source": [
    "india_rainfall_data.head()"
   ]
  },
  {
   "cell_type": "markdown",
   "id": "72370454",
   "metadata": {
    "papermill": {
     "duration": 0.013771,
     "end_time": "2023-02-10T22:43:03.713633",
     "exception": false,
     "start_time": "2023-02-10T22:43:03.699862",
     "status": "completed"
    },
    "tags": []
   },
   "source": [
    "printing all the unique values in the rainfall dataset"
   ]
  },
  {
   "cell_type": "code",
   "execution_count": 5,
   "id": "a656c8ad",
   "metadata": {
    "execution": {
     "iopub.execute_input": "2023-02-10T22:43:03.743448Z",
     "iopub.status.busy": "2023-02-10T22:43:03.742875Z",
     "iopub.status.idle": "2023-02-10T22:43:03.752651Z",
     "shell.execute_reply": "2023-02-10T22:43:03.751825Z"
    },
    "papermill": {
     "duration": 0.027349,
     "end_time": "2023-02-10T22:43:03.754849",
     "exception": false,
     "start_time": "2023-02-10T22:43:03.727500",
     "status": "completed"
    },
    "tags": []
   },
   "outputs": [
    {
     "name": "stdout",
     "output_type": "stream",
     "text": [
      "['ANDAMAN & NICOBAR ISLANDS' 'ARUNACHAL PRADESH' 'ASSAM & MEGHALAYA'\n",
      " 'NAGA MANI MIZO TRIPURA' 'SUB HIMALAYAN WEST BENGAL & SIKKIM'\n",
      " 'GANGETIC WEST BENGAL' 'ORISSA' 'JHARKHAND' 'BIHAR' 'EAST UTTAR PRADESH'\n",
      " 'WEST UTTAR PRADESH' 'UTTARAKHAND' 'HARYANA DELHI & CHANDIGARH' 'PUNJAB'\n",
      " 'HIMACHAL PRADESH' 'JAMMU & KASHMIR' 'WEST RAJASTHAN' 'EAST RAJASTHAN'\n",
      " 'WEST MADHYA PRADESH' 'EAST MADHYA PRADESH' 'GUJARAT REGION'\n",
      " 'SAURASHTRA & KUTCH' 'KONKAN & GOA' 'MADHYA MAHARASHTRA' 'MATATHWADA'\n",
      " 'VIDARBHA' 'CHHATTISGARH' 'COASTAL ANDHRA PRADESH' 'TELANGANA'\n",
      " 'RAYALSEEMA' 'TAMIL NADU' 'COASTAL KARNATAKA' 'NORTH INTERIOR KARNATAKA'\n",
      " 'SOUTH INTERIOR KARNATAKA' 'KERALA' 'LAKSHADWEEP']\n"
     ]
    }
   ],
   "source": [
    "unique_values=india_rainfall_data['SUBDIVISION'].unique()\n",
    "print(unique_values)"
   ]
  },
  {
   "cell_type": "markdown",
   "id": "4e19a9e9",
   "metadata": {
    "papermill": {
     "duration": 0.013893,
     "end_time": "2023-02-10T22:43:03.782797",
     "exception": false,
     "start_time": "2023-02-10T22:43:03.768904",
     "status": "completed"
    },
    "tags": []
   },
   "source": [
    "checking for null values"
   ]
  },
  {
   "cell_type": "code",
   "execution_count": 6,
   "id": "e78a191c",
   "metadata": {
    "execution": {
     "iopub.execute_input": "2023-02-10T22:43:03.812194Z",
     "iopub.status.busy": "2023-02-10T22:43:03.811622Z",
     "iopub.status.idle": "2023-02-10T22:43:03.816931Z",
     "shell.execute_reply": "2023-02-10T22:43:03.816284Z"
    },
    "papermill": {
     "duration": 0.021979,
     "end_time": "2023-02-10T22:43:03.818542",
     "exception": false,
     "start_time": "2023-02-10T22:43:03.796563",
     "status": "completed"
    },
    "tags": []
   },
   "outputs": [
    {
     "data": {
      "text/plain": [
       "(4116, 19)"
      ]
     },
     "execution_count": 6,
     "metadata": {},
     "output_type": "execute_result"
    }
   ],
   "source": [
    "india_rainfall_data.shape"
   ]
  },
  {
   "cell_type": "markdown",
   "id": "1c77e85c",
   "metadata": {
    "papermill": {
     "duration": 0.013691,
     "end_time": "2023-02-10T22:43:03.846089",
     "exception": false,
     "start_time": "2023-02-10T22:43:03.832398",
     "status": "completed"
    },
    "tags": []
   },
   "source": [
    "checking total null values"
   ]
  },
  {
   "cell_type": "code",
   "execution_count": 7,
   "id": "f37efa10",
   "metadata": {
    "execution": {
     "iopub.execute_input": "2023-02-10T22:43:03.876961Z",
     "iopub.status.busy": "2023-02-10T22:43:03.876321Z",
     "iopub.status.idle": "2023-02-10T22:43:03.884575Z",
     "shell.execute_reply": "2023-02-10T22:43:03.883505Z"
    },
    "papermill": {
     "duration": 0.026379,
     "end_time": "2023-02-10T22:43:03.886370",
     "exception": false,
     "start_time": "2023-02-10T22:43:03.859991",
     "status": "completed"
    },
    "tags": []
   },
   "outputs": [
    {
     "data": {
      "text/plain": [
       "134"
      ]
     },
     "execution_count": 7,
     "metadata": {},
     "output_type": "execute_result"
    }
   ],
   "source": [
    "india_rainfall_data.isnull().sum().sum()"
   ]
  },
  {
   "cell_type": "markdown",
   "id": "96c9f2b8",
   "metadata": {
    "papermill": {
     "duration": 0.014548,
     "end_time": "2023-02-10T22:43:03.915450",
     "exception": false,
     "start_time": "2023-02-10T22:43:03.900902",
     "status": "completed"
    },
    "tags": []
   },
   "source": [
    "checking the columns that have said null values"
   ]
  },
  {
   "cell_type": "code",
   "execution_count": 8,
   "id": "a8e71b44",
   "metadata": {
    "execution": {
     "iopub.execute_input": "2023-02-10T22:43:03.946182Z",
     "iopub.status.busy": "2023-02-10T22:43:03.945607Z",
     "iopub.status.idle": "2023-02-10T22:43:03.955949Z",
     "shell.execute_reply": "2023-02-10T22:43:03.955123Z"
    },
    "papermill": {
     "duration": 0.027706,
     "end_time": "2023-02-10T22:43:03.957823",
     "exception": false,
     "start_time": "2023-02-10T22:43:03.930117",
     "status": "completed"
    },
    "tags": []
   },
   "outputs": [
    {
     "data": {
      "text/plain": [
       "SUBDIVISION     0\n",
       "YEAR            0\n",
       "JAN             4\n",
       "FEB             3\n",
       "MAR             6\n",
       "APR             4\n",
       "MAY             3\n",
       "JUN             5\n",
       "JUL             7\n",
       "AUG             4\n",
       "SEP             6\n",
       "OCT             7\n",
       "NOV            11\n",
       "DEC            10\n",
       "ANNUAL         26\n",
       "Jan-Feb         6\n",
       "Mar-May         9\n",
       "Jun-Sep        10\n",
       "Oct-Dec        13\n",
       "dtype: int64"
      ]
     },
     "execution_count": 8,
     "metadata": {},
     "output_type": "execute_result"
    }
   ],
   "source": [
    "missing_values_count=india_rainfall_data.isnull().sum()\n",
    "missing_values_count"
   ]
  },
  {
   "cell_type": "markdown",
   "id": "84d3f0d5",
   "metadata": {
    "papermill": {
     "duration": 0.014017,
     "end_time": "2023-02-10T22:43:03.986629",
     "exception": false,
     "start_time": "2023-02-10T22:43:03.972612",
     "status": "completed"
    },
    "tags": []
   },
   "source": [
    "check percentage of null values"
   ]
  },
  {
   "cell_type": "code",
   "execution_count": 9,
   "id": "d732e04a",
   "metadata": {
    "execution": {
     "iopub.execute_input": "2023-02-10T22:43:04.016671Z",
     "iopub.status.busy": "2023-02-10T22:43:04.016302Z",
     "iopub.status.idle": "2023-02-10T22:43:04.021902Z",
     "shell.execute_reply": "2023-02-10T22:43:04.020890Z"
    },
    "papermill": {
     "duration": 0.023042,
     "end_time": "2023-02-10T22:43:04.023913",
     "exception": false,
     "start_time": "2023-02-10T22:43:04.000871",
     "status": "completed"
    },
    "tags": []
   },
   "outputs": [
    {
     "name": "stdout",
     "output_type": "stream",
     "text": [
      "0.17134673418239477\n"
     ]
    }
   ],
   "source": [
    "total_cells = np.product(india_rainfall_data.shape)\n",
    "total_missing = missing_values_count.sum()\n",
    "\n",
    "# percent of data that is missing\n",
    "percent_missing = (total_missing/total_cells) * 100\n",
    "print(percent_missing)"
   ]
  },
  {
   "cell_type": "markdown",
   "id": "cf3de2ed",
   "metadata": {
    "papermill": {
     "duration": 0.013824,
     "end_time": "2023-02-10T22:43:04.051946",
     "exception": false,
     "start_time": "2023-02-10T22:43:04.038122",
     "status": "completed"
    },
    "tags": []
   },
   "source": [
    "removing all the na values"
   ]
  },
  {
   "cell_type": "code",
   "execution_count": 10,
   "id": "6478da38",
   "metadata": {
    "execution": {
     "iopub.execute_input": "2023-02-10T22:43:04.081941Z",
     "iopub.status.busy": "2023-02-10T22:43:04.081354Z",
     "iopub.status.idle": "2023-02-10T22:43:04.095208Z",
     "shell.execute_reply": "2023-02-10T22:43:04.094226Z"
    },
    "papermill": {
     "duration": 0.031038,
     "end_time": "2023-02-10T22:43:04.097060",
     "exception": false,
     "start_time": "2023-02-10T22:43:04.066022",
     "status": "completed"
    },
    "tags": []
   },
   "outputs": [
    {
     "data": {
      "text/plain": [
       "0"
      ]
     },
     "execution_count": 10,
     "metadata": {},
     "output_type": "execute_result"
    }
   ],
   "source": [
    "rainfall_india_clean=india_rainfall_data.dropna()\n",
    "rainfall_india_clean.isnull().sum().sum()"
   ]
  },
  {
   "cell_type": "markdown",
   "id": "42303ea2",
   "metadata": {
    "papermill": {
     "duration": 0.014605,
     "end_time": "2023-02-10T22:43:04.126812",
     "exception": false,
     "start_time": "2023-02-10T22:43:04.112207",
     "status": "completed"
    },
    "tags": []
   },
   "source": [
    "checking Nan values"
   ]
  },
  {
   "cell_type": "code",
   "execution_count": 11,
   "id": "fb943565",
   "metadata": {
    "execution": {
     "iopub.execute_input": "2023-02-10T22:43:04.157598Z",
     "iopub.status.busy": "2023-02-10T22:43:04.157069Z",
     "iopub.status.idle": "2023-02-10T22:43:04.165667Z",
     "shell.execute_reply": "2023-02-10T22:43:04.164890Z"
    },
    "papermill": {
     "duration": 0.025893,
     "end_time": "2023-02-10T22:43:04.167342",
     "exception": false,
     "start_time": "2023-02-10T22:43:04.141449",
     "status": "completed"
    },
    "tags": []
   },
   "outputs": [
    {
     "data": {
      "text/plain": [
       "0"
      ]
     },
     "execution_count": 11,
     "metadata": {},
     "output_type": "execute_result"
    }
   ],
   "source": [
    "rainfall_india_clean.isna().sum().sum()"
   ]
  },
  {
   "cell_type": "markdown",
   "id": "da893076",
   "metadata": {
    "papermill": {
     "duration": 0.014439,
     "end_time": "2023-02-10T22:43:04.196260",
     "exception": false,
     "start_time": "2023-02-10T22:43:04.181821",
     "status": "completed"
    },
    "tags": []
   },
   "source": [
    "viewing the final rainfall clean dataset"
   ]
  },
  {
   "cell_type": "code",
   "execution_count": 12,
   "id": "5b1a4b28",
   "metadata": {
    "execution": {
     "iopub.execute_input": "2023-02-10T22:43:04.228049Z",
     "iopub.status.busy": "2023-02-10T22:43:04.226997Z",
     "iopub.status.idle": "2023-02-10T22:43:04.251270Z",
     "shell.execute_reply": "2023-02-10T22:43:04.250212Z"
    },
    "papermill": {
     "duration": 0.04193,
     "end_time": "2023-02-10T22:43:04.252982",
     "exception": false,
     "start_time": "2023-02-10T22:43:04.211052",
     "status": "completed"
    },
    "tags": []
   },
   "outputs": [
    {
     "data": {
      "text/html": [
       "<div>\n",
       "<style scoped>\n",
       "    .dataframe tbody tr th:only-of-type {\n",
       "        vertical-align: middle;\n",
       "    }\n",
       "\n",
       "    .dataframe tbody tr th {\n",
       "        vertical-align: top;\n",
       "    }\n",
       "\n",
       "    .dataframe thead th {\n",
       "        text-align: right;\n",
       "    }\n",
       "</style>\n",
       "<table border=\"1\" class=\"dataframe\">\n",
       "  <thead>\n",
       "    <tr style=\"text-align: right;\">\n",
       "      <th></th>\n",
       "      <th>SUBDIVISION</th>\n",
       "      <th>YEAR</th>\n",
       "      <th>JAN</th>\n",
       "      <th>FEB</th>\n",
       "      <th>MAR</th>\n",
       "      <th>APR</th>\n",
       "      <th>MAY</th>\n",
       "      <th>JUN</th>\n",
       "      <th>JUL</th>\n",
       "      <th>AUG</th>\n",
       "      <th>SEP</th>\n",
       "      <th>OCT</th>\n",
       "      <th>NOV</th>\n",
       "      <th>DEC</th>\n",
       "      <th>ANNUAL</th>\n",
       "      <th>Jan-Feb</th>\n",
       "      <th>Mar-May</th>\n",
       "      <th>Jun-Sep</th>\n",
       "      <th>Oct-Dec</th>\n",
       "    </tr>\n",
       "  </thead>\n",
       "  <tbody>\n",
       "    <tr>\n",
       "      <th>0</th>\n",
       "      <td>ANDAMAN &amp; NICOBAR ISLANDS</td>\n",
       "      <td>1901</td>\n",
       "      <td>49.2</td>\n",
       "      <td>87.1</td>\n",
       "      <td>29.2</td>\n",
       "      <td>2.3</td>\n",
       "      <td>528.8</td>\n",
       "      <td>517.5</td>\n",
       "      <td>365.1</td>\n",
       "      <td>481.1</td>\n",
       "      <td>332.6</td>\n",
       "      <td>388.5</td>\n",
       "      <td>558.2</td>\n",
       "      <td>33.6</td>\n",
       "      <td>3373.2</td>\n",
       "      <td>136.3</td>\n",
       "      <td>560.3</td>\n",
       "      <td>1696.3</td>\n",
       "      <td>980.3</td>\n",
       "    </tr>\n",
       "    <tr>\n",
       "      <th>1</th>\n",
       "      <td>ANDAMAN &amp; NICOBAR ISLANDS</td>\n",
       "      <td>1902</td>\n",
       "      <td>0.0</td>\n",
       "      <td>159.8</td>\n",
       "      <td>12.2</td>\n",
       "      <td>0.0</td>\n",
       "      <td>446.1</td>\n",
       "      <td>537.1</td>\n",
       "      <td>228.9</td>\n",
       "      <td>753.7</td>\n",
       "      <td>666.2</td>\n",
       "      <td>197.2</td>\n",
       "      <td>359.0</td>\n",
       "      <td>160.5</td>\n",
       "      <td>3520.7</td>\n",
       "      <td>159.8</td>\n",
       "      <td>458.3</td>\n",
       "      <td>2185.9</td>\n",
       "      <td>716.7</td>\n",
       "    </tr>\n",
       "    <tr>\n",
       "      <th>2</th>\n",
       "      <td>ANDAMAN &amp; NICOBAR ISLANDS</td>\n",
       "      <td>1903</td>\n",
       "      <td>12.7</td>\n",
       "      <td>144.0</td>\n",
       "      <td>0.0</td>\n",
       "      <td>1.0</td>\n",
       "      <td>235.1</td>\n",
       "      <td>479.9</td>\n",
       "      <td>728.4</td>\n",
       "      <td>326.7</td>\n",
       "      <td>339.0</td>\n",
       "      <td>181.2</td>\n",
       "      <td>284.4</td>\n",
       "      <td>225.0</td>\n",
       "      <td>2957.4</td>\n",
       "      <td>156.7</td>\n",
       "      <td>236.1</td>\n",
       "      <td>1874.0</td>\n",
       "      <td>690.6</td>\n",
       "    </tr>\n",
       "    <tr>\n",
       "      <th>3</th>\n",
       "      <td>ANDAMAN &amp; NICOBAR ISLANDS</td>\n",
       "      <td>1904</td>\n",
       "      <td>9.4</td>\n",
       "      <td>14.7</td>\n",
       "      <td>0.0</td>\n",
       "      <td>202.4</td>\n",
       "      <td>304.5</td>\n",
       "      <td>495.1</td>\n",
       "      <td>502.0</td>\n",
       "      <td>160.1</td>\n",
       "      <td>820.4</td>\n",
       "      <td>222.2</td>\n",
       "      <td>308.7</td>\n",
       "      <td>40.1</td>\n",
       "      <td>3079.6</td>\n",
       "      <td>24.1</td>\n",
       "      <td>506.9</td>\n",
       "      <td>1977.6</td>\n",
       "      <td>571.0</td>\n",
       "    </tr>\n",
       "    <tr>\n",
       "      <th>4</th>\n",
       "      <td>ANDAMAN &amp; NICOBAR ISLANDS</td>\n",
       "      <td>1905</td>\n",
       "      <td>1.3</td>\n",
       "      <td>0.0</td>\n",
       "      <td>3.3</td>\n",
       "      <td>26.9</td>\n",
       "      <td>279.5</td>\n",
       "      <td>628.7</td>\n",
       "      <td>368.7</td>\n",
       "      <td>330.5</td>\n",
       "      <td>297.0</td>\n",
       "      <td>260.7</td>\n",
       "      <td>25.4</td>\n",
       "      <td>344.7</td>\n",
       "      <td>2566.7</td>\n",
       "      <td>1.3</td>\n",
       "      <td>309.7</td>\n",
       "      <td>1624.9</td>\n",
       "      <td>630.8</td>\n",
       "    </tr>\n",
       "  </tbody>\n",
       "</table>\n",
       "</div>"
      ],
      "text/plain": [
       "                 SUBDIVISION  YEAR   JAN    FEB   MAR    APR    MAY    JUN  \\\n",
       "0  ANDAMAN & NICOBAR ISLANDS  1901  49.2   87.1  29.2    2.3  528.8  517.5   \n",
       "1  ANDAMAN & NICOBAR ISLANDS  1902   0.0  159.8  12.2    0.0  446.1  537.1   \n",
       "2  ANDAMAN & NICOBAR ISLANDS  1903  12.7  144.0   0.0    1.0  235.1  479.9   \n",
       "3  ANDAMAN & NICOBAR ISLANDS  1904   9.4   14.7   0.0  202.4  304.5  495.1   \n",
       "4  ANDAMAN & NICOBAR ISLANDS  1905   1.3    0.0   3.3   26.9  279.5  628.7   \n",
       "\n",
       "     JUL    AUG    SEP    OCT    NOV    DEC  ANNUAL  Jan-Feb  Mar-May  \\\n",
       "0  365.1  481.1  332.6  388.5  558.2   33.6  3373.2    136.3    560.3   \n",
       "1  228.9  753.7  666.2  197.2  359.0  160.5  3520.7    159.8    458.3   \n",
       "2  728.4  326.7  339.0  181.2  284.4  225.0  2957.4    156.7    236.1   \n",
       "3  502.0  160.1  820.4  222.2  308.7   40.1  3079.6     24.1    506.9   \n",
       "4  368.7  330.5  297.0  260.7   25.4  344.7  2566.7      1.3    309.7   \n",
       "\n",
       "   Jun-Sep  Oct-Dec  \n",
       "0   1696.3    980.3  \n",
       "1   2185.9    716.7  \n",
       "2   1874.0    690.6  \n",
       "3   1977.6    571.0  \n",
       "4   1624.9    630.8  "
      ]
     },
     "execution_count": 12,
     "metadata": {},
     "output_type": "execute_result"
    }
   ],
   "source": [
    "rainfall_india_clean.head()"
   ]
  },
  {
   "cell_type": "markdown",
   "id": "0e48f335",
   "metadata": {
    "papermill": {
     "duration": 0.014431,
     "end_time": "2023-02-10T22:43:04.282606",
     "exception": false,
     "start_time": "2023-02-10T22:43:04.268175",
     "status": "completed"
    },
    "tags": []
   },
   "source": [
    "checking for null values in the district rainfall dataset"
   ]
  },
  {
   "cell_type": "code",
   "execution_count": 13,
   "id": "ba28180b",
   "metadata": {
    "execution": {
     "iopub.execute_input": "2023-02-10T22:43:04.314193Z",
     "iopub.status.busy": "2023-02-10T22:43:04.313065Z",
     "iopub.status.idle": "2023-02-10T22:43:04.320811Z",
     "shell.execute_reply": "2023-02-10T22:43:04.319905Z"
    },
    "papermill": {
     "duration": 0.025223,
     "end_time": "2023-02-10T22:43:04.322607",
     "exception": false,
     "start_time": "2023-02-10T22:43:04.297384",
     "status": "completed"
    },
    "tags": []
   },
   "outputs": [
    {
     "data": {
      "text/plain": [
       "0"
      ]
     },
     "execution_count": 13,
     "metadata": {},
     "output_type": "execute_result"
    }
   ],
   "source": [
    "district_rainfall_data.isnull().sum().sum()"
   ]
  },
  {
   "cell_type": "markdown",
   "id": "04a1db3b",
   "metadata": {
    "papermill": {
     "duration": 0.01482,
     "end_time": "2023-02-10T22:43:04.352165",
     "exception": false,
     "start_time": "2023-02-10T22:43:04.337345",
     "status": "completed"
    },
    "tags": []
   },
   "source": [
    "checking NaN values in"
   ]
  },
  {
   "cell_type": "code",
   "execution_count": 14,
   "id": "3e23725a",
   "metadata": {
    "execution": {
     "iopub.execute_input": "2023-02-10T22:43:04.384628Z",
     "iopub.status.busy": "2023-02-10T22:43:04.384287Z",
     "iopub.status.idle": "2023-02-10T22:43:04.392215Z",
     "shell.execute_reply": "2023-02-10T22:43:04.391231Z"
    },
    "papermill": {
     "duration": 0.026656,
     "end_time": "2023-02-10T22:43:04.393910",
     "exception": false,
     "start_time": "2023-02-10T22:43:04.367254",
     "status": "completed"
    },
    "tags": []
   },
   "outputs": [
    {
     "data": {
      "text/plain": [
       "0"
      ]
     },
     "execution_count": 14,
     "metadata": {},
     "output_type": "execute_result"
    }
   ],
   "source": [
    "district_rainfall_data.isna().sum().sum()"
   ]
  },
  {
   "cell_type": "markdown",
   "id": "ec5e0c07",
   "metadata": {
    "papermill": {
     "duration": 0.014657,
     "end_time": "2023-02-10T22:43:04.423815",
     "exception": false,
     "start_time": "2023-02-10T22:43:04.409158",
     "status": "completed"
    },
    "tags": []
   },
   "source": [
    "importing the crop recommendation data"
   ]
  },
  {
   "cell_type": "code",
   "execution_count": 15,
   "id": "da10ca74",
   "metadata": {
    "execution": {
     "iopub.execute_input": "2023-02-10T22:43:04.455212Z",
     "iopub.status.busy": "2023-02-10T22:43:04.454675Z",
     "iopub.status.idle": "2023-02-10T22:43:04.474629Z",
     "shell.execute_reply": "2023-02-10T22:43:04.473642Z"
    },
    "papermill": {
     "duration": 0.037599,
     "end_time": "2023-02-10T22:43:04.476254",
     "exception": false,
     "start_time": "2023-02-10T22:43:04.438655",
     "status": "completed"
    },
    "tags": []
   },
   "outputs": [
    {
     "data": {
      "text/plain": [
       "0"
      ]
     },
     "execution_count": 15,
     "metadata": {},
     "output_type": "execute_result"
    }
   ],
   "source": [
    "recommendation_data=pd.read_csv('/kaggle/input/crop-recommendation-dataset/Crop_recommendation.csv')\n",
    "recommendation_data.isnull().sum().sum()"
   ]
  },
  {
   "cell_type": "markdown",
   "id": "8521fbe2",
   "metadata": {
    "papermill": {
     "duration": 0.014837,
     "end_time": "2023-02-10T22:43:04.506301",
     "exception": false,
     "start_time": "2023-02-10T22:43:04.491464",
     "status": "completed"
    },
    "tags": []
   },
   "source": [
    "checking for null values"
   ]
  },
  {
   "cell_type": "code",
   "execution_count": 16,
   "id": "33a7ed1f",
   "metadata": {
    "execution": {
     "iopub.execute_input": "2023-02-10T22:43:04.537489Z",
     "iopub.status.busy": "2023-02-10T22:43:04.537161Z",
     "iopub.status.idle": "2023-02-10T22:43:04.544596Z",
     "shell.execute_reply": "2023-02-10T22:43:04.543806Z"
    },
    "papermill": {
     "duration": 0.02525,
     "end_time": "2023-02-10T22:43:04.546406",
     "exception": false,
     "start_time": "2023-02-10T22:43:04.521156",
     "status": "completed"
    },
    "tags": []
   },
   "outputs": [
    {
     "data": {
      "text/plain": [
       "0"
      ]
     },
     "execution_count": 16,
     "metadata": {},
     "output_type": "execute_result"
    }
   ],
   "source": [
    "recommendation_data.isna().sum().sum()"
   ]
  },
  {
   "cell_type": "code",
   "execution_count": 17,
   "id": "86d623a3",
   "metadata": {
    "execution": {
     "iopub.execute_input": "2023-02-10T22:43:04.578390Z",
     "iopub.status.busy": "2023-02-10T22:43:04.577879Z",
     "iopub.status.idle": "2023-02-10T22:43:04.636200Z",
     "shell.execute_reply": "2023-02-10T22:43:04.635322Z"
    },
    "papermill": {
     "duration": 0.076071,
     "end_time": "2023-02-10T22:43:04.637914",
     "exception": false,
     "start_time": "2023-02-10T22:43:04.561843",
     "status": "completed"
    },
    "tags": []
   },
   "outputs": [
    {
     "data": {
      "text/html": [
       "<div>\n",
       "<style scoped>\n",
       "    .dataframe tbody tr th:only-of-type {\n",
       "        vertical-align: middle;\n",
       "    }\n",
       "\n",
       "    .dataframe tbody tr th {\n",
       "        vertical-align: top;\n",
       "    }\n",
       "\n",
       "    .dataframe thead th {\n",
       "        text-align: right;\n",
       "    }\n",
       "</style>\n",
       "<table border=\"1\" class=\"dataframe\">\n",
       "  <thead>\n",
       "    <tr style=\"text-align: right;\">\n",
       "      <th></th>\n",
       "      <th>state</th>\n",
       "      <th>district</th>\n",
       "      <th>market</th>\n",
       "      <th>commodity</th>\n",
       "      <th>variety</th>\n",
       "      <th>arrival_date</th>\n",
       "      <th>min_price</th>\n",
       "      <th>max_price</th>\n",
       "      <th>modal_price</th>\n",
       "    </tr>\n",
       "  </thead>\n",
       "  <tbody>\n",
       "    <tr>\n",
       "      <th>0</th>\n",
       "      <td>Andaman and Nicobar</td>\n",
       "      <td>South Andaman</td>\n",
       "      <td>Port Blair</td>\n",
       "      <td>Amaranthus</td>\n",
       "      <td>Amaranthus</td>\n",
       "      <td>04/03/2019</td>\n",
       "      <td>6000</td>\n",
       "      <td>8000</td>\n",
       "      <td>7000</td>\n",
       "    </tr>\n",
       "    <tr>\n",
       "      <th>1</th>\n",
       "      <td>Andaman and Nicobar</td>\n",
       "      <td>South Andaman</td>\n",
       "      <td>Port Blair</td>\n",
       "      <td>Banana - Green</td>\n",
       "      <td>Banana - Green</td>\n",
       "      <td>04/03/2019</td>\n",
       "      <td>4500</td>\n",
       "      <td>5500</td>\n",
       "      <td>5000</td>\n",
       "    </tr>\n",
       "    <tr>\n",
       "      <th>2</th>\n",
       "      <td>Andaman and Nicobar</td>\n",
       "      <td>South Andaman</td>\n",
       "      <td>Port Blair</td>\n",
       "      <td>Bhindi(Ladies Finger)</td>\n",
       "      <td>Bhindi</td>\n",
       "      <td>04/03/2019</td>\n",
       "      <td>6000</td>\n",
       "      <td>8000</td>\n",
       "      <td>7000</td>\n",
       "    </tr>\n",
       "    <tr>\n",
       "      <th>3</th>\n",
       "      <td>Andaman and Nicobar</td>\n",
       "      <td>South Andaman</td>\n",
       "      <td>Port Blair</td>\n",
       "      <td>Bitter gourd</td>\n",
       "      <td>Other</td>\n",
       "      <td>04/03/2019</td>\n",
       "      <td>6000</td>\n",
       "      <td>8000</td>\n",
       "      <td>7000</td>\n",
       "    </tr>\n",
       "    <tr>\n",
       "      <th>4</th>\n",
       "      <td>Andaman and Nicobar</td>\n",
       "      <td>South Andaman</td>\n",
       "      <td>Port Blair</td>\n",
       "      <td>Black pepper</td>\n",
       "      <td>Other</td>\n",
       "      <td>04/03/2019</td>\n",
       "      <td>110000</td>\n",
       "      <td>130000</td>\n",
       "      <td>120000</td>\n",
       "    </tr>\n",
       "  </tbody>\n",
       "</table>\n",
       "</div>"
      ],
      "text/plain": [
       "                 state       district      market              commodity  \\\n",
       "0  Andaman and Nicobar  South Andaman  Port Blair             Amaranthus   \n",
       "1  Andaman and Nicobar  South Andaman  Port Blair         Banana - Green   \n",
       "2  Andaman and Nicobar  South Andaman  Port Blair  Bhindi(Ladies Finger)   \n",
       "3  Andaman and Nicobar  South Andaman  Port Blair           Bitter gourd   \n",
       "4  Andaman and Nicobar  South Andaman  Port Blair           Black pepper   \n",
       "\n",
       "          variety arrival_date  min_price  max_price  modal_price  \n",
       "0      Amaranthus   04/03/2019       6000       8000         7000  \n",
       "1  Banana - Green   04/03/2019       4500       5500         5000  \n",
       "2          Bhindi   04/03/2019       6000       8000         7000  \n",
       "3           Other   04/03/2019       6000       8000         7000  \n",
       "4           Other   04/03/2019     110000     130000       120000  "
      ]
     },
     "execution_count": 17,
     "metadata": {},
     "output_type": "execute_result"
    }
   ],
   "source": [
    "agriculture_related_data=pd.read_csv('/kaggle/input/all-agriculture-related-datasets-for-india/csv')\n",
    "agriculture_related_data.head()"
   ]
  },
  {
   "cell_type": "code",
   "execution_count": 18,
   "id": "f52b10fa",
   "metadata": {
    "execution": {
     "iopub.execute_input": "2023-02-10T22:43:04.671090Z",
     "iopub.status.busy": "2023-02-10T22:43:04.670507Z",
     "iopub.status.idle": "2023-02-10T22:43:04.675727Z",
     "shell.execute_reply": "2023-02-10T22:43:04.675102Z"
    },
    "papermill": {
     "duration": 0.023788,
     "end_time": "2023-02-10T22:43:04.677459",
     "exception": false,
     "start_time": "2023-02-10T22:43:04.653671",
     "status": "completed"
    },
    "tags": []
   },
   "outputs": [
    {
     "data": {
      "text/plain": [
       "(2238, 9)"
      ]
     },
     "execution_count": 18,
     "metadata": {},
     "output_type": "execute_result"
    }
   ],
   "source": [
    "agriculture_related_data.shape"
   ]
  },
  {
   "cell_type": "code",
   "execution_count": 19,
   "id": "6f3eb4a7",
   "metadata": {
    "execution": {
     "iopub.execute_input": "2023-02-10T22:43:04.711188Z",
     "iopub.status.busy": "2023-02-10T22:43:04.710605Z",
     "iopub.status.idle": "2023-02-10T22:43:04.716877Z",
     "shell.execute_reply": "2023-02-10T22:43:04.716035Z"
    },
    "papermill": {
     "duration": 0.02517,
     "end_time": "2023-02-10T22:43:04.718632",
     "exception": false,
     "start_time": "2023-02-10T22:43:04.693462",
     "status": "completed"
    },
    "tags": []
   },
   "outputs": [
    {
     "data": {
      "text/plain": [
       "Index(['state', 'district', 'market', 'commodity', 'variety', 'arrival_date',\n",
       "       'min_price', 'max_price', 'modal_price'],\n",
       "      dtype='object')"
      ]
     },
     "execution_count": 19,
     "metadata": {},
     "output_type": "execute_result"
    }
   ],
   "source": [
    "agriculture_related_data.columns"
   ]
  },
  {
   "cell_type": "code",
   "execution_count": 20,
   "id": "a2bacf15",
   "metadata": {
    "execution": {
     "iopub.execute_input": "2023-02-10T22:43:04.752020Z",
     "iopub.status.busy": "2023-02-10T22:43:04.751649Z",
     "iopub.status.idle": "2023-02-10T22:43:04.759841Z",
     "shell.execute_reply": "2023-02-10T22:43:04.758784Z"
    },
    "papermill": {
     "duration": 0.027682,
     "end_time": "2023-02-10T22:43:04.762166",
     "exception": false,
     "start_time": "2023-02-10T22:43:04.734484",
     "status": "completed"
    },
    "tags": []
   },
   "outputs": [
    {
     "data": {
      "text/plain": [
       "0"
      ]
     },
     "execution_count": 20,
     "metadata": {},
     "output_type": "execute_result"
    }
   ],
   "source": [
    "agriculture_related_data.isnull().sum().sum()"
   ]
  },
  {
   "cell_type": "code",
   "execution_count": 21,
   "id": "dab85d23",
   "metadata": {
    "execution": {
     "iopub.execute_input": "2023-02-10T22:43:04.795847Z",
     "iopub.status.busy": "2023-02-10T22:43:04.795328Z",
     "iopub.status.idle": "2023-02-10T22:43:04.801876Z",
     "shell.execute_reply": "2023-02-10T22:43:04.801282Z"
    },
    "papermill": {
     "duration": 0.025411,
     "end_time": "2023-02-10T22:43:04.803711",
     "exception": false,
     "start_time": "2023-02-10T22:43:04.778300",
     "status": "completed"
    },
    "tags": []
   },
   "outputs": [
    {
     "data": {
      "text/plain": [
       "0"
      ]
     },
     "execution_count": 21,
     "metadata": {},
     "output_type": "execute_result"
    }
   ],
   "source": [
    "agriculture_related_data.isna().sum().sum()"
   ]
  },
  {
   "cell_type": "code",
   "execution_count": 22,
   "id": "ecd071d1",
   "metadata": {
    "execution": {
     "iopub.execute_input": "2023-02-10T22:43:04.836427Z",
     "iopub.status.busy": "2023-02-10T22:43:04.836041Z",
     "iopub.status.idle": "2023-02-10T22:43:04.846233Z",
     "shell.execute_reply": "2023-02-10T22:43:04.845436Z"
    },
    "papermill": {
     "duration": 0.028544,
     "end_time": "2023-02-10T22:43:04.848013",
     "exception": false,
     "start_time": "2023-02-10T22:43:04.819469",
     "status": "completed"
    },
    "tags": []
   },
   "outputs": [
    {
     "data": {
      "text/html": [
       "<div>\n",
       "<style scoped>\n",
       "    .dataframe tbody tr th:only-of-type {\n",
       "        vertical-align: middle;\n",
       "    }\n",
       "\n",
       "    .dataframe tbody tr th {\n",
       "        vertical-align: top;\n",
       "    }\n",
       "\n",
       "    .dataframe thead th {\n",
       "        text-align: right;\n",
       "    }\n",
       "</style>\n",
       "<table border=\"1\" class=\"dataframe\">\n",
       "  <thead>\n",
       "    <tr style=\"text-align: right;\">\n",
       "      <th></th>\n",
       "      <th>state</th>\n",
       "      <th>district</th>\n",
       "      <th>market</th>\n",
       "      <th>commodity</th>\n",
       "      <th>variety</th>\n",
       "      <th>arrival_date</th>\n",
       "      <th>min_price</th>\n",
       "      <th>max_price</th>\n",
       "      <th>modal_price</th>\n",
       "    </tr>\n",
       "  </thead>\n",
       "  <tbody>\n",
       "    <tr>\n",
       "      <th>0</th>\n",
       "      <td>Andaman and Nicobar</td>\n",
       "      <td>South Andaman</td>\n",
       "      <td>Port Blair</td>\n",
       "      <td>Amaranthus</td>\n",
       "      <td>Amaranthus</td>\n",
       "      <td>04/03/2019</td>\n",
       "      <td>6000</td>\n",
       "      <td>8000</td>\n",
       "      <td>7000</td>\n",
       "    </tr>\n",
       "    <tr>\n",
       "      <th>1</th>\n",
       "      <td>Andaman and Nicobar</td>\n",
       "      <td>South Andaman</td>\n",
       "      <td>Port Blair</td>\n",
       "      <td>Banana - Green</td>\n",
       "      <td>Banana - Green</td>\n",
       "      <td>04/03/2019</td>\n",
       "      <td>4500</td>\n",
       "      <td>5500</td>\n",
       "      <td>5000</td>\n",
       "    </tr>\n",
       "    <tr>\n",
       "      <th>2</th>\n",
       "      <td>Andaman and Nicobar</td>\n",
       "      <td>South Andaman</td>\n",
       "      <td>Port Blair</td>\n",
       "      <td>Bhindi(Ladies Finger)</td>\n",
       "      <td>Bhindi</td>\n",
       "      <td>04/03/2019</td>\n",
       "      <td>6000</td>\n",
       "      <td>8000</td>\n",
       "      <td>7000</td>\n",
       "    </tr>\n",
       "    <tr>\n",
       "      <th>3</th>\n",
       "      <td>Andaman and Nicobar</td>\n",
       "      <td>South Andaman</td>\n",
       "      <td>Port Blair</td>\n",
       "      <td>Bitter gourd</td>\n",
       "      <td>Other</td>\n",
       "      <td>04/03/2019</td>\n",
       "      <td>6000</td>\n",
       "      <td>8000</td>\n",
       "      <td>7000</td>\n",
       "    </tr>\n",
       "    <tr>\n",
       "      <th>4</th>\n",
       "      <td>Andaman and Nicobar</td>\n",
       "      <td>South Andaman</td>\n",
       "      <td>Port Blair</td>\n",
       "      <td>Black pepper</td>\n",
       "      <td>Other</td>\n",
       "      <td>04/03/2019</td>\n",
       "      <td>110000</td>\n",
       "      <td>130000</td>\n",
       "      <td>120000</td>\n",
       "    </tr>\n",
       "  </tbody>\n",
       "</table>\n",
       "</div>"
      ],
      "text/plain": [
       "                 state       district      market              commodity  \\\n",
       "0  Andaman and Nicobar  South Andaman  Port Blair             Amaranthus   \n",
       "1  Andaman and Nicobar  South Andaman  Port Blair         Banana - Green   \n",
       "2  Andaman and Nicobar  South Andaman  Port Blair  Bhindi(Ladies Finger)   \n",
       "3  Andaman and Nicobar  South Andaman  Port Blair           Bitter gourd   \n",
       "4  Andaman and Nicobar  South Andaman  Port Blair           Black pepper   \n",
       "\n",
       "          variety arrival_date  min_price  max_price  modal_price  \n",
       "0      Amaranthus   04/03/2019       6000       8000         7000  \n",
       "1  Banana - Green   04/03/2019       4500       5500         5000  \n",
       "2          Bhindi   04/03/2019       6000       8000         7000  \n",
       "3           Other   04/03/2019       6000       8000         7000  \n",
       "4           Other   04/03/2019     110000     130000       120000  "
      ]
     },
     "execution_count": 22,
     "metadata": {},
     "output_type": "execute_result"
    }
   ],
   "source": [
    "agriculture_related_data.head()"
   ]
  },
  {
   "cell_type": "code",
   "execution_count": 23,
   "id": "56f3eac0",
   "metadata": {
    "_kg_hide-output": true,
    "execution": {
     "iopub.execute_input": "2023-02-10T22:43:04.881201Z",
     "iopub.status.busy": "2023-02-10T22:43:04.880857Z",
     "iopub.status.idle": "2023-02-10T22:43:04.887102Z",
     "shell.execute_reply": "2023-02-10T22:43:04.886065Z"
    },
    "papermill": {
     "duration": 0.025207,
     "end_time": "2023-02-10T22:43:04.889126",
     "exception": false,
     "start_time": "2023-02-10T22:43:04.863919",
     "status": "completed"
    },
    "tags": []
   },
   "outputs": [
    {
     "name": "stdout",
     "output_type": "stream",
     "text": [
      "174\n"
     ]
    }
   ],
   "source": [
    "ard_unique_districts=agriculture_related_data['district'].unique()\n",
    "ard_unique_states=agriculture_related_data['state'].unique()\n",
    "print(len(ard_unique_districts))"
   ]
  },
  {
   "cell_type": "markdown",
   "id": "13ece118",
   "metadata": {
    "papermill": {
     "duration": 0.015691,
     "end_time": "2023-02-10T22:43:04.921058",
     "exception": false,
     "start_time": "2023-02-10T22:43:04.905367",
     "status": "completed"
    },
    "tags": []
   },
   "source": [
    "checking the unique states in the dataset"
   ]
  },
  {
   "cell_type": "code",
   "execution_count": 24,
   "id": "c6b78c03",
   "metadata": {
    "execution": {
     "iopub.execute_input": "2023-02-10T22:43:04.954875Z",
     "iopub.status.busy": "2023-02-10T22:43:04.954283Z",
     "iopub.status.idle": "2023-02-10T22:43:04.958955Z",
     "shell.execute_reply": "2023-02-10T22:43:04.957746Z"
    },
    "papermill": {
     "duration": 0.024634,
     "end_time": "2023-02-10T22:43:04.961743",
     "exception": false,
     "start_time": "2023-02-10T22:43:04.937109",
     "status": "completed"
    },
    "tags": []
   },
   "outputs": [
    {
     "name": "stdout",
     "output_type": "stream",
     "text": [
      "26\n"
     ]
    }
   ],
   "source": [
    "print(len(ard_unique_states))"
   ]
  },
  {
   "cell_type": "code",
   "execution_count": 25,
   "id": "b877b71e",
   "metadata": {
    "execution": {
     "iopub.execute_input": "2023-02-10T22:43:04.996663Z",
     "iopub.status.busy": "2023-02-10T22:43:04.996325Z",
     "iopub.status.idle": "2023-02-10T22:43:05.000874Z",
     "shell.execute_reply": "2023-02-10T22:43:04.999920Z"
    },
    "papermill": {
     "duration": 0.023876,
     "end_time": "2023-02-10T22:43:05.003076",
     "exception": false,
     "start_time": "2023-02-10T22:43:04.979200",
     "status": "completed"
    },
    "tags": []
   },
   "outputs": [
    {
     "name": "stdout",
     "output_type": "stream",
     "text": [
      "['Andaman and Nicobar' 'Andhra Pradesh' 'Assam' 'Chattisgarh' 'Goa'\n",
      " 'Gujarat' 'Haryana' 'Himachal Pradesh' 'Jammu and Kashmir' 'Karnataka'\n",
      " 'Kerala' 'Madhya Pradesh' 'Maharashtra' 'Manipur' 'Meghalaya' 'Nagaland'\n",
      " 'Odisha' 'Pondicherry' 'Punjab' 'Rajasthan' 'Tamil Nadu' 'Telangana'\n",
      " 'Tripura' 'Uttar Pradesh' 'Uttrakhand' 'West Bengal']\n"
     ]
    }
   ],
   "source": [
    "print(ard_unique_states)"
   ]
  },
  {
   "cell_type": "markdown",
   "id": "d527dcd9",
   "metadata": {
    "papermill": {
     "duration": 0.015443,
     "end_time": "2023-02-10T22:43:05.035420",
     "exception": false,
     "start_time": "2023-02-10T22:43:05.019977",
     "status": "completed"
    },
    "tags": []
   },
   "source": [
    "checking districts for the districts dataset as well"
   ]
  },
  {
   "cell_type": "code",
   "execution_count": 26,
   "id": "32e8c5a4",
   "metadata": {
    "execution": {
     "iopub.execute_input": "2023-02-10T22:43:05.068303Z",
     "iopub.status.busy": "2023-02-10T22:43:05.067991Z",
     "iopub.status.idle": "2023-02-10T22:43:05.090133Z",
     "shell.execute_reply": "2023-02-10T22:43:05.089421Z"
    },
    "papermill": {
     "duration": 0.040462,
     "end_time": "2023-02-10T22:43:05.091624",
     "exception": false,
     "start_time": "2023-02-10T22:43:05.051162",
     "status": "completed"
    },
    "tags": []
   },
   "outputs": [
    {
     "data": {
      "text/html": [
       "<div>\n",
       "<style scoped>\n",
       "    .dataframe tbody tr th:only-of-type {\n",
       "        vertical-align: middle;\n",
       "    }\n",
       "\n",
       "    .dataframe tbody tr th {\n",
       "        vertical-align: top;\n",
       "    }\n",
       "\n",
       "    .dataframe thead th {\n",
       "        text-align: right;\n",
       "    }\n",
       "</style>\n",
       "<table border=\"1\" class=\"dataframe\">\n",
       "  <thead>\n",
       "    <tr style=\"text-align: right;\">\n",
       "      <th></th>\n",
       "      <th>STATE_UT_NAME</th>\n",
       "      <th>DISTRICT</th>\n",
       "      <th>JAN</th>\n",
       "      <th>FEB</th>\n",
       "      <th>MAR</th>\n",
       "      <th>APR</th>\n",
       "      <th>MAY</th>\n",
       "      <th>JUN</th>\n",
       "      <th>JUL</th>\n",
       "      <th>AUG</th>\n",
       "      <th>SEP</th>\n",
       "      <th>OCT</th>\n",
       "      <th>NOV</th>\n",
       "      <th>DEC</th>\n",
       "      <th>ANNUAL</th>\n",
       "      <th>Jan-Feb</th>\n",
       "      <th>Mar-May</th>\n",
       "      <th>Jun-Sep</th>\n",
       "      <th>Oct-Dec</th>\n",
       "    </tr>\n",
       "  </thead>\n",
       "  <tbody>\n",
       "    <tr>\n",
       "      <th>0</th>\n",
       "      <td>ANDAMAN And NICOBAR ISLANDS</td>\n",
       "      <td>NICOBAR</td>\n",
       "      <td>107.3</td>\n",
       "      <td>57.9</td>\n",
       "      <td>65.2</td>\n",
       "      <td>117.0</td>\n",
       "      <td>358.5</td>\n",
       "      <td>295.5</td>\n",
       "      <td>285.0</td>\n",
       "      <td>271.9</td>\n",
       "      <td>354.8</td>\n",
       "      <td>326.0</td>\n",
       "      <td>315.2</td>\n",
       "      <td>250.9</td>\n",
       "      <td>2805.2</td>\n",
       "      <td>165.2</td>\n",
       "      <td>540.7</td>\n",
       "      <td>1207.2</td>\n",
       "      <td>892.1</td>\n",
       "    </tr>\n",
       "    <tr>\n",
       "      <th>1</th>\n",
       "      <td>ANDAMAN And NICOBAR ISLANDS</td>\n",
       "      <td>SOUTH ANDAMAN</td>\n",
       "      <td>43.7</td>\n",
       "      <td>26.0</td>\n",
       "      <td>18.6</td>\n",
       "      <td>90.5</td>\n",
       "      <td>374.4</td>\n",
       "      <td>457.2</td>\n",
       "      <td>421.3</td>\n",
       "      <td>423.1</td>\n",
       "      <td>455.6</td>\n",
       "      <td>301.2</td>\n",
       "      <td>275.8</td>\n",
       "      <td>128.3</td>\n",
       "      <td>3015.7</td>\n",
       "      <td>69.7</td>\n",
       "      <td>483.5</td>\n",
       "      <td>1757.2</td>\n",
       "      <td>705.3</td>\n",
       "    </tr>\n",
       "    <tr>\n",
       "      <th>2</th>\n",
       "      <td>ANDAMAN And NICOBAR ISLANDS</td>\n",
       "      <td>N &amp; M ANDAMAN</td>\n",
       "      <td>32.7</td>\n",
       "      <td>15.9</td>\n",
       "      <td>8.6</td>\n",
       "      <td>53.4</td>\n",
       "      <td>343.6</td>\n",
       "      <td>503.3</td>\n",
       "      <td>465.4</td>\n",
       "      <td>460.9</td>\n",
       "      <td>454.8</td>\n",
       "      <td>276.1</td>\n",
       "      <td>198.6</td>\n",
       "      <td>100.0</td>\n",
       "      <td>2913.3</td>\n",
       "      <td>48.6</td>\n",
       "      <td>405.6</td>\n",
       "      <td>1884.4</td>\n",
       "      <td>574.7</td>\n",
       "    </tr>\n",
       "    <tr>\n",
       "      <th>3</th>\n",
       "      <td>ARUNACHAL PRADESH</td>\n",
       "      <td>LOHIT</td>\n",
       "      <td>42.2</td>\n",
       "      <td>80.8</td>\n",
       "      <td>176.4</td>\n",
       "      <td>358.5</td>\n",
       "      <td>306.4</td>\n",
       "      <td>447.0</td>\n",
       "      <td>660.1</td>\n",
       "      <td>427.8</td>\n",
       "      <td>313.6</td>\n",
       "      <td>167.1</td>\n",
       "      <td>34.1</td>\n",
       "      <td>29.8</td>\n",
       "      <td>3043.8</td>\n",
       "      <td>123.0</td>\n",
       "      <td>841.3</td>\n",
       "      <td>1848.5</td>\n",
       "      <td>231.0</td>\n",
       "    </tr>\n",
       "    <tr>\n",
       "      <th>4</th>\n",
       "      <td>ARUNACHAL PRADESH</td>\n",
       "      <td>EAST SIANG</td>\n",
       "      <td>33.3</td>\n",
       "      <td>79.5</td>\n",
       "      <td>105.9</td>\n",
       "      <td>216.5</td>\n",
       "      <td>323.0</td>\n",
       "      <td>738.3</td>\n",
       "      <td>990.9</td>\n",
       "      <td>711.2</td>\n",
       "      <td>568.0</td>\n",
       "      <td>206.9</td>\n",
       "      <td>29.5</td>\n",
       "      <td>31.7</td>\n",
       "      <td>4034.7</td>\n",
       "      <td>112.8</td>\n",
       "      <td>645.4</td>\n",
       "      <td>3008.4</td>\n",
       "      <td>268.1</td>\n",
       "    </tr>\n",
       "  </tbody>\n",
       "</table>\n",
       "</div>"
      ],
      "text/plain": [
       "                 STATE_UT_NAME       DISTRICT    JAN   FEB    MAR    APR  \\\n",
       "0  ANDAMAN And NICOBAR ISLANDS        NICOBAR  107.3  57.9   65.2  117.0   \n",
       "1  ANDAMAN And NICOBAR ISLANDS  SOUTH ANDAMAN   43.7  26.0   18.6   90.5   \n",
       "2  ANDAMAN And NICOBAR ISLANDS  N & M ANDAMAN   32.7  15.9    8.6   53.4   \n",
       "3            ARUNACHAL PRADESH          LOHIT   42.2  80.8  176.4  358.5   \n",
       "4            ARUNACHAL PRADESH     EAST SIANG   33.3  79.5  105.9  216.5   \n",
       "\n",
       "     MAY    JUN    JUL    AUG    SEP    OCT    NOV    DEC  ANNUAL  Jan-Feb  \\\n",
       "0  358.5  295.5  285.0  271.9  354.8  326.0  315.2  250.9  2805.2    165.2   \n",
       "1  374.4  457.2  421.3  423.1  455.6  301.2  275.8  128.3  3015.7     69.7   \n",
       "2  343.6  503.3  465.4  460.9  454.8  276.1  198.6  100.0  2913.3     48.6   \n",
       "3  306.4  447.0  660.1  427.8  313.6  167.1   34.1   29.8  3043.8    123.0   \n",
       "4  323.0  738.3  990.9  711.2  568.0  206.9   29.5   31.7  4034.7    112.8   \n",
       "\n",
       "   Mar-May  Jun-Sep  Oct-Dec  \n",
       "0    540.7   1207.2    892.1  \n",
       "1    483.5   1757.2    705.3  \n",
       "2    405.6   1884.4    574.7  \n",
       "3    841.3   1848.5    231.0  \n",
       "4    645.4   3008.4    268.1  "
      ]
     },
     "execution_count": 26,
     "metadata": {},
     "output_type": "execute_result"
    }
   ],
   "source": [
    "district_rainfall_data.head()"
   ]
  },
  {
   "cell_type": "code",
   "execution_count": 27,
   "id": "293312ad",
   "metadata": {
    "execution": {
     "iopub.execute_input": "2023-02-10T22:43:05.126125Z",
     "iopub.status.busy": "2023-02-10T22:43:05.125248Z",
     "iopub.status.idle": "2023-02-10T22:43:05.131748Z",
     "shell.execute_reply": "2023-02-10T22:43:05.130734Z"
    },
    "papermill": {
     "duration": 0.026038,
     "end_time": "2023-02-10T22:43:05.133868",
     "exception": false,
     "start_time": "2023-02-10T22:43:05.107830",
     "status": "completed"
    },
    "tags": []
   },
   "outputs": [
    {
     "name": "stdout",
     "output_type": "stream",
     "text": [
      "637\n"
     ]
    }
   ],
   "source": [
    "drd_unique_districts=district_rainfall_data['DISTRICT'].unique()\n",
    "drd_unique_states=district_rainfall_data['STATE_UT_NAME'].unique()\n",
    "print(len(drd_unique_districts))"
   ]
  },
  {
   "cell_type": "markdown",
   "id": "750efaac",
   "metadata": {
    "papermill": {
     "duration": 0.016107,
     "end_time": "2023-02-10T22:43:05.166625",
     "exception": false,
     "start_time": "2023-02-10T22:43:05.150518",
     "status": "completed"
    },
    "tags": []
   },
   "source": [
    "checking the unique states for district rainfall"
   ]
  },
  {
   "cell_type": "code",
   "execution_count": 28,
   "id": "dd164381",
   "metadata": {
    "execution": {
     "iopub.execute_input": "2023-02-10T22:43:05.200999Z",
     "iopub.status.busy": "2023-02-10T22:43:05.200420Z",
     "iopub.status.idle": "2023-02-10T22:43:05.205721Z",
     "shell.execute_reply": "2023-02-10T22:43:05.204796Z"
    },
    "papermill": {
     "duration": 0.024725,
     "end_time": "2023-02-10T22:43:05.207677",
     "exception": false,
     "start_time": "2023-02-10T22:43:05.182952",
     "status": "completed"
    },
    "tags": []
   },
   "outputs": [
    {
     "name": "stdout",
     "output_type": "stream",
     "text": [
      "35\n"
     ]
    }
   ],
   "source": [
    "print(len(drd_unique_states))"
   ]
  },
  {
   "cell_type": "markdown",
   "id": "98011121",
   "metadata": {
    "papermill": {
     "duration": 0.016069,
     "end_time": "2023-02-10T22:43:05.240072",
     "exception": false,
     "start_time": "2023-02-10T22:43:05.224003",
     "status": "completed"
    },
    "tags": []
   },
   "source": [
    "checking the unique states of the agriculture dataset"
   ]
  },
  {
   "cell_type": "code",
   "execution_count": 29,
   "id": "97d10eb5",
   "metadata": {
    "execution": {
     "iopub.execute_input": "2023-02-10T22:43:05.275396Z",
     "iopub.status.busy": "2023-02-10T22:43:05.275061Z",
     "iopub.status.idle": "2023-02-10T22:43:05.279696Z",
     "shell.execute_reply": "2023-02-10T22:43:05.279023Z"
    },
    "papermill": {
     "duration": 0.02562,
     "end_time": "2023-02-10T22:43:05.281793",
     "exception": false,
     "start_time": "2023-02-10T22:43:05.256173",
     "status": "completed"
    },
    "tags": []
   },
   "outputs": [
    {
     "name": "stdout",
     "output_type": "stream",
     "text": [
      "['ANDAMAN And NICOBAR ISLANDS' 'ARUNACHAL PRADESH' 'ASSAM' 'MEGHALAYA'\n",
      " 'MANIPUR' 'MIZORAM' 'NAGALAND' 'TRIPURA' 'WEST BENGAL' 'SIKKIM' 'ORISSA'\n",
      " 'JHARKHAND' 'BIHAR' 'UTTAR PRADESH' 'UTTARANCHAL' 'HARYANA' 'CHANDIGARH'\n",
      " 'DELHI' 'PUNJAB' 'HIMACHAL' 'JAMMU AND KASHMIR' 'RAJASTHAN'\n",
      " 'MADHYA PRADESH' 'GUJARAT' 'DADAR NAGAR HAVELI' 'DAMAN AND DUI'\n",
      " 'MAHARASHTRA' 'GOA' 'CHATISGARH' 'ANDHRA PRADESH' 'TAMIL NADU'\n",
      " 'PONDICHERRY' 'KARNATAKA' 'KERALA' 'LAKSHADWEEP']\n"
     ]
    }
   ],
   "source": [
    "print(drd_unique_states)"
   ]
  },
  {
   "cell_type": "markdown",
   "id": "851aab80",
   "metadata": {
    "papermill": {
     "duration": 0.016501,
     "end_time": "2023-02-10T22:43:05.316048",
     "exception": false,
     "start_time": "2023-02-10T22:43:05.299547",
     "status": "completed"
    },
    "tags": []
   },
   "source": [
    "renaming the state and district column names for agriculture related dataset"
   ]
  },
  {
   "cell_type": "code",
   "execution_count": 30,
   "id": "2fea35cb",
   "metadata": {
    "execution": {
     "iopub.execute_input": "2023-02-10T22:43:05.351475Z",
     "iopub.status.busy": "2023-02-10T22:43:05.350524Z",
     "iopub.status.idle": "2023-02-10T22:43:05.374785Z",
     "shell.execute_reply": "2023-02-10T22:43:05.373856Z"
    },
    "papermill": {
     "duration": 0.043623,
     "end_time": "2023-02-10T22:43:05.376459",
     "exception": false,
     "start_time": "2023-02-10T22:43:05.332836",
     "status": "completed"
    },
    "tags": []
   },
   "outputs": [
    {
     "data": {
      "text/html": [
       "<div>\n",
       "<style scoped>\n",
       "    .dataframe tbody tr th:only-of-type {\n",
       "        vertical-align: middle;\n",
       "    }\n",
       "\n",
       "    .dataframe tbody tr th {\n",
       "        vertical-align: top;\n",
       "    }\n",
       "\n",
       "    .dataframe thead th {\n",
       "        text-align: right;\n",
       "    }\n",
       "</style>\n",
       "<table border=\"1\" class=\"dataframe\">\n",
       "  <thead>\n",
       "    <tr style=\"text-align: right;\">\n",
       "      <th></th>\n",
       "      <th>state</th>\n",
       "      <th>district</th>\n",
       "      <th>JAN</th>\n",
       "      <th>FEB</th>\n",
       "      <th>MAR</th>\n",
       "      <th>APR</th>\n",
       "      <th>MAY</th>\n",
       "      <th>JUN</th>\n",
       "      <th>JUL</th>\n",
       "      <th>AUG</th>\n",
       "      <th>SEP</th>\n",
       "      <th>OCT</th>\n",
       "      <th>NOV</th>\n",
       "      <th>DEC</th>\n",
       "      <th>ANNUAL</th>\n",
       "      <th>Jan-Feb</th>\n",
       "      <th>Mar-May</th>\n",
       "      <th>Jun-Sep</th>\n",
       "      <th>Oct-Dec</th>\n",
       "    </tr>\n",
       "  </thead>\n",
       "  <tbody>\n",
       "    <tr>\n",
       "      <th>0</th>\n",
       "      <td>ANDAMAN And NICOBAR ISLANDS</td>\n",
       "      <td>NICOBAR</td>\n",
       "      <td>107.3</td>\n",
       "      <td>57.9</td>\n",
       "      <td>65.2</td>\n",
       "      <td>117.0</td>\n",
       "      <td>358.5</td>\n",
       "      <td>295.5</td>\n",
       "      <td>285.0</td>\n",
       "      <td>271.9</td>\n",
       "      <td>354.8</td>\n",
       "      <td>326.0</td>\n",
       "      <td>315.2</td>\n",
       "      <td>250.9</td>\n",
       "      <td>2805.2</td>\n",
       "      <td>165.2</td>\n",
       "      <td>540.7</td>\n",
       "      <td>1207.2</td>\n",
       "      <td>892.1</td>\n",
       "    </tr>\n",
       "    <tr>\n",
       "      <th>1</th>\n",
       "      <td>ANDAMAN And NICOBAR ISLANDS</td>\n",
       "      <td>SOUTH ANDAMAN</td>\n",
       "      <td>43.7</td>\n",
       "      <td>26.0</td>\n",
       "      <td>18.6</td>\n",
       "      <td>90.5</td>\n",
       "      <td>374.4</td>\n",
       "      <td>457.2</td>\n",
       "      <td>421.3</td>\n",
       "      <td>423.1</td>\n",
       "      <td>455.6</td>\n",
       "      <td>301.2</td>\n",
       "      <td>275.8</td>\n",
       "      <td>128.3</td>\n",
       "      <td>3015.7</td>\n",
       "      <td>69.7</td>\n",
       "      <td>483.5</td>\n",
       "      <td>1757.2</td>\n",
       "      <td>705.3</td>\n",
       "    </tr>\n",
       "    <tr>\n",
       "      <th>2</th>\n",
       "      <td>ANDAMAN And NICOBAR ISLANDS</td>\n",
       "      <td>N &amp; M ANDAMAN</td>\n",
       "      <td>32.7</td>\n",
       "      <td>15.9</td>\n",
       "      <td>8.6</td>\n",
       "      <td>53.4</td>\n",
       "      <td>343.6</td>\n",
       "      <td>503.3</td>\n",
       "      <td>465.4</td>\n",
       "      <td>460.9</td>\n",
       "      <td>454.8</td>\n",
       "      <td>276.1</td>\n",
       "      <td>198.6</td>\n",
       "      <td>100.0</td>\n",
       "      <td>2913.3</td>\n",
       "      <td>48.6</td>\n",
       "      <td>405.6</td>\n",
       "      <td>1884.4</td>\n",
       "      <td>574.7</td>\n",
       "    </tr>\n",
       "    <tr>\n",
       "      <th>3</th>\n",
       "      <td>ARUNACHAL PRADESH</td>\n",
       "      <td>LOHIT</td>\n",
       "      <td>42.2</td>\n",
       "      <td>80.8</td>\n",
       "      <td>176.4</td>\n",
       "      <td>358.5</td>\n",
       "      <td>306.4</td>\n",
       "      <td>447.0</td>\n",
       "      <td>660.1</td>\n",
       "      <td>427.8</td>\n",
       "      <td>313.6</td>\n",
       "      <td>167.1</td>\n",
       "      <td>34.1</td>\n",
       "      <td>29.8</td>\n",
       "      <td>3043.8</td>\n",
       "      <td>123.0</td>\n",
       "      <td>841.3</td>\n",
       "      <td>1848.5</td>\n",
       "      <td>231.0</td>\n",
       "    </tr>\n",
       "    <tr>\n",
       "      <th>4</th>\n",
       "      <td>ARUNACHAL PRADESH</td>\n",
       "      <td>EAST SIANG</td>\n",
       "      <td>33.3</td>\n",
       "      <td>79.5</td>\n",
       "      <td>105.9</td>\n",
       "      <td>216.5</td>\n",
       "      <td>323.0</td>\n",
       "      <td>738.3</td>\n",
       "      <td>990.9</td>\n",
       "      <td>711.2</td>\n",
       "      <td>568.0</td>\n",
       "      <td>206.9</td>\n",
       "      <td>29.5</td>\n",
       "      <td>31.7</td>\n",
       "      <td>4034.7</td>\n",
       "      <td>112.8</td>\n",
       "      <td>645.4</td>\n",
       "      <td>3008.4</td>\n",
       "      <td>268.1</td>\n",
       "    </tr>\n",
       "  </tbody>\n",
       "</table>\n",
       "</div>"
      ],
      "text/plain": [
       "                         state       district    JAN   FEB    MAR    APR  \\\n",
       "0  ANDAMAN And NICOBAR ISLANDS        NICOBAR  107.3  57.9   65.2  117.0   \n",
       "1  ANDAMAN And NICOBAR ISLANDS  SOUTH ANDAMAN   43.7  26.0   18.6   90.5   \n",
       "2  ANDAMAN And NICOBAR ISLANDS  N & M ANDAMAN   32.7  15.9    8.6   53.4   \n",
       "3            ARUNACHAL PRADESH          LOHIT   42.2  80.8  176.4  358.5   \n",
       "4            ARUNACHAL PRADESH     EAST SIANG   33.3  79.5  105.9  216.5   \n",
       "\n",
       "     MAY    JUN    JUL    AUG    SEP    OCT    NOV    DEC  ANNUAL  Jan-Feb  \\\n",
       "0  358.5  295.5  285.0  271.9  354.8  326.0  315.2  250.9  2805.2    165.2   \n",
       "1  374.4  457.2  421.3  423.1  455.6  301.2  275.8  128.3  3015.7     69.7   \n",
       "2  343.6  503.3  465.4  460.9  454.8  276.1  198.6  100.0  2913.3     48.6   \n",
       "3  306.4  447.0  660.1  427.8  313.6  167.1   34.1   29.8  3043.8    123.0   \n",
       "4  323.0  738.3  990.9  711.2  568.0  206.9   29.5   31.7  4034.7    112.8   \n",
       "\n",
       "   Mar-May  Jun-Sep  Oct-Dec  \n",
       "0    540.7   1207.2    892.1  \n",
       "1    483.5   1757.2    705.3  \n",
       "2    405.6   1884.4    574.7  \n",
       "3    841.3   1848.5    231.0  \n",
       "4    645.4   3008.4    268.1  "
      ]
     },
     "execution_count": 30,
     "metadata": {},
     "output_type": "execute_result"
    }
   ],
   "source": [
    "district_rainfall_data.rename(columns={'STATE_UT_NAME':'state','DISTRICT':'district'},inplace=True)\n",
    "district_rainfall_data.head()"
   ]
  },
  {
   "cell_type": "markdown",
   "id": "b880e2e4",
   "metadata": {
    "papermill": {
     "duration": 0.017752,
     "end_time": "2023-02-10T22:43:05.411893",
     "exception": false,
     "start_time": "2023-02-10T22:43:05.394141",
     "status": "completed"
    },
    "tags": []
   },
   "source": [
    "trying to combine two pandas datasets based on common values. I will be using both the common features(state,district) and will get two seperate datasets accordingly"
   ]
  },
  {
   "cell_type": "markdown",
   "id": "b0f21d57",
   "metadata": {
    "papermill": {
     "duration": 0.016435,
     "end_time": "2023-02-10T22:43:05.445313",
     "exception": false,
     "start_time": "2023-02-10T22:43:05.428878",
     "status": "completed"
    },
    "tags": []
   },
   "source": [
    "checking the columns of the two datasets"
   ]
  },
  {
   "cell_type": "code",
   "execution_count": 31,
   "id": "73c8eca0",
   "metadata": {
    "execution": {
     "iopub.execute_input": "2023-02-10T22:43:05.481464Z",
     "iopub.status.busy": "2023-02-10T22:43:05.480632Z",
     "iopub.status.idle": "2023-02-10T22:43:05.486556Z",
     "shell.execute_reply": "2023-02-10T22:43:05.485752Z"
    },
    "papermill": {
     "duration": 0.025718,
     "end_time": "2023-02-10T22:43:05.488291",
     "exception": false,
     "start_time": "2023-02-10T22:43:05.462573",
     "status": "completed"
    },
    "tags": []
   },
   "outputs": [
    {
     "data": {
      "text/plain": [
       "Index(['state', 'district', 'market', 'commodity', 'variety', 'arrival_date',\n",
       "       'min_price', 'max_price', 'modal_price'],\n",
       "      dtype='object')"
      ]
     },
     "execution_count": 31,
     "metadata": {},
     "output_type": "execute_result"
    }
   ],
   "source": [
    "agriculture_related_data.columns"
   ]
  },
  {
   "cell_type": "code",
   "execution_count": 32,
   "id": "97bc3537",
   "metadata": {
    "execution": {
     "iopub.execute_input": "2023-02-10T22:43:05.522924Z",
     "iopub.status.busy": "2023-02-10T22:43:05.522546Z",
     "iopub.status.idle": "2023-02-10T22:43:05.528402Z",
     "shell.execute_reply": "2023-02-10T22:43:05.527615Z"
    },
    "papermill": {
     "duration": 0.024897,
     "end_time": "2023-02-10T22:43:05.530000",
     "exception": false,
     "start_time": "2023-02-10T22:43:05.505103",
     "status": "completed"
    },
    "tags": []
   },
   "outputs": [
    {
     "data": {
      "text/plain": [
       "Index(['state', 'district', 'JAN', 'FEB', 'MAR', 'APR', 'MAY', 'JUN', 'JUL',\n",
       "       'AUG', 'SEP', 'OCT', 'NOV', 'DEC', 'ANNUAL', 'Jan-Feb', 'Mar-May',\n",
       "       'Jun-Sep', 'Oct-Dec'],\n",
       "      dtype='object')"
      ]
     },
     "execution_count": 32,
     "metadata": {},
     "output_type": "execute_result"
    }
   ],
   "source": [
    "district_rainfall_data.columns"
   ]
  },
  {
   "cell_type": "markdown",
   "id": "8ba7ee12",
   "metadata": {
    "papermill": {
     "duration": 0.016481,
     "end_time": "2023-02-10T22:43:05.563035",
     "exception": false,
     "start_time": "2023-02-10T22:43:05.546554",
     "status": "completed"
    },
    "tags": []
   },
   "source": [
    "dropping rows which have uncommon state values in district rainfall data "
   ]
  },
  {
   "cell_type": "code",
   "execution_count": 33,
   "id": "9dafb526",
   "metadata": {
    "execution": {
     "iopub.execute_input": "2023-02-10T22:43:05.598007Z",
     "iopub.status.busy": "2023-02-10T22:43:05.597642Z",
     "iopub.status.idle": "2023-02-10T22:43:05.601608Z",
     "shell.execute_reply": "2023-02-10T22:43:05.600797Z"
    },
    "papermill": {
     "duration": 0.023541,
     "end_time": "2023-02-10T22:43:05.603216",
     "exception": false,
     "start_time": "2023-02-10T22:43:05.579675",
     "status": "completed"
    },
    "tags": []
   },
   "outputs": [],
   "source": [
    "# # Drop rows where column 'B' is equal to values in values_to_drop list\n",
    "# district_rainfall_data = district_rainfall_data[~district_rainfall_data['state'].isin(result)]\n",
    "# district_rainfall_data.reset_index(drop=True)\n",
    "# # district_rainfall_data.head()"
   ]
  },
  {
   "cell_type": "markdown",
   "id": "08ff56d7",
   "metadata": {
    "papermill": {
     "duration": 0.016464,
     "end_time": "2023-02-10T22:43:05.636525",
     "exception": false,
     "start_time": "2023-02-10T22:43:05.620061",
     "status": "completed"
    },
    "tags": []
   },
   "source": [
    "checking the unique values now"
   ]
  },
  {
   "cell_type": "code",
   "execution_count": 34,
   "id": "0dd8431b",
   "metadata": {
    "execution": {
     "iopub.execute_input": "2023-02-10T22:43:05.671521Z",
     "iopub.status.busy": "2023-02-10T22:43:05.671169Z",
     "iopub.status.idle": "2023-02-10T22:43:05.676966Z",
     "shell.execute_reply": "2023-02-10T22:43:05.676163Z"
    },
    "papermill": {
     "duration": 0.025684,
     "end_time": "2023-02-10T22:43:05.678950",
     "exception": false,
     "start_time": "2023-02-10T22:43:05.653266",
     "status": "completed"
    },
    "tags": []
   },
   "outputs": [
    {
     "name": "stdout",
     "output_type": "stream",
     "text": [
      "35\n"
     ]
    }
   ],
   "source": [
    "drd_unique_districts=district_rainfall_data['district'].unique()\n",
    "drd_unique_states=district_rainfall_data['state'].unique()\n",
    "print(len(drd_unique_states))"
   ]
  },
  {
   "cell_type": "markdown",
   "id": "d075e1f7",
   "metadata": {
    "papermill": {
     "duration": 0.016574,
     "end_time": "2023-02-10T22:43:05.712842",
     "exception": false,
     "start_time": "2023-02-10T22:43:05.696268",
     "status": "completed"
    },
    "tags": []
   },
   "source": [
    "merging two datasets on the basis of state"
   ]
  },
  {
   "cell_type": "code",
   "execution_count": 35,
   "id": "fb1b8b28",
   "metadata": {
    "execution": {
     "iopub.execute_input": "2023-02-10T22:43:05.748148Z",
     "iopub.status.busy": "2023-02-10T22:43:05.747812Z",
     "iopub.status.idle": "2023-02-10T22:43:05.761888Z",
     "shell.execute_reply": "2023-02-10T22:43:05.761242Z"
    },
    "papermill": {
     "duration": 0.034231,
     "end_time": "2023-02-10T22:43:05.763837",
     "exception": false,
     "start_time": "2023-02-10T22:43:05.729606",
     "status": "completed"
    },
    "tags": []
   },
   "outputs": [],
   "source": [
    "state_merged=pd.merge(agriculture_related_data,district_rainfall_data,on='state',how='outer')"
   ]
  },
  {
   "cell_type": "code",
   "execution_count": 36,
   "id": "32cc0ec0",
   "metadata": {
    "execution": {
     "iopub.execute_input": "2023-02-10T22:43:05.801237Z",
     "iopub.status.busy": "2023-02-10T22:43:05.800918Z",
     "iopub.status.idle": "2023-02-10T22:43:05.822615Z",
     "shell.execute_reply": "2023-02-10T22:43:05.821807Z"
    },
    "papermill": {
     "duration": 0.042468,
     "end_time": "2023-02-10T22:43:05.824268",
     "exception": false,
     "start_time": "2023-02-10T22:43:05.781800",
     "status": "completed"
    },
    "tags": []
   },
   "outputs": [
    {
     "data": {
      "text/html": [
       "<div>\n",
       "<style scoped>\n",
       "    .dataframe tbody tr th:only-of-type {\n",
       "        vertical-align: middle;\n",
       "    }\n",
       "\n",
       "    .dataframe tbody tr th {\n",
       "        vertical-align: top;\n",
       "    }\n",
       "\n",
       "    .dataframe thead th {\n",
       "        text-align: right;\n",
       "    }\n",
       "</style>\n",
       "<table border=\"1\" class=\"dataframe\">\n",
       "  <thead>\n",
       "    <tr style=\"text-align: right;\">\n",
       "      <th></th>\n",
       "      <th>state</th>\n",
       "      <th>district_x</th>\n",
       "      <th>market</th>\n",
       "      <th>commodity</th>\n",
       "      <th>variety</th>\n",
       "      <th>arrival_date</th>\n",
       "      <th>min_price</th>\n",
       "      <th>max_price</th>\n",
       "      <th>modal_price</th>\n",
       "      <th>district_y</th>\n",
       "      <th>...</th>\n",
       "      <th>AUG</th>\n",
       "      <th>SEP</th>\n",
       "      <th>OCT</th>\n",
       "      <th>NOV</th>\n",
       "      <th>DEC</th>\n",
       "      <th>ANNUAL</th>\n",
       "      <th>Jan-Feb</th>\n",
       "      <th>Mar-May</th>\n",
       "      <th>Jun-Sep</th>\n",
       "      <th>Oct-Dec</th>\n",
       "    </tr>\n",
       "  </thead>\n",
       "  <tbody>\n",
       "    <tr>\n",
       "      <th>0</th>\n",
       "      <td>Andaman and Nicobar</td>\n",
       "      <td>South Andaman</td>\n",
       "      <td>Port Blair</td>\n",
       "      <td>Amaranthus</td>\n",
       "      <td>Amaranthus</td>\n",
       "      <td>04/03/2019</td>\n",
       "      <td>6000.0</td>\n",
       "      <td>8000.0</td>\n",
       "      <td>7000.0</td>\n",
       "      <td>NaN</td>\n",
       "      <td>...</td>\n",
       "      <td>NaN</td>\n",
       "      <td>NaN</td>\n",
       "      <td>NaN</td>\n",
       "      <td>NaN</td>\n",
       "      <td>NaN</td>\n",
       "      <td>NaN</td>\n",
       "      <td>NaN</td>\n",
       "      <td>NaN</td>\n",
       "      <td>NaN</td>\n",
       "      <td>NaN</td>\n",
       "    </tr>\n",
       "    <tr>\n",
       "      <th>1</th>\n",
       "      <td>Andaman and Nicobar</td>\n",
       "      <td>South Andaman</td>\n",
       "      <td>Port Blair</td>\n",
       "      <td>Banana - Green</td>\n",
       "      <td>Banana - Green</td>\n",
       "      <td>04/03/2019</td>\n",
       "      <td>4500.0</td>\n",
       "      <td>5500.0</td>\n",
       "      <td>5000.0</td>\n",
       "      <td>NaN</td>\n",
       "      <td>...</td>\n",
       "      <td>NaN</td>\n",
       "      <td>NaN</td>\n",
       "      <td>NaN</td>\n",
       "      <td>NaN</td>\n",
       "      <td>NaN</td>\n",
       "      <td>NaN</td>\n",
       "      <td>NaN</td>\n",
       "      <td>NaN</td>\n",
       "      <td>NaN</td>\n",
       "      <td>NaN</td>\n",
       "    </tr>\n",
       "    <tr>\n",
       "      <th>2</th>\n",
       "      <td>Andaman and Nicobar</td>\n",
       "      <td>South Andaman</td>\n",
       "      <td>Port Blair</td>\n",
       "      <td>Bhindi(Ladies Finger)</td>\n",
       "      <td>Bhindi</td>\n",
       "      <td>04/03/2019</td>\n",
       "      <td>6000.0</td>\n",
       "      <td>8000.0</td>\n",
       "      <td>7000.0</td>\n",
       "      <td>NaN</td>\n",
       "      <td>...</td>\n",
       "      <td>NaN</td>\n",
       "      <td>NaN</td>\n",
       "      <td>NaN</td>\n",
       "      <td>NaN</td>\n",
       "      <td>NaN</td>\n",
       "      <td>NaN</td>\n",
       "      <td>NaN</td>\n",
       "      <td>NaN</td>\n",
       "      <td>NaN</td>\n",
       "      <td>NaN</td>\n",
       "    </tr>\n",
       "    <tr>\n",
       "      <th>3</th>\n",
       "      <td>Andaman and Nicobar</td>\n",
       "      <td>South Andaman</td>\n",
       "      <td>Port Blair</td>\n",
       "      <td>Bitter gourd</td>\n",
       "      <td>Other</td>\n",
       "      <td>04/03/2019</td>\n",
       "      <td>6000.0</td>\n",
       "      <td>8000.0</td>\n",
       "      <td>7000.0</td>\n",
       "      <td>NaN</td>\n",
       "      <td>...</td>\n",
       "      <td>NaN</td>\n",
       "      <td>NaN</td>\n",
       "      <td>NaN</td>\n",
       "      <td>NaN</td>\n",
       "      <td>NaN</td>\n",
       "      <td>NaN</td>\n",
       "      <td>NaN</td>\n",
       "      <td>NaN</td>\n",
       "      <td>NaN</td>\n",
       "      <td>NaN</td>\n",
       "    </tr>\n",
       "    <tr>\n",
       "      <th>4</th>\n",
       "      <td>Andaman and Nicobar</td>\n",
       "      <td>South Andaman</td>\n",
       "      <td>Port Blair</td>\n",
       "      <td>Black pepper</td>\n",
       "      <td>Other</td>\n",
       "      <td>04/03/2019</td>\n",
       "      <td>110000.0</td>\n",
       "      <td>130000.0</td>\n",
       "      <td>120000.0</td>\n",
       "      <td>NaN</td>\n",
       "      <td>...</td>\n",
       "      <td>NaN</td>\n",
       "      <td>NaN</td>\n",
       "      <td>NaN</td>\n",
       "      <td>NaN</td>\n",
       "      <td>NaN</td>\n",
       "      <td>NaN</td>\n",
       "      <td>NaN</td>\n",
       "      <td>NaN</td>\n",
       "      <td>NaN</td>\n",
       "      <td>NaN</td>\n",
       "    </tr>\n",
       "  </tbody>\n",
       "</table>\n",
       "<p>5 rows × 27 columns</p>\n",
       "</div>"
      ],
      "text/plain": [
       "                 state     district_x      market              commodity  \\\n",
       "0  Andaman and Nicobar  South Andaman  Port Blair             Amaranthus   \n",
       "1  Andaman and Nicobar  South Andaman  Port Blair         Banana - Green   \n",
       "2  Andaman and Nicobar  South Andaman  Port Blair  Bhindi(Ladies Finger)   \n",
       "3  Andaman and Nicobar  South Andaman  Port Blair           Bitter gourd   \n",
       "4  Andaman and Nicobar  South Andaman  Port Blair           Black pepper   \n",
       "\n",
       "          variety arrival_date  min_price  max_price  modal_price district_y  \\\n",
       "0      Amaranthus   04/03/2019     6000.0     8000.0       7000.0        NaN   \n",
       "1  Banana - Green   04/03/2019     4500.0     5500.0       5000.0        NaN   \n",
       "2          Bhindi   04/03/2019     6000.0     8000.0       7000.0        NaN   \n",
       "3           Other   04/03/2019     6000.0     8000.0       7000.0        NaN   \n",
       "4           Other   04/03/2019   110000.0   130000.0     120000.0        NaN   \n",
       "\n",
       "   ...  AUG  SEP  OCT  NOV  DEC  ANNUAL  Jan-Feb  Mar-May  Jun-Sep  Oct-Dec  \n",
       "0  ...  NaN  NaN  NaN  NaN  NaN     NaN      NaN      NaN      NaN      NaN  \n",
       "1  ...  NaN  NaN  NaN  NaN  NaN     NaN      NaN      NaN      NaN      NaN  \n",
       "2  ...  NaN  NaN  NaN  NaN  NaN     NaN      NaN      NaN      NaN      NaN  \n",
       "3  ...  NaN  NaN  NaN  NaN  NaN     NaN      NaN      NaN      NaN      NaN  \n",
       "4  ...  NaN  NaN  NaN  NaN  NaN     NaN      NaN      NaN      NaN      NaN  \n",
       "\n",
       "[5 rows x 27 columns]"
      ]
     },
     "execution_count": 36,
     "metadata": {},
     "output_type": "execute_result"
    }
   ],
   "source": [
    "state_merged.head()"
   ]
  },
  {
   "cell_type": "markdown",
   "id": "f9fa6624",
   "metadata": {
    "papermill": {
     "duration": 0.01834,
     "end_time": "2023-02-10T22:43:05.859815",
     "exception": false,
     "start_time": "2023-02-10T22:43:05.841475",
     "status": "completed"
    },
    "tags": []
   },
   "source": [
    "kill me now if i get a lot of na values"
   ]
  },
  {
   "cell_type": "code",
   "execution_count": 37,
   "id": "ef6de942",
   "metadata": {
    "execution": {
     "iopub.execute_input": "2023-02-10T22:43:05.895936Z",
     "iopub.status.busy": "2023-02-10T22:43:05.895554Z",
     "iopub.status.idle": "2023-02-10T22:43:05.904016Z",
     "shell.execute_reply": "2023-02-10T22:43:05.903082Z"
    },
    "papermill": {
     "duration": 0.028757,
     "end_time": "2023-02-10T22:43:05.905986",
     "exception": false,
     "start_time": "2023-02-10T22:43:05.877229",
     "status": "completed"
    },
    "tags": []
   },
   "outputs": [
    {
     "data": {
      "text/plain": [
       "45412"
      ]
     },
     "execution_count": 37,
     "metadata": {},
     "output_type": "execute_result"
    }
   ],
   "source": [
    "state_merged.isna().sum().sum()"
   ]
  },
  {
   "cell_type": "code",
   "execution_count": 38,
   "id": "4735c8a1",
   "metadata": {
    "execution": {
     "iopub.execute_input": "2023-02-10T22:43:05.941916Z",
     "iopub.status.busy": "2023-02-10T22:43:05.941565Z",
     "iopub.status.idle": "2023-02-10T22:43:05.949942Z",
     "shell.execute_reply": "2023-02-10T22:43:05.949070Z"
    },
    "papermill": {
     "duration": 0.033423,
     "end_time": "2023-02-10T22:43:05.956820",
     "exception": false,
     "start_time": "2023-02-10T22:43:05.923397",
     "status": "completed"
    },
    "tags": []
   },
   "outputs": [
    {
     "name": "stdout",
     "output_type": "stream",
     "text": [
      "state            0.000000\n",
      "district_x      22.264675\n",
      "market          22.264675\n",
      "commodity       22.264675\n",
      "variety         22.264675\n",
      "arrival_date    22.264675\n",
      "min_price       22.264675\n",
      "max_price       22.264675\n",
      "modal_price     22.264675\n",
      "district_y      77.735325\n",
      "JAN             77.735325\n",
      "FEB             77.735325\n",
      "MAR             77.735325\n",
      "APR             77.735325\n",
      "MAY             77.735325\n",
      "JUN             77.735325\n",
      "JUL             77.735325\n",
      "AUG             77.735325\n",
      "SEP             77.735325\n",
      "OCT             77.735325\n",
      "NOV             77.735325\n",
      "DEC             77.735325\n",
      "ANNUAL          77.735325\n",
      "Jan-Feb         77.735325\n",
      "Mar-May         77.735325\n",
      "Jun-Sep         77.735325\n",
      "Oct-Dec         77.735325\n",
      "dtype: float64\n"
     ]
    }
   ],
   "source": [
    "missing_values = state_merged.isna().mean() * 100\n",
    "\n",
    "print(missing_values)"
   ]
  },
  {
   "cell_type": "code",
   "execution_count": 39,
   "id": "a813e54e",
   "metadata": {
    "execution": {
     "iopub.execute_input": "2023-02-10T22:43:05.993298Z",
     "iopub.status.busy": "2023-02-10T22:43:05.992959Z",
     "iopub.status.idle": "2023-02-10T22:43:05.997538Z",
     "shell.execute_reply": "2023-02-10T22:43:05.996561Z"
    },
    "papermill": {
     "duration": 0.02459,
     "end_time": "2023-02-10T22:43:05.999391",
     "exception": false,
     "start_time": "2023-02-10T22:43:05.974801",
     "status": "completed"
    },
    "tags": []
   },
   "outputs": [],
   "source": [
    "# Impute missing values with the mean of the column\n",
    "# state_merged.fillna(state_merged.mean(), inplace=True)"
   ]
  },
  {
   "cell_type": "code",
   "execution_count": 40,
   "id": "e1acfde4",
   "metadata": {
    "execution": {
     "iopub.execute_input": "2023-02-10T22:43:06.035625Z",
     "iopub.status.busy": "2023-02-10T22:43:06.035305Z",
     "iopub.status.idle": "2023-02-10T22:43:06.039101Z",
     "shell.execute_reply": "2023-02-10T22:43:06.038239Z"
    },
    "papermill": {
     "duration": 0.02417,
     "end_time": "2023-02-10T22:43:06.040832",
     "exception": false,
     "start_time": "2023-02-10T22:43:06.016662",
     "status": "completed"
    },
    "tags": []
   },
   "outputs": [],
   "source": [
    "# state_merged.isna().sum().sum()"
   ]
  },
  {
   "cell_type": "code",
   "execution_count": 41,
   "id": "6243f5ad",
   "metadata": {
    "execution": {
     "iopub.execute_input": "2023-02-10T22:43:06.078071Z",
     "iopub.status.busy": "2023-02-10T22:43:06.077415Z",
     "iopub.status.idle": "2023-02-10T22:43:06.082997Z",
     "shell.execute_reply": "2023-02-10T22:43:06.082032Z"
    },
    "papermill": {
     "duration": 0.026265,
     "end_time": "2023-02-10T22:43:06.084679",
     "exception": false,
     "start_time": "2023-02-10T22:43:06.058414",
     "status": "completed"
    },
    "tags": []
   },
   "outputs": [
    {
     "name": "stdout",
     "output_type": "stream",
     "text": [
      "['ANDAMAN & NICOBAR ISLANDS' 'ARUNACHAL PRADESH' 'ASSAM & MEGHALAYA'\n",
      " 'NAGA MANI MIZO TRIPURA' 'SUB HIMALAYAN WEST BENGAL & SIKKIM'\n",
      " 'GANGETIC WEST BENGAL' 'ORISSA' 'JHARKHAND' 'BIHAR' 'EAST UTTAR PRADESH'\n",
      " 'WEST UTTAR PRADESH' 'UTTARAKHAND' 'HARYANA DELHI & CHANDIGARH' 'PUNJAB'\n",
      " 'HIMACHAL PRADESH' 'JAMMU & KASHMIR' 'WEST RAJASTHAN' 'EAST RAJASTHAN'\n",
      " 'WEST MADHYA PRADESH' 'EAST MADHYA PRADESH' 'GUJARAT REGION'\n",
      " 'SAURASHTRA & KUTCH' 'KONKAN & GOA' 'MADHYA MAHARASHTRA' 'MATATHWADA'\n",
      " 'VIDARBHA' 'CHHATTISGARH' 'COASTAL ANDHRA PRADESH' 'TELANGANA'\n",
      " 'RAYALSEEMA' 'TAMIL NADU' 'COASTAL KARNATAKA' 'NORTH INTERIOR KARNATAKA'\n",
      " 'SOUTH INTERIOR KARNATAKA' 'KERALA' 'LAKSHADWEEP']\n"
     ]
    }
   ],
   "source": [
    "subdivisions=india_rainfall_data['SUBDIVISION'].unique()\n",
    "print(subdivisions)"
   ]
  },
  {
   "cell_type": "code",
   "execution_count": 42,
   "id": "7bae2a2a",
   "metadata": {
    "execution": {
     "iopub.execute_input": "2023-02-10T22:43:06.121044Z",
     "iopub.status.busy": "2023-02-10T22:43:06.120704Z",
     "iopub.status.idle": "2023-02-10T22:43:06.125474Z",
     "shell.execute_reply": "2023-02-10T22:43:06.124586Z"
    },
    "papermill": {
     "duration": 0.024879,
     "end_time": "2023-02-10T22:43:06.127120",
     "exception": false,
     "start_time": "2023-02-10T22:43:06.102241",
     "status": "completed"
    },
    "tags": []
   },
   "outputs": [
    {
     "name": "stdout",
     "output_type": "stream",
     "text": [
      "36\n"
     ]
    }
   ],
   "source": [
    "print(len(subdivisions))"
   ]
  },
  {
   "cell_type": "code",
   "execution_count": 43,
   "id": "72c13748",
   "metadata": {
    "execution": {
     "iopub.execute_input": "2023-02-10T22:43:06.162859Z",
     "iopub.status.busy": "2023-02-10T22:43:06.162573Z",
     "iopub.status.idle": "2023-02-10T22:43:06.184379Z",
     "shell.execute_reply": "2023-02-10T22:43:06.183561Z"
    },
    "papermill": {
     "duration": 0.041495,
     "end_time": "2023-02-10T22:43:06.185940",
     "exception": false,
     "start_time": "2023-02-10T22:43:06.144445",
     "status": "completed"
    },
    "tags": []
   },
   "outputs": [
    {
     "data": {
      "text/html": [
       "<div>\n",
       "<style scoped>\n",
       "    .dataframe tbody tr th:only-of-type {\n",
       "        vertical-align: middle;\n",
       "    }\n",
       "\n",
       "    .dataframe tbody tr th {\n",
       "        vertical-align: top;\n",
       "    }\n",
       "\n",
       "    .dataframe thead th {\n",
       "        text-align: right;\n",
       "    }\n",
       "</style>\n",
       "<table border=\"1\" class=\"dataframe\">\n",
       "  <thead>\n",
       "    <tr style=\"text-align: right;\">\n",
       "      <th></th>\n",
       "      <th>state</th>\n",
       "      <th>YEAR</th>\n",
       "      <th>JAN</th>\n",
       "      <th>FEB</th>\n",
       "      <th>MAR</th>\n",
       "      <th>APR</th>\n",
       "      <th>MAY</th>\n",
       "      <th>JUN</th>\n",
       "      <th>JUL</th>\n",
       "      <th>AUG</th>\n",
       "      <th>SEP</th>\n",
       "      <th>OCT</th>\n",
       "      <th>NOV</th>\n",
       "      <th>DEC</th>\n",
       "      <th>ANNUAL</th>\n",
       "      <th>Jan-Feb</th>\n",
       "      <th>Mar-May</th>\n",
       "      <th>Jun-Sep</th>\n",
       "      <th>Oct-Dec</th>\n",
       "    </tr>\n",
       "  </thead>\n",
       "  <tbody>\n",
       "    <tr>\n",
       "      <th>0</th>\n",
       "      <td>ANDAMAN &amp; NICOBAR ISLANDS</td>\n",
       "      <td>1901</td>\n",
       "      <td>49.2</td>\n",
       "      <td>87.1</td>\n",
       "      <td>29.2</td>\n",
       "      <td>2.3</td>\n",
       "      <td>528.8</td>\n",
       "      <td>517.5</td>\n",
       "      <td>365.1</td>\n",
       "      <td>481.1</td>\n",
       "      <td>332.6</td>\n",
       "      <td>388.5</td>\n",
       "      <td>558.2</td>\n",
       "      <td>33.6</td>\n",
       "      <td>3373.2</td>\n",
       "      <td>136.3</td>\n",
       "      <td>560.3</td>\n",
       "      <td>1696.3</td>\n",
       "      <td>980.3</td>\n",
       "    </tr>\n",
       "    <tr>\n",
       "      <th>1</th>\n",
       "      <td>ANDAMAN &amp; NICOBAR ISLANDS</td>\n",
       "      <td>1902</td>\n",
       "      <td>0.0</td>\n",
       "      <td>159.8</td>\n",
       "      <td>12.2</td>\n",
       "      <td>0.0</td>\n",
       "      <td>446.1</td>\n",
       "      <td>537.1</td>\n",
       "      <td>228.9</td>\n",
       "      <td>753.7</td>\n",
       "      <td>666.2</td>\n",
       "      <td>197.2</td>\n",
       "      <td>359.0</td>\n",
       "      <td>160.5</td>\n",
       "      <td>3520.7</td>\n",
       "      <td>159.8</td>\n",
       "      <td>458.3</td>\n",
       "      <td>2185.9</td>\n",
       "      <td>716.7</td>\n",
       "    </tr>\n",
       "    <tr>\n",
       "      <th>2</th>\n",
       "      <td>ANDAMAN &amp; NICOBAR ISLANDS</td>\n",
       "      <td>1903</td>\n",
       "      <td>12.7</td>\n",
       "      <td>144.0</td>\n",
       "      <td>0.0</td>\n",
       "      <td>1.0</td>\n",
       "      <td>235.1</td>\n",
       "      <td>479.9</td>\n",
       "      <td>728.4</td>\n",
       "      <td>326.7</td>\n",
       "      <td>339.0</td>\n",
       "      <td>181.2</td>\n",
       "      <td>284.4</td>\n",
       "      <td>225.0</td>\n",
       "      <td>2957.4</td>\n",
       "      <td>156.7</td>\n",
       "      <td>236.1</td>\n",
       "      <td>1874.0</td>\n",
       "      <td>690.6</td>\n",
       "    </tr>\n",
       "    <tr>\n",
       "      <th>3</th>\n",
       "      <td>ANDAMAN &amp; NICOBAR ISLANDS</td>\n",
       "      <td>1904</td>\n",
       "      <td>9.4</td>\n",
       "      <td>14.7</td>\n",
       "      <td>0.0</td>\n",
       "      <td>202.4</td>\n",
       "      <td>304.5</td>\n",
       "      <td>495.1</td>\n",
       "      <td>502.0</td>\n",
       "      <td>160.1</td>\n",
       "      <td>820.4</td>\n",
       "      <td>222.2</td>\n",
       "      <td>308.7</td>\n",
       "      <td>40.1</td>\n",
       "      <td>3079.6</td>\n",
       "      <td>24.1</td>\n",
       "      <td>506.9</td>\n",
       "      <td>1977.6</td>\n",
       "      <td>571.0</td>\n",
       "    </tr>\n",
       "    <tr>\n",
       "      <th>4</th>\n",
       "      <td>ANDAMAN &amp; NICOBAR ISLANDS</td>\n",
       "      <td>1905</td>\n",
       "      <td>1.3</td>\n",
       "      <td>0.0</td>\n",
       "      <td>3.3</td>\n",
       "      <td>26.9</td>\n",
       "      <td>279.5</td>\n",
       "      <td>628.7</td>\n",
       "      <td>368.7</td>\n",
       "      <td>330.5</td>\n",
       "      <td>297.0</td>\n",
       "      <td>260.7</td>\n",
       "      <td>25.4</td>\n",
       "      <td>344.7</td>\n",
       "      <td>2566.7</td>\n",
       "      <td>1.3</td>\n",
       "      <td>309.7</td>\n",
       "      <td>1624.9</td>\n",
       "      <td>630.8</td>\n",
       "    </tr>\n",
       "  </tbody>\n",
       "</table>\n",
       "</div>"
      ],
      "text/plain": [
       "                       state  YEAR   JAN    FEB   MAR    APR    MAY    JUN  \\\n",
       "0  ANDAMAN & NICOBAR ISLANDS  1901  49.2   87.1  29.2    2.3  528.8  517.5   \n",
       "1  ANDAMAN & NICOBAR ISLANDS  1902   0.0  159.8  12.2    0.0  446.1  537.1   \n",
       "2  ANDAMAN & NICOBAR ISLANDS  1903  12.7  144.0   0.0    1.0  235.1  479.9   \n",
       "3  ANDAMAN & NICOBAR ISLANDS  1904   9.4   14.7   0.0  202.4  304.5  495.1   \n",
       "4  ANDAMAN & NICOBAR ISLANDS  1905   1.3    0.0   3.3   26.9  279.5  628.7   \n",
       "\n",
       "     JUL    AUG    SEP    OCT    NOV    DEC  ANNUAL  Jan-Feb  Mar-May  \\\n",
       "0  365.1  481.1  332.6  388.5  558.2   33.6  3373.2    136.3    560.3   \n",
       "1  228.9  753.7  666.2  197.2  359.0  160.5  3520.7    159.8    458.3   \n",
       "2  728.4  326.7  339.0  181.2  284.4  225.0  2957.4    156.7    236.1   \n",
       "3  502.0  160.1  820.4  222.2  308.7   40.1  3079.6     24.1    506.9   \n",
       "4  368.7  330.5  297.0  260.7   25.4  344.7  2566.7      1.3    309.7   \n",
       "\n",
       "   Jun-Sep  Oct-Dec  \n",
       "0   1696.3    980.3  \n",
       "1   2185.9    716.7  \n",
       "2   1874.0    690.6  \n",
       "3   1977.6    571.0  \n",
       "4   1624.9    630.8  "
      ]
     },
     "execution_count": 43,
     "metadata": {},
     "output_type": "execute_result"
    }
   ],
   "source": [
    "india_rainfall_data.rename(columns={'SUBDIVISION': 'state'},inplace=True)\n",
    "india_rainfall_data.head()"
   ]
  },
  {
   "cell_type": "code",
   "execution_count": 44,
   "id": "b128287d",
   "metadata": {
    "execution": {
     "iopub.execute_input": "2023-02-10T22:43:06.222720Z",
     "iopub.status.busy": "2023-02-10T22:43:06.222109Z",
     "iopub.status.idle": "2023-02-10T22:43:06.373714Z",
     "shell.execute_reply": "2023-02-10T22:43:06.372841Z"
    },
    "papermill": {
     "duration": 0.171747,
     "end_time": "2023-02-10T22:43:06.375606",
     "exception": false,
     "start_time": "2023-02-10T22:43:06.203859",
     "status": "completed"
    },
    "tags": []
   },
   "outputs": [
    {
     "name": "stderr",
     "output_type": "stream",
     "text": [
      "/opt/conda/lib/python3.7/site-packages/ipykernel_launcher.py:5: FutureWarning: Dropping of nuisance columns in DataFrame reductions (with 'numeric_only=None') is deprecated; in a future version this will raise TypeError.  Select only valid columns before calling the reduction.\n",
      "  \"\"\"\n"
     ]
    },
    {
     "data": {
      "text/html": [
       "<div>\n",
       "<style scoped>\n",
       "    .dataframe tbody tr th:only-of-type {\n",
       "        vertical-align: middle;\n",
       "    }\n",
       "\n",
       "    .dataframe tbody tr th {\n",
       "        vertical-align: top;\n",
       "    }\n",
       "\n",
       "    .dataframe thead th {\n",
       "        text-align: right;\n",
       "    }\n",
       "</style>\n",
       "<table border=\"1\" class=\"dataframe\">\n",
       "  <thead>\n",
       "    <tr style=\"text-align: right;\">\n",
       "      <th></th>\n",
       "      <th>state</th>\n",
       "      <th>YEAR</th>\n",
       "      <th>JAN_x</th>\n",
       "      <th>FEB_x</th>\n",
       "      <th>MAR_x</th>\n",
       "      <th>APR_x</th>\n",
       "      <th>MAY_x</th>\n",
       "      <th>JUN_x</th>\n",
       "      <th>JUL_x</th>\n",
       "      <th>AUG_x</th>\n",
       "      <th>...</th>\n",
       "      <th>Jun-Sep_y</th>\n",
       "      <th>Oct-Dec_y</th>\n",
       "      <th>district_y</th>\n",
       "      <th>market</th>\n",
       "      <th>commodity</th>\n",
       "      <th>variety</th>\n",
       "      <th>arrival_date</th>\n",
       "      <th>min_price</th>\n",
       "      <th>max_price</th>\n",
       "      <th>modal_price</th>\n",
       "    </tr>\n",
       "  </thead>\n",
       "  <tbody>\n",
       "    <tr>\n",
       "      <th>0</th>\n",
       "      <td>ANDAMAN &amp; NICOBAR ISLANDS</td>\n",
       "      <td>1901.0</td>\n",
       "      <td>49.2</td>\n",
       "      <td>87.1</td>\n",
       "      <td>29.2</td>\n",
       "      <td>2.3</td>\n",
       "      <td>528.8</td>\n",
       "      <td>517.5</td>\n",
       "      <td>365.1</td>\n",
       "      <td>481.1</td>\n",
       "      <td>...</td>\n",
       "      <td>1007.78413</td>\n",
       "      <td>207.296242</td>\n",
       "      <td>NaN</td>\n",
       "      <td>NaN</td>\n",
       "      <td>NaN</td>\n",
       "      <td>NaN</td>\n",
       "      <td>NaN</td>\n",
       "      <td>2456.230563</td>\n",
       "      <td>2855.890527</td>\n",
       "      <td>2698.865952</td>\n",
       "    </tr>\n",
       "    <tr>\n",
       "      <th>1</th>\n",
       "      <td>ANDAMAN &amp; NICOBAR ISLANDS</td>\n",
       "      <td>1902.0</td>\n",
       "      <td>0.0</td>\n",
       "      <td>159.8</td>\n",
       "      <td>12.2</td>\n",
       "      <td>0.0</td>\n",
       "      <td>446.1</td>\n",
       "      <td>537.1</td>\n",
       "      <td>228.9</td>\n",
       "      <td>753.7</td>\n",
       "      <td>...</td>\n",
       "      <td>1007.78413</td>\n",
       "      <td>207.296242</td>\n",
       "      <td>NaN</td>\n",
       "      <td>NaN</td>\n",
       "      <td>NaN</td>\n",
       "      <td>NaN</td>\n",
       "      <td>NaN</td>\n",
       "      <td>2456.230563</td>\n",
       "      <td>2855.890527</td>\n",
       "      <td>2698.865952</td>\n",
       "    </tr>\n",
       "    <tr>\n",
       "      <th>2</th>\n",
       "      <td>ANDAMAN &amp; NICOBAR ISLANDS</td>\n",
       "      <td>1903.0</td>\n",
       "      <td>12.7</td>\n",
       "      <td>144.0</td>\n",
       "      <td>0.0</td>\n",
       "      <td>1.0</td>\n",
       "      <td>235.1</td>\n",
       "      <td>479.9</td>\n",
       "      <td>728.4</td>\n",
       "      <td>326.7</td>\n",
       "      <td>...</td>\n",
       "      <td>1007.78413</td>\n",
       "      <td>207.296242</td>\n",
       "      <td>NaN</td>\n",
       "      <td>NaN</td>\n",
       "      <td>NaN</td>\n",
       "      <td>NaN</td>\n",
       "      <td>NaN</td>\n",
       "      <td>2456.230563</td>\n",
       "      <td>2855.890527</td>\n",
       "      <td>2698.865952</td>\n",
       "    </tr>\n",
       "    <tr>\n",
       "      <th>3</th>\n",
       "      <td>ANDAMAN &amp; NICOBAR ISLANDS</td>\n",
       "      <td>1904.0</td>\n",
       "      <td>9.4</td>\n",
       "      <td>14.7</td>\n",
       "      <td>0.0</td>\n",
       "      <td>202.4</td>\n",
       "      <td>304.5</td>\n",
       "      <td>495.1</td>\n",
       "      <td>502.0</td>\n",
       "      <td>160.1</td>\n",
       "      <td>...</td>\n",
       "      <td>1007.78413</td>\n",
       "      <td>207.296242</td>\n",
       "      <td>NaN</td>\n",
       "      <td>NaN</td>\n",
       "      <td>NaN</td>\n",
       "      <td>NaN</td>\n",
       "      <td>NaN</td>\n",
       "      <td>2456.230563</td>\n",
       "      <td>2855.890527</td>\n",
       "      <td>2698.865952</td>\n",
       "    </tr>\n",
       "    <tr>\n",
       "      <th>4</th>\n",
       "      <td>ANDAMAN &amp; NICOBAR ISLANDS</td>\n",
       "      <td>1905.0</td>\n",
       "      <td>1.3</td>\n",
       "      <td>0.0</td>\n",
       "      <td>3.3</td>\n",
       "      <td>26.9</td>\n",
       "      <td>279.5</td>\n",
       "      <td>628.7</td>\n",
       "      <td>368.7</td>\n",
       "      <td>330.5</td>\n",
       "      <td>...</td>\n",
       "      <td>1007.78413</td>\n",
       "      <td>207.296242</td>\n",
       "      <td>NaN</td>\n",
       "      <td>NaN</td>\n",
       "      <td>NaN</td>\n",
       "      <td>NaN</td>\n",
       "      <td>NaN</td>\n",
       "      <td>2456.230563</td>\n",
       "      <td>2855.890527</td>\n",
       "      <td>2698.865952</td>\n",
       "    </tr>\n",
       "  </tbody>\n",
       "</table>\n",
       "<p>5 rows × 45 columns</p>\n",
       "</div>"
      ],
      "text/plain": [
       "                       state    YEAR  JAN_x  FEB_x  MAR_x  APR_x  MAY_x  \\\n",
       "0  ANDAMAN & NICOBAR ISLANDS  1901.0   49.2   87.1   29.2    2.3  528.8   \n",
       "1  ANDAMAN & NICOBAR ISLANDS  1902.0    0.0  159.8   12.2    0.0  446.1   \n",
       "2  ANDAMAN & NICOBAR ISLANDS  1903.0   12.7  144.0    0.0    1.0  235.1   \n",
       "3  ANDAMAN & NICOBAR ISLANDS  1904.0    9.4   14.7    0.0  202.4  304.5   \n",
       "4  ANDAMAN & NICOBAR ISLANDS  1905.0    1.3    0.0    3.3   26.9  279.5   \n",
       "\n",
       "   JUN_x  JUL_x  AUG_x  ...   Jun-Sep_y   Oct-Dec_y  district_y  market  \\\n",
       "0  517.5  365.1  481.1  ...  1007.78413  207.296242         NaN     NaN   \n",
       "1  537.1  228.9  753.7  ...  1007.78413  207.296242         NaN     NaN   \n",
       "2  479.9  728.4  326.7  ...  1007.78413  207.296242         NaN     NaN   \n",
       "3  495.1  502.0  160.1  ...  1007.78413  207.296242         NaN     NaN   \n",
       "4  628.7  368.7  330.5  ...  1007.78413  207.296242         NaN     NaN   \n",
       "\n",
       "   commodity  variety  arrival_date    min_price    max_price  modal_price  \n",
       "0        NaN      NaN           NaN  2456.230563  2855.890527  2698.865952  \n",
       "1        NaN      NaN           NaN  2456.230563  2855.890527  2698.865952  \n",
       "2        NaN      NaN           NaN  2456.230563  2855.890527  2698.865952  \n",
       "3        NaN      NaN           NaN  2456.230563  2855.890527  2698.865952  \n",
       "4        NaN      NaN           NaN  2456.230563  2855.890527  2698.865952  \n",
       "\n",
       "[5 rows x 45 columns]"
      ]
     },
     "execution_count": 44,
     "metadata": {},
     "output_type": "execute_result"
    }
   ],
   "source": [
    "merged_dataset = pd.merge(india_rainfall_data,district_rainfall_data, on='state', how='outer')\n",
    "merged_dataset = pd.merge(merged_dataset,agriculture_related_data, on='state', how='outer')\n",
    "\n",
    "# Impute all NaN values with the mean value of each column\n",
    "merged_dataset.fillna(merged_dataset.mean(), inplace=True)\n",
    "\n",
    "# Print the head of the merged dataset\n",
    "merged_dataset.head()"
   ]
  },
  {
   "cell_type": "markdown",
   "id": "9a4febe5",
   "metadata": {
    "papermill": {
     "duration": 0.017585,
     "end_time": "2023-02-10T22:43:06.411332",
     "exception": false,
     "start_time": "2023-02-10T22:43:06.393747",
     "status": "completed"
    },
    "tags": []
   },
   "source": [
    "please"
   ]
  },
  {
   "cell_type": "code",
   "execution_count": 45,
   "id": "28151a8d",
   "metadata": {
    "execution": {
     "iopub.execute_input": "2023-02-10T22:43:06.448596Z",
     "iopub.status.busy": "2023-02-10T22:43:06.448268Z",
     "iopub.status.idle": "2023-02-10T22:43:06.462639Z",
     "shell.execute_reply": "2023-02-10T22:43:06.461332Z"
    },
    "papermill": {
     "duration": 0.035935,
     "end_time": "2023-02-10T22:43:06.465054",
     "exception": false,
     "start_time": "2023-02-10T22:43:06.429119",
     "status": "completed"
    },
    "tags": []
   },
   "outputs": [
    {
     "name": "stdout",
     "output_type": "stream",
     "text": [
      "10.616104747729675\n"
     ]
    }
   ],
   "source": [
    "missing_values_count = merged_dataset.isnull().sum()\n",
    "# how many total missing values do we have?\n",
    "total_cells = np.product(merged_dataset.shape)\n",
    "total_missing = missing_values_count.sum()\n",
    "\n",
    "# percent of data that is missing\n",
    "percent_missing = (total_missing/total_cells) * 100\n",
    "print(percent_missing)"
   ]
  },
  {
   "cell_type": "code",
   "execution_count": 46,
   "id": "939da928",
   "metadata": {
    "execution": {
     "iopub.execute_input": "2023-02-10T22:43:06.505186Z",
     "iopub.status.busy": "2023-02-10T22:43:06.504627Z",
     "iopub.status.idle": "2023-02-10T22:43:06.509979Z",
     "shell.execute_reply": "2023-02-10T22:43:06.509264Z"
    },
    "papermill": {
     "duration": 0.026795,
     "end_time": "2023-02-10T22:43:06.511608",
     "exception": false,
     "start_time": "2023-02-10T22:43:06.484813",
     "status": "completed"
    },
    "tags": []
   },
   "outputs": [
    {
     "data": {
      "text/plain": [
       "123038"
      ]
     },
     "execution_count": 46,
     "metadata": {},
     "output_type": "execute_result"
    }
   ],
   "source": [
    "total_missing"
   ]
  },
  {
   "cell_type": "code",
   "execution_count": 47,
   "id": "b29b383e",
   "metadata": {
    "execution": {
     "iopub.execute_input": "2023-02-10T22:43:06.552405Z",
     "iopub.status.busy": "2023-02-10T22:43:06.550339Z",
     "iopub.status.idle": "2023-02-10T22:43:06.557163Z",
     "shell.execute_reply": "2023-02-10T22:43:06.556391Z"
    },
    "papermill": {
     "duration": 0.028371,
     "end_time": "2023-02-10T22:43:06.558716",
     "exception": false,
     "start_time": "2023-02-10T22:43:06.530345",
     "status": "completed"
    },
    "tags": []
   },
   "outputs": [
    {
     "data": {
      "text/plain": [
       "1158975"
      ]
     },
     "execution_count": 47,
     "metadata": {},
     "output_type": "execute_result"
    }
   ],
   "source": [
    "total_cells"
   ]
  },
  {
   "cell_type": "code",
   "execution_count": 48,
   "id": "fc21dc80",
   "metadata": {
    "execution": {
     "iopub.execute_input": "2023-02-10T22:43:06.596408Z",
     "iopub.status.busy": "2023-02-10T22:43:06.596042Z",
     "iopub.status.idle": "2023-02-10T22:43:06.602632Z",
     "shell.execute_reply": "2023-02-10T22:43:06.601612Z"
    },
    "papermill": {
     "duration": 0.027541,
     "end_time": "2023-02-10T22:43:06.604441",
     "exception": false,
     "start_time": "2023-02-10T22:43:06.576900",
     "status": "completed"
    },
    "tags": []
   },
   "outputs": [
    {
     "data": {
      "text/plain": [
       "state               0\n",
       "YEAR                0\n",
       "JAN_x               0\n",
       "FEB_x               0\n",
       "MAR_x               0\n",
       "APR_x               0\n",
       "MAY_x               0\n",
       "JUN_x               0\n",
       "JUL_x               0\n",
       "AUG_x               0\n",
       "SEP_x               0\n",
       "OCT_x               0\n",
       "NOV_x               0\n",
       "DEC_x               0\n",
       "ANNUAL_x            0\n",
       "Jan-Feb_x           0\n",
       "Mar-May_x           0\n",
       "Jun-Sep_x           0\n",
       "Oct-Dec_x           0\n",
       "district_x       5453\n",
       "JAN_y               0\n",
       "FEB_y               0\n",
       "MAR_y               0\n",
       "APR_y               0\n",
       "MAY_y               0\n",
       "JUN_y               0\n",
       "JUL_y               0\n",
       "AUG_y               0\n",
       "SEP_y               0\n",
       "OCT_y               0\n",
       "NOV_y               0\n",
       "DEC_y               0\n",
       "ANNUAL_y            0\n",
       "Jan-Feb_y           0\n",
       "Mar-May_y           0\n",
       "Jun-Sep_y           0\n",
       "Oct-Dec_y           0\n",
       "district_y      23517\n",
       "market          23517\n",
       "commodity       23517\n",
       "variety         23517\n",
       "arrival_date    23517\n",
       "min_price           0\n",
       "max_price           0\n",
       "modal_price         0\n",
       "dtype: int64"
      ]
     },
     "execution_count": 48,
     "metadata": {},
     "output_type": "execute_result"
    }
   ],
   "source": [
    "missing_values_count"
   ]
  },
  {
   "cell_type": "code",
   "execution_count": 49,
   "id": "76a3c537",
   "metadata": {
    "execution": {
     "iopub.execute_input": "2023-02-10T22:43:06.642063Z",
     "iopub.status.busy": "2023-02-10T22:43:06.641726Z",
     "iopub.status.idle": "2023-02-10T22:43:06.656839Z",
     "shell.execute_reply": "2023-02-10T22:43:06.655917Z"
    },
    "papermill": {
     "duration": 0.036089,
     "end_time": "2023-02-10T22:43:06.658553",
     "exception": false,
     "start_time": "2023-02-10T22:43:06.622464",
     "status": "completed"
    },
    "tags": []
   },
   "outputs": [
    {
     "data": {
      "text/plain": [
       "state               0\n",
       "YEAR                0\n",
       "JAN_x               0\n",
       "FEB_x               0\n",
       "MAR_x               0\n",
       "APR_x               0\n",
       "MAY_x               0\n",
       "JUN_x               0\n",
       "JUL_x               0\n",
       "AUG_x               0\n",
       "SEP_x               0\n",
       "OCT_x               0\n",
       "NOV_x               0\n",
       "DEC_x               0\n",
       "ANNUAL_x            0\n",
       "Jan-Feb_x           0\n",
       "Mar-May_x           0\n",
       "Jun-Sep_x           0\n",
       "Oct-Dec_x           0\n",
       "district_x       5453\n",
       "JAN_y               0\n",
       "FEB_y               0\n",
       "MAR_y               0\n",
       "APR_y               0\n",
       "MAY_y               0\n",
       "JUN_y               0\n",
       "JUL_y               0\n",
       "AUG_y               0\n",
       "SEP_y               0\n",
       "OCT_y               0\n",
       "NOV_y               0\n",
       "DEC_y               0\n",
       "ANNUAL_y            0\n",
       "Jan-Feb_y           0\n",
       "Mar-May_y           0\n",
       "Jun-Sep_y           0\n",
       "Oct-Dec_y           0\n",
       "district_y      23517\n",
       "market          23517\n",
       "commodity       23517\n",
       "variety         23517\n",
       "arrival_date    23517\n",
       "min_price           0\n",
       "max_price           0\n",
       "modal_price         0\n",
       "dtype: int64"
      ]
     },
     "execution_count": 49,
     "metadata": {},
     "output_type": "execute_result"
    }
   ],
   "source": [
    "merged_dataset.isna().sum()"
   ]
  },
  {
   "cell_type": "code",
   "execution_count": 50,
   "id": "6ed9f8f6",
   "metadata": {
    "execution": {
     "iopub.execute_input": "2023-02-10T22:43:06.696553Z",
     "iopub.status.busy": "2023-02-10T22:43:06.696248Z",
     "iopub.status.idle": "2023-02-10T22:43:06.705486Z",
     "shell.execute_reply": "2023-02-10T22:43:06.704524Z"
    },
    "papermill": {
     "duration": 0.030782,
     "end_time": "2023-02-10T22:43:06.707695",
     "exception": false,
     "start_time": "2023-02-10T22:43:06.676913",
     "status": "completed"
    },
    "tags": []
   },
   "outputs": [],
   "source": [
    "df=merged_dataset.copy()\n",
    "df.drop(columns=['district_x','district_y','market','commodity','variety','arrival_date'], inplace=True)\n",
    "\n"
   ]
  },
  {
   "cell_type": "code",
   "execution_count": 51,
   "id": "2c45cb59",
   "metadata": {
    "execution": {
     "iopub.execute_input": "2023-02-10T22:43:06.746442Z",
     "iopub.status.busy": "2023-02-10T22:43:06.746131Z",
     "iopub.status.idle": "2023-02-10T22:43:06.754813Z",
     "shell.execute_reply": "2023-02-10T22:43:06.753820Z"
    },
    "papermill": {
     "duration": 0.030382,
     "end_time": "2023-02-10T22:43:06.757000",
     "exception": false,
     "start_time": "2023-02-10T22:43:06.726618",
     "status": "completed"
    },
    "tags": []
   },
   "outputs": [
    {
     "data": {
      "text/plain": [
       "0"
      ]
     },
     "execution_count": 51,
     "metadata": {},
     "output_type": "execute_result"
    }
   ],
   "source": [
    "df.isnull().sum().sum()"
   ]
  },
  {
   "cell_type": "code",
   "execution_count": 52,
   "id": "c35af247",
   "metadata": {
    "execution": {
     "iopub.execute_input": "2023-02-10T22:43:06.795585Z",
     "iopub.status.busy": "2023-02-10T22:43:06.795047Z",
     "iopub.status.idle": "2023-02-10T22:43:06.800745Z",
     "shell.execute_reply": "2023-02-10T22:43:06.799864Z"
    },
    "papermill": {
     "duration": 0.027004,
     "end_time": "2023-02-10T22:43:06.802689",
     "exception": false,
     "start_time": "2023-02-10T22:43:06.775685",
     "status": "completed"
    },
    "tags": []
   },
   "outputs": [],
   "source": [
    "y=df['state']\n",
    "X=df.drop(columns=['state'])"
   ]
  },
  {
   "cell_type": "code",
   "execution_count": 53,
   "id": "10b369a7",
   "metadata": {
    "execution": {
     "iopub.execute_input": "2023-02-10T22:43:06.840411Z",
     "iopub.status.busy": "2023-02-10T22:43:06.840094Z",
     "iopub.status.idle": "2023-02-10T22:43:06.862630Z",
     "shell.execute_reply": "2023-02-10T22:43:06.861823Z"
    },
    "papermill": {
     "duration": 0.043574,
     "end_time": "2023-02-10T22:43:06.864570",
     "exception": false,
     "start_time": "2023-02-10T22:43:06.820996",
     "status": "completed"
    },
    "tags": []
   },
   "outputs": [
    {
     "data": {
      "text/html": [
       "<div>\n",
       "<style scoped>\n",
       "    .dataframe tbody tr th:only-of-type {\n",
       "        vertical-align: middle;\n",
       "    }\n",
       "\n",
       "    .dataframe tbody tr th {\n",
       "        vertical-align: top;\n",
       "    }\n",
       "\n",
       "    .dataframe thead th {\n",
       "        text-align: right;\n",
       "    }\n",
       "</style>\n",
       "<table border=\"1\" class=\"dataframe\">\n",
       "  <thead>\n",
       "    <tr style=\"text-align: right;\">\n",
       "      <th></th>\n",
       "      <th>YEAR</th>\n",
       "      <th>JAN_x</th>\n",
       "      <th>FEB_x</th>\n",
       "      <th>MAR_x</th>\n",
       "      <th>APR_x</th>\n",
       "      <th>MAY_x</th>\n",
       "      <th>JUN_x</th>\n",
       "      <th>JUL_x</th>\n",
       "      <th>AUG_x</th>\n",
       "      <th>SEP_x</th>\n",
       "      <th>...</th>\n",
       "      <th>NOV_y</th>\n",
       "      <th>DEC_y</th>\n",
       "      <th>ANNUAL_y</th>\n",
       "      <th>Jan-Feb_y</th>\n",
       "      <th>Mar-May_y</th>\n",
       "      <th>Jun-Sep_y</th>\n",
       "      <th>Oct-Dec_y</th>\n",
       "      <th>min_price</th>\n",
       "      <th>max_price</th>\n",
       "      <th>modal_price</th>\n",
       "    </tr>\n",
       "  </thead>\n",
       "  <tbody>\n",
       "    <tr>\n",
       "      <th>0</th>\n",
       "      <td>1901.0</td>\n",
       "      <td>49.2</td>\n",
       "      <td>87.1</td>\n",
       "      <td>29.2</td>\n",
       "      <td>2.3</td>\n",
       "      <td>528.8</td>\n",
       "      <td>517.5</td>\n",
       "      <td>365.1</td>\n",
       "      <td>481.1</td>\n",
       "      <td>332.6</td>\n",
       "      <td>...</td>\n",
       "      <td>58.700837</td>\n",
       "      <td>28.529795</td>\n",
       "      <td>1427.970678</td>\n",
       "      <td>40.871239</td>\n",
       "      <td>172.019067</td>\n",
       "      <td>1007.78413</td>\n",
       "      <td>207.296242</td>\n",
       "      <td>2456.230563</td>\n",
       "      <td>2855.890527</td>\n",
       "      <td>2698.865952</td>\n",
       "    </tr>\n",
       "    <tr>\n",
       "      <th>1</th>\n",
       "      <td>1902.0</td>\n",
       "      <td>0.0</td>\n",
       "      <td>159.8</td>\n",
       "      <td>12.2</td>\n",
       "      <td>0.0</td>\n",
       "      <td>446.1</td>\n",
       "      <td>537.1</td>\n",
       "      <td>228.9</td>\n",
       "      <td>753.7</td>\n",
       "      <td>666.2</td>\n",
       "      <td>...</td>\n",
       "      <td>58.700837</td>\n",
       "      <td>28.529795</td>\n",
       "      <td>1427.970678</td>\n",
       "      <td>40.871239</td>\n",
       "      <td>172.019067</td>\n",
       "      <td>1007.78413</td>\n",
       "      <td>207.296242</td>\n",
       "      <td>2456.230563</td>\n",
       "      <td>2855.890527</td>\n",
       "      <td>2698.865952</td>\n",
       "    </tr>\n",
       "    <tr>\n",
       "      <th>2</th>\n",
       "      <td>1903.0</td>\n",
       "      <td>12.7</td>\n",
       "      <td>144.0</td>\n",
       "      <td>0.0</td>\n",
       "      <td>1.0</td>\n",
       "      <td>235.1</td>\n",
       "      <td>479.9</td>\n",
       "      <td>728.4</td>\n",
       "      <td>326.7</td>\n",
       "      <td>339.0</td>\n",
       "      <td>...</td>\n",
       "      <td>58.700837</td>\n",
       "      <td>28.529795</td>\n",
       "      <td>1427.970678</td>\n",
       "      <td>40.871239</td>\n",
       "      <td>172.019067</td>\n",
       "      <td>1007.78413</td>\n",
       "      <td>207.296242</td>\n",
       "      <td>2456.230563</td>\n",
       "      <td>2855.890527</td>\n",
       "      <td>2698.865952</td>\n",
       "    </tr>\n",
       "    <tr>\n",
       "      <th>3</th>\n",
       "      <td>1904.0</td>\n",
       "      <td>9.4</td>\n",
       "      <td>14.7</td>\n",
       "      <td>0.0</td>\n",
       "      <td>202.4</td>\n",
       "      <td>304.5</td>\n",
       "      <td>495.1</td>\n",
       "      <td>502.0</td>\n",
       "      <td>160.1</td>\n",
       "      <td>820.4</td>\n",
       "      <td>...</td>\n",
       "      <td>58.700837</td>\n",
       "      <td>28.529795</td>\n",
       "      <td>1427.970678</td>\n",
       "      <td>40.871239</td>\n",
       "      <td>172.019067</td>\n",
       "      <td>1007.78413</td>\n",
       "      <td>207.296242</td>\n",
       "      <td>2456.230563</td>\n",
       "      <td>2855.890527</td>\n",
       "      <td>2698.865952</td>\n",
       "    </tr>\n",
       "    <tr>\n",
       "      <th>4</th>\n",
       "      <td>1905.0</td>\n",
       "      <td>1.3</td>\n",
       "      <td>0.0</td>\n",
       "      <td>3.3</td>\n",
       "      <td>26.9</td>\n",
       "      <td>279.5</td>\n",
       "      <td>628.7</td>\n",
       "      <td>368.7</td>\n",
       "      <td>330.5</td>\n",
       "      <td>297.0</td>\n",
       "      <td>...</td>\n",
       "      <td>58.700837</td>\n",
       "      <td>28.529795</td>\n",
       "      <td>1427.970678</td>\n",
       "      <td>40.871239</td>\n",
       "      <td>172.019067</td>\n",
       "      <td>1007.78413</td>\n",
       "      <td>207.296242</td>\n",
       "      <td>2456.230563</td>\n",
       "      <td>2855.890527</td>\n",
       "      <td>2698.865952</td>\n",
       "    </tr>\n",
       "  </tbody>\n",
       "</table>\n",
       "<p>5 rows × 38 columns</p>\n",
       "</div>"
      ],
      "text/plain": [
       "     YEAR  JAN_x  FEB_x  MAR_x  APR_x  MAY_x  JUN_x  JUL_x  AUG_x  SEP_x  ...  \\\n",
       "0  1901.0   49.2   87.1   29.2    2.3  528.8  517.5  365.1  481.1  332.6  ...   \n",
       "1  1902.0    0.0  159.8   12.2    0.0  446.1  537.1  228.9  753.7  666.2  ...   \n",
       "2  1903.0   12.7  144.0    0.0    1.0  235.1  479.9  728.4  326.7  339.0  ...   \n",
       "3  1904.0    9.4   14.7    0.0  202.4  304.5  495.1  502.0  160.1  820.4  ...   \n",
       "4  1905.0    1.3    0.0    3.3   26.9  279.5  628.7  368.7  330.5  297.0  ...   \n",
       "\n",
       "       NOV_y      DEC_y     ANNUAL_y  Jan-Feb_y   Mar-May_y   Jun-Sep_y  \\\n",
       "0  58.700837  28.529795  1427.970678  40.871239  172.019067  1007.78413   \n",
       "1  58.700837  28.529795  1427.970678  40.871239  172.019067  1007.78413   \n",
       "2  58.700837  28.529795  1427.970678  40.871239  172.019067  1007.78413   \n",
       "3  58.700837  28.529795  1427.970678  40.871239  172.019067  1007.78413   \n",
       "4  58.700837  28.529795  1427.970678  40.871239  172.019067  1007.78413   \n",
       "\n",
       "    Oct-Dec_y    min_price    max_price  modal_price  \n",
       "0  207.296242  2456.230563  2855.890527  2698.865952  \n",
       "1  207.296242  2456.230563  2855.890527  2698.865952  \n",
       "2  207.296242  2456.230563  2855.890527  2698.865952  \n",
       "3  207.296242  2456.230563  2855.890527  2698.865952  \n",
       "4  207.296242  2456.230563  2855.890527  2698.865952  \n",
       "\n",
       "[5 rows x 38 columns]"
      ]
     },
     "execution_count": 53,
     "metadata": {},
     "output_type": "execute_result"
    }
   ],
   "source": [
    "X.head()"
   ]
  },
  {
   "cell_type": "code",
   "execution_count": 54,
   "id": "cb92ea53",
   "metadata": {
    "execution": {
     "iopub.execute_input": "2023-02-10T22:43:06.904518Z",
     "iopub.status.busy": "2023-02-10T22:43:06.903889Z",
     "iopub.status.idle": "2023-02-10T22:43:13.028043Z",
     "shell.execute_reply": "2023-02-10T22:43:13.026104Z"
    },
    "papermill": {
     "duration": 6.146216,
     "end_time": "2023-02-10T22:43:13.030173",
     "exception": false,
     "start_time": "2023-02-10T22:43:06.883957",
     "status": "completed"
    },
    "tags": []
   },
   "outputs": [
    {
     "name": "stdout",
     "output_type": "stream",
     "text": [
      "Accuracy: 0.8953601242477189\n"
     ]
    }
   ],
   "source": [
    "from sklearn.ensemble import RandomForestClassifier\n",
    "from xgboost import XGBClassifier\n",
    "from sklearn.model_selection import train_test_split\n",
    "from sklearn.metrics import accuracy_score\n",
    "X_train, X_test, y_train, y_test = train_test_split(X, y, test_size=0.2, random_state=0)\n",
    "clf = RandomForestClassifier()\n",
    "model=XGBClassifier()\n",
    "clf.fit(X_train, y_train)\n",
    "# Predict the target values of the test set\n",
    "y_pred = clf.predict(X_test)\n",
    "\n",
    "# Calculate the accuracy of the model\n",
    "accuracy = accuracy_score(y_test, y_pred)\n",
    "print(\"Accuracy:\", accuracy)"
   ]
  },
  {
   "cell_type": "code",
   "execution_count": null,
   "id": "e3cc4206",
   "metadata": {
    "papermill": {
     "duration": 0.019861,
     "end_time": "2023-02-10T22:43:13.070052",
     "exception": false,
     "start_time": "2023-02-10T22:43:13.050191",
     "status": "completed"
    },
    "tags": []
   },
   "outputs": [],
   "source": []
  }
 ],
 "metadata": {
  "kernelspec": {
   "display_name": "Python 3",
   "language": "python",
   "name": "python3"
  },
  "language_info": {
   "codemirror_mode": {
    "name": "ipython",
    "version": 3
   },
   "file_extension": ".py",
   "mimetype": "text/x-python",
   "name": "python",
   "nbconvert_exporter": "python",
   "pygments_lexer": "ipython3",
   "version": "3.7.12"
  },
  "papermill": {
   "default_parameters": {},
   "duration": 16.90284,
   "end_time": "2023-02-10T22:43:13.809899",
   "environment_variables": {},
   "exception": null,
   "input_path": "__notebook__.ipynb",
   "output_path": "__notebook__.ipynb",
   "parameters": {},
   "start_time": "2023-02-10T22:42:56.907059",
   "version": "2.3.4"
  }
 },
 "nbformat": 4,
 "nbformat_minor": 5
}
