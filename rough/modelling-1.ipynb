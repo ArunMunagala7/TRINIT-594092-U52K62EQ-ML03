{
 "cells": [
  {
   "cell_type": "code",
   "execution_count": 1,
   "id": "dad66fae",
   "metadata": {
    "_cell_guid": "b1076dfc-b9ad-4769-8c92-a6c4dae69d19",
    "_uuid": "8f2839f25d086af736a60e9eeb907d3b93b6e0e5",
    "execution": {
     "iopub.execute_input": "2023-02-10T23:21:47.502430Z",
     "iopub.status.busy": "2023-02-10T23:21:47.501967Z",
     "iopub.status.idle": "2023-02-10T23:21:47.543286Z",
     "shell.execute_reply": "2023-02-10T23:21:47.541929Z"
    },
    "papermill": {
     "duration": 0.066928,
     "end_time": "2023-02-10T23:21:47.546892",
     "exception": false,
     "start_time": "2023-02-10T23:21:47.479964",
     "status": "completed"
    },
    "scrolled": true,
    "tags": []
   },
   "outputs": [
    {
     "name": "stdout",
     "output_type": "stream",
     "text": [
      "/kaggle/input/crop-recommendation-dataset/Crop_recommendation.csv\n",
      "/kaggle/input/historicalweatherdataforindiancities/Temperature_And_Precipitation_Cities_IN/Lucknow_1990_2022.csv\n",
      "/kaggle/input/historicalweatherdataforindiancities/Temperature_And_Precipitation_Cities_IN/Delhi_NCR_1990_2022_Safdarjung.csv\n",
      "/kaggle/input/historicalweatherdataforindiancities/Temperature_And_Precipitation_Cities_IN/weather_Rourkela_2021_2022.csv\n",
      "/kaggle/input/historicalweatherdataforindiancities/Temperature_And_Precipitation_Cities_IN/Chennai_1990_2022_Madras.csv\n",
      "/kaggle/input/historicalweatherdataforindiancities/Temperature_And_Precipitation_Cities_IN/Rajasthan_1990_2022_Jodhpur.csv\n",
      "/kaggle/input/historicalweatherdataforindiancities/Temperature_And_Precipitation_Cities_IN/Bangalore_1990_2022_BangaloreCity.csv\n",
      "/kaggle/input/historicalweatherdataforindiancities/Temperature_And_Precipitation_Cities_IN/Station_GeoLocation_Longitute_Latitude_Elevation_EPSG_4326.csv\n",
      "/kaggle/input/historicalweatherdataforindiancities/Temperature_And_Precipitation_Cities_IN/Mumbai_1990_2022_Santacruz.csv\n",
      "/kaggle/input/historicalweatherdataforindiancities/Temperature_And_Precipitation_Cities_IN/weather_Bhubhneshwar_1990_2022.csv\n",
      "/kaggle/input/rainfall-in-india/rainfall in india 1901-2015.csv\n",
      "/kaggle/input/rainfall-in-india/district wise rainfall normal.csv\n",
      "/kaggle/input/all-agriculture-related-datasets-for-india/csv\n"
     ]
    }
   ],
   "source": [
    "# This Python 3 environment comes with many helpful analytics libraries installed\n",
    "# It is defined by the kaggle/python Docker image: https://github.com/kaggle/docker-python\n",
    "# For example, here's several helpful packages to load\n",
    "\n",
    "import numpy as np # linear algebra\n",
    "import pandas as pd # data processing, CSV file I/O (e.g. pd.read_csv)\n",
    "\n",
    "# Input data files are available in the read-only \"../input/\" directory\n",
    "# For example, running this (by clicking run or pressing Shift+Enter) will list all files under the input directory\n",
    "\n",
    "import os\n",
    "for dirname, _, filenames in os.walk('/kaggle/input'):\n",
    "    for filename in filenames:\n",
    "        print(os.path.join(dirname, filename))\n",
    "\n",
    "# You can write up to 20GB to the current directory (/kaggle/working/) that gets preserved as output when you create a version using \"Save & Run All\" \n",
    "# You can also write temporary files to /kaggle/temp/, but they won't be saved outside of the current session"
   ]
  },
  {
   "cell_type": "markdown",
   "id": "8ed104a7",
   "metadata": {
    "papermill": {
     "duration": 0.018028,
     "end_time": "2023-02-10T23:21:47.584100",
     "exception": false,
     "start_time": "2023-02-10T23:21:47.566072",
     "status": "completed"
    },
    "tags": []
   },
   "source": [
    "extracting the rainfall data and viewing the features accordingly"
   ]
  },
  {
   "cell_type": "code",
   "execution_count": 2,
   "id": "a8461194",
   "metadata": {
    "execution": {
     "iopub.execute_input": "2023-02-10T23:21:47.623665Z",
     "iopub.status.busy": "2023-02-10T23:21:47.622992Z",
     "iopub.status.idle": "2023-02-10T23:21:47.669194Z",
     "shell.execute_reply": "2023-02-10T23:21:47.668178Z"
    },
    "papermill": {
     "duration": 0.069102,
     "end_time": "2023-02-10T23:21:47.671627",
     "exception": false,
     "start_time": "2023-02-10T23:21:47.602525",
     "status": "completed"
    },
    "tags": []
   },
   "outputs": [],
   "source": [
    "district_rainfall_data=pd.read_csv('/kaggle/input/rainfall-in-india/district wise rainfall normal.csv')\n",
    "india_rainfall_data=pd.read_csv('/kaggle/input/rainfall-in-india/rainfall in india 1901-2015.csv')"
   ]
  },
  {
   "cell_type": "code",
   "execution_count": 3,
   "id": "f92d3ada",
   "metadata": {
    "execution": {
     "iopub.execute_input": "2023-02-10T23:21:47.710286Z",
     "iopub.status.busy": "2023-02-10T23:21:47.709490Z",
     "iopub.status.idle": "2023-02-10T23:21:47.745998Z",
     "shell.execute_reply": "2023-02-10T23:21:47.744725Z"
    },
    "papermill": {
     "duration": 0.058446,
     "end_time": "2023-02-10T23:21:47.748633",
     "exception": false,
     "start_time": "2023-02-10T23:21:47.690187",
     "status": "completed"
    },
    "tags": []
   },
   "outputs": [
    {
     "data": {
      "text/html": [
       "<div>\n",
       "<style scoped>\n",
       "    .dataframe tbody tr th:only-of-type {\n",
       "        vertical-align: middle;\n",
       "    }\n",
       "\n",
       "    .dataframe tbody tr th {\n",
       "        vertical-align: top;\n",
       "    }\n",
       "\n",
       "    .dataframe thead th {\n",
       "        text-align: right;\n",
       "    }\n",
       "</style>\n",
       "<table border=\"1\" class=\"dataframe\">\n",
       "  <thead>\n",
       "    <tr style=\"text-align: right;\">\n",
       "      <th></th>\n",
       "      <th>STATE_UT_NAME</th>\n",
       "      <th>DISTRICT</th>\n",
       "      <th>JAN</th>\n",
       "      <th>FEB</th>\n",
       "      <th>MAR</th>\n",
       "      <th>APR</th>\n",
       "      <th>MAY</th>\n",
       "      <th>JUN</th>\n",
       "      <th>JUL</th>\n",
       "      <th>AUG</th>\n",
       "      <th>SEP</th>\n",
       "      <th>OCT</th>\n",
       "      <th>NOV</th>\n",
       "      <th>DEC</th>\n",
       "      <th>ANNUAL</th>\n",
       "      <th>Jan-Feb</th>\n",
       "      <th>Mar-May</th>\n",
       "      <th>Jun-Sep</th>\n",
       "      <th>Oct-Dec</th>\n",
       "    </tr>\n",
       "  </thead>\n",
       "  <tbody>\n",
       "    <tr>\n",
       "      <th>0</th>\n",
       "      <td>ANDAMAN And NICOBAR ISLANDS</td>\n",
       "      <td>NICOBAR</td>\n",
       "      <td>107.3</td>\n",
       "      <td>57.9</td>\n",
       "      <td>65.2</td>\n",
       "      <td>117.0</td>\n",
       "      <td>358.5</td>\n",
       "      <td>295.5</td>\n",
       "      <td>285.0</td>\n",
       "      <td>271.9</td>\n",
       "      <td>354.8</td>\n",
       "      <td>326.0</td>\n",
       "      <td>315.2</td>\n",
       "      <td>250.9</td>\n",
       "      <td>2805.2</td>\n",
       "      <td>165.2</td>\n",
       "      <td>540.7</td>\n",
       "      <td>1207.2</td>\n",
       "      <td>892.1</td>\n",
       "    </tr>\n",
       "    <tr>\n",
       "      <th>1</th>\n",
       "      <td>ANDAMAN And NICOBAR ISLANDS</td>\n",
       "      <td>SOUTH ANDAMAN</td>\n",
       "      <td>43.7</td>\n",
       "      <td>26.0</td>\n",
       "      <td>18.6</td>\n",
       "      <td>90.5</td>\n",
       "      <td>374.4</td>\n",
       "      <td>457.2</td>\n",
       "      <td>421.3</td>\n",
       "      <td>423.1</td>\n",
       "      <td>455.6</td>\n",
       "      <td>301.2</td>\n",
       "      <td>275.8</td>\n",
       "      <td>128.3</td>\n",
       "      <td>3015.7</td>\n",
       "      <td>69.7</td>\n",
       "      <td>483.5</td>\n",
       "      <td>1757.2</td>\n",
       "      <td>705.3</td>\n",
       "    </tr>\n",
       "    <tr>\n",
       "      <th>2</th>\n",
       "      <td>ANDAMAN And NICOBAR ISLANDS</td>\n",
       "      <td>N &amp; M ANDAMAN</td>\n",
       "      <td>32.7</td>\n",
       "      <td>15.9</td>\n",
       "      <td>8.6</td>\n",
       "      <td>53.4</td>\n",
       "      <td>343.6</td>\n",
       "      <td>503.3</td>\n",
       "      <td>465.4</td>\n",
       "      <td>460.9</td>\n",
       "      <td>454.8</td>\n",
       "      <td>276.1</td>\n",
       "      <td>198.6</td>\n",
       "      <td>100.0</td>\n",
       "      <td>2913.3</td>\n",
       "      <td>48.6</td>\n",
       "      <td>405.6</td>\n",
       "      <td>1884.4</td>\n",
       "      <td>574.7</td>\n",
       "    </tr>\n",
       "    <tr>\n",
       "      <th>3</th>\n",
       "      <td>ARUNACHAL PRADESH</td>\n",
       "      <td>LOHIT</td>\n",
       "      <td>42.2</td>\n",
       "      <td>80.8</td>\n",
       "      <td>176.4</td>\n",
       "      <td>358.5</td>\n",
       "      <td>306.4</td>\n",
       "      <td>447.0</td>\n",
       "      <td>660.1</td>\n",
       "      <td>427.8</td>\n",
       "      <td>313.6</td>\n",
       "      <td>167.1</td>\n",
       "      <td>34.1</td>\n",
       "      <td>29.8</td>\n",
       "      <td>3043.8</td>\n",
       "      <td>123.0</td>\n",
       "      <td>841.3</td>\n",
       "      <td>1848.5</td>\n",
       "      <td>231.0</td>\n",
       "    </tr>\n",
       "    <tr>\n",
       "      <th>4</th>\n",
       "      <td>ARUNACHAL PRADESH</td>\n",
       "      <td>EAST SIANG</td>\n",
       "      <td>33.3</td>\n",
       "      <td>79.5</td>\n",
       "      <td>105.9</td>\n",
       "      <td>216.5</td>\n",
       "      <td>323.0</td>\n",
       "      <td>738.3</td>\n",
       "      <td>990.9</td>\n",
       "      <td>711.2</td>\n",
       "      <td>568.0</td>\n",
       "      <td>206.9</td>\n",
       "      <td>29.5</td>\n",
       "      <td>31.7</td>\n",
       "      <td>4034.7</td>\n",
       "      <td>112.8</td>\n",
       "      <td>645.4</td>\n",
       "      <td>3008.4</td>\n",
       "      <td>268.1</td>\n",
       "    </tr>\n",
       "  </tbody>\n",
       "</table>\n",
       "</div>"
      ],
      "text/plain": [
       "                 STATE_UT_NAME       DISTRICT    JAN   FEB    MAR    APR  \\\n",
       "0  ANDAMAN And NICOBAR ISLANDS        NICOBAR  107.3  57.9   65.2  117.0   \n",
       "1  ANDAMAN And NICOBAR ISLANDS  SOUTH ANDAMAN   43.7  26.0   18.6   90.5   \n",
       "2  ANDAMAN And NICOBAR ISLANDS  N & M ANDAMAN   32.7  15.9    8.6   53.4   \n",
       "3            ARUNACHAL PRADESH          LOHIT   42.2  80.8  176.4  358.5   \n",
       "4            ARUNACHAL PRADESH     EAST SIANG   33.3  79.5  105.9  216.5   \n",
       "\n",
       "     MAY    JUN    JUL    AUG    SEP    OCT    NOV    DEC  ANNUAL  Jan-Feb  \\\n",
       "0  358.5  295.5  285.0  271.9  354.8  326.0  315.2  250.9  2805.2    165.2   \n",
       "1  374.4  457.2  421.3  423.1  455.6  301.2  275.8  128.3  3015.7     69.7   \n",
       "2  343.6  503.3  465.4  460.9  454.8  276.1  198.6  100.0  2913.3     48.6   \n",
       "3  306.4  447.0  660.1  427.8  313.6  167.1   34.1   29.8  3043.8    123.0   \n",
       "4  323.0  738.3  990.9  711.2  568.0  206.9   29.5   31.7  4034.7    112.8   \n",
       "\n",
       "   Mar-May  Jun-Sep  Oct-Dec  \n",
       "0    540.7   1207.2    892.1  \n",
       "1    483.5   1757.2    705.3  \n",
       "2    405.6   1884.4    574.7  \n",
       "3    841.3   1848.5    231.0  \n",
       "4    645.4   3008.4    268.1  "
      ]
     },
     "execution_count": 3,
     "metadata": {},
     "output_type": "execute_result"
    }
   ],
   "source": [
    "district_rainfall_data.head()"
   ]
  },
  {
   "cell_type": "code",
   "execution_count": 4,
   "id": "ba9ea96c",
   "metadata": {
    "execution": {
     "iopub.execute_input": "2023-02-10T23:21:47.788689Z",
     "iopub.status.busy": "2023-02-10T23:21:47.787677Z",
     "iopub.status.idle": "2023-02-10T23:21:47.815847Z",
     "shell.execute_reply": "2023-02-10T23:21:47.814551Z"
    },
    "papermill": {
     "duration": 0.050647,
     "end_time": "2023-02-10T23:21:47.818254",
     "exception": false,
     "start_time": "2023-02-10T23:21:47.767607",
     "status": "completed"
    },
    "tags": []
   },
   "outputs": [
    {
     "data": {
      "text/html": [
       "<div>\n",
       "<style scoped>\n",
       "    .dataframe tbody tr th:only-of-type {\n",
       "        vertical-align: middle;\n",
       "    }\n",
       "\n",
       "    .dataframe tbody tr th {\n",
       "        vertical-align: top;\n",
       "    }\n",
       "\n",
       "    .dataframe thead th {\n",
       "        text-align: right;\n",
       "    }\n",
       "</style>\n",
       "<table border=\"1\" class=\"dataframe\">\n",
       "  <thead>\n",
       "    <tr style=\"text-align: right;\">\n",
       "      <th></th>\n",
       "      <th>SUBDIVISION</th>\n",
       "      <th>YEAR</th>\n",
       "      <th>JAN</th>\n",
       "      <th>FEB</th>\n",
       "      <th>MAR</th>\n",
       "      <th>APR</th>\n",
       "      <th>MAY</th>\n",
       "      <th>JUN</th>\n",
       "      <th>JUL</th>\n",
       "      <th>AUG</th>\n",
       "      <th>SEP</th>\n",
       "      <th>OCT</th>\n",
       "      <th>NOV</th>\n",
       "      <th>DEC</th>\n",
       "      <th>ANNUAL</th>\n",
       "      <th>Jan-Feb</th>\n",
       "      <th>Mar-May</th>\n",
       "      <th>Jun-Sep</th>\n",
       "      <th>Oct-Dec</th>\n",
       "    </tr>\n",
       "  </thead>\n",
       "  <tbody>\n",
       "    <tr>\n",
       "      <th>0</th>\n",
       "      <td>ANDAMAN &amp; NICOBAR ISLANDS</td>\n",
       "      <td>1901</td>\n",
       "      <td>49.2</td>\n",
       "      <td>87.1</td>\n",
       "      <td>29.2</td>\n",
       "      <td>2.3</td>\n",
       "      <td>528.8</td>\n",
       "      <td>517.5</td>\n",
       "      <td>365.1</td>\n",
       "      <td>481.1</td>\n",
       "      <td>332.6</td>\n",
       "      <td>388.5</td>\n",
       "      <td>558.2</td>\n",
       "      <td>33.6</td>\n",
       "      <td>3373.2</td>\n",
       "      <td>136.3</td>\n",
       "      <td>560.3</td>\n",
       "      <td>1696.3</td>\n",
       "      <td>980.3</td>\n",
       "    </tr>\n",
       "    <tr>\n",
       "      <th>1</th>\n",
       "      <td>ANDAMAN &amp; NICOBAR ISLANDS</td>\n",
       "      <td>1902</td>\n",
       "      <td>0.0</td>\n",
       "      <td>159.8</td>\n",
       "      <td>12.2</td>\n",
       "      <td>0.0</td>\n",
       "      <td>446.1</td>\n",
       "      <td>537.1</td>\n",
       "      <td>228.9</td>\n",
       "      <td>753.7</td>\n",
       "      <td>666.2</td>\n",
       "      <td>197.2</td>\n",
       "      <td>359.0</td>\n",
       "      <td>160.5</td>\n",
       "      <td>3520.7</td>\n",
       "      <td>159.8</td>\n",
       "      <td>458.3</td>\n",
       "      <td>2185.9</td>\n",
       "      <td>716.7</td>\n",
       "    </tr>\n",
       "    <tr>\n",
       "      <th>2</th>\n",
       "      <td>ANDAMAN &amp; NICOBAR ISLANDS</td>\n",
       "      <td>1903</td>\n",
       "      <td>12.7</td>\n",
       "      <td>144.0</td>\n",
       "      <td>0.0</td>\n",
       "      <td>1.0</td>\n",
       "      <td>235.1</td>\n",
       "      <td>479.9</td>\n",
       "      <td>728.4</td>\n",
       "      <td>326.7</td>\n",
       "      <td>339.0</td>\n",
       "      <td>181.2</td>\n",
       "      <td>284.4</td>\n",
       "      <td>225.0</td>\n",
       "      <td>2957.4</td>\n",
       "      <td>156.7</td>\n",
       "      <td>236.1</td>\n",
       "      <td>1874.0</td>\n",
       "      <td>690.6</td>\n",
       "    </tr>\n",
       "    <tr>\n",
       "      <th>3</th>\n",
       "      <td>ANDAMAN &amp; NICOBAR ISLANDS</td>\n",
       "      <td>1904</td>\n",
       "      <td>9.4</td>\n",
       "      <td>14.7</td>\n",
       "      <td>0.0</td>\n",
       "      <td>202.4</td>\n",
       "      <td>304.5</td>\n",
       "      <td>495.1</td>\n",
       "      <td>502.0</td>\n",
       "      <td>160.1</td>\n",
       "      <td>820.4</td>\n",
       "      <td>222.2</td>\n",
       "      <td>308.7</td>\n",
       "      <td>40.1</td>\n",
       "      <td>3079.6</td>\n",
       "      <td>24.1</td>\n",
       "      <td>506.9</td>\n",
       "      <td>1977.6</td>\n",
       "      <td>571.0</td>\n",
       "    </tr>\n",
       "    <tr>\n",
       "      <th>4</th>\n",
       "      <td>ANDAMAN &amp; NICOBAR ISLANDS</td>\n",
       "      <td>1905</td>\n",
       "      <td>1.3</td>\n",
       "      <td>0.0</td>\n",
       "      <td>3.3</td>\n",
       "      <td>26.9</td>\n",
       "      <td>279.5</td>\n",
       "      <td>628.7</td>\n",
       "      <td>368.7</td>\n",
       "      <td>330.5</td>\n",
       "      <td>297.0</td>\n",
       "      <td>260.7</td>\n",
       "      <td>25.4</td>\n",
       "      <td>344.7</td>\n",
       "      <td>2566.7</td>\n",
       "      <td>1.3</td>\n",
       "      <td>309.7</td>\n",
       "      <td>1624.9</td>\n",
       "      <td>630.8</td>\n",
       "    </tr>\n",
       "  </tbody>\n",
       "</table>\n",
       "</div>"
      ],
      "text/plain": [
       "                 SUBDIVISION  YEAR   JAN    FEB   MAR    APR    MAY    JUN  \\\n",
       "0  ANDAMAN & NICOBAR ISLANDS  1901  49.2   87.1  29.2    2.3  528.8  517.5   \n",
       "1  ANDAMAN & NICOBAR ISLANDS  1902   0.0  159.8  12.2    0.0  446.1  537.1   \n",
       "2  ANDAMAN & NICOBAR ISLANDS  1903  12.7  144.0   0.0    1.0  235.1  479.9   \n",
       "3  ANDAMAN & NICOBAR ISLANDS  1904   9.4   14.7   0.0  202.4  304.5  495.1   \n",
       "4  ANDAMAN & NICOBAR ISLANDS  1905   1.3    0.0   3.3   26.9  279.5  628.7   \n",
       "\n",
       "     JUL    AUG    SEP    OCT    NOV    DEC  ANNUAL  Jan-Feb  Mar-May  \\\n",
       "0  365.1  481.1  332.6  388.5  558.2   33.6  3373.2    136.3    560.3   \n",
       "1  228.9  753.7  666.2  197.2  359.0  160.5  3520.7    159.8    458.3   \n",
       "2  728.4  326.7  339.0  181.2  284.4  225.0  2957.4    156.7    236.1   \n",
       "3  502.0  160.1  820.4  222.2  308.7   40.1  3079.6     24.1    506.9   \n",
       "4  368.7  330.5  297.0  260.7   25.4  344.7  2566.7      1.3    309.7   \n",
       "\n",
       "   Jun-Sep  Oct-Dec  \n",
       "0   1696.3    980.3  \n",
       "1   2185.9    716.7  \n",
       "2   1874.0    690.6  \n",
       "3   1977.6    571.0  \n",
       "4   1624.9    630.8  "
      ]
     },
     "execution_count": 4,
     "metadata": {},
     "output_type": "execute_result"
    }
   ],
   "source": [
    "india_rainfall_data.head()"
   ]
  },
  {
   "cell_type": "markdown",
   "id": "0c042019",
   "metadata": {
    "papermill": {
     "duration": 0.018576,
     "end_time": "2023-02-10T23:21:47.855520",
     "exception": false,
     "start_time": "2023-02-10T23:21:47.836944",
     "status": "completed"
    },
    "tags": []
   },
   "source": [
    "printing all the unique values in the rainfall dataset"
   ]
  },
  {
   "cell_type": "code",
   "execution_count": 5,
   "id": "2361dbf2",
   "metadata": {
    "execution": {
     "iopub.execute_input": "2023-02-10T23:21:47.895342Z",
     "iopub.status.busy": "2023-02-10T23:21:47.894659Z",
     "iopub.status.idle": "2023-02-10T23:21:47.913978Z",
     "shell.execute_reply": "2023-02-10T23:21:47.911989Z"
    },
    "papermill": {
     "duration": 0.042285,
     "end_time": "2023-02-10T23:21:47.916740",
     "exception": false,
     "start_time": "2023-02-10T23:21:47.874455",
     "status": "completed"
    },
    "tags": []
   },
   "outputs": [
    {
     "name": "stdout",
     "output_type": "stream",
     "text": [
      "['ANDAMAN & NICOBAR ISLANDS' 'ARUNACHAL PRADESH' 'ASSAM & MEGHALAYA'\n",
      " 'NAGA MANI MIZO TRIPURA' 'SUB HIMALAYAN WEST BENGAL & SIKKIM'\n",
      " 'GANGETIC WEST BENGAL' 'ORISSA' 'JHARKHAND' 'BIHAR' 'EAST UTTAR PRADESH'\n",
      " 'WEST UTTAR PRADESH' 'UTTARAKHAND' 'HARYANA DELHI & CHANDIGARH' 'PUNJAB'\n",
      " 'HIMACHAL PRADESH' 'JAMMU & KASHMIR' 'WEST RAJASTHAN' 'EAST RAJASTHAN'\n",
      " 'WEST MADHYA PRADESH' 'EAST MADHYA PRADESH' 'GUJARAT REGION'\n",
      " 'SAURASHTRA & KUTCH' 'KONKAN & GOA' 'MADHYA MAHARASHTRA' 'MATATHWADA'\n",
      " 'VIDARBHA' 'CHHATTISGARH' 'COASTAL ANDHRA PRADESH' 'TELANGANA'\n",
      " 'RAYALSEEMA' 'TAMIL NADU' 'COASTAL KARNATAKA' 'NORTH INTERIOR KARNATAKA'\n",
      " 'SOUTH INTERIOR KARNATAKA' 'KERALA' 'LAKSHADWEEP']\n"
     ]
    }
   ],
   "source": [
    "unique_values=india_rainfall_data['SUBDIVISION'].unique()\n",
    "print(unique_values)"
   ]
  },
  {
   "cell_type": "markdown",
   "id": "b80d7615",
   "metadata": {
    "papermill": {
     "duration": 0.018371,
     "end_time": "2023-02-10T23:21:47.954755",
     "exception": false,
     "start_time": "2023-02-10T23:21:47.936384",
     "status": "completed"
    },
    "tags": []
   },
   "source": [
    "checking for null values"
   ]
  },
  {
   "cell_type": "code",
   "execution_count": 6,
   "id": "d21de637",
   "metadata": {
    "execution": {
     "iopub.execute_input": "2023-02-10T23:21:47.995105Z",
     "iopub.status.busy": "2023-02-10T23:21:47.994329Z",
     "iopub.status.idle": "2023-02-10T23:21:48.001271Z",
     "shell.execute_reply": "2023-02-10T23:21:48.000342Z"
    },
    "papermill": {
     "duration": 0.029846,
     "end_time": "2023-02-10T23:21:48.003426",
     "exception": false,
     "start_time": "2023-02-10T23:21:47.973580",
     "status": "completed"
    },
    "tags": []
   },
   "outputs": [
    {
     "data": {
      "text/plain": [
       "(4116, 19)"
      ]
     },
     "execution_count": 6,
     "metadata": {},
     "output_type": "execute_result"
    }
   ],
   "source": [
    "india_rainfall_data.shape"
   ]
  },
  {
   "cell_type": "markdown",
   "id": "a5f85910",
   "metadata": {
    "papermill": {
     "duration": 0.019741,
     "end_time": "2023-02-10T23:21:48.042301",
     "exception": false,
     "start_time": "2023-02-10T23:21:48.022560",
     "status": "completed"
    },
    "tags": []
   },
   "source": [
    "checking total null values"
   ]
  },
  {
   "cell_type": "code",
   "execution_count": 7,
   "id": "fbfa1d0c",
   "metadata": {
    "execution": {
     "iopub.execute_input": "2023-02-10T23:21:48.082909Z",
     "iopub.status.busy": "2023-02-10T23:21:48.082474Z",
     "iopub.status.idle": "2023-02-10T23:21:48.092410Z",
     "shell.execute_reply": "2023-02-10T23:21:48.091371Z"
    },
    "papermill": {
     "duration": 0.033359,
     "end_time": "2023-02-10T23:21:48.094857",
     "exception": false,
     "start_time": "2023-02-10T23:21:48.061498",
     "status": "completed"
    },
    "tags": []
   },
   "outputs": [
    {
     "data": {
      "text/plain": [
       "134"
      ]
     },
     "execution_count": 7,
     "metadata": {},
     "output_type": "execute_result"
    }
   ],
   "source": [
    "india_rainfall_data.isnull().sum().sum()"
   ]
  },
  {
   "cell_type": "markdown",
   "id": "c562c7a4",
   "metadata": {
    "papermill": {
     "duration": 0.018574,
     "end_time": "2023-02-10T23:21:48.132748",
     "exception": false,
     "start_time": "2023-02-10T23:21:48.114174",
     "status": "completed"
    },
    "tags": []
   },
   "source": [
    "checking the columns that have said null values"
   ]
  },
  {
   "cell_type": "code",
   "execution_count": 8,
   "id": "4bf3cd81",
   "metadata": {
    "execution": {
     "iopub.execute_input": "2023-02-10T23:21:48.173321Z",
     "iopub.status.busy": "2023-02-10T23:21:48.172578Z",
     "iopub.status.idle": "2023-02-10T23:21:48.181988Z",
     "shell.execute_reply": "2023-02-10T23:21:48.181028Z"
    },
    "papermill": {
     "duration": 0.033368,
     "end_time": "2023-02-10T23:21:48.185167",
     "exception": false,
     "start_time": "2023-02-10T23:21:48.151799",
     "status": "completed"
    },
    "tags": []
   },
   "outputs": [
    {
     "data": {
      "text/plain": [
       "SUBDIVISION     0\n",
       "YEAR            0\n",
       "JAN             4\n",
       "FEB             3\n",
       "MAR             6\n",
       "APR             4\n",
       "MAY             3\n",
       "JUN             5\n",
       "JUL             7\n",
       "AUG             4\n",
       "SEP             6\n",
       "OCT             7\n",
       "NOV            11\n",
       "DEC            10\n",
       "ANNUAL         26\n",
       "Jan-Feb         6\n",
       "Mar-May         9\n",
       "Jun-Sep        10\n",
       "Oct-Dec        13\n",
       "dtype: int64"
      ]
     },
     "execution_count": 8,
     "metadata": {},
     "output_type": "execute_result"
    }
   ],
   "source": [
    "missing_values_count=india_rainfall_data.isnull().sum()\n",
    "missing_values_count"
   ]
  },
  {
   "cell_type": "markdown",
   "id": "14b68cad",
   "metadata": {
    "papermill": {
     "duration": 0.0225,
     "end_time": "2023-02-10T23:21:48.235112",
     "exception": false,
     "start_time": "2023-02-10T23:21:48.212612",
     "status": "completed"
    },
    "tags": []
   },
   "source": [
    "check percentage of null values"
   ]
  },
  {
   "cell_type": "code",
   "execution_count": 9,
   "id": "00b38c99",
   "metadata": {
    "execution": {
     "iopub.execute_input": "2023-02-10T23:21:48.283652Z",
     "iopub.status.busy": "2023-02-10T23:21:48.282785Z",
     "iopub.status.idle": "2023-02-10T23:21:48.289957Z",
     "shell.execute_reply": "2023-02-10T23:21:48.288735Z"
    },
    "papermill": {
     "duration": 0.030797,
     "end_time": "2023-02-10T23:21:48.292509",
     "exception": false,
     "start_time": "2023-02-10T23:21:48.261712",
     "status": "completed"
    },
    "tags": []
   },
   "outputs": [
    {
     "name": "stdout",
     "output_type": "stream",
     "text": [
      "0.17134673418239477\n"
     ]
    }
   ],
   "source": [
    "total_cells = np.product(india_rainfall_data.shape)\n",
    "total_missing = missing_values_count.sum()\n",
    "\n",
    "# percent of data that is missing\n",
    "percent_missing = (total_missing/total_cells) * 100\n",
    "print(percent_missing)"
   ]
  },
  {
   "cell_type": "markdown",
   "id": "846756f0",
   "metadata": {
    "papermill": {
     "duration": 0.01901,
     "end_time": "2023-02-10T23:21:48.331461",
     "exception": false,
     "start_time": "2023-02-10T23:21:48.312451",
     "status": "completed"
    },
    "tags": []
   },
   "source": [
    "removing all the na values"
   ]
  },
  {
   "cell_type": "code",
   "execution_count": 10,
   "id": "f3434c83",
   "metadata": {
    "execution": {
     "iopub.execute_input": "2023-02-10T23:21:48.371888Z",
     "iopub.status.busy": "2023-02-10T23:21:48.371046Z",
     "iopub.status.idle": "2023-02-10T23:21:48.387234Z",
     "shell.execute_reply": "2023-02-10T23:21:48.385909Z"
    },
    "papermill": {
     "duration": 0.039256,
     "end_time": "2023-02-10T23:21:48.389955",
     "exception": false,
     "start_time": "2023-02-10T23:21:48.350699",
     "status": "completed"
    },
    "tags": []
   },
   "outputs": [
    {
     "data": {
      "text/plain": [
       "0"
      ]
     },
     "execution_count": 10,
     "metadata": {},
     "output_type": "execute_result"
    }
   ],
   "source": [
    "rainfall_india_clean=india_rainfall_data.dropna()\n",
    "rainfall_india_clean.isnull().sum().sum()"
   ]
  },
  {
   "cell_type": "markdown",
   "id": "64599584",
   "metadata": {
    "papermill": {
     "duration": 0.018832,
     "end_time": "2023-02-10T23:21:48.428102",
     "exception": false,
     "start_time": "2023-02-10T23:21:48.409270",
     "status": "completed"
    },
    "tags": []
   },
   "source": [
    "checking Nan values"
   ]
  },
  {
   "cell_type": "code",
   "execution_count": 11,
   "id": "6c2d8948",
   "metadata": {
    "execution": {
     "iopub.execute_input": "2023-02-10T23:21:48.468518Z",
     "iopub.status.busy": "2023-02-10T23:21:48.468131Z",
     "iopub.status.idle": "2023-02-10T23:21:48.477345Z",
     "shell.execute_reply": "2023-02-10T23:21:48.476253Z"
    },
    "papermill": {
     "duration": 0.032245,
     "end_time": "2023-02-10T23:21:48.479674",
     "exception": false,
     "start_time": "2023-02-10T23:21:48.447429",
     "status": "completed"
    },
    "tags": []
   },
   "outputs": [
    {
     "data": {
      "text/plain": [
       "0"
      ]
     },
     "execution_count": 11,
     "metadata": {},
     "output_type": "execute_result"
    }
   ],
   "source": [
    "rainfall_india_clean.isna().sum().sum()"
   ]
  },
  {
   "cell_type": "markdown",
   "id": "e01c691a",
   "metadata": {
    "papermill": {
     "duration": 0.019172,
     "end_time": "2023-02-10T23:21:48.519460",
     "exception": false,
     "start_time": "2023-02-10T23:21:48.500288",
     "status": "completed"
    },
    "tags": []
   },
   "source": [
    "viewing the final rainfall clean dataset"
   ]
  },
  {
   "cell_type": "code",
   "execution_count": 12,
   "id": "c00dc1ee",
   "metadata": {
    "execution": {
     "iopub.execute_input": "2023-02-10T23:21:48.560165Z",
     "iopub.status.busy": "2023-02-10T23:21:48.559723Z",
     "iopub.status.idle": "2023-02-10T23:21:48.586120Z",
     "shell.execute_reply": "2023-02-10T23:21:48.584992Z"
    },
    "papermill": {
     "duration": 0.049666,
     "end_time": "2023-02-10T23:21:48.588566",
     "exception": false,
     "start_time": "2023-02-10T23:21:48.538900",
     "status": "completed"
    },
    "tags": []
   },
   "outputs": [
    {
     "data": {
      "text/html": [
       "<div>\n",
       "<style scoped>\n",
       "    .dataframe tbody tr th:only-of-type {\n",
       "        vertical-align: middle;\n",
       "    }\n",
       "\n",
       "    .dataframe tbody tr th {\n",
       "        vertical-align: top;\n",
       "    }\n",
       "\n",
       "    .dataframe thead th {\n",
       "        text-align: right;\n",
       "    }\n",
       "</style>\n",
       "<table border=\"1\" class=\"dataframe\">\n",
       "  <thead>\n",
       "    <tr style=\"text-align: right;\">\n",
       "      <th></th>\n",
       "      <th>SUBDIVISION</th>\n",
       "      <th>YEAR</th>\n",
       "      <th>JAN</th>\n",
       "      <th>FEB</th>\n",
       "      <th>MAR</th>\n",
       "      <th>APR</th>\n",
       "      <th>MAY</th>\n",
       "      <th>JUN</th>\n",
       "      <th>JUL</th>\n",
       "      <th>AUG</th>\n",
       "      <th>SEP</th>\n",
       "      <th>OCT</th>\n",
       "      <th>NOV</th>\n",
       "      <th>DEC</th>\n",
       "      <th>ANNUAL</th>\n",
       "      <th>Jan-Feb</th>\n",
       "      <th>Mar-May</th>\n",
       "      <th>Jun-Sep</th>\n",
       "      <th>Oct-Dec</th>\n",
       "    </tr>\n",
       "  </thead>\n",
       "  <tbody>\n",
       "    <tr>\n",
       "      <th>0</th>\n",
       "      <td>ANDAMAN &amp; NICOBAR ISLANDS</td>\n",
       "      <td>1901</td>\n",
       "      <td>49.2</td>\n",
       "      <td>87.1</td>\n",
       "      <td>29.2</td>\n",
       "      <td>2.3</td>\n",
       "      <td>528.8</td>\n",
       "      <td>517.5</td>\n",
       "      <td>365.1</td>\n",
       "      <td>481.1</td>\n",
       "      <td>332.6</td>\n",
       "      <td>388.5</td>\n",
       "      <td>558.2</td>\n",
       "      <td>33.6</td>\n",
       "      <td>3373.2</td>\n",
       "      <td>136.3</td>\n",
       "      <td>560.3</td>\n",
       "      <td>1696.3</td>\n",
       "      <td>980.3</td>\n",
       "    </tr>\n",
       "    <tr>\n",
       "      <th>1</th>\n",
       "      <td>ANDAMAN &amp; NICOBAR ISLANDS</td>\n",
       "      <td>1902</td>\n",
       "      <td>0.0</td>\n",
       "      <td>159.8</td>\n",
       "      <td>12.2</td>\n",
       "      <td>0.0</td>\n",
       "      <td>446.1</td>\n",
       "      <td>537.1</td>\n",
       "      <td>228.9</td>\n",
       "      <td>753.7</td>\n",
       "      <td>666.2</td>\n",
       "      <td>197.2</td>\n",
       "      <td>359.0</td>\n",
       "      <td>160.5</td>\n",
       "      <td>3520.7</td>\n",
       "      <td>159.8</td>\n",
       "      <td>458.3</td>\n",
       "      <td>2185.9</td>\n",
       "      <td>716.7</td>\n",
       "    </tr>\n",
       "    <tr>\n",
       "      <th>2</th>\n",
       "      <td>ANDAMAN &amp; NICOBAR ISLANDS</td>\n",
       "      <td>1903</td>\n",
       "      <td>12.7</td>\n",
       "      <td>144.0</td>\n",
       "      <td>0.0</td>\n",
       "      <td>1.0</td>\n",
       "      <td>235.1</td>\n",
       "      <td>479.9</td>\n",
       "      <td>728.4</td>\n",
       "      <td>326.7</td>\n",
       "      <td>339.0</td>\n",
       "      <td>181.2</td>\n",
       "      <td>284.4</td>\n",
       "      <td>225.0</td>\n",
       "      <td>2957.4</td>\n",
       "      <td>156.7</td>\n",
       "      <td>236.1</td>\n",
       "      <td>1874.0</td>\n",
       "      <td>690.6</td>\n",
       "    </tr>\n",
       "    <tr>\n",
       "      <th>3</th>\n",
       "      <td>ANDAMAN &amp; NICOBAR ISLANDS</td>\n",
       "      <td>1904</td>\n",
       "      <td>9.4</td>\n",
       "      <td>14.7</td>\n",
       "      <td>0.0</td>\n",
       "      <td>202.4</td>\n",
       "      <td>304.5</td>\n",
       "      <td>495.1</td>\n",
       "      <td>502.0</td>\n",
       "      <td>160.1</td>\n",
       "      <td>820.4</td>\n",
       "      <td>222.2</td>\n",
       "      <td>308.7</td>\n",
       "      <td>40.1</td>\n",
       "      <td>3079.6</td>\n",
       "      <td>24.1</td>\n",
       "      <td>506.9</td>\n",
       "      <td>1977.6</td>\n",
       "      <td>571.0</td>\n",
       "    </tr>\n",
       "    <tr>\n",
       "      <th>4</th>\n",
       "      <td>ANDAMAN &amp; NICOBAR ISLANDS</td>\n",
       "      <td>1905</td>\n",
       "      <td>1.3</td>\n",
       "      <td>0.0</td>\n",
       "      <td>3.3</td>\n",
       "      <td>26.9</td>\n",
       "      <td>279.5</td>\n",
       "      <td>628.7</td>\n",
       "      <td>368.7</td>\n",
       "      <td>330.5</td>\n",
       "      <td>297.0</td>\n",
       "      <td>260.7</td>\n",
       "      <td>25.4</td>\n",
       "      <td>344.7</td>\n",
       "      <td>2566.7</td>\n",
       "      <td>1.3</td>\n",
       "      <td>309.7</td>\n",
       "      <td>1624.9</td>\n",
       "      <td>630.8</td>\n",
       "    </tr>\n",
       "  </tbody>\n",
       "</table>\n",
       "</div>"
      ],
      "text/plain": [
       "                 SUBDIVISION  YEAR   JAN    FEB   MAR    APR    MAY    JUN  \\\n",
       "0  ANDAMAN & NICOBAR ISLANDS  1901  49.2   87.1  29.2    2.3  528.8  517.5   \n",
       "1  ANDAMAN & NICOBAR ISLANDS  1902   0.0  159.8  12.2    0.0  446.1  537.1   \n",
       "2  ANDAMAN & NICOBAR ISLANDS  1903  12.7  144.0   0.0    1.0  235.1  479.9   \n",
       "3  ANDAMAN & NICOBAR ISLANDS  1904   9.4   14.7   0.0  202.4  304.5  495.1   \n",
       "4  ANDAMAN & NICOBAR ISLANDS  1905   1.3    0.0   3.3   26.9  279.5  628.7   \n",
       "\n",
       "     JUL    AUG    SEP    OCT    NOV    DEC  ANNUAL  Jan-Feb  Mar-May  \\\n",
       "0  365.1  481.1  332.6  388.5  558.2   33.6  3373.2    136.3    560.3   \n",
       "1  228.9  753.7  666.2  197.2  359.0  160.5  3520.7    159.8    458.3   \n",
       "2  728.4  326.7  339.0  181.2  284.4  225.0  2957.4    156.7    236.1   \n",
       "3  502.0  160.1  820.4  222.2  308.7   40.1  3079.6     24.1    506.9   \n",
       "4  368.7  330.5  297.0  260.7   25.4  344.7  2566.7      1.3    309.7   \n",
       "\n",
       "   Jun-Sep  Oct-Dec  \n",
       "0   1696.3    980.3  \n",
       "1   2185.9    716.7  \n",
       "2   1874.0    690.6  \n",
       "3   1977.6    571.0  \n",
       "4   1624.9    630.8  "
      ]
     },
     "execution_count": 12,
     "metadata": {},
     "output_type": "execute_result"
    }
   ],
   "source": [
    "rainfall_india_clean.head()"
   ]
  },
  {
   "cell_type": "markdown",
   "id": "5013f6bb",
   "metadata": {
    "papermill": {
     "duration": 0.020618,
     "end_time": "2023-02-10T23:21:48.630035",
     "exception": false,
     "start_time": "2023-02-10T23:21:48.609417",
     "status": "completed"
    },
    "tags": []
   },
   "source": [
    "checking for null values in the district rainfall dataset"
   ]
  },
  {
   "cell_type": "code",
   "execution_count": 13,
   "id": "4f374c1f",
   "metadata": {
    "execution": {
     "iopub.execute_input": "2023-02-10T23:21:48.672170Z",
     "iopub.status.busy": "2023-02-10T23:21:48.671348Z",
     "iopub.status.idle": "2023-02-10T23:21:48.681143Z",
     "shell.execute_reply": "2023-02-10T23:21:48.679907Z"
    },
    "papermill": {
     "duration": 0.033461,
     "end_time": "2023-02-10T23:21:48.683473",
     "exception": false,
     "start_time": "2023-02-10T23:21:48.650012",
     "status": "completed"
    },
    "tags": []
   },
   "outputs": [
    {
     "data": {
      "text/plain": [
       "0"
      ]
     },
     "execution_count": 13,
     "metadata": {},
     "output_type": "execute_result"
    }
   ],
   "source": [
    "district_rainfall_data.isnull().sum().sum()"
   ]
  },
  {
   "cell_type": "markdown",
   "id": "79ddfcdc",
   "metadata": {
    "papermill": {
     "duration": 0.01984,
     "end_time": "2023-02-10T23:21:48.724127",
     "exception": false,
     "start_time": "2023-02-10T23:21:48.704287",
     "status": "completed"
    },
    "tags": []
   },
   "source": [
    "checking NaN values in"
   ]
  },
  {
   "cell_type": "code",
   "execution_count": 14,
   "id": "336a5910",
   "metadata": {
    "execution": {
     "iopub.execute_input": "2023-02-10T23:21:48.766811Z",
     "iopub.status.busy": "2023-02-10T23:21:48.766415Z",
     "iopub.status.idle": "2023-02-10T23:21:48.776755Z",
     "shell.execute_reply": "2023-02-10T23:21:48.775259Z"
    },
    "papermill": {
     "duration": 0.035336,
     "end_time": "2023-02-10T23:21:48.779517",
     "exception": false,
     "start_time": "2023-02-10T23:21:48.744181",
     "status": "completed"
    },
    "tags": []
   },
   "outputs": [
    {
     "data": {
      "text/plain": [
       "0"
      ]
     },
     "execution_count": 14,
     "metadata": {},
     "output_type": "execute_result"
    }
   ],
   "source": [
    "district_rainfall_data.isna().sum().sum()"
   ]
  },
  {
   "cell_type": "markdown",
   "id": "694f4808",
   "metadata": {
    "papermill": {
     "duration": 0.02018,
     "end_time": "2023-02-10T23:21:48.819872",
     "exception": false,
     "start_time": "2023-02-10T23:21:48.799692",
     "status": "completed"
    },
    "tags": []
   },
   "source": [
    "importing the crop recommendation data"
   ]
  },
  {
   "cell_type": "code",
   "execution_count": 15,
   "id": "208f481a",
   "metadata": {
    "execution": {
     "iopub.execute_input": "2023-02-10T23:21:48.862075Z",
     "iopub.status.busy": "2023-02-10T23:21:48.861651Z",
     "iopub.status.idle": "2023-02-10T23:21:48.882716Z",
     "shell.execute_reply": "2023-02-10T23:21:48.881898Z"
    },
    "papermill": {
     "duration": 0.044897,
     "end_time": "2023-02-10T23:21:48.884859",
     "exception": false,
     "start_time": "2023-02-10T23:21:48.839962",
     "status": "completed"
    },
    "tags": []
   },
   "outputs": [
    {
     "data": {
      "text/plain": [
       "0"
      ]
     },
     "execution_count": 15,
     "metadata": {},
     "output_type": "execute_result"
    }
   ],
   "source": [
    "recommendation_data=pd.read_csv('/kaggle/input/crop-recommendation-dataset/Crop_recommendation.csv')\n",
    "recommendation_data.isnull().sum().sum()"
   ]
  },
  {
   "cell_type": "markdown",
   "id": "9a79523f",
   "metadata": {
    "papermill": {
     "duration": 0.020217,
     "end_time": "2023-02-10T23:21:48.925464",
     "exception": false,
     "start_time": "2023-02-10T23:21:48.905247",
     "status": "completed"
    },
    "tags": []
   },
   "source": [
    "checking for null values"
   ]
  },
  {
   "cell_type": "code",
   "execution_count": 16,
   "id": "a3f374f0",
   "metadata": {
    "execution": {
     "iopub.execute_input": "2023-02-10T23:21:48.967346Z",
     "iopub.status.busy": "2023-02-10T23:21:48.966965Z",
     "iopub.status.idle": "2023-02-10T23:21:48.974681Z",
     "shell.execute_reply": "2023-02-10T23:21:48.973901Z"
    },
    "papermill": {
     "duration": 0.031438,
     "end_time": "2023-02-10T23:21:48.976910",
     "exception": false,
     "start_time": "2023-02-10T23:21:48.945472",
     "status": "completed"
    },
    "tags": []
   },
   "outputs": [
    {
     "data": {
      "text/plain": [
       "0"
      ]
     },
     "execution_count": 16,
     "metadata": {},
     "output_type": "execute_result"
    }
   ],
   "source": [
    "recommendation_data.isna().sum().sum()"
   ]
  },
  {
   "cell_type": "code",
   "execution_count": 17,
   "id": "5e8c9a81",
   "metadata": {
    "execution": {
     "iopub.execute_input": "2023-02-10T23:21:49.020322Z",
     "iopub.status.busy": "2023-02-10T23:21:49.019905Z",
     "iopub.status.idle": "2023-02-10T23:21:49.048087Z",
     "shell.execute_reply": "2023-02-10T23:21:49.046973Z"
    },
    "papermill": {
     "duration": 0.052689,
     "end_time": "2023-02-10T23:21:49.050715",
     "exception": false,
     "start_time": "2023-02-10T23:21:48.998026",
     "status": "completed"
    },
    "tags": []
   },
   "outputs": [
    {
     "data": {
      "text/html": [
       "<div>\n",
       "<style scoped>\n",
       "    .dataframe tbody tr th:only-of-type {\n",
       "        vertical-align: middle;\n",
       "    }\n",
       "\n",
       "    .dataframe tbody tr th {\n",
       "        vertical-align: top;\n",
       "    }\n",
       "\n",
       "    .dataframe thead th {\n",
       "        text-align: right;\n",
       "    }\n",
       "</style>\n",
       "<table border=\"1\" class=\"dataframe\">\n",
       "  <thead>\n",
       "    <tr style=\"text-align: right;\">\n",
       "      <th></th>\n",
       "      <th>state</th>\n",
       "      <th>district</th>\n",
       "      <th>market</th>\n",
       "      <th>commodity</th>\n",
       "      <th>variety</th>\n",
       "      <th>arrival_date</th>\n",
       "      <th>min_price</th>\n",
       "      <th>max_price</th>\n",
       "      <th>modal_price</th>\n",
       "    </tr>\n",
       "  </thead>\n",
       "  <tbody>\n",
       "    <tr>\n",
       "      <th>0</th>\n",
       "      <td>Andaman and Nicobar</td>\n",
       "      <td>South Andaman</td>\n",
       "      <td>Port Blair</td>\n",
       "      <td>Amaranthus</td>\n",
       "      <td>Amaranthus</td>\n",
       "      <td>04/03/2019</td>\n",
       "      <td>6000</td>\n",
       "      <td>8000</td>\n",
       "      <td>7000</td>\n",
       "    </tr>\n",
       "    <tr>\n",
       "      <th>1</th>\n",
       "      <td>Andaman and Nicobar</td>\n",
       "      <td>South Andaman</td>\n",
       "      <td>Port Blair</td>\n",
       "      <td>Banana - Green</td>\n",
       "      <td>Banana - Green</td>\n",
       "      <td>04/03/2019</td>\n",
       "      <td>4500</td>\n",
       "      <td>5500</td>\n",
       "      <td>5000</td>\n",
       "    </tr>\n",
       "    <tr>\n",
       "      <th>2</th>\n",
       "      <td>Andaman and Nicobar</td>\n",
       "      <td>South Andaman</td>\n",
       "      <td>Port Blair</td>\n",
       "      <td>Bhindi(Ladies Finger)</td>\n",
       "      <td>Bhindi</td>\n",
       "      <td>04/03/2019</td>\n",
       "      <td>6000</td>\n",
       "      <td>8000</td>\n",
       "      <td>7000</td>\n",
       "    </tr>\n",
       "    <tr>\n",
       "      <th>3</th>\n",
       "      <td>Andaman and Nicobar</td>\n",
       "      <td>South Andaman</td>\n",
       "      <td>Port Blair</td>\n",
       "      <td>Bitter gourd</td>\n",
       "      <td>Other</td>\n",
       "      <td>04/03/2019</td>\n",
       "      <td>6000</td>\n",
       "      <td>8000</td>\n",
       "      <td>7000</td>\n",
       "    </tr>\n",
       "    <tr>\n",
       "      <th>4</th>\n",
       "      <td>Andaman and Nicobar</td>\n",
       "      <td>South Andaman</td>\n",
       "      <td>Port Blair</td>\n",
       "      <td>Black pepper</td>\n",
       "      <td>Other</td>\n",
       "      <td>04/03/2019</td>\n",
       "      <td>110000</td>\n",
       "      <td>130000</td>\n",
       "      <td>120000</td>\n",
       "    </tr>\n",
       "  </tbody>\n",
       "</table>\n",
       "</div>"
      ],
      "text/plain": [
       "                 state       district      market              commodity  \\\n",
       "0  Andaman and Nicobar  South Andaman  Port Blair             Amaranthus   \n",
       "1  Andaman and Nicobar  South Andaman  Port Blair         Banana - Green   \n",
       "2  Andaman and Nicobar  South Andaman  Port Blair  Bhindi(Ladies Finger)   \n",
       "3  Andaman and Nicobar  South Andaman  Port Blair           Bitter gourd   \n",
       "4  Andaman and Nicobar  South Andaman  Port Blair           Black pepper   \n",
       "\n",
       "          variety arrival_date  min_price  max_price  modal_price  \n",
       "0      Amaranthus   04/03/2019       6000       8000         7000  \n",
       "1  Banana - Green   04/03/2019       4500       5500         5000  \n",
       "2          Bhindi   04/03/2019       6000       8000         7000  \n",
       "3           Other   04/03/2019       6000       8000         7000  \n",
       "4           Other   04/03/2019     110000     130000       120000  "
      ]
     },
     "execution_count": 17,
     "metadata": {},
     "output_type": "execute_result"
    }
   ],
   "source": [
    "agriculture_related_data=pd.read_csv('/kaggle/input/all-agriculture-related-datasets-for-india/csv')\n",
    "agriculture_related_data.head()"
   ]
  },
  {
   "cell_type": "code",
   "execution_count": 18,
   "id": "12948d80",
   "metadata": {
    "execution": {
     "iopub.execute_input": "2023-02-10T23:21:49.094597Z",
     "iopub.status.busy": "2023-02-10T23:21:49.093659Z",
     "iopub.status.idle": "2023-02-10T23:21:49.100506Z",
     "shell.execute_reply": "2023-02-10T23:21:49.099305Z"
    },
    "papermill": {
     "duration": 0.031305,
     "end_time": "2023-02-10T23:21:49.102874",
     "exception": false,
     "start_time": "2023-02-10T23:21:49.071569",
     "status": "completed"
    },
    "tags": []
   },
   "outputs": [
    {
     "data": {
      "text/plain": [
       "(2238, 9)"
      ]
     },
     "execution_count": 18,
     "metadata": {},
     "output_type": "execute_result"
    }
   ],
   "source": [
    "agriculture_related_data.shape"
   ]
  },
  {
   "cell_type": "code",
   "execution_count": 19,
   "id": "51399891",
   "metadata": {
    "execution": {
     "iopub.execute_input": "2023-02-10T23:21:49.146627Z",
     "iopub.status.busy": "2023-02-10T23:21:49.145644Z",
     "iopub.status.idle": "2023-02-10T23:21:49.153248Z",
     "shell.execute_reply": "2023-02-10T23:21:49.152311Z"
    },
    "papermill": {
     "duration": 0.031952,
     "end_time": "2023-02-10T23:21:49.155608",
     "exception": false,
     "start_time": "2023-02-10T23:21:49.123656",
     "status": "completed"
    },
    "tags": []
   },
   "outputs": [
    {
     "data": {
      "text/plain": [
       "Index(['state', 'district', 'market', 'commodity', 'variety', 'arrival_date',\n",
       "       'min_price', 'max_price', 'modal_price'],\n",
       "      dtype='object')"
      ]
     },
     "execution_count": 19,
     "metadata": {},
     "output_type": "execute_result"
    }
   ],
   "source": [
    "agriculture_related_data.columns"
   ]
  },
  {
   "cell_type": "code",
   "execution_count": 20,
   "id": "17e4e42a",
   "metadata": {
    "execution": {
     "iopub.execute_input": "2023-02-10T23:21:49.202341Z",
     "iopub.status.busy": "2023-02-10T23:21:49.201965Z",
     "iopub.status.idle": "2023-02-10T23:21:49.212046Z",
     "shell.execute_reply": "2023-02-10T23:21:49.210726Z"
    },
    "papermill": {
     "duration": 0.038063,
     "end_time": "2023-02-10T23:21:49.214533",
     "exception": false,
     "start_time": "2023-02-10T23:21:49.176470",
     "status": "completed"
    },
    "tags": []
   },
   "outputs": [
    {
     "data": {
      "text/plain": [
       "0"
      ]
     },
     "execution_count": 20,
     "metadata": {},
     "output_type": "execute_result"
    }
   ],
   "source": [
    "agriculture_related_data.isnull().sum().sum()"
   ]
  },
  {
   "cell_type": "code",
   "execution_count": 21,
   "id": "3b55b601",
   "metadata": {
    "execution": {
     "iopub.execute_input": "2023-02-10T23:21:49.259817Z",
     "iopub.status.busy": "2023-02-10T23:21:49.259446Z",
     "iopub.status.idle": "2023-02-10T23:21:49.269228Z",
     "shell.execute_reply": "2023-02-10T23:21:49.268150Z"
    },
    "papermill": {
     "duration": 0.034994,
     "end_time": "2023-02-10T23:21:49.271408",
     "exception": false,
     "start_time": "2023-02-10T23:21:49.236414",
     "status": "completed"
    },
    "tags": []
   },
   "outputs": [
    {
     "data": {
      "text/plain": [
       "0"
      ]
     },
     "execution_count": 21,
     "metadata": {},
     "output_type": "execute_result"
    }
   ],
   "source": [
    "agriculture_related_data.isna().sum().sum()"
   ]
  },
  {
   "cell_type": "code",
   "execution_count": 22,
   "id": "7f2fc24d",
   "metadata": {
    "execution": {
     "iopub.execute_input": "2023-02-10T23:21:49.315248Z",
     "iopub.status.busy": "2023-02-10T23:21:49.314543Z",
     "iopub.status.idle": "2023-02-10T23:21:49.328704Z",
     "shell.execute_reply": "2023-02-10T23:21:49.327331Z"
    },
    "papermill": {
     "duration": 0.039135,
     "end_time": "2023-02-10T23:21:49.331362",
     "exception": false,
     "start_time": "2023-02-10T23:21:49.292227",
     "status": "completed"
    },
    "tags": []
   },
   "outputs": [
    {
     "data": {
      "text/html": [
       "<div>\n",
       "<style scoped>\n",
       "    .dataframe tbody tr th:only-of-type {\n",
       "        vertical-align: middle;\n",
       "    }\n",
       "\n",
       "    .dataframe tbody tr th {\n",
       "        vertical-align: top;\n",
       "    }\n",
       "\n",
       "    .dataframe thead th {\n",
       "        text-align: right;\n",
       "    }\n",
       "</style>\n",
       "<table border=\"1\" class=\"dataframe\">\n",
       "  <thead>\n",
       "    <tr style=\"text-align: right;\">\n",
       "      <th></th>\n",
       "      <th>state</th>\n",
       "      <th>district</th>\n",
       "      <th>market</th>\n",
       "      <th>commodity</th>\n",
       "      <th>variety</th>\n",
       "      <th>arrival_date</th>\n",
       "      <th>min_price</th>\n",
       "      <th>max_price</th>\n",
       "      <th>modal_price</th>\n",
       "    </tr>\n",
       "  </thead>\n",
       "  <tbody>\n",
       "    <tr>\n",
       "      <th>0</th>\n",
       "      <td>Andaman and Nicobar</td>\n",
       "      <td>South Andaman</td>\n",
       "      <td>Port Blair</td>\n",
       "      <td>Amaranthus</td>\n",
       "      <td>Amaranthus</td>\n",
       "      <td>04/03/2019</td>\n",
       "      <td>6000</td>\n",
       "      <td>8000</td>\n",
       "      <td>7000</td>\n",
       "    </tr>\n",
       "    <tr>\n",
       "      <th>1</th>\n",
       "      <td>Andaman and Nicobar</td>\n",
       "      <td>South Andaman</td>\n",
       "      <td>Port Blair</td>\n",
       "      <td>Banana - Green</td>\n",
       "      <td>Banana - Green</td>\n",
       "      <td>04/03/2019</td>\n",
       "      <td>4500</td>\n",
       "      <td>5500</td>\n",
       "      <td>5000</td>\n",
       "    </tr>\n",
       "    <tr>\n",
       "      <th>2</th>\n",
       "      <td>Andaman and Nicobar</td>\n",
       "      <td>South Andaman</td>\n",
       "      <td>Port Blair</td>\n",
       "      <td>Bhindi(Ladies Finger)</td>\n",
       "      <td>Bhindi</td>\n",
       "      <td>04/03/2019</td>\n",
       "      <td>6000</td>\n",
       "      <td>8000</td>\n",
       "      <td>7000</td>\n",
       "    </tr>\n",
       "    <tr>\n",
       "      <th>3</th>\n",
       "      <td>Andaman and Nicobar</td>\n",
       "      <td>South Andaman</td>\n",
       "      <td>Port Blair</td>\n",
       "      <td>Bitter gourd</td>\n",
       "      <td>Other</td>\n",
       "      <td>04/03/2019</td>\n",
       "      <td>6000</td>\n",
       "      <td>8000</td>\n",
       "      <td>7000</td>\n",
       "    </tr>\n",
       "    <tr>\n",
       "      <th>4</th>\n",
       "      <td>Andaman and Nicobar</td>\n",
       "      <td>South Andaman</td>\n",
       "      <td>Port Blair</td>\n",
       "      <td>Black pepper</td>\n",
       "      <td>Other</td>\n",
       "      <td>04/03/2019</td>\n",
       "      <td>110000</td>\n",
       "      <td>130000</td>\n",
       "      <td>120000</td>\n",
       "    </tr>\n",
       "  </tbody>\n",
       "</table>\n",
       "</div>"
      ],
      "text/plain": [
       "                 state       district      market              commodity  \\\n",
       "0  Andaman and Nicobar  South Andaman  Port Blair             Amaranthus   \n",
       "1  Andaman and Nicobar  South Andaman  Port Blair         Banana - Green   \n",
       "2  Andaman and Nicobar  South Andaman  Port Blair  Bhindi(Ladies Finger)   \n",
       "3  Andaman and Nicobar  South Andaman  Port Blair           Bitter gourd   \n",
       "4  Andaman and Nicobar  South Andaman  Port Blair           Black pepper   \n",
       "\n",
       "          variety arrival_date  min_price  max_price  modal_price  \n",
       "0      Amaranthus   04/03/2019       6000       8000         7000  \n",
       "1  Banana - Green   04/03/2019       4500       5500         5000  \n",
       "2          Bhindi   04/03/2019       6000       8000         7000  \n",
       "3           Other   04/03/2019       6000       8000         7000  \n",
       "4           Other   04/03/2019     110000     130000       120000  "
      ]
     },
     "execution_count": 22,
     "metadata": {},
     "output_type": "execute_result"
    }
   ],
   "source": [
    "agriculture_related_data.head()"
   ]
  },
  {
   "cell_type": "code",
   "execution_count": 23,
   "id": "ff4d569a",
   "metadata": {
    "_kg_hide-output": true,
    "execution": {
     "iopub.execute_input": "2023-02-10T23:21:49.376856Z",
     "iopub.status.busy": "2023-02-10T23:21:49.376444Z",
     "iopub.status.idle": "2023-02-10T23:21:49.384405Z",
     "shell.execute_reply": "2023-02-10T23:21:49.383027Z"
    },
    "papermill": {
     "duration": 0.034104,
     "end_time": "2023-02-10T23:21:49.387287",
     "exception": false,
     "start_time": "2023-02-10T23:21:49.353183",
     "status": "completed"
    },
    "tags": []
   },
   "outputs": [
    {
     "name": "stdout",
     "output_type": "stream",
     "text": [
      "174\n"
     ]
    }
   ],
   "source": [
    "ard_unique_districts=agriculture_related_data['district'].unique()\n",
    "ard_unique_states=agriculture_related_data['state'].unique()\n",
    "print(len(ard_unique_districts))"
   ]
  },
  {
   "cell_type": "markdown",
   "id": "43fa1a1c",
   "metadata": {
    "papermill": {
     "duration": 0.021254,
     "end_time": "2023-02-10T23:21:49.430386",
     "exception": false,
     "start_time": "2023-02-10T23:21:49.409132",
     "status": "completed"
    },
    "tags": []
   },
   "source": [
    "checking the unique states in the dataset"
   ]
  },
  {
   "cell_type": "code",
   "execution_count": 24,
   "id": "25b50842",
   "metadata": {
    "execution": {
     "iopub.execute_input": "2023-02-10T23:21:49.475856Z",
     "iopub.status.busy": "2023-02-10T23:21:49.474841Z",
     "iopub.status.idle": "2023-02-10T23:21:49.481074Z",
     "shell.execute_reply": "2023-02-10T23:21:49.479852Z"
    },
    "papermill": {
     "duration": 0.031709,
     "end_time": "2023-02-10T23:21:49.483649",
     "exception": false,
     "start_time": "2023-02-10T23:21:49.451940",
     "status": "completed"
    },
    "tags": []
   },
   "outputs": [
    {
     "name": "stdout",
     "output_type": "stream",
     "text": [
      "26\n"
     ]
    }
   ],
   "source": [
    "print(len(ard_unique_states))"
   ]
  },
  {
   "cell_type": "code",
   "execution_count": 25,
   "id": "daa752c6",
   "metadata": {
    "execution": {
     "iopub.execute_input": "2023-02-10T23:21:49.528456Z",
     "iopub.status.busy": "2023-02-10T23:21:49.528092Z",
     "iopub.status.idle": "2023-02-10T23:21:49.533672Z",
     "shell.execute_reply": "2023-02-10T23:21:49.532468Z"
    },
    "papermill": {
     "duration": 0.030957,
     "end_time": "2023-02-10T23:21:49.536320",
     "exception": false,
     "start_time": "2023-02-10T23:21:49.505363",
     "status": "completed"
    },
    "tags": []
   },
   "outputs": [
    {
     "name": "stdout",
     "output_type": "stream",
     "text": [
      "['Andaman and Nicobar' 'Andhra Pradesh' 'Assam' 'Chattisgarh' 'Goa'\n",
      " 'Gujarat' 'Haryana' 'Himachal Pradesh' 'Jammu and Kashmir' 'Karnataka'\n",
      " 'Kerala' 'Madhya Pradesh' 'Maharashtra' 'Manipur' 'Meghalaya' 'Nagaland'\n",
      " 'Odisha' 'Pondicherry' 'Punjab' 'Rajasthan' 'Tamil Nadu' 'Telangana'\n",
      " 'Tripura' 'Uttar Pradesh' 'Uttrakhand' 'West Bengal']\n"
     ]
    }
   ],
   "source": [
    "print(ard_unique_states)"
   ]
  },
  {
   "cell_type": "markdown",
   "id": "c4167195",
   "metadata": {
    "papermill": {
     "duration": 0.021363,
     "end_time": "2023-02-10T23:21:49.579388",
     "exception": false,
     "start_time": "2023-02-10T23:21:49.558025",
     "status": "completed"
    },
    "tags": []
   },
   "source": [
    "checking districts for the districts dataset as well"
   ]
  },
  {
   "cell_type": "code",
   "execution_count": 26,
   "id": "e6597c37",
   "metadata": {
    "execution": {
     "iopub.execute_input": "2023-02-10T23:21:49.624301Z",
     "iopub.status.busy": "2023-02-10T23:21:49.623936Z",
     "iopub.status.idle": "2023-02-10T23:21:49.650592Z",
     "shell.execute_reply": "2023-02-10T23:21:49.649563Z"
    },
    "papermill": {
     "duration": 0.05167,
     "end_time": "2023-02-10T23:21:49.652996",
     "exception": false,
     "start_time": "2023-02-10T23:21:49.601326",
     "status": "completed"
    },
    "tags": []
   },
   "outputs": [
    {
     "data": {
      "text/html": [
       "<div>\n",
       "<style scoped>\n",
       "    .dataframe tbody tr th:only-of-type {\n",
       "        vertical-align: middle;\n",
       "    }\n",
       "\n",
       "    .dataframe tbody tr th {\n",
       "        vertical-align: top;\n",
       "    }\n",
       "\n",
       "    .dataframe thead th {\n",
       "        text-align: right;\n",
       "    }\n",
       "</style>\n",
       "<table border=\"1\" class=\"dataframe\">\n",
       "  <thead>\n",
       "    <tr style=\"text-align: right;\">\n",
       "      <th></th>\n",
       "      <th>STATE_UT_NAME</th>\n",
       "      <th>DISTRICT</th>\n",
       "      <th>JAN</th>\n",
       "      <th>FEB</th>\n",
       "      <th>MAR</th>\n",
       "      <th>APR</th>\n",
       "      <th>MAY</th>\n",
       "      <th>JUN</th>\n",
       "      <th>JUL</th>\n",
       "      <th>AUG</th>\n",
       "      <th>SEP</th>\n",
       "      <th>OCT</th>\n",
       "      <th>NOV</th>\n",
       "      <th>DEC</th>\n",
       "      <th>ANNUAL</th>\n",
       "      <th>Jan-Feb</th>\n",
       "      <th>Mar-May</th>\n",
       "      <th>Jun-Sep</th>\n",
       "      <th>Oct-Dec</th>\n",
       "    </tr>\n",
       "  </thead>\n",
       "  <tbody>\n",
       "    <tr>\n",
       "      <th>0</th>\n",
       "      <td>ANDAMAN And NICOBAR ISLANDS</td>\n",
       "      <td>NICOBAR</td>\n",
       "      <td>107.3</td>\n",
       "      <td>57.9</td>\n",
       "      <td>65.2</td>\n",
       "      <td>117.0</td>\n",
       "      <td>358.5</td>\n",
       "      <td>295.5</td>\n",
       "      <td>285.0</td>\n",
       "      <td>271.9</td>\n",
       "      <td>354.8</td>\n",
       "      <td>326.0</td>\n",
       "      <td>315.2</td>\n",
       "      <td>250.9</td>\n",
       "      <td>2805.2</td>\n",
       "      <td>165.2</td>\n",
       "      <td>540.7</td>\n",
       "      <td>1207.2</td>\n",
       "      <td>892.1</td>\n",
       "    </tr>\n",
       "    <tr>\n",
       "      <th>1</th>\n",
       "      <td>ANDAMAN And NICOBAR ISLANDS</td>\n",
       "      <td>SOUTH ANDAMAN</td>\n",
       "      <td>43.7</td>\n",
       "      <td>26.0</td>\n",
       "      <td>18.6</td>\n",
       "      <td>90.5</td>\n",
       "      <td>374.4</td>\n",
       "      <td>457.2</td>\n",
       "      <td>421.3</td>\n",
       "      <td>423.1</td>\n",
       "      <td>455.6</td>\n",
       "      <td>301.2</td>\n",
       "      <td>275.8</td>\n",
       "      <td>128.3</td>\n",
       "      <td>3015.7</td>\n",
       "      <td>69.7</td>\n",
       "      <td>483.5</td>\n",
       "      <td>1757.2</td>\n",
       "      <td>705.3</td>\n",
       "    </tr>\n",
       "    <tr>\n",
       "      <th>2</th>\n",
       "      <td>ANDAMAN And NICOBAR ISLANDS</td>\n",
       "      <td>N &amp; M ANDAMAN</td>\n",
       "      <td>32.7</td>\n",
       "      <td>15.9</td>\n",
       "      <td>8.6</td>\n",
       "      <td>53.4</td>\n",
       "      <td>343.6</td>\n",
       "      <td>503.3</td>\n",
       "      <td>465.4</td>\n",
       "      <td>460.9</td>\n",
       "      <td>454.8</td>\n",
       "      <td>276.1</td>\n",
       "      <td>198.6</td>\n",
       "      <td>100.0</td>\n",
       "      <td>2913.3</td>\n",
       "      <td>48.6</td>\n",
       "      <td>405.6</td>\n",
       "      <td>1884.4</td>\n",
       "      <td>574.7</td>\n",
       "    </tr>\n",
       "    <tr>\n",
       "      <th>3</th>\n",
       "      <td>ARUNACHAL PRADESH</td>\n",
       "      <td>LOHIT</td>\n",
       "      <td>42.2</td>\n",
       "      <td>80.8</td>\n",
       "      <td>176.4</td>\n",
       "      <td>358.5</td>\n",
       "      <td>306.4</td>\n",
       "      <td>447.0</td>\n",
       "      <td>660.1</td>\n",
       "      <td>427.8</td>\n",
       "      <td>313.6</td>\n",
       "      <td>167.1</td>\n",
       "      <td>34.1</td>\n",
       "      <td>29.8</td>\n",
       "      <td>3043.8</td>\n",
       "      <td>123.0</td>\n",
       "      <td>841.3</td>\n",
       "      <td>1848.5</td>\n",
       "      <td>231.0</td>\n",
       "    </tr>\n",
       "    <tr>\n",
       "      <th>4</th>\n",
       "      <td>ARUNACHAL PRADESH</td>\n",
       "      <td>EAST SIANG</td>\n",
       "      <td>33.3</td>\n",
       "      <td>79.5</td>\n",
       "      <td>105.9</td>\n",
       "      <td>216.5</td>\n",
       "      <td>323.0</td>\n",
       "      <td>738.3</td>\n",
       "      <td>990.9</td>\n",
       "      <td>711.2</td>\n",
       "      <td>568.0</td>\n",
       "      <td>206.9</td>\n",
       "      <td>29.5</td>\n",
       "      <td>31.7</td>\n",
       "      <td>4034.7</td>\n",
       "      <td>112.8</td>\n",
       "      <td>645.4</td>\n",
       "      <td>3008.4</td>\n",
       "      <td>268.1</td>\n",
       "    </tr>\n",
       "  </tbody>\n",
       "</table>\n",
       "</div>"
      ],
      "text/plain": [
       "                 STATE_UT_NAME       DISTRICT    JAN   FEB    MAR    APR  \\\n",
       "0  ANDAMAN And NICOBAR ISLANDS        NICOBAR  107.3  57.9   65.2  117.0   \n",
       "1  ANDAMAN And NICOBAR ISLANDS  SOUTH ANDAMAN   43.7  26.0   18.6   90.5   \n",
       "2  ANDAMAN And NICOBAR ISLANDS  N & M ANDAMAN   32.7  15.9    8.6   53.4   \n",
       "3            ARUNACHAL PRADESH          LOHIT   42.2  80.8  176.4  358.5   \n",
       "4            ARUNACHAL PRADESH     EAST SIANG   33.3  79.5  105.9  216.5   \n",
       "\n",
       "     MAY    JUN    JUL    AUG    SEP    OCT    NOV    DEC  ANNUAL  Jan-Feb  \\\n",
       "0  358.5  295.5  285.0  271.9  354.8  326.0  315.2  250.9  2805.2    165.2   \n",
       "1  374.4  457.2  421.3  423.1  455.6  301.2  275.8  128.3  3015.7     69.7   \n",
       "2  343.6  503.3  465.4  460.9  454.8  276.1  198.6  100.0  2913.3     48.6   \n",
       "3  306.4  447.0  660.1  427.8  313.6  167.1   34.1   29.8  3043.8    123.0   \n",
       "4  323.0  738.3  990.9  711.2  568.0  206.9   29.5   31.7  4034.7    112.8   \n",
       "\n",
       "   Mar-May  Jun-Sep  Oct-Dec  \n",
       "0    540.7   1207.2    892.1  \n",
       "1    483.5   1757.2    705.3  \n",
       "2    405.6   1884.4    574.7  \n",
       "3    841.3   1848.5    231.0  \n",
       "4    645.4   3008.4    268.1  "
      ]
     },
     "execution_count": 26,
     "metadata": {},
     "output_type": "execute_result"
    }
   ],
   "source": [
    "district_rainfall_data.head()"
   ]
  },
  {
   "cell_type": "code",
   "execution_count": 27,
   "id": "794848cd",
   "metadata": {
    "execution": {
     "iopub.execute_input": "2023-02-10T23:21:49.698375Z",
     "iopub.status.busy": "2023-02-10T23:21:49.697976Z",
     "iopub.status.idle": "2023-02-10T23:21:49.704515Z",
     "shell.execute_reply": "2023-02-10T23:21:49.703735Z"
    },
    "papermill": {
     "duration": 0.032119,
     "end_time": "2023-02-10T23:21:49.706965",
     "exception": false,
     "start_time": "2023-02-10T23:21:49.674846",
     "status": "completed"
    },
    "tags": []
   },
   "outputs": [
    {
     "name": "stdout",
     "output_type": "stream",
     "text": [
      "637\n"
     ]
    }
   ],
   "source": [
    "drd_unique_districts=district_rainfall_data['DISTRICT'].unique()\n",
    "drd_unique_states=district_rainfall_data['STATE_UT_NAME'].unique()\n",
    "print(len(drd_unique_districts))"
   ]
  },
  {
   "cell_type": "markdown",
   "id": "c433d1dd",
   "metadata": {
    "papermill": {
     "duration": 0.021918,
     "end_time": "2023-02-10T23:21:49.750804",
     "exception": false,
     "start_time": "2023-02-10T23:21:49.728886",
     "status": "completed"
    },
    "tags": []
   },
   "source": [
    "checking the unique states for district rainfall"
   ]
  },
  {
   "cell_type": "code",
   "execution_count": 28,
   "id": "7fc95144",
   "metadata": {
    "execution": {
     "iopub.execute_input": "2023-02-10T23:21:49.796410Z",
     "iopub.status.busy": "2023-02-10T23:21:49.795992Z",
     "iopub.status.idle": "2023-02-10T23:21:49.801311Z",
     "shell.execute_reply": "2023-02-10T23:21:49.800288Z"
    },
    "papermill": {
     "duration": 0.03156,
     "end_time": "2023-02-10T23:21:49.804172",
     "exception": false,
     "start_time": "2023-02-10T23:21:49.772612",
     "status": "completed"
    },
    "tags": []
   },
   "outputs": [
    {
     "name": "stdout",
     "output_type": "stream",
     "text": [
      "35\n"
     ]
    }
   ],
   "source": [
    "print(len(drd_unique_states))"
   ]
  },
  {
   "cell_type": "markdown",
   "id": "673b2fa0",
   "metadata": {
    "papermill": {
     "duration": 0.021546,
     "end_time": "2023-02-10T23:21:49.848078",
     "exception": false,
     "start_time": "2023-02-10T23:21:49.826532",
     "status": "completed"
    },
    "tags": []
   },
   "source": [
    "checking the unique states of the agriculture dataset"
   ]
  },
  {
   "cell_type": "code",
   "execution_count": 29,
   "id": "9a436525",
   "metadata": {
    "execution": {
     "iopub.execute_input": "2023-02-10T23:21:49.893399Z",
     "iopub.status.busy": "2023-02-10T23:21:49.893001Z",
     "iopub.status.idle": "2023-02-10T23:21:49.898602Z",
     "shell.execute_reply": "2023-02-10T23:21:49.897443Z"
    },
    "papermill": {
     "duration": 0.030958,
     "end_time": "2023-02-10T23:21:49.900848",
     "exception": false,
     "start_time": "2023-02-10T23:21:49.869890",
     "status": "completed"
    },
    "tags": []
   },
   "outputs": [
    {
     "name": "stdout",
     "output_type": "stream",
     "text": [
      "['ANDAMAN And NICOBAR ISLANDS' 'ARUNACHAL PRADESH' 'ASSAM' 'MEGHALAYA'\n",
      " 'MANIPUR' 'MIZORAM' 'NAGALAND' 'TRIPURA' 'WEST BENGAL' 'SIKKIM' 'ORISSA'\n",
      " 'JHARKHAND' 'BIHAR' 'UTTAR PRADESH' 'UTTARANCHAL' 'HARYANA' 'CHANDIGARH'\n",
      " 'DELHI' 'PUNJAB' 'HIMACHAL' 'JAMMU AND KASHMIR' 'RAJASTHAN'\n",
      " 'MADHYA PRADESH' 'GUJARAT' 'DADAR NAGAR HAVELI' 'DAMAN AND DUI'\n",
      " 'MAHARASHTRA' 'GOA' 'CHATISGARH' 'ANDHRA PRADESH' 'TAMIL NADU'\n",
      " 'PONDICHERRY' 'KARNATAKA' 'KERALA' 'LAKSHADWEEP']\n"
     ]
    }
   ],
   "source": [
    "print(drd_unique_states)"
   ]
  },
  {
   "cell_type": "markdown",
   "id": "5d1e9c95",
   "metadata": {
    "papermill": {
     "duration": 0.021482,
     "end_time": "2023-02-10T23:21:49.944417",
     "exception": false,
     "start_time": "2023-02-10T23:21:49.922935",
     "status": "completed"
    },
    "tags": []
   },
   "source": [
    "renaming the state and district column names for agriculture related dataset"
   ]
  },
  {
   "cell_type": "code",
   "execution_count": 30,
   "id": "8a9a69ae",
   "metadata": {
    "execution": {
     "iopub.execute_input": "2023-02-10T23:21:49.989607Z",
     "iopub.status.busy": "2023-02-10T23:21:49.989172Z",
     "iopub.status.idle": "2023-02-10T23:21:50.016923Z",
     "shell.execute_reply": "2023-02-10T23:21:50.016088Z"
    },
    "papermill": {
     "duration": 0.052872,
     "end_time": "2023-02-10T23:21:50.019096",
     "exception": false,
     "start_time": "2023-02-10T23:21:49.966224",
     "status": "completed"
    },
    "tags": []
   },
   "outputs": [
    {
     "data": {
      "text/html": [
       "<div>\n",
       "<style scoped>\n",
       "    .dataframe tbody tr th:only-of-type {\n",
       "        vertical-align: middle;\n",
       "    }\n",
       "\n",
       "    .dataframe tbody tr th {\n",
       "        vertical-align: top;\n",
       "    }\n",
       "\n",
       "    .dataframe thead th {\n",
       "        text-align: right;\n",
       "    }\n",
       "</style>\n",
       "<table border=\"1\" class=\"dataframe\">\n",
       "  <thead>\n",
       "    <tr style=\"text-align: right;\">\n",
       "      <th></th>\n",
       "      <th>state</th>\n",
       "      <th>district</th>\n",
       "      <th>JAN</th>\n",
       "      <th>FEB</th>\n",
       "      <th>MAR</th>\n",
       "      <th>APR</th>\n",
       "      <th>MAY</th>\n",
       "      <th>JUN</th>\n",
       "      <th>JUL</th>\n",
       "      <th>AUG</th>\n",
       "      <th>SEP</th>\n",
       "      <th>OCT</th>\n",
       "      <th>NOV</th>\n",
       "      <th>DEC</th>\n",
       "      <th>ANNUAL</th>\n",
       "      <th>Jan-Feb</th>\n",
       "      <th>Mar-May</th>\n",
       "      <th>Jun-Sep</th>\n",
       "      <th>Oct-Dec</th>\n",
       "    </tr>\n",
       "  </thead>\n",
       "  <tbody>\n",
       "    <tr>\n",
       "      <th>0</th>\n",
       "      <td>ANDAMAN And NICOBAR ISLANDS</td>\n",
       "      <td>NICOBAR</td>\n",
       "      <td>107.3</td>\n",
       "      <td>57.9</td>\n",
       "      <td>65.2</td>\n",
       "      <td>117.0</td>\n",
       "      <td>358.5</td>\n",
       "      <td>295.5</td>\n",
       "      <td>285.0</td>\n",
       "      <td>271.9</td>\n",
       "      <td>354.8</td>\n",
       "      <td>326.0</td>\n",
       "      <td>315.2</td>\n",
       "      <td>250.9</td>\n",
       "      <td>2805.2</td>\n",
       "      <td>165.2</td>\n",
       "      <td>540.7</td>\n",
       "      <td>1207.2</td>\n",
       "      <td>892.1</td>\n",
       "    </tr>\n",
       "    <tr>\n",
       "      <th>1</th>\n",
       "      <td>ANDAMAN And NICOBAR ISLANDS</td>\n",
       "      <td>SOUTH ANDAMAN</td>\n",
       "      <td>43.7</td>\n",
       "      <td>26.0</td>\n",
       "      <td>18.6</td>\n",
       "      <td>90.5</td>\n",
       "      <td>374.4</td>\n",
       "      <td>457.2</td>\n",
       "      <td>421.3</td>\n",
       "      <td>423.1</td>\n",
       "      <td>455.6</td>\n",
       "      <td>301.2</td>\n",
       "      <td>275.8</td>\n",
       "      <td>128.3</td>\n",
       "      <td>3015.7</td>\n",
       "      <td>69.7</td>\n",
       "      <td>483.5</td>\n",
       "      <td>1757.2</td>\n",
       "      <td>705.3</td>\n",
       "    </tr>\n",
       "    <tr>\n",
       "      <th>2</th>\n",
       "      <td>ANDAMAN And NICOBAR ISLANDS</td>\n",
       "      <td>N &amp; M ANDAMAN</td>\n",
       "      <td>32.7</td>\n",
       "      <td>15.9</td>\n",
       "      <td>8.6</td>\n",
       "      <td>53.4</td>\n",
       "      <td>343.6</td>\n",
       "      <td>503.3</td>\n",
       "      <td>465.4</td>\n",
       "      <td>460.9</td>\n",
       "      <td>454.8</td>\n",
       "      <td>276.1</td>\n",
       "      <td>198.6</td>\n",
       "      <td>100.0</td>\n",
       "      <td>2913.3</td>\n",
       "      <td>48.6</td>\n",
       "      <td>405.6</td>\n",
       "      <td>1884.4</td>\n",
       "      <td>574.7</td>\n",
       "    </tr>\n",
       "    <tr>\n",
       "      <th>3</th>\n",
       "      <td>ARUNACHAL PRADESH</td>\n",
       "      <td>LOHIT</td>\n",
       "      <td>42.2</td>\n",
       "      <td>80.8</td>\n",
       "      <td>176.4</td>\n",
       "      <td>358.5</td>\n",
       "      <td>306.4</td>\n",
       "      <td>447.0</td>\n",
       "      <td>660.1</td>\n",
       "      <td>427.8</td>\n",
       "      <td>313.6</td>\n",
       "      <td>167.1</td>\n",
       "      <td>34.1</td>\n",
       "      <td>29.8</td>\n",
       "      <td>3043.8</td>\n",
       "      <td>123.0</td>\n",
       "      <td>841.3</td>\n",
       "      <td>1848.5</td>\n",
       "      <td>231.0</td>\n",
       "    </tr>\n",
       "    <tr>\n",
       "      <th>4</th>\n",
       "      <td>ARUNACHAL PRADESH</td>\n",
       "      <td>EAST SIANG</td>\n",
       "      <td>33.3</td>\n",
       "      <td>79.5</td>\n",
       "      <td>105.9</td>\n",
       "      <td>216.5</td>\n",
       "      <td>323.0</td>\n",
       "      <td>738.3</td>\n",
       "      <td>990.9</td>\n",
       "      <td>711.2</td>\n",
       "      <td>568.0</td>\n",
       "      <td>206.9</td>\n",
       "      <td>29.5</td>\n",
       "      <td>31.7</td>\n",
       "      <td>4034.7</td>\n",
       "      <td>112.8</td>\n",
       "      <td>645.4</td>\n",
       "      <td>3008.4</td>\n",
       "      <td>268.1</td>\n",
       "    </tr>\n",
       "  </tbody>\n",
       "</table>\n",
       "</div>"
      ],
      "text/plain": [
       "                         state       district    JAN   FEB    MAR    APR  \\\n",
       "0  ANDAMAN And NICOBAR ISLANDS        NICOBAR  107.3  57.9   65.2  117.0   \n",
       "1  ANDAMAN And NICOBAR ISLANDS  SOUTH ANDAMAN   43.7  26.0   18.6   90.5   \n",
       "2  ANDAMAN And NICOBAR ISLANDS  N & M ANDAMAN   32.7  15.9    8.6   53.4   \n",
       "3            ARUNACHAL PRADESH          LOHIT   42.2  80.8  176.4  358.5   \n",
       "4            ARUNACHAL PRADESH     EAST SIANG   33.3  79.5  105.9  216.5   \n",
       "\n",
       "     MAY    JUN    JUL    AUG    SEP    OCT    NOV    DEC  ANNUAL  Jan-Feb  \\\n",
       "0  358.5  295.5  285.0  271.9  354.8  326.0  315.2  250.9  2805.2    165.2   \n",
       "1  374.4  457.2  421.3  423.1  455.6  301.2  275.8  128.3  3015.7     69.7   \n",
       "2  343.6  503.3  465.4  460.9  454.8  276.1  198.6  100.0  2913.3     48.6   \n",
       "3  306.4  447.0  660.1  427.8  313.6  167.1   34.1   29.8  3043.8    123.0   \n",
       "4  323.0  738.3  990.9  711.2  568.0  206.9   29.5   31.7  4034.7    112.8   \n",
       "\n",
       "   Mar-May  Jun-Sep  Oct-Dec  \n",
       "0    540.7   1207.2    892.1  \n",
       "1    483.5   1757.2    705.3  \n",
       "2    405.6   1884.4    574.7  \n",
       "3    841.3   1848.5    231.0  \n",
       "4    645.4   3008.4    268.1  "
      ]
     },
     "execution_count": 30,
     "metadata": {},
     "output_type": "execute_result"
    }
   ],
   "source": [
    "district_rainfall_data.rename(columns={'STATE_UT_NAME':'state','DISTRICT':'district'},inplace=True)\n",
    "district_rainfall_data.head()"
   ]
  },
  {
   "cell_type": "markdown",
   "id": "8838960f",
   "metadata": {
    "papermill": {
     "duration": 0.02191,
     "end_time": "2023-02-10T23:21:50.063143",
     "exception": false,
     "start_time": "2023-02-10T23:21:50.041233",
     "status": "completed"
    },
    "tags": []
   },
   "source": [
    "trying to combine two pandas datasets based on common values. I will be using both the common features(state,district) and will get two seperate datasets accordingly"
   ]
  },
  {
   "cell_type": "markdown",
   "id": "77eceed2",
   "metadata": {
    "papermill": {
     "duration": 0.022012,
     "end_time": "2023-02-10T23:21:50.107536",
     "exception": false,
     "start_time": "2023-02-10T23:21:50.085524",
     "status": "completed"
    },
    "tags": []
   },
   "source": [
    "checking the columns of the two datasets"
   ]
  },
  {
   "cell_type": "code",
   "execution_count": 31,
   "id": "5390ae4d",
   "metadata": {
    "execution": {
     "iopub.execute_input": "2023-02-10T23:21:50.153883Z",
     "iopub.status.busy": "2023-02-10T23:21:50.153381Z",
     "iopub.status.idle": "2023-02-10T23:21:50.160324Z",
     "shell.execute_reply": "2023-02-10T23:21:50.159484Z"
    },
    "papermill": {
     "duration": 0.032683,
     "end_time": "2023-02-10T23:21:50.162463",
     "exception": false,
     "start_time": "2023-02-10T23:21:50.129780",
     "status": "completed"
    },
    "tags": []
   },
   "outputs": [
    {
     "data": {
      "text/plain": [
       "Index(['state', 'district', 'market', 'commodity', 'variety', 'arrival_date',\n",
       "       'min_price', 'max_price', 'modal_price'],\n",
       "      dtype='object')"
      ]
     },
     "execution_count": 31,
     "metadata": {},
     "output_type": "execute_result"
    }
   ],
   "source": [
    "agriculture_related_data.columns"
   ]
  },
  {
   "cell_type": "code",
   "execution_count": 32,
   "id": "612517bc",
   "metadata": {
    "execution": {
     "iopub.execute_input": "2023-02-10T23:21:50.212522Z",
     "iopub.status.busy": "2023-02-10T23:21:50.211407Z",
     "iopub.status.idle": "2023-02-10T23:21:50.218792Z",
     "shell.execute_reply": "2023-02-10T23:21:50.218027Z"
    },
    "papermill": {
     "duration": 0.036232,
     "end_time": "2023-02-10T23:21:50.221189",
     "exception": false,
     "start_time": "2023-02-10T23:21:50.184957",
     "status": "completed"
    },
    "tags": []
   },
   "outputs": [
    {
     "data": {
      "text/plain": [
       "Index(['state', 'district', 'JAN', 'FEB', 'MAR', 'APR', 'MAY', 'JUN', 'JUL',\n",
       "       'AUG', 'SEP', 'OCT', 'NOV', 'DEC', 'ANNUAL', 'Jan-Feb', 'Mar-May',\n",
       "       'Jun-Sep', 'Oct-Dec'],\n",
       "      dtype='object')"
      ]
     },
     "execution_count": 32,
     "metadata": {},
     "output_type": "execute_result"
    }
   ],
   "source": [
    "district_rainfall_data.columns"
   ]
  },
  {
   "cell_type": "markdown",
   "id": "022e95c8",
   "metadata": {
    "papermill": {
     "duration": 0.032571,
     "end_time": "2023-02-10T23:21:50.281609",
     "exception": false,
     "start_time": "2023-02-10T23:21:50.249038",
     "status": "completed"
    },
    "tags": []
   },
   "source": [
    "dropping rows which have uncommon state values in district rainfall data "
   ]
  },
  {
   "cell_type": "code",
   "execution_count": 33,
   "id": "bace8dc9",
   "metadata": {
    "execution": {
     "iopub.execute_input": "2023-02-10T23:21:50.331884Z",
     "iopub.status.busy": "2023-02-10T23:21:50.331055Z",
     "iopub.status.idle": "2023-02-10T23:21:50.335644Z",
     "shell.execute_reply": "2023-02-10T23:21:50.334388Z"
    },
    "papermill": {
     "duration": 0.031871,
     "end_time": "2023-02-10T23:21:50.338284",
     "exception": false,
     "start_time": "2023-02-10T23:21:50.306413",
     "status": "completed"
    },
    "tags": []
   },
   "outputs": [],
   "source": [
    "# # Drop rows where column 'B' is equal to values in values_to_drop list\n",
    "# district_rainfall_data = district_rainfall_data[~district_rainfall_data['state'].isin(result)]\n",
    "# district_rainfall_data.reset_index(drop=True)\n",
    "# # district_rainfall_data.head()"
   ]
  },
  {
   "cell_type": "markdown",
   "id": "de2e2054",
   "metadata": {
    "papermill": {
     "duration": 0.022303,
     "end_time": "2023-02-10T23:21:50.383934",
     "exception": false,
     "start_time": "2023-02-10T23:21:50.361631",
     "status": "completed"
    },
    "tags": []
   },
   "source": [
    "checking the unique values now"
   ]
  },
  {
   "cell_type": "code",
   "execution_count": 34,
   "id": "b69c7a7a",
   "metadata": {
    "execution": {
     "iopub.execute_input": "2023-02-10T23:21:50.432045Z",
     "iopub.status.busy": "2023-02-10T23:21:50.431600Z",
     "iopub.status.idle": "2023-02-10T23:21:50.439009Z",
     "shell.execute_reply": "2023-02-10T23:21:50.437395Z"
    },
    "papermill": {
     "duration": 0.035028,
     "end_time": "2023-02-10T23:21:50.441983",
     "exception": false,
     "start_time": "2023-02-10T23:21:50.406955",
     "status": "completed"
    },
    "tags": []
   },
   "outputs": [
    {
     "name": "stdout",
     "output_type": "stream",
     "text": [
      "35\n"
     ]
    }
   ],
   "source": [
    "drd_unique_districts=district_rainfall_data['district'].unique()\n",
    "drd_unique_states=district_rainfall_data['state'].unique()\n",
    "print(len(drd_unique_states))"
   ]
  },
  {
   "cell_type": "markdown",
   "id": "a79bb387",
   "metadata": {
    "papermill": {
     "duration": 0.022317,
     "end_time": "2023-02-10T23:21:50.488245",
     "exception": false,
     "start_time": "2023-02-10T23:21:50.465928",
     "status": "completed"
    },
    "tags": []
   },
   "source": [
    "merging two datasets on the basis of state"
   ]
  },
  {
   "cell_type": "code",
   "execution_count": 35,
   "id": "f4f564e8",
   "metadata": {
    "execution": {
     "iopub.execute_input": "2023-02-10T23:21:50.536047Z",
     "iopub.status.busy": "2023-02-10T23:21:50.535553Z",
     "iopub.status.idle": "2023-02-10T23:21:50.551354Z",
     "shell.execute_reply": "2023-02-10T23:21:50.550402Z"
    },
    "papermill": {
     "duration": 0.042393,
     "end_time": "2023-02-10T23:21:50.553889",
     "exception": false,
     "start_time": "2023-02-10T23:21:50.511496",
     "status": "completed"
    },
    "tags": []
   },
   "outputs": [],
   "source": [
    "state_merged=pd.merge(agriculture_related_data,district_rainfall_data,on='state',how='outer')"
   ]
  },
  {
   "cell_type": "code",
   "execution_count": 36,
   "id": "db450a01",
   "metadata": {
    "execution": {
     "iopub.execute_input": "2023-02-10T23:21:50.601356Z",
     "iopub.status.busy": "2023-02-10T23:21:50.600669Z",
     "iopub.status.idle": "2023-02-10T23:21:50.627436Z",
     "shell.execute_reply": "2023-02-10T23:21:50.626398Z"
    },
    "papermill": {
     "duration": 0.053275,
     "end_time": "2023-02-10T23:21:50.629946",
     "exception": false,
     "start_time": "2023-02-10T23:21:50.576671",
     "status": "completed"
    },
    "tags": []
   },
   "outputs": [
    {
     "data": {
      "text/html": [
       "<div>\n",
       "<style scoped>\n",
       "    .dataframe tbody tr th:only-of-type {\n",
       "        vertical-align: middle;\n",
       "    }\n",
       "\n",
       "    .dataframe tbody tr th {\n",
       "        vertical-align: top;\n",
       "    }\n",
       "\n",
       "    .dataframe thead th {\n",
       "        text-align: right;\n",
       "    }\n",
       "</style>\n",
       "<table border=\"1\" class=\"dataframe\">\n",
       "  <thead>\n",
       "    <tr style=\"text-align: right;\">\n",
       "      <th></th>\n",
       "      <th>state</th>\n",
       "      <th>district_x</th>\n",
       "      <th>market</th>\n",
       "      <th>commodity</th>\n",
       "      <th>variety</th>\n",
       "      <th>arrival_date</th>\n",
       "      <th>min_price</th>\n",
       "      <th>max_price</th>\n",
       "      <th>modal_price</th>\n",
       "      <th>district_y</th>\n",
       "      <th>...</th>\n",
       "      <th>AUG</th>\n",
       "      <th>SEP</th>\n",
       "      <th>OCT</th>\n",
       "      <th>NOV</th>\n",
       "      <th>DEC</th>\n",
       "      <th>ANNUAL</th>\n",
       "      <th>Jan-Feb</th>\n",
       "      <th>Mar-May</th>\n",
       "      <th>Jun-Sep</th>\n",
       "      <th>Oct-Dec</th>\n",
       "    </tr>\n",
       "  </thead>\n",
       "  <tbody>\n",
       "    <tr>\n",
       "      <th>0</th>\n",
       "      <td>Andaman and Nicobar</td>\n",
       "      <td>South Andaman</td>\n",
       "      <td>Port Blair</td>\n",
       "      <td>Amaranthus</td>\n",
       "      <td>Amaranthus</td>\n",
       "      <td>04/03/2019</td>\n",
       "      <td>6000.0</td>\n",
       "      <td>8000.0</td>\n",
       "      <td>7000.0</td>\n",
       "      <td>NaN</td>\n",
       "      <td>...</td>\n",
       "      <td>NaN</td>\n",
       "      <td>NaN</td>\n",
       "      <td>NaN</td>\n",
       "      <td>NaN</td>\n",
       "      <td>NaN</td>\n",
       "      <td>NaN</td>\n",
       "      <td>NaN</td>\n",
       "      <td>NaN</td>\n",
       "      <td>NaN</td>\n",
       "      <td>NaN</td>\n",
       "    </tr>\n",
       "    <tr>\n",
       "      <th>1</th>\n",
       "      <td>Andaman and Nicobar</td>\n",
       "      <td>South Andaman</td>\n",
       "      <td>Port Blair</td>\n",
       "      <td>Banana - Green</td>\n",
       "      <td>Banana - Green</td>\n",
       "      <td>04/03/2019</td>\n",
       "      <td>4500.0</td>\n",
       "      <td>5500.0</td>\n",
       "      <td>5000.0</td>\n",
       "      <td>NaN</td>\n",
       "      <td>...</td>\n",
       "      <td>NaN</td>\n",
       "      <td>NaN</td>\n",
       "      <td>NaN</td>\n",
       "      <td>NaN</td>\n",
       "      <td>NaN</td>\n",
       "      <td>NaN</td>\n",
       "      <td>NaN</td>\n",
       "      <td>NaN</td>\n",
       "      <td>NaN</td>\n",
       "      <td>NaN</td>\n",
       "    </tr>\n",
       "    <tr>\n",
       "      <th>2</th>\n",
       "      <td>Andaman and Nicobar</td>\n",
       "      <td>South Andaman</td>\n",
       "      <td>Port Blair</td>\n",
       "      <td>Bhindi(Ladies Finger)</td>\n",
       "      <td>Bhindi</td>\n",
       "      <td>04/03/2019</td>\n",
       "      <td>6000.0</td>\n",
       "      <td>8000.0</td>\n",
       "      <td>7000.0</td>\n",
       "      <td>NaN</td>\n",
       "      <td>...</td>\n",
       "      <td>NaN</td>\n",
       "      <td>NaN</td>\n",
       "      <td>NaN</td>\n",
       "      <td>NaN</td>\n",
       "      <td>NaN</td>\n",
       "      <td>NaN</td>\n",
       "      <td>NaN</td>\n",
       "      <td>NaN</td>\n",
       "      <td>NaN</td>\n",
       "      <td>NaN</td>\n",
       "    </tr>\n",
       "    <tr>\n",
       "      <th>3</th>\n",
       "      <td>Andaman and Nicobar</td>\n",
       "      <td>South Andaman</td>\n",
       "      <td>Port Blair</td>\n",
       "      <td>Bitter gourd</td>\n",
       "      <td>Other</td>\n",
       "      <td>04/03/2019</td>\n",
       "      <td>6000.0</td>\n",
       "      <td>8000.0</td>\n",
       "      <td>7000.0</td>\n",
       "      <td>NaN</td>\n",
       "      <td>...</td>\n",
       "      <td>NaN</td>\n",
       "      <td>NaN</td>\n",
       "      <td>NaN</td>\n",
       "      <td>NaN</td>\n",
       "      <td>NaN</td>\n",
       "      <td>NaN</td>\n",
       "      <td>NaN</td>\n",
       "      <td>NaN</td>\n",
       "      <td>NaN</td>\n",
       "      <td>NaN</td>\n",
       "    </tr>\n",
       "    <tr>\n",
       "      <th>4</th>\n",
       "      <td>Andaman and Nicobar</td>\n",
       "      <td>South Andaman</td>\n",
       "      <td>Port Blair</td>\n",
       "      <td>Black pepper</td>\n",
       "      <td>Other</td>\n",
       "      <td>04/03/2019</td>\n",
       "      <td>110000.0</td>\n",
       "      <td>130000.0</td>\n",
       "      <td>120000.0</td>\n",
       "      <td>NaN</td>\n",
       "      <td>...</td>\n",
       "      <td>NaN</td>\n",
       "      <td>NaN</td>\n",
       "      <td>NaN</td>\n",
       "      <td>NaN</td>\n",
       "      <td>NaN</td>\n",
       "      <td>NaN</td>\n",
       "      <td>NaN</td>\n",
       "      <td>NaN</td>\n",
       "      <td>NaN</td>\n",
       "      <td>NaN</td>\n",
       "    </tr>\n",
       "  </tbody>\n",
       "</table>\n",
       "<p>5 rows × 27 columns</p>\n",
       "</div>"
      ],
      "text/plain": [
       "                 state     district_x      market              commodity  \\\n",
       "0  Andaman and Nicobar  South Andaman  Port Blair             Amaranthus   \n",
       "1  Andaman and Nicobar  South Andaman  Port Blair         Banana - Green   \n",
       "2  Andaman and Nicobar  South Andaman  Port Blair  Bhindi(Ladies Finger)   \n",
       "3  Andaman and Nicobar  South Andaman  Port Blair           Bitter gourd   \n",
       "4  Andaman and Nicobar  South Andaman  Port Blair           Black pepper   \n",
       "\n",
       "          variety arrival_date  min_price  max_price  modal_price district_y  \\\n",
       "0      Amaranthus   04/03/2019     6000.0     8000.0       7000.0        NaN   \n",
       "1  Banana - Green   04/03/2019     4500.0     5500.0       5000.0        NaN   \n",
       "2          Bhindi   04/03/2019     6000.0     8000.0       7000.0        NaN   \n",
       "3           Other   04/03/2019     6000.0     8000.0       7000.0        NaN   \n",
       "4           Other   04/03/2019   110000.0   130000.0     120000.0        NaN   \n",
       "\n",
       "   ...  AUG  SEP  OCT  NOV  DEC  ANNUAL  Jan-Feb  Mar-May  Jun-Sep  Oct-Dec  \n",
       "0  ...  NaN  NaN  NaN  NaN  NaN     NaN      NaN      NaN      NaN      NaN  \n",
       "1  ...  NaN  NaN  NaN  NaN  NaN     NaN      NaN      NaN      NaN      NaN  \n",
       "2  ...  NaN  NaN  NaN  NaN  NaN     NaN      NaN      NaN      NaN      NaN  \n",
       "3  ...  NaN  NaN  NaN  NaN  NaN     NaN      NaN      NaN      NaN      NaN  \n",
       "4  ...  NaN  NaN  NaN  NaN  NaN     NaN      NaN      NaN      NaN      NaN  \n",
       "\n",
       "[5 rows x 27 columns]"
      ]
     },
     "execution_count": 36,
     "metadata": {},
     "output_type": "execute_result"
    }
   ],
   "source": [
    "state_merged.head()"
   ]
  },
  {
   "cell_type": "markdown",
   "id": "a75f4ffa",
   "metadata": {
    "papermill": {
     "duration": 0.023498,
     "end_time": "2023-02-10T23:21:50.676917",
     "exception": false,
     "start_time": "2023-02-10T23:21:50.653419",
     "status": "completed"
    },
    "tags": []
   },
   "source": [
    "kill me now if i get a lot of na values"
   ]
  },
  {
   "cell_type": "code",
   "execution_count": 37,
   "id": "e269d71b",
   "metadata": {
    "execution": {
     "iopub.execute_input": "2023-02-10T23:21:50.724846Z",
     "iopub.status.busy": "2023-02-10T23:21:50.724430Z",
     "iopub.status.idle": "2023-02-10T23:21:50.735053Z",
     "shell.execute_reply": "2023-02-10T23:21:50.733914Z"
    },
    "papermill": {
     "duration": 0.037424,
     "end_time": "2023-02-10T23:21:50.737378",
     "exception": false,
     "start_time": "2023-02-10T23:21:50.699954",
     "status": "completed"
    },
    "tags": []
   },
   "outputs": [
    {
     "data": {
      "text/plain": [
       "45412"
      ]
     },
     "execution_count": 37,
     "metadata": {},
     "output_type": "execute_result"
    }
   ],
   "source": [
    "state_merged.isna().sum().sum()"
   ]
  },
  {
   "cell_type": "code",
   "execution_count": 38,
   "id": "2c91cf2d",
   "metadata": {
    "execution": {
     "iopub.execute_input": "2023-02-10T23:21:50.789591Z",
     "iopub.status.busy": "2023-02-10T23:21:50.788175Z",
     "iopub.status.idle": "2023-02-10T23:21:50.799785Z",
     "shell.execute_reply": "2023-02-10T23:21:50.798478Z"
    },
    "papermill": {
     "duration": 0.040276,
     "end_time": "2023-02-10T23:21:50.802343",
     "exception": false,
     "start_time": "2023-02-10T23:21:50.762067",
     "status": "completed"
    },
    "tags": []
   },
   "outputs": [
    {
     "name": "stdout",
     "output_type": "stream",
     "text": [
      "state            0.000000\n",
      "district_x      22.264675\n",
      "market          22.264675\n",
      "commodity       22.264675\n",
      "variety         22.264675\n",
      "arrival_date    22.264675\n",
      "min_price       22.264675\n",
      "max_price       22.264675\n",
      "modal_price     22.264675\n",
      "district_y      77.735325\n",
      "JAN             77.735325\n",
      "FEB             77.735325\n",
      "MAR             77.735325\n",
      "APR             77.735325\n",
      "MAY             77.735325\n",
      "JUN             77.735325\n",
      "JUL             77.735325\n",
      "AUG             77.735325\n",
      "SEP             77.735325\n",
      "OCT             77.735325\n",
      "NOV             77.735325\n",
      "DEC             77.735325\n",
      "ANNUAL          77.735325\n",
      "Jan-Feb         77.735325\n",
      "Mar-May         77.735325\n",
      "Jun-Sep         77.735325\n",
      "Oct-Dec         77.735325\n",
      "dtype: float64\n"
     ]
    }
   ],
   "source": [
    "missing_values = state_merged.isna().mean() * 100\n",
    "\n",
    "print(missing_values)"
   ]
  },
  {
   "cell_type": "markdown",
   "id": "342aa6ce",
   "metadata": {
    "papermill": {
     "duration": 0.023198,
     "end_time": "2023-02-10T23:21:50.850250",
     "exception": false,
     "start_time": "2023-02-10T23:21:50.827052",
     "status": "completed"
    },
    "tags": []
   },
   "source": []
  },
  {
   "cell_type": "code",
   "execution_count": 39,
   "id": "53e31987",
   "metadata": {
    "execution": {
     "iopub.execute_input": "2023-02-10T23:21:50.899357Z",
     "iopub.status.busy": "2023-02-10T23:21:50.898571Z",
     "iopub.status.idle": "2023-02-10T23:21:50.903091Z",
     "shell.execute_reply": "2023-02-10T23:21:50.901947Z"
    },
    "papermill": {
     "duration": 0.032136,
     "end_time": "2023-02-10T23:21:50.905841",
     "exception": false,
     "start_time": "2023-02-10T23:21:50.873705",
     "status": "completed"
    },
    "tags": []
   },
   "outputs": [],
   "source": [
    "# Impute missing values with the mean of the column\n",
    "# state_merged.fillna(state_merged.mean(), inplace=True)"
   ]
  },
  {
   "cell_type": "code",
   "execution_count": 40,
   "id": "51ffeafb",
   "metadata": {
    "execution": {
     "iopub.execute_input": "2023-02-10T23:21:50.954016Z",
     "iopub.status.busy": "2023-02-10T23:21:50.953306Z",
     "iopub.status.idle": "2023-02-10T23:21:50.957515Z",
     "shell.execute_reply": "2023-02-10T23:21:50.956669Z"
    },
    "papermill": {
     "duration": 0.030664,
     "end_time": "2023-02-10T23:21:50.959589",
     "exception": false,
     "start_time": "2023-02-10T23:21:50.928925",
     "status": "completed"
    },
    "tags": []
   },
   "outputs": [],
   "source": [
    "# state_merged.isna().sum().sum()"
   ]
  },
  {
   "cell_type": "code",
   "execution_count": 41,
   "id": "450a28f1",
   "metadata": {
    "execution": {
     "iopub.execute_input": "2023-02-10T23:21:51.007622Z",
     "iopub.status.busy": "2023-02-10T23:21:51.007190Z",
     "iopub.status.idle": "2023-02-10T23:21:51.013622Z",
     "shell.execute_reply": "2023-02-10T23:21:51.012418Z"
    },
    "papermill": {
     "duration": 0.034103,
     "end_time": "2023-02-10T23:21:51.016593",
     "exception": false,
     "start_time": "2023-02-10T23:21:50.982490",
     "status": "completed"
    },
    "tags": []
   },
   "outputs": [
    {
     "name": "stdout",
     "output_type": "stream",
     "text": [
      "['ANDAMAN & NICOBAR ISLANDS' 'ARUNACHAL PRADESH' 'ASSAM & MEGHALAYA'\n",
      " 'NAGA MANI MIZO TRIPURA' 'SUB HIMALAYAN WEST BENGAL & SIKKIM'\n",
      " 'GANGETIC WEST BENGAL' 'ORISSA' 'JHARKHAND' 'BIHAR' 'EAST UTTAR PRADESH'\n",
      " 'WEST UTTAR PRADESH' 'UTTARAKHAND' 'HARYANA DELHI & CHANDIGARH' 'PUNJAB'\n",
      " 'HIMACHAL PRADESH' 'JAMMU & KASHMIR' 'WEST RAJASTHAN' 'EAST RAJASTHAN'\n",
      " 'WEST MADHYA PRADESH' 'EAST MADHYA PRADESH' 'GUJARAT REGION'\n",
      " 'SAURASHTRA & KUTCH' 'KONKAN & GOA' 'MADHYA MAHARASHTRA' 'MATATHWADA'\n",
      " 'VIDARBHA' 'CHHATTISGARH' 'COASTAL ANDHRA PRADESH' 'TELANGANA'\n",
      " 'RAYALSEEMA' 'TAMIL NADU' 'COASTAL KARNATAKA' 'NORTH INTERIOR KARNATAKA'\n",
      " 'SOUTH INTERIOR KARNATAKA' 'KERALA' 'LAKSHADWEEP']\n"
     ]
    }
   ],
   "source": [
    "subdivisions=india_rainfall_data['SUBDIVISION'].unique()\n",
    "print(subdivisions)"
   ]
  },
  {
   "cell_type": "code",
   "execution_count": 42,
   "id": "a585f6b1",
   "metadata": {
    "execution": {
     "iopub.execute_input": "2023-02-10T23:21:51.064683Z",
     "iopub.status.busy": "2023-02-10T23:21:51.064280Z",
     "iopub.status.idle": "2023-02-10T23:21:51.070043Z",
     "shell.execute_reply": "2023-02-10T23:21:51.068759Z"
    },
    "papermill": {
     "duration": 0.032896,
     "end_time": "2023-02-10T23:21:51.072692",
     "exception": false,
     "start_time": "2023-02-10T23:21:51.039796",
     "status": "completed"
    },
    "tags": []
   },
   "outputs": [
    {
     "name": "stdout",
     "output_type": "stream",
     "text": [
      "36\n"
     ]
    }
   ],
   "source": [
    "print(len(subdivisions))"
   ]
  },
  {
   "cell_type": "code",
   "execution_count": 43,
   "id": "0f5df19d",
   "metadata": {
    "execution": {
     "iopub.execute_input": "2023-02-10T23:21:51.121753Z",
     "iopub.status.busy": "2023-02-10T23:21:51.121361Z",
     "iopub.status.idle": "2023-02-10T23:21:51.150088Z",
     "shell.execute_reply": "2023-02-10T23:21:51.148796Z"
    },
    "papermill": {
     "duration": 0.056416,
     "end_time": "2023-02-10T23:21:51.152589",
     "exception": false,
     "start_time": "2023-02-10T23:21:51.096173",
     "status": "completed"
    },
    "tags": []
   },
   "outputs": [
    {
     "data": {
      "text/html": [
       "<div>\n",
       "<style scoped>\n",
       "    .dataframe tbody tr th:only-of-type {\n",
       "        vertical-align: middle;\n",
       "    }\n",
       "\n",
       "    .dataframe tbody tr th {\n",
       "        vertical-align: top;\n",
       "    }\n",
       "\n",
       "    .dataframe thead th {\n",
       "        text-align: right;\n",
       "    }\n",
       "</style>\n",
       "<table border=\"1\" class=\"dataframe\">\n",
       "  <thead>\n",
       "    <tr style=\"text-align: right;\">\n",
       "      <th></th>\n",
       "      <th>state</th>\n",
       "      <th>YEAR</th>\n",
       "      <th>JAN</th>\n",
       "      <th>FEB</th>\n",
       "      <th>MAR</th>\n",
       "      <th>APR</th>\n",
       "      <th>MAY</th>\n",
       "      <th>JUN</th>\n",
       "      <th>JUL</th>\n",
       "      <th>AUG</th>\n",
       "      <th>SEP</th>\n",
       "      <th>OCT</th>\n",
       "      <th>NOV</th>\n",
       "      <th>DEC</th>\n",
       "      <th>ANNUAL</th>\n",
       "      <th>Jan-Feb</th>\n",
       "      <th>Mar-May</th>\n",
       "      <th>Jun-Sep</th>\n",
       "      <th>Oct-Dec</th>\n",
       "    </tr>\n",
       "  </thead>\n",
       "  <tbody>\n",
       "    <tr>\n",
       "      <th>0</th>\n",
       "      <td>ANDAMAN &amp; NICOBAR ISLANDS</td>\n",
       "      <td>1901</td>\n",
       "      <td>49.2</td>\n",
       "      <td>87.1</td>\n",
       "      <td>29.2</td>\n",
       "      <td>2.3</td>\n",
       "      <td>528.8</td>\n",
       "      <td>517.5</td>\n",
       "      <td>365.1</td>\n",
       "      <td>481.1</td>\n",
       "      <td>332.6</td>\n",
       "      <td>388.5</td>\n",
       "      <td>558.2</td>\n",
       "      <td>33.6</td>\n",
       "      <td>3373.2</td>\n",
       "      <td>136.3</td>\n",
       "      <td>560.3</td>\n",
       "      <td>1696.3</td>\n",
       "      <td>980.3</td>\n",
       "    </tr>\n",
       "    <tr>\n",
       "      <th>1</th>\n",
       "      <td>ANDAMAN &amp; NICOBAR ISLANDS</td>\n",
       "      <td>1902</td>\n",
       "      <td>0.0</td>\n",
       "      <td>159.8</td>\n",
       "      <td>12.2</td>\n",
       "      <td>0.0</td>\n",
       "      <td>446.1</td>\n",
       "      <td>537.1</td>\n",
       "      <td>228.9</td>\n",
       "      <td>753.7</td>\n",
       "      <td>666.2</td>\n",
       "      <td>197.2</td>\n",
       "      <td>359.0</td>\n",
       "      <td>160.5</td>\n",
       "      <td>3520.7</td>\n",
       "      <td>159.8</td>\n",
       "      <td>458.3</td>\n",
       "      <td>2185.9</td>\n",
       "      <td>716.7</td>\n",
       "    </tr>\n",
       "    <tr>\n",
       "      <th>2</th>\n",
       "      <td>ANDAMAN &amp; NICOBAR ISLANDS</td>\n",
       "      <td>1903</td>\n",
       "      <td>12.7</td>\n",
       "      <td>144.0</td>\n",
       "      <td>0.0</td>\n",
       "      <td>1.0</td>\n",
       "      <td>235.1</td>\n",
       "      <td>479.9</td>\n",
       "      <td>728.4</td>\n",
       "      <td>326.7</td>\n",
       "      <td>339.0</td>\n",
       "      <td>181.2</td>\n",
       "      <td>284.4</td>\n",
       "      <td>225.0</td>\n",
       "      <td>2957.4</td>\n",
       "      <td>156.7</td>\n",
       "      <td>236.1</td>\n",
       "      <td>1874.0</td>\n",
       "      <td>690.6</td>\n",
       "    </tr>\n",
       "    <tr>\n",
       "      <th>3</th>\n",
       "      <td>ANDAMAN &amp; NICOBAR ISLANDS</td>\n",
       "      <td>1904</td>\n",
       "      <td>9.4</td>\n",
       "      <td>14.7</td>\n",
       "      <td>0.0</td>\n",
       "      <td>202.4</td>\n",
       "      <td>304.5</td>\n",
       "      <td>495.1</td>\n",
       "      <td>502.0</td>\n",
       "      <td>160.1</td>\n",
       "      <td>820.4</td>\n",
       "      <td>222.2</td>\n",
       "      <td>308.7</td>\n",
       "      <td>40.1</td>\n",
       "      <td>3079.6</td>\n",
       "      <td>24.1</td>\n",
       "      <td>506.9</td>\n",
       "      <td>1977.6</td>\n",
       "      <td>571.0</td>\n",
       "    </tr>\n",
       "    <tr>\n",
       "      <th>4</th>\n",
       "      <td>ANDAMAN &amp; NICOBAR ISLANDS</td>\n",
       "      <td>1905</td>\n",
       "      <td>1.3</td>\n",
       "      <td>0.0</td>\n",
       "      <td>3.3</td>\n",
       "      <td>26.9</td>\n",
       "      <td>279.5</td>\n",
       "      <td>628.7</td>\n",
       "      <td>368.7</td>\n",
       "      <td>330.5</td>\n",
       "      <td>297.0</td>\n",
       "      <td>260.7</td>\n",
       "      <td>25.4</td>\n",
       "      <td>344.7</td>\n",
       "      <td>2566.7</td>\n",
       "      <td>1.3</td>\n",
       "      <td>309.7</td>\n",
       "      <td>1624.9</td>\n",
       "      <td>630.8</td>\n",
       "    </tr>\n",
       "  </tbody>\n",
       "</table>\n",
       "</div>"
      ],
      "text/plain": [
       "                       state  YEAR   JAN    FEB   MAR    APR    MAY    JUN  \\\n",
       "0  ANDAMAN & NICOBAR ISLANDS  1901  49.2   87.1  29.2    2.3  528.8  517.5   \n",
       "1  ANDAMAN & NICOBAR ISLANDS  1902   0.0  159.8  12.2    0.0  446.1  537.1   \n",
       "2  ANDAMAN & NICOBAR ISLANDS  1903  12.7  144.0   0.0    1.0  235.1  479.9   \n",
       "3  ANDAMAN & NICOBAR ISLANDS  1904   9.4   14.7   0.0  202.4  304.5  495.1   \n",
       "4  ANDAMAN & NICOBAR ISLANDS  1905   1.3    0.0   3.3   26.9  279.5  628.7   \n",
       "\n",
       "     JUL    AUG    SEP    OCT    NOV    DEC  ANNUAL  Jan-Feb  Mar-May  \\\n",
       "0  365.1  481.1  332.6  388.5  558.2   33.6  3373.2    136.3    560.3   \n",
       "1  228.9  753.7  666.2  197.2  359.0  160.5  3520.7    159.8    458.3   \n",
       "2  728.4  326.7  339.0  181.2  284.4  225.0  2957.4    156.7    236.1   \n",
       "3  502.0  160.1  820.4  222.2  308.7   40.1  3079.6     24.1    506.9   \n",
       "4  368.7  330.5  297.0  260.7   25.4  344.7  2566.7      1.3    309.7   \n",
       "\n",
       "   Jun-Sep  Oct-Dec  \n",
       "0   1696.3    980.3  \n",
       "1   2185.9    716.7  \n",
       "2   1874.0    690.6  \n",
       "3   1977.6    571.0  \n",
       "4   1624.9    630.8  "
      ]
     },
     "execution_count": 43,
     "metadata": {},
     "output_type": "execute_result"
    }
   ],
   "source": [
    "india_rainfall_data.rename(columns={'SUBDIVISION': 'state'},inplace=True)\n",
    "india_rainfall_data.head()"
   ]
  },
  {
   "cell_type": "code",
   "execution_count": 44,
   "id": "52ba8166",
   "metadata": {
    "execution": {
     "iopub.execute_input": "2023-02-10T23:21:51.201697Z",
     "iopub.status.busy": "2023-02-10T23:21:51.201275Z",
     "iopub.status.idle": "2023-02-10T23:21:51.435175Z",
     "shell.execute_reply": "2023-02-10T23:21:51.433774Z"
    },
    "papermill": {
     "duration": 0.262057,
     "end_time": "2023-02-10T23:21:51.438248",
     "exception": false,
     "start_time": "2023-02-10T23:21:51.176191",
     "status": "completed"
    },
    "tags": []
   },
   "outputs": [
    {
     "name": "stderr",
     "output_type": "stream",
     "text": [
      "/opt/conda/lib/python3.7/site-packages/ipykernel_launcher.py:5: FutureWarning: Dropping of nuisance columns in DataFrame reductions (with 'numeric_only=None') is deprecated; in a future version this will raise TypeError.  Select only valid columns before calling the reduction.\n",
      "  \"\"\"\n"
     ]
    },
    {
     "data": {
      "text/html": [
       "<div>\n",
       "<style scoped>\n",
       "    .dataframe tbody tr th:only-of-type {\n",
       "        vertical-align: middle;\n",
       "    }\n",
       "\n",
       "    .dataframe tbody tr th {\n",
       "        vertical-align: top;\n",
       "    }\n",
       "\n",
       "    .dataframe thead th {\n",
       "        text-align: right;\n",
       "    }\n",
       "</style>\n",
       "<table border=\"1\" class=\"dataframe\">\n",
       "  <thead>\n",
       "    <tr style=\"text-align: right;\">\n",
       "      <th></th>\n",
       "      <th>state</th>\n",
       "      <th>YEAR</th>\n",
       "      <th>JAN_x</th>\n",
       "      <th>FEB_x</th>\n",
       "      <th>MAR_x</th>\n",
       "      <th>APR_x</th>\n",
       "      <th>MAY_x</th>\n",
       "      <th>JUN_x</th>\n",
       "      <th>JUL_x</th>\n",
       "      <th>AUG_x</th>\n",
       "      <th>...</th>\n",
       "      <th>Jun-Sep_y</th>\n",
       "      <th>Oct-Dec_y</th>\n",
       "      <th>district_y</th>\n",
       "      <th>market</th>\n",
       "      <th>commodity</th>\n",
       "      <th>variety</th>\n",
       "      <th>arrival_date</th>\n",
       "      <th>min_price</th>\n",
       "      <th>max_price</th>\n",
       "      <th>modal_price</th>\n",
       "    </tr>\n",
       "  </thead>\n",
       "  <tbody>\n",
       "    <tr>\n",
       "      <th>0</th>\n",
       "      <td>ANDAMAN &amp; NICOBAR ISLANDS</td>\n",
       "      <td>1901.0</td>\n",
       "      <td>49.2</td>\n",
       "      <td>87.1</td>\n",
       "      <td>29.2</td>\n",
       "      <td>2.3</td>\n",
       "      <td>528.8</td>\n",
       "      <td>517.5</td>\n",
       "      <td>365.1</td>\n",
       "      <td>481.1</td>\n",
       "      <td>...</td>\n",
       "      <td>1007.78413</td>\n",
       "      <td>207.296242</td>\n",
       "      <td>NaN</td>\n",
       "      <td>NaN</td>\n",
       "      <td>NaN</td>\n",
       "      <td>NaN</td>\n",
       "      <td>NaN</td>\n",
       "      <td>2456.230563</td>\n",
       "      <td>2855.890527</td>\n",
       "      <td>2698.865952</td>\n",
       "    </tr>\n",
       "    <tr>\n",
       "      <th>1</th>\n",
       "      <td>ANDAMAN &amp; NICOBAR ISLANDS</td>\n",
       "      <td>1902.0</td>\n",
       "      <td>0.0</td>\n",
       "      <td>159.8</td>\n",
       "      <td>12.2</td>\n",
       "      <td>0.0</td>\n",
       "      <td>446.1</td>\n",
       "      <td>537.1</td>\n",
       "      <td>228.9</td>\n",
       "      <td>753.7</td>\n",
       "      <td>...</td>\n",
       "      <td>1007.78413</td>\n",
       "      <td>207.296242</td>\n",
       "      <td>NaN</td>\n",
       "      <td>NaN</td>\n",
       "      <td>NaN</td>\n",
       "      <td>NaN</td>\n",
       "      <td>NaN</td>\n",
       "      <td>2456.230563</td>\n",
       "      <td>2855.890527</td>\n",
       "      <td>2698.865952</td>\n",
       "    </tr>\n",
       "    <tr>\n",
       "      <th>2</th>\n",
       "      <td>ANDAMAN &amp; NICOBAR ISLANDS</td>\n",
       "      <td>1903.0</td>\n",
       "      <td>12.7</td>\n",
       "      <td>144.0</td>\n",
       "      <td>0.0</td>\n",
       "      <td>1.0</td>\n",
       "      <td>235.1</td>\n",
       "      <td>479.9</td>\n",
       "      <td>728.4</td>\n",
       "      <td>326.7</td>\n",
       "      <td>...</td>\n",
       "      <td>1007.78413</td>\n",
       "      <td>207.296242</td>\n",
       "      <td>NaN</td>\n",
       "      <td>NaN</td>\n",
       "      <td>NaN</td>\n",
       "      <td>NaN</td>\n",
       "      <td>NaN</td>\n",
       "      <td>2456.230563</td>\n",
       "      <td>2855.890527</td>\n",
       "      <td>2698.865952</td>\n",
       "    </tr>\n",
       "    <tr>\n",
       "      <th>3</th>\n",
       "      <td>ANDAMAN &amp; NICOBAR ISLANDS</td>\n",
       "      <td>1904.0</td>\n",
       "      <td>9.4</td>\n",
       "      <td>14.7</td>\n",
       "      <td>0.0</td>\n",
       "      <td>202.4</td>\n",
       "      <td>304.5</td>\n",
       "      <td>495.1</td>\n",
       "      <td>502.0</td>\n",
       "      <td>160.1</td>\n",
       "      <td>...</td>\n",
       "      <td>1007.78413</td>\n",
       "      <td>207.296242</td>\n",
       "      <td>NaN</td>\n",
       "      <td>NaN</td>\n",
       "      <td>NaN</td>\n",
       "      <td>NaN</td>\n",
       "      <td>NaN</td>\n",
       "      <td>2456.230563</td>\n",
       "      <td>2855.890527</td>\n",
       "      <td>2698.865952</td>\n",
       "    </tr>\n",
       "    <tr>\n",
       "      <th>4</th>\n",
       "      <td>ANDAMAN &amp; NICOBAR ISLANDS</td>\n",
       "      <td>1905.0</td>\n",
       "      <td>1.3</td>\n",
       "      <td>0.0</td>\n",
       "      <td>3.3</td>\n",
       "      <td>26.9</td>\n",
       "      <td>279.5</td>\n",
       "      <td>628.7</td>\n",
       "      <td>368.7</td>\n",
       "      <td>330.5</td>\n",
       "      <td>...</td>\n",
       "      <td>1007.78413</td>\n",
       "      <td>207.296242</td>\n",
       "      <td>NaN</td>\n",
       "      <td>NaN</td>\n",
       "      <td>NaN</td>\n",
       "      <td>NaN</td>\n",
       "      <td>NaN</td>\n",
       "      <td>2456.230563</td>\n",
       "      <td>2855.890527</td>\n",
       "      <td>2698.865952</td>\n",
       "    </tr>\n",
       "  </tbody>\n",
       "</table>\n",
       "<p>5 rows × 45 columns</p>\n",
       "</div>"
      ],
      "text/plain": [
       "                       state    YEAR  JAN_x  FEB_x  MAR_x  APR_x  MAY_x  \\\n",
       "0  ANDAMAN & NICOBAR ISLANDS  1901.0   49.2   87.1   29.2    2.3  528.8   \n",
       "1  ANDAMAN & NICOBAR ISLANDS  1902.0    0.0  159.8   12.2    0.0  446.1   \n",
       "2  ANDAMAN & NICOBAR ISLANDS  1903.0   12.7  144.0    0.0    1.0  235.1   \n",
       "3  ANDAMAN & NICOBAR ISLANDS  1904.0    9.4   14.7    0.0  202.4  304.5   \n",
       "4  ANDAMAN & NICOBAR ISLANDS  1905.0    1.3    0.0    3.3   26.9  279.5   \n",
       "\n",
       "   JUN_x  JUL_x  AUG_x  ...   Jun-Sep_y   Oct-Dec_y  district_y  market  \\\n",
       "0  517.5  365.1  481.1  ...  1007.78413  207.296242         NaN     NaN   \n",
       "1  537.1  228.9  753.7  ...  1007.78413  207.296242         NaN     NaN   \n",
       "2  479.9  728.4  326.7  ...  1007.78413  207.296242         NaN     NaN   \n",
       "3  495.1  502.0  160.1  ...  1007.78413  207.296242         NaN     NaN   \n",
       "4  628.7  368.7  330.5  ...  1007.78413  207.296242         NaN     NaN   \n",
       "\n",
       "   commodity  variety  arrival_date    min_price    max_price  modal_price  \n",
       "0        NaN      NaN           NaN  2456.230563  2855.890527  2698.865952  \n",
       "1        NaN      NaN           NaN  2456.230563  2855.890527  2698.865952  \n",
       "2        NaN      NaN           NaN  2456.230563  2855.890527  2698.865952  \n",
       "3        NaN      NaN           NaN  2456.230563  2855.890527  2698.865952  \n",
       "4        NaN      NaN           NaN  2456.230563  2855.890527  2698.865952  \n",
       "\n",
       "[5 rows x 45 columns]"
      ]
     },
     "execution_count": 44,
     "metadata": {},
     "output_type": "execute_result"
    }
   ],
   "source": [
    "merged_dataset = pd.merge(india_rainfall_data,district_rainfall_data, on='state', how='outer')\n",
    "merged_dataset = pd.merge(merged_dataset,agriculture_related_data, on='state', how='outer')\n",
    "\n",
    "# Impute all NaN values with the mean value of each column\n",
    "merged_dataset.fillna(merged_dataset.mean(), inplace=True)\n",
    "\n",
    "# Print the head of the merged dataset\n",
    "merged_dataset.head()"
   ]
  },
  {
   "cell_type": "markdown",
   "id": "38295b45",
   "metadata": {
    "papermill": {
     "duration": 0.023392,
     "end_time": "2023-02-10T23:21:51.485628",
     "exception": false,
     "start_time": "2023-02-10T23:21:51.462236",
     "status": "completed"
    },
    "tags": []
   },
   "source": [
    "please"
   ]
  },
  {
   "cell_type": "code",
   "execution_count": 45,
   "id": "09e37fae",
   "metadata": {
    "execution": {
     "iopub.execute_input": "2023-02-10T23:21:51.534794Z",
     "iopub.status.busy": "2023-02-10T23:21:51.534396Z",
     "iopub.status.idle": "2023-02-10T23:21:51.551670Z",
     "shell.execute_reply": "2023-02-10T23:21:51.550439Z"
    },
    "papermill": {
     "duration": 0.044868,
     "end_time": "2023-02-10T23:21:51.554200",
     "exception": false,
     "start_time": "2023-02-10T23:21:51.509332",
     "status": "completed"
    },
    "tags": []
   },
   "outputs": [
    {
     "name": "stdout",
     "output_type": "stream",
     "text": [
      "10.616104747729675\n"
     ]
    }
   ],
   "source": [
    "missing_values_count = merged_dataset.isnull().sum()\n",
    "# how many total missing values do we have?\n",
    "total_cells = np.product(merged_dataset.shape)\n",
    "total_missing = missing_values_count.sum()\n",
    "\n",
    "# percent of data that is missing\n",
    "percent_missing = (total_missing/total_cells) * 100\n",
    "print(percent_missing)"
   ]
  },
  {
   "cell_type": "code",
   "execution_count": 46,
   "id": "9b8840bb",
   "metadata": {
    "execution": {
     "iopub.execute_input": "2023-02-10T23:21:51.604609Z",
     "iopub.status.busy": "2023-02-10T23:21:51.604182Z",
     "iopub.status.idle": "2023-02-10T23:21:51.611275Z",
     "shell.execute_reply": "2023-02-10T23:21:51.610102Z"
    },
    "papermill": {
     "duration": 0.034974,
     "end_time": "2023-02-10T23:21:51.613697",
     "exception": false,
     "start_time": "2023-02-10T23:21:51.578723",
     "status": "completed"
    },
    "tags": []
   },
   "outputs": [
    {
     "data": {
      "text/plain": [
       "123038"
      ]
     },
     "execution_count": 46,
     "metadata": {},
     "output_type": "execute_result"
    }
   ],
   "source": [
    "total_missing"
   ]
  },
  {
   "cell_type": "code",
   "execution_count": 47,
   "id": "099ee172",
   "metadata": {
    "execution": {
     "iopub.execute_input": "2023-02-10T23:21:51.664387Z",
     "iopub.status.busy": "2023-02-10T23:21:51.663993Z",
     "iopub.status.idle": "2023-02-10T23:21:51.670703Z",
     "shell.execute_reply": "2023-02-10T23:21:51.669580Z"
    },
    "papermill": {
     "duration": 0.035272,
     "end_time": "2023-02-10T23:21:51.673189",
     "exception": false,
     "start_time": "2023-02-10T23:21:51.637917",
     "status": "completed"
    },
    "tags": []
   },
   "outputs": [
    {
     "data": {
      "text/plain": [
       "1158975"
      ]
     },
     "execution_count": 47,
     "metadata": {},
     "output_type": "execute_result"
    }
   ],
   "source": [
    "total_cells"
   ]
  },
  {
   "cell_type": "code",
   "execution_count": 48,
   "id": "d00be986",
   "metadata": {
    "execution": {
     "iopub.execute_input": "2023-02-10T23:21:51.723078Z",
     "iopub.status.busy": "2023-02-10T23:21:51.722414Z",
     "iopub.status.idle": "2023-02-10T23:21:51.730170Z",
     "shell.execute_reply": "2023-02-10T23:21:51.729301Z"
    },
    "papermill": {
     "duration": 0.034966,
     "end_time": "2023-02-10T23:21:51.732237",
     "exception": false,
     "start_time": "2023-02-10T23:21:51.697271",
     "status": "completed"
    },
    "tags": []
   },
   "outputs": [
    {
     "data": {
      "text/plain": [
       "state               0\n",
       "YEAR                0\n",
       "JAN_x               0\n",
       "FEB_x               0\n",
       "MAR_x               0\n",
       "APR_x               0\n",
       "MAY_x               0\n",
       "JUN_x               0\n",
       "JUL_x               0\n",
       "AUG_x               0\n",
       "SEP_x               0\n",
       "OCT_x               0\n",
       "NOV_x               0\n",
       "DEC_x               0\n",
       "ANNUAL_x            0\n",
       "Jan-Feb_x           0\n",
       "Mar-May_x           0\n",
       "Jun-Sep_x           0\n",
       "Oct-Dec_x           0\n",
       "district_x       5453\n",
       "JAN_y               0\n",
       "FEB_y               0\n",
       "MAR_y               0\n",
       "APR_y               0\n",
       "MAY_y               0\n",
       "JUN_y               0\n",
       "JUL_y               0\n",
       "AUG_y               0\n",
       "SEP_y               0\n",
       "OCT_y               0\n",
       "NOV_y               0\n",
       "DEC_y               0\n",
       "ANNUAL_y            0\n",
       "Jan-Feb_y           0\n",
       "Mar-May_y           0\n",
       "Jun-Sep_y           0\n",
       "Oct-Dec_y           0\n",
       "district_y      23517\n",
       "market          23517\n",
       "commodity       23517\n",
       "variety         23517\n",
       "arrival_date    23517\n",
       "min_price           0\n",
       "max_price           0\n",
       "modal_price         0\n",
       "dtype: int64"
      ]
     },
     "execution_count": 48,
     "metadata": {},
     "output_type": "execute_result"
    }
   ],
   "source": [
    "missing_values_count"
   ]
  },
  {
   "cell_type": "code",
   "execution_count": 49,
   "id": "90673fba",
   "metadata": {
    "execution": {
     "iopub.execute_input": "2023-02-10T23:21:51.785034Z",
     "iopub.status.busy": "2023-02-10T23:21:51.784570Z",
     "iopub.status.idle": "2023-02-10T23:21:51.802815Z",
     "shell.execute_reply": "2023-02-10T23:21:51.801645Z"
    },
    "papermill": {
     "duration": 0.048121,
     "end_time": "2023-02-10T23:21:51.805484",
     "exception": false,
     "start_time": "2023-02-10T23:21:51.757363",
     "status": "completed"
    },
    "tags": []
   },
   "outputs": [
    {
     "data": {
      "text/plain": [
       "state               0\n",
       "YEAR                0\n",
       "JAN_x               0\n",
       "FEB_x               0\n",
       "MAR_x               0\n",
       "APR_x               0\n",
       "MAY_x               0\n",
       "JUN_x               0\n",
       "JUL_x               0\n",
       "AUG_x               0\n",
       "SEP_x               0\n",
       "OCT_x               0\n",
       "NOV_x               0\n",
       "DEC_x               0\n",
       "ANNUAL_x            0\n",
       "Jan-Feb_x           0\n",
       "Mar-May_x           0\n",
       "Jun-Sep_x           0\n",
       "Oct-Dec_x           0\n",
       "district_x       5453\n",
       "JAN_y               0\n",
       "FEB_y               0\n",
       "MAR_y               0\n",
       "APR_y               0\n",
       "MAY_y               0\n",
       "JUN_y               0\n",
       "JUL_y               0\n",
       "AUG_y               0\n",
       "SEP_y               0\n",
       "OCT_y               0\n",
       "NOV_y               0\n",
       "DEC_y               0\n",
       "ANNUAL_y            0\n",
       "Jan-Feb_y           0\n",
       "Mar-May_y           0\n",
       "Jun-Sep_y           0\n",
       "Oct-Dec_y           0\n",
       "district_y      23517\n",
       "market          23517\n",
       "commodity       23517\n",
       "variety         23517\n",
       "arrival_date    23517\n",
       "min_price           0\n",
       "max_price           0\n",
       "modal_price         0\n",
       "dtype: int64"
      ]
     },
     "execution_count": 49,
     "metadata": {},
     "output_type": "execute_result"
    }
   ],
   "source": [
    "merged_dataset.isna().sum()"
   ]
  },
  {
   "cell_type": "code",
   "execution_count": 50,
   "id": "2ff1ae90",
   "metadata": {
    "execution": {
     "iopub.execute_input": "2023-02-10T23:21:51.857349Z",
     "iopub.status.busy": "2023-02-10T23:21:51.856946Z",
     "iopub.status.idle": "2023-02-10T23:21:51.875300Z",
     "shell.execute_reply": "2023-02-10T23:21:51.874367Z"
    },
    "papermill": {
     "duration": 0.047216,
     "end_time": "2023-02-10T23:21:51.877970",
     "exception": false,
     "start_time": "2023-02-10T23:21:51.830754",
     "status": "completed"
    },
    "tags": []
   },
   "outputs": [],
   "source": [
    "df=merged_dataset.copy()\n",
    "df.drop(columns=['district_x','district_y','market','commodity','variety','arrival_date'], inplace=True)\n",
    "\n"
   ]
  },
  {
   "cell_type": "code",
   "execution_count": 51,
   "id": "924b2f5d",
   "metadata": {
    "execution": {
     "iopub.execute_input": "2023-02-10T23:21:51.928726Z",
     "iopub.status.busy": "2023-02-10T23:21:51.927964Z",
     "iopub.status.idle": "2023-02-10T23:21:51.939958Z",
     "shell.execute_reply": "2023-02-10T23:21:51.938876Z"
    },
    "papermill": {
     "duration": 0.040338,
     "end_time": "2023-02-10T23:21:51.942571",
     "exception": false,
     "start_time": "2023-02-10T23:21:51.902233",
     "status": "completed"
    },
    "tags": []
   },
   "outputs": [
    {
     "data": {
      "text/plain": [
       "0"
      ]
     },
     "execution_count": 51,
     "metadata": {},
     "output_type": "execute_result"
    }
   ],
   "source": [
    "df.isnull().sum().sum()"
   ]
  },
  {
   "cell_type": "code",
   "execution_count": 52,
   "id": "ce15028a",
   "metadata": {
    "execution": {
     "iopub.execute_input": "2023-02-10T23:21:51.993605Z",
     "iopub.status.busy": "2023-02-10T23:21:51.993201Z",
     "iopub.status.idle": "2023-02-10T23:21:52.001549Z",
     "shell.execute_reply": "2023-02-10T23:21:52.000244Z"
    },
    "papermill": {
     "duration": 0.036544,
     "end_time": "2023-02-10T23:21:52.003711",
     "exception": false,
     "start_time": "2023-02-10T23:21:51.967167",
     "status": "completed"
    },
    "tags": []
   },
   "outputs": [],
   "source": [
    "y=df['state']\n",
    "X=df.drop(columns=['state'])"
   ]
  },
  {
   "cell_type": "code",
   "execution_count": 53,
   "id": "af63c238",
   "metadata": {
    "execution": {
     "iopub.execute_input": "2023-02-10T23:21:52.054173Z",
     "iopub.status.busy": "2023-02-10T23:21:52.053768Z",
     "iopub.status.idle": "2023-02-10T23:21:52.082315Z",
     "shell.execute_reply": "2023-02-10T23:21:52.081197Z"
    },
    "papermill": {
     "duration": 0.056708,
     "end_time": "2023-02-10T23:21:52.084872",
     "exception": false,
     "start_time": "2023-02-10T23:21:52.028164",
     "status": "completed"
    },
    "tags": []
   },
   "outputs": [
    {
     "data": {
      "text/html": [
       "<div>\n",
       "<style scoped>\n",
       "    .dataframe tbody tr th:only-of-type {\n",
       "        vertical-align: middle;\n",
       "    }\n",
       "\n",
       "    .dataframe tbody tr th {\n",
       "        vertical-align: top;\n",
       "    }\n",
       "\n",
       "    .dataframe thead th {\n",
       "        text-align: right;\n",
       "    }\n",
       "</style>\n",
       "<table border=\"1\" class=\"dataframe\">\n",
       "  <thead>\n",
       "    <tr style=\"text-align: right;\">\n",
       "      <th></th>\n",
       "      <th>YEAR</th>\n",
       "      <th>JAN_x</th>\n",
       "      <th>FEB_x</th>\n",
       "      <th>MAR_x</th>\n",
       "      <th>APR_x</th>\n",
       "      <th>MAY_x</th>\n",
       "      <th>JUN_x</th>\n",
       "      <th>JUL_x</th>\n",
       "      <th>AUG_x</th>\n",
       "      <th>SEP_x</th>\n",
       "      <th>...</th>\n",
       "      <th>NOV_y</th>\n",
       "      <th>DEC_y</th>\n",
       "      <th>ANNUAL_y</th>\n",
       "      <th>Jan-Feb_y</th>\n",
       "      <th>Mar-May_y</th>\n",
       "      <th>Jun-Sep_y</th>\n",
       "      <th>Oct-Dec_y</th>\n",
       "      <th>min_price</th>\n",
       "      <th>max_price</th>\n",
       "      <th>modal_price</th>\n",
       "    </tr>\n",
       "  </thead>\n",
       "  <tbody>\n",
       "    <tr>\n",
       "      <th>0</th>\n",
       "      <td>1901.0</td>\n",
       "      <td>49.2</td>\n",
       "      <td>87.1</td>\n",
       "      <td>29.2</td>\n",
       "      <td>2.3</td>\n",
       "      <td>528.8</td>\n",
       "      <td>517.5</td>\n",
       "      <td>365.1</td>\n",
       "      <td>481.1</td>\n",
       "      <td>332.6</td>\n",
       "      <td>...</td>\n",
       "      <td>58.700837</td>\n",
       "      <td>28.529795</td>\n",
       "      <td>1427.970678</td>\n",
       "      <td>40.871239</td>\n",
       "      <td>172.019067</td>\n",
       "      <td>1007.78413</td>\n",
       "      <td>207.296242</td>\n",
       "      <td>2456.230563</td>\n",
       "      <td>2855.890527</td>\n",
       "      <td>2698.865952</td>\n",
       "    </tr>\n",
       "    <tr>\n",
       "      <th>1</th>\n",
       "      <td>1902.0</td>\n",
       "      <td>0.0</td>\n",
       "      <td>159.8</td>\n",
       "      <td>12.2</td>\n",
       "      <td>0.0</td>\n",
       "      <td>446.1</td>\n",
       "      <td>537.1</td>\n",
       "      <td>228.9</td>\n",
       "      <td>753.7</td>\n",
       "      <td>666.2</td>\n",
       "      <td>...</td>\n",
       "      <td>58.700837</td>\n",
       "      <td>28.529795</td>\n",
       "      <td>1427.970678</td>\n",
       "      <td>40.871239</td>\n",
       "      <td>172.019067</td>\n",
       "      <td>1007.78413</td>\n",
       "      <td>207.296242</td>\n",
       "      <td>2456.230563</td>\n",
       "      <td>2855.890527</td>\n",
       "      <td>2698.865952</td>\n",
       "    </tr>\n",
       "    <tr>\n",
       "      <th>2</th>\n",
       "      <td>1903.0</td>\n",
       "      <td>12.7</td>\n",
       "      <td>144.0</td>\n",
       "      <td>0.0</td>\n",
       "      <td>1.0</td>\n",
       "      <td>235.1</td>\n",
       "      <td>479.9</td>\n",
       "      <td>728.4</td>\n",
       "      <td>326.7</td>\n",
       "      <td>339.0</td>\n",
       "      <td>...</td>\n",
       "      <td>58.700837</td>\n",
       "      <td>28.529795</td>\n",
       "      <td>1427.970678</td>\n",
       "      <td>40.871239</td>\n",
       "      <td>172.019067</td>\n",
       "      <td>1007.78413</td>\n",
       "      <td>207.296242</td>\n",
       "      <td>2456.230563</td>\n",
       "      <td>2855.890527</td>\n",
       "      <td>2698.865952</td>\n",
       "    </tr>\n",
       "    <tr>\n",
       "      <th>3</th>\n",
       "      <td>1904.0</td>\n",
       "      <td>9.4</td>\n",
       "      <td>14.7</td>\n",
       "      <td>0.0</td>\n",
       "      <td>202.4</td>\n",
       "      <td>304.5</td>\n",
       "      <td>495.1</td>\n",
       "      <td>502.0</td>\n",
       "      <td>160.1</td>\n",
       "      <td>820.4</td>\n",
       "      <td>...</td>\n",
       "      <td>58.700837</td>\n",
       "      <td>28.529795</td>\n",
       "      <td>1427.970678</td>\n",
       "      <td>40.871239</td>\n",
       "      <td>172.019067</td>\n",
       "      <td>1007.78413</td>\n",
       "      <td>207.296242</td>\n",
       "      <td>2456.230563</td>\n",
       "      <td>2855.890527</td>\n",
       "      <td>2698.865952</td>\n",
       "    </tr>\n",
       "    <tr>\n",
       "      <th>4</th>\n",
       "      <td>1905.0</td>\n",
       "      <td>1.3</td>\n",
       "      <td>0.0</td>\n",
       "      <td>3.3</td>\n",
       "      <td>26.9</td>\n",
       "      <td>279.5</td>\n",
       "      <td>628.7</td>\n",
       "      <td>368.7</td>\n",
       "      <td>330.5</td>\n",
       "      <td>297.0</td>\n",
       "      <td>...</td>\n",
       "      <td>58.700837</td>\n",
       "      <td>28.529795</td>\n",
       "      <td>1427.970678</td>\n",
       "      <td>40.871239</td>\n",
       "      <td>172.019067</td>\n",
       "      <td>1007.78413</td>\n",
       "      <td>207.296242</td>\n",
       "      <td>2456.230563</td>\n",
       "      <td>2855.890527</td>\n",
       "      <td>2698.865952</td>\n",
       "    </tr>\n",
       "  </tbody>\n",
       "</table>\n",
       "<p>5 rows × 38 columns</p>\n",
       "</div>"
      ],
      "text/plain": [
       "     YEAR  JAN_x  FEB_x  MAR_x  APR_x  MAY_x  JUN_x  JUL_x  AUG_x  SEP_x  ...  \\\n",
       "0  1901.0   49.2   87.1   29.2    2.3  528.8  517.5  365.1  481.1  332.6  ...   \n",
       "1  1902.0    0.0  159.8   12.2    0.0  446.1  537.1  228.9  753.7  666.2  ...   \n",
       "2  1903.0   12.7  144.0    0.0    1.0  235.1  479.9  728.4  326.7  339.0  ...   \n",
       "3  1904.0    9.4   14.7    0.0  202.4  304.5  495.1  502.0  160.1  820.4  ...   \n",
       "4  1905.0    1.3    0.0    3.3   26.9  279.5  628.7  368.7  330.5  297.0  ...   \n",
       "\n",
       "       NOV_y      DEC_y     ANNUAL_y  Jan-Feb_y   Mar-May_y   Jun-Sep_y  \\\n",
       "0  58.700837  28.529795  1427.970678  40.871239  172.019067  1007.78413   \n",
       "1  58.700837  28.529795  1427.970678  40.871239  172.019067  1007.78413   \n",
       "2  58.700837  28.529795  1427.970678  40.871239  172.019067  1007.78413   \n",
       "3  58.700837  28.529795  1427.970678  40.871239  172.019067  1007.78413   \n",
       "4  58.700837  28.529795  1427.970678  40.871239  172.019067  1007.78413   \n",
       "\n",
       "    Oct-Dec_y    min_price    max_price  modal_price  \n",
       "0  207.296242  2456.230563  2855.890527  2698.865952  \n",
       "1  207.296242  2456.230563  2855.890527  2698.865952  \n",
       "2  207.296242  2456.230563  2855.890527  2698.865952  \n",
       "3  207.296242  2456.230563  2855.890527  2698.865952  \n",
       "4  207.296242  2456.230563  2855.890527  2698.865952  \n",
       "\n",
       "[5 rows x 38 columns]"
      ]
     },
     "execution_count": 53,
     "metadata": {},
     "output_type": "execute_result"
    }
   ],
   "source": [
    "X.head()"
   ]
  },
  {
   "cell_type": "code",
   "execution_count": 54,
   "id": "8123ade5",
   "metadata": {
    "execution": {
     "iopub.execute_input": "2023-02-10T23:21:52.137654Z",
     "iopub.status.busy": "2023-02-10T23:21:52.137207Z",
     "iopub.status.idle": "2023-02-10T23:21:59.643766Z",
     "shell.execute_reply": "2023-02-10T23:21:59.642365Z"
    },
    "papermill": {
     "duration": 7.535723,
     "end_time": "2023-02-10T23:21:59.646357",
     "exception": false,
     "start_time": "2023-02-10T23:21:52.110634",
     "status": "completed"
    },
    "tags": []
   },
   "outputs": [
    {
     "name": "stdout",
     "output_type": "stream",
     "text": [
      "Accuracy: 0.893224616579305\n"
     ]
    }
   ],
   "source": [
    "from sklearn.ensemble import RandomForestClassifier\n",
    "from xgboost import XGBClassifier\n",
    "from sklearn.model_selection import train_test_split\n",
    "from sklearn.metrics import accuracy_score\n",
    "X_train, X_test, y_train, y_test = train_test_split(X, y, test_size=0.2, random_state=0)\n",
    "clf = RandomForestClassifier()\n",
    "model=XGBClassifier()\n",
    "clf.fit(X_train, y_train)\n",
    "# Predict the target values of the test set\n",
    "y_pred = clf.predict(X_test)\n",
    "\n",
    "# Calculate the accuracy of the model\n",
    "accuracy = accuracy_score(y_test, y_pred)\n",
    "print(\"Accuracy:\", accuracy)"
   ]
  },
  {
   "cell_type": "code",
   "execution_count": 55,
   "id": "411e60aa",
   "metadata": {
    "execution": {
     "iopub.execute_input": "2023-02-10T23:21:59.698623Z",
     "iopub.status.busy": "2023-02-10T23:21:59.698188Z",
     "iopub.status.idle": "2023-02-10T23:21:59.704534Z",
     "shell.execute_reply": "2023-02-10T23:21:59.703417Z"
    },
    "papermill": {
     "duration": 0.035528,
     "end_time": "2023-02-10T23:21:59.707014",
     "exception": false,
     "start_time": "2023-02-10T23:21:59.671486",
     "status": "completed"
    },
    "tags": []
   },
   "outputs": [
    {
     "data": {
      "text/plain": [
       "(25755, 38)"
      ]
     },
     "execution_count": 55,
     "metadata": {},
     "output_type": "execute_result"
    }
   ],
   "source": [
    "X.shape"
   ]
  },
  {
   "cell_type": "code",
   "execution_count": 56,
   "id": "00005cc1",
   "metadata": {
    "execution": {
     "iopub.execute_input": "2023-02-10T23:21:59.760171Z",
     "iopub.status.busy": "2023-02-10T23:21:59.759733Z",
     "iopub.status.idle": "2023-02-10T23:21:59.767899Z",
     "shell.execute_reply": "2023-02-10T23:21:59.766528Z"
    },
    "papermill": {
     "duration": 0.037582,
     "end_time": "2023-02-10T23:21:59.770564",
     "exception": false,
     "start_time": "2023-02-10T23:21:59.732982",
     "status": "completed"
    },
    "tags": []
   },
   "outputs": [
    {
     "data": {
      "text/plain": [
       "Index(['YEAR', 'JAN_x', 'FEB_x', 'MAR_x', 'APR_x', 'MAY_x', 'JUN_x', 'JUL_x',\n",
       "       'AUG_x', 'SEP_x', 'OCT_x', 'NOV_x', 'DEC_x', 'ANNUAL_x', 'Jan-Feb_x',\n",
       "       'Mar-May_x', 'Jun-Sep_x', 'Oct-Dec_x', 'JAN_y', 'FEB_y', 'MAR_y',\n",
       "       'APR_y', 'MAY_y', 'JUN_y', 'JUL_y', 'AUG_y', 'SEP_y', 'OCT_y', 'NOV_y',\n",
       "       'DEC_y', 'ANNUAL_y', 'Jan-Feb_y', 'Mar-May_y', 'Jun-Sep_y', 'Oct-Dec_y',\n",
       "       'min_price', 'max_price', 'modal_price'],\n",
       "      dtype='object')"
      ]
     },
     "execution_count": 56,
     "metadata": {},
     "output_type": "execute_result"
    }
   ],
   "source": [
    "X.columns"
   ]
  },
  {
   "cell_type": "code",
   "execution_count": 57,
   "id": "11a30f74",
   "metadata": {
    "execution": {
     "iopub.execute_input": "2023-02-10T23:21:59.824711Z",
     "iopub.status.busy": "2023-02-10T23:21:59.824314Z",
     "iopub.status.idle": "2023-02-10T23:21:59.831271Z",
     "shell.execute_reply": "2023-02-10T23:21:59.830352Z"
    },
    "papermill": {
     "duration": 0.036914,
     "end_time": "2023-02-10T23:21:59.833469",
     "exception": false,
     "start_time": "2023-02-10T23:21:59.796555",
     "status": "completed"
    },
    "tags": []
   },
   "outputs": [
    {
     "data": {
      "text/plain": [
       "(2200, 8)"
      ]
     },
     "execution_count": 57,
     "metadata": {},
     "output_type": "execute_result"
    }
   ],
   "source": [
    "recommendation_data.shape"
   ]
  },
  {
   "cell_type": "markdown",
   "id": "694d5ca4",
   "metadata": {
    "papermill": {
     "duration": 0.025643,
     "end_time": "2023-02-10T23:21:59.885096",
     "exception": false,
     "start_time": "2023-02-10T23:21:59.859453",
     "status": "completed"
    },
    "tags": []
   },
   "source": [
    "columns of all"
   ]
  },
  {
   "cell_type": "code",
   "execution_count": 58,
   "id": "38f15300",
   "metadata": {
    "execution": {
     "iopub.execute_input": "2023-02-10T23:21:59.938648Z",
     "iopub.status.busy": "2023-02-10T23:21:59.938219Z",
     "iopub.status.idle": "2023-02-10T23:21:59.945700Z",
     "shell.execute_reply": "2023-02-10T23:21:59.944527Z"
    },
    "papermill": {
     "duration": 0.036993,
     "end_time": "2023-02-10T23:21:59.947979",
     "exception": false,
     "start_time": "2023-02-10T23:21:59.910986",
     "status": "completed"
    },
    "tags": []
   },
   "outputs": [
    {
     "data": {
      "text/plain": [
       "Index(['state', 'YEAR', 'JAN_x', 'FEB_x', 'MAR_x', 'APR_x', 'MAY_x', 'JUN_x',\n",
       "       'JUL_x', 'AUG_x', 'SEP_x', 'OCT_x', 'NOV_x', 'DEC_x', 'ANNUAL_x',\n",
       "       'Jan-Feb_x', 'Mar-May_x', 'Jun-Sep_x', 'Oct-Dec_x', 'JAN_y', 'FEB_y',\n",
       "       'MAR_y', 'APR_y', 'MAY_y', 'JUN_y', 'JUL_y', 'AUG_y', 'SEP_y', 'OCT_y',\n",
       "       'NOV_y', 'DEC_y', 'ANNUAL_y', 'Jan-Feb_y', 'Mar-May_y', 'Jun-Sep_y',\n",
       "       'Oct-Dec_y', 'min_price', 'max_price', 'modal_price'],\n",
       "      dtype='object')"
      ]
     },
     "execution_count": 58,
     "metadata": {},
     "output_type": "execute_result"
    }
   ],
   "source": [
    "df.columns"
   ]
  },
  {
   "cell_type": "code",
   "execution_count": 59,
   "id": "74171f9d",
   "metadata": {
    "execution": {
     "iopub.execute_input": "2023-02-10T23:22:00.001055Z",
     "iopub.status.busy": "2023-02-10T23:22:00.000607Z",
     "iopub.status.idle": "2023-02-10T23:22:00.007912Z",
     "shell.execute_reply": "2023-02-10T23:22:00.006768Z"
    },
    "papermill": {
     "duration": 0.036797,
     "end_time": "2023-02-10T23:22:00.010369",
     "exception": false,
     "start_time": "2023-02-10T23:21:59.973572",
     "status": "completed"
    },
    "tags": []
   },
   "outputs": [
    {
     "data": {
      "text/plain": [
       "Index(['N', 'P', 'K', 'temperature', 'humidity', 'ph', 'rainfall', 'label'], dtype='object')"
      ]
     },
     "execution_count": 59,
     "metadata": {},
     "output_type": "execute_result"
    }
   ],
   "source": [
    "recommendation_data.columns"
   ]
  },
  {
   "cell_type": "code",
   "execution_count": 60,
   "id": "38bfe6a6",
   "metadata": {
    "execution": {
     "iopub.execute_input": "2023-02-10T23:22:00.064246Z",
     "iopub.status.busy": "2023-02-10T23:22:00.063751Z",
     "iopub.status.idle": "2023-02-10T23:22:00.109871Z",
     "shell.execute_reply": "2023-02-10T23:22:00.108893Z"
    },
    "papermill": {
     "duration": 0.076139,
     "end_time": "2023-02-10T23:22:00.112131",
     "exception": false,
     "start_time": "2023-02-10T23:22:00.035992",
     "status": "completed"
    },
    "tags": []
   },
   "outputs": [
    {
     "data": {
      "text/html": [
       "<div>\n",
       "<style scoped>\n",
       "    .dataframe tbody tr th:only-of-type {\n",
       "        vertical-align: middle;\n",
       "    }\n",
       "\n",
       "    .dataframe tbody tr th {\n",
       "        vertical-align: top;\n",
       "    }\n",
       "\n",
       "    .dataframe thead th {\n",
       "        text-align: right;\n",
       "    }\n",
       "</style>\n",
       "<table border=\"1\" class=\"dataframe\">\n",
       "  <thead>\n",
       "    <tr style=\"text-align: right;\">\n",
       "      <th></th>\n",
       "      <th>state</th>\n",
       "      <th>YEAR</th>\n",
       "      <th>JAN_x</th>\n",
       "      <th>FEB_x</th>\n",
       "      <th>MAR_x</th>\n",
       "      <th>APR_x</th>\n",
       "      <th>MAY_x</th>\n",
       "      <th>JUN_x</th>\n",
       "      <th>JUL_x</th>\n",
       "      <th>AUG_x</th>\n",
       "      <th>...</th>\n",
       "      <th>NOV_y</th>\n",
       "      <th>DEC_y</th>\n",
       "      <th>ANNUAL_y</th>\n",
       "      <th>Jan-Feb_y</th>\n",
       "      <th>Mar-May_y</th>\n",
       "      <th>Jun-Sep_y</th>\n",
       "      <th>Oct-Dec_y</th>\n",
       "      <th>min_price</th>\n",
       "      <th>max_price</th>\n",
       "      <th>modal_price</th>\n",
       "    </tr>\n",
       "  </thead>\n",
       "  <tbody>\n",
       "    <tr>\n",
       "      <th>0</th>\n",
       "      <td>ANDAMAN &amp; NICOBAR ISLANDS</td>\n",
       "      <td>1901.0</td>\n",
       "      <td>49.2</td>\n",
       "      <td>87.1</td>\n",
       "      <td>29.2</td>\n",
       "      <td>2.3</td>\n",
       "      <td>528.8</td>\n",
       "      <td>517.5</td>\n",
       "      <td>365.1</td>\n",
       "      <td>481.1</td>\n",
       "      <td>...</td>\n",
       "      <td>58.700837</td>\n",
       "      <td>28.529795</td>\n",
       "      <td>1427.970678</td>\n",
       "      <td>40.871239</td>\n",
       "      <td>172.019067</td>\n",
       "      <td>1007.78413</td>\n",
       "      <td>207.296242</td>\n",
       "      <td>2456.230563</td>\n",
       "      <td>2855.890527</td>\n",
       "      <td>2698.865952</td>\n",
       "    </tr>\n",
       "    <tr>\n",
       "      <th>1</th>\n",
       "      <td>ANDAMAN &amp; NICOBAR ISLANDS</td>\n",
       "      <td>1902.0</td>\n",
       "      <td>0.0</td>\n",
       "      <td>159.8</td>\n",
       "      <td>12.2</td>\n",
       "      <td>0.0</td>\n",
       "      <td>446.1</td>\n",
       "      <td>537.1</td>\n",
       "      <td>228.9</td>\n",
       "      <td>753.7</td>\n",
       "      <td>...</td>\n",
       "      <td>58.700837</td>\n",
       "      <td>28.529795</td>\n",
       "      <td>1427.970678</td>\n",
       "      <td>40.871239</td>\n",
       "      <td>172.019067</td>\n",
       "      <td>1007.78413</td>\n",
       "      <td>207.296242</td>\n",
       "      <td>2456.230563</td>\n",
       "      <td>2855.890527</td>\n",
       "      <td>2698.865952</td>\n",
       "    </tr>\n",
       "    <tr>\n",
       "      <th>2</th>\n",
       "      <td>ANDAMAN &amp; NICOBAR ISLANDS</td>\n",
       "      <td>1903.0</td>\n",
       "      <td>12.7</td>\n",
       "      <td>144.0</td>\n",
       "      <td>0.0</td>\n",
       "      <td>1.0</td>\n",
       "      <td>235.1</td>\n",
       "      <td>479.9</td>\n",
       "      <td>728.4</td>\n",
       "      <td>326.7</td>\n",
       "      <td>...</td>\n",
       "      <td>58.700837</td>\n",
       "      <td>28.529795</td>\n",
       "      <td>1427.970678</td>\n",
       "      <td>40.871239</td>\n",
       "      <td>172.019067</td>\n",
       "      <td>1007.78413</td>\n",
       "      <td>207.296242</td>\n",
       "      <td>2456.230563</td>\n",
       "      <td>2855.890527</td>\n",
       "      <td>2698.865952</td>\n",
       "    </tr>\n",
       "    <tr>\n",
       "      <th>3</th>\n",
       "      <td>ANDAMAN &amp; NICOBAR ISLANDS</td>\n",
       "      <td>1904.0</td>\n",
       "      <td>9.4</td>\n",
       "      <td>14.7</td>\n",
       "      <td>0.0</td>\n",
       "      <td>202.4</td>\n",
       "      <td>304.5</td>\n",
       "      <td>495.1</td>\n",
       "      <td>502.0</td>\n",
       "      <td>160.1</td>\n",
       "      <td>...</td>\n",
       "      <td>58.700837</td>\n",
       "      <td>28.529795</td>\n",
       "      <td>1427.970678</td>\n",
       "      <td>40.871239</td>\n",
       "      <td>172.019067</td>\n",
       "      <td>1007.78413</td>\n",
       "      <td>207.296242</td>\n",
       "      <td>2456.230563</td>\n",
       "      <td>2855.890527</td>\n",
       "      <td>2698.865952</td>\n",
       "    </tr>\n",
       "    <tr>\n",
       "      <th>4</th>\n",
       "      <td>ANDAMAN &amp; NICOBAR ISLANDS</td>\n",
       "      <td>1905.0</td>\n",
       "      <td>1.3</td>\n",
       "      <td>0.0</td>\n",
       "      <td>3.3</td>\n",
       "      <td>26.9</td>\n",
       "      <td>279.5</td>\n",
       "      <td>628.7</td>\n",
       "      <td>368.7</td>\n",
       "      <td>330.5</td>\n",
       "      <td>...</td>\n",
       "      <td>58.700837</td>\n",
       "      <td>28.529795</td>\n",
       "      <td>1427.970678</td>\n",
       "      <td>40.871239</td>\n",
       "      <td>172.019067</td>\n",
       "      <td>1007.78413</td>\n",
       "      <td>207.296242</td>\n",
       "      <td>2456.230563</td>\n",
       "      <td>2855.890527</td>\n",
       "      <td>2698.865952</td>\n",
       "    </tr>\n",
       "    <tr>\n",
       "      <th>5</th>\n",
       "      <td>ANDAMAN &amp; NICOBAR ISLANDS</td>\n",
       "      <td>1906.0</td>\n",
       "      <td>36.6</td>\n",
       "      <td>0.0</td>\n",
       "      <td>0.0</td>\n",
       "      <td>0.0</td>\n",
       "      <td>556.1</td>\n",
       "      <td>733.3</td>\n",
       "      <td>247.7</td>\n",
       "      <td>320.5</td>\n",
       "      <td>...</td>\n",
       "      <td>58.700837</td>\n",
       "      <td>28.529795</td>\n",
       "      <td>1427.970678</td>\n",
       "      <td>40.871239</td>\n",
       "      <td>172.019067</td>\n",
       "      <td>1007.78413</td>\n",
       "      <td>207.296242</td>\n",
       "      <td>2456.230563</td>\n",
       "      <td>2855.890527</td>\n",
       "      <td>2698.865952</td>\n",
       "    </tr>\n",
       "    <tr>\n",
       "      <th>6</th>\n",
       "      <td>ANDAMAN &amp; NICOBAR ISLANDS</td>\n",
       "      <td>1907.0</td>\n",
       "      <td>110.7</td>\n",
       "      <td>0.0</td>\n",
       "      <td>113.3</td>\n",
       "      <td>21.6</td>\n",
       "      <td>616.3</td>\n",
       "      <td>305.2</td>\n",
       "      <td>443.9</td>\n",
       "      <td>377.6</td>\n",
       "      <td>...</td>\n",
       "      <td>58.700837</td>\n",
       "      <td>28.529795</td>\n",
       "      <td>1427.970678</td>\n",
       "      <td>40.871239</td>\n",
       "      <td>172.019067</td>\n",
       "      <td>1007.78413</td>\n",
       "      <td>207.296242</td>\n",
       "      <td>2456.230563</td>\n",
       "      <td>2855.890527</td>\n",
       "      <td>2698.865952</td>\n",
       "    </tr>\n",
       "    <tr>\n",
       "      <th>7</th>\n",
       "      <td>ANDAMAN &amp; NICOBAR ISLANDS</td>\n",
       "      <td>1908.0</td>\n",
       "      <td>20.9</td>\n",
       "      <td>85.1</td>\n",
       "      <td>0.0</td>\n",
       "      <td>29.0</td>\n",
       "      <td>562.0</td>\n",
       "      <td>693.6</td>\n",
       "      <td>481.4</td>\n",
       "      <td>699.9</td>\n",
       "      <td>...</td>\n",
       "      <td>58.700837</td>\n",
       "      <td>28.529795</td>\n",
       "      <td>1427.970678</td>\n",
       "      <td>40.871239</td>\n",
       "      <td>172.019067</td>\n",
       "      <td>1007.78413</td>\n",
       "      <td>207.296242</td>\n",
       "      <td>2456.230563</td>\n",
       "      <td>2855.890527</td>\n",
       "      <td>2698.865952</td>\n",
       "    </tr>\n",
       "    <tr>\n",
       "      <th>8</th>\n",
       "      <td>ANDAMAN &amp; NICOBAR ISLANDS</td>\n",
       "      <td>1910.0</td>\n",
       "      <td>26.6</td>\n",
       "      <td>22.7</td>\n",
       "      <td>206.3</td>\n",
       "      <td>89.3</td>\n",
       "      <td>224.5</td>\n",
       "      <td>472.7</td>\n",
       "      <td>264.3</td>\n",
       "      <td>337.4</td>\n",
       "      <td>...</td>\n",
       "      <td>58.700837</td>\n",
       "      <td>28.529795</td>\n",
       "      <td>1427.970678</td>\n",
       "      <td>40.871239</td>\n",
       "      <td>172.019067</td>\n",
       "      <td>1007.78413</td>\n",
       "      <td>207.296242</td>\n",
       "      <td>2456.230563</td>\n",
       "      <td>2855.890527</td>\n",
       "      <td>2698.865952</td>\n",
       "    </tr>\n",
       "    <tr>\n",
       "      <th>9</th>\n",
       "      <td>ANDAMAN &amp; NICOBAR ISLANDS</td>\n",
       "      <td>1911.0</td>\n",
       "      <td>0.0</td>\n",
       "      <td>8.4</td>\n",
       "      <td>0.0</td>\n",
       "      <td>122.5</td>\n",
       "      <td>327.3</td>\n",
       "      <td>649.0</td>\n",
       "      <td>253.0</td>\n",
       "      <td>187.1</td>\n",
       "      <td>...</td>\n",
       "      <td>58.700837</td>\n",
       "      <td>28.529795</td>\n",
       "      <td>1427.970678</td>\n",
       "      <td>40.871239</td>\n",
       "      <td>172.019067</td>\n",
       "      <td>1007.78413</td>\n",
       "      <td>207.296242</td>\n",
       "      <td>2456.230563</td>\n",
       "      <td>2855.890527</td>\n",
       "      <td>2698.865952</td>\n",
       "    </tr>\n",
       "    <tr>\n",
       "      <th>10</th>\n",
       "      <td>ANDAMAN &amp; NICOBAR ISLANDS</td>\n",
       "      <td>1912.0</td>\n",
       "      <td>583.7</td>\n",
       "      <td>0.8</td>\n",
       "      <td>0.0</td>\n",
       "      <td>21.9</td>\n",
       "      <td>140.7</td>\n",
       "      <td>549.8</td>\n",
       "      <td>468.9</td>\n",
       "      <td>370.3</td>\n",
       "      <td>...</td>\n",
       "      <td>58.700837</td>\n",
       "      <td>28.529795</td>\n",
       "      <td>1427.970678</td>\n",
       "      <td>40.871239</td>\n",
       "      <td>172.019067</td>\n",
       "      <td>1007.78413</td>\n",
       "      <td>207.296242</td>\n",
       "      <td>2456.230563</td>\n",
       "      <td>2855.890527</td>\n",
       "      <td>2698.865952</td>\n",
       "    </tr>\n",
       "    <tr>\n",
       "      <th>11</th>\n",
       "      <td>ANDAMAN &amp; NICOBAR ISLANDS</td>\n",
       "      <td>1913.0</td>\n",
       "      <td>84.8</td>\n",
       "      <td>0.5</td>\n",
       "      <td>1.3</td>\n",
       "      <td>2.5</td>\n",
       "      <td>190.7</td>\n",
       "      <td>530.0</td>\n",
       "      <td>280.8</td>\n",
       "      <td>205.8</td>\n",
       "      <td>...</td>\n",
       "      <td>58.700837</td>\n",
       "      <td>28.529795</td>\n",
       "      <td>1427.970678</td>\n",
       "      <td>40.871239</td>\n",
       "      <td>172.019067</td>\n",
       "      <td>1007.78413</td>\n",
       "      <td>207.296242</td>\n",
       "      <td>2456.230563</td>\n",
       "      <td>2855.890527</td>\n",
       "      <td>2698.865952</td>\n",
       "    </tr>\n",
       "    <tr>\n",
       "      <th>12</th>\n",
       "      <td>ANDAMAN &amp; NICOBAR ISLANDS</td>\n",
       "      <td>1914.0</td>\n",
       "      <td>0.0</td>\n",
       "      <td>0.0</td>\n",
       "      <td>0.0</td>\n",
       "      <td>37.7</td>\n",
       "      <td>298.8</td>\n",
       "      <td>383.3</td>\n",
       "      <td>792.8</td>\n",
       "      <td>520.5</td>\n",
       "      <td>...</td>\n",
       "      <td>58.700837</td>\n",
       "      <td>28.529795</td>\n",
       "      <td>1427.970678</td>\n",
       "      <td>40.871239</td>\n",
       "      <td>172.019067</td>\n",
       "      <td>1007.78413</td>\n",
       "      <td>207.296242</td>\n",
       "      <td>2456.230563</td>\n",
       "      <td>2855.890527</td>\n",
       "      <td>2698.865952</td>\n",
       "    </tr>\n",
       "    <tr>\n",
       "      <th>13</th>\n",
       "      <td>ANDAMAN &amp; NICOBAR ISLANDS</td>\n",
       "      <td>1915.0</td>\n",
       "      <td>45.0</td>\n",
       "      <td>56.7</td>\n",
       "      <td>33.3</td>\n",
       "      <td>40.9</td>\n",
       "      <td>170.2</td>\n",
       "      <td>334.7</td>\n",
       "      <td>269.0</td>\n",
       "      <td>317.2</td>\n",
       "      <td>...</td>\n",
       "      <td>58.700837</td>\n",
       "      <td>28.529795</td>\n",
       "      <td>1427.970678</td>\n",
       "      <td>40.871239</td>\n",
       "      <td>172.019067</td>\n",
       "      <td>1007.78413</td>\n",
       "      <td>207.296242</td>\n",
       "      <td>2456.230563</td>\n",
       "      <td>2855.890527</td>\n",
       "      <td>2698.865952</td>\n",
       "    </tr>\n",
       "    <tr>\n",
       "      <th>14</th>\n",
       "      <td>ANDAMAN &amp; NICOBAR ISLANDS</td>\n",
       "      <td>1916.0</td>\n",
       "      <td>0.0</td>\n",
       "      <td>0.0</td>\n",
       "      <td>0.0</td>\n",
       "      <td>0.5</td>\n",
       "      <td>487.4</td>\n",
       "      <td>450.1</td>\n",
       "      <td>317.3</td>\n",
       "      <td>425.0</td>\n",
       "      <td>...</td>\n",
       "      <td>58.700837</td>\n",
       "      <td>28.529795</td>\n",
       "      <td>1427.970678</td>\n",
       "      <td>40.871239</td>\n",
       "      <td>172.019067</td>\n",
       "      <td>1007.78413</td>\n",
       "      <td>207.296242</td>\n",
       "      <td>2456.230563</td>\n",
       "      <td>2855.890527</td>\n",
       "      <td>2698.865952</td>\n",
       "    </tr>\n",
       "    <tr>\n",
       "      <th>15</th>\n",
       "      <td>ANDAMAN &amp; NICOBAR ISLANDS</td>\n",
       "      <td>1917.0</td>\n",
       "      <td>8.0</td>\n",
       "      <td>3.6</td>\n",
       "      <td>112.0</td>\n",
       "      <td>4.5</td>\n",
       "      <td>295.9</td>\n",
       "      <td>301.1</td>\n",
       "      <td>394.8</td>\n",
       "      <td>437.4</td>\n",
       "      <td>...</td>\n",
       "      <td>58.700837</td>\n",
       "      <td>28.529795</td>\n",
       "      <td>1427.970678</td>\n",
       "      <td>40.871239</td>\n",
       "      <td>172.019067</td>\n",
       "      <td>1007.78413</td>\n",
       "      <td>207.296242</td>\n",
       "      <td>2456.230563</td>\n",
       "      <td>2855.890527</td>\n",
       "      <td>2698.865952</td>\n",
       "    </tr>\n",
       "    <tr>\n",
       "      <th>16</th>\n",
       "      <td>ANDAMAN &amp; NICOBAR ISLANDS</td>\n",
       "      <td>1918.0</td>\n",
       "      <td>77.4</td>\n",
       "      <td>6.9</td>\n",
       "      <td>11.4</td>\n",
       "      <td>10.7</td>\n",
       "      <td>729.3</td>\n",
       "      <td>710.8</td>\n",
       "      <td>200.9</td>\n",
       "      <td>455.4</td>\n",
       "      <td>...</td>\n",
       "      <td>58.700837</td>\n",
       "      <td>28.529795</td>\n",
       "      <td>1427.970678</td>\n",
       "      <td>40.871239</td>\n",
       "      <td>172.019067</td>\n",
       "      <td>1007.78413</td>\n",
       "      <td>207.296242</td>\n",
       "      <td>2456.230563</td>\n",
       "      <td>2855.890527</td>\n",
       "      <td>2698.865952</td>\n",
       "    </tr>\n",
       "    <tr>\n",
       "      <th>17</th>\n",
       "      <td>ANDAMAN &amp; NICOBAR ISLANDS</td>\n",
       "      <td>1919.0</td>\n",
       "      <td>10.2</td>\n",
       "      <td>18.0</td>\n",
       "      <td>0.0</td>\n",
       "      <td>35.5</td>\n",
       "      <td>283.9</td>\n",
       "      <td>542.5</td>\n",
       "      <td>246.5</td>\n",
       "      <td>259.8</td>\n",
       "      <td>...</td>\n",
       "      <td>58.700837</td>\n",
       "      <td>28.529795</td>\n",
       "      <td>1427.970678</td>\n",
       "      <td>40.871239</td>\n",
       "      <td>172.019067</td>\n",
       "      <td>1007.78413</td>\n",
       "      <td>207.296242</td>\n",
       "      <td>2456.230563</td>\n",
       "      <td>2855.890527</td>\n",
       "      <td>2698.865952</td>\n",
       "    </tr>\n",
       "    <tr>\n",
       "      <th>18</th>\n",
       "      <td>ANDAMAN &amp; NICOBAR ISLANDS</td>\n",
       "      <td>1920.0</td>\n",
       "      <td>122.3</td>\n",
       "      <td>7.4</td>\n",
       "      <td>3.1</td>\n",
       "      <td>13.0</td>\n",
       "      <td>237.4</td>\n",
       "      <td>546.9</td>\n",
       "      <td>294.4</td>\n",
       "      <td>467.4</td>\n",
       "      <td>...</td>\n",
       "      <td>58.700837</td>\n",
       "      <td>28.529795</td>\n",
       "      <td>1427.970678</td>\n",
       "      <td>40.871239</td>\n",
       "      <td>172.019067</td>\n",
       "      <td>1007.78413</td>\n",
       "      <td>207.296242</td>\n",
       "      <td>2456.230563</td>\n",
       "      <td>2855.890527</td>\n",
       "      <td>2698.865952</td>\n",
       "    </tr>\n",
       "    <tr>\n",
       "      <th>19</th>\n",
       "      <td>ANDAMAN &amp; NICOBAR ISLANDS</td>\n",
       "      <td>1921.0</td>\n",
       "      <td>13.2</td>\n",
       "      <td>3.1</td>\n",
       "      <td>0.0</td>\n",
       "      <td>37.5</td>\n",
       "      <td>351.2</td>\n",
       "      <td>282.7</td>\n",
       "      <td>487.1</td>\n",
       "      <td>330.0</td>\n",
       "      <td>...</td>\n",
       "      <td>58.700837</td>\n",
       "      <td>28.529795</td>\n",
       "      <td>1427.970678</td>\n",
       "      <td>40.871239</td>\n",
       "      <td>172.019067</td>\n",
       "      <td>1007.78413</td>\n",
       "      <td>207.296242</td>\n",
       "      <td>2456.230563</td>\n",
       "      <td>2855.890527</td>\n",
       "      <td>2698.865952</td>\n",
       "    </tr>\n",
       "  </tbody>\n",
       "</table>\n",
       "<p>20 rows × 39 columns</p>\n",
       "</div>"
      ],
      "text/plain": [
       "                        state    YEAR  JAN_x  FEB_x  MAR_x  APR_x  MAY_x  \\\n",
       "0   ANDAMAN & NICOBAR ISLANDS  1901.0   49.2   87.1   29.2    2.3  528.8   \n",
       "1   ANDAMAN & NICOBAR ISLANDS  1902.0    0.0  159.8   12.2    0.0  446.1   \n",
       "2   ANDAMAN & NICOBAR ISLANDS  1903.0   12.7  144.0    0.0    1.0  235.1   \n",
       "3   ANDAMAN & NICOBAR ISLANDS  1904.0    9.4   14.7    0.0  202.4  304.5   \n",
       "4   ANDAMAN & NICOBAR ISLANDS  1905.0    1.3    0.0    3.3   26.9  279.5   \n",
       "5   ANDAMAN & NICOBAR ISLANDS  1906.0   36.6    0.0    0.0    0.0  556.1   \n",
       "6   ANDAMAN & NICOBAR ISLANDS  1907.0  110.7    0.0  113.3   21.6  616.3   \n",
       "7   ANDAMAN & NICOBAR ISLANDS  1908.0   20.9   85.1    0.0   29.0  562.0   \n",
       "8   ANDAMAN & NICOBAR ISLANDS  1910.0   26.6   22.7  206.3   89.3  224.5   \n",
       "9   ANDAMAN & NICOBAR ISLANDS  1911.0    0.0    8.4    0.0  122.5  327.3   \n",
       "10  ANDAMAN & NICOBAR ISLANDS  1912.0  583.7    0.8    0.0   21.9  140.7   \n",
       "11  ANDAMAN & NICOBAR ISLANDS  1913.0   84.8    0.5    1.3    2.5  190.7   \n",
       "12  ANDAMAN & NICOBAR ISLANDS  1914.0    0.0    0.0    0.0   37.7  298.8   \n",
       "13  ANDAMAN & NICOBAR ISLANDS  1915.0   45.0   56.7   33.3   40.9  170.2   \n",
       "14  ANDAMAN & NICOBAR ISLANDS  1916.0    0.0    0.0    0.0    0.5  487.4   \n",
       "15  ANDAMAN & NICOBAR ISLANDS  1917.0    8.0    3.6  112.0    4.5  295.9   \n",
       "16  ANDAMAN & NICOBAR ISLANDS  1918.0   77.4    6.9   11.4   10.7  729.3   \n",
       "17  ANDAMAN & NICOBAR ISLANDS  1919.0   10.2   18.0    0.0   35.5  283.9   \n",
       "18  ANDAMAN & NICOBAR ISLANDS  1920.0  122.3    7.4    3.1   13.0  237.4   \n",
       "19  ANDAMAN & NICOBAR ISLANDS  1921.0   13.2    3.1    0.0   37.5  351.2   \n",
       "\n",
       "    JUN_x  JUL_x  AUG_x  ...      NOV_y      DEC_y     ANNUAL_y  Jan-Feb_y  \\\n",
       "0   517.5  365.1  481.1  ...  58.700837  28.529795  1427.970678  40.871239   \n",
       "1   537.1  228.9  753.7  ...  58.700837  28.529795  1427.970678  40.871239   \n",
       "2   479.9  728.4  326.7  ...  58.700837  28.529795  1427.970678  40.871239   \n",
       "3   495.1  502.0  160.1  ...  58.700837  28.529795  1427.970678  40.871239   \n",
       "4   628.7  368.7  330.5  ...  58.700837  28.529795  1427.970678  40.871239   \n",
       "5   733.3  247.7  320.5  ...  58.700837  28.529795  1427.970678  40.871239   \n",
       "6   305.2  443.9  377.6  ...  58.700837  28.529795  1427.970678  40.871239   \n",
       "7   693.6  481.4  699.9  ...  58.700837  28.529795  1427.970678  40.871239   \n",
       "8   472.7  264.3  337.4  ...  58.700837  28.529795  1427.970678  40.871239   \n",
       "9   649.0  253.0  187.1  ...  58.700837  28.529795  1427.970678  40.871239   \n",
       "10  549.8  468.9  370.3  ...  58.700837  28.529795  1427.970678  40.871239   \n",
       "11  530.0  280.8  205.8  ...  58.700837  28.529795  1427.970678  40.871239   \n",
       "12  383.3  792.8  520.5  ...  58.700837  28.529795  1427.970678  40.871239   \n",
       "13  334.7  269.0  317.2  ...  58.700837  28.529795  1427.970678  40.871239   \n",
       "14  450.1  317.3  425.0  ...  58.700837  28.529795  1427.970678  40.871239   \n",
       "15  301.1  394.8  437.4  ...  58.700837  28.529795  1427.970678  40.871239   \n",
       "16  710.8  200.9  455.4  ...  58.700837  28.529795  1427.970678  40.871239   \n",
       "17  542.5  246.5  259.8  ...  58.700837  28.529795  1427.970678  40.871239   \n",
       "18  546.9  294.4  467.4  ...  58.700837  28.529795  1427.970678  40.871239   \n",
       "19  282.7  487.1  330.0  ...  58.700837  28.529795  1427.970678  40.871239   \n",
       "\n",
       "     Mar-May_y   Jun-Sep_y   Oct-Dec_y    min_price    max_price  modal_price  \n",
       "0   172.019067  1007.78413  207.296242  2456.230563  2855.890527  2698.865952  \n",
       "1   172.019067  1007.78413  207.296242  2456.230563  2855.890527  2698.865952  \n",
       "2   172.019067  1007.78413  207.296242  2456.230563  2855.890527  2698.865952  \n",
       "3   172.019067  1007.78413  207.296242  2456.230563  2855.890527  2698.865952  \n",
       "4   172.019067  1007.78413  207.296242  2456.230563  2855.890527  2698.865952  \n",
       "5   172.019067  1007.78413  207.296242  2456.230563  2855.890527  2698.865952  \n",
       "6   172.019067  1007.78413  207.296242  2456.230563  2855.890527  2698.865952  \n",
       "7   172.019067  1007.78413  207.296242  2456.230563  2855.890527  2698.865952  \n",
       "8   172.019067  1007.78413  207.296242  2456.230563  2855.890527  2698.865952  \n",
       "9   172.019067  1007.78413  207.296242  2456.230563  2855.890527  2698.865952  \n",
       "10  172.019067  1007.78413  207.296242  2456.230563  2855.890527  2698.865952  \n",
       "11  172.019067  1007.78413  207.296242  2456.230563  2855.890527  2698.865952  \n",
       "12  172.019067  1007.78413  207.296242  2456.230563  2855.890527  2698.865952  \n",
       "13  172.019067  1007.78413  207.296242  2456.230563  2855.890527  2698.865952  \n",
       "14  172.019067  1007.78413  207.296242  2456.230563  2855.890527  2698.865952  \n",
       "15  172.019067  1007.78413  207.296242  2456.230563  2855.890527  2698.865952  \n",
       "16  172.019067  1007.78413  207.296242  2456.230563  2855.890527  2698.865952  \n",
       "17  172.019067  1007.78413  207.296242  2456.230563  2855.890527  2698.865952  \n",
       "18  172.019067  1007.78413  207.296242  2456.230563  2855.890527  2698.865952  \n",
       "19  172.019067  1007.78413  207.296242  2456.230563  2855.890527  2698.865952  \n",
       "\n",
       "[20 rows x 39 columns]"
      ]
     },
     "execution_count": 60,
     "metadata": {},
     "output_type": "execute_result"
    }
   ],
   "source": [
    "df.head(20)"
   ]
  },
  {
   "cell_type": "code",
   "execution_count": 61,
   "id": "d37add06",
   "metadata": {
    "execution": {
     "iopub.execute_input": "2023-02-10T23:22:00.169002Z",
     "iopub.status.busy": "2023-02-10T23:22:00.168520Z",
     "iopub.status.idle": "2023-02-10T23:22:00.179945Z",
     "shell.execute_reply": "2023-02-10T23:22:00.178904Z"
    },
    "papermill": {
     "duration": 0.04325,
     "end_time": "2023-02-10T23:22:00.183068",
     "exception": false,
     "start_time": "2023-02-10T23:22:00.139818",
     "status": "completed"
    },
    "tags": []
   },
   "outputs": [
    {
     "data": {
      "text/plain": [
       "207.296242    5453\n",
       "83.700000      345\n",
       "93.800000      231\n",
       "72.300000      231\n",
       "45.800000      230\n",
       "              ... \n",
       "26.300000        1\n",
       "29.900000        1\n",
       "19.000000        1\n",
       "21.000000        1\n",
       "225.200000       1\n",
       "Name: Oct-Dec_y, Length: 525, dtype: int64"
      ]
     },
     "execution_count": 61,
     "metadata": {},
     "output_type": "execute_result"
    }
   ],
   "source": [
    "df['Oct-Dec_y'].value_counts()"
   ]
  },
  {
   "cell_type": "code",
   "execution_count": 62,
   "id": "6b57ce6e",
   "metadata": {
    "execution": {
     "iopub.execute_input": "2023-02-10T23:22:00.238842Z",
     "iopub.status.busy": "2023-02-10T23:22:00.238440Z",
     "iopub.status.idle": "2023-02-10T23:22:00.248710Z",
     "shell.execute_reply": "2023-02-10T23:22:00.247603Z"
    },
    "papermill": {
     "duration": 0.0402,
     "end_time": "2023-02-10T23:22:00.250890",
     "exception": false,
     "start_time": "2023-02-10T23:22:00.210690",
     "status": "completed"
    },
    "tags": []
   },
   "outputs": [
    {
     "data": {
      "text/plain": [
       "202.935536    1\n",
       "26.036577     1\n",
       "20.390205     1\n",
       "21.179248     1\n",
       "21.000099     1\n",
       "             ..\n",
       "65.816559     1\n",
       "63.497263     1\n",
       "65.628595     1\n",
       "61.192509     1\n",
       "140.937041    1\n",
       "Name: rainfall, Length: 2200, dtype: int64"
      ]
     },
     "execution_count": 62,
     "metadata": {},
     "output_type": "execute_result"
    }
   ],
   "source": [
    "recommendation_data['rainfall'].value_counts()"
   ]
  },
  {
   "cell_type": "code",
   "execution_count": 63,
   "id": "4caf22ec",
   "metadata": {
    "execution": {
     "iopub.execute_input": "2023-02-10T23:22:00.307498Z",
     "iopub.status.busy": "2023-02-10T23:22:00.307088Z",
     "iopub.status.idle": "2023-02-10T23:22:00.317241Z",
     "shell.execute_reply": "2023-02-10T23:22:00.316184Z"
    },
    "papermill": {
     "duration": 0.04002,
     "end_time": "2023-02-10T23:22:00.319457",
     "exception": false,
     "start_time": "2023-02-10T23:22:00.279437",
     "status": "completed"
    },
    "tags": []
   },
   "outputs": [
    {
     "data": {
      "text/plain": [
       "172.019067    5453\n",
       "27.900000      233\n",
       "101.800000     230\n",
       "68.100000      230\n",
       "115.900000     230\n",
       "              ... \n",
       "25.100000        1\n",
       "13.400000        1\n",
       "48.200000        1\n",
       "48.800000        1\n",
       "104.800000       1\n",
       "Name: Mar-May_y, Length: 512, dtype: int64"
      ]
     },
     "execution_count": 63,
     "metadata": {},
     "output_type": "execute_result"
    }
   ],
   "source": [
    "df['Mar-May_y'].value_counts()"
   ]
  },
  {
   "cell_type": "code",
   "execution_count": 64,
   "id": "6dd6dc6f",
   "metadata": {
    "execution": {
     "iopub.execute_input": "2023-02-10T23:22:00.375038Z",
     "iopub.status.busy": "2023-02-10T23:22:00.374574Z",
     "iopub.status.idle": "2023-02-10T23:22:00.382716Z",
     "shell.execute_reply": "2023-02-10T23:22:00.381624Z"
    },
    "papermill": {
     "duration": 0.03866,
     "end_time": "2023-02-10T23:22:00.385252",
     "exception": false,
     "start_time": "2023-02-10T23:22:00.346592",
     "status": "completed"
    },
    "tags": []
   },
   "outputs": [],
   "source": [
    "df['average']=(df['Jan-Feb_y']+df['Mar-May_y']+df['Jun-Sep_y']+df['Oct-Dec_y'])/4"
   ]
  },
  {
   "cell_type": "code",
   "execution_count": 65,
   "id": "48aa8ca6",
   "metadata": {
    "execution": {
     "iopub.execute_input": "2023-02-10T23:22:00.440028Z",
     "iopub.status.busy": "2023-02-10T23:22:00.439328Z",
     "iopub.status.idle": "2023-02-10T23:22:00.447996Z",
     "shell.execute_reply": "2023-02-10T23:22:00.447053Z"
    },
    "papermill": {
     "duration": 0.038312,
     "end_time": "2023-02-10T23:22:00.450089",
     "exception": false,
     "start_time": "2023-02-10T23:22:00.411777",
     "status": "completed"
    },
    "tags": []
   },
   "outputs": [
    {
     "data": {
      "text/plain": [
       "356.992669    5453\n",
       "362.075000     230\n",
       "286.700000     230\n",
       "260.450000     230\n",
       "383.375000     230\n",
       "              ... \n",
       "530.975000       1\n",
       "316.750000       1\n",
       "204.600000       1\n",
       "167.325000       1\n",
       "187.125000       1\n",
       "Name: average, Length: 594, dtype: int64"
      ]
     },
     "execution_count": 65,
     "metadata": {},
     "output_type": "execute_result"
    }
   ],
   "source": [
    "df['average'].value_counts()"
   ]
  },
  {
   "cell_type": "code",
   "execution_count": null,
   "id": "28fde77b",
   "metadata": {
    "papermill": {
     "duration": 0.026292,
     "end_time": "2023-02-10T23:22:00.502865",
     "exception": false,
     "start_time": "2023-02-10T23:22:00.476573",
     "status": "completed"
    },
    "tags": []
   },
   "outputs": [],
   "source": []
  }
 ],
 "metadata": {
  "kernelspec": {
   "display_name": "Python 3",
   "language": "python",
   "name": "python3"
  },
  "language_info": {
   "codemirror_mode": {
    "name": "ipython",
    "version": 3
   },
   "file_extension": ".py",
   "mimetype": "text/x-python",
   "name": "python",
   "nbconvert_exporter": "python",
   "pygments_lexer": "ipython3",
   "version": "3.7.12"
  },
  "papermill": {
   "default_parameters": {},
   "duration": 22.239683,
   "end_time": "2023-02-10T23:22:01.351750",
   "environment_variables": {},
   "exception": null,
   "input_path": "__notebook__.ipynb",
   "output_path": "__notebook__.ipynb",
   "parameters": {},
   "start_time": "2023-02-10T23:21:39.112067",
   "version": "2.3.4"
  }
 },
 "nbformat": 4,
 "nbformat_minor": 5
}
