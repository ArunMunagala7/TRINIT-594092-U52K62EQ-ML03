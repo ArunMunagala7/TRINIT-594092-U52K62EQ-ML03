{
 "cells": [
  {
   "cell_type": "code",
   "execution_count": 1,
   "id": "ee54f052",
   "metadata": {
    "_cell_guid": "b1076dfc-b9ad-4769-8c92-a6c4dae69d19",
    "_uuid": "8f2839f25d086af736a60e9eeb907d3b93b6e0e5",
    "execution": {
     "iopub.execute_input": "2023-02-11T13:26:48.815255Z",
     "iopub.status.busy": "2023-02-11T13:26:48.814592Z",
     "iopub.status.idle": "2023-02-11T13:26:48.836340Z",
     "shell.execute_reply": "2023-02-11T13:26:48.835037Z"
    },
    "papermill": {
     "duration": 0.031596,
     "end_time": "2023-02-11T13:26:48.839192",
     "exception": false,
     "start_time": "2023-02-11T13:26:48.807596",
     "status": "completed"
    },
    "tags": []
   },
   "outputs": [
    {
     "name": "stdout",
     "output_type": "stream",
     "text": [
      "/kaggle/input/crop-recommendation-dataset/Crop_recommendation.csv\n"
     ]
    }
   ],
   "source": [
    "# This Python 3 environment comes with many helpful analytics libraries installed\n",
    "# It is defined by the kaggle/python Docker image: https://github.com/kaggle/docker-python\n",
    "# For example, here's several helpful packages to load\n",
    "\n",
    "import numpy as np # linear algebra\n",
    "import pandas as pd # data processing, CSV file I/O (e.g. pd.read_csv)\n",
    "\n",
    "# Input data files are available in the read-only \"../input/\" directory\n",
    "# For example, running this (by clicking run or pressing Shift+Enter) will list all files under the input directory\n",
    "\n",
    "import os\n",
    "for dirname, _, filenames in os.walk('/kaggle/input'):\n",
    "    for filename in filenames:\n",
    "        print(os.path.join(dirname, filename))\n",
    "\n",
    "# You can write up to 20GB to the current directory (/kaggle/working/) that gets preserved as output when you create a version using \"Save & Run All\" \n",
    "# You can also write temporary files to /kaggle/temp/, but they won't be saved outside of the current session"
   ]
  },
  {
   "cell_type": "markdown",
   "id": "f5590ede",
   "metadata": {
    "papermill": {
     "duration": 0.00329,
     "end_time": "2023-02-11T13:26:48.846419",
     "exception": false,
     "start_time": "2023-02-11T13:26:48.843129",
     "status": "completed"
    },
    "tags": []
   },
   "source": [
    "modelling from the given features"
   ]
  },
  {
   "cell_type": "code",
   "execution_count": 2,
   "id": "4e467b2d",
   "metadata": {
    "execution": {
     "iopub.execute_input": "2023-02-11T13:26:48.855688Z",
     "iopub.status.busy": "2023-02-11T13:26:48.854972Z",
     "iopub.status.idle": "2023-02-11T13:26:48.896748Z",
     "shell.execute_reply": "2023-02-11T13:26:48.895386Z"
    },
    "papermill": {
     "duration": 0.049494,
     "end_time": "2023-02-11T13:26:48.899478",
     "exception": false,
     "start_time": "2023-02-11T13:26:48.849984",
     "status": "completed"
    },
    "tags": []
   },
   "outputs": [
    {
     "data": {
      "text/html": [
       "<div>\n",
       "<style scoped>\n",
       "    .dataframe tbody tr th:only-of-type {\n",
       "        vertical-align: middle;\n",
       "    }\n",
       "\n",
       "    .dataframe tbody tr th {\n",
       "        vertical-align: top;\n",
       "    }\n",
       "\n",
       "    .dataframe thead th {\n",
       "        text-align: right;\n",
       "    }\n",
       "</style>\n",
       "<table border=\"1\" class=\"dataframe\">\n",
       "  <thead>\n",
       "    <tr style=\"text-align: right;\">\n",
       "      <th></th>\n",
       "      <th>N</th>\n",
       "      <th>P</th>\n",
       "      <th>K</th>\n",
       "      <th>temperature</th>\n",
       "      <th>humidity</th>\n",
       "      <th>ph</th>\n",
       "      <th>rainfall</th>\n",
       "      <th>label</th>\n",
       "    </tr>\n",
       "  </thead>\n",
       "  <tbody>\n",
       "    <tr>\n",
       "      <th>0</th>\n",
       "      <td>90</td>\n",
       "      <td>42</td>\n",
       "      <td>43</td>\n",
       "      <td>20.879744</td>\n",
       "      <td>82.002744</td>\n",
       "      <td>6.502985</td>\n",
       "      <td>202.935536</td>\n",
       "      <td>rice</td>\n",
       "    </tr>\n",
       "    <tr>\n",
       "      <th>1</th>\n",
       "      <td>85</td>\n",
       "      <td>58</td>\n",
       "      <td>41</td>\n",
       "      <td>21.770462</td>\n",
       "      <td>80.319644</td>\n",
       "      <td>7.038096</td>\n",
       "      <td>226.655537</td>\n",
       "      <td>rice</td>\n",
       "    </tr>\n",
       "    <tr>\n",
       "      <th>2</th>\n",
       "      <td>60</td>\n",
       "      <td>55</td>\n",
       "      <td>44</td>\n",
       "      <td>23.004459</td>\n",
       "      <td>82.320763</td>\n",
       "      <td>7.840207</td>\n",
       "      <td>263.964248</td>\n",
       "      <td>rice</td>\n",
       "    </tr>\n",
       "    <tr>\n",
       "      <th>3</th>\n",
       "      <td>74</td>\n",
       "      <td>35</td>\n",
       "      <td>40</td>\n",
       "      <td>26.491096</td>\n",
       "      <td>80.158363</td>\n",
       "      <td>6.980401</td>\n",
       "      <td>242.864034</td>\n",
       "      <td>rice</td>\n",
       "    </tr>\n",
       "    <tr>\n",
       "      <th>4</th>\n",
       "      <td>78</td>\n",
       "      <td>42</td>\n",
       "      <td>42</td>\n",
       "      <td>20.130175</td>\n",
       "      <td>81.604873</td>\n",
       "      <td>7.628473</td>\n",
       "      <td>262.717340</td>\n",
       "      <td>rice</td>\n",
       "    </tr>\n",
       "  </tbody>\n",
       "</table>\n",
       "</div>"
      ],
      "text/plain": [
       "    N   P   K  temperature   humidity        ph    rainfall label\n",
       "0  90  42  43    20.879744  82.002744  6.502985  202.935536  rice\n",
       "1  85  58  41    21.770462  80.319644  7.038096  226.655537  rice\n",
       "2  60  55  44    23.004459  82.320763  7.840207  263.964248  rice\n",
       "3  74  35  40    26.491096  80.158363  6.980401  242.864034  rice\n",
       "4  78  42  42    20.130175  81.604873  7.628473  262.717340  rice"
      ]
     },
     "execution_count": 2,
     "metadata": {},
     "output_type": "execute_result"
    }
   ],
   "source": [
    "train_data=pd.read_csv('/kaggle/input/crop-recommendation-dataset/Crop_recommendation.csv')\n",
    "train_data.head()"
   ]
  },
  {
   "cell_type": "code",
   "execution_count": 3,
   "id": "2f8076a6",
   "metadata": {
    "execution": {
     "iopub.execute_input": "2023-02-11T13:26:48.908692Z",
     "iopub.status.busy": "2023-02-11T13:26:48.908313Z",
     "iopub.status.idle": "2023-02-11T13:26:48.920689Z",
     "shell.execute_reply": "2023-02-11T13:26:48.919490Z"
    },
    "papermill": {
     "duration": 0.01955,
     "end_time": "2023-02-11T13:26:48.922972",
     "exception": false,
     "start_time": "2023-02-11T13:26:48.903422",
     "status": "completed"
    },
    "tags": []
   },
   "outputs": [],
   "source": [
    "X=train_data.copy()\n",
    "X.drop(columns=['label'],inplace=True)\n",
    "y=train_data['label']"
   ]
  },
  {
   "cell_type": "code",
   "execution_count": 4,
   "id": "49caf142",
   "metadata": {
    "execution": {
     "iopub.execute_input": "2023-02-11T13:26:48.932477Z",
     "iopub.status.busy": "2023-02-11T13:26:48.932106Z",
     "iopub.status.idle": "2023-02-11T13:26:48.946321Z",
     "shell.execute_reply": "2023-02-11T13:26:48.944967Z"
    },
    "papermill": {
     "duration": 0.021722,
     "end_time": "2023-02-11T13:26:48.948562",
     "exception": false,
     "start_time": "2023-02-11T13:26:48.926840",
     "status": "completed"
    },
    "tags": []
   },
   "outputs": [
    {
     "data": {
      "text/html": [
       "<div>\n",
       "<style scoped>\n",
       "    .dataframe tbody tr th:only-of-type {\n",
       "        vertical-align: middle;\n",
       "    }\n",
       "\n",
       "    .dataframe tbody tr th {\n",
       "        vertical-align: top;\n",
       "    }\n",
       "\n",
       "    .dataframe thead th {\n",
       "        text-align: right;\n",
       "    }\n",
       "</style>\n",
       "<table border=\"1\" class=\"dataframe\">\n",
       "  <thead>\n",
       "    <tr style=\"text-align: right;\">\n",
       "      <th></th>\n",
       "      <th>N</th>\n",
       "      <th>P</th>\n",
       "      <th>K</th>\n",
       "      <th>temperature</th>\n",
       "      <th>humidity</th>\n",
       "      <th>ph</th>\n",
       "      <th>rainfall</th>\n",
       "    </tr>\n",
       "  </thead>\n",
       "  <tbody>\n",
       "    <tr>\n",
       "      <th>0</th>\n",
       "      <td>90</td>\n",
       "      <td>42</td>\n",
       "      <td>43</td>\n",
       "      <td>20.879744</td>\n",
       "      <td>82.002744</td>\n",
       "      <td>6.502985</td>\n",
       "      <td>202.935536</td>\n",
       "    </tr>\n",
       "    <tr>\n",
       "      <th>1</th>\n",
       "      <td>85</td>\n",
       "      <td>58</td>\n",
       "      <td>41</td>\n",
       "      <td>21.770462</td>\n",
       "      <td>80.319644</td>\n",
       "      <td>7.038096</td>\n",
       "      <td>226.655537</td>\n",
       "    </tr>\n",
       "    <tr>\n",
       "      <th>2</th>\n",
       "      <td>60</td>\n",
       "      <td>55</td>\n",
       "      <td>44</td>\n",
       "      <td>23.004459</td>\n",
       "      <td>82.320763</td>\n",
       "      <td>7.840207</td>\n",
       "      <td>263.964248</td>\n",
       "    </tr>\n",
       "    <tr>\n",
       "      <th>3</th>\n",
       "      <td>74</td>\n",
       "      <td>35</td>\n",
       "      <td>40</td>\n",
       "      <td>26.491096</td>\n",
       "      <td>80.158363</td>\n",
       "      <td>6.980401</td>\n",
       "      <td>242.864034</td>\n",
       "    </tr>\n",
       "    <tr>\n",
       "      <th>4</th>\n",
       "      <td>78</td>\n",
       "      <td>42</td>\n",
       "      <td>42</td>\n",
       "      <td>20.130175</td>\n",
       "      <td>81.604873</td>\n",
       "      <td>7.628473</td>\n",
       "      <td>262.717340</td>\n",
       "    </tr>\n",
       "  </tbody>\n",
       "</table>\n",
       "</div>"
      ],
      "text/plain": [
       "    N   P   K  temperature   humidity        ph    rainfall\n",
       "0  90  42  43    20.879744  82.002744  6.502985  202.935536\n",
       "1  85  58  41    21.770462  80.319644  7.038096  226.655537\n",
       "2  60  55  44    23.004459  82.320763  7.840207  263.964248\n",
       "3  74  35  40    26.491096  80.158363  6.980401  242.864034\n",
       "4  78  42  42    20.130175  81.604873  7.628473  262.717340"
      ]
     },
     "execution_count": 4,
     "metadata": {},
     "output_type": "execute_result"
    }
   ],
   "source": [
    "X.head()"
   ]
  },
  {
   "cell_type": "code",
   "execution_count": 5,
   "id": "d1856619",
   "metadata": {
    "execution": {
     "iopub.execute_input": "2023-02-11T13:26:48.958749Z",
     "iopub.status.busy": "2023-02-11T13:26:48.958026Z",
     "iopub.status.idle": "2023-02-11T13:26:48.965793Z",
     "shell.execute_reply": "2023-02-11T13:26:48.964673Z"
    },
    "papermill": {
     "duration": 0.01543,
     "end_time": "2023-02-11T13:26:48.968027",
     "exception": false,
     "start_time": "2023-02-11T13:26:48.952597",
     "status": "completed"
    },
    "tags": []
   },
   "outputs": [
    {
     "data": {
      "text/plain": [
       "0    rice\n",
       "1    rice\n",
       "2    rice\n",
       "3    rice\n",
       "4    rice\n",
       "Name: label, dtype: object"
      ]
     },
     "execution_count": 5,
     "metadata": {},
     "output_type": "execute_result"
    }
   ],
   "source": [
    "y.head()"
   ]
  },
  {
   "cell_type": "code",
   "execution_count": 6,
   "id": "f8c61814",
   "metadata": {
    "execution": {
     "iopub.execute_input": "2023-02-11T13:26:48.979347Z",
     "iopub.status.busy": "2023-02-11T13:26:48.978057Z",
     "iopub.status.idle": "2023-02-11T13:26:50.371329Z",
     "shell.execute_reply": "2023-02-11T13:26:50.370081Z"
    },
    "papermill": {
     "duration": 1.401429,
     "end_time": "2023-02-11T13:26:50.373733",
     "exception": false,
     "start_time": "2023-02-11T13:26:48.972304",
     "status": "completed"
    },
    "tags": []
   },
   "outputs": [
    {
     "data": {
      "text/html": [
       "<div>\n",
       "<style scoped>\n",
       "    .dataframe tbody tr th:only-of-type {\n",
       "        vertical-align: middle;\n",
       "    }\n",
       "\n",
       "    .dataframe tbody tr th {\n",
       "        vertical-align: top;\n",
       "    }\n",
       "\n",
       "    .dataframe thead th {\n",
       "        text-align: right;\n",
       "    }\n",
       "</style>\n",
       "<table border=\"1\" class=\"dataframe\">\n",
       "  <thead>\n",
       "    <tr style=\"text-align: right;\">\n",
       "      <th></th>\n",
       "      <th>Feature</th>\n",
       "      <th>Mutual Information</th>\n",
       "    </tr>\n",
       "  </thead>\n",
       "  <tbody>\n",
       "    <tr>\n",
       "      <th>4</th>\n",
       "      <td>humidity</td>\n",
       "      <td>1.729954</td>\n",
       "    </tr>\n",
       "    <tr>\n",
       "      <th>2</th>\n",
       "      <td>K</td>\n",
       "      <td>1.656337</td>\n",
       "    </tr>\n",
       "    <tr>\n",
       "      <th>6</th>\n",
       "      <td>rainfall</td>\n",
       "      <td>1.637358</td>\n",
       "    </tr>\n",
       "    <tr>\n",
       "      <th>1</th>\n",
       "      <td>P</td>\n",
       "      <td>1.314045</td>\n",
       "    </tr>\n",
       "    <tr>\n",
       "      <th>3</th>\n",
       "      <td>temperature</td>\n",
       "      <td>1.017901</td>\n",
       "    </tr>\n",
       "    <tr>\n",
       "      <th>0</th>\n",
       "      <td>N</td>\n",
       "      <td>0.967551</td>\n",
       "    </tr>\n",
       "    <tr>\n",
       "      <th>5</th>\n",
       "      <td>ph</td>\n",
       "      <td>0.686067</td>\n",
       "    </tr>\n",
       "  </tbody>\n",
       "</table>\n",
       "</div>"
      ],
      "text/plain": [
       "       Feature  Mutual Information\n",
       "4     humidity            1.729954\n",
       "2            K            1.656337\n",
       "6     rainfall            1.637358\n",
       "1            P            1.314045\n",
       "3  temperature            1.017901\n",
       "0            N            0.967551\n",
       "5           ph            0.686067"
      ]
     },
     "execution_count": 6,
     "metadata": {},
     "output_type": "execute_result"
    }
   ],
   "source": [
    "from sklearn.feature_selection import mutual_info_classif\n",
    "features=X.columns\n",
    "mutual_info = mutual_info_classif(X, y)\n",
    "mutual_info = pd.DataFrame({'Feature': features, 'Mutual Information': mutual_info})\n",
    "mutual_info = mutual_info.sort_values('Mutual Information', ascending=False)\n",
    "mutual_info"
   ]
  },
  {
   "cell_type": "markdown",
   "id": "6e7c0023",
   "metadata": {
    "papermill": {
     "duration": 0.003901,
     "end_time": "2023-02-11T13:26:50.381899",
     "exception": false,
     "start_time": "2023-02-11T13:26:50.377998",
     "status": "completed"
    },
    "tags": []
   },
   "source": [
    "checking shape of the training data"
   ]
  },
  {
   "cell_type": "code",
   "execution_count": 7,
   "id": "bc8563c2",
   "metadata": {
    "execution": {
     "iopub.execute_input": "2023-02-11T13:26:50.392290Z",
     "iopub.status.busy": "2023-02-11T13:26:50.391626Z",
     "iopub.status.idle": "2023-02-11T13:26:50.399394Z",
     "shell.execute_reply": "2023-02-11T13:26:50.398400Z"
    },
    "papermill": {
     "duration": 0.015548,
     "end_time": "2023-02-11T13:26:50.401516",
     "exception": false,
     "start_time": "2023-02-11T13:26:50.385968",
     "status": "completed"
    },
    "tags": []
   },
   "outputs": [
    {
     "data": {
      "text/plain": [
       "(2200, 7)"
      ]
     },
     "execution_count": 7,
     "metadata": {},
     "output_type": "execute_result"
    }
   ],
   "source": [
    "X.shape"
   ]
  },
  {
   "cell_type": "code",
   "execution_count": 8,
   "id": "8b604630",
   "metadata": {
    "execution": {
     "iopub.execute_input": "2023-02-11T13:26:50.411790Z",
     "iopub.status.busy": "2023-02-11T13:26:50.411439Z",
     "iopub.status.idle": "2023-02-11T13:26:50.581033Z",
     "shell.execute_reply": "2023-02-11T13:26:50.580123Z"
    },
    "papermill": {
     "duration": 0.178056,
     "end_time": "2023-02-11T13:26:50.583947",
     "exception": false,
     "start_time": "2023-02-11T13:26:50.405891",
     "status": "completed"
    },
    "tags": []
   },
   "outputs": [],
   "source": [
    "from sklearn.model_selection import train_test_split\n",
    "from sklearn.ensemble import RandomForestClassifier\n",
    "from xgboost import XGBClassifier\n",
    "from sklearn.preprocessing import OneHotEncoder\n",
    "from sklearn.metrics import accuracy_score\n",
    "model=RandomForestClassifier()\n",
    "# encoder = OneHotEncoder()\n",
    "# y = encoder.fit_transform(y)\n",
    "X_train, X_test, y_train, y_test = train_test_split(X, y, test_size=0.15, random_state=42)"
   ]
  },
  {
   "cell_type": "code",
   "execution_count": 9,
   "id": "e7036d51",
   "metadata": {
    "execution": {
     "iopub.execute_input": "2023-02-11T13:26:50.594908Z",
     "iopub.status.busy": "2023-02-11T13:26:50.594490Z",
     "iopub.status.idle": "2023-02-11T13:26:51.004304Z",
     "shell.execute_reply": "2023-02-11T13:26:51.002849Z"
    },
    "papermill": {
     "duration": 0.418296,
     "end_time": "2023-02-11T13:26:51.006791",
     "exception": false,
     "start_time": "2023-02-11T13:26:50.588495",
     "status": "completed"
    },
    "tags": []
   },
   "outputs": [
    {
     "name": "stdout",
     "output_type": "stream",
     "text": [
      "Accuracy: 0.9939393939393939\n"
     ]
    }
   ],
   "source": [
    "model.fit(X_train,y_train)\n",
    "y_pred=model.predict(X_test)\n",
    "accuracy = accuracy_score(y_test, y_pred)\n",
    "print(\"Accuracy:\", accuracy)"
   ]
  },
  {
   "cell_type": "code",
   "execution_count": null,
   "id": "d5d46129",
   "metadata": {
    "papermill": {
     "duration": 0.004334,
     "end_time": "2023-02-11T13:26:51.015878",
     "exception": false,
     "start_time": "2023-02-11T13:26:51.011544",
     "status": "completed"
    },
    "tags": []
   },
   "outputs": [],
   "source": []
  }
 ],
 "metadata": {
  "kernelspec": {
   "display_name": "Python 3",
   "language": "python",
   "name": "python3"
  },
  "language_info": {
   "codemirror_mode": {
    "name": "ipython",
    "version": 3
   },
   "file_extension": ".py",
   "mimetype": "text/x-python",
   "name": "python",
   "nbconvert_exporter": "python",
   "pygments_lexer": "ipython3",
   "version": "3.7.12"
  },
  "papermill": {
   "default_parameters": {},
   "duration": 12.923547,
   "end_time": "2023-02-11T13:26:51.844787",
   "environment_variables": {},
   "exception": null,
   "input_path": "__notebook__.ipynb",
   "output_path": "__notebook__.ipynb",
   "parameters": {},
   "start_time": "2023-02-11T13:26:38.921240",
   "version": "2.3.4"
  }
 },
 "nbformat": 4,
 "nbformat_minor": 5
}
