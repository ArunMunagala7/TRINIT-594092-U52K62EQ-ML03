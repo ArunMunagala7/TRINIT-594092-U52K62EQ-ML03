{
 "cells": [
  {
   "cell_type": "code",
   "execution_count": 1,
   "id": "f6da04e1",
   "metadata": {
    "_cell_guid": "b1076dfc-b9ad-4769-8c92-a6c4dae69d19",
    "_uuid": "8f2839f25d086af736a60e9eeb907d3b93b6e0e5",
    "execution": {
     "iopub.execute_input": "2023-02-11T10:45:32.785977Z",
     "iopub.status.busy": "2023-02-11T10:45:32.785437Z",
     "iopub.status.idle": "2023-02-11T10:45:32.833584Z",
     "shell.execute_reply": "2023-02-11T10:45:32.832208Z"
    },
    "papermill": {
     "duration": 0.082308,
     "end_time": "2023-02-11T10:45:32.837459",
     "exception": false,
     "start_time": "2023-02-11T10:45:32.755151",
     "status": "completed"
    },
    "scrolled": true,
    "tags": []
   },
   "outputs": [
    {
     "name": "stdout",
     "output_type": "stream",
     "text": [
      "/kaggle/input/historicalweatherdataforindiancities/Temperature_And_Precipitation_Cities_IN/Lucknow_1990_2022.csv\n",
      "/kaggle/input/historicalweatherdataforindiancities/Temperature_And_Precipitation_Cities_IN/Delhi_NCR_1990_2022_Safdarjung.csv\n",
      "/kaggle/input/historicalweatherdataforindiancities/Temperature_And_Precipitation_Cities_IN/weather_Rourkela_2021_2022.csv\n",
      "/kaggle/input/historicalweatherdataforindiancities/Temperature_And_Precipitation_Cities_IN/Chennai_1990_2022_Madras.csv\n",
      "/kaggle/input/historicalweatherdataforindiancities/Temperature_And_Precipitation_Cities_IN/Rajasthan_1990_2022_Jodhpur.csv\n",
      "/kaggle/input/historicalweatherdataforindiancities/Temperature_And_Precipitation_Cities_IN/Bangalore_1990_2022_BangaloreCity.csv\n",
      "/kaggle/input/historicalweatherdataforindiancities/Temperature_And_Precipitation_Cities_IN/Station_GeoLocation_Longitute_Latitude_Elevation_EPSG_4326.csv\n",
      "/kaggle/input/historicalweatherdataforindiancities/Temperature_And_Precipitation_Cities_IN/Mumbai_1990_2022_Santacruz.csv\n",
      "/kaggle/input/historicalweatherdataforindiancities/Temperature_And_Precipitation_Cities_IN/weather_Bhubhneshwar_1990_2022.csv\n",
      "/kaggle/input/crop-recommendation-dataset/Crop_recommendation.csv\n",
      "/kaggle/input/all-agriculture-related-datasets-for-india/csv\n",
      "/kaggle/input/rainfall-in-india/rainfall in india 1901-2015.csv\n",
      "/kaggle/input/rainfall-in-india/district wise rainfall normal.csv\n"
     ]
    }
   ],
   "source": [
    "# This Python 3 environment comes with many helpful analytics libraries installed\n",
    "# It is defined by the kaggle/python Docker image: https://github.com/kaggle/docker-python\n",
    "# For example, here's several helpful packages to load\n",
    "\n",
    "import numpy as np # linear algebra\n",
    "import pandas as pd # data processing, CSV file I/O (e.g. pd.read_csv)\n",
    "\n",
    "# Input data files are available in the read-only \"../input/\" directory\n",
    "# For example, running this (by clicking run or pressing Shift+Enter) will list all files under the input directory\n",
    "\n",
    "import os\n",
    "for dirname, _, filenames in os.walk('/kaggle/input'):\n",
    "    for filename in filenames:\n",
    "        print(os.path.join(dirname, filename))\n",
    "\n",
    "# You can write up to 20GB to the current directory (/kaggle/working/) that gets preserved as output when you create a version using \"Save & Run All\" \n",
    "# You can also write temporary files to /kaggle/temp/, but they won't be saved outside of the current session"
   ]
  },
  {
   "cell_type": "markdown",
   "id": "bea68c82",
   "metadata": {
    "papermill": {
     "duration": 0.024463,
     "end_time": "2023-02-11T10:45:32.889200",
     "exception": false,
     "start_time": "2023-02-11T10:45:32.864737",
     "status": "completed"
    },
    "tags": []
   },
   "source": [
    "extracting the rainfall data and viewing the features accordingly"
   ]
  },
  {
   "cell_type": "code",
   "execution_count": 2,
   "id": "9a993036",
   "metadata": {
    "execution": {
     "iopub.execute_input": "2023-02-11T10:45:32.939298Z",
     "iopub.status.busy": "2023-02-11T10:45:32.937959Z",
     "iopub.status.idle": "2023-02-11T10:45:32.995260Z",
     "shell.execute_reply": "2023-02-11T10:45:32.993519Z"
    },
    "papermill": {
     "duration": 0.086344,
     "end_time": "2023-02-11T10:45:32.999363",
     "exception": false,
     "start_time": "2023-02-11T10:45:32.913019",
     "status": "completed"
    },
    "tags": []
   },
   "outputs": [],
   "source": [
    "district_rainfall_data=pd.read_csv('/kaggle/input/rainfall-in-india/district wise rainfall normal.csv')\n",
    "india_rainfall_data=pd.read_csv('/kaggle/input/rainfall-in-india/rainfall in india 1901-2015.csv')"
   ]
  },
  {
   "cell_type": "code",
   "execution_count": 3,
   "id": "9db63b76",
   "metadata": {
    "execution": {
     "iopub.execute_input": "2023-02-11T10:45:33.050990Z",
     "iopub.status.busy": "2023-02-11T10:45:33.050497Z",
     "iopub.status.idle": "2023-02-11T10:45:33.095266Z",
     "shell.execute_reply": "2023-02-11T10:45:33.093835Z"
    },
    "papermill": {
     "duration": 0.07416,
     "end_time": "2023-02-11T10:45:33.098301",
     "exception": false,
     "start_time": "2023-02-11T10:45:33.024141",
     "status": "completed"
    },
    "tags": []
   },
   "outputs": [
    {
     "data": {
      "text/html": [
       "<div>\n",
       "<style scoped>\n",
       "    .dataframe tbody tr th:only-of-type {\n",
       "        vertical-align: middle;\n",
       "    }\n",
       "\n",
       "    .dataframe tbody tr th {\n",
       "        vertical-align: top;\n",
       "    }\n",
       "\n",
       "    .dataframe thead th {\n",
       "        text-align: right;\n",
       "    }\n",
       "</style>\n",
       "<table border=\"1\" class=\"dataframe\">\n",
       "  <thead>\n",
       "    <tr style=\"text-align: right;\">\n",
       "      <th></th>\n",
       "      <th>STATE_UT_NAME</th>\n",
       "      <th>DISTRICT</th>\n",
       "      <th>JAN</th>\n",
       "      <th>FEB</th>\n",
       "      <th>MAR</th>\n",
       "      <th>APR</th>\n",
       "      <th>MAY</th>\n",
       "      <th>JUN</th>\n",
       "      <th>JUL</th>\n",
       "      <th>AUG</th>\n",
       "      <th>SEP</th>\n",
       "      <th>OCT</th>\n",
       "      <th>NOV</th>\n",
       "      <th>DEC</th>\n",
       "      <th>ANNUAL</th>\n",
       "      <th>Jan-Feb</th>\n",
       "      <th>Mar-May</th>\n",
       "      <th>Jun-Sep</th>\n",
       "      <th>Oct-Dec</th>\n",
       "    </tr>\n",
       "  </thead>\n",
       "  <tbody>\n",
       "    <tr>\n",
       "      <th>0</th>\n",
       "      <td>ANDAMAN And NICOBAR ISLANDS</td>\n",
       "      <td>NICOBAR</td>\n",
       "      <td>107.3</td>\n",
       "      <td>57.9</td>\n",
       "      <td>65.2</td>\n",
       "      <td>117.0</td>\n",
       "      <td>358.5</td>\n",
       "      <td>295.5</td>\n",
       "      <td>285.0</td>\n",
       "      <td>271.9</td>\n",
       "      <td>354.8</td>\n",
       "      <td>326.0</td>\n",
       "      <td>315.2</td>\n",
       "      <td>250.9</td>\n",
       "      <td>2805.2</td>\n",
       "      <td>165.2</td>\n",
       "      <td>540.7</td>\n",
       "      <td>1207.2</td>\n",
       "      <td>892.1</td>\n",
       "    </tr>\n",
       "    <tr>\n",
       "      <th>1</th>\n",
       "      <td>ANDAMAN And NICOBAR ISLANDS</td>\n",
       "      <td>SOUTH ANDAMAN</td>\n",
       "      <td>43.7</td>\n",
       "      <td>26.0</td>\n",
       "      <td>18.6</td>\n",
       "      <td>90.5</td>\n",
       "      <td>374.4</td>\n",
       "      <td>457.2</td>\n",
       "      <td>421.3</td>\n",
       "      <td>423.1</td>\n",
       "      <td>455.6</td>\n",
       "      <td>301.2</td>\n",
       "      <td>275.8</td>\n",
       "      <td>128.3</td>\n",
       "      <td>3015.7</td>\n",
       "      <td>69.7</td>\n",
       "      <td>483.5</td>\n",
       "      <td>1757.2</td>\n",
       "      <td>705.3</td>\n",
       "    </tr>\n",
       "    <tr>\n",
       "      <th>2</th>\n",
       "      <td>ANDAMAN And NICOBAR ISLANDS</td>\n",
       "      <td>N &amp; M ANDAMAN</td>\n",
       "      <td>32.7</td>\n",
       "      <td>15.9</td>\n",
       "      <td>8.6</td>\n",
       "      <td>53.4</td>\n",
       "      <td>343.6</td>\n",
       "      <td>503.3</td>\n",
       "      <td>465.4</td>\n",
       "      <td>460.9</td>\n",
       "      <td>454.8</td>\n",
       "      <td>276.1</td>\n",
       "      <td>198.6</td>\n",
       "      <td>100.0</td>\n",
       "      <td>2913.3</td>\n",
       "      <td>48.6</td>\n",
       "      <td>405.6</td>\n",
       "      <td>1884.4</td>\n",
       "      <td>574.7</td>\n",
       "    </tr>\n",
       "    <tr>\n",
       "      <th>3</th>\n",
       "      <td>ARUNACHAL PRADESH</td>\n",
       "      <td>LOHIT</td>\n",
       "      <td>42.2</td>\n",
       "      <td>80.8</td>\n",
       "      <td>176.4</td>\n",
       "      <td>358.5</td>\n",
       "      <td>306.4</td>\n",
       "      <td>447.0</td>\n",
       "      <td>660.1</td>\n",
       "      <td>427.8</td>\n",
       "      <td>313.6</td>\n",
       "      <td>167.1</td>\n",
       "      <td>34.1</td>\n",
       "      <td>29.8</td>\n",
       "      <td>3043.8</td>\n",
       "      <td>123.0</td>\n",
       "      <td>841.3</td>\n",
       "      <td>1848.5</td>\n",
       "      <td>231.0</td>\n",
       "    </tr>\n",
       "    <tr>\n",
       "      <th>4</th>\n",
       "      <td>ARUNACHAL PRADESH</td>\n",
       "      <td>EAST SIANG</td>\n",
       "      <td>33.3</td>\n",
       "      <td>79.5</td>\n",
       "      <td>105.9</td>\n",
       "      <td>216.5</td>\n",
       "      <td>323.0</td>\n",
       "      <td>738.3</td>\n",
       "      <td>990.9</td>\n",
       "      <td>711.2</td>\n",
       "      <td>568.0</td>\n",
       "      <td>206.9</td>\n",
       "      <td>29.5</td>\n",
       "      <td>31.7</td>\n",
       "      <td>4034.7</td>\n",
       "      <td>112.8</td>\n",
       "      <td>645.4</td>\n",
       "      <td>3008.4</td>\n",
       "      <td>268.1</td>\n",
       "    </tr>\n",
       "  </tbody>\n",
       "</table>\n",
       "</div>"
      ],
      "text/plain": [
       "                 STATE_UT_NAME       DISTRICT    JAN   FEB    MAR    APR  \\\n",
       "0  ANDAMAN And NICOBAR ISLANDS        NICOBAR  107.3  57.9   65.2  117.0   \n",
       "1  ANDAMAN And NICOBAR ISLANDS  SOUTH ANDAMAN   43.7  26.0   18.6   90.5   \n",
       "2  ANDAMAN And NICOBAR ISLANDS  N & M ANDAMAN   32.7  15.9    8.6   53.4   \n",
       "3            ARUNACHAL PRADESH          LOHIT   42.2  80.8  176.4  358.5   \n",
       "4            ARUNACHAL PRADESH     EAST SIANG   33.3  79.5  105.9  216.5   \n",
       "\n",
       "     MAY    JUN    JUL    AUG    SEP    OCT    NOV    DEC  ANNUAL  Jan-Feb  \\\n",
       "0  358.5  295.5  285.0  271.9  354.8  326.0  315.2  250.9  2805.2    165.2   \n",
       "1  374.4  457.2  421.3  423.1  455.6  301.2  275.8  128.3  3015.7     69.7   \n",
       "2  343.6  503.3  465.4  460.9  454.8  276.1  198.6  100.0  2913.3     48.6   \n",
       "3  306.4  447.0  660.1  427.8  313.6  167.1   34.1   29.8  3043.8    123.0   \n",
       "4  323.0  738.3  990.9  711.2  568.0  206.9   29.5   31.7  4034.7    112.8   \n",
       "\n",
       "   Mar-May  Jun-Sep  Oct-Dec  \n",
       "0    540.7   1207.2    892.1  \n",
       "1    483.5   1757.2    705.3  \n",
       "2    405.6   1884.4    574.7  \n",
       "3    841.3   1848.5    231.0  \n",
       "4    645.4   3008.4    268.1  "
      ]
     },
     "execution_count": 3,
     "metadata": {},
     "output_type": "execute_result"
    }
   ],
   "source": [
    "district_rainfall_data.head()"
   ]
  },
  {
   "cell_type": "code",
   "execution_count": 4,
   "id": "d4603e56",
   "metadata": {
    "execution": {
     "iopub.execute_input": "2023-02-11T10:45:33.150445Z",
     "iopub.status.busy": "2023-02-11T10:45:33.149909Z",
     "iopub.status.idle": "2023-02-11T10:45:33.181406Z",
     "shell.execute_reply": "2023-02-11T10:45:33.179978Z"
    },
    "papermill": {
     "duration": 0.060582,
     "end_time": "2023-02-11T10:45:33.184364",
     "exception": false,
     "start_time": "2023-02-11T10:45:33.123782",
     "status": "completed"
    },
    "tags": []
   },
   "outputs": [
    {
     "data": {
      "text/html": [
       "<div>\n",
       "<style scoped>\n",
       "    .dataframe tbody tr th:only-of-type {\n",
       "        vertical-align: middle;\n",
       "    }\n",
       "\n",
       "    .dataframe tbody tr th {\n",
       "        vertical-align: top;\n",
       "    }\n",
       "\n",
       "    .dataframe thead th {\n",
       "        text-align: right;\n",
       "    }\n",
       "</style>\n",
       "<table border=\"1\" class=\"dataframe\">\n",
       "  <thead>\n",
       "    <tr style=\"text-align: right;\">\n",
       "      <th></th>\n",
       "      <th>SUBDIVISION</th>\n",
       "      <th>YEAR</th>\n",
       "      <th>JAN</th>\n",
       "      <th>FEB</th>\n",
       "      <th>MAR</th>\n",
       "      <th>APR</th>\n",
       "      <th>MAY</th>\n",
       "      <th>JUN</th>\n",
       "      <th>JUL</th>\n",
       "      <th>AUG</th>\n",
       "      <th>SEP</th>\n",
       "      <th>OCT</th>\n",
       "      <th>NOV</th>\n",
       "      <th>DEC</th>\n",
       "      <th>ANNUAL</th>\n",
       "      <th>Jan-Feb</th>\n",
       "      <th>Mar-May</th>\n",
       "      <th>Jun-Sep</th>\n",
       "      <th>Oct-Dec</th>\n",
       "    </tr>\n",
       "  </thead>\n",
       "  <tbody>\n",
       "    <tr>\n",
       "      <th>0</th>\n",
       "      <td>ANDAMAN &amp; NICOBAR ISLANDS</td>\n",
       "      <td>1901</td>\n",
       "      <td>49.2</td>\n",
       "      <td>87.1</td>\n",
       "      <td>29.2</td>\n",
       "      <td>2.3</td>\n",
       "      <td>528.8</td>\n",
       "      <td>517.5</td>\n",
       "      <td>365.1</td>\n",
       "      <td>481.1</td>\n",
       "      <td>332.6</td>\n",
       "      <td>388.5</td>\n",
       "      <td>558.2</td>\n",
       "      <td>33.6</td>\n",
       "      <td>3373.2</td>\n",
       "      <td>136.3</td>\n",
       "      <td>560.3</td>\n",
       "      <td>1696.3</td>\n",
       "      <td>980.3</td>\n",
       "    </tr>\n",
       "    <tr>\n",
       "      <th>1</th>\n",
       "      <td>ANDAMAN &amp; NICOBAR ISLANDS</td>\n",
       "      <td>1902</td>\n",
       "      <td>0.0</td>\n",
       "      <td>159.8</td>\n",
       "      <td>12.2</td>\n",
       "      <td>0.0</td>\n",
       "      <td>446.1</td>\n",
       "      <td>537.1</td>\n",
       "      <td>228.9</td>\n",
       "      <td>753.7</td>\n",
       "      <td>666.2</td>\n",
       "      <td>197.2</td>\n",
       "      <td>359.0</td>\n",
       "      <td>160.5</td>\n",
       "      <td>3520.7</td>\n",
       "      <td>159.8</td>\n",
       "      <td>458.3</td>\n",
       "      <td>2185.9</td>\n",
       "      <td>716.7</td>\n",
       "    </tr>\n",
       "    <tr>\n",
       "      <th>2</th>\n",
       "      <td>ANDAMAN &amp; NICOBAR ISLANDS</td>\n",
       "      <td>1903</td>\n",
       "      <td>12.7</td>\n",
       "      <td>144.0</td>\n",
       "      <td>0.0</td>\n",
       "      <td>1.0</td>\n",
       "      <td>235.1</td>\n",
       "      <td>479.9</td>\n",
       "      <td>728.4</td>\n",
       "      <td>326.7</td>\n",
       "      <td>339.0</td>\n",
       "      <td>181.2</td>\n",
       "      <td>284.4</td>\n",
       "      <td>225.0</td>\n",
       "      <td>2957.4</td>\n",
       "      <td>156.7</td>\n",
       "      <td>236.1</td>\n",
       "      <td>1874.0</td>\n",
       "      <td>690.6</td>\n",
       "    </tr>\n",
       "    <tr>\n",
       "      <th>3</th>\n",
       "      <td>ANDAMAN &amp; NICOBAR ISLANDS</td>\n",
       "      <td>1904</td>\n",
       "      <td>9.4</td>\n",
       "      <td>14.7</td>\n",
       "      <td>0.0</td>\n",
       "      <td>202.4</td>\n",
       "      <td>304.5</td>\n",
       "      <td>495.1</td>\n",
       "      <td>502.0</td>\n",
       "      <td>160.1</td>\n",
       "      <td>820.4</td>\n",
       "      <td>222.2</td>\n",
       "      <td>308.7</td>\n",
       "      <td>40.1</td>\n",
       "      <td>3079.6</td>\n",
       "      <td>24.1</td>\n",
       "      <td>506.9</td>\n",
       "      <td>1977.6</td>\n",
       "      <td>571.0</td>\n",
       "    </tr>\n",
       "    <tr>\n",
       "      <th>4</th>\n",
       "      <td>ANDAMAN &amp; NICOBAR ISLANDS</td>\n",
       "      <td>1905</td>\n",
       "      <td>1.3</td>\n",
       "      <td>0.0</td>\n",
       "      <td>3.3</td>\n",
       "      <td>26.9</td>\n",
       "      <td>279.5</td>\n",
       "      <td>628.7</td>\n",
       "      <td>368.7</td>\n",
       "      <td>330.5</td>\n",
       "      <td>297.0</td>\n",
       "      <td>260.7</td>\n",
       "      <td>25.4</td>\n",
       "      <td>344.7</td>\n",
       "      <td>2566.7</td>\n",
       "      <td>1.3</td>\n",
       "      <td>309.7</td>\n",
       "      <td>1624.9</td>\n",
       "      <td>630.8</td>\n",
       "    </tr>\n",
       "  </tbody>\n",
       "</table>\n",
       "</div>"
      ],
      "text/plain": [
       "                 SUBDIVISION  YEAR   JAN    FEB   MAR    APR    MAY    JUN  \\\n",
       "0  ANDAMAN & NICOBAR ISLANDS  1901  49.2   87.1  29.2    2.3  528.8  517.5   \n",
       "1  ANDAMAN & NICOBAR ISLANDS  1902   0.0  159.8  12.2    0.0  446.1  537.1   \n",
       "2  ANDAMAN & NICOBAR ISLANDS  1903  12.7  144.0   0.0    1.0  235.1  479.9   \n",
       "3  ANDAMAN & NICOBAR ISLANDS  1904   9.4   14.7   0.0  202.4  304.5  495.1   \n",
       "4  ANDAMAN & NICOBAR ISLANDS  1905   1.3    0.0   3.3   26.9  279.5  628.7   \n",
       "\n",
       "     JUL    AUG    SEP    OCT    NOV    DEC  ANNUAL  Jan-Feb  Mar-May  \\\n",
       "0  365.1  481.1  332.6  388.5  558.2   33.6  3373.2    136.3    560.3   \n",
       "1  228.9  753.7  666.2  197.2  359.0  160.5  3520.7    159.8    458.3   \n",
       "2  728.4  326.7  339.0  181.2  284.4  225.0  2957.4    156.7    236.1   \n",
       "3  502.0  160.1  820.4  222.2  308.7   40.1  3079.6     24.1    506.9   \n",
       "4  368.7  330.5  297.0  260.7   25.4  344.7  2566.7      1.3    309.7   \n",
       "\n",
       "   Jun-Sep  Oct-Dec  \n",
       "0   1696.3    980.3  \n",
       "1   2185.9    716.7  \n",
       "2   1874.0    690.6  \n",
       "3   1977.6    571.0  \n",
       "4   1624.9    630.8  "
      ]
     },
     "execution_count": 4,
     "metadata": {},
     "output_type": "execute_result"
    }
   ],
   "source": [
    "india_rainfall_data.head()"
   ]
  },
  {
   "cell_type": "markdown",
   "id": "c3ca10a2",
   "metadata": {
    "papermill": {
     "duration": 0.027518,
     "end_time": "2023-02-11T10:45:33.238317",
     "exception": false,
     "start_time": "2023-02-11T10:45:33.210799",
     "status": "completed"
    },
    "tags": []
   },
   "source": [
    "printing all the unique values in the rainfall dataset"
   ]
  },
  {
   "cell_type": "code",
   "execution_count": 5,
   "id": "2188497f",
   "metadata": {
    "execution": {
     "iopub.execute_input": "2023-02-11T10:45:33.290965Z",
     "iopub.status.busy": "2023-02-11T10:45:33.290556Z",
     "iopub.status.idle": "2023-02-11T10:45:33.310758Z",
     "shell.execute_reply": "2023-02-11T10:45:33.309402Z"
    },
    "papermill": {
     "duration": 0.049388,
     "end_time": "2023-02-11T10:45:33.314547",
     "exception": false,
     "start_time": "2023-02-11T10:45:33.265159",
     "status": "completed"
    },
    "tags": []
   },
   "outputs": [
    {
     "name": "stdout",
     "output_type": "stream",
     "text": [
      "['ANDAMAN & NICOBAR ISLANDS' 'ARUNACHAL PRADESH' 'ASSAM & MEGHALAYA'\n",
      " 'NAGA MANI MIZO TRIPURA' 'SUB HIMALAYAN WEST BENGAL & SIKKIM'\n",
      " 'GANGETIC WEST BENGAL' 'ORISSA' 'JHARKHAND' 'BIHAR' 'EAST UTTAR PRADESH'\n",
      " 'WEST UTTAR PRADESH' 'UTTARAKHAND' 'HARYANA DELHI & CHANDIGARH' 'PUNJAB'\n",
      " 'HIMACHAL PRADESH' 'JAMMU & KASHMIR' 'WEST RAJASTHAN' 'EAST RAJASTHAN'\n",
      " 'WEST MADHYA PRADESH' 'EAST MADHYA PRADESH' 'GUJARAT REGION'\n",
      " 'SAURASHTRA & KUTCH' 'KONKAN & GOA' 'MADHYA MAHARASHTRA' 'MATATHWADA'\n",
      " 'VIDARBHA' 'CHHATTISGARH' 'COASTAL ANDHRA PRADESH' 'TELANGANA'\n",
      " 'RAYALSEEMA' 'TAMIL NADU' 'COASTAL KARNATAKA' 'NORTH INTERIOR KARNATAKA'\n",
      " 'SOUTH INTERIOR KARNATAKA' 'KERALA' 'LAKSHADWEEP']\n"
     ]
    }
   ],
   "source": [
    "unique_values=india_rainfall_data['SUBDIVISION'].unique()\n",
    "print(unique_values)"
   ]
  },
  {
   "cell_type": "markdown",
   "id": "4a7013e3",
   "metadata": {
    "papermill": {
     "duration": 0.024739,
     "end_time": "2023-02-11T10:45:33.365160",
     "exception": false,
     "start_time": "2023-02-11T10:45:33.340421",
     "status": "completed"
    },
    "tags": []
   },
   "source": [
    "checking for null values"
   ]
  },
  {
   "cell_type": "code",
   "execution_count": 6,
   "id": "626ccd92",
   "metadata": {
    "execution": {
     "iopub.execute_input": "2023-02-11T10:45:33.418496Z",
     "iopub.status.busy": "2023-02-11T10:45:33.418062Z",
     "iopub.status.idle": "2023-02-11T10:45:33.426118Z",
     "shell.execute_reply": "2023-02-11T10:45:33.424940Z"
    },
    "papermill": {
     "duration": 0.037997,
     "end_time": "2023-02-11T10:45:33.429169",
     "exception": false,
     "start_time": "2023-02-11T10:45:33.391172",
     "status": "completed"
    },
    "tags": []
   },
   "outputs": [
    {
     "data": {
      "text/plain": [
       "(4116, 19)"
      ]
     },
     "execution_count": 6,
     "metadata": {},
     "output_type": "execute_result"
    }
   ],
   "source": [
    "india_rainfall_data.shape"
   ]
  },
  {
   "cell_type": "markdown",
   "id": "8d85fcd3",
   "metadata": {
    "papermill": {
     "duration": 0.025511,
     "end_time": "2023-02-11T10:45:33.480421",
     "exception": false,
     "start_time": "2023-02-11T10:45:33.454910",
     "status": "completed"
    },
    "tags": []
   },
   "source": [
    "checking total null values"
   ]
  },
  {
   "cell_type": "code",
   "execution_count": 7,
   "id": "506954f6",
   "metadata": {
    "execution": {
     "iopub.execute_input": "2023-02-11T10:45:33.537274Z",
     "iopub.status.busy": "2023-02-11T10:45:33.536595Z",
     "iopub.status.idle": "2023-02-11T10:45:33.546120Z",
     "shell.execute_reply": "2023-02-11T10:45:33.544912Z"
    },
    "papermill": {
     "duration": 0.038601,
     "end_time": "2023-02-11T10:45:33.548504",
     "exception": false,
     "start_time": "2023-02-11T10:45:33.509903",
     "status": "completed"
    },
    "tags": []
   },
   "outputs": [
    {
     "data": {
      "text/plain": [
       "134"
      ]
     },
     "execution_count": 7,
     "metadata": {},
     "output_type": "execute_result"
    }
   ],
   "source": [
    "india_rainfall_data.isnull().sum().sum()"
   ]
  },
  {
   "cell_type": "markdown",
   "id": "260954a9",
   "metadata": {
    "papermill": {
     "duration": 0.02371,
     "end_time": "2023-02-11T10:45:33.596977",
     "exception": false,
     "start_time": "2023-02-11T10:45:33.573267",
     "status": "completed"
    },
    "tags": []
   },
   "source": [
    "checking the columns that have said null values"
   ]
  },
  {
   "cell_type": "code",
   "execution_count": 8,
   "id": "74ba4b2c",
   "metadata": {
    "execution": {
     "iopub.execute_input": "2023-02-11T10:45:33.649831Z",
     "iopub.status.busy": "2023-02-11T10:45:33.648938Z",
     "iopub.status.idle": "2023-02-11T10:45:33.659441Z",
     "shell.execute_reply": "2023-02-11T10:45:33.658171Z"
    },
    "papermill": {
     "duration": 0.040643,
     "end_time": "2023-02-11T10:45:33.662400",
     "exception": false,
     "start_time": "2023-02-11T10:45:33.621757",
     "status": "completed"
    },
    "tags": []
   },
   "outputs": [
    {
     "data": {
      "text/plain": [
       "SUBDIVISION     0\n",
       "YEAR            0\n",
       "JAN             4\n",
       "FEB             3\n",
       "MAR             6\n",
       "APR             4\n",
       "MAY             3\n",
       "JUN             5\n",
       "JUL             7\n",
       "AUG             4\n",
       "SEP             6\n",
       "OCT             7\n",
       "NOV            11\n",
       "DEC            10\n",
       "ANNUAL         26\n",
       "Jan-Feb         6\n",
       "Mar-May         9\n",
       "Jun-Sep        10\n",
       "Oct-Dec        13\n",
       "dtype: int64"
      ]
     },
     "execution_count": 8,
     "metadata": {},
     "output_type": "execute_result"
    }
   ],
   "source": [
    "missing_values_count=india_rainfall_data.isnull().sum()\n",
    "missing_values_count"
   ]
  },
  {
   "cell_type": "markdown",
   "id": "5ed84382",
   "metadata": {
    "papermill": {
     "duration": 0.025879,
     "end_time": "2023-02-11T10:45:33.712943",
     "exception": false,
     "start_time": "2023-02-11T10:45:33.687064",
     "status": "completed"
    },
    "tags": []
   },
   "source": [
    "check percentage of null values"
   ]
  },
  {
   "cell_type": "code",
   "execution_count": 9,
   "id": "7f43a8ac",
   "metadata": {
    "execution": {
     "iopub.execute_input": "2023-02-11T10:45:33.763638Z",
     "iopub.status.busy": "2023-02-11T10:45:33.762882Z",
     "iopub.status.idle": "2023-02-11T10:45:33.769611Z",
     "shell.execute_reply": "2023-02-11T10:45:33.768400Z"
    },
    "papermill": {
     "duration": 0.034512,
     "end_time": "2023-02-11T10:45:33.771774",
     "exception": false,
     "start_time": "2023-02-11T10:45:33.737262",
     "status": "completed"
    },
    "tags": []
   },
   "outputs": [
    {
     "name": "stdout",
     "output_type": "stream",
     "text": [
      "0.17134673418239477\n"
     ]
    }
   ],
   "source": [
    "total_cells = np.product(india_rainfall_data.shape)\n",
    "total_missing = missing_values_count.sum()\n",
    "\n",
    "# percent of data that is missing\n",
    "percent_missing = (total_missing/total_cells) * 100\n",
    "print(percent_missing)"
   ]
  },
  {
   "cell_type": "markdown",
   "id": "f0253e33",
   "metadata": {
    "papermill": {
     "duration": 0.0254,
     "end_time": "2023-02-11T10:45:33.821874",
     "exception": false,
     "start_time": "2023-02-11T10:45:33.796474",
     "status": "completed"
    },
    "tags": []
   },
   "source": [
    "removing all the na values"
   ]
  },
  {
   "cell_type": "code",
   "execution_count": 10,
   "id": "b94c3a49",
   "metadata": {
    "execution": {
     "iopub.execute_input": "2023-02-11T10:45:33.873740Z",
     "iopub.status.busy": "2023-02-11T10:45:33.872880Z",
     "iopub.status.idle": "2023-02-11T10:45:33.890187Z",
     "shell.execute_reply": "2023-02-11T10:45:33.889045Z"
    },
    "papermill": {
     "duration": 0.045748,
     "end_time": "2023-02-11T10:45:33.892502",
     "exception": false,
     "start_time": "2023-02-11T10:45:33.846754",
     "status": "completed"
    },
    "tags": []
   },
   "outputs": [
    {
     "data": {
      "text/plain": [
       "0"
      ]
     },
     "execution_count": 10,
     "metadata": {},
     "output_type": "execute_result"
    }
   ],
   "source": [
    "rainfall_india_clean=india_rainfall_data.dropna()\n",
    "rainfall_india_clean.isnull().sum().sum()"
   ]
  },
  {
   "cell_type": "markdown",
   "id": "efb8d5d4",
   "metadata": {
    "papermill": {
     "duration": 0.025258,
     "end_time": "2023-02-11T10:45:33.943144",
     "exception": false,
     "start_time": "2023-02-11T10:45:33.917886",
     "status": "completed"
    },
    "tags": []
   },
   "source": [
    "checking Nan values"
   ]
  },
  {
   "cell_type": "code",
   "execution_count": 11,
   "id": "ecfedff3",
   "metadata": {
    "execution": {
     "iopub.execute_input": "2023-02-11T10:45:33.996610Z",
     "iopub.status.busy": "2023-02-11T10:45:33.995543Z",
     "iopub.status.idle": "2023-02-11T10:45:34.005293Z",
     "shell.execute_reply": "2023-02-11T10:45:34.004076Z"
    },
    "papermill": {
     "duration": 0.037959,
     "end_time": "2023-02-11T10:45:34.007609",
     "exception": false,
     "start_time": "2023-02-11T10:45:33.969650",
     "status": "completed"
    },
    "tags": []
   },
   "outputs": [
    {
     "data": {
      "text/plain": [
       "0"
      ]
     },
     "execution_count": 11,
     "metadata": {},
     "output_type": "execute_result"
    }
   ],
   "source": [
    "rainfall_india_clean.isna().sum().sum()"
   ]
  },
  {
   "cell_type": "markdown",
   "id": "4604f34c",
   "metadata": {
    "papermill": {
     "duration": 0.024877,
     "end_time": "2023-02-11T10:45:34.058024",
     "exception": false,
     "start_time": "2023-02-11T10:45:34.033147",
     "status": "completed"
    },
    "tags": []
   },
   "source": [
    "viewing the final rainfall clean dataset"
   ]
  },
  {
   "cell_type": "code",
   "execution_count": 12,
   "id": "bc5aaf08",
   "metadata": {
    "execution": {
     "iopub.execute_input": "2023-02-11T10:45:34.110396Z",
     "iopub.status.busy": "2023-02-11T10:45:34.109678Z",
     "iopub.status.idle": "2023-02-11T10:45:34.136459Z",
     "shell.execute_reply": "2023-02-11T10:45:34.135258Z"
    },
    "papermill": {
     "duration": 0.055476,
     "end_time": "2023-02-11T10:45:34.138949",
     "exception": false,
     "start_time": "2023-02-11T10:45:34.083473",
     "status": "completed"
    },
    "tags": []
   },
   "outputs": [
    {
     "data": {
      "text/html": [
       "<div>\n",
       "<style scoped>\n",
       "    .dataframe tbody tr th:only-of-type {\n",
       "        vertical-align: middle;\n",
       "    }\n",
       "\n",
       "    .dataframe tbody tr th {\n",
       "        vertical-align: top;\n",
       "    }\n",
       "\n",
       "    .dataframe thead th {\n",
       "        text-align: right;\n",
       "    }\n",
       "</style>\n",
       "<table border=\"1\" class=\"dataframe\">\n",
       "  <thead>\n",
       "    <tr style=\"text-align: right;\">\n",
       "      <th></th>\n",
       "      <th>SUBDIVISION</th>\n",
       "      <th>YEAR</th>\n",
       "      <th>JAN</th>\n",
       "      <th>FEB</th>\n",
       "      <th>MAR</th>\n",
       "      <th>APR</th>\n",
       "      <th>MAY</th>\n",
       "      <th>JUN</th>\n",
       "      <th>JUL</th>\n",
       "      <th>AUG</th>\n",
       "      <th>SEP</th>\n",
       "      <th>OCT</th>\n",
       "      <th>NOV</th>\n",
       "      <th>DEC</th>\n",
       "      <th>ANNUAL</th>\n",
       "      <th>Jan-Feb</th>\n",
       "      <th>Mar-May</th>\n",
       "      <th>Jun-Sep</th>\n",
       "      <th>Oct-Dec</th>\n",
       "    </tr>\n",
       "  </thead>\n",
       "  <tbody>\n",
       "    <tr>\n",
       "      <th>0</th>\n",
       "      <td>ANDAMAN &amp; NICOBAR ISLANDS</td>\n",
       "      <td>1901</td>\n",
       "      <td>49.2</td>\n",
       "      <td>87.1</td>\n",
       "      <td>29.2</td>\n",
       "      <td>2.3</td>\n",
       "      <td>528.8</td>\n",
       "      <td>517.5</td>\n",
       "      <td>365.1</td>\n",
       "      <td>481.1</td>\n",
       "      <td>332.6</td>\n",
       "      <td>388.5</td>\n",
       "      <td>558.2</td>\n",
       "      <td>33.6</td>\n",
       "      <td>3373.2</td>\n",
       "      <td>136.3</td>\n",
       "      <td>560.3</td>\n",
       "      <td>1696.3</td>\n",
       "      <td>980.3</td>\n",
       "    </tr>\n",
       "    <tr>\n",
       "      <th>1</th>\n",
       "      <td>ANDAMAN &amp; NICOBAR ISLANDS</td>\n",
       "      <td>1902</td>\n",
       "      <td>0.0</td>\n",
       "      <td>159.8</td>\n",
       "      <td>12.2</td>\n",
       "      <td>0.0</td>\n",
       "      <td>446.1</td>\n",
       "      <td>537.1</td>\n",
       "      <td>228.9</td>\n",
       "      <td>753.7</td>\n",
       "      <td>666.2</td>\n",
       "      <td>197.2</td>\n",
       "      <td>359.0</td>\n",
       "      <td>160.5</td>\n",
       "      <td>3520.7</td>\n",
       "      <td>159.8</td>\n",
       "      <td>458.3</td>\n",
       "      <td>2185.9</td>\n",
       "      <td>716.7</td>\n",
       "    </tr>\n",
       "    <tr>\n",
       "      <th>2</th>\n",
       "      <td>ANDAMAN &amp; NICOBAR ISLANDS</td>\n",
       "      <td>1903</td>\n",
       "      <td>12.7</td>\n",
       "      <td>144.0</td>\n",
       "      <td>0.0</td>\n",
       "      <td>1.0</td>\n",
       "      <td>235.1</td>\n",
       "      <td>479.9</td>\n",
       "      <td>728.4</td>\n",
       "      <td>326.7</td>\n",
       "      <td>339.0</td>\n",
       "      <td>181.2</td>\n",
       "      <td>284.4</td>\n",
       "      <td>225.0</td>\n",
       "      <td>2957.4</td>\n",
       "      <td>156.7</td>\n",
       "      <td>236.1</td>\n",
       "      <td>1874.0</td>\n",
       "      <td>690.6</td>\n",
       "    </tr>\n",
       "    <tr>\n",
       "      <th>3</th>\n",
       "      <td>ANDAMAN &amp; NICOBAR ISLANDS</td>\n",
       "      <td>1904</td>\n",
       "      <td>9.4</td>\n",
       "      <td>14.7</td>\n",
       "      <td>0.0</td>\n",
       "      <td>202.4</td>\n",
       "      <td>304.5</td>\n",
       "      <td>495.1</td>\n",
       "      <td>502.0</td>\n",
       "      <td>160.1</td>\n",
       "      <td>820.4</td>\n",
       "      <td>222.2</td>\n",
       "      <td>308.7</td>\n",
       "      <td>40.1</td>\n",
       "      <td>3079.6</td>\n",
       "      <td>24.1</td>\n",
       "      <td>506.9</td>\n",
       "      <td>1977.6</td>\n",
       "      <td>571.0</td>\n",
       "    </tr>\n",
       "    <tr>\n",
       "      <th>4</th>\n",
       "      <td>ANDAMAN &amp; NICOBAR ISLANDS</td>\n",
       "      <td>1905</td>\n",
       "      <td>1.3</td>\n",
       "      <td>0.0</td>\n",
       "      <td>3.3</td>\n",
       "      <td>26.9</td>\n",
       "      <td>279.5</td>\n",
       "      <td>628.7</td>\n",
       "      <td>368.7</td>\n",
       "      <td>330.5</td>\n",
       "      <td>297.0</td>\n",
       "      <td>260.7</td>\n",
       "      <td>25.4</td>\n",
       "      <td>344.7</td>\n",
       "      <td>2566.7</td>\n",
       "      <td>1.3</td>\n",
       "      <td>309.7</td>\n",
       "      <td>1624.9</td>\n",
       "      <td>630.8</td>\n",
       "    </tr>\n",
       "  </tbody>\n",
       "</table>\n",
       "</div>"
      ],
      "text/plain": [
       "                 SUBDIVISION  YEAR   JAN    FEB   MAR    APR    MAY    JUN  \\\n",
       "0  ANDAMAN & NICOBAR ISLANDS  1901  49.2   87.1  29.2    2.3  528.8  517.5   \n",
       "1  ANDAMAN & NICOBAR ISLANDS  1902   0.0  159.8  12.2    0.0  446.1  537.1   \n",
       "2  ANDAMAN & NICOBAR ISLANDS  1903  12.7  144.0   0.0    1.0  235.1  479.9   \n",
       "3  ANDAMAN & NICOBAR ISLANDS  1904   9.4   14.7   0.0  202.4  304.5  495.1   \n",
       "4  ANDAMAN & NICOBAR ISLANDS  1905   1.3    0.0   3.3   26.9  279.5  628.7   \n",
       "\n",
       "     JUL    AUG    SEP    OCT    NOV    DEC  ANNUAL  Jan-Feb  Mar-May  \\\n",
       "0  365.1  481.1  332.6  388.5  558.2   33.6  3373.2    136.3    560.3   \n",
       "1  228.9  753.7  666.2  197.2  359.0  160.5  3520.7    159.8    458.3   \n",
       "2  728.4  326.7  339.0  181.2  284.4  225.0  2957.4    156.7    236.1   \n",
       "3  502.0  160.1  820.4  222.2  308.7   40.1  3079.6     24.1    506.9   \n",
       "4  368.7  330.5  297.0  260.7   25.4  344.7  2566.7      1.3    309.7   \n",
       "\n",
       "   Jun-Sep  Oct-Dec  \n",
       "0   1696.3    980.3  \n",
       "1   2185.9    716.7  \n",
       "2   1874.0    690.6  \n",
       "3   1977.6    571.0  \n",
       "4   1624.9    630.8  "
      ]
     },
     "execution_count": 12,
     "metadata": {},
     "output_type": "execute_result"
    }
   ],
   "source": [
    "rainfall_india_clean.head()"
   ]
  },
  {
   "cell_type": "markdown",
   "id": "573d4a4d",
   "metadata": {
    "papermill": {
     "duration": 0.025708,
     "end_time": "2023-02-11T10:45:34.189920",
     "exception": false,
     "start_time": "2023-02-11T10:45:34.164212",
     "status": "completed"
    },
    "tags": []
   },
   "source": [
    "checking for null values in the district rainfall dataset"
   ]
  },
  {
   "cell_type": "code",
   "execution_count": 13,
   "id": "195d9678",
   "metadata": {
    "execution": {
     "iopub.execute_input": "2023-02-11T10:45:34.242787Z",
     "iopub.status.busy": "2023-02-11T10:45:34.242397Z",
     "iopub.status.idle": "2023-02-11T10:45:34.251251Z",
     "shell.execute_reply": "2023-02-11T10:45:34.250035Z"
    },
    "papermill": {
     "duration": 0.038637,
     "end_time": "2023-02-11T10:45:34.253810",
     "exception": false,
     "start_time": "2023-02-11T10:45:34.215173",
     "status": "completed"
    },
    "tags": []
   },
   "outputs": [
    {
     "data": {
      "text/plain": [
       "0"
      ]
     },
     "execution_count": 13,
     "metadata": {},
     "output_type": "execute_result"
    }
   ],
   "source": [
    "district_rainfall_data.isnull().sum().sum()"
   ]
  },
  {
   "cell_type": "markdown",
   "id": "281f4ed7",
   "metadata": {
    "papermill": {
     "duration": 0.025536,
     "end_time": "2023-02-11T10:45:34.304424",
     "exception": false,
     "start_time": "2023-02-11T10:45:34.278888",
     "status": "completed"
    },
    "tags": []
   },
   "source": [
    "checking NaN values in"
   ]
  },
  {
   "cell_type": "code",
   "execution_count": 14,
   "id": "3eb9d1a7",
   "metadata": {
    "execution": {
     "iopub.execute_input": "2023-02-11T10:45:34.358328Z",
     "iopub.status.busy": "2023-02-11T10:45:34.357448Z",
     "iopub.status.idle": "2023-02-11T10:45:34.367316Z",
     "shell.execute_reply": "2023-02-11T10:45:34.366069Z"
    },
    "papermill": {
     "duration": 0.039476,
     "end_time": "2023-02-11T10:45:34.369988",
     "exception": false,
     "start_time": "2023-02-11T10:45:34.330512",
     "status": "completed"
    },
    "tags": []
   },
   "outputs": [
    {
     "data": {
      "text/plain": [
       "0"
      ]
     },
     "execution_count": 14,
     "metadata": {},
     "output_type": "execute_result"
    }
   ],
   "source": [
    "district_rainfall_data.isna().sum().sum()"
   ]
  },
  {
   "cell_type": "markdown",
   "id": "0f48aef3",
   "metadata": {
    "papermill": {
     "duration": 0.024917,
     "end_time": "2023-02-11T10:45:34.420511",
     "exception": false,
     "start_time": "2023-02-11T10:45:34.395594",
     "status": "completed"
    },
    "tags": []
   },
   "source": [
    "importing the crop recommendation data"
   ]
  },
  {
   "cell_type": "code",
   "execution_count": 15,
   "id": "9e45d86a",
   "metadata": {
    "execution": {
     "iopub.execute_input": "2023-02-11T10:45:34.476120Z",
     "iopub.status.busy": "2023-02-11T10:45:34.475327Z",
     "iopub.status.idle": "2023-02-11T10:45:34.498572Z",
     "shell.execute_reply": "2023-02-11T10:45:34.496805Z"
    },
    "papermill": {
     "duration": 0.056149,
     "end_time": "2023-02-11T10:45:34.502452",
     "exception": false,
     "start_time": "2023-02-11T10:45:34.446303",
     "status": "completed"
    },
    "tags": []
   },
   "outputs": [
    {
     "data": {
      "text/plain": [
       "0"
      ]
     },
     "execution_count": 15,
     "metadata": {},
     "output_type": "execute_result"
    }
   ],
   "source": [
    "recommendation_data=pd.read_csv('/kaggle/input/crop-recommendation-dataset/Crop_recommendation.csv')\n",
    "recommendation_data.isnull().sum().sum()"
   ]
  },
  {
   "cell_type": "markdown",
   "id": "ff74212c",
   "metadata": {
    "papermill": {
     "duration": 0.028808,
     "end_time": "2023-02-11T10:45:34.572789",
     "exception": false,
     "start_time": "2023-02-11T10:45:34.543981",
     "status": "completed"
    },
    "tags": []
   },
   "source": [
    "checking for null values"
   ]
  },
  {
   "cell_type": "code",
   "execution_count": 16,
   "id": "4e604313",
   "metadata": {
    "execution": {
     "iopub.execute_input": "2023-02-11T10:45:34.628934Z",
     "iopub.status.busy": "2023-02-11T10:45:34.628213Z",
     "iopub.status.idle": "2023-02-11T10:45:34.638299Z",
     "shell.execute_reply": "2023-02-11T10:45:34.637373Z"
    },
    "papermill": {
     "duration": 0.038656,
     "end_time": "2023-02-11T10:45:34.640582",
     "exception": false,
     "start_time": "2023-02-11T10:45:34.601926",
     "status": "completed"
    },
    "tags": []
   },
   "outputs": [
    {
     "data": {
      "text/plain": [
       "0"
      ]
     },
     "execution_count": 16,
     "metadata": {},
     "output_type": "execute_result"
    }
   ],
   "source": [
    "recommendation_data.isna().sum().sum()"
   ]
  },
  {
   "cell_type": "code",
   "execution_count": 17,
   "id": "2944e290",
   "metadata": {
    "execution": {
     "iopub.execute_input": "2023-02-11T10:45:34.693650Z",
     "iopub.status.busy": "2023-02-11T10:45:34.693040Z",
     "iopub.status.idle": "2023-02-11T10:45:34.724322Z",
     "shell.execute_reply": "2023-02-11T10:45:34.723389Z"
    },
    "papermill": {
     "duration": 0.060505,
     "end_time": "2023-02-11T10:45:34.726550",
     "exception": false,
     "start_time": "2023-02-11T10:45:34.666045",
     "status": "completed"
    },
    "tags": []
   },
   "outputs": [
    {
     "data": {
      "text/html": [
       "<div>\n",
       "<style scoped>\n",
       "    .dataframe tbody tr th:only-of-type {\n",
       "        vertical-align: middle;\n",
       "    }\n",
       "\n",
       "    .dataframe tbody tr th {\n",
       "        vertical-align: top;\n",
       "    }\n",
       "\n",
       "    .dataframe thead th {\n",
       "        text-align: right;\n",
       "    }\n",
       "</style>\n",
       "<table border=\"1\" class=\"dataframe\">\n",
       "  <thead>\n",
       "    <tr style=\"text-align: right;\">\n",
       "      <th></th>\n",
       "      <th>state</th>\n",
       "      <th>district</th>\n",
       "      <th>market</th>\n",
       "      <th>commodity</th>\n",
       "      <th>variety</th>\n",
       "      <th>arrival_date</th>\n",
       "      <th>min_price</th>\n",
       "      <th>max_price</th>\n",
       "      <th>modal_price</th>\n",
       "    </tr>\n",
       "  </thead>\n",
       "  <tbody>\n",
       "    <tr>\n",
       "      <th>0</th>\n",
       "      <td>Andaman and Nicobar</td>\n",
       "      <td>South Andaman</td>\n",
       "      <td>Port Blair</td>\n",
       "      <td>Amaranthus</td>\n",
       "      <td>Amaranthus</td>\n",
       "      <td>04/03/2019</td>\n",
       "      <td>6000</td>\n",
       "      <td>8000</td>\n",
       "      <td>7000</td>\n",
       "    </tr>\n",
       "    <tr>\n",
       "      <th>1</th>\n",
       "      <td>Andaman and Nicobar</td>\n",
       "      <td>South Andaman</td>\n",
       "      <td>Port Blair</td>\n",
       "      <td>Banana - Green</td>\n",
       "      <td>Banana - Green</td>\n",
       "      <td>04/03/2019</td>\n",
       "      <td>4500</td>\n",
       "      <td>5500</td>\n",
       "      <td>5000</td>\n",
       "    </tr>\n",
       "    <tr>\n",
       "      <th>2</th>\n",
       "      <td>Andaman and Nicobar</td>\n",
       "      <td>South Andaman</td>\n",
       "      <td>Port Blair</td>\n",
       "      <td>Bhindi(Ladies Finger)</td>\n",
       "      <td>Bhindi</td>\n",
       "      <td>04/03/2019</td>\n",
       "      <td>6000</td>\n",
       "      <td>8000</td>\n",
       "      <td>7000</td>\n",
       "    </tr>\n",
       "    <tr>\n",
       "      <th>3</th>\n",
       "      <td>Andaman and Nicobar</td>\n",
       "      <td>South Andaman</td>\n",
       "      <td>Port Blair</td>\n",
       "      <td>Bitter gourd</td>\n",
       "      <td>Other</td>\n",
       "      <td>04/03/2019</td>\n",
       "      <td>6000</td>\n",
       "      <td>8000</td>\n",
       "      <td>7000</td>\n",
       "    </tr>\n",
       "    <tr>\n",
       "      <th>4</th>\n",
       "      <td>Andaman and Nicobar</td>\n",
       "      <td>South Andaman</td>\n",
       "      <td>Port Blair</td>\n",
       "      <td>Black pepper</td>\n",
       "      <td>Other</td>\n",
       "      <td>04/03/2019</td>\n",
       "      <td>110000</td>\n",
       "      <td>130000</td>\n",
       "      <td>120000</td>\n",
       "    </tr>\n",
       "  </tbody>\n",
       "</table>\n",
       "</div>"
      ],
      "text/plain": [
       "                 state       district      market              commodity  \\\n",
       "0  Andaman and Nicobar  South Andaman  Port Blair             Amaranthus   \n",
       "1  Andaman and Nicobar  South Andaman  Port Blair         Banana - Green   \n",
       "2  Andaman and Nicobar  South Andaman  Port Blair  Bhindi(Ladies Finger)   \n",
       "3  Andaman and Nicobar  South Andaman  Port Blair           Bitter gourd   \n",
       "4  Andaman and Nicobar  South Andaman  Port Blair           Black pepper   \n",
       "\n",
       "          variety arrival_date  min_price  max_price  modal_price  \n",
       "0      Amaranthus   04/03/2019       6000       8000         7000  \n",
       "1  Banana - Green   04/03/2019       4500       5500         5000  \n",
       "2          Bhindi   04/03/2019       6000       8000         7000  \n",
       "3           Other   04/03/2019       6000       8000         7000  \n",
       "4           Other   04/03/2019     110000     130000       120000  "
      ]
     },
     "execution_count": 17,
     "metadata": {},
     "output_type": "execute_result"
    }
   ],
   "source": [
    "agriculture_related_data=pd.read_csv('/kaggle/input/all-agriculture-related-datasets-for-india/csv')\n",
    "agriculture_related_data.head()"
   ]
  },
  {
   "cell_type": "code",
   "execution_count": 18,
   "id": "64f11333",
   "metadata": {
    "execution": {
     "iopub.execute_input": "2023-02-11T10:45:34.780778Z",
     "iopub.status.busy": "2023-02-11T10:45:34.780356Z",
     "iopub.status.idle": "2023-02-11T10:45:34.787691Z",
     "shell.execute_reply": "2023-02-11T10:45:34.786316Z"
    },
    "papermill": {
     "duration": 0.038145,
     "end_time": "2023-02-11T10:45:34.790460",
     "exception": false,
     "start_time": "2023-02-11T10:45:34.752315",
     "status": "completed"
    },
    "tags": []
   },
   "outputs": [
    {
     "data": {
      "text/plain": [
       "(2238, 9)"
      ]
     },
     "execution_count": 18,
     "metadata": {},
     "output_type": "execute_result"
    }
   ],
   "source": [
    "agriculture_related_data.shape"
   ]
  },
  {
   "cell_type": "code",
   "execution_count": 19,
   "id": "2a6b3f9c",
   "metadata": {
    "execution": {
     "iopub.execute_input": "2023-02-11T10:45:34.844195Z",
     "iopub.status.busy": "2023-02-11T10:45:34.843108Z",
     "iopub.status.idle": "2023-02-11T10:45:34.851135Z",
     "shell.execute_reply": "2023-02-11T10:45:34.849699Z"
    },
    "papermill": {
     "duration": 0.0376,
     "end_time": "2023-02-11T10:45:34.853915",
     "exception": false,
     "start_time": "2023-02-11T10:45:34.816315",
     "status": "completed"
    },
    "tags": []
   },
   "outputs": [
    {
     "data": {
      "text/plain": [
       "Index(['state', 'district', 'market', 'commodity', 'variety', 'arrival_date',\n",
       "       'min_price', 'max_price', 'modal_price'],\n",
       "      dtype='object')"
      ]
     },
     "execution_count": 19,
     "metadata": {},
     "output_type": "execute_result"
    }
   ],
   "source": [
    "agriculture_related_data.columns"
   ]
  },
  {
   "cell_type": "code",
   "execution_count": 20,
   "id": "11372d46",
   "metadata": {
    "execution": {
     "iopub.execute_input": "2023-02-11T10:45:34.910768Z",
     "iopub.status.busy": "2023-02-11T10:45:34.910293Z",
     "iopub.status.idle": "2023-02-11T10:45:34.920639Z",
     "shell.execute_reply": "2023-02-11T10:45:34.919329Z"
    },
    "papermill": {
     "duration": 0.04118,
     "end_time": "2023-02-11T10:45:34.923076",
     "exception": false,
     "start_time": "2023-02-11T10:45:34.881896",
     "status": "completed"
    },
    "tags": []
   },
   "outputs": [
    {
     "data": {
      "text/plain": [
       "0"
      ]
     },
     "execution_count": 20,
     "metadata": {},
     "output_type": "execute_result"
    }
   ],
   "source": [
    "agriculture_related_data.isnull().sum().sum()"
   ]
  },
  {
   "cell_type": "code",
   "execution_count": 21,
   "id": "d011ff89",
   "metadata": {
    "execution": {
     "iopub.execute_input": "2023-02-11T10:45:34.976922Z",
     "iopub.status.busy": "2023-02-11T10:45:34.976494Z",
     "iopub.status.idle": "2023-02-11T10:45:34.985779Z",
     "shell.execute_reply": "2023-02-11T10:45:34.984670Z"
    },
    "papermill": {
     "duration": 0.039006,
     "end_time": "2023-02-11T10:45:34.988110",
     "exception": false,
     "start_time": "2023-02-11T10:45:34.949104",
     "status": "completed"
    },
    "tags": []
   },
   "outputs": [
    {
     "data": {
      "text/plain": [
       "0"
      ]
     },
     "execution_count": 21,
     "metadata": {},
     "output_type": "execute_result"
    }
   ],
   "source": [
    "agriculture_related_data.isna().sum().sum()"
   ]
  },
  {
   "cell_type": "code",
   "execution_count": 22,
   "id": "9214ae4c",
   "metadata": {
    "execution": {
     "iopub.execute_input": "2023-02-11T10:45:35.043195Z",
     "iopub.status.busy": "2023-02-11T10:45:35.042772Z",
     "iopub.status.idle": "2023-02-11T10:45:35.058749Z",
     "shell.execute_reply": "2023-02-11T10:45:35.057539Z"
    },
    "papermill": {
     "duration": 0.046265,
     "end_time": "2023-02-11T10:45:35.061275",
     "exception": false,
     "start_time": "2023-02-11T10:45:35.015010",
     "status": "completed"
    },
    "tags": []
   },
   "outputs": [
    {
     "data": {
      "text/html": [
       "<div>\n",
       "<style scoped>\n",
       "    .dataframe tbody tr th:only-of-type {\n",
       "        vertical-align: middle;\n",
       "    }\n",
       "\n",
       "    .dataframe tbody tr th {\n",
       "        vertical-align: top;\n",
       "    }\n",
       "\n",
       "    .dataframe thead th {\n",
       "        text-align: right;\n",
       "    }\n",
       "</style>\n",
       "<table border=\"1\" class=\"dataframe\">\n",
       "  <thead>\n",
       "    <tr style=\"text-align: right;\">\n",
       "      <th></th>\n",
       "      <th>state</th>\n",
       "      <th>district</th>\n",
       "      <th>market</th>\n",
       "      <th>commodity</th>\n",
       "      <th>variety</th>\n",
       "      <th>arrival_date</th>\n",
       "      <th>min_price</th>\n",
       "      <th>max_price</th>\n",
       "      <th>modal_price</th>\n",
       "    </tr>\n",
       "  </thead>\n",
       "  <tbody>\n",
       "    <tr>\n",
       "      <th>0</th>\n",
       "      <td>Andaman and Nicobar</td>\n",
       "      <td>South Andaman</td>\n",
       "      <td>Port Blair</td>\n",
       "      <td>Amaranthus</td>\n",
       "      <td>Amaranthus</td>\n",
       "      <td>04/03/2019</td>\n",
       "      <td>6000</td>\n",
       "      <td>8000</td>\n",
       "      <td>7000</td>\n",
       "    </tr>\n",
       "    <tr>\n",
       "      <th>1</th>\n",
       "      <td>Andaman and Nicobar</td>\n",
       "      <td>South Andaman</td>\n",
       "      <td>Port Blair</td>\n",
       "      <td>Banana - Green</td>\n",
       "      <td>Banana - Green</td>\n",
       "      <td>04/03/2019</td>\n",
       "      <td>4500</td>\n",
       "      <td>5500</td>\n",
       "      <td>5000</td>\n",
       "    </tr>\n",
       "    <tr>\n",
       "      <th>2</th>\n",
       "      <td>Andaman and Nicobar</td>\n",
       "      <td>South Andaman</td>\n",
       "      <td>Port Blair</td>\n",
       "      <td>Bhindi(Ladies Finger)</td>\n",
       "      <td>Bhindi</td>\n",
       "      <td>04/03/2019</td>\n",
       "      <td>6000</td>\n",
       "      <td>8000</td>\n",
       "      <td>7000</td>\n",
       "    </tr>\n",
       "    <tr>\n",
       "      <th>3</th>\n",
       "      <td>Andaman and Nicobar</td>\n",
       "      <td>South Andaman</td>\n",
       "      <td>Port Blair</td>\n",
       "      <td>Bitter gourd</td>\n",
       "      <td>Other</td>\n",
       "      <td>04/03/2019</td>\n",
       "      <td>6000</td>\n",
       "      <td>8000</td>\n",
       "      <td>7000</td>\n",
       "    </tr>\n",
       "    <tr>\n",
       "      <th>4</th>\n",
       "      <td>Andaman and Nicobar</td>\n",
       "      <td>South Andaman</td>\n",
       "      <td>Port Blair</td>\n",
       "      <td>Black pepper</td>\n",
       "      <td>Other</td>\n",
       "      <td>04/03/2019</td>\n",
       "      <td>110000</td>\n",
       "      <td>130000</td>\n",
       "      <td>120000</td>\n",
       "    </tr>\n",
       "  </tbody>\n",
       "</table>\n",
       "</div>"
      ],
      "text/plain": [
       "                 state       district      market              commodity  \\\n",
       "0  Andaman and Nicobar  South Andaman  Port Blair             Amaranthus   \n",
       "1  Andaman and Nicobar  South Andaman  Port Blair         Banana - Green   \n",
       "2  Andaman and Nicobar  South Andaman  Port Blair  Bhindi(Ladies Finger)   \n",
       "3  Andaman and Nicobar  South Andaman  Port Blair           Bitter gourd   \n",
       "4  Andaman and Nicobar  South Andaman  Port Blair           Black pepper   \n",
       "\n",
       "          variety arrival_date  min_price  max_price  modal_price  \n",
       "0      Amaranthus   04/03/2019       6000       8000         7000  \n",
       "1  Banana - Green   04/03/2019       4500       5500         5000  \n",
       "2          Bhindi   04/03/2019       6000       8000         7000  \n",
       "3           Other   04/03/2019       6000       8000         7000  \n",
       "4           Other   04/03/2019     110000     130000       120000  "
      ]
     },
     "execution_count": 22,
     "metadata": {},
     "output_type": "execute_result"
    }
   ],
   "source": [
    "agriculture_related_data.head()"
   ]
  },
  {
   "cell_type": "code",
   "execution_count": 23,
   "id": "c8737ca3",
   "metadata": {
    "_kg_hide-output": true,
    "execution": {
     "iopub.execute_input": "2023-02-11T10:45:35.116165Z",
     "iopub.status.busy": "2023-02-11T10:45:35.115727Z",
     "iopub.status.idle": "2023-02-11T10:45:35.123976Z",
     "shell.execute_reply": "2023-02-11T10:45:35.122755Z"
    },
    "papermill": {
     "duration": 0.038469,
     "end_time": "2023-02-11T10:45:35.126458",
     "exception": false,
     "start_time": "2023-02-11T10:45:35.087989",
     "status": "completed"
    },
    "tags": []
   },
   "outputs": [
    {
     "name": "stdout",
     "output_type": "stream",
     "text": [
      "174\n"
     ]
    }
   ],
   "source": [
    "ard_unique_districts=agriculture_related_data['district'].unique()\n",
    "ard_unique_states=agriculture_related_data['state'].unique()\n",
    "print(len(ard_unique_districts))"
   ]
  },
  {
   "cell_type": "markdown",
   "id": "c3129d3a",
   "metadata": {
    "papermill": {
     "duration": 0.026805,
     "end_time": "2023-02-11T10:45:35.181241",
     "exception": false,
     "start_time": "2023-02-11T10:45:35.154436",
     "status": "completed"
    },
    "tags": []
   },
   "source": [
    "checking the unique states in the dataset"
   ]
  },
  {
   "cell_type": "code",
   "execution_count": 24,
   "id": "1e3d8c9f",
   "metadata": {
    "execution": {
     "iopub.execute_input": "2023-02-11T10:45:35.236673Z",
     "iopub.status.busy": "2023-02-11T10:45:35.236250Z",
     "iopub.status.idle": "2023-02-11T10:45:35.242257Z",
     "shell.execute_reply": "2023-02-11T10:45:35.240853Z"
    },
    "papermill": {
     "duration": 0.036777,
     "end_time": "2023-02-11T10:45:35.245301",
     "exception": false,
     "start_time": "2023-02-11T10:45:35.208524",
     "status": "completed"
    },
    "tags": []
   },
   "outputs": [
    {
     "name": "stdout",
     "output_type": "stream",
     "text": [
      "26\n"
     ]
    }
   ],
   "source": [
    "print(len(ard_unique_states))"
   ]
  },
  {
   "cell_type": "code",
   "execution_count": 25,
   "id": "9fb4c992",
   "metadata": {
    "execution": {
     "iopub.execute_input": "2023-02-11T10:45:35.302337Z",
     "iopub.status.busy": "2023-02-11T10:45:35.301911Z",
     "iopub.status.idle": "2023-02-11T10:45:35.307955Z",
     "shell.execute_reply": "2023-02-11T10:45:35.306666Z"
    },
    "papermill": {
     "duration": 0.037312,
     "end_time": "2023-02-11T10:45:35.310918",
     "exception": false,
     "start_time": "2023-02-11T10:45:35.273606",
     "status": "completed"
    },
    "tags": []
   },
   "outputs": [
    {
     "name": "stdout",
     "output_type": "stream",
     "text": [
      "['Andaman and Nicobar' 'Andhra Pradesh' 'Assam' 'Chattisgarh' 'Goa'\n",
      " 'Gujarat' 'Haryana' 'Himachal Pradesh' 'Jammu and Kashmir' 'Karnataka'\n",
      " 'Kerala' 'Madhya Pradesh' 'Maharashtra' 'Manipur' 'Meghalaya' 'Nagaland'\n",
      " 'Odisha' 'Pondicherry' 'Punjab' 'Rajasthan' 'Tamil Nadu' 'Telangana'\n",
      " 'Tripura' 'Uttar Pradesh' 'Uttrakhand' 'West Bengal']\n"
     ]
    }
   ],
   "source": [
    "print(ard_unique_states)"
   ]
  },
  {
   "cell_type": "markdown",
   "id": "5cf024f8",
   "metadata": {
    "papermill": {
     "duration": 0.02768,
     "end_time": "2023-02-11T10:45:35.365981",
     "exception": false,
     "start_time": "2023-02-11T10:45:35.338301",
     "status": "completed"
    },
    "tags": []
   },
   "source": [
    "checking districts for the districts dataset as well"
   ]
  },
  {
   "cell_type": "code",
   "execution_count": 26,
   "id": "28acfbd6",
   "metadata": {
    "execution": {
     "iopub.execute_input": "2023-02-11T10:45:35.422940Z",
     "iopub.status.busy": "2023-02-11T10:45:35.422499Z",
     "iopub.status.idle": "2023-02-11T10:45:35.452748Z",
     "shell.execute_reply": "2023-02-11T10:45:35.451770Z"
    },
    "papermill": {
     "duration": 0.062273,
     "end_time": "2023-02-11T10:45:35.455616",
     "exception": false,
     "start_time": "2023-02-11T10:45:35.393343",
     "status": "completed"
    },
    "tags": []
   },
   "outputs": [
    {
     "data": {
      "text/html": [
       "<div>\n",
       "<style scoped>\n",
       "    .dataframe tbody tr th:only-of-type {\n",
       "        vertical-align: middle;\n",
       "    }\n",
       "\n",
       "    .dataframe tbody tr th {\n",
       "        vertical-align: top;\n",
       "    }\n",
       "\n",
       "    .dataframe thead th {\n",
       "        text-align: right;\n",
       "    }\n",
       "</style>\n",
       "<table border=\"1\" class=\"dataframe\">\n",
       "  <thead>\n",
       "    <tr style=\"text-align: right;\">\n",
       "      <th></th>\n",
       "      <th>STATE_UT_NAME</th>\n",
       "      <th>DISTRICT</th>\n",
       "      <th>JAN</th>\n",
       "      <th>FEB</th>\n",
       "      <th>MAR</th>\n",
       "      <th>APR</th>\n",
       "      <th>MAY</th>\n",
       "      <th>JUN</th>\n",
       "      <th>JUL</th>\n",
       "      <th>AUG</th>\n",
       "      <th>SEP</th>\n",
       "      <th>OCT</th>\n",
       "      <th>NOV</th>\n",
       "      <th>DEC</th>\n",
       "      <th>ANNUAL</th>\n",
       "      <th>Jan-Feb</th>\n",
       "      <th>Mar-May</th>\n",
       "      <th>Jun-Sep</th>\n",
       "      <th>Oct-Dec</th>\n",
       "    </tr>\n",
       "  </thead>\n",
       "  <tbody>\n",
       "    <tr>\n",
       "      <th>0</th>\n",
       "      <td>ANDAMAN And NICOBAR ISLANDS</td>\n",
       "      <td>NICOBAR</td>\n",
       "      <td>107.3</td>\n",
       "      <td>57.9</td>\n",
       "      <td>65.2</td>\n",
       "      <td>117.0</td>\n",
       "      <td>358.5</td>\n",
       "      <td>295.5</td>\n",
       "      <td>285.0</td>\n",
       "      <td>271.9</td>\n",
       "      <td>354.8</td>\n",
       "      <td>326.0</td>\n",
       "      <td>315.2</td>\n",
       "      <td>250.9</td>\n",
       "      <td>2805.2</td>\n",
       "      <td>165.2</td>\n",
       "      <td>540.7</td>\n",
       "      <td>1207.2</td>\n",
       "      <td>892.1</td>\n",
       "    </tr>\n",
       "    <tr>\n",
       "      <th>1</th>\n",
       "      <td>ANDAMAN And NICOBAR ISLANDS</td>\n",
       "      <td>SOUTH ANDAMAN</td>\n",
       "      <td>43.7</td>\n",
       "      <td>26.0</td>\n",
       "      <td>18.6</td>\n",
       "      <td>90.5</td>\n",
       "      <td>374.4</td>\n",
       "      <td>457.2</td>\n",
       "      <td>421.3</td>\n",
       "      <td>423.1</td>\n",
       "      <td>455.6</td>\n",
       "      <td>301.2</td>\n",
       "      <td>275.8</td>\n",
       "      <td>128.3</td>\n",
       "      <td>3015.7</td>\n",
       "      <td>69.7</td>\n",
       "      <td>483.5</td>\n",
       "      <td>1757.2</td>\n",
       "      <td>705.3</td>\n",
       "    </tr>\n",
       "    <tr>\n",
       "      <th>2</th>\n",
       "      <td>ANDAMAN And NICOBAR ISLANDS</td>\n",
       "      <td>N &amp; M ANDAMAN</td>\n",
       "      <td>32.7</td>\n",
       "      <td>15.9</td>\n",
       "      <td>8.6</td>\n",
       "      <td>53.4</td>\n",
       "      <td>343.6</td>\n",
       "      <td>503.3</td>\n",
       "      <td>465.4</td>\n",
       "      <td>460.9</td>\n",
       "      <td>454.8</td>\n",
       "      <td>276.1</td>\n",
       "      <td>198.6</td>\n",
       "      <td>100.0</td>\n",
       "      <td>2913.3</td>\n",
       "      <td>48.6</td>\n",
       "      <td>405.6</td>\n",
       "      <td>1884.4</td>\n",
       "      <td>574.7</td>\n",
       "    </tr>\n",
       "    <tr>\n",
       "      <th>3</th>\n",
       "      <td>ARUNACHAL PRADESH</td>\n",
       "      <td>LOHIT</td>\n",
       "      <td>42.2</td>\n",
       "      <td>80.8</td>\n",
       "      <td>176.4</td>\n",
       "      <td>358.5</td>\n",
       "      <td>306.4</td>\n",
       "      <td>447.0</td>\n",
       "      <td>660.1</td>\n",
       "      <td>427.8</td>\n",
       "      <td>313.6</td>\n",
       "      <td>167.1</td>\n",
       "      <td>34.1</td>\n",
       "      <td>29.8</td>\n",
       "      <td>3043.8</td>\n",
       "      <td>123.0</td>\n",
       "      <td>841.3</td>\n",
       "      <td>1848.5</td>\n",
       "      <td>231.0</td>\n",
       "    </tr>\n",
       "    <tr>\n",
       "      <th>4</th>\n",
       "      <td>ARUNACHAL PRADESH</td>\n",
       "      <td>EAST SIANG</td>\n",
       "      <td>33.3</td>\n",
       "      <td>79.5</td>\n",
       "      <td>105.9</td>\n",
       "      <td>216.5</td>\n",
       "      <td>323.0</td>\n",
       "      <td>738.3</td>\n",
       "      <td>990.9</td>\n",
       "      <td>711.2</td>\n",
       "      <td>568.0</td>\n",
       "      <td>206.9</td>\n",
       "      <td>29.5</td>\n",
       "      <td>31.7</td>\n",
       "      <td>4034.7</td>\n",
       "      <td>112.8</td>\n",
       "      <td>645.4</td>\n",
       "      <td>3008.4</td>\n",
       "      <td>268.1</td>\n",
       "    </tr>\n",
       "  </tbody>\n",
       "</table>\n",
       "</div>"
      ],
      "text/plain": [
       "                 STATE_UT_NAME       DISTRICT    JAN   FEB    MAR    APR  \\\n",
       "0  ANDAMAN And NICOBAR ISLANDS        NICOBAR  107.3  57.9   65.2  117.0   \n",
       "1  ANDAMAN And NICOBAR ISLANDS  SOUTH ANDAMAN   43.7  26.0   18.6   90.5   \n",
       "2  ANDAMAN And NICOBAR ISLANDS  N & M ANDAMAN   32.7  15.9    8.6   53.4   \n",
       "3            ARUNACHAL PRADESH          LOHIT   42.2  80.8  176.4  358.5   \n",
       "4            ARUNACHAL PRADESH     EAST SIANG   33.3  79.5  105.9  216.5   \n",
       "\n",
       "     MAY    JUN    JUL    AUG    SEP    OCT    NOV    DEC  ANNUAL  Jan-Feb  \\\n",
       "0  358.5  295.5  285.0  271.9  354.8  326.0  315.2  250.9  2805.2    165.2   \n",
       "1  374.4  457.2  421.3  423.1  455.6  301.2  275.8  128.3  3015.7     69.7   \n",
       "2  343.6  503.3  465.4  460.9  454.8  276.1  198.6  100.0  2913.3     48.6   \n",
       "3  306.4  447.0  660.1  427.8  313.6  167.1   34.1   29.8  3043.8    123.0   \n",
       "4  323.0  738.3  990.9  711.2  568.0  206.9   29.5   31.7  4034.7    112.8   \n",
       "\n",
       "   Mar-May  Jun-Sep  Oct-Dec  \n",
       "0    540.7   1207.2    892.1  \n",
       "1    483.5   1757.2    705.3  \n",
       "2    405.6   1884.4    574.7  \n",
       "3    841.3   1848.5    231.0  \n",
       "4    645.4   3008.4    268.1  "
      ]
     },
     "execution_count": 26,
     "metadata": {},
     "output_type": "execute_result"
    }
   ],
   "source": [
    "district_rainfall_data.head()"
   ]
  },
  {
   "cell_type": "code",
   "execution_count": 27,
   "id": "534c7f4c",
   "metadata": {
    "execution": {
     "iopub.execute_input": "2023-02-11T10:45:35.512976Z",
     "iopub.status.busy": "2023-02-11T10:45:35.512559Z",
     "iopub.status.idle": "2023-02-11T10:45:35.520444Z",
     "shell.execute_reply": "2023-02-11T10:45:35.519157Z"
    },
    "papermill": {
     "duration": 0.03945,
     "end_time": "2023-02-11T10:45:35.523354",
     "exception": false,
     "start_time": "2023-02-11T10:45:35.483904",
     "status": "completed"
    },
    "tags": []
   },
   "outputs": [
    {
     "name": "stdout",
     "output_type": "stream",
     "text": [
      "637\n"
     ]
    }
   ],
   "source": [
    "drd_unique_districts=district_rainfall_data['DISTRICT'].unique()\n",
    "drd_unique_states=district_rainfall_data['STATE_UT_NAME'].unique()\n",
    "print(len(drd_unique_districts))"
   ]
  },
  {
   "cell_type": "markdown",
   "id": "07152115",
   "metadata": {
    "papermill": {
     "duration": 0.027924,
     "end_time": "2023-02-11T10:45:35.579616",
     "exception": false,
     "start_time": "2023-02-11T10:45:35.551692",
     "status": "completed"
    },
    "tags": []
   },
   "source": [
    "checking the unique states for district rainfall"
   ]
  },
  {
   "cell_type": "code",
   "execution_count": 28,
   "id": "5ae90042",
   "metadata": {
    "execution": {
     "iopub.execute_input": "2023-02-11T10:45:35.635720Z",
     "iopub.status.busy": "2023-02-11T10:45:35.635269Z",
     "iopub.status.idle": "2023-02-11T10:45:35.640760Z",
     "shell.execute_reply": "2023-02-11T10:45:35.639629Z"
    },
    "papermill": {
     "duration": 0.037062,
     "end_time": "2023-02-11T10:45:35.643938",
     "exception": false,
     "start_time": "2023-02-11T10:45:35.606876",
     "status": "completed"
    },
    "tags": []
   },
   "outputs": [
    {
     "name": "stdout",
     "output_type": "stream",
     "text": [
      "35\n"
     ]
    }
   ],
   "source": [
    "print(len(drd_unique_states))"
   ]
  },
  {
   "cell_type": "markdown",
   "id": "0011359b",
   "metadata": {
    "papermill": {
     "duration": 0.026899,
     "end_time": "2023-02-11T10:45:35.698776",
     "exception": false,
     "start_time": "2023-02-11T10:45:35.671877",
     "status": "completed"
    },
    "tags": []
   },
   "source": [
    "checking the unique states of the agriculture dataset"
   ]
  },
  {
   "cell_type": "code",
   "execution_count": 29,
   "id": "f3a71865",
   "metadata": {
    "execution": {
     "iopub.execute_input": "2023-02-11T10:45:35.754508Z",
     "iopub.status.busy": "2023-02-11T10:45:35.754035Z",
     "iopub.status.idle": "2023-02-11T10:45:35.760339Z",
     "shell.execute_reply": "2023-02-11T10:45:35.759026Z"
    },
    "papermill": {
     "duration": 0.037041,
     "end_time": "2023-02-11T10:45:35.763181",
     "exception": false,
     "start_time": "2023-02-11T10:45:35.726140",
     "status": "completed"
    },
    "tags": []
   },
   "outputs": [
    {
     "name": "stdout",
     "output_type": "stream",
     "text": [
      "['ANDAMAN And NICOBAR ISLANDS' 'ARUNACHAL PRADESH' 'ASSAM' 'MEGHALAYA'\n",
      " 'MANIPUR' 'MIZORAM' 'NAGALAND' 'TRIPURA' 'WEST BENGAL' 'SIKKIM' 'ORISSA'\n",
      " 'JHARKHAND' 'BIHAR' 'UTTAR PRADESH' 'UTTARANCHAL' 'HARYANA' 'CHANDIGARH'\n",
      " 'DELHI' 'PUNJAB' 'HIMACHAL' 'JAMMU AND KASHMIR' 'RAJASTHAN'\n",
      " 'MADHYA PRADESH' 'GUJARAT' 'DADAR NAGAR HAVELI' 'DAMAN AND DUI'\n",
      " 'MAHARASHTRA' 'GOA' 'CHATISGARH' 'ANDHRA PRADESH' 'TAMIL NADU'\n",
      " 'PONDICHERRY' 'KARNATAKA' 'KERALA' 'LAKSHADWEEP']\n"
     ]
    }
   ],
   "source": [
    "print(drd_unique_states)"
   ]
  },
  {
   "cell_type": "markdown",
   "id": "bcc5bd35",
   "metadata": {
    "papermill": {
     "duration": 0.028281,
     "end_time": "2023-02-11T10:45:35.821038",
     "exception": false,
     "start_time": "2023-02-11T10:45:35.792757",
     "status": "completed"
    },
    "tags": []
   },
   "source": [
    "renaming the state and district column names for agriculture related dataset"
   ]
  },
  {
   "cell_type": "code",
   "execution_count": 30,
   "id": "e1822e16",
   "metadata": {
    "execution": {
     "iopub.execute_input": "2023-02-11T10:45:35.879006Z",
     "iopub.status.busy": "2023-02-11T10:45:35.878609Z",
     "iopub.status.idle": "2023-02-11T10:45:35.908029Z",
     "shell.execute_reply": "2023-02-11T10:45:35.906620Z"
    },
    "papermill": {
     "duration": 0.06147,
     "end_time": "2023-02-11T10:45:35.910499",
     "exception": false,
     "start_time": "2023-02-11T10:45:35.849029",
     "status": "completed"
    },
    "tags": []
   },
   "outputs": [
    {
     "data": {
      "text/html": [
       "<div>\n",
       "<style scoped>\n",
       "    .dataframe tbody tr th:only-of-type {\n",
       "        vertical-align: middle;\n",
       "    }\n",
       "\n",
       "    .dataframe tbody tr th {\n",
       "        vertical-align: top;\n",
       "    }\n",
       "\n",
       "    .dataframe thead th {\n",
       "        text-align: right;\n",
       "    }\n",
       "</style>\n",
       "<table border=\"1\" class=\"dataframe\">\n",
       "  <thead>\n",
       "    <tr style=\"text-align: right;\">\n",
       "      <th></th>\n",
       "      <th>state</th>\n",
       "      <th>district</th>\n",
       "      <th>JAN</th>\n",
       "      <th>FEB</th>\n",
       "      <th>MAR</th>\n",
       "      <th>APR</th>\n",
       "      <th>MAY</th>\n",
       "      <th>JUN</th>\n",
       "      <th>JUL</th>\n",
       "      <th>AUG</th>\n",
       "      <th>SEP</th>\n",
       "      <th>OCT</th>\n",
       "      <th>NOV</th>\n",
       "      <th>DEC</th>\n",
       "      <th>ANNUAL</th>\n",
       "      <th>Jan-Feb</th>\n",
       "      <th>Mar-May</th>\n",
       "      <th>Jun-Sep</th>\n",
       "      <th>Oct-Dec</th>\n",
       "    </tr>\n",
       "  </thead>\n",
       "  <tbody>\n",
       "    <tr>\n",
       "      <th>0</th>\n",
       "      <td>ANDAMAN And NICOBAR ISLANDS</td>\n",
       "      <td>NICOBAR</td>\n",
       "      <td>107.3</td>\n",
       "      <td>57.9</td>\n",
       "      <td>65.2</td>\n",
       "      <td>117.0</td>\n",
       "      <td>358.5</td>\n",
       "      <td>295.5</td>\n",
       "      <td>285.0</td>\n",
       "      <td>271.9</td>\n",
       "      <td>354.8</td>\n",
       "      <td>326.0</td>\n",
       "      <td>315.2</td>\n",
       "      <td>250.9</td>\n",
       "      <td>2805.2</td>\n",
       "      <td>165.2</td>\n",
       "      <td>540.7</td>\n",
       "      <td>1207.2</td>\n",
       "      <td>892.1</td>\n",
       "    </tr>\n",
       "    <tr>\n",
       "      <th>1</th>\n",
       "      <td>ANDAMAN And NICOBAR ISLANDS</td>\n",
       "      <td>SOUTH ANDAMAN</td>\n",
       "      <td>43.7</td>\n",
       "      <td>26.0</td>\n",
       "      <td>18.6</td>\n",
       "      <td>90.5</td>\n",
       "      <td>374.4</td>\n",
       "      <td>457.2</td>\n",
       "      <td>421.3</td>\n",
       "      <td>423.1</td>\n",
       "      <td>455.6</td>\n",
       "      <td>301.2</td>\n",
       "      <td>275.8</td>\n",
       "      <td>128.3</td>\n",
       "      <td>3015.7</td>\n",
       "      <td>69.7</td>\n",
       "      <td>483.5</td>\n",
       "      <td>1757.2</td>\n",
       "      <td>705.3</td>\n",
       "    </tr>\n",
       "    <tr>\n",
       "      <th>2</th>\n",
       "      <td>ANDAMAN And NICOBAR ISLANDS</td>\n",
       "      <td>N &amp; M ANDAMAN</td>\n",
       "      <td>32.7</td>\n",
       "      <td>15.9</td>\n",
       "      <td>8.6</td>\n",
       "      <td>53.4</td>\n",
       "      <td>343.6</td>\n",
       "      <td>503.3</td>\n",
       "      <td>465.4</td>\n",
       "      <td>460.9</td>\n",
       "      <td>454.8</td>\n",
       "      <td>276.1</td>\n",
       "      <td>198.6</td>\n",
       "      <td>100.0</td>\n",
       "      <td>2913.3</td>\n",
       "      <td>48.6</td>\n",
       "      <td>405.6</td>\n",
       "      <td>1884.4</td>\n",
       "      <td>574.7</td>\n",
       "    </tr>\n",
       "    <tr>\n",
       "      <th>3</th>\n",
       "      <td>ARUNACHAL PRADESH</td>\n",
       "      <td>LOHIT</td>\n",
       "      <td>42.2</td>\n",
       "      <td>80.8</td>\n",
       "      <td>176.4</td>\n",
       "      <td>358.5</td>\n",
       "      <td>306.4</td>\n",
       "      <td>447.0</td>\n",
       "      <td>660.1</td>\n",
       "      <td>427.8</td>\n",
       "      <td>313.6</td>\n",
       "      <td>167.1</td>\n",
       "      <td>34.1</td>\n",
       "      <td>29.8</td>\n",
       "      <td>3043.8</td>\n",
       "      <td>123.0</td>\n",
       "      <td>841.3</td>\n",
       "      <td>1848.5</td>\n",
       "      <td>231.0</td>\n",
       "    </tr>\n",
       "    <tr>\n",
       "      <th>4</th>\n",
       "      <td>ARUNACHAL PRADESH</td>\n",
       "      <td>EAST SIANG</td>\n",
       "      <td>33.3</td>\n",
       "      <td>79.5</td>\n",
       "      <td>105.9</td>\n",
       "      <td>216.5</td>\n",
       "      <td>323.0</td>\n",
       "      <td>738.3</td>\n",
       "      <td>990.9</td>\n",
       "      <td>711.2</td>\n",
       "      <td>568.0</td>\n",
       "      <td>206.9</td>\n",
       "      <td>29.5</td>\n",
       "      <td>31.7</td>\n",
       "      <td>4034.7</td>\n",
       "      <td>112.8</td>\n",
       "      <td>645.4</td>\n",
       "      <td>3008.4</td>\n",
       "      <td>268.1</td>\n",
       "    </tr>\n",
       "  </tbody>\n",
       "</table>\n",
       "</div>"
      ],
      "text/plain": [
       "                         state       district    JAN   FEB    MAR    APR  \\\n",
       "0  ANDAMAN And NICOBAR ISLANDS        NICOBAR  107.3  57.9   65.2  117.0   \n",
       "1  ANDAMAN And NICOBAR ISLANDS  SOUTH ANDAMAN   43.7  26.0   18.6   90.5   \n",
       "2  ANDAMAN And NICOBAR ISLANDS  N & M ANDAMAN   32.7  15.9    8.6   53.4   \n",
       "3            ARUNACHAL PRADESH          LOHIT   42.2  80.8  176.4  358.5   \n",
       "4            ARUNACHAL PRADESH     EAST SIANG   33.3  79.5  105.9  216.5   \n",
       "\n",
       "     MAY    JUN    JUL    AUG    SEP    OCT    NOV    DEC  ANNUAL  Jan-Feb  \\\n",
       "0  358.5  295.5  285.0  271.9  354.8  326.0  315.2  250.9  2805.2    165.2   \n",
       "1  374.4  457.2  421.3  423.1  455.6  301.2  275.8  128.3  3015.7     69.7   \n",
       "2  343.6  503.3  465.4  460.9  454.8  276.1  198.6  100.0  2913.3     48.6   \n",
       "3  306.4  447.0  660.1  427.8  313.6  167.1   34.1   29.8  3043.8    123.0   \n",
       "4  323.0  738.3  990.9  711.2  568.0  206.9   29.5   31.7  4034.7    112.8   \n",
       "\n",
       "   Mar-May  Jun-Sep  Oct-Dec  \n",
       "0    540.7   1207.2    892.1  \n",
       "1    483.5   1757.2    705.3  \n",
       "2    405.6   1884.4    574.7  \n",
       "3    841.3   1848.5    231.0  \n",
       "4    645.4   3008.4    268.1  "
      ]
     },
     "execution_count": 30,
     "metadata": {},
     "output_type": "execute_result"
    }
   ],
   "source": [
    "district_rainfall_data.rename(columns={'STATE_UT_NAME':'state','DISTRICT':'district'},inplace=True)\n",
    "district_rainfall_data.head()"
   ]
  },
  {
   "cell_type": "markdown",
   "id": "9087d6cc",
   "metadata": {
    "papermill": {
     "duration": 0.028511,
     "end_time": "2023-02-11T10:45:35.967349",
     "exception": false,
     "start_time": "2023-02-11T10:45:35.938838",
     "status": "completed"
    },
    "tags": []
   },
   "source": [
    "trying to combine two pandas datasets based on common values. I will be using both the common features(state,district) and will get two seperate datasets accordingly"
   ]
  },
  {
   "cell_type": "markdown",
   "id": "8743cb0b",
   "metadata": {
    "papermill": {
     "duration": 0.026668,
     "end_time": "2023-02-11T10:45:36.021037",
     "exception": false,
     "start_time": "2023-02-11T10:45:35.994369",
     "status": "completed"
    },
    "tags": []
   },
   "source": [
    "checking the columns of the two datasets"
   ]
  },
  {
   "cell_type": "code",
   "execution_count": 31,
   "id": "30f134cb",
   "metadata": {
    "execution": {
     "iopub.execute_input": "2023-02-11T10:45:36.079655Z",
     "iopub.status.busy": "2023-02-11T10:45:36.078520Z",
     "iopub.status.idle": "2023-02-11T10:45:36.086438Z",
     "shell.execute_reply": "2023-02-11T10:45:36.085096Z"
    },
    "papermill": {
     "duration": 0.040083,
     "end_time": "2023-02-11T10:45:36.089066",
     "exception": false,
     "start_time": "2023-02-11T10:45:36.048983",
     "status": "completed"
    },
    "tags": []
   },
   "outputs": [
    {
     "data": {
      "text/plain": [
       "Index(['state', 'district', 'market', 'commodity', 'variety', 'arrival_date',\n",
       "       'min_price', 'max_price', 'modal_price'],\n",
       "      dtype='object')"
      ]
     },
     "execution_count": 31,
     "metadata": {},
     "output_type": "execute_result"
    }
   ],
   "source": [
    "agriculture_related_data.columns"
   ]
  },
  {
   "cell_type": "code",
   "execution_count": 32,
   "id": "e018a70c",
   "metadata": {
    "execution": {
     "iopub.execute_input": "2023-02-11T10:45:36.146981Z",
     "iopub.status.busy": "2023-02-11T10:45:36.146589Z",
     "iopub.status.idle": "2023-02-11T10:45:36.153577Z",
     "shell.execute_reply": "2023-02-11T10:45:36.152326Z"
    },
    "papermill": {
     "duration": 0.038466,
     "end_time": "2023-02-11T10:45:36.156052",
     "exception": false,
     "start_time": "2023-02-11T10:45:36.117586",
     "status": "completed"
    },
    "tags": []
   },
   "outputs": [
    {
     "data": {
      "text/plain": [
       "Index(['state', 'district', 'JAN', 'FEB', 'MAR', 'APR', 'MAY', 'JUN', 'JUL',\n",
       "       'AUG', 'SEP', 'OCT', 'NOV', 'DEC', 'ANNUAL', 'Jan-Feb', 'Mar-May',\n",
       "       'Jun-Sep', 'Oct-Dec'],\n",
       "      dtype='object')"
      ]
     },
     "execution_count": 32,
     "metadata": {},
     "output_type": "execute_result"
    }
   ],
   "source": [
    "district_rainfall_data.columns"
   ]
  },
  {
   "cell_type": "markdown",
   "id": "b52b5780",
   "metadata": {
    "papermill": {
     "duration": 0.0272,
     "end_time": "2023-02-11T10:45:36.210667",
     "exception": false,
     "start_time": "2023-02-11T10:45:36.183467",
     "status": "completed"
    },
    "tags": []
   },
   "source": [
    "dropping rows which have uncommon state values in district rainfall data "
   ]
  },
  {
   "cell_type": "code",
   "execution_count": 33,
   "id": "d9b288ea",
   "metadata": {
    "execution": {
     "iopub.execute_input": "2023-02-11T10:45:36.269344Z",
     "iopub.status.busy": "2023-02-11T10:45:36.268652Z",
     "iopub.status.idle": "2023-02-11T10:45:36.273527Z",
     "shell.execute_reply": "2023-02-11T10:45:36.272542Z"
    },
    "papermill": {
     "duration": 0.037818,
     "end_time": "2023-02-11T10:45:36.276250",
     "exception": false,
     "start_time": "2023-02-11T10:45:36.238432",
     "status": "completed"
    },
    "tags": []
   },
   "outputs": [],
   "source": [
    "# # Drop rows where column 'B' is equal to values in values_to_drop list\n",
    "# district_rainfall_data = district_rainfall_data[~district_rainfall_data['state'].isin(result)]\n",
    "# district_rainfall_data.reset_index(drop=True)\n",
    "# # district_rainfall_data.head()"
   ]
  },
  {
   "cell_type": "markdown",
   "id": "42f2c4de",
   "metadata": {
    "papermill": {
     "duration": 0.027654,
     "end_time": "2023-02-11T10:45:36.332396",
     "exception": false,
     "start_time": "2023-02-11T10:45:36.304742",
     "status": "completed"
    },
    "tags": []
   },
   "source": [
    "checking the unique values now"
   ]
  },
  {
   "cell_type": "code",
   "execution_count": 34,
   "id": "199f644a",
   "metadata": {
    "execution": {
     "iopub.execute_input": "2023-02-11T10:45:36.389408Z",
     "iopub.status.busy": "2023-02-11T10:45:36.388767Z",
     "iopub.status.idle": "2023-02-11T10:45:36.395001Z",
     "shell.execute_reply": "2023-02-11T10:45:36.393778Z"
    },
    "papermill": {
     "duration": 0.038323,
     "end_time": "2023-02-11T10:45:36.398117",
     "exception": false,
     "start_time": "2023-02-11T10:45:36.359794",
     "status": "completed"
    },
    "tags": []
   },
   "outputs": [
    {
     "name": "stdout",
     "output_type": "stream",
     "text": [
      "35\n"
     ]
    }
   ],
   "source": [
    "drd_unique_districts=district_rainfall_data['district'].unique()\n",
    "drd_unique_states=district_rainfall_data['state'].unique()\n",
    "print(len(drd_unique_states))"
   ]
  },
  {
   "cell_type": "markdown",
   "id": "05e40b76",
   "metadata": {
    "papermill": {
     "duration": 0.028414,
     "end_time": "2023-02-11T10:45:36.454531",
     "exception": false,
     "start_time": "2023-02-11T10:45:36.426117",
     "status": "completed"
    },
    "tags": []
   },
   "source": [
    "merging two datasets on the basis of state"
   ]
  },
  {
   "cell_type": "code",
   "execution_count": 35,
   "id": "41876a81",
   "metadata": {
    "execution": {
     "iopub.execute_input": "2023-02-11T10:45:36.512991Z",
     "iopub.status.busy": "2023-02-11T10:45:36.512606Z",
     "iopub.status.idle": "2023-02-11T10:45:36.528455Z",
     "shell.execute_reply": "2023-02-11T10:45:36.527418Z"
    },
    "papermill": {
     "duration": 0.048281,
     "end_time": "2023-02-11T10:45:36.531198",
     "exception": false,
     "start_time": "2023-02-11T10:45:36.482917",
     "status": "completed"
    },
    "tags": []
   },
   "outputs": [],
   "source": [
    "state_merged=pd.merge(agriculture_related_data,district_rainfall_data,on='state',how='outer')"
   ]
  },
  {
   "cell_type": "code",
   "execution_count": 36,
   "id": "8b3fd1c1",
   "metadata": {
    "execution": {
     "iopub.execute_input": "2023-02-11T10:45:36.590191Z",
     "iopub.status.busy": "2023-02-11T10:45:36.589758Z",
     "iopub.status.idle": "2023-02-11T10:45:36.617646Z",
     "shell.execute_reply": "2023-02-11T10:45:36.616428Z"
    },
    "papermill": {
     "duration": 0.060454,
     "end_time": "2023-02-11T10:45:36.619908",
     "exception": false,
     "start_time": "2023-02-11T10:45:36.559454",
     "status": "completed"
    },
    "tags": []
   },
   "outputs": [
    {
     "data": {
      "text/html": [
       "<div>\n",
       "<style scoped>\n",
       "    .dataframe tbody tr th:only-of-type {\n",
       "        vertical-align: middle;\n",
       "    }\n",
       "\n",
       "    .dataframe tbody tr th {\n",
       "        vertical-align: top;\n",
       "    }\n",
       "\n",
       "    .dataframe thead th {\n",
       "        text-align: right;\n",
       "    }\n",
       "</style>\n",
       "<table border=\"1\" class=\"dataframe\">\n",
       "  <thead>\n",
       "    <tr style=\"text-align: right;\">\n",
       "      <th></th>\n",
       "      <th>state</th>\n",
       "      <th>district_x</th>\n",
       "      <th>market</th>\n",
       "      <th>commodity</th>\n",
       "      <th>variety</th>\n",
       "      <th>arrival_date</th>\n",
       "      <th>min_price</th>\n",
       "      <th>max_price</th>\n",
       "      <th>modal_price</th>\n",
       "      <th>district_y</th>\n",
       "      <th>...</th>\n",
       "      <th>AUG</th>\n",
       "      <th>SEP</th>\n",
       "      <th>OCT</th>\n",
       "      <th>NOV</th>\n",
       "      <th>DEC</th>\n",
       "      <th>ANNUAL</th>\n",
       "      <th>Jan-Feb</th>\n",
       "      <th>Mar-May</th>\n",
       "      <th>Jun-Sep</th>\n",
       "      <th>Oct-Dec</th>\n",
       "    </tr>\n",
       "  </thead>\n",
       "  <tbody>\n",
       "    <tr>\n",
       "      <th>0</th>\n",
       "      <td>Andaman and Nicobar</td>\n",
       "      <td>South Andaman</td>\n",
       "      <td>Port Blair</td>\n",
       "      <td>Amaranthus</td>\n",
       "      <td>Amaranthus</td>\n",
       "      <td>04/03/2019</td>\n",
       "      <td>6000.0</td>\n",
       "      <td>8000.0</td>\n",
       "      <td>7000.0</td>\n",
       "      <td>NaN</td>\n",
       "      <td>...</td>\n",
       "      <td>NaN</td>\n",
       "      <td>NaN</td>\n",
       "      <td>NaN</td>\n",
       "      <td>NaN</td>\n",
       "      <td>NaN</td>\n",
       "      <td>NaN</td>\n",
       "      <td>NaN</td>\n",
       "      <td>NaN</td>\n",
       "      <td>NaN</td>\n",
       "      <td>NaN</td>\n",
       "    </tr>\n",
       "    <tr>\n",
       "      <th>1</th>\n",
       "      <td>Andaman and Nicobar</td>\n",
       "      <td>South Andaman</td>\n",
       "      <td>Port Blair</td>\n",
       "      <td>Banana - Green</td>\n",
       "      <td>Banana - Green</td>\n",
       "      <td>04/03/2019</td>\n",
       "      <td>4500.0</td>\n",
       "      <td>5500.0</td>\n",
       "      <td>5000.0</td>\n",
       "      <td>NaN</td>\n",
       "      <td>...</td>\n",
       "      <td>NaN</td>\n",
       "      <td>NaN</td>\n",
       "      <td>NaN</td>\n",
       "      <td>NaN</td>\n",
       "      <td>NaN</td>\n",
       "      <td>NaN</td>\n",
       "      <td>NaN</td>\n",
       "      <td>NaN</td>\n",
       "      <td>NaN</td>\n",
       "      <td>NaN</td>\n",
       "    </tr>\n",
       "    <tr>\n",
       "      <th>2</th>\n",
       "      <td>Andaman and Nicobar</td>\n",
       "      <td>South Andaman</td>\n",
       "      <td>Port Blair</td>\n",
       "      <td>Bhindi(Ladies Finger)</td>\n",
       "      <td>Bhindi</td>\n",
       "      <td>04/03/2019</td>\n",
       "      <td>6000.0</td>\n",
       "      <td>8000.0</td>\n",
       "      <td>7000.0</td>\n",
       "      <td>NaN</td>\n",
       "      <td>...</td>\n",
       "      <td>NaN</td>\n",
       "      <td>NaN</td>\n",
       "      <td>NaN</td>\n",
       "      <td>NaN</td>\n",
       "      <td>NaN</td>\n",
       "      <td>NaN</td>\n",
       "      <td>NaN</td>\n",
       "      <td>NaN</td>\n",
       "      <td>NaN</td>\n",
       "      <td>NaN</td>\n",
       "    </tr>\n",
       "    <tr>\n",
       "      <th>3</th>\n",
       "      <td>Andaman and Nicobar</td>\n",
       "      <td>South Andaman</td>\n",
       "      <td>Port Blair</td>\n",
       "      <td>Bitter gourd</td>\n",
       "      <td>Other</td>\n",
       "      <td>04/03/2019</td>\n",
       "      <td>6000.0</td>\n",
       "      <td>8000.0</td>\n",
       "      <td>7000.0</td>\n",
       "      <td>NaN</td>\n",
       "      <td>...</td>\n",
       "      <td>NaN</td>\n",
       "      <td>NaN</td>\n",
       "      <td>NaN</td>\n",
       "      <td>NaN</td>\n",
       "      <td>NaN</td>\n",
       "      <td>NaN</td>\n",
       "      <td>NaN</td>\n",
       "      <td>NaN</td>\n",
       "      <td>NaN</td>\n",
       "      <td>NaN</td>\n",
       "    </tr>\n",
       "    <tr>\n",
       "      <th>4</th>\n",
       "      <td>Andaman and Nicobar</td>\n",
       "      <td>South Andaman</td>\n",
       "      <td>Port Blair</td>\n",
       "      <td>Black pepper</td>\n",
       "      <td>Other</td>\n",
       "      <td>04/03/2019</td>\n",
       "      <td>110000.0</td>\n",
       "      <td>130000.0</td>\n",
       "      <td>120000.0</td>\n",
       "      <td>NaN</td>\n",
       "      <td>...</td>\n",
       "      <td>NaN</td>\n",
       "      <td>NaN</td>\n",
       "      <td>NaN</td>\n",
       "      <td>NaN</td>\n",
       "      <td>NaN</td>\n",
       "      <td>NaN</td>\n",
       "      <td>NaN</td>\n",
       "      <td>NaN</td>\n",
       "      <td>NaN</td>\n",
       "      <td>NaN</td>\n",
       "    </tr>\n",
       "  </tbody>\n",
       "</table>\n",
       "<p>5 rows × 27 columns</p>\n",
       "</div>"
      ],
      "text/plain": [
       "                 state     district_x      market              commodity  \\\n",
       "0  Andaman and Nicobar  South Andaman  Port Blair             Amaranthus   \n",
       "1  Andaman and Nicobar  South Andaman  Port Blair         Banana - Green   \n",
       "2  Andaman and Nicobar  South Andaman  Port Blair  Bhindi(Ladies Finger)   \n",
       "3  Andaman and Nicobar  South Andaman  Port Blair           Bitter gourd   \n",
       "4  Andaman and Nicobar  South Andaman  Port Blair           Black pepper   \n",
       "\n",
       "          variety arrival_date  min_price  max_price  modal_price district_y  \\\n",
       "0      Amaranthus   04/03/2019     6000.0     8000.0       7000.0        NaN   \n",
       "1  Banana - Green   04/03/2019     4500.0     5500.0       5000.0        NaN   \n",
       "2          Bhindi   04/03/2019     6000.0     8000.0       7000.0        NaN   \n",
       "3           Other   04/03/2019     6000.0     8000.0       7000.0        NaN   \n",
       "4           Other   04/03/2019   110000.0   130000.0     120000.0        NaN   \n",
       "\n",
       "   ...  AUG  SEP  OCT  NOV  DEC  ANNUAL  Jan-Feb  Mar-May  Jun-Sep  Oct-Dec  \n",
       "0  ...  NaN  NaN  NaN  NaN  NaN     NaN      NaN      NaN      NaN      NaN  \n",
       "1  ...  NaN  NaN  NaN  NaN  NaN     NaN      NaN      NaN      NaN      NaN  \n",
       "2  ...  NaN  NaN  NaN  NaN  NaN     NaN      NaN      NaN      NaN      NaN  \n",
       "3  ...  NaN  NaN  NaN  NaN  NaN     NaN      NaN      NaN      NaN      NaN  \n",
       "4  ...  NaN  NaN  NaN  NaN  NaN     NaN      NaN      NaN      NaN      NaN  \n",
       "\n",
       "[5 rows x 27 columns]"
      ]
     },
     "execution_count": 36,
     "metadata": {},
     "output_type": "execute_result"
    }
   ],
   "source": [
    "state_merged.head()"
   ]
  },
  {
   "cell_type": "markdown",
   "id": "d930cd37",
   "metadata": {
    "papermill": {
     "duration": 0.028434,
     "end_time": "2023-02-11T10:45:36.676569",
     "exception": false,
     "start_time": "2023-02-11T10:45:36.648135",
     "status": "completed"
    },
    "tags": []
   },
   "source": [
    "kill me now if i get a lot of na values"
   ]
  },
  {
   "cell_type": "code",
   "execution_count": 37,
   "id": "81ca915b",
   "metadata": {
    "execution": {
     "iopub.execute_input": "2023-02-11T10:45:36.734732Z",
     "iopub.status.busy": "2023-02-11T10:45:36.733574Z",
     "iopub.status.idle": "2023-02-11T10:45:36.744354Z",
     "shell.execute_reply": "2023-02-11T10:45:36.743114Z"
    },
    "papermill": {
     "duration": 0.042644,
     "end_time": "2023-02-11T10:45:36.747079",
     "exception": false,
     "start_time": "2023-02-11T10:45:36.704435",
     "status": "completed"
    },
    "tags": []
   },
   "outputs": [
    {
     "data": {
      "text/plain": [
       "45412"
      ]
     },
     "execution_count": 37,
     "metadata": {},
     "output_type": "execute_result"
    }
   ],
   "source": [
    "state_merged.isna().sum().sum()"
   ]
  },
  {
   "cell_type": "code",
   "execution_count": 38,
   "id": "e4fc508b",
   "metadata": {
    "execution": {
     "iopub.execute_input": "2023-02-11T10:45:36.807105Z",
     "iopub.status.busy": "2023-02-11T10:45:36.805933Z",
     "iopub.status.idle": "2023-02-11T10:45:36.817375Z",
     "shell.execute_reply": "2023-02-11T10:45:36.815797Z"
    },
    "papermill": {
     "duration": 0.044804,
     "end_time": "2023-02-11T10:45:36.820257",
     "exception": false,
     "start_time": "2023-02-11T10:45:36.775453",
     "status": "completed"
    },
    "tags": []
   },
   "outputs": [
    {
     "name": "stdout",
     "output_type": "stream",
     "text": [
      "state            0.000000\n",
      "district_x      22.264675\n",
      "market          22.264675\n",
      "commodity       22.264675\n",
      "variety         22.264675\n",
      "arrival_date    22.264675\n",
      "min_price       22.264675\n",
      "max_price       22.264675\n",
      "modal_price     22.264675\n",
      "district_y      77.735325\n",
      "JAN             77.735325\n",
      "FEB             77.735325\n",
      "MAR             77.735325\n",
      "APR             77.735325\n",
      "MAY             77.735325\n",
      "JUN             77.735325\n",
      "JUL             77.735325\n",
      "AUG             77.735325\n",
      "SEP             77.735325\n",
      "OCT             77.735325\n",
      "NOV             77.735325\n",
      "DEC             77.735325\n",
      "ANNUAL          77.735325\n",
      "Jan-Feb         77.735325\n",
      "Mar-May         77.735325\n",
      "Jun-Sep         77.735325\n",
      "Oct-Dec         77.735325\n",
      "dtype: float64\n"
     ]
    }
   ],
   "source": [
    "missing_values = state_merged.isna().mean() * 100\n",
    "\n",
    "print(missing_values)"
   ]
  },
  {
   "cell_type": "markdown",
   "id": "e88daf12",
   "metadata": {
    "papermill": {
     "duration": 0.028633,
     "end_time": "2023-02-11T10:45:36.878033",
     "exception": false,
     "start_time": "2023-02-11T10:45:36.849400",
     "status": "completed"
    },
    "tags": []
   },
   "source": []
  },
  {
   "cell_type": "code",
   "execution_count": 39,
   "id": "b6ad9dd7",
   "metadata": {
    "execution": {
     "iopub.execute_input": "2023-02-11T10:45:36.938000Z",
     "iopub.status.busy": "2023-02-11T10:45:36.937600Z",
     "iopub.status.idle": "2023-02-11T10:45:36.941900Z",
     "shell.execute_reply": "2023-02-11T10:45:36.940656Z"
    },
    "papermill": {
     "duration": 0.037726,
     "end_time": "2023-02-11T10:45:36.944547",
     "exception": false,
     "start_time": "2023-02-11T10:45:36.906821",
     "status": "completed"
    },
    "tags": []
   },
   "outputs": [],
   "source": [
    "# Impute missing values with the mean of the column\n",
    "# state_merged.fillna(state_merged.mean(), inplace=True)"
   ]
  },
  {
   "cell_type": "code",
   "execution_count": 40,
   "id": "be6fb223",
   "metadata": {
    "execution": {
     "iopub.execute_input": "2023-02-11T10:45:37.006656Z",
     "iopub.status.busy": "2023-02-11T10:45:37.005545Z",
     "iopub.status.idle": "2023-02-11T10:45:37.010949Z",
     "shell.execute_reply": "2023-02-11T10:45:37.010027Z"
    },
    "papermill": {
     "duration": 0.039665,
     "end_time": "2023-02-11T10:45:37.013375",
     "exception": false,
     "start_time": "2023-02-11T10:45:36.973710",
     "status": "completed"
    },
    "tags": []
   },
   "outputs": [],
   "source": [
    "# state_merged.isna().sum().sum()"
   ]
  },
  {
   "cell_type": "code",
   "execution_count": 41,
   "id": "b5f3fc3d",
   "metadata": {
    "execution": {
     "iopub.execute_input": "2023-02-11T10:45:37.072187Z",
     "iopub.status.busy": "2023-02-11T10:45:37.071572Z",
     "iopub.status.idle": "2023-02-11T10:45:37.078678Z",
     "shell.execute_reply": "2023-02-11T10:45:37.076883Z"
    },
    "papermill": {
     "duration": 0.039318,
     "end_time": "2023-02-11T10:45:37.081290",
     "exception": false,
     "start_time": "2023-02-11T10:45:37.041972",
     "status": "completed"
    },
    "tags": []
   },
   "outputs": [
    {
     "name": "stdout",
     "output_type": "stream",
     "text": [
      "['ANDAMAN & NICOBAR ISLANDS' 'ARUNACHAL PRADESH' 'ASSAM & MEGHALAYA'\n",
      " 'NAGA MANI MIZO TRIPURA' 'SUB HIMALAYAN WEST BENGAL & SIKKIM'\n",
      " 'GANGETIC WEST BENGAL' 'ORISSA' 'JHARKHAND' 'BIHAR' 'EAST UTTAR PRADESH'\n",
      " 'WEST UTTAR PRADESH' 'UTTARAKHAND' 'HARYANA DELHI & CHANDIGARH' 'PUNJAB'\n",
      " 'HIMACHAL PRADESH' 'JAMMU & KASHMIR' 'WEST RAJASTHAN' 'EAST RAJASTHAN'\n",
      " 'WEST MADHYA PRADESH' 'EAST MADHYA PRADESH' 'GUJARAT REGION'\n",
      " 'SAURASHTRA & KUTCH' 'KONKAN & GOA' 'MADHYA MAHARASHTRA' 'MATATHWADA'\n",
      " 'VIDARBHA' 'CHHATTISGARH' 'COASTAL ANDHRA PRADESH' 'TELANGANA'\n",
      " 'RAYALSEEMA' 'TAMIL NADU' 'COASTAL KARNATAKA' 'NORTH INTERIOR KARNATAKA'\n",
      " 'SOUTH INTERIOR KARNATAKA' 'KERALA' 'LAKSHADWEEP']\n"
     ]
    }
   ],
   "source": [
    "subdivisions=india_rainfall_data['SUBDIVISION'].unique()\n",
    "print(subdivisions)"
   ]
  },
  {
   "cell_type": "code",
   "execution_count": 42,
   "id": "317036ae",
   "metadata": {
    "execution": {
     "iopub.execute_input": "2023-02-11T10:45:37.139933Z",
     "iopub.status.busy": "2023-02-11T10:45:37.139517Z",
     "iopub.status.idle": "2023-02-11T10:45:37.145137Z",
     "shell.execute_reply": "2023-02-11T10:45:37.144007Z"
    },
    "papermill": {
     "duration": 0.038818,
     "end_time": "2023-02-11T10:45:37.148182",
     "exception": false,
     "start_time": "2023-02-11T10:45:37.109364",
     "status": "completed"
    },
    "tags": []
   },
   "outputs": [
    {
     "name": "stdout",
     "output_type": "stream",
     "text": [
      "36\n"
     ]
    }
   ],
   "source": [
    "print(len(subdivisions))"
   ]
  },
  {
   "cell_type": "code",
   "execution_count": 43,
   "id": "9741f496",
   "metadata": {
    "execution": {
     "iopub.execute_input": "2023-02-11T10:45:37.209201Z",
     "iopub.status.busy": "2023-02-11T10:45:37.208806Z",
     "iopub.status.idle": "2023-02-11T10:45:37.239435Z",
     "shell.execute_reply": "2023-02-11T10:45:37.238254Z"
    },
    "papermill": {
     "duration": 0.064109,
     "end_time": "2023-02-11T10:45:37.242379",
     "exception": false,
     "start_time": "2023-02-11T10:45:37.178270",
     "status": "completed"
    },
    "tags": []
   },
   "outputs": [
    {
     "data": {
      "text/html": [
       "<div>\n",
       "<style scoped>\n",
       "    .dataframe tbody tr th:only-of-type {\n",
       "        vertical-align: middle;\n",
       "    }\n",
       "\n",
       "    .dataframe tbody tr th {\n",
       "        vertical-align: top;\n",
       "    }\n",
       "\n",
       "    .dataframe thead th {\n",
       "        text-align: right;\n",
       "    }\n",
       "</style>\n",
       "<table border=\"1\" class=\"dataframe\">\n",
       "  <thead>\n",
       "    <tr style=\"text-align: right;\">\n",
       "      <th></th>\n",
       "      <th>state</th>\n",
       "      <th>YEAR</th>\n",
       "      <th>JAN</th>\n",
       "      <th>FEB</th>\n",
       "      <th>MAR</th>\n",
       "      <th>APR</th>\n",
       "      <th>MAY</th>\n",
       "      <th>JUN</th>\n",
       "      <th>JUL</th>\n",
       "      <th>AUG</th>\n",
       "      <th>SEP</th>\n",
       "      <th>OCT</th>\n",
       "      <th>NOV</th>\n",
       "      <th>DEC</th>\n",
       "      <th>ANNUAL</th>\n",
       "      <th>Jan-Feb</th>\n",
       "      <th>Mar-May</th>\n",
       "      <th>Jun-Sep</th>\n",
       "      <th>Oct-Dec</th>\n",
       "    </tr>\n",
       "  </thead>\n",
       "  <tbody>\n",
       "    <tr>\n",
       "      <th>0</th>\n",
       "      <td>ANDAMAN &amp; NICOBAR ISLANDS</td>\n",
       "      <td>1901</td>\n",
       "      <td>49.2</td>\n",
       "      <td>87.1</td>\n",
       "      <td>29.2</td>\n",
       "      <td>2.3</td>\n",
       "      <td>528.8</td>\n",
       "      <td>517.5</td>\n",
       "      <td>365.1</td>\n",
       "      <td>481.1</td>\n",
       "      <td>332.6</td>\n",
       "      <td>388.5</td>\n",
       "      <td>558.2</td>\n",
       "      <td>33.6</td>\n",
       "      <td>3373.2</td>\n",
       "      <td>136.3</td>\n",
       "      <td>560.3</td>\n",
       "      <td>1696.3</td>\n",
       "      <td>980.3</td>\n",
       "    </tr>\n",
       "    <tr>\n",
       "      <th>1</th>\n",
       "      <td>ANDAMAN &amp; NICOBAR ISLANDS</td>\n",
       "      <td>1902</td>\n",
       "      <td>0.0</td>\n",
       "      <td>159.8</td>\n",
       "      <td>12.2</td>\n",
       "      <td>0.0</td>\n",
       "      <td>446.1</td>\n",
       "      <td>537.1</td>\n",
       "      <td>228.9</td>\n",
       "      <td>753.7</td>\n",
       "      <td>666.2</td>\n",
       "      <td>197.2</td>\n",
       "      <td>359.0</td>\n",
       "      <td>160.5</td>\n",
       "      <td>3520.7</td>\n",
       "      <td>159.8</td>\n",
       "      <td>458.3</td>\n",
       "      <td>2185.9</td>\n",
       "      <td>716.7</td>\n",
       "    </tr>\n",
       "    <tr>\n",
       "      <th>2</th>\n",
       "      <td>ANDAMAN &amp; NICOBAR ISLANDS</td>\n",
       "      <td>1903</td>\n",
       "      <td>12.7</td>\n",
       "      <td>144.0</td>\n",
       "      <td>0.0</td>\n",
       "      <td>1.0</td>\n",
       "      <td>235.1</td>\n",
       "      <td>479.9</td>\n",
       "      <td>728.4</td>\n",
       "      <td>326.7</td>\n",
       "      <td>339.0</td>\n",
       "      <td>181.2</td>\n",
       "      <td>284.4</td>\n",
       "      <td>225.0</td>\n",
       "      <td>2957.4</td>\n",
       "      <td>156.7</td>\n",
       "      <td>236.1</td>\n",
       "      <td>1874.0</td>\n",
       "      <td>690.6</td>\n",
       "    </tr>\n",
       "    <tr>\n",
       "      <th>3</th>\n",
       "      <td>ANDAMAN &amp; NICOBAR ISLANDS</td>\n",
       "      <td>1904</td>\n",
       "      <td>9.4</td>\n",
       "      <td>14.7</td>\n",
       "      <td>0.0</td>\n",
       "      <td>202.4</td>\n",
       "      <td>304.5</td>\n",
       "      <td>495.1</td>\n",
       "      <td>502.0</td>\n",
       "      <td>160.1</td>\n",
       "      <td>820.4</td>\n",
       "      <td>222.2</td>\n",
       "      <td>308.7</td>\n",
       "      <td>40.1</td>\n",
       "      <td>3079.6</td>\n",
       "      <td>24.1</td>\n",
       "      <td>506.9</td>\n",
       "      <td>1977.6</td>\n",
       "      <td>571.0</td>\n",
       "    </tr>\n",
       "    <tr>\n",
       "      <th>4</th>\n",
       "      <td>ANDAMAN &amp; NICOBAR ISLANDS</td>\n",
       "      <td>1905</td>\n",
       "      <td>1.3</td>\n",
       "      <td>0.0</td>\n",
       "      <td>3.3</td>\n",
       "      <td>26.9</td>\n",
       "      <td>279.5</td>\n",
       "      <td>628.7</td>\n",
       "      <td>368.7</td>\n",
       "      <td>330.5</td>\n",
       "      <td>297.0</td>\n",
       "      <td>260.7</td>\n",
       "      <td>25.4</td>\n",
       "      <td>344.7</td>\n",
       "      <td>2566.7</td>\n",
       "      <td>1.3</td>\n",
       "      <td>309.7</td>\n",
       "      <td>1624.9</td>\n",
       "      <td>630.8</td>\n",
       "    </tr>\n",
       "  </tbody>\n",
       "</table>\n",
       "</div>"
      ],
      "text/plain": [
       "                       state  YEAR   JAN    FEB   MAR    APR    MAY    JUN  \\\n",
       "0  ANDAMAN & NICOBAR ISLANDS  1901  49.2   87.1  29.2    2.3  528.8  517.5   \n",
       "1  ANDAMAN & NICOBAR ISLANDS  1902   0.0  159.8  12.2    0.0  446.1  537.1   \n",
       "2  ANDAMAN & NICOBAR ISLANDS  1903  12.7  144.0   0.0    1.0  235.1  479.9   \n",
       "3  ANDAMAN & NICOBAR ISLANDS  1904   9.4   14.7   0.0  202.4  304.5  495.1   \n",
       "4  ANDAMAN & NICOBAR ISLANDS  1905   1.3    0.0   3.3   26.9  279.5  628.7   \n",
       "\n",
       "     JUL    AUG    SEP    OCT    NOV    DEC  ANNUAL  Jan-Feb  Mar-May  \\\n",
       "0  365.1  481.1  332.6  388.5  558.2   33.6  3373.2    136.3    560.3   \n",
       "1  228.9  753.7  666.2  197.2  359.0  160.5  3520.7    159.8    458.3   \n",
       "2  728.4  326.7  339.0  181.2  284.4  225.0  2957.4    156.7    236.1   \n",
       "3  502.0  160.1  820.4  222.2  308.7   40.1  3079.6     24.1    506.9   \n",
       "4  368.7  330.5  297.0  260.7   25.4  344.7  2566.7      1.3    309.7   \n",
       "\n",
       "   Jun-Sep  Oct-Dec  \n",
       "0   1696.3    980.3  \n",
       "1   2185.9    716.7  \n",
       "2   1874.0    690.6  \n",
       "3   1977.6    571.0  \n",
       "4   1624.9    630.8  "
      ]
     },
     "execution_count": 43,
     "metadata": {},
     "output_type": "execute_result"
    }
   ],
   "source": [
    "india_rainfall_data.rename(columns={'SUBDIVISION': 'state'},inplace=True)\n",
    "india_rainfall_data.head()"
   ]
  },
  {
   "cell_type": "code",
   "execution_count": 44,
   "id": "91a1068a",
   "metadata": {
    "execution": {
     "iopub.execute_input": "2023-02-11T10:45:37.303632Z",
     "iopub.status.busy": "2023-02-11T10:45:37.302916Z",
     "iopub.status.idle": "2023-02-11T10:45:37.546753Z",
     "shell.execute_reply": "2023-02-11T10:45:37.545274Z"
    },
    "papermill": {
     "duration": 0.278666,
     "end_time": "2023-02-11T10:45:37.550976",
     "exception": false,
     "start_time": "2023-02-11T10:45:37.272310",
     "status": "completed"
    },
    "tags": []
   },
   "outputs": [
    {
     "name": "stderr",
     "output_type": "stream",
     "text": [
      "/opt/conda/lib/python3.7/site-packages/ipykernel_launcher.py:5: FutureWarning: Dropping of nuisance columns in DataFrame reductions (with 'numeric_only=None') is deprecated; in a future version this will raise TypeError.  Select only valid columns before calling the reduction.\n",
      "  \"\"\"\n"
     ]
    },
    {
     "data": {
      "text/html": [
       "<div>\n",
       "<style scoped>\n",
       "    .dataframe tbody tr th:only-of-type {\n",
       "        vertical-align: middle;\n",
       "    }\n",
       "\n",
       "    .dataframe tbody tr th {\n",
       "        vertical-align: top;\n",
       "    }\n",
       "\n",
       "    .dataframe thead th {\n",
       "        text-align: right;\n",
       "    }\n",
       "</style>\n",
       "<table border=\"1\" class=\"dataframe\">\n",
       "  <thead>\n",
       "    <tr style=\"text-align: right;\">\n",
       "      <th></th>\n",
       "      <th>state</th>\n",
       "      <th>YEAR</th>\n",
       "      <th>JAN_x</th>\n",
       "      <th>FEB_x</th>\n",
       "      <th>MAR_x</th>\n",
       "      <th>APR_x</th>\n",
       "      <th>MAY_x</th>\n",
       "      <th>JUN_x</th>\n",
       "      <th>JUL_x</th>\n",
       "      <th>AUG_x</th>\n",
       "      <th>...</th>\n",
       "      <th>Jun-Sep_y</th>\n",
       "      <th>Oct-Dec_y</th>\n",
       "      <th>district_y</th>\n",
       "      <th>market</th>\n",
       "      <th>commodity</th>\n",
       "      <th>variety</th>\n",
       "      <th>arrival_date</th>\n",
       "      <th>min_price</th>\n",
       "      <th>max_price</th>\n",
       "      <th>modal_price</th>\n",
       "    </tr>\n",
       "  </thead>\n",
       "  <tbody>\n",
       "    <tr>\n",
       "      <th>0</th>\n",
       "      <td>ANDAMAN &amp; NICOBAR ISLANDS</td>\n",
       "      <td>1901.0</td>\n",
       "      <td>49.2</td>\n",
       "      <td>87.1</td>\n",
       "      <td>29.2</td>\n",
       "      <td>2.3</td>\n",
       "      <td>528.8</td>\n",
       "      <td>517.5</td>\n",
       "      <td>365.1</td>\n",
       "      <td>481.1</td>\n",
       "      <td>...</td>\n",
       "      <td>1007.78413</td>\n",
       "      <td>207.296242</td>\n",
       "      <td>NaN</td>\n",
       "      <td>NaN</td>\n",
       "      <td>NaN</td>\n",
       "      <td>NaN</td>\n",
       "      <td>NaN</td>\n",
       "      <td>2456.230563</td>\n",
       "      <td>2855.890527</td>\n",
       "      <td>2698.865952</td>\n",
       "    </tr>\n",
       "    <tr>\n",
       "      <th>1</th>\n",
       "      <td>ANDAMAN &amp; NICOBAR ISLANDS</td>\n",
       "      <td>1902.0</td>\n",
       "      <td>0.0</td>\n",
       "      <td>159.8</td>\n",
       "      <td>12.2</td>\n",
       "      <td>0.0</td>\n",
       "      <td>446.1</td>\n",
       "      <td>537.1</td>\n",
       "      <td>228.9</td>\n",
       "      <td>753.7</td>\n",
       "      <td>...</td>\n",
       "      <td>1007.78413</td>\n",
       "      <td>207.296242</td>\n",
       "      <td>NaN</td>\n",
       "      <td>NaN</td>\n",
       "      <td>NaN</td>\n",
       "      <td>NaN</td>\n",
       "      <td>NaN</td>\n",
       "      <td>2456.230563</td>\n",
       "      <td>2855.890527</td>\n",
       "      <td>2698.865952</td>\n",
       "    </tr>\n",
       "    <tr>\n",
       "      <th>2</th>\n",
       "      <td>ANDAMAN &amp; NICOBAR ISLANDS</td>\n",
       "      <td>1903.0</td>\n",
       "      <td>12.7</td>\n",
       "      <td>144.0</td>\n",
       "      <td>0.0</td>\n",
       "      <td>1.0</td>\n",
       "      <td>235.1</td>\n",
       "      <td>479.9</td>\n",
       "      <td>728.4</td>\n",
       "      <td>326.7</td>\n",
       "      <td>...</td>\n",
       "      <td>1007.78413</td>\n",
       "      <td>207.296242</td>\n",
       "      <td>NaN</td>\n",
       "      <td>NaN</td>\n",
       "      <td>NaN</td>\n",
       "      <td>NaN</td>\n",
       "      <td>NaN</td>\n",
       "      <td>2456.230563</td>\n",
       "      <td>2855.890527</td>\n",
       "      <td>2698.865952</td>\n",
       "    </tr>\n",
       "    <tr>\n",
       "      <th>3</th>\n",
       "      <td>ANDAMAN &amp; NICOBAR ISLANDS</td>\n",
       "      <td>1904.0</td>\n",
       "      <td>9.4</td>\n",
       "      <td>14.7</td>\n",
       "      <td>0.0</td>\n",
       "      <td>202.4</td>\n",
       "      <td>304.5</td>\n",
       "      <td>495.1</td>\n",
       "      <td>502.0</td>\n",
       "      <td>160.1</td>\n",
       "      <td>...</td>\n",
       "      <td>1007.78413</td>\n",
       "      <td>207.296242</td>\n",
       "      <td>NaN</td>\n",
       "      <td>NaN</td>\n",
       "      <td>NaN</td>\n",
       "      <td>NaN</td>\n",
       "      <td>NaN</td>\n",
       "      <td>2456.230563</td>\n",
       "      <td>2855.890527</td>\n",
       "      <td>2698.865952</td>\n",
       "    </tr>\n",
       "    <tr>\n",
       "      <th>4</th>\n",
       "      <td>ANDAMAN &amp; NICOBAR ISLANDS</td>\n",
       "      <td>1905.0</td>\n",
       "      <td>1.3</td>\n",
       "      <td>0.0</td>\n",
       "      <td>3.3</td>\n",
       "      <td>26.9</td>\n",
       "      <td>279.5</td>\n",
       "      <td>628.7</td>\n",
       "      <td>368.7</td>\n",
       "      <td>330.5</td>\n",
       "      <td>...</td>\n",
       "      <td>1007.78413</td>\n",
       "      <td>207.296242</td>\n",
       "      <td>NaN</td>\n",
       "      <td>NaN</td>\n",
       "      <td>NaN</td>\n",
       "      <td>NaN</td>\n",
       "      <td>NaN</td>\n",
       "      <td>2456.230563</td>\n",
       "      <td>2855.890527</td>\n",
       "      <td>2698.865952</td>\n",
       "    </tr>\n",
       "  </tbody>\n",
       "</table>\n",
       "<p>5 rows × 45 columns</p>\n",
       "</div>"
      ],
      "text/plain": [
       "                       state    YEAR  JAN_x  FEB_x  MAR_x  APR_x  MAY_x  \\\n",
       "0  ANDAMAN & NICOBAR ISLANDS  1901.0   49.2   87.1   29.2    2.3  528.8   \n",
       "1  ANDAMAN & NICOBAR ISLANDS  1902.0    0.0  159.8   12.2    0.0  446.1   \n",
       "2  ANDAMAN & NICOBAR ISLANDS  1903.0   12.7  144.0    0.0    1.0  235.1   \n",
       "3  ANDAMAN & NICOBAR ISLANDS  1904.0    9.4   14.7    0.0  202.4  304.5   \n",
       "4  ANDAMAN & NICOBAR ISLANDS  1905.0    1.3    0.0    3.3   26.9  279.5   \n",
       "\n",
       "   JUN_x  JUL_x  AUG_x  ...   Jun-Sep_y   Oct-Dec_y  district_y  market  \\\n",
       "0  517.5  365.1  481.1  ...  1007.78413  207.296242         NaN     NaN   \n",
       "1  537.1  228.9  753.7  ...  1007.78413  207.296242         NaN     NaN   \n",
       "2  479.9  728.4  326.7  ...  1007.78413  207.296242         NaN     NaN   \n",
       "3  495.1  502.0  160.1  ...  1007.78413  207.296242         NaN     NaN   \n",
       "4  628.7  368.7  330.5  ...  1007.78413  207.296242         NaN     NaN   \n",
       "\n",
       "   commodity  variety  arrival_date    min_price    max_price  modal_price  \n",
       "0        NaN      NaN           NaN  2456.230563  2855.890527  2698.865952  \n",
       "1        NaN      NaN           NaN  2456.230563  2855.890527  2698.865952  \n",
       "2        NaN      NaN           NaN  2456.230563  2855.890527  2698.865952  \n",
       "3        NaN      NaN           NaN  2456.230563  2855.890527  2698.865952  \n",
       "4        NaN      NaN           NaN  2456.230563  2855.890527  2698.865952  \n",
       "\n",
       "[5 rows x 45 columns]"
      ]
     },
     "execution_count": 44,
     "metadata": {},
     "output_type": "execute_result"
    }
   ],
   "source": [
    "merged_dataset = pd.merge(india_rainfall_data,district_rainfall_data, on='state', how='outer')\n",
    "merged_dataset = pd.merge(merged_dataset,agriculture_related_data, on='state', how='outer')\n",
    "\n",
    "# Impute all NaN values with the mean value of each column\n",
    "merged_dataset.fillna(merged_dataset.mean(), inplace=True)\n",
    "\n",
    "# Print the head of the merged dataset\n",
    "merged_dataset.head()"
   ]
  },
  {
   "cell_type": "markdown",
   "id": "1cb80a6d",
   "metadata": {
    "papermill": {
     "duration": 0.02983,
     "end_time": "2023-02-11T10:45:37.611651",
     "exception": false,
     "start_time": "2023-02-11T10:45:37.581821",
     "status": "completed"
    },
    "tags": []
   },
   "source": [
    "please"
   ]
  },
  {
   "cell_type": "code",
   "execution_count": 45,
   "id": "1dd7ba10",
   "metadata": {
    "execution": {
     "iopub.execute_input": "2023-02-11T10:45:37.673932Z",
     "iopub.status.busy": "2023-02-11T10:45:37.672951Z",
     "iopub.status.idle": "2023-02-11T10:45:37.694688Z",
     "shell.execute_reply": "2023-02-11T10:45:37.693160Z"
    },
    "papermill": {
     "duration": 0.056226,
     "end_time": "2023-02-11T10:45:37.697409",
     "exception": false,
     "start_time": "2023-02-11T10:45:37.641183",
     "status": "completed"
    },
    "tags": []
   },
   "outputs": [
    {
     "name": "stdout",
     "output_type": "stream",
     "text": [
      "10.616104747729675\n"
     ]
    }
   ],
   "source": [
    "missing_values_count = merged_dataset.isnull().sum()\n",
    "# how many total missing values do we have?\n",
    "total_cells = np.product(merged_dataset.shape)\n",
    "total_missing = missing_values_count.sum()\n",
    "\n",
    "# percent of data that is missing\n",
    "percent_missing = (total_missing/total_cells) * 100\n",
    "print(percent_missing)"
   ]
  },
  {
   "cell_type": "code",
   "execution_count": 46,
   "id": "ed0bdaf9",
   "metadata": {
    "execution": {
     "iopub.execute_input": "2023-02-11T10:45:37.757556Z",
     "iopub.status.busy": "2023-02-11T10:45:37.757106Z",
     "iopub.status.idle": "2023-02-11T10:45:37.764858Z",
     "shell.execute_reply": "2023-02-11T10:45:37.763307Z"
    },
    "papermill": {
     "duration": 0.040784,
     "end_time": "2023-02-11T10:45:37.767488",
     "exception": false,
     "start_time": "2023-02-11T10:45:37.726704",
     "status": "completed"
    },
    "tags": []
   },
   "outputs": [
    {
     "data": {
      "text/plain": [
       "123038"
      ]
     },
     "execution_count": 46,
     "metadata": {},
     "output_type": "execute_result"
    }
   ],
   "source": [
    "total_missing"
   ]
  },
  {
   "cell_type": "code",
   "execution_count": 47,
   "id": "1ee4742b",
   "metadata": {
    "execution": {
     "iopub.execute_input": "2023-02-11T10:45:37.829333Z",
     "iopub.status.busy": "2023-02-11T10:45:37.828574Z",
     "iopub.status.idle": "2023-02-11T10:45:37.835737Z",
     "shell.execute_reply": "2023-02-11T10:45:37.834678Z"
    },
    "papermill": {
     "duration": 0.040736,
     "end_time": "2023-02-11T10:45:37.838126",
     "exception": false,
     "start_time": "2023-02-11T10:45:37.797390",
     "status": "completed"
    },
    "tags": []
   },
   "outputs": [
    {
     "data": {
      "text/plain": [
       "1158975"
      ]
     },
     "execution_count": 47,
     "metadata": {},
     "output_type": "execute_result"
    }
   ],
   "source": [
    "total_cells"
   ]
  },
  {
   "cell_type": "code",
   "execution_count": 48,
   "id": "481cd867",
   "metadata": {
    "execution": {
     "iopub.execute_input": "2023-02-11T10:45:37.899612Z",
     "iopub.status.busy": "2023-02-11T10:45:37.898830Z",
     "iopub.status.idle": "2023-02-11T10:45:37.906671Z",
     "shell.execute_reply": "2023-02-11T10:45:37.905533Z"
    },
    "papermill": {
     "duration": 0.041638,
     "end_time": "2023-02-11T10:45:37.909326",
     "exception": false,
     "start_time": "2023-02-11T10:45:37.867688",
     "status": "completed"
    },
    "tags": []
   },
   "outputs": [
    {
     "data": {
      "text/plain": [
       "state               0\n",
       "YEAR                0\n",
       "JAN_x               0\n",
       "FEB_x               0\n",
       "MAR_x               0\n",
       "APR_x               0\n",
       "MAY_x               0\n",
       "JUN_x               0\n",
       "JUL_x               0\n",
       "AUG_x               0\n",
       "SEP_x               0\n",
       "OCT_x               0\n",
       "NOV_x               0\n",
       "DEC_x               0\n",
       "ANNUAL_x            0\n",
       "Jan-Feb_x           0\n",
       "Mar-May_x           0\n",
       "Jun-Sep_x           0\n",
       "Oct-Dec_x           0\n",
       "district_x       5453\n",
       "JAN_y               0\n",
       "FEB_y               0\n",
       "MAR_y               0\n",
       "APR_y               0\n",
       "MAY_y               0\n",
       "JUN_y               0\n",
       "JUL_y               0\n",
       "AUG_y               0\n",
       "SEP_y               0\n",
       "OCT_y               0\n",
       "NOV_y               0\n",
       "DEC_y               0\n",
       "ANNUAL_y            0\n",
       "Jan-Feb_y           0\n",
       "Mar-May_y           0\n",
       "Jun-Sep_y           0\n",
       "Oct-Dec_y           0\n",
       "district_y      23517\n",
       "market          23517\n",
       "commodity       23517\n",
       "variety         23517\n",
       "arrival_date    23517\n",
       "min_price           0\n",
       "max_price           0\n",
       "modal_price         0\n",
       "dtype: int64"
      ]
     },
     "execution_count": 48,
     "metadata": {},
     "output_type": "execute_result"
    }
   ],
   "source": [
    "missing_values_count"
   ]
  },
  {
   "cell_type": "code",
   "execution_count": 49,
   "id": "cfe50cae",
   "metadata": {
    "execution": {
     "iopub.execute_input": "2023-02-11T10:45:37.971365Z",
     "iopub.status.busy": "2023-02-11T10:45:37.970770Z",
     "iopub.status.idle": "2023-02-11T10:45:37.989140Z",
     "shell.execute_reply": "2023-02-11T10:45:37.988280Z"
    },
    "papermill": {
     "duration": 0.052829,
     "end_time": "2023-02-11T10:45:37.991906",
     "exception": false,
     "start_time": "2023-02-11T10:45:37.939077",
     "status": "completed"
    },
    "tags": []
   },
   "outputs": [
    {
     "data": {
      "text/plain": [
       "state               0\n",
       "YEAR                0\n",
       "JAN_x               0\n",
       "FEB_x               0\n",
       "MAR_x               0\n",
       "APR_x               0\n",
       "MAY_x               0\n",
       "JUN_x               0\n",
       "JUL_x               0\n",
       "AUG_x               0\n",
       "SEP_x               0\n",
       "OCT_x               0\n",
       "NOV_x               0\n",
       "DEC_x               0\n",
       "ANNUAL_x            0\n",
       "Jan-Feb_x           0\n",
       "Mar-May_x           0\n",
       "Jun-Sep_x           0\n",
       "Oct-Dec_x           0\n",
       "district_x       5453\n",
       "JAN_y               0\n",
       "FEB_y               0\n",
       "MAR_y               0\n",
       "APR_y               0\n",
       "MAY_y               0\n",
       "JUN_y               0\n",
       "JUL_y               0\n",
       "AUG_y               0\n",
       "SEP_y               0\n",
       "OCT_y               0\n",
       "NOV_y               0\n",
       "DEC_y               0\n",
       "ANNUAL_y            0\n",
       "Jan-Feb_y           0\n",
       "Mar-May_y           0\n",
       "Jun-Sep_y           0\n",
       "Oct-Dec_y           0\n",
       "district_y      23517\n",
       "market          23517\n",
       "commodity       23517\n",
       "variety         23517\n",
       "arrival_date    23517\n",
       "min_price           0\n",
       "max_price           0\n",
       "modal_price         0\n",
       "dtype: int64"
      ]
     },
     "execution_count": 49,
     "metadata": {},
     "output_type": "execute_result"
    }
   ],
   "source": [
    "merged_dataset.isna().sum()"
   ]
  },
  {
   "cell_type": "code",
   "execution_count": 50,
   "id": "406fd347",
   "metadata": {
    "execution": {
     "iopub.execute_input": "2023-02-11T10:45:38.054924Z",
     "iopub.status.busy": "2023-02-11T10:45:38.054206Z",
     "iopub.status.idle": "2023-02-11T10:45:38.070056Z",
     "shell.execute_reply": "2023-02-11T10:45:38.068731Z"
    },
    "papermill": {
     "duration": 0.050593,
     "end_time": "2023-02-11T10:45:38.072760",
     "exception": false,
     "start_time": "2023-02-11T10:45:38.022167",
     "status": "completed"
    },
    "tags": []
   },
   "outputs": [],
   "source": [
    "df=merged_dataset.copy()\n",
    "df.drop(columns=['district_x','district_y','market','commodity','variety','arrival_date'], inplace=True)\n",
    "\n"
   ]
  },
  {
   "cell_type": "code",
   "execution_count": 51,
   "id": "14ae5cf3",
   "metadata": {
    "execution": {
     "iopub.execute_input": "2023-02-11T10:45:38.133793Z",
     "iopub.status.busy": "2023-02-11T10:45:38.133346Z",
     "iopub.status.idle": "2023-02-11T10:45:38.145111Z",
     "shell.execute_reply": "2023-02-11T10:45:38.143949Z"
    },
    "papermill": {
     "duration": 0.045112,
     "end_time": "2023-02-11T10:45:38.147506",
     "exception": false,
     "start_time": "2023-02-11T10:45:38.102394",
     "status": "completed"
    },
    "tags": []
   },
   "outputs": [
    {
     "data": {
      "text/plain": [
       "0"
      ]
     },
     "execution_count": 51,
     "metadata": {},
     "output_type": "execute_result"
    }
   ],
   "source": [
    "df.isnull().sum().sum()"
   ]
  },
  {
   "cell_type": "code",
   "execution_count": 52,
   "id": "d9c787c8",
   "metadata": {
    "execution": {
     "iopub.execute_input": "2023-02-11T10:45:38.212348Z",
     "iopub.status.busy": "2023-02-11T10:45:38.211452Z",
     "iopub.status.idle": "2023-02-11T10:45:38.220139Z",
     "shell.execute_reply": "2023-02-11T10:45:38.219128Z"
    },
    "papermill": {
     "duration": 0.044607,
     "end_time": "2023-02-11T10:45:38.222856",
     "exception": false,
     "start_time": "2023-02-11T10:45:38.178249",
     "status": "completed"
    },
    "tags": []
   },
   "outputs": [],
   "source": [
    "y=df['state']\n",
    "X=df.drop(columns=['state'])"
   ]
  },
  {
   "cell_type": "code",
   "execution_count": 53,
   "id": "0e16b804",
   "metadata": {
    "execution": {
     "iopub.execute_input": "2023-02-11T10:45:38.288193Z",
     "iopub.status.busy": "2023-02-11T10:45:38.287398Z",
     "iopub.status.idle": "2023-02-11T10:45:38.315693Z",
     "shell.execute_reply": "2023-02-11T10:45:38.314454Z"
    },
    "papermill": {
     "duration": 0.06496,
     "end_time": "2023-02-11T10:45:38.318494",
     "exception": false,
     "start_time": "2023-02-11T10:45:38.253534",
     "status": "completed"
    },
    "tags": []
   },
   "outputs": [
    {
     "data": {
      "text/html": [
       "<div>\n",
       "<style scoped>\n",
       "    .dataframe tbody tr th:only-of-type {\n",
       "        vertical-align: middle;\n",
       "    }\n",
       "\n",
       "    .dataframe tbody tr th {\n",
       "        vertical-align: top;\n",
       "    }\n",
       "\n",
       "    .dataframe thead th {\n",
       "        text-align: right;\n",
       "    }\n",
       "</style>\n",
       "<table border=\"1\" class=\"dataframe\">\n",
       "  <thead>\n",
       "    <tr style=\"text-align: right;\">\n",
       "      <th></th>\n",
       "      <th>YEAR</th>\n",
       "      <th>JAN_x</th>\n",
       "      <th>FEB_x</th>\n",
       "      <th>MAR_x</th>\n",
       "      <th>APR_x</th>\n",
       "      <th>MAY_x</th>\n",
       "      <th>JUN_x</th>\n",
       "      <th>JUL_x</th>\n",
       "      <th>AUG_x</th>\n",
       "      <th>SEP_x</th>\n",
       "      <th>...</th>\n",
       "      <th>NOV_y</th>\n",
       "      <th>DEC_y</th>\n",
       "      <th>ANNUAL_y</th>\n",
       "      <th>Jan-Feb_y</th>\n",
       "      <th>Mar-May_y</th>\n",
       "      <th>Jun-Sep_y</th>\n",
       "      <th>Oct-Dec_y</th>\n",
       "      <th>min_price</th>\n",
       "      <th>max_price</th>\n",
       "      <th>modal_price</th>\n",
       "    </tr>\n",
       "  </thead>\n",
       "  <tbody>\n",
       "    <tr>\n",
       "      <th>0</th>\n",
       "      <td>1901.0</td>\n",
       "      <td>49.2</td>\n",
       "      <td>87.1</td>\n",
       "      <td>29.2</td>\n",
       "      <td>2.3</td>\n",
       "      <td>528.8</td>\n",
       "      <td>517.5</td>\n",
       "      <td>365.1</td>\n",
       "      <td>481.1</td>\n",
       "      <td>332.6</td>\n",
       "      <td>...</td>\n",
       "      <td>58.700837</td>\n",
       "      <td>28.529795</td>\n",
       "      <td>1427.970678</td>\n",
       "      <td>40.871239</td>\n",
       "      <td>172.019067</td>\n",
       "      <td>1007.78413</td>\n",
       "      <td>207.296242</td>\n",
       "      <td>2456.230563</td>\n",
       "      <td>2855.890527</td>\n",
       "      <td>2698.865952</td>\n",
       "    </tr>\n",
       "    <tr>\n",
       "      <th>1</th>\n",
       "      <td>1902.0</td>\n",
       "      <td>0.0</td>\n",
       "      <td>159.8</td>\n",
       "      <td>12.2</td>\n",
       "      <td>0.0</td>\n",
       "      <td>446.1</td>\n",
       "      <td>537.1</td>\n",
       "      <td>228.9</td>\n",
       "      <td>753.7</td>\n",
       "      <td>666.2</td>\n",
       "      <td>...</td>\n",
       "      <td>58.700837</td>\n",
       "      <td>28.529795</td>\n",
       "      <td>1427.970678</td>\n",
       "      <td>40.871239</td>\n",
       "      <td>172.019067</td>\n",
       "      <td>1007.78413</td>\n",
       "      <td>207.296242</td>\n",
       "      <td>2456.230563</td>\n",
       "      <td>2855.890527</td>\n",
       "      <td>2698.865952</td>\n",
       "    </tr>\n",
       "    <tr>\n",
       "      <th>2</th>\n",
       "      <td>1903.0</td>\n",
       "      <td>12.7</td>\n",
       "      <td>144.0</td>\n",
       "      <td>0.0</td>\n",
       "      <td>1.0</td>\n",
       "      <td>235.1</td>\n",
       "      <td>479.9</td>\n",
       "      <td>728.4</td>\n",
       "      <td>326.7</td>\n",
       "      <td>339.0</td>\n",
       "      <td>...</td>\n",
       "      <td>58.700837</td>\n",
       "      <td>28.529795</td>\n",
       "      <td>1427.970678</td>\n",
       "      <td>40.871239</td>\n",
       "      <td>172.019067</td>\n",
       "      <td>1007.78413</td>\n",
       "      <td>207.296242</td>\n",
       "      <td>2456.230563</td>\n",
       "      <td>2855.890527</td>\n",
       "      <td>2698.865952</td>\n",
       "    </tr>\n",
       "    <tr>\n",
       "      <th>3</th>\n",
       "      <td>1904.0</td>\n",
       "      <td>9.4</td>\n",
       "      <td>14.7</td>\n",
       "      <td>0.0</td>\n",
       "      <td>202.4</td>\n",
       "      <td>304.5</td>\n",
       "      <td>495.1</td>\n",
       "      <td>502.0</td>\n",
       "      <td>160.1</td>\n",
       "      <td>820.4</td>\n",
       "      <td>...</td>\n",
       "      <td>58.700837</td>\n",
       "      <td>28.529795</td>\n",
       "      <td>1427.970678</td>\n",
       "      <td>40.871239</td>\n",
       "      <td>172.019067</td>\n",
       "      <td>1007.78413</td>\n",
       "      <td>207.296242</td>\n",
       "      <td>2456.230563</td>\n",
       "      <td>2855.890527</td>\n",
       "      <td>2698.865952</td>\n",
       "    </tr>\n",
       "    <tr>\n",
       "      <th>4</th>\n",
       "      <td>1905.0</td>\n",
       "      <td>1.3</td>\n",
       "      <td>0.0</td>\n",
       "      <td>3.3</td>\n",
       "      <td>26.9</td>\n",
       "      <td>279.5</td>\n",
       "      <td>628.7</td>\n",
       "      <td>368.7</td>\n",
       "      <td>330.5</td>\n",
       "      <td>297.0</td>\n",
       "      <td>...</td>\n",
       "      <td>58.700837</td>\n",
       "      <td>28.529795</td>\n",
       "      <td>1427.970678</td>\n",
       "      <td>40.871239</td>\n",
       "      <td>172.019067</td>\n",
       "      <td>1007.78413</td>\n",
       "      <td>207.296242</td>\n",
       "      <td>2456.230563</td>\n",
       "      <td>2855.890527</td>\n",
       "      <td>2698.865952</td>\n",
       "    </tr>\n",
       "  </tbody>\n",
       "</table>\n",
       "<p>5 rows × 38 columns</p>\n",
       "</div>"
      ],
      "text/plain": [
       "     YEAR  JAN_x  FEB_x  MAR_x  APR_x  MAY_x  JUN_x  JUL_x  AUG_x  SEP_x  ...  \\\n",
       "0  1901.0   49.2   87.1   29.2    2.3  528.8  517.5  365.1  481.1  332.6  ...   \n",
       "1  1902.0    0.0  159.8   12.2    0.0  446.1  537.1  228.9  753.7  666.2  ...   \n",
       "2  1903.0   12.7  144.0    0.0    1.0  235.1  479.9  728.4  326.7  339.0  ...   \n",
       "3  1904.0    9.4   14.7    0.0  202.4  304.5  495.1  502.0  160.1  820.4  ...   \n",
       "4  1905.0    1.3    0.0    3.3   26.9  279.5  628.7  368.7  330.5  297.0  ...   \n",
       "\n",
       "       NOV_y      DEC_y     ANNUAL_y  Jan-Feb_y   Mar-May_y   Jun-Sep_y  \\\n",
       "0  58.700837  28.529795  1427.970678  40.871239  172.019067  1007.78413   \n",
       "1  58.700837  28.529795  1427.970678  40.871239  172.019067  1007.78413   \n",
       "2  58.700837  28.529795  1427.970678  40.871239  172.019067  1007.78413   \n",
       "3  58.700837  28.529795  1427.970678  40.871239  172.019067  1007.78413   \n",
       "4  58.700837  28.529795  1427.970678  40.871239  172.019067  1007.78413   \n",
       "\n",
       "    Oct-Dec_y    min_price    max_price  modal_price  \n",
       "0  207.296242  2456.230563  2855.890527  2698.865952  \n",
       "1  207.296242  2456.230563  2855.890527  2698.865952  \n",
       "2  207.296242  2456.230563  2855.890527  2698.865952  \n",
       "3  207.296242  2456.230563  2855.890527  2698.865952  \n",
       "4  207.296242  2456.230563  2855.890527  2698.865952  \n",
       "\n",
       "[5 rows x 38 columns]"
      ]
     },
     "execution_count": 53,
     "metadata": {},
     "output_type": "execute_result"
    }
   ],
   "source": [
    "X.head()"
   ]
  },
  {
   "cell_type": "code",
   "execution_count": 54,
   "id": "d5c19a46",
   "metadata": {
    "execution": {
     "iopub.execute_input": "2023-02-11T10:45:38.382047Z",
     "iopub.status.busy": "2023-02-11T10:45:38.381182Z",
     "iopub.status.idle": "2023-02-11T10:45:38.389083Z",
     "shell.execute_reply": "2023-02-11T10:45:38.387887Z"
    },
    "papermill": {
     "duration": 0.04249,
     "end_time": "2023-02-11T10:45:38.391499",
     "exception": false,
     "start_time": "2023-02-11T10:45:38.349009",
     "status": "completed"
    },
    "tags": []
   },
   "outputs": [
    {
     "data": {
      "text/plain": [
       "(25755, 38)"
      ]
     },
     "execution_count": 54,
     "metadata": {},
     "output_type": "execute_result"
    }
   ],
   "source": [
    "X.shape"
   ]
  },
  {
   "cell_type": "code",
   "execution_count": 55,
   "id": "486c308b",
   "metadata": {
    "execution": {
     "iopub.execute_input": "2023-02-11T10:45:38.456920Z",
     "iopub.status.busy": "2023-02-11T10:45:38.456089Z",
     "iopub.status.idle": "2023-02-11T10:45:38.463750Z",
     "shell.execute_reply": "2023-02-11T10:45:38.462622Z"
    },
    "papermill": {
     "duration": 0.044345,
     "end_time": "2023-02-11T10:45:38.466658",
     "exception": false,
     "start_time": "2023-02-11T10:45:38.422313",
     "status": "completed"
    },
    "tags": []
   },
   "outputs": [
    {
     "data": {
      "text/plain": [
       "Index(['YEAR', 'JAN_x', 'FEB_x', 'MAR_x', 'APR_x', 'MAY_x', 'JUN_x', 'JUL_x',\n",
       "       'AUG_x', 'SEP_x', 'OCT_x', 'NOV_x', 'DEC_x', 'ANNUAL_x', 'Jan-Feb_x',\n",
       "       'Mar-May_x', 'Jun-Sep_x', 'Oct-Dec_x', 'JAN_y', 'FEB_y', 'MAR_y',\n",
       "       'APR_y', 'MAY_y', 'JUN_y', 'JUL_y', 'AUG_y', 'SEP_y', 'OCT_y', 'NOV_y',\n",
       "       'DEC_y', 'ANNUAL_y', 'Jan-Feb_y', 'Mar-May_y', 'Jun-Sep_y', 'Oct-Dec_y',\n",
       "       'min_price', 'max_price', 'modal_price'],\n",
       "      dtype='object')"
      ]
     },
     "execution_count": 55,
     "metadata": {},
     "output_type": "execute_result"
    }
   ],
   "source": [
    "X.columns"
   ]
  },
  {
   "cell_type": "code",
   "execution_count": 56,
   "id": "acdbedc2",
   "metadata": {
    "execution": {
     "iopub.execute_input": "2023-02-11T10:45:38.531290Z",
     "iopub.status.busy": "2023-02-11T10:45:38.530610Z",
     "iopub.status.idle": "2023-02-11T10:45:38.538541Z",
     "shell.execute_reply": "2023-02-11T10:45:38.536961Z"
    },
    "papermill": {
     "duration": 0.0428,
     "end_time": "2023-02-11T10:45:38.541093",
     "exception": false,
     "start_time": "2023-02-11T10:45:38.498293",
     "status": "completed"
    },
    "tags": []
   },
   "outputs": [
    {
     "data": {
      "text/plain": [
       "(2200, 8)"
      ]
     },
     "execution_count": 56,
     "metadata": {},
     "output_type": "execute_result"
    }
   ],
   "source": [
    "recommendation_data.shape"
   ]
  },
  {
   "cell_type": "markdown",
   "id": "4ea289c2",
   "metadata": {
    "papermill": {
     "duration": 0.030178,
     "end_time": "2023-02-11T10:45:38.602158",
     "exception": false,
     "start_time": "2023-02-11T10:45:38.571980",
     "status": "completed"
    },
    "tags": []
   },
   "source": [
    "columns of all"
   ]
  },
  {
   "cell_type": "code",
   "execution_count": 57,
   "id": "edfa0b21",
   "metadata": {
    "execution": {
     "iopub.execute_input": "2023-02-11T10:45:38.664861Z",
     "iopub.status.busy": "2023-02-11T10:45:38.664037Z",
     "iopub.status.idle": "2023-02-11T10:45:38.672198Z",
     "shell.execute_reply": "2023-02-11T10:45:38.671312Z"
    },
    "papermill": {
     "duration": 0.042016,
     "end_time": "2023-02-11T10:45:38.674415",
     "exception": false,
     "start_time": "2023-02-11T10:45:38.632399",
     "status": "completed"
    },
    "tags": []
   },
   "outputs": [
    {
     "data": {
      "text/plain": [
       "Index(['state', 'YEAR', 'JAN_x', 'FEB_x', 'MAR_x', 'APR_x', 'MAY_x', 'JUN_x',\n",
       "       'JUL_x', 'AUG_x', 'SEP_x', 'OCT_x', 'NOV_x', 'DEC_x', 'ANNUAL_x',\n",
       "       'Jan-Feb_x', 'Mar-May_x', 'Jun-Sep_x', 'Oct-Dec_x', 'JAN_y', 'FEB_y',\n",
       "       'MAR_y', 'APR_y', 'MAY_y', 'JUN_y', 'JUL_y', 'AUG_y', 'SEP_y', 'OCT_y',\n",
       "       'NOV_y', 'DEC_y', 'ANNUAL_y', 'Jan-Feb_y', 'Mar-May_y', 'Jun-Sep_y',\n",
       "       'Oct-Dec_y', 'min_price', 'max_price', 'modal_price'],\n",
       "      dtype='object')"
      ]
     },
     "execution_count": 57,
     "metadata": {},
     "output_type": "execute_result"
    }
   ],
   "source": [
    "df.columns"
   ]
  },
  {
   "cell_type": "code",
   "execution_count": 58,
   "id": "e5322bcf",
   "metadata": {
    "execution": {
     "iopub.execute_input": "2023-02-11T10:45:38.737752Z",
     "iopub.status.busy": "2023-02-11T10:45:38.736677Z",
     "iopub.status.idle": "2023-02-11T10:45:38.744193Z",
     "shell.execute_reply": "2023-02-11T10:45:38.743063Z"
    },
    "papermill": {
     "duration": 0.041617,
     "end_time": "2023-02-11T10:45:38.746556",
     "exception": false,
     "start_time": "2023-02-11T10:45:38.704939",
     "status": "completed"
    },
    "tags": []
   },
   "outputs": [
    {
     "data": {
      "text/plain": [
       "Index(['N', 'P', 'K', 'temperature', 'humidity', 'ph', 'rainfall', 'label'], dtype='object')"
      ]
     },
     "execution_count": 58,
     "metadata": {},
     "output_type": "execute_result"
    }
   ],
   "source": [
    "recommendation_data.columns"
   ]
  },
  {
   "cell_type": "code",
   "execution_count": 59,
   "id": "93b40629",
   "metadata": {
    "execution": {
     "iopub.execute_input": "2023-02-11T10:45:38.810845Z",
     "iopub.status.busy": "2023-02-11T10:45:38.809638Z",
     "iopub.status.idle": "2023-02-11T10:45:38.855335Z",
     "shell.execute_reply": "2023-02-11T10:45:38.854024Z"
    },
    "papermill": {
     "duration": 0.080425,
     "end_time": "2023-02-11T10:45:38.858072",
     "exception": false,
     "start_time": "2023-02-11T10:45:38.777647",
     "status": "completed"
    },
    "tags": []
   },
   "outputs": [
    {
     "data": {
      "text/html": [
       "<div>\n",
       "<style scoped>\n",
       "    .dataframe tbody tr th:only-of-type {\n",
       "        vertical-align: middle;\n",
       "    }\n",
       "\n",
       "    .dataframe tbody tr th {\n",
       "        vertical-align: top;\n",
       "    }\n",
       "\n",
       "    .dataframe thead th {\n",
       "        text-align: right;\n",
       "    }\n",
       "</style>\n",
       "<table border=\"1\" class=\"dataframe\">\n",
       "  <thead>\n",
       "    <tr style=\"text-align: right;\">\n",
       "      <th></th>\n",
       "      <th>state</th>\n",
       "      <th>YEAR</th>\n",
       "      <th>JAN_x</th>\n",
       "      <th>FEB_x</th>\n",
       "      <th>MAR_x</th>\n",
       "      <th>APR_x</th>\n",
       "      <th>MAY_x</th>\n",
       "      <th>JUN_x</th>\n",
       "      <th>JUL_x</th>\n",
       "      <th>AUG_x</th>\n",
       "      <th>...</th>\n",
       "      <th>NOV_y</th>\n",
       "      <th>DEC_y</th>\n",
       "      <th>ANNUAL_y</th>\n",
       "      <th>Jan-Feb_y</th>\n",
       "      <th>Mar-May_y</th>\n",
       "      <th>Jun-Sep_y</th>\n",
       "      <th>Oct-Dec_y</th>\n",
       "      <th>min_price</th>\n",
       "      <th>max_price</th>\n",
       "      <th>modal_price</th>\n",
       "    </tr>\n",
       "  </thead>\n",
       "  <tbody>\n",
       "    <tr>\n",
       "      <th>0</th>\n",
       "      <td>ANDAMAN &amp; NICOBAR ISLANDS</td>\n",
       "      <td>1901.0</td>\n",
       "      <td>49.2</td>\n",
       "      <td>87.1</td>\n",
       "      <td>29.2</td>\n",
       "      <td>2.3</td>\n",
       "      <td>528.8</td>\n",
       "      <td>517.5</td>\n",
       "      <td>365.1</td>\n",
       "      <td>481.1</td>\n",
       "      <td>...</td>\n",
       "      <td>58.700837</td>\n",
       "      <td>28.529795</td>\n",
       "      <td>1427.970678</td>\n",
       "      <td>40.871239</td>\n",
       "      <td>172.019067</td>\n",
       "      <td>1007.78413</td>\n",
       "      <td>207.296242</td>\n",
       "      <td>2456.230563</td>\n",
       "      <td>2855.890527</td>\n",
       "      <td>2698.865952</td>\n",
       "    </tr>\n",
       "    <tr>\n",
       "      <th>1</th>\n",
       "      <td>ANDAMAN &amp; NICOBAR ISLANDS</td>\n",
       "      <td>1902.0</td>\n",
       "      <td>0.0</td>\n",
       "      <td>159.8</td>\n",
       "      <td>12.2</td>\n",
       "      <td>0.0</td>\n",
       "      <td>446.1</td>\n",
       "      <td>537.1</td>\n",
       "      <td>228.9</td>\n",
       "      <td>753.7</td>\n",
       "      <td>...</td>\n",
       "      <td>58.700837</td>\n",
       "      <td>28.529795</td>\n",
       "      <td>1427.970678</td>\n",
       "      <td>40.871239</td>\n",
       "      <td>172.019067</td>\n",
       "      <td>1007.78413</td>\n",
       "      <td>207.296242</td>\n",
       "      <td>2456.230563</td>\n",
       "      <td>2855.890527</td>\n",
       "      <td>2698.865952</td>\n",
       "    </tr>\n",
       "    <tr>\n",
       "      <th>2</th>\n",
       "      <td>ANDAMAN &amp; NICOBAR ISLANDS</td>\n",
       "      <td>1903.0</td>\n",
       "      <td>12.7</td>\n",
       "      <td>144.0</td>\n",
       "      <td>0.0</td>\n",
       "      <td>1.0</td>\n",
       "      <td>235.1</td>\n",
       "      <td>479.9</td>\n",
       "      <td>728.4</td>\n",
       "      <td>326.7</td>\n",
       "      <td>...</td>\n",
       "      <td>58.700837</td>\n",
       "      <td>28.529795</td>\n",
       "      <td>1427.970678</td>\n",
       "      <td>40.871239</td>\n",
       "      <td>172.019067</td>\n",
       "      <td>1007.78413</td>\n",
       "      <td>207.296242</td>\n",
       "      <td>2456.230563</td>\n",
       "      <td>2855.890527</td>\n",
       "      <td>2698.865952</td>\n",
       "    </tr>\n",
       "    <tr>\n",
       "      <th>3</th>\n",
       "      <td>ANDAMAN &amp; NICOBAR ISLANDS</td>\n",
       "      <td>1904.0</td>\n",
       "      <td>9.4</td>\n",
       "      <td>14.7</td>\n",
       "      <td>0.0</td>\n",
       "      <td>202.4</td>\n",
       "      <td>304.5</td>\n",
       "      <td>495.1</td>\n",
       "      <td>502.0</td>\n",
       "      <td>160.1</td>\n",
       "      <td>...</td>\n",
       "      <td>58.700837</td>\n",
       "      <td>28.529795</td>\n",
       "      <td>1427.970678</td>\n",
       "      <td>40.871239</td>\n",
       "      <td>172.019067</td>\n",
       "      <td>1007.78413</td>\n",
       "      <td>207.296242</td>\n",
       "      <td>2456.230563</td>\n",
       "      <td>2855.890527</td>\n",
       "      <td>2698.865952</td>\n",
       "    </tr>\n",
       "    <tr>\n",
       "      <th>4</th>\n",
       "      <td>ANDAMAN &amp; NICOBAR ISLANDS</td>\n",
       "      <td>1905.0</td>\n",
       "      <td>1.3</td>\n",
       "      <td>0.0</td>\n",
       "      <td>3.3</td>\n",
       "      <td>26.9</td>\n",
       "      <td>279.5</td>\n",
       "      <td>628.7</td>\n",
       "      <td>368.7</td>\n",
       "      <td>330.5</td>\n",
       "      <td>...</td>\n",
       "      <td>58.700837</td>\n",
       "      <td>28.529795</td>\n",
       "      <td>1427.970678</td>\n",
       "      <td>40.871239</td>\n",
       "      <td>172.019067</td>\n",
       "      <td>1007.78413</td>\n",
       "      <td>207.296242</td>\n",
       "      <td>2456.230563</td>\n",
       "      <td>2855.890527</td>\n",
       "      <td>2698.865952</td>\n",
       "    </tr>\n",
       "    <tr>\n",
       "      <th>5</th>\n",
       "      <td>ANDAMAN &amp; NICOBAR ISLANDS</td>\n",
       "      <td>1906.0</td>\n",
       "      <td>36.6</td>\n",
       "      <td>0.0</td>\n",
       "      <td>0.0</td>\n",
       "      <td>0.0</td>\n",
       "      <td>556.1</td>\n",
       "      <td>733.3</td>\n",
       "      <td>247.7</td>\n",
       "      <td>320.5</td>\n",
       "      <td>...</td>\n",
       "      <td>58.700837</td>\n",
       "      <td>28.529795</td>\n",
       "      <td>1427.970678</td>\n",
       "      <td>40.871239</td>\n",
       "      <td>172.019067</td>\n",
       "      <td>1007.78413</td>\n",
       "      <td>207.296242</td>\n",
       "      <td>2456.230563</td>\n",
       "      <td>2855.890527</td>\n",
       "      <td>2698.865952</td>\n",
       "    </tr>\n",
       "    <tr>\n",
       "      <th>6</th>\n",
       "      <td>ANDAMAN &amp; NICOBAR ISLANDS</td>\n",
       "      <td>1907.0</td>\n",
       "      <td>110.7</td>\n",
       "      <td>0.0</td>\n",
       "      <td>113.3</td>\n",
       "      <td>21.6</td>\n",
       "      <td>616.3</td>\n",
       "      <td>305.2</td>\n",
       "      <td>443.9</td>\n",
       "      <td>377.6</td>\n",
       "      <td>...</td>\n",
       "      <td>58.700837</td>\n",
       "      <td>28.529795</td>\n",
       "      <td>1427.970678</td>\n",
       "      <td>40.871239</td>\n",
       "      <td>172.019067</td>\n",
       "      <td>1007.78413</td>\n",
       "      <td>207.296242</td>\n",
       "      <td>2456.230563</td>\n",
       "      <td>2855.890527</td>\n",
       "      <td>2698.865952</td>\n",
       "    </tr>\n",
       "    <tr>\n",
       "      <th>7</th>\n",
       "      <td>ANDAMAN &amp; NICOBAR ISLANDS</td>\n",
       "      <td>1908.0</td>\n",
       "      <td>20.9</td>\n",
       "      <td>85.1</td>\n",
       "      <td>0.0</td>\n",
       "      <td>29.0</td>\n",
       "      <td>562.0</td>\n",
       "      <td>693.6</td>\n",
       "      <td>481.4</td>\n",
       "      <td>699.9</td>\n",
       "      <td>...</td>\n",
       "      <td>58.700837</td>\n",
       "      <td>28.529795</td>\n",
       "      <td>1427.970678</td>\n",
       "      <td>40.871239</td>\n",
       "      <td>172.019067</td>\n",
       "      <td>1007.78413</td>\n",
       "      <td>207.296242</td>\n",
       "      <td>2456.230563</td>\n",
       "      <td>2855.890527</td>\n",
       "      <td>2698.865952</td>\n",
       "    </tr>\n",
       "    <tr>\n",
       "      <th>8</th>\n",
       "      <td>ANDAMAN &amp; NICOBAR ISLANDS</td>\n",
       "      <td>1910.0</td>\n",
       "      <td>26.6</td>\n",
       "      <td>22.7</td>\n",
       "      <td>206.3</td>\n",
       "      <td>89.3</td>\n",
       "      <td>224.5</td>\n",
       "      <td>472.7</td>\n",
       "      <td>264.3</td>\n",
       "      <td>337.4</td>\n",
       "      <td>...</td>\n",
       "      <td>58.700837</td>\n",
       "      <td>28.529795</td>\n",
       "      <td>1427.970678</td>\n",
       "      <td>40.871239</td>\n",
       "      <td>172.019067</td>\n",
       "      <td>1007.78413</td>\n",
       "      <td>207.296242</td>\n",
       "      <td>2456.230563</td>\n",
       "      <td>2855.890527</td>\n",
       "      <td>2698.865952</td>\n",
       "    </tr>\n",
       "    <tr>\n",
       "      <th>9</th>\n",
       "      <td>ANDAMAN &amp; NICOBAR ISLANDS</td>\n",
       "      <td>1911.0</td>\n",
       "      <td>0.0</td>\n",
       "      <td>8.4</td>\n",
       "      <td>0.0</td>\n",
       "      <td>122.5</td>\n",
       "      <td>327.3</td>\n",
       "      <td>649.0</td>\n",
       "      <td>253.0</td>\n",
       "      <td>187.1</td>\n",
       "      <td>...</td>\n",
       "      <td>58.700837</td>\n",
       "      <td>28.529795</td>\n",
       "      <td>1427.970678</td>\n",
       "      <td>40.871239</td>\n",
       "      <td>172.019067</td>\n",
       "      <td>1007.78413</td>\n",
       "      <td>207.296242</td>\n",
       "      <td>2456.230563</td>\n",
       "      <td>2855.890527</td>\n",
       "      <td>2698.865952</td>\n",
       "    </tr>\n",
       "    <tr>\n",
       "      <th>10</th>\n",
       "      <td>ANDAMAN &amp; NICOBAR ISLANDS</td>\n",
       "      <td>1912.0</td>\n",
       "      <td>583.7</td>\n",
       "      <td>0.8</td>\n",
       "      <td>0.0</td>\n",
       "      <td>21.9</td>\n",
       "      <td>140.7</td>\n",
       "      <td>549.8</td>\n",
       "      <td>468.9</td>\n",
       "      <td>370.3</td>\n",
       "      <td>...</td>\n",
       "      <td>58.700837</td>\n",
       "      <td>28.529795</td>\n",
       "      <td>1427.970678</td>\n",
       "      <td>40.871239</td>\n",
       "      <td>172.019067</td>\n",
       "      <td>1007.78413</td>\n",
       "      <td>207.296242</td>\n",
       "      <td>2456.230563</td>\n",
       "      <td>2855.890527</td>\n",
       "      <td>2698.865952</td>\n",
       "    </tr>\n",
       "    <tr>\n",
       "      <th>11</th>\n",
       "      <td>ANDAMAN &amp; NICOBAR ISLANDS</td>\n",
       "      <td>1913.0</td>\n",
       "      <td>84.8</td>\n",
       "      <td>0.5</td>\n",
       "      <td>1.3</td>\n",
       "      <td>2.5</td>\n",
       "      <td>190.7</td>\n",
       "      <td>530.0</td>\n",
       "      <td>280.8</td>\n",
       "      <td>205.8</td>\n",
       "      <td>...</td>\n",
       "      <td>58.700837</td>\n",
       "      <td>28.529795</td>\n",
       "      <td>1427.970678</td>\n",
       "      <td>40.871239</td>\n",
       "      <td>172.019067</td>\n",
       "      <td>1007.78413</td>\n",
       "      <td>207.296242</td>\n",
       "      <td>2456.230563</td>\n",
       "      <td>2855.890527</td>\n",
       "      <td>2698.865952</td>\n",
       "    </tr>\n",
       "    <tr>\n",
       "      <th>12</th>\n",
       "      <td>ANDAMAN &amp; NICOBAR ISLANDS</td>\n",
       "      <td>1914.0</td>\n",
       "      <td>0.0</td>\n",
       "      <td>0.0</td>\n",
       "      <td>0.0</td>\n",
       "      <td>37.7</td>\n",
       "      <td>298.8</td>\n",
       "      <td>383.3</td>\n",
       "      <td>792.8</td>\n",
       "      <td>520.5</td>\n",
       "      <td>...</td>\n",
       "      <td>58.700837</td>\n",
       "      <td>28.529795</td>\n",
       "      <td>1427.970678</td>\n",
       "      <td>40.871239</td>\n",
       "      <td>172.019067</td>\n",
       "      <td>1007.78413</td>\n",
       "      <td>207.296242</td>\n",
       "      <td>2456.230563</td>\n",
       "      <td>2855.890527</td>\n",
       "      <td>2698.865952</td>\n",
       "    </tr>\n",
       "    <tr>\n",
       "      <th>13</th>\n",
       "      <td>ANDAMAN &amp; NICOBAR ISLANDS</td>\n",
       "      <td>1915.0</td>\n",
       "      <td>45.0</td>\n",
       "      <td>56.7</td>\n",
       "      <td>33.3</td>\n",
       "      <td>40.9</td>\n",
       "      <td>170.2</td>\n",
       "      <td>334.7</td>\n",
       "      <td>269.0</td>\n",
       "      <td>317.2</td>\n",
       "      <td>...</td>\n",
       "      <td>58.700837</td>\n",
       "      <td>28.529795</td>\n",
       "      <td>1427.970678</td>\n",
       "      <td>40.871239</td>\n",
       "      <td>172.019067</td>\n",
       "      <td>1007.78413</td>\n",
       "      <td>207.296242</td>\n",
       "      <td>2456.230563</td>\n",
       "      <td>2855.890527</td>\n",
       "      <td>2698.865952</td>\n",
       "    </tr>\n",
       "    <tr>\n",
       "      <th>14</th>\n",
       "      <td>ANDAMAN &amp; NICOBAR ISLANDS</td>\n",
       "      <td>1916.0</td>\n",
       "      <td>0.0</td>\n",
       "      <td>0.0</td>\n",
       "      <td>0.0</td>\n",
       "      <td>0.5</td>\n",
       "      <td>487.4</td>\n",
       "      <td>450.1</td>\n",
       "      <td>317.3</td>\n",
       "      <td>425.0</td>\n",
       "      <td>...</td>\n",
       "      <td>58.700837</td>\n",
       "      <td>28.529795</td>\n",
       "      <td>1427.970678</td>\n",
       "      <td>40.871239</td>\n",
       "      <td>172.019067</td>\n",
       "      <td>1007.78413</td>\n",
       "      <td>207.296242</td>\n",
       "      <td>2456.230563</td>\n",
       "      <td>2855.890527</td>\n",
       "      <td>2698.865952</td>\n",
       "    </tr>\n",
       "    <tr>\n",
       "      <th>15</th>\n",
       "      <td>ANDAMAN &amp; NICOBAR ISLANDS</td>\n",
       "      <td>1917.0</td>\n",
       "      <td>8.0</td>\n",
       "      <td>3.6</td>\n",
       "      <td>112.0</td>\n",
       "      <td>4.5</td>\n",
       "      <td>295.9</td>\n",
       "      <td>301.1</td>\n",
       "      <td>394.8</td>\n",
       "      <td>437.4</td>\n",
       "      <td>...</td>\n",
       "      <td>58.700837</td>\n",
       "      <td>28.529795</td>\n",
       "      <td>1427.970678</td>\n",
       "      <td>40.871239</td>\n",
       "      <td>172.019067</td>\n",
       "      <td>1007.78413</td>\n",
       "      <td>207.296242</td>\n",
       "      <td>2456.230563</td>\n",
       "      <td>2855.890527</td>\n",
       "      <td>2698.865952</td>\n",
       "    </tr>\n",
       "    <tr>\n",
       "      <th>16</th>\n",
       "      <td>ANDAMAN &amp; NICOBAR ISLANDS</td>\n",
       "      <td>1918.0</td>\n",
       "      <td>77.4</td>\n",
       "      <td>6.9</td>\n",
       "      <td>11.4</td>\n",
       "      <td>10.7</td>\n",
       "      <td>729.3</td>\n",
       "      <td>710.8</td>\n",
       "      <td>200.9</td>\n",
       "      <td>455.4</td>\n",
       "      <td>...</td>\n",
       "      <td>58.700837</td>\n",
       "      <td>28.529795</td>\n",
       "      <td>1427.970678</td>\n",
       "      <td>40.871239</td>\n",
       "      <td>172.019067</td>\n",
       "      <td>1007.78413</td>\n",
       "      <td>207.296242</td>\n",
       "      <td>2456.230563</td>\n",
       "      <td>2855.890527</td>\n",
       "      <td>2698.865952</td>\n",
       "    </tr>\n",
       "    <tr>\n",
       "      <th>17</th>\n",
       "      <td>ANDAMAN &amp; NICOBAR ISLANDS</td>\n",
       "      <td>1919.0</td>\n",
       "      <td>10.2</td>\n",
       "      <td>18.0</td>\n",
       "      <td>0.0</td>\n",
       "      <td>35.5</td>\n",
       "      <td>283.9</td>\n",
       "      <td>542.5</td>\n",
       "      <td>246.5</td>\n",
       "      <td>259.8</td>\n",
       "      <td>...</td>\n",
       "      <td>58.700837</td>\n",
       "      <td>28.529795</td>\n",
       "      <td>1427.970678</td>\n",
       "      <td>40.871239</td>\n",
       "      <td>172.019067</td>\n",
       "      <td>1007.78413</td>\n",
       "      <td>207.296242</td>\n",
       "      <td>2456.230563</td>\n",
       "      <td>2855.890527</td>\n",
       "      <td>2698.865952</td>\n",
       "    </tr>\n",
       "    <tr>\n",
       "      <th>18</th>\n",
       "      <td>ANDAMAN &amp; NICOBAR ISLANDS</td>\n",
       "      <td>1920.0</td>\n",
       "      <td>122.3</td>\n",
       "      <td>7.4</td>\n",
       "      <td>3.1</td>\n",
       "      <td>13.0</td>\n",
       "      <td>237.4</td>\n",
       "      <td>546.9</td>\n",
       "      <td>294.4</td>\n",
       "      <td>467.4</td>\n",
       "      <td>...</td>\n",
       "      <td>58.700837</td>\n",
       "      <td>28.529795</td>\n",
       "      <td>1427.970678</td>\n",
       "      <td>40.871239</td>\n",
       "      <td>172.019067</td>\n",
       "      <td>1007.78413</td>\n",
       "      <td>207.296242</td>\n",
       "      <td>2456.230563</td>\n",
       "      <td>2855.890527</td>\n",
       "      <td>2698.865952</td>\n",
       "    </tr>\n",
       "    <tr>\n",
       "      <th>19</th>\n",
       "      <td>ANDAMAN &amp; NICOBAR ISLANDS</td>\n",
       "      <td>1921.0</td>\n",
       "      <td>13.2</td>\n",
       "      <td>3.1</td>\n",
       "      <td>0.0</td>\n",
       "      <td>37.5</td>\n",
       "      <td>351.2</td>\n",
       "      <td>282.7</td>\n",
       "      <td>487.1</td>\n",
       "      <td>330.0</td>\n",
       "      <td>...</td>\n",
       "      <td>58.700837</td>\n",
       "      <td>28.529795</td>\n",
       "      <td>1427.970678</td>\n",
       "      <td>40.871239</td>\n",
       "      <td>172.019067</td>\n",
       "      <td>1007.78413</td>\n",
       "      <td>207.296242</td>\n",
       "      <td>2456.230563</td>\n",
       "      <td>2855.890527</td>\n",
       "      <td>2698.865952</td>\n",
       "    </tr>\n",
       "  </tbody>\n",
       "</table>\n",
       "<p>20 rows × 39 columns</p>\n",
       "</div>"
      ],
      "text/plain": [
       "                        state    YEAR  JAN_x  FEB_x  MAR_x  APR_x  MAY_x  \\\n",
       "0   ANDAMAN & NICOBAR ISLANDS  1901.0   49.2   87.1   29.2    2.3  528.8   \n",
       "1   ANDAMAN & NICOBAR ISLANDS  1902.0    0.0  159.8   12.2    0.0  446.1   \n",
       "2   ANDAMAN & NICOBAR ISLANDS  1903.0   12.7  144.0    0.0    1.0  235.1   \n",
       "3   ANDAMAN & NICOBAR ISLANDS  1904.0    9.4   14.7    0.0  202.4  304.5   \n",
       "4   ANDAMAN & NICOBAR ISLANDS  1905.0    1.3    0.0    3.3   26.9  279.5   \n",
       "5   ANDAMAN & NICOBAR ISLANDS  1906.0   36.6    0.0    0.0    0.0  556.1   \n",
       "6   ANDAMAN & NICOBAR ISLANDS  1907.0  110.7    0.0  113.3   21.6  616.3   \n",
       "7   ANDAMAN & NICOBAR ISLANDS  1908.0   20.9   85.1    0.0   29.0  562.0   \n",
       "8   ANDAMAN & NICOBAR ISLANDS  1910.0   26.6   22.7  206.3   89.3  224.5   \n",
       "9   ANDAMAN & NICOBAR ISLANDS  1911.0    0.0    8.4    0.0  122.5  327.3   \n",
       "10  ANDAMAN & NICOBAR ISLANDS  1912.0  583.7    0.8    0.0   21.9  140.7   \n",
       "11  ANDAMAN & NICOBAR ISLANDS  1913.0   84.8    0.5    1.3    2.5  190.7   \n",
       "12  ANDAMAN & NICOBAR ISLANDS  1914.0    0.0    0.0    0.0   37.7  298.8   \n",
       "13  ANDAMAN & NICOBAR ISLANDS  1915.0   45.0   56.7   33.3   40.9  170.2   \n",
       "14  ANDAMAN & NICOBAR ISLANDS  1916.0    0.0    0.0    0.0    0.5  487.4   \n",
       "15  ANDAMAN & NICOBAR ISLANDS  1917.0    8.0    3.6  112.0    4.5  295.9   \n",
       "16  ANDAMAN & NICOBAR ISLANDS  1918.0   77.4    6.9   11.4   10.7  729.3   \n",
       "17  ANDAMAN & NICOBAR ISLANDS  1919.0   10.2   18.0    0.0   35.5  283.9   \n",
       "18  ANDAMAN & NICOBAR ISLANDS  1920.0  122.3    7.4    3.1   13.0  237.4   \n",
       "19  ANDAMAN & NICOBAR ISLANDS  1921.0   13.2    3.1    0.0   37.5  351.2   \n",
       "\n",
       "    JUN_x  JUL_x  AUG_x  ...      NOV_y      DEC_y     ANNUAL_y  Jan-Feb_y  \\\n",
       "0   517.5  365.1  481.1  ...  58.700837  28.529795  1427.970678  40.871239   \n",
       "1   537.1  228.9  753.7  ...  58.700837  28.529795  1427.970678  40.871239   \n",
       "2   479.9  728.4  326.7  ...  58.700837  28.529795  1427.970678  40.871239   \n",
       "3   495.1  502.0  160.1  ...  58.700837  28.529795  1427.970678  40.871239   \n",
       "4   628.7  368.7  330.5  ...  58.700837  28.529795  1427.970678  40.871239   \n",
       "5   733.3  247.7  320.5  ...  58.700837  28.529795  1427.970678  40.871239   \n",
       "6   305.2  443.9  377.6  ...  58.700837  28.529795  1427.970678  40.871239   \n",
       "7   693.6  481.4  699.9  ...  58.700837  28.529795  1427.970678  40.871239   \n",
       "8   472.7  264.3  337.4  ...  58.700837  28.529795  1427.970678  40.871239   \n",
       "9   649.0  253.0  187.1  ...  58.700837  28.529795  1427.970678  40.871239   \n",
       "10  549.8  468.9  370.3  ...  58.700837  28.529795  1427.970678  40.871239   \n",
       "11  530.0  280.8  205.8  ...  58.700837  28.529795  1427.970678  40.871239   \n",
       "12  383.3  792.8  520.5  ...  58.700837  28.529795  1427.970678  40.871239   \n",
       "13  334.7  269.0  317.2  ...  58.700837  28.529795  1427.970678  40.871239   \n",
       "14  450.1  317.3  425.0  ...  58.700837  28.529795  1427.970678  40.871239   \n",
       "15  301.1  394.8  437.4  ...  58.700837  28.529795  1427.970678  40.871239   \n",
       "16  710.8  200.9  455.4  ...  58.700837  28.529795  1427.970678  40.871239   \n",
       "17  542.5  246.5  259.8  ...  58.700837  28.529795  1427.970678  40.871239   \n",
       "18  546.9  294.4  467.4  ...  58.700837  28.529795  1427.970678  40.871239   \n",
       "19  282.7  487.1  330.0  ...  58.700837  28.529795  1427.970678  40.871239   \n",
       "\n",
       "     Mar-May_y   Jun-Sep_y   Oct-Dec_y    min_price    max_price  modal_price  \n",
       "0   172.019067  1007.78413  207.296242  2456.230563  2855.890527  2698.865952  \n",
       "1   172.019067  1007.78413  207.296242  2456.230563  2855.890527  2698.865952  \n",
       "2   172.019067  1007.78413  207.296242  2456.230563  2855.890527  2698.865952  \n",
       "3   172.019067  1007.78413  207.296242  2456.230563  2855.890527  2698.865952  \n",
       "4   172.019067  1007.78413  207.296242  2456.230563  2855.890527  2698.865952  \n",
       "5   172.019067  1007.78413  207.296242  2456.230563  2855.890527  2698.865952  \n",
       "6   172.019067  1007.78413  207.296242  2456.230563  2855.890527  2698.865952  \n",
       "7   172.019067  1007.78413  207.296242  2456.230563  2855.890527  2698.865952  \n",
       "8   172.019067  1007.78413  207.296242  2456.230563  2855.890527  2698.865952  \n",
       "9   172.019067  1007.78413  207.296242  2456.230563  2855.890527  2698.865952  \n",
       "10  172.019067  1007.78413  207.296242  2456.230563  2855.890527  2698.865952  \n",
       "11  172.019067  1007.78413  207.296242  2456.230563  2855.890527  2698.865952  \n",
       "12  172.019067  1007.78413  207.296242  2456.230563  2855.890527  2698.865952  \n",
       "13  172.019067  1007.78413  207.296242  2456.230563  2855.890527  2698.865952  \n",
       "14  172.019067  1007.78413  207.296242  2456.230563  2855.890527  2698.865952  \n",
       "15  172.019067  1007.78413  207.296242  2456.230563  2855.890527  2698.865952  \n",
       "16  172.019067  1007.78413  207.296242  2456.230563  2855.890527  2698.865952  \n",
       "17  172.019067  1007.78413  207.296242  2456.230563  2855.890527  2698.865952  \n",
       "18  172.019067  1007.78413  207.296242  2456.230563  2855.890527  2698.865952  \n",
       "19  172.019067  1007.78413  207.296242  2456.230563  2855.890527  2698.865952  \n",
       "\n",
       "[20 rows x 39 columns]"
      ]
     },
     "execution_count": 59,
     "metadata": {},
     "output_type": "execute_result"
    }
   ],
   "source": [
    "df.head(20)"
   ]
  },
  {
   "cell_type": "code",
   "execution_count": 60,
   "id": "6e07ad0a",
   "metadata": {
    "execution": {
     "iopub.execute_input": "2023-02-11T10:45:38.924831Z",
     "iopub.status.busy": "2023-02-11T10:45:38.924380Z",
     "iopub.status.idle": "2023-02-11T10:45:38.935894Z",
     "shell.execute_reply": "2023-02-11T10:45:38.934781Z"
    },
    "papermill": {
     "duration": 0.047984,
     "end_time": "2023-02-11T10:45:38.938298",
     "exception": false,
     "start_time": "2023-02-11T10:45:38.890314",
     "status": "completed"
    },
    "tags": []
   },
   "outputs": [
    {
     "data": {
      "text/plain": [
       "207.296242    5453\n",
       "83.700000      345\n",
       "93.800000      231\n",
       "72.300000      231\n",
       "45.800000      230\n",
       "              ... \n",
       "26.300000        1\n",
       "29.900000        1\n",
       "19.000000        1\n",
       "21.000000        1\n",
       "225.200000       1\n",
       "Name: Oct-Dec_y, Length: 525, dtype: int64"
      ]
     },
     "execution_count": 60,
     "metadata": {},
     "output_type": "execute_result"
    }
   ],
   "source": [
    "df['Oct-Dec_y'].value_counts()"
   ]
  },
  {
   "cell_type": "code",
   "execution_count": 61,
   "id": "946ae590",
   "metadata": {
    "execution": {
     "iopub.execute_input": "2023-02-11T10:45:39.005893Z",
     "iopub.status.busy": "2023-02-11T10:45:39.005455Z",
     "iopub.status.idle": "2023-02-11T10:45:39.015955Z",
     "shell.execute_reply": "2023-02-11T10:45:39.014643Z"
    },
    "papermill": {
     "duration": 0.047393,
     "end_time": "2023-02-11T10:45:39.018401",
     "exception": false,
     "start_time": "2023-02-11T10:45:38.971008",
     "status": "completed"
    },
    "tags": []
   },
   "outputs": [
    {
     "data": {
      "text/plain": [
       "202.935536    1\n",
       "26.036577     1\n",
       "20.390205     1\n",
       "21.179248     1\n",
       "21.000099     1\n",
       "             ..\n",
       "65.816559     1\n",
       "63.497263     1\n",
       "65.628595     1\n",
       "61.192509     1\n",
       "140.937041    1\n",
       "Name: rainfall, Length: 2200, dtype: int64"
      ]
     },
     "execution_count": 61,
     "metadata": {},
     "output_type": "execute_result"
    }
   ],
   "source": [
    "recommendation_data['rainfall'].value_counts()"
   ]
  },
  {
   "cell_type": "code",
   "execution_count": 62,
   "id": "4f965e12",
   "metadata": {
    "execution": {
     "iopub.execute_input": "2023-02-11T10:45:39.084070Z",
     "iopub.status.busy": "2023-02-11T10:45:39.083645Z",
     "iopub.status.idle": "2023-02-11T10:45:39.094601Z",
     "shell.execute_reply": "2023-02-11T10:45:39.093304Z"
    },
    "papermill": {
     "duration": 0.04654,
     "end_time": "2023-02-11T10:45:39.097103",
     "exception": false,
     "start_time": "2023-02-11T10:45:39.050563",
     "status": "completed"
    },
    "tags": []
   },
   "outputs": [
    {
     "data": {
      "text/plain": [
       "172.019067    5453\n",
       "27.900000      233\n",
       "101.800000     230\n",
       "68.100000      230\n",
       "115.900000     230\n",
       "              ... \n",
       "25.100000        1\n",
       "13.400000        1\n",
       "48.200000        1\n",
       "48.800000        1\n",
       "104.800000       1\n",
       "Name: Mar-May_y, Length: 512, dtype: int64"
      ]
     },
     "execution_count": 62,
     "metadata": {},
     "output_type": "execute_result"
    }
   ],
   "source": [
    "df['Mar-May_y'].value_counts()"
   ]
  },
  {
   "cell_type": "code",
   "execution_count": 63,
   "id": "8860beef",
   "metadata": {
    "execution": {
     "iopub.execute_input": "2023-02-11T10:45:39.163238Z",
     "iopub.status.busy": "2023-02-11T10:45:39.162812Z",
     "iopub.status.idle": "2023-02-11T10:45:39.171080Z",
     "shell.execute_reply": "2023-02-11T10:45:39.169877Z"
    },
    "papermill": {
     "duration": 0.04471,
     "end_time": "2023-02-11T10:45:39.173532",
     "exception": false,
     "start_time": "2023-02-11T10:45:39.128822",
     "status": "completed"
    },
    "tags": []
   },
   "outputs": [],
   "source": [
    "df['average']=(df['Jan-Feb_y']+df['Mar-May_y']+df['Jun-Sep_y']+df['Oct-Dec_y'])/4"
   ]
  },
  {
   "cell_type": "code",
   "execution_count": 64,
   "id": "15097010",
   "metadata": {
    "execution": {
     "iopub.execute_input": "2023-02-11T10:45:39.239476Z",
     "iopub.status.busy": "2023-02-11T10:45:39.238435Z",
     "iopub.status.idle": "2023-02-11T10:45:39.249054Z",
     "shell.execute_reply": "2023-02-11T10:45:39.247812Z"
    },
    "papermill": {
     "duration": 0.04642,
     "end_time": "2023-02-11T10:45:39.251924",
     "exception": false,
     "start_time": "2023-02-11T10:45:39.205504",
     "status": "completed"
    },
    "tags": []
   },
   "outputs": [
    {
     "data": {
      "text/plain": [
       "356.992669    5453\n",
       "362.075000     230\n",
       "286.700000     230\n",
       "260.450000     230\n",
       "383.375000     230\n",
       "              ... \n",
       "530.975000       1\n",
       "316.750000       1\n",
       "204.600000       1\n",
       "167.325000       1\n",
       "187.125000       1\n",
       "Name: average, Length: 594, dtype: int64"
      ]
     },
     "execution_count": 64,
     "metadata": {},
     "output_type": "execute_result"
    }
   ],
   "source": [
    "df['average'].value_counts()"
   ]
  },
  {
   "cell_type": "code",
   "execution_count": 65,
   "id": "9392e0f5",
   "metadata": {
    "execution": {
     "iopub.execute_input": "2023-02-11T10:45:39.319024Z",
     "iopub.status.busy": "2023-02-11T10:45:39.317787Z",
     "iopub.status.idle": "2023-02-11T10:45:39.348561Z",
     "shell.execute_reply": "2023-02-11T10:45:39.347100Z"
    },
    "papermill": {
     "duration": 0.066985,
     "end_time": "2023-02-11T10:45:39.351234",
     "exception": false,
     "start_time": "2023-02-11T10:45:39.284249",
     "status": "completed"
    },
    "tags": []
   },
   "outputs": [
    {
     "data": {
      "text/html": [
       "<div>\n",
       "<style scoped>\n",
       "    .dataframe tbody tr th:only-of-type {\n",
       "        vertical-align: middle;\n",
       "    }\n",
       "\n",
       "    .dataframe tbody tr th {\n",
       "        vertical-align: top;\n",
       "    }\n",
       "\n",
       "    .dataframe thead th {\n",
       "        text-align: right;\n",
       "    }\n",
       "</style>\n",
       "<table border=\"1\" class=\"dataframe\">\n",
       "  <thead>\n",
       "    <tr style=\"text-align: right;\">\n",
       "      <th></th>\n",
       "      <th>state</th>\n",
       "      <th>YEAR</th>\n",
       "      <th>JAN_x</th>\n",
       "      <th>FEB_x</th>\n",
       "      <th>MAR_x</th>\n",
       "      <th>APR_x</th>\n",
       "      <th>MAY_x</th>\n",
       "      <th>JUN_x</th>\n",
       "      <th>JUL_x</th>\n",
       "      <th>AUG_x</th>\n",
       "      <th>...</th>\n",
       "      <th>DEC_y</th>\n",
       "      <th>ANNUAL_y</th>\n",
       "      <th>Jan-Feb_y</th>\n",
       "      <th>Mar-May_y</th>\n",
       "      <th>Jun-Sep_y</th>\n",
       "      <th>Oct-Dec_y</th>\n",
       "      <th>min_price</th>\n",
       "      <th>max_price</th>\n",
       "      <th>modal_price</th>\n",
       "      <th>average</th>\n",
       "    </tr>\n",
       "  </thead>\n",
       "  <tbody>\n",
       "    <tr>\n",
       "      <th>0</th>\n",
       "      <td>ANDAMAN &amp; NICOBAR ISLANDS</td>\n",
       "      <td>1901.0</td>\n",
       "      <td>49.2</td>\n",
       "      <td>87.1</td>\n",
       "      <td>29.2</td>\n",
       "      <td>2.3</td>\n",
       "      <td>528.8</td>\n",
       "      <td>517.5</td>\n",
       "      <td>365.1</td>\n",
       "      <td>481.1</td>\n",
       "      <td>...</td>\n",
       "      <td>28.529795</td>\n",
       "      <td>1427.970678</td>\n",
       "      <td>40.871239</td>\n",
       "      <td>172.019067</td>\n",
       "      <td>1007.78413</td>\n",
       "      <td>207.296242</td>\n",
       "      <td>2456.230563</td>\n",
       "      <td>2855.890527</td>\n",
       "      <td>2698.865952</td>\n",
       "      <td>356.992669</td>\n",
       "    </tr>\n",
       "    <tr>\n",
       "      <th>1</th>\n",
       "      <td>ANDAMAN &amp; NICOBAR ISLANDS</td>\n",
       "      <td>1902.0</td>\n",
       "      <td>0.0</td>\n",
       "      <td>159.8</td>\n",
       "      <td>12.2</td>\n",
       "      <td>0.0</td>\n",
       "      <td>446.1</td>\n",
       "      <td>537.1</td>\n",
       "      <td>228.9</td>\n",
       "      <td>753.7</td>\n",
       "      <td>...</td>\n",
       "      <td>28.529795</td>\n",
       "      <td>1427.970678</td>\n",
       "      <td>40.871239</td>\n",
       "      <td>172.019067</td>\n",
       "      <td>1007.78413</td>\n",
       "      <td>207.296242</td>\n",
       "      <td>2456.230563</td>\n",
       "      <td>2855.890527</td>\n",
       "      <td>2698.865952</td>\n",
       "      <td>356.992669</td>\n",
       "    </tr>\n",
       "    <tr>\n",
       "      <th>2</th>\n",
       "      <td>ANDAMAN &amp; NICOBAR ISLANDS</td>\n",
       "      <td>1903.0</td>\n",
       "      <td>12.7</td>\n",
       "      <td>144.0</td>\n",
       "      <td>0.0</td>\n",
       "      <td>1.0</td>\n",
       "      <td>235.1</td>\n",
       "      <td>479.9</td>\n",
       "      <td>728.4</td>\n",
       "      <td>326.7</td>\n",
       "      <td>...</td>\n",
       "      <td>28.529795</td>\n",
       "      <td>1427.970678</td>\n",
       "      <td>40.871239</td>\n",
       "      <td>172.019067</td>\n",
       "      <td>1007.78413</td>\n",
       "      <td>207.296242</td>\n",
       "      <td>2456.230563</td>\n",
       "      <td>2855.890527</td>\n",
       "      <td>2698.865952</td>\n",
       "      <td>356.992669</td>\n",
       "    </tr>\n",
       "    <tr>\n",
       "      <th>3</th>\n",
       "      <td>ANDAMAN &amp; NICOBAR ISLANDS</td>\n",
       "      <td>1904.0</td>\n",
       "      <td>9.4</td>\n",
       "      <td>14.7</td>\n",
       "      <td>0.0</td>\n",
       "      <td>202.4</td>\n",
       "      <td>304.5</td>\n",
       "      <td>495.1</td>\n",
       "      <td>502.0</td>\n",
       "      <td>160.1</td>\n",
       "      <td>...</td>\n",
       "      <td>28.529795</td>\n",
       "      <td>1427.970678</td>\n",
       "      <td>40.871239</td>\n",
       "      <td>172.019067</td>\n",
       "      <td>1007.78413</td>\n",
       "      <td>207.296242</td>\n",
       "      <td>2456.230563</td>\n",
       "      <td>2855.890527</td>\n",
       "      <td>2698.865952</td>\n",
       "      <td>356.992669</td>\n",
       "    </tr>\n",
       "    <tr>\n",
       "      <th>4</th>\n",
       "      <td>ANDAMAN &amp; NICOBAR ISLANDS</td>\n",
       "      <td>1905.0</td>\n",
       "      <td>1.3</td>\n",
       "      <td>0.0</td>\n",
       "      <td>3.3</td>\n",
       "      <td>26.9</td>\n",
       "      <td>279.5</td>\n",
       "      <td>628.7</td>\n",
       "      <td>368.7</td>\n",
       "      <td>330.5</td>\n",
       "      <td>...</td>\n",
       "      <td>28.529795</td>\n",
       "      <td>1427.970678</td>\n",
       "      <td>40.871239</td>\n",
       "      <td>172.019067</td>\n",
       "      <td>1007.78413</td>\n",
       "      <td>207.296242</td>\n",
       "      <td>2456.230563</td>\n",
       "      <td>2855.890527</td>\n",
       "      <td>2698.865952</td>\n",
       "      <td>356.992669</td>\n",
       "    </tr>\n",
       "  </tbody>\n",
       "</table>\n",
       "<p>5 rows × 40 columns</p>\n",
       "</div>"
      ],
      "text/plain": [
       "                       state    YEAR  JAN_x  FEB_x  MAR_x  APR_x  MAY_x  \\\n",
       "0  ANDAMAN & NICOBAR ISLANDS  1901.0   49.2   87.1   29.2    2.3  528.8   \n",
       "1  ANDAMAN & NICOBAR ISLANDS  1902.0    0.0  159.8   12.2    0.0  446.1   \n",
       "2  ANDAMAN & NICOBAR ISLANDS  1903.0   12.7  144.0    0.0    1.0  235.1   \n",
       "3  ANDAMAN & NICOBAR ISLANDS  1904.0    9.4   14.7    0.0  202.4  304.5   \n",
       "4  ANDAMAN & NICOBAR ISLANDS  1905.0    1.3    0.0    3.3   26.9  279.5   \n",
       "\n",
       "   JUN_x  JUL_x  AUG_x  ...      DEC_y     ANNUAL_y  Jan-Feb_y   Mar-May_y  \\\n",
       "0  517.5  365.1  481.1  ...  28.529795  1427.970678  40.871239  172.019067   \n",
       "1  537.1  228.9  753.7  ...  28.529795  1427.970678  40.871239  172.019067   \n",
       "2  479.9  728.4  326.7  ...  28.529795  1427.970678  40.871239  172.019067   \n",
       "3  495.1  502.0  160.1  ...  28.529795  1427.970678  40.871239  172.019067   \n",
       "4  628.7  368.7  330.5  ...  28.529795  1427.970678  40.871239  172.019067   \n",
       "\n",
       "    Jun-Sep_y   Oct-Dec_y    min_price    max_price  modal_price     average  \n",
       "0  1007.78413  207.296242  2456.230563  2855.890527  2698.865952  356.992669  \n",
       "1  1007.78413  207.296242  2456.230563  2855.890527  2698.865952  356.992669  \n",
       "2  1007.78413  207.296242  2456.230563  2855.890527  2698.865952  356.992669  \n",
       "3  1007.78413  207.296242  2456.230563  2855.890527  2698.865952  356.992669  \n",
       "4  1007.78413  207.296242  2456.230563  2855.890527  2698.865952  356.992669  \n",
       "\n",
       "[5 rows x 40 columns]"
      ]
     },
     "execution_count": 65,
     "metadata": {},
     "output_type": "execute_result"
    }
   ],
   "source": [
    "df.head()"
   ]
  },
  {
   "cell_type": "code",
   "execution_count": 66,
   "id": "cb4e3153",
   "metadata": {
    "execution": {
     "iopub.execute_input": "2023-02-11T10:45:39.417506Z",
     "iopub.status.busy": "2023-02-11T10:45:39.417086Z",
     "iopub.status.idle": "2023-02-11T10:45:39.448734Z",
     "shell.execute_reply": "2023-02-11T10:45:39.447452Z"
    },
    "papermill": {
     "duration": 0.068061,
     "end_time": "2023-02-11T10:45:39.451536",
     "exception": false,
     "start_time": "2023-02-11T10:45:39.383475",
     "status": "completed"
    },
    "tags": []
   },
   "outputs": [
    {
     "data": {
      "text/html": [
       "<div>\n",
       "<style scoped>\n",
       "    .dataframe tbody tr th:only-of-type {\n",
       "        vertical-align: middle;\n",
       "    }\n",
       "\n",
       "    .dataframe tbody tr th {\n",
       "        vertical-align: top;\n",
       "    }\n",
       "\n",
       "    .dataframe thead th {\n",
       "        text-align: right;\n",
       "    }\n",
       "</style>\n",
       "<table border=\"1\" class=\"dataframe\">\n",
       "  <thead>\n",
       "    <tr style=\"text-align: right;\">\n",
       "      <th></th>\n",
       "      <th>state</th>\n",
       "      <th>YEAR</th>\n",
       "      <th>JAN_x</th>\n",
       "      <th>FEB_x</th>\n",
       "      <th>MAR_x</th>\n",
       "      <th>APR_x</th>\n",
       "      <th>MAY_x</th>\n",
       "      <th>JUN_x</th>\n",
       "      <th>JUL_x</th>\n",
       "      <th>AUG_x</th>\n",
       "      <th>...</th>\n",
       "      <th>DEC_y</th>\n",
       "      <th>ANNUAL_y</th>\n",
       "      <th>Jan-Feb_y</th>\n",
       "      <th>Mar-May_y</th>\n",
       "      <th>Jun-Sep_y</th>\n",
       "      <th>Oct-Dec_y</th>\n",
       "      <th>min_price</th>\n",
       "      <th>max_price</th>\n",
       "      <th>modal_price</th>\n",
       "      <th>rainfall</th>\n",
       "    </tr>\n",
       "  </thead>\n",
       "  <tbody>\n",
       "    <tr>\n",
       "      <th>0</th>\n",
       "      <td>ANDAMAN &amp; NICOBAR ISLANDS</td>\n",
       "      <td>1901.0</td>\n",
       "      <td>49.2</td>\n",
       "      <td>87.1</td>\n",
       "      <td>29.2</td>\n",
       "      <td>2.3</td>\n",
       "      <td>528.8</td>\n",
       "      <td>517.5</td>\n",
       "      <td>365.1</td>\n",
       "      <td>481.1</td>\n",
       "      <td>...</td>\n",
       "      <td>28.529795</td>\n",
       "      <td>1427.970678</td>\n",
       "      <td>40.871239</td>\n",
       "      <td>172.019067</td>\n",
       "      <td>1007.78413</td>\n",
       "      <td>207.296242</td>\n",
       "      <td>2456.230563</td>\n",
       "      <td>2855.890527</td>\n",
       "      <td>2698.865952</td>\n",
       "      <td>356.992669</td>\n",
       "    </tr>\n",
       "    <tr>\n",
       "      <th>1</th>\n",
       "      <td>ANDAMAN &amp; NICOBAR ISLANDS</td>\n",
       "      <td>1902.0</td>\n",
       "      <td>0.0</td>\n",
       "      <td>159.8</td>\n",
       "      <td>12.2</td>\n",
       "      <td>0.0</td>\n",
       "      <td>446.1</td>\n",
       "      <td>537.1</td>\n",
       "      <td>228.9</td>\n",
       "      <td>753.7</td>\n",
       "      <td>...</td>\n",
       "      <td>28.529795</td>\n",
       "      <td>1427.970678</td>\n",
       "      <td>40.871239</td>\n",
       "      <td>172.019067</td>\n",
       "      <td>1007.78413</td>\n",
       "      <td>207.296242</td>\n",
       "      <td>2456.230563</td>\n",
       "      <td>2855.890527</td>\n",
       "      <td>2698.865952</td>\n",
       "      <td>356.992669</td>\n",
       "    </tr>\n",
       "    <tr>\n",
       "      <th>2</th>\n",
       "      <td>ANDAMAN &amp; NICOBAR ISLANDS</td>\n",
       "      <td>1903.0</td>\n",
       "      <td>12.7</td>\n",
       "      <td>144.0</td>\n",
       "      <td>0.0</td>\n",
       "      <td>1.0</td>\n",
       "      <td>235.1</td>\n",
       "      <td>479.9</td>\n",
       "      <td>728.4</td>\n",
       "      <td>326.7</td>\n",
       "      <td>...</td>\n",
       "      <td>28.529795</td>\n",
       "      <td>1427.970678</td>\n",
       "      <td>40.871239</td>\n",
       "      <td>172.019067</td>\n",
       "      <td>1007.78413</td>\n",
       "      <td>207.296242</td>\n",
       "      <td>2456.230563</td>\n",
       "      <td>2855.890527</td>\n",
       "      <td>2698.865952</td>\n",
       "      <td>356.992669</td>\n",
       "    </tr>\n",
       "    <tr>\n",
       "      <th>3</th>\n",
       "      <td>ANDAMAN &amp; NICOBAR ISLANDS</td>\n",
       "      <td>1904.0</td>\n",
       "      <td>9.4</td>\n",
       "      <td>14.7</td>\n",
       "      <td>0.0</td>\n",
       "      <td>202.4</td>\n",
       "      <td>304.5</td>\n",
       "      <td>495.1</td>\n",
       "      <td>502.0</td>\n",
       "      <td>160.1</td>\n",
       "      <td>...</td>\n",
       "      <td>28.529795</td>\n",
       "      <td>1427.970678</td>\n",
       "      <td>40.871239</td>\n",
       "      <td>172.019067</td>\n",
       "      <td>1007.78413</td>\n",
       "      <td>207.296242</td>\n",
       "      <td>2456.230563</td>\n",
       "      <td>2855.890527</td>\n",
       "      <td>2698.865952</td>\n",
       "      <td>356.992669</td>\n",
       "    </tr>\n",
       "    <tr>\n",
       "      <th>4</th>\n",
       "      <td>ANDAMAN &amp; NICOBAR ISLANDS</td>\n",
       "      <td>1905.0</td>\n",
       "      <td>1.3</td>\n",
       "      <td>0.0</td>\n",
       "      <td>3.3</td>\n",
       "      <td>26.9</td>\n",
       "      <td>279.5</td>\n",
       "      <td>628.7</td>\n",
       "      <td>368.7</td>\n",
       "      <td>330.5</td>\n",
       "      <td>...</td>\n",
       "      <td>28.529795</td>\n",
       "      <td>1427.970678</td>\n",
       "      <td>40.871239</td>\n",
       "      <td>172.019067</td>\n",
       "      <td>1007.78413</td>\n",
       "      <td>207.296242</td>\n",
       "      <td>2456.230563</td>\n",
       "      <td>2855.890527</td>\n",
       "      <td>2698.865952</td>\n",
       "      <td>356.992669</td>\n",
       "    </tr>\n",
       "  </tbody>\n",
       "</table>\n",
       "<p>5 rows × 40 columns</p>\n",
       "</div>"
      ],
      "text/plain": [
       "                       state    YEAR  JAN_x  FEB_x  MAR_x  APR_x  MAY_x  \\\n",
       "0  ANDAMAN & NICOBAR ISLANDS  1901.0   49.2   87.1   29.2    2.3  528.8   \n",
       "1  ANDAMAN & NICOBAR ISLANDS  1902.0    0.0  159.8   12.2    0.0  446.1   \n",
       "2  ANDAMAN & NICOBAR ISLANDS  1903.0   12.7  144.0    0.0    1.0  235.1   \n",
       "3  ANDAMAN & NICOBAR ISLANDS  1904.0    9.4   14.7    0.0  202.4  304.5   \n",
       "4  ANDAMAN & NICOBAR ISLANDS  1905.0    1.3    0.0    3.3   26.9  279.5   \n",
       "\n",
       "   JUN_x  JUL_x  AUG_x  ...      DEC_y     ANNUAL_y  Jan-Feb_y   Mar-May_y  \\\n",
       "0  517.5  365.1  481.1  ...  28.529795  1427.970678  40.871239  172.019067   \n",
       "1  537.1  228.9  753.7  ...  28.529795  1427.970678  40.871239  172.019067   \n",
       "2  479.9  728.4  326.7  ...  28.529795  1427.970678  40.871239  172.019067   \n",
       "3  495.1  502.0  160.1  ...  28.529795  1427.970678  40.871239  172.019067   \n",
       "4  628.7  368.7  330.5  ...  28.529795  1427.970678  40.871239  172.019067   \n",
       "\n",
       "    Jun-Sep_y   Oct-Dec_y    min_price    max_price  modal_price    rainfall  \n",
       "0  1007.78413  207.296242  2456.230563  2855.890527  2698.865952  356.992669  \n",
       "1  1007.78413  207.296242  2456.230563  2855.890527  2698.865952  356.992669  \n",
       "2  1007.78413  207.296242  2456.230563  2855.890527  2698.865952  356.992669  \n",
       "3  1007.78413  207.296242  2456.230563  2855.890527  2698.865952  356.992669  \n",
       "4  1007.78413  207.296242  2456.230563  2855.890527  2698.865952  356.992669  \n",
       "\n",
       "[5 rows x 40 columns]"
      ]
     },
     "execution_count": 66,
     "metadata": {},
     "output_type": "execute_result"
    }
   ],
   "source": [
    "df.rename(columns={'average':'rainfall'},inplace=True)\n",
    "df.head()"
   ]
  },
  {
   "cell_type": "markdown",
   "id": "031e9218",
   "metadata": {
    "papermill": {
     "duration": 0.033004,
     "end_time": "2023-02-11T10:45:39.517886",
     "exception": false,
     "start_time": "2023-02-11T10:45:39.484882",
     "status": "completed"
    },
    "tags": []
   },
   "source": [
    "making a couple of copies to try and left merge"
   ]
  },
  {
   "cell_type": "code",
   "execution_count": 67,
   "id": "fe810846",
   "metadata": {
    "execution": {
     "iopub.execute_input": "2023-02-11T10:45:39.588172Z",
     "iopub.status.busy": "2023-02-11T10:45:39.587762Z",
     "iopub.status.idle": "2023-02-11T10:45:39.605961Z",
     "shell.execute_reply": "2023-02-11T10:45:39.604534Z"
    },
    "papermill": {
     "duration": 0.05667,
     "end_time": "2023-02-11T10:45:39.608859",
     "exception": false,
     "start_time": "2023-02-11T10:45:39.552189",
     "status": "completed"
    },
    "tags": []
   },
   "outputs": [],
   "source": [
    "df1=df.copy()\n",
    "df2=recommendation_data.copy()"
   ]
  },
  {
   "cell_type": "markdown",
   "id": "d665fb6e",
   "metadata": {
    "papermill": {
     "duration": 0.032342,
     "end_time": "2023-02-11T10:45:39.674453",
     "exception": false,
     "start_time": "2023-02-11T10:45:39.642111",
     "status": "completed"
    },
    "tags": []
   },
   "source": [
    "trying different joins"
   ]
  },
  {
   "cell_type": "code",
   "execution_count": 68,
   "id": "9ffc8e41",
   "metadata": {
    "execution": {
     "iopub.execute_input": "2023-02-11T10:45:39.741644Z",
     "iopub.status.busy": "2023-02-11T10:45:39.741184Z",
     "iopub.status.idle": "2023-02-11T10:45:39.767824Z",
     "shell.execute_reply": "2023-02-11T10:45:39.766659Z"
    },
    "papermill": {
     "duration": 0.063402,
     "end_time": "2023-02-11T10:45:39.770648",
     "exception": false,
     "start_time": "2023-02-11T10:45:39.707246",
     "status": "completed"
    },
    "tags": []
   },
   "outputs": [],
   "source": [
    "# Merge the two datasets on the rainfall column\n",
    "merged_df = pd.merge(df1, df2, on=\"rainfall\",how=\"outer\")\n",
    "\n",
    "# Fill missing values in the second dataset with the mean value of the rainfall column in the first dataset\n",
    "merged_df[\"rainfall\"].fillna(df1[\"rainfall\"].mean(), inplace=True)\n",
    "\n",
    "# Print the merged DataFramemerged_df.head()"
   ]
  },
  {
   "cell_type": "code",
   "execution_count": 69,
   "id": "c97ac4c2",
   "metadata": {
    "execution": {
     "iopub.execute_input": "2023-02-11T10:45:39.838146Z",
     "iopub.status.busy": "2023-02-11T10:45:39.837700Z",
     "iopub.status.idle": "2023-02-11T10:45:39.842842Z",
     "shell.execute_reply": "2023-02-11T10:45:39.841687Z"
    },
    "papermill": {
     "duration": 0.041579,
     "end_time": "2023-02-11T10:45:39.845379",
     "exception": false,
     "start_time": "2023-02-11T10:45:39.803800",
     "status": "completed"
    },
    "tags": []
   },
   "outputs": [],
   "source": [
    "# merged_df = pd.merge(df1, df2, on=\"rainfall\", how=\"outer\")\n",
    "\n",
    "# # Fill any missing values in the second dataset with the mean value of the rainfall column in df2\n",
    "# merged_df[\"rainfall\"].fillna(df2[\"rainfall\"].mean(), inplace=True)\n",
    "\n",
    "# # Round the values in the rainfall column to the nearest whole number\n",
    "# merged_df[\"rainfall\"] = merged_df[\"rainfall\"].round()\n",
    "\n",
    "# # Rename the columns to their original names\n",
    "# merged_df.rename(columns={\"rainfall\": \"rainfall\"}, inplace=True)\n",
    "\n",
    "# # Drop any remaining rows with missing values in the rainfall column\n",
    "# merged_df.dropna(subset=[\"rainfall\"], inplace=True)"
   ]
  },
  {
   "cell_type": "code",
   "execution_count": 70,
   "id": "10ec5380",
   "metadata": {
    "execution": {
     "iopub.execute_input": "2023-02-11T10:45:39.912899Z",
     "iopub.status.busy": "2023-02-11T10:45:39.912476Z",
     "iopub.status.idle": "2023-02-11T10:45:39.919715Z",
     "shell.execute_reply": "2023-02-11T10:45:39.918535Z"
    },
    "papermill": {
     "duration": 0.04427,
     "end_time": "2023-02-11T10:45:39.922190",
     "exception": false,
     "start_time": "2023-02-11T10:45:39.877920",
     "status": "completed"
    },
    "tags": []
   },
   "outputs": [
    {
     "data": {
      "text/plain": [
       "(27955, 47)"
      ]
     },
     "execution_count": 70,
     "metadata": {},
     "output_type": "execute_result"
    }
   ],
   "source": [
    "merged_df.shape"
   ]
  },
  {
   "cell_type": "code",
   "execution_count": 71,
   "id": "40c1ae3f",
   "metadata": {
    "execution": {
     "iopub.execute_input": "2023-02-11T10:45:39.990133Z",
     "iopub.status.busy": "2023-02-11T10:45:39.989048Z",
     "iopub.status.idle": "2023-02-11T10:45:40.004884Z",
     "shell.execute_reply": "2023-02-11T10:45:40.003672Z"
    },
    "papermill": {
     "duration": 0.052225,
     "end_time": "2023-02-11T10:45:40.007370",
     "exception": false,
     "start_time": "2023-02-11T10:45:39.955145",
     "status": "completed"
    },
    "tags": []
   },
   "outputs": [
    {
     "data": {
      "text/plain": [
       "266085"
      ]
     },
     "execution_count": 71,
     "metadata": {},
     "output_type": "execute_result"
    }
   ],
   "source": [
    "merged_df.isna().sum().sum()"
   ]
  },
  {
   "cell_type": "code",
   "execution_count": 72,
   "id": "9f1d914c",
   "metadata": {
    "execution": {
     "iopub.execute_input": "2023-02-11T10:45:40.075362Z",
     "iopub.status.busy": "2023-02-11T10:45:40.074923Z",
     "iopub.status.idle": "2023-02-11T10:45:40.089942Z",
     "shell.execute_reply": "2023-02-11T10:45:40.088774Z"
    },
    "papermill": {
     "duration": 0.052268,
     "end_time": "2023-02-11T10:45:40.092344",
     "exception": false,
     "start_time": "2023-02-11T10:45:40.040076",
     "status": "completed"
    },
    "tags": []
   },
   "outputs": [
    {
     "data": {
      "text/plain": [
       "state           2200\n",
       "YEAR            2200\n",
       "JAN_x           2200\n",
       "FEB_x           2200\n",
       "MAR_x           2200\n",
       "APR_x           2200\n",
       "MAY_x           2200\n",
       "JUN_x           2200\n",
       "JUL_x           2200\n",
       "AUG_x           2200\n",
       "SEP_x           2200\n",
       "OCT_x           2200\n",
       "NOV_x           2200\n",
       "DEC_x           2200\n",
       "ANNUAL_x        2200\n",
       "Jan-Feb_x       2200\n",
       "Mar-May_x       2200\n",
       "Jun-Sep_x       2200\n",
       "Oct-Dec_x       2200\n",
       "JAN_y           2200\n",
       "FEB_y           2200\n",
       "MAR_y           2200\n",
       "APR_y           2200\n",
       "MAY_y           2200\n",
       "JUN_y           2200\n",
       "JUL_y           2200\n",
       "AUG_y           2200\n",
       "SEP_y           2200\n",
       "OCT_y           2200\n",
       "NOV_y           2200\n",
       "DEC_y           2200\n",
       "ANNUAL_y        2200\n",
       "Jan-Feb_y       2200\n",
       "Mar-May_y       2200\n",
       "Jun-Sep_y       2200\n",
       "Oct-Dec_y       2200\n",
       "min_price       2200\n",
       "max_price       2200\n",
       "modal_price     2200\n",
       "rainfall           0\n",
       "N              25755\n",
       "P              25755\n",
       "K              25755\n",
       "temperature    25755\n",
       "humidity       25755\n",
       "ph             25755\n",
       "label          25755\n",
       "dtype: int64"
      ]
     },
     "execution_count": 72,
     "metadata": {},
     "output_type": "execute_result"
    }
   ],
   "source": [
    "merged_df.isna().sum()"
   ]
  },
  {
   "cell_type": "code",
   "execution_count": 73,
   "id": "453aacbc",
   "metadata": {
    "execution": {
     "iopub.execute_input": "2023-02-11T10:45:40.160714Z",
     "iopub.status.busy": "2023-02-11T10:45:40.160300Z",
     "iopub.status.idle": "2023-02-11T10:45:40.191658Z",
     "shell.execute_reply": "2023-02-11T10:45:40.190818Z"
    },
    "papermill": {
     "duration": 0.068696,
     "end_time": "2023-02-11T10:45:40.193866",
     "exception": false,
     "start_time": "2023-02-11T10:45:40.125170",
     "status": "completed"
    },
    "tags": []
   },
   "outputs": [
    {
     "data": {
      "text/html": [
       "<div>\n",
       "<style scoped>\n",
       "    .dataframe tbody tr th:only-of-type {\n",
       "        vertical-align: middle;\n",
       "    }\n",
       "\n",
       "    .dataframe tbody tr th {\n",
       "        vertical-align: top;\n",
       "    }\n",
       "\n",
       "    .dataframe thead th {\n",
       "        text-align: right;\n",
       "    }\n",
       "</style>\n",
       "<table border=\"1\" class=\"dataframe\">\n",
       "  <thead>\n",
       "    <tr style=\"text-align: right;\">\n",
       "      <th></th>\n",
       "      <th>state</th>\n",
       "      <th>YEAR</th>\n",
       "      <th>JAN_x</th>\n",
       "      <th>FEB_x</th>\n",
       "      <th>MAR_x</th>\n",
       "      <th>APR_x</th>\n",
       "      <th>MAY_x</th>\n",
       "      <th>JUN_x</th>\n",
       "      <th>JUL_x</th>\n",
       "      <th>AUG_x</th>\n",
       "      <th>...</th>\n",
       "      <th>max_price</th>\n",
       "      <th>modal_price</th>\n",
       "      <th>rainfall</th>\n",
       "      <th>N</th>\n",
       "      <th>P</th>\n",
       "      <th>K</th>\n",
       "      <th>temperature</th>\n",
       "      <th>humidity</th>\n",
       "      <th>ph</th>\n",
       "      <th>label</th>\n",
       "    </tr>\n",
       "  </thead>\n",
       "  <tbody>\n",
       "    <tr>\n",
       "      <th>0</th>\n",
       "      <td>ANDAMAN &amp; NICOBAR ISLANDS</td>\n",
       "      <td>1901.0</td>\n",
       "      <td>49.2</td>\n",
       "      <td>87.1</td>\n",
       "      <td>29.2</td>\n",
       "      <td>2.3</td>\n",
       "      <td>528.8</td>\n",
       "      <td>517.5</td>\n",
       "      <td>365.1</td>\n",
       "      <td>481.1</td>\n",
       "      <td>...</td>\n",
       "      <td>2855.890527</td>\n",
       "      <td>2698.865952</td>\n",
       "      <td>356.992669</td>\n",
       "      <td>NaN</td>\n",
       "      <td>NaN</td>\n",
       "      <td>NaN</td>\n",
       "      <td>NaN</td>\n",
       "      <td>NaN</td>\n",
       "      <td>NaN</td>\n",
       "      <td>NaN</td>\n",
       "    </tr>\n",
       "    <tr>\n",
       "      <th>1</th>\n",
       "      <td>ANDAMAN &amp; NICOBAR ISLANDS</td>\n",
       "      <td>1902.0</td>\n",
       "      <td>0.0</td>\n",
       "      <td>159.8</td>\n",
       "      <td>12.2</td>\n",
       "      <td>0.0</td>\n",
       "      <td>446.1</td>\n",
       "      <td>537.1</td>\n",
       "      <td>228.9</td>\n",
       "      <td>753.7</td>\n",
       "      <td>...</td>\n",
       "      <td>2855.890527</td>\n",
       "      <td>2698.865952</td>\n",
       "      <td>356.992669</td>\n",
       "      <td>NaN</td>\n",
       "      <td>NaN</td>\n",
       "      <td>NaN</td>\n",
       "      <td>NaN</td>\n",
       "      <td>NaN</td>\n",
       "      <td>NaN</td>\n",
       "      <td>NaN</td>\n",
       "    </tr>\n",
       "    <tr>\n",
       "      <th>2</th>\n",
       "      <td>ANDAMAN &amp; NICOBAR ISLANDS</td>\n",
       "      <td>1903.0</td>\n",
       "      <td>12.7</td>\n",
       "      <td>144.0</td>\n",
       "      <td>0.0</td>\n",
       "      <td>1.0</td>\n",
       "      <td>235.1</td>\n",
       "      <td>479.9</td>\n",
       "      <td>728.4</td>\n",
       "      <td>326.7</td>\n",
       "      <td>...</td>\n",
       "      <td>2855.890527</td>\n",
       "      <td>2698.865952</td>\n",
       "      <td>356.992669</td>\n",
       "      <td>NaN</td>\n",
       "      <td>NaN</td>\n",
       "      <td>NaN</td>\n",
       "      <td>NaN</td>\n",
       "      <td>NaN</td>\n",
       "      <td>NaN</td>\n",
       "      <td>NaN</td>\n",
       "    </tr>\n",
       "    <tr>\n",
       "      <th>3</th>\n",
       "      <td>ANDAMAN &amp; NICOBAR ISLANDS</td>\n",
       "      <td>1904.0</td>\n",
       "      <td>9.4</td>\n",
       "      <td>14.7</td>\n",
       "      <td>0.0</td>\n",
       "      <td>202.4</td>\n",
       "      <td>304.5</td>\n",
       "      <td>495.1</td>\n",
       "      <td>502.0</td>\n",
       "      <td>160.1</td>\n",
       "      <td>...</td>\n",
       "      <td>2855.890527</td>\n",
       "      <td>2698.865952</td>\n",
       "      <td>356.992669</td>\n",
       "      <td>NaN</td>\n",
       "      <td>NaN</td>\n",
       "      <td>NaN</td>\n",
       "      <td>NaN</td>\n",
       "      <td>NaN</td>\n",
       "      <td>NaN</td>\n",
       "      <td>NaN</td>\n",
       "    </tr>\n",
       "    <tr>\n",
       "      <th>4</th>\n",
       "      <td>ANDAMAN &amp; NICOBAR ISLANDS</td>\n",
       "      <td>1905.0</td>\n",
       "      <td>1.3</td>\n",
       "      <td>0.0</td>\n",
       "      <td>3.3</td>\n",
       "      <td>26.9</td>\n",
       "      <td>279.5</td>\n",
       "      <td>628.7</td>\n",
       "      <td>368.7</td>\n",
       "      <td>330.5</td>\n",
       "      <td>...</td>\n",
       "      <td>2855.890527</td>\n",
       "      <td>2698.865952</td>\n",
       "      <td>356.992669</td>\n",
       "      <td>NaN</td>\n",
       "      <td>NaN</td>\n",
       "      <td>NaN</td>\n",
       "      <td>NaN</td>\n",
       "      <td>NaN</td>\n",
       "      <td>NaN</td>\n",
       "      <td>NaN</td>\n",
       "    </tr>\n",
       "  </tbody>\n",
       "</table>\n",
       "<p>5 rows × 47 columns</p>\n",
       "</div>"
      ],
      "text/plain": [
       "                       state    YEAR  JAN_x  FEB_x  MAR_x  APR_x  MAY_x  \\\n",
       "0  ANDAMAN & NICOBAR ISLANDS  1901.0   49.2   87.1   29.2    2.3  528.8   \n",
       "1  ANDAMAN & NICOBAR ISLANDS  1902.0    0.0  159.8   12.2    0.0  446.1   \n",
       "2  ANDAMAN & NICOBAR ISLANDS  1903.0   12.7  144.0    0.0    1.0  235.1   \n",
       "3  ANDAMAN & NICOBAR ISLANDS  1904.0    9.4   14.7    0.0  202.4  304.5   \n",
       "4  ANDAMAN & NICOBAR ISLANDS  1905.0    1.3    0.0    3.3   26.9  279.5   \n",
       "\n",
       "   JUN_x  JUL_x  AUG_x  ...    max_price  modal_price    rainfall   N   P   K  \\\n",
       "0  517.5  365.1  481.1  ...  2855.890527  2698.865952  356.992669 NaN NaN NaN   \n",
       "1  537.1  228.9  753.7  ...  2855.890527  2698.865952  356.992669 NaN NaN NaN   \n",
       "2  479.9  728.4  326.7  ...  2855.890527  2698.865952  356.992669 NaN NaN NaN   \n",
       "3  495.1  502.0  160.1  ...  2855.890527  2698.865952  356.992669 NaN NaN NaN   \n",
       "4  628.7  368.7  330.5  ...  2855.890527  2698.865952  356.992669 NaN NaN NaN   \n",
       "\n",
       "   temperature  humidity  ph  label  \n",
       "0          NaN       NaN NaN    NaN  \n",
       "1          NaN       NaN NaN    NaN  \n",
       "2          NaN       NaN NaN    NaN  \n",
       "3          NaN       NaN NaN    NaN  \n",
       "4          NaN       NaN NaN    NaN  \n",
       "\n",
       "[5 rows x 47 columns]"
      ]
     },
     "execution_count": 73,
     "metadata": {},
     "output_type": "execute_result"
    }
   ],
   "source": [
    "merged_df.head()"
   ]
  },
  {
   "cell_type": "code",
   "execution_count": 74,
   "id": "1ddc6a45",
   "metadata": {
    "execution": {
     "iopub.execute_input": "2023-02-11T10:45:40.261860Z",
     "iopub.status.busy": "2023-02-11T10:45:40.261427Z",
     "iopub.status.idle": "2023-02-11T10:46:11.391068Z",
     "shell.execute_reply": "2023-02-11T10:46:11.389882Z"
    },
    "papermill": {
     "duration": 31.199684,
     "end_time": "2023-02-11T10:46:11.426597",
     "exception": false,
     "start_time": "2023-02-11T10:45:40.226913",
     "status": "completed"
    },
    "tags": []
   },
   "outputs": [
    {
     "data": {
      "text/html": [
       "<div>\n",
       "<style scoped>\n",
       "    .dataframe tbody tr th:only-of-type {\n",
       "        vertical-align: middle;\n",
       "    }\n",
       "\n",
       "    .dataframe tbody tr th {\n",
       "        vertical-align: top;\n",
       "    }\n",
       "\n",
       "    .dataframe thead th {\n",
       "        text-align: right;\n",
       "    }\n",
       "</style>\n",
       "<table border=\"1\" class=\"dataframe\">\n",
       "  <thead>\n",
       "    <tr style=\"text-align: right;\">\n",
       "      <th></th>\n",
       "      <th>state</th>\n",
       "      <th>YEAR</th>\n",
       "      <th>JAN_x</th>\n",
       "      <th>FEB_x</th>\n",
       "      <th>MAR_x</th>\n",
       "      <th>APR_x</th>\n",
       "      <th>MAY_x</th>\n",
       "      <th>JUN_x</th>\n",
       "      <th>JUL_x</th>\n",
       "      <th>AUG_x</th>\n",
       "      <th>...</th>\n",
       "      <th>rainfall_x</th>\n",
       "      <th>match_score</th>\n",
       "      <th>N</th>\n",
       "      <th>P</th>\n",
       "      <th>K</th>\n",
       "      <th>temperature</th>\n",
       "      <th>humidity</th>\n",
       "      <th>ph</th>\n",
       "      <th>rainfall_y</th>\n",
       "      <th>label</th>\n",
       "    </tr>\n",
       "  </thead>\n",
       "  <tbody>\n",
       "    <tr>\n",
       "      <th>0</th>\n",
       "      <td>ARUNACHAL PRADESH</td>\n",
       "      <td>1916.0</td>\n",
       "      <td>48.1</td>\n",
       "      <td>69.8</td>\n",
       "      <td>71.1</td>\n",
       "      <td>316.1</td>\n",
       "      <td>424.6</td>\n",
       "      <td>1124.9</td>\n",
       "      <td>327.463533</td>\n",
       "      <td>629.7</td>\n",
       "      <td>...</td>\n",
       "      <td>760.95</td>\n",
       "      <td>6</td>\n",
       "      <td>94</td>\n",
       "      <td>50</td>\n",
       "      <td>37</td>\n",
       "      <td>25.665852</td>\n",
       "      <td>80.663850</td>\n",
       "      <td>6.948020</td>\n",
       "      <td>209.586971</td>\n",
       "      <td>rice</td>\n",
       "    </tr>\n",
       "    <tr>\n",
       "      <th>1</th>\n",
       "      <td>ARUNACHAL PRADESH</td>\n",
       "      <td>1916.0</td>\n",
       "      <td>48.1</td>\n",
       "      <td>69.8</td>\n",
       "      <td>71.1</td>\n",
       "      <td>316.1</td>\n",
       "      <td>424.6</td>\n",
       "      <td>1124.9</td>\n",
       "      <td>327.463533</td>\n",
       "      <td>629.7</td>\n",
       "      <td>...</td>\n",
       "      <td>760.95</td>\n",
       "      <td>6</td>\n",
       "      <td>92</td>\n",
       "      <td>35</td>\n",
       "      <td>40</td>\n",
       "      <td>22.179319</td>\n",
       "      <td>80.331272</td>\n",
       "      <td>6.357389</td>\n",
       "      <td>200.088279</td>\n",
       "      <td>rice</td>\n",
       "    </tr>\n",
       "    <tr>\n",
       "      <th>2</th>\n",
       "      <td>ARUNACHAL PRADESH</td>\n",
       "      <td>1916.0</td>\n",
       "      <td>48.1</td>\n",
       "      <td>69.8</td>\n",
       "      <td>71.1</td>\n",
       "      <td>316.1</td>\n",
       "      <td>424.6</td>\n",
       "      <td>1124.9</td>\n",
       "      <td>327.463533</td>\n",
       "      <td>629.7</td>\n",
       "      <td>...</td>\n",
       "      <td>760.95</td>\n",
       "      <td>6</td>\n",
       "      <td>64</td>\n",
       "      <td>45</td>\n",
       "      <td>43</td>\n",
       "      <td>25.629801</td>\n",
       "      <td>83.528423</td>\n",
       "      <td>5.534878</td>\n",
       "      <td>209.900198</td>\n",
       "      <td>rice</td>\n",
       "    </tr>\n",
       "    <tr>\n",
       "      <th>3</th>\n",
       "      <td>ARUNACHAL PRADESH</td>\n",
       "      <td>1916.0</td>\n",
       "      <td>48.1</td>\n",
       "      <td>69.8</td>\n",
       "      <td>71.1</td>\n",
       "      <td>316.1</td>\n",
       "      <td>424.6</td>\n",
       "      <td>1124.9</td>\n",
       "      <td>327.463533</td>\n",
       "      <td>629.7</td>\n",
       "      <td>...</td>\n",
       "      <td>760.95</td>\n",
       "      <td>6</td>\n",
       "      <td>83</td>\n",
       "      <td>60</td>\n",
       "      <td>36</td>\n",
       "      <td>25.597049</td>\n",
       "      <td>80.145093</td>\n",
       "      <td>6.903986</td>\n",
       "      <td>200.834898</td>\n",
       "      <td>rice</td>\n",
       "    </tr>\n",
       "    <tr>\n",
       "      <th>4</th>\n",
       "      <td>ARUNACHAL PRADESH</td>\n",
       "      <td>1916.0</td>\n",
       "      <td>48.1</td>\n",
       "      <td>69.8</td>\n",
       "      <td>71.1</td>\n",
       "      <td>316.1</td>\n",
       "      <td>424.6</td>\n",
       "      <td>1124.9</td>\n",
       "      <td>327.463533</td>\n",
       "      <td>629.7</td>\n",
       "      <td>...</td>\n",
       "      <td>760.95</td>\n",
       "      <td>6</td>\n",
       "      <td>91</td>\n",
       "      <td>35</td>\n",
       "      <td>38</td>\n",
       "      <td>24.897282</td>\n",
       "      <td>80.525861</td>\n",
       "      <td>6.134287</td>\n",
       "      <td>183.679321</td>\n",
       "      <td>rice</td>\n",
       "    </tr>\n",
       "  </tbody>\n",
       "</table>\n",
       "<p>5 rows × 49 columns</p>\n",
       "</div>"
      ],
      "text/plain": [
       "               state    YEAR  JAN_x  FEB_x  MAR_x  APR_x  MAY_x   JUN_x  \\\n",
       "0  ARUNACHAL PRADESH  1916.0   48.1   69.8   71.1  316.1  424.6  1124.9   \n",
       "1  ARUNACHAL PRADESH  1916.0   48.1   69.8   71.1  316.1  424.6  1124.9   \n",
       "2  ARUNACHAL PRADESH  1916.0   48.1   69.8   71.1  316.1  424.6  1124.9   \n",
       "3  ARUNACHAL PRADESH  1916.0   48.1   69.8   71.1  316.1  424.6  1124.9   \n",
       "4  ARUNACHAL PRADESH  1916.0   48.1   69.8   71.1  316.1  424.6  1124.9   \n",
       "\n",
       "        JUL_x  AUG_x  ...  rainfall_x  match_score   N   P   K  temperature  \\\n",
       "0  327.463533  629.7  ...      760.95            6  94  50  37    25.665852   \n",
       "1  327.463533  629.7  ...      760.95            6  92  35  40    22.179319   \n",
       "2  327.463533  629.7  ...      760.95            6  64  45  43    25.629801   \n",
       "3  327.463533  629.7  ...      760.95            6  83  60  36    25.597049   \n",
       "4  327.463533  629.7  ...      760.95            6  91  35  38    24.897282   \n",
       "\n",
       "    humidity        ph  rainfall_y  label  \n",
       "0  80.663850  6.948020  209.586971   rice  \n",
       "1  80.331272  6.357389  200.088279   rice  \n",
       "2  83.528423  5.534878  209.900198   rice  \n",
       "3  80.145093  6.903986  200.834898   rice  \n",
       "4  80.525861  6.134287  183.679321   rice  \n",
       "\n",
       "[5 rows x 49 columns]"
      ]
     },
     "execution_count": 74,
     "metadata": {},
     "output_type": "execute_result"
    }
   ],
   "source": [
    "from fuzzywuzzy import fuzz\n",
    "# Create a new column in each DataFrame that contains the fuzzy match score between each value in the rainfall column and the corresponding value in the other DataFrame\n",
    "df1[\"match_score\"] = df1.apply(lambda x: fuzz.token_sort_ratio(x[\"rainfall\"], df2[\"rainfall\"]), axis=1)\n",
    "df2[\"match_score\"] = df2.apply(lambda x: fuzz.token_sort_ratio(x[\"rainfall\"], df1[\"rainfall\"]), axis=1)\n",
    "\n",
    "# Merge the two datasets on the match_score column using an inner join\n",
    "merged_df1= pd.merge(df1, df2, on=\"match_score\", how=\"inner\")\n",
    "\n",
    "# Print the merged DataFrame\n",
    "merged_df1.head()"
   ]
  },
  {
   "cell_type": "code",
   "execution_count": 75,
   "id": "1ba30a52",
   "metadata": {
    "execution": {
     "iopub.execute_input": "2023-02-11T10:46:11.495217Z",
     "iopub.status.busy": "2023-02-11T10:46:11.494799Z",
     "iopub.status.idle": "2023-02-11T10:46:12.628369Z",
     "shell.execute_reply": "2023-02-11T10:46:12.627023Z"
    },
    "papermill": {
     "duration": 1.171169,
     "end_time": "2023-02-11T10:46:12.630996",
     "exception": false,
     "start_time": "2023-02-11T10:46:11.459827",
     "status": "completed"
    },
    "tags": []
   },
   "outputs": [
    {
     "data": {
      "text/plain": [
       "0"
      ]
     },
     "execution_count": 75,
     "metadata": {},
     "output_type": "execute_result"
    }
   ],
   "source": [
    "merged_df1.isnull().sum().sum()"
   ]
  },
  {
   "cell_type": "code",
   "execution_count": 76,
   "id": "10469fe4",
   "metadata": {
    "execution": {
     "iopub.execute_input": "2023-02-11T10:46:12.700532Z",
     "iopub.status.busy": "2023-02-11T10:46:12.699578Z",
     "iopub.status.idle": "2023-02-11T10:46:12.705391Z",
     "shell.execute_reply": "2023-02-11T10:46:12.704633Z"
    },
    "papermill": {
     "duration": 0.042911,
     "end_time": "2023-02-11T10:46:12.707398",
     "exception": false,
     "start_time": "2023-02-11T10:46:12.664487",
     "status": "completed"
    },
    "tags": []
   },
   "outputs": [
    {
     "data": {
      "text/plain": [
       "(6154502, 49)"
      ]
     },
     "execution_count": 76,
     "metadata": {},
     "output_type": "execute_result"
    }
   ],
   "source": [
    "merged_df1.shape"
   ]
  },
  {
   "cell_type": "code",
   "execution_count": 77,
   "id": "d8356292",
   "metadata": {
    "execution": {
     "iopub.execute_input": "2023-02-11T10:46:12.778170Z",
     "iopub.status.busy": "2023-02-11T10:46:12.777475Z",
     "iopub.status.idle": "2023-02-11T10:46:13.224278Z",
     "shell.execute_reply": "2023-02-11T10:46:13.223022Z"
    },
    "papermill": {
     "duration": 0.485853,
     "end_time": "2023-02-11T10:46:13.226968",
     "exception": false,
     "start_time": "2023-02-11T10:46:12.741115",
     "status": "completed"
    },
    "tags": []
   },
   "outputs": [
    {
     "data": {
      "text/plain": [
       "array(['rice', 'maize', 'chickpea', 'kidneybeans', 'pigeonpeas',\n",
       "       'mothbeans', 'mungbean', 'blackgram', 'lentil', 'pomegranate',\n",
       "       'banana', 'mango', 'grapes', 'watermelon', 'muskmelon', 'apple',\n",
       "       'orange', 'papaya', 'coconut', 'cotton', 'jute', 'coffee'],\n",
       "      dtype=object)"
      ]
     },
     "execution_count": 77,
     "metadata": {},
     "output_type": "execute_result"
    }
   ],
   "source": [
    "merged_df1['label'].unique()"
   ]
  },
  {
   "cell_type": "markdown",
   "id": "a1c23571",
   "metadata": {
    "papermill": {
     "duration": 0.033935,
     "end_time": "2023-02-11T10:46:13.294540",
     "exception": false,
     "start_time": "2023-02-11T10:46:13.260605",
     "status": "completed"
    },
    "tags": []
   },
   "source": [
    "making a copy "
   ]
  },
  {
   "cell_type": "code",
   "execution_count": 78,
   "id": "0636ebfd",
   "metadata": {
    "execution": {
     "iopub.execute_input": "2023-02-11T10:46:13.364509Z",
     "iopub.status.busy": "2023-02-11T10:46:13.364108Z",
     "iopub.status.idle": "2023-02-11T10:46:17.428455Z",
     "shell.execute_reply": "2023-02-11T10:46:17.426358Z"
    },
    "papermill": {
     "duration": 4.102992,
     "end_time": "2023-02-11T10:46:17.431630",
     "exception": false,
     "start_time": "2023-02-11T10:46:13.328638",
     "status": "completed"
    },
    "tags": []
   },
   "outputs": [],
   "source": [
    "df=merged_df1.copy()"
   ]
  },
  {
   "cell_type": "markdown",
   "id": "18bb5139",
   "metadata": {
    "papermill": {
     "duration": 0.037127,
     "end_time": "2023-02-11T10:46:17.505203",
     "exception": false,
     "start_time": "2023-02-11T10:46:17.468076",
     "status": "completed"
    },
    "tags": []
   },
   "source": [
    "dropping 80 percent of said data while ensuring equal distribution"
   ]
  },
  {
   "cell_type": "code",
   "execution_count": 79,
   "id": "9ac86789",
   "metadata": {
    "execution": {
     "iopub.execute_input": "2023-02-11T10:46:17.657068Z",
     "iopub.status.busy": "2023-02-11T10:46:17.656574Z",
     "iopub.status.idle": "2023-02-11T10:46:17.666410Z",
     "shell.execute_reply": "2023-02-11T10:46:17.664630Z"
    },
    "papermill": {
     "duration": 0.050706,
     "end_time": "2023-02-11T10:46:17.669482",
     "exception": false,
     "start_time": "2023-02-11T10:46:17.618776",
     "status": "completed"
    },
    "tags": []
   },
   "outputs": [
    {
     "data": {
      "text/plain": [
       "(6154502, 49)"
      ]
     },
     "execution_count": 79,
     "metadata": {},
     "output_type": "execute_result"
    }
   ],
   "source": [
    "df.shape"
   ]
  },
  {
   "cell_type": "code",
   "execution_count": 80,
   "id": "37473546",
   "metadata": {
    "execution": {
     "iopub.execute_input": "2023-02-11T10:46:17.745896Z",
     "iopub.status.busy": "2023-02-11T10:46:17.745326Z",
     "iopub.status.idle": "2023-02-11T10:46:18.018631Z",
     "shell.execute_reply": "2023-02-11T10:46:18.017362Z"
    },
    "papermill": {
     "duration": 0.314405,
     "end_time": "2023-02-11T10:46:18.022197",
     "exception": false,
     "start_time": "2023-02-11T10:46:17.707792",
     "status": "completed"
    },
    "tags": []
   },
   "outputs": [
    {
     "data": {
      "text/plain": [
       "cotton         385078\n",
       "chickpea       361492\n",
       "mango          339575\n",
       "mungbean       320943\n",
       "maize          316601\n",
       "grapes         310914\n",
       "papaya         293411\n",
       "watermelon     292731\n",
       "blackgram      288651\n",
       "mothbeans      286563\n",
       "muskmelon      280763\n",
       "lentil         280105\n",
       "jute           277701\n",
       "banana         277055\n",
       "kidneybeans    269590\n",
       "pomegranate    256169\n",
       "coconut        244107\n",
       "rice           239867\n",
       "pigeonpeas     235341\n",
       "orange         228852\n",
       "coffee         199147\n",
       "apple          169846\n",
       "Name: label, dtype: int64"
      ]
     },
     "execution_count": 80,
     "metadata": {},
     "output_type": "execute_result"
    }
   ],
   "source": [
    "df['label'].value_counts()"
   ]
  },
  {
   "cell_type": "code",
   "execution_count": 81,
   "id": "f9b51f34",
   "metadata": {
    "execution": {
     "iopub.execute_input": "2023-02-11T10:46:18.095880Z",
     "iopub.status.busy": "2023-02-11T10:46:18.095426Z",
     "iopub.status.idle": "2023-02-11T10:46:29.830985Z",
     "shell.execute_reply": "2023-02-11T10:46:29.829789Z"
    },
    "papermill": {
     "duration": 11.774971,
     "end_time": "2023-02-11T10:46:29.833919",
     "exception": false,
     "start_time": "2023-02-11T10:46:18.058948",
     "status": "completed"
    },
    "tags": []
   },
   "outputs": [],
   "source": [
    "classes = df['label'].unique()\n",
    "\n",
    "# Create a list to store the dataframes for each class\n",
    "class_dfs = []\n",
    "\n",
    "# Loop over the classes and create a separate dataframe for each class\n",
    "for c in classes:\n",
    "    class_df = df[df['label'] == c]\n",
    "    class_dfs.append(class_df.sample(frac=0.005, random_state=42))\n",
    "\n",
    "# Concatenate the class dataframes back into one\n",
    "result = pd.concat(class_dfs)"
   ]
  },
  {
   "cell_type": "code",
   "execution_count": 82,
   "id": "23316e95",
   "metadata": {
    "execution": {
     "iopub.execute_input": "2023-02-11T10:46:29.904524Z",
     "iopub.status.busy": "2023-02-11T10:46:29.903816Z",
     "iopub.status.idle": "2023-02-11T10:46:29.910877Z",
     "shell.execute_reply": "2023-02-11T10:46:29.909674Z"
    },
    "papermill": {
     "duration": 0.045775,
     "end_time": "2023-02-11T10:46:29.913483",
     "exception": false,
     "start_time": "2023-02-11T10:46:29.867708",
     "status": "completed"
    },
    "tags": []
   },
   "outputs": [
    {
     "data": {
      "text/plain": [
       "(30774, 49)"
      ]
     },
     "execution_count": 82,
     "metadata": {},
     "output_type": "execute_result"
    }
   ],
   "source": [
    "result.shape"
   ]
  },
  {
   "cell_type": "code",
   "execution_count": 83,
   "id": "2f7fe3b6",
   "metadata": {
    "execution": {
     "iopub.execute_input": "2023-02-11T10:46:29.985291Z",
     "iopub.status.busy": "2023-02-11T10:46:29.984855Z",
     "iopub.status.idle": "2023-02-11T10:46:29.995684Z",
     "shell.execute_reply": "2023-02-11T10:46:29.994521Z"
    },
    "papermill": {
     "duration": 0.049056,
     "end_time": "2023-02-11T10:46:29.997977",
     "exception": false,
     "start_time": "2023-02-11T10:46:29.948921",
     "status": "completed"
    },
    "tags": []
   },
   "outputs": [
    {
     "data": {
      "text/plain": [
       "cotton         1925\n",
       "chickpea       1807\n",
       "mango          1698\n",
       "mungbean       1605\n",
       "maize          1583\n",
       "grapes         1555\n",
       "papaya         1467\n",
       "watermelon     1464\n",
       "blackgram      1443\n",
       "mothbeans      1433\n",
       "muskmelon      1404\n",
       "lentil         1401\n",
       "jute           1389\n",
       "banana         1385\n",
       "kidneybeans    1348\n",
       "pomegranate    1281\n",
       "coconut        1221\n",
       "rice           1199\n",
       "pigeonpeas     1177\n",
       "orange         1144\n",
       "coffee          996\n",
       "apple           849\n",
       "Name: label, dtype: int64"
      ]
     },
     "execution_count": 83,
     "metadata": {},
     "output_type": "execute_result"
    }
   ],
   "source": [
    "result['label'].value_counts()"
   ]
  },
  {
   "cell_type": "code",
   "execution_count": 84,
   "id": "406f5009",
   "metadata": {
    "execution": {
     "iopub.execute_input": "2023-02-11T10:46:30.069063Z",
     "iopub.status.busy": "2023-02-11T10:46:30.068030Z",
     "iopub.status.idle": "2023-02-11T10:46:30.090949Z",
     "shell.execute_reply": "2023-02-11T10:46:30.090004Z"
    },
    "papermill": {
     "duration": 0.061292,
     "end_time": "2023-02-11T10:46:30.093488",
     "exception": false,
     "start_time": "2023-02-11T10:46:30.032196",
     "status": "completed"
    },
    "tags": []
   },
   "outputs": [],
   "source": [
    "Y=result['label']\n",
    "X=result.copy()\n",
    "X.drop(columns='label',inplace=True)"
   ]
  },
  {
   "cell_type": "code",
   "execution_count": 85,
   "id": "b268ec6d",
   "metadata": {
    "execution": {
     "iopub.execute_input": "2023-02-11T10:46:30.163989Z",
     "iopub.status.busy": "2023-02-11T10:46:30.163008Z",
     "iopub.status.idle": "2023-02-11T10:46:30.171051Z",
     "shell.execute_reply": "2023-02-11T10:46:30.169610Z"
    },
    "papermill": {
     "duration": 0.045796,
     "end_time": "2023-02-11T10:46:30.173832",
     "exception": false,
     "start_time": "2023-02-11T10:46:30.128036",
     "status": "completed"
    },
    "tags": []
   },
   "outputs": [
    {
     "data": {
      "text/plain": [
       "(30774, 48)"
      ]
     },
     "execution_count": 85,
     "metadata": {},
     "output_type": "execute_result"
    }
   ],
   "source": [
    "X.shape"
   ]
  },
  {
   "cell_type": "code",
   "execution_count": 86,
   "id": "1897bf4a",
   "metadata": {
    "execution": {
     "iopub.execute_input": "2023-02-11T10:46:30.245590Z",
     "iopub.status.busy": "2023-02-11T10:46:30.245162Z",
     "iopub.status.idle": "2023-02-11T10:46:30.251632Z",
     "shell.execute_reply": "2023-02-11T10:46:30.250579Z"
    },
    "papermill": {
     "duration": 0.044604,
     "end_time": "2023-02-11T10:46:30.253937",
     "exception": false,
     "start_time": "2023-02-11T10:46:30.209333",
     "status": "completed"
    },
    "tags": []
   },
   "outputs": [
    {
     "data": {
      "text/plain": [
       "(30774,)"
      ]
     },
     "execution_count": 86,
     "metadata": {},
     "output_type": "execute_result"
    }
   ],
   "source": [
    "Y.shape"
   ]
  },
  {
   "cell_type": "code",
   "execution_count": 87,
   "id": "abcf753b",
   "metadata": {
    "execution": {
     "iopub.execute_input": "2023-02-11T10:46:30.325208Z",
     "iopub.status.busy": "2023-02-11T10:46:30.324515Z",
     "iopub.status.idle": "2023-02-11T10:46:41.060797Z",
     "shell.execute_reply": "2023-02-11T10:46:41.059675Z"
    },
    "papermill": {
     "duration": 10.778139,
     "end_time": "2023-02-11T10:46:41.066146",
     "exception": false,
     "start_time": "2023-02-11T10:46:30.288007",
     "status": "completed"
    },
    "tags": []
   },
   "outputs": [
    {
     "name": "stdout",
     "output_type": "stream",
     "text": [
      "Accuracy: 0.9998375304630381\n"
     ]
    }
   ],
   "source": [
    "from sklearn.ensemble import RandomForestClassifier\n",
    "from xgboost import XGBClassifier\n",
    "from sklearn.model_selection import train_test_split\n",
    "from sklearn.metrics import accuracy_score\n",
    "categorical_cols = X.select_dtypes(include=[\"category\", \"object\"]).columns\n",
    "X=pd.get_dummies(X, columns=categorical_cols)#hot encoding categorical variables\n",
    "X_train, X_test, y_train, y_test = train_test_split(X, Y, test_size=0.2, random_state=0)\n",
    "clf = RandomForestClassifier()\n",
    "model=XGBClassifier()\n",
    "clf.fit(X_train, y_train)\n",
    "# Predict the target values of the test set\n",
    "y_pred = clf.predict(X_test)\n",
    "# Calculate the accuracy of the model\n",
    "accuracy = accuracy_score(y_test, y_pred)\n",
    "print(\"Accuracy:\", accuracy)"
   ]
  },
  {
   "cell_type": "code",
   "execution_count": null,
   "id": "25644c5f",
   "metadata": {
    "papermill": {
     "duration": 0.036336,
     "end_time": "2023-02-11T10:46:41.143665",
     "exception": false,
     "start_time": "2023-02-11T10:46:41.107329",
     "status": "completed"
    },
    "tags": []
   },
   "outputs": [],
   "source": []
  }
 ],
 "metadata": {
  "kernelspec": {
   "display_name": "Python 3",
   "language": "python",
   "name": "python3"
  },
  "language_info": {
   "codemirror_mode": {
    "name": "ipython",
    "version": 3
   },
   "file_extension": ".py",
   "mimetype": "text/x-python",
   "name": "python",
   "nbconvert_exporter": "python",
   "pygments_lexer": "ipython3",
   "version": "3.7.12"
  },
  "papermill": {
   "default_parameters": {},
   "duration": 79.476573,
   "end_time": "2023-02-11T10:46:42.103946",
   "environment_variables": {},
   "exception": null,
   "input_path": "__notebook__.ipynb",
   "output_path": "__notebook__.ipynb",
   "parameters": {},
   "start_time": "2023-02-11T10:45:22.627373",
   "version": "2.3.4"
  }
 },
 "nbformat": 4,
 "nbformat_minor": 5
}
