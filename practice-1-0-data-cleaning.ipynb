{
 "cells": [
  {
   "cell_type": "code",
   "execution_count": 1,
   "id": "6d0c180c",
   "metadata": {
    "_cell_guid": "b1076dfc-b9ad-4769-8c92-a6c4dae69d19",
    "_uuid": "8f2839f25d086af736a60e9eeb907d3b93b6e0e5",
    "execution": {
     "iopub.execute_input": "2023-02-10T17:04:34.973020Z",
     "iopub.status.busy": "2023-02-10T17:04:34.971673Z",
     "iopub.status.idle": "2023-02-10T17:04:35.008243Z",
     "shell.execute_reply": "2023-02-10T17:04:35.006915Z"
    },
    "papermill": {
     "duration": 0.050675,
     "end_time": "2023-02-10T17:04:35.011306",
     "exception": false,
     "start_time": "2023-02-10T17:04:34.960631",
     "status": "completed"
    },
    "scrolled": true,
    "tags": []
   },
   "outputs": [
    {
     "name": "stdout",
     "output_type": "stream",
     "text": [
      "/kaggle/input/all-agriculture-related-datasets-for-india/csv\n",
      "/kaggle/input/historicalweatherdataforindiancities/Temperature_And_Precipitation_Cities_IN/Lucknow_1990_2022.csv\n",
      "/kaggle/input/historicalweatherdataforindiancities/Temperature_And_Precipitation_Cities_IN/Delhi_NCR_1990_2022_Safdarjung.csv\n",
      "/kaggle/input/historicalweatherdataforindiancities/Temperature_And_Precipitation_Cities_IN/weather_Rourkela_2021_2022.csv\n",
      "/kaggle/input/historicalweatherdataforindiancities/Temperature_And_Precipitation_Cities_IN/Chennai_1990_2022_Madras.csv\n",
      "/kaggle/input/historicalweatherdataforindiancities/Temperature_And_Precipitation_Cities_IN/Rajasthan_1990_2022_Jodhpur.csv\n",
      "/kaggle/input/historicalweatherdataforindiancities/Temperature_And_Precipitation_Cities_IN/Bangalore_1990_2022_BangaloreCity.csv\n",
      "/kaggle/input/historicalweatherdataforindiancities/Temperature_And_Precipitation_Cities_IN/Station_GeoLocation_Longitute_Latitude_Elevation_EPSG_4326.csv\n",
      "/kaggle/input/historicalweatherdataforindiancities/Temperature_And_Precipitation_Cities_IN/Mumbai_1990_2022_Santacruz.csv\n",
      "/kaggle/input/historicalweatherdataforindiancities/Temperature_And_Precipitation_Cities_IN/weather_Bhubhneshwar_1990_2022.csv\n",
      "/kaggle/input/rainfall-in-india/rainfall in india 1901-2015.csv\n",
      "/kaggle/input/rainfall-in-india/district wise rainfall normal.csv\n",
      "/kaggle/input/crop-recommendation-dataset/Crop_recommendation.csv\n"
     ]
    }
   ],
   "source": [
    "# This Python 3 environment comes with many helpful analytics libraries installed\n",
    "# It is defined by the kaggle/python Docker image: https://github.com/kaggle/docker-python\n",
    "# For example, here's several helpful packages to load\n",
    "\n",
    "import numpy as np # linear algebra\n",
    "import pandas as pd # data processing, CSV file I/O (e.g. pd.read_csv)\n",
    "\n",
    "# Input data files are available in the read-only \"../input/\" directory\n",
    "# For example, running this (by clicking run or pressing Shift+Enter) will list all files under the input directory\n",
    "\n",
    "import os\n",
    "for dirname, _, filenames in os.walk('/kaggle/input'):\n",
    "    for filename in filenames:\n",
    "        print(os.path.join(dirname, filename))\n",
    "\n",
    "# You can write up to 20GB to the current directory (/kaggle/working/) that gets preserved as output when you create a version using \"Save & Run All\" \n",
    "# You can also write temporary files to /kaggle/temp/, but they won't be saved outside of the current session"
   ]
  },
  {
   "cell_type": "markdown",
   "id": "7457ec57",
   "metadata": {
    "papermill": {
     "duration": 0.007401,
     "end_time": "2023-02-10T17:04:35.026482",
     "exception": false,
     "start_time": "2023-02-10T17:04:35.019081",
     "status": "completed"
    },
    "tags": []
   },
   "source": [
    "extracting the rainfall data and viewing the features accordingly"
   ]
  },
  {
   "cell_type": "code",
   "execution_count": 2,
   "id": "b65bb0f3",
   "metadata": {
    "execution": {
     "iopub.execute_input": "2023-02-10T17:04:35.045098Z",
     "iopub.status.busy": "2023-02-10T17:04:35.044046Z",
     "iopub.status.idle": "2023-02-10T17:04:35.094377Z",
     "shell.execute_reply": "2023-02-10T17:04:35.093282Z"
    },
    "papermill": {
     "duration": 0.062539,
     "end_time": "2023-02-10T17:04:35.097191",
     "exception": false,
     "start_time": "2023-02-10T17:04:35.034652",
     "status": "completed"
    },
    "tags": []
   },
   "outputs": [],
   "source": [
    "district_rainfall_data=pd.read_csv('/kaggle/input/rainfall-in-india/district wise rainfall normal.csv')\n",
    "india_rainfall_data=pd.read_csv('/kaggle/input/rainfall-in-india/rainfall in india 1901-2015.csv')"
   ]
  },
  {
   "cell_type": "code",
   "execution_count": 3,
   "id": "4491709c",
   "metadata": {
    "execution": {
     "iopub.execute_input": "2023-02-10T17:04:35.115101Z",
     "iopub.status.busy": "2023-02-10T17:04:35.114688Z",
     "iopub.status.idle": "2023-02-10T17:04:35.152382Z",
     "shell.execute_reply": "2023-02-10T17:04:35.151054Z"
    },
    "papermill": {
     "duration": 0.049313,
     "end_time": "2023-02-10T17:04:35.154979",
     "exception": false,
     "start_time": "2023-02-10T17:04:35.105666",
     "status": "completed"
    },
    "tags": []
   },
   "outputs": [
    {
     "data": {
      "text/html": [
       "<div>\n",
       "<style scoped>\n",
       "    .dataframe tbody tr th:only-of-type {\n",
       "        vertical-align: middle;\n",
       "    }\n",
       "\n",
       "    .dataframe tbody tr th {\n",
       "        vertical-align: top;\n",
       "    }\n",
       "\n",
       "    .dataframe thead th {\n",
       "        text-align: right;\n",
       "    }\n",
       "</style>\n",
       "<table border=\"1\" class=\"dataframe\">\n",
       "  <thead>\n",
       "    <tr style=\"text-align: right;\">\n",
       "      <th></th>\n",
       "      <th>STATE_UT_NAME</th>\n",
       "      <th>DISTRICT</th>\n",
       "      <th>JAN</th>\n",
       "      <th>FEB</th>\n",
       "      <th>MAR</th>\n",
       "      <th>APR</th>\n",
       "      <th>MAY</th>\n",
       "      <th>JUN</th>\n",
       "      <th>JUL</th>\n",
       "      <th>AUG</th>\n",
       "      <th>SEP</th>\n",
       "      <th>OCT</th>\n",
       "      <th>NOV</th>\n",
       "      <th>DEC</th>\n",
       "      <th>ANNUAL</th>\n",
       "      <th>Jan-Feb</th>\n",
       "      <th>Mar-May</th>\n",
       "      <th>Jun-Sep</th>\n",
       "      <th>Oct-Dec</th>\n",
       "    </tr>\n",
       "  </thead>\n",
       "  <tbody>\n",
       "    <tr>\n",
       "      <th>0</th>\n",
       "      <td>ANDAMAN And NICOBAR ISLANDS</td>\n",
       "      <td>NICOBAR</td>\n",
       "      <td>107.3</td>\n",
       "      <td>57.9</td>\n",
       "      <td>65.2</td>\n",
       "      <td>117.0</td>\n",
       "      <td>358.5</td>\n",
       "      <td>295.5</td>\n",
       "      <td>285.0</td>\n",
       "      <td>271.9</td>\n",
       "      <td>354.8</td>\n",
       "      <td>326.0</td>\n",
       "      <td>315.2</td>\n",
       "      <td>250.9</td>\n",
       "      <td>2805.2</td>\n",
       "      <td>165.2</td>\n",
       "      <td>540.7</td>\n",
       "      <td>1207.2</td>\n",
       "      <td>892.1</td>\n",
       "    </tr>\n",
       "    <tr>\n",
       "      <th>1</th>\n",
       "      <td>ANDAMAN And NICOBAR ISLANDS</td>\n",
       "      <td>SOUTH ANDAMAN</td>\n",
       "      <td>43.7</td>\n",
       "      <td>26.0</td>\n",
       "      <td>18.6</td>\n",
       "      <td>90.5</td>\n",
       "      <td>374.4</td>\n",
       "      <td>457.2</td>\n",
       "      <td>421.3</td>\n",
       "      <td>423.1</td>\n",
       "      <td>455.6</td>\n",
       "      <td>301.2</td>\n",
       "      <td>275.8</td>\n",
       "      <td>128.3</td>\n",
       "      <td>3015.7</td>\n",
       "      <td>69.7</td>\n",
       "      <td>483.5</td>\n",
       "      <td>1757.2</td>\n",
       "      <td>705.3</td>\n",
       "    </tr>\n",
       "    <tr>\n",
       "      <th>2</th>\n",
       "      <td>ANDAMAN And NICOBAR ISLANDS</td>\n",
       "      <td>N &amp; M ANDAMAN</td>\n",
       "      <td>32.7</td>\n",
       "      <td>15.9</td>\n",
       "      <td>8.6</td>\n",
       "      <td>53.4</td>\n",
       "      <td>343.6</td>\n",
       "      <td>503.3</td>\n",
       "      <td>465.4</td>\n",
       "      <td>460.9</td>\n",
       "      <td>454.8</td>\n",
       "      <td>276.1</td>\n",
       "      <td>198.6</td>\n",
       "      <td>100.0</td>\n",
       "      <td>2913.3</td>\n",
       "      <td>48.6</td>\n",
       "      <td>405.6</td>\n",
       "      <td>1884.4</td>\n",
       "      <td>574.7</td>\n",
       "    </tr>\n",
       "    <tr>\n",
       "      <th>3</th>\n",
       "      <td>ARUNACHAL PRADESH</td>\n",
       "      <td>LOHIT</td>\n",
       "      <td>42.2</td>\n",
       "      <td>80.8</td>\n",
       "      <td>176.4</td>\n",
       "      <td>358.5</td>\n",
       "      <td>306.4</td>\n",
       "      <td>447.0</td>\n",
       "      <td>660.1</td>\n",
       "      <td>427.8</td>\n",
       "      <td>313.6</td>\n",
       "      <td>167.1</td>\n",
       "      <td>34.1</td>\n",
       "      <td>29.8</td>\n",
       "      <td>3043.8</td>\n",
       "      <td>123.0</td>\n",
       "      <td>841.3</td>\n",
       "      <td>1848.5</td>\n",
       "      <td>231.0</td>\n",
       "    </tr>\n",
       "    <tr>\n",
       "      <th>4</th>\n",
       "      <td>ARUNACHAL PRADESH</td>\n",
       "      <td>EAST SIANG</td>\n",
       "      <td>33.3</td>\n",
       "      <td>79.5</td>\n",
       "      <td>105.9</td>\n",
       "      <td>216.5</td>\n",
       "      <td>323.0</td>\n",
       "      <td>738.3</td>\n",
       "      <td>990.9</td>\n",
       "      <td>711.2</td>\n",
       "      <td>568.0</td>\n",
       "      <td>206.9</td>\n",
       "      <td>29.5</td>\n",
       "      <td>31.7</td>\n",
       "      <td>4034.7</td>\n",
       "      <td>112.8</td>\n",
       "      <td>645.4</td>\n",
       "      <td>3008.4</td>\n",
       "      <td>268.1</td>\n",
       "    </tr>\n",
       "  </tbody>\n",
       "</table>\n",
       "</div>"
      ],
      "text/plain": [
       "                 STATE_UT_NAME       DISTRICT    JAN   FEB    MAR    APR  \\\n",
       "0  ANDAMAN And NICOBAR ISLANDS        NICOBAR  107.3  57.9   65.2  117.0   \n",
       "1  ANDAMAN And NICOBAR ISLANDS  SOUTH ANDAMAN   43.7  26.0   18.6   90.5   \n",
       "2  ANDAMAN And NICOBAR ISLANDS  N & M ANDAMAN   32.7  15.9    8.6   53.4   \n",
       "3            ARUNACHAL PRADESH          LOHIT   42.2  80.8  176.4  358.5   \n",
       "4            ARUNACHAL PRADESH     EAST SIANG   33.3  79.5  105.9  216.5   \n",
       "\n",
       "     MAY    JUN    JUL    AUG    SEP    OCT    NOV    DEC  ANNUAL  Jan-Feb  \\\n",
       "0  358.5  295.5  285.0  271.9  354.8  326.0  315.2  250.9  2805.2    165.2   \n",
       "1  374.4  457.2  421.3  423.1  455.6  301.2  275.8  128.3  3015.7     69.7   \n",
       "2  343.6  503.3  465.4  460.9  454.8  276.1  198.6  100.0  2913.3     48.6   \n",
       "3  306.4  447.0  660.1  427.8  313.6  167.1   34.1   29.8  3043.8    123.0   \n",
       "4  323.0  738.3  990.9  711.2  568.0  206.9   29.5   31.7  4034.7    112.8   \n",
       "\n",
       "   Mar-May  Jun-Sep  Oct-Dec  \n",
       "0    540.7   1207.2    892.1  \n",
       "1    483.5   1757.2    705.3  \n",
       "2    405.6   1884.4    574.7  \n",
       "3    841.3   1848.5    231.0  \n",
       "4    645.4   3008.4    268.1  "
      ]
     },
     "execution_count": 3,
     "metadata": {},
     "output_type": "execute_result"
    }
   ],
   "source": [
    "district_rainfall_data.head()"
   ]
  },
  {
   "cell_type": "code",
   "execution_count": 4,
   "id": "8ce0a026",
   "metadata": {
    "execution": {
     "iopub.execute_input": "2023-02-10T17:04:35.173199Z",
     "iopub.status.busy": "2023-02-10T17:04:35.172728Z",
     "iopub.status.idle": "2023-02-10T17:04:35.201707Z",
     "shell.execute_reply": "2023-02-10T17:04:35.200618Z"
    },
    "papermill": {
     "duration": 0.040568,
     "end_time": "2023-02-10T17:04:35.203989",
     "exception": false,
     "start_time": "2023-02-10T17:04:35.163421",
     "status": "completed"
    },
    "tags": []
   },
   "outputs": [
    {
     "data": {
      "text/html": [
       "<div>\n",
       "<style scoped>\n",
       "    .dataframe tbody tr th:only-of-type {\n",
       "        vertical-align: middle;\n",
       "    }\n",
       "\n",
       "    .dataframe tbody tr th {\n",
       "        vertical-align: top;\n",
       "    }\n",
       "\n",
       "    .dataframe thead th {\n",
       "        text-align: right;\n",
       "    }\n",
       "</style>\n",
       "<table border=\"1\" class=\"dataframe\">\n",
       "  <thead>\n",
       "    <tr style=\"text-align: right;\">\n",
       "      <th></th>\n",
       "      <th>SUBDIVISION</th>\n",
       "      <th>YEAR</th>\n",
       "      <th>JAN</th>\n",
       "      <th>FEB</th>\n",
       "      <th>MAR</th>\n",
       "      <th>APR</th>\n",
       "      <th>MAY</th>\n",
       "      <th>JUN</th>\n",
       "      <th>JUL</th>\n",
       "      <th>AUG</th>\n",
       "      <th>SEP</th>\n",
       "      <th>OCT</th>\n",
       "      <th>NOV</th>\n",
       "      <th>DEC</th>\n",
       "      <th>ANNUAL</th>\n",
       "      <th>Jan-Feb</th>\n",
       "      <th>Mar-May</th>\n",
       "      <th>Jun-Sep</th>\n",
       "      <th>Oct-Dec</th>\n",
       "    </tr>\n",
       "  </thead>\n",
       "  <tbody>\n",
       "    <tr>\n",
       "      <th>0</th>\n",
       "      <td>ANDAMAN &amp; NICOBAR ISLANDS</td>\n",
       "      <td>1901</td>\n",
       "      <td>49.2</td>\n",
       "      <td>87.1</td>\n",
       "      <td>29.2</td>\n",
       "      <td>2.3</td>\n",
       "      <td>528.8</td>\n",
       "      <td>517.5</td>\n",
       "      <td>365.1</td>\n",
       "      <td>481.1</td>\n",
       "      <td>332.6</td>\n",
       "      <td>388.5</td>\n",
       "      <td>558.2</td>\n",
       "      <td>33.6</td>\n",
       "      <td>3373.2</td>\n",
       "      <td>136.3</td>\n",
       "      <td>560.3</td>\n",
       "      <td>1696.3</td>\n",
       "      <td>980.3</td>\n",
       "    </tr>\n",
       "    <tr>\n",
       "      <th>1</th>\n",
       "      <td>ANDAMAN &amp; NICOBAR ISLANDS</td>\n",
       "      <td>1902</td>\n",
       "      <td>0.0</td>\n",
       "      <td>159.8</td>\n",
       "      <td>12.2</td>\n",
       "      <td>0.0</td>\n",
       "      <td>446.1</td>\n",
       "      <td>537.1</td>\n",
       "      <td>228.9</td>\n",
       "      <td>753.7</td>\n",
       "      <td>666.2</td>\n",
       "      <td>197.2</td>\n",
       "      <td>359.0</td>\n",
       "      <td>160.5</td>\n",
       "      <td>3520.7</td>\n",
       "      <td>159.8</td>\n",
       "      <td>458.3</td>\n",
       "      <td>2185.9</td>\n",
       "      <td>716.7</td>\n",
       "    </tr>\n",
       "    <tr>\n",
       "      <th>2</th>\n",
       "      <td>ANDAMAN &amp; NICOBAR ISLANDS</td>\n",
       "      <td>1903</td>\n",
       "      <td>12.7</td>\n",
       "      <td>144.0</td>\n",
       "      <td>0.0</td>\n",
       "      <td>1.0</td>\n",
       "      <td>235.1</td>\n",
       "      <td>479.9</td>\n",
       "      <td>728.4</td>\n",
       "      <td>326.7</td>\n",
       "      <td>339.0</td>\n",
       "      <td>181.2</td>\n",
       "      <td>284.4</td>\n",
       "      <td>225.0</td>\n",
       "      <td>2957.4</td>\n",
       "      <td>156.7</td>\n",
       "      <td>236.1</td>\n",
       "      <td>1874.0</td>\n",
       "      <td>690.6</td>\n",
       "    </tr>\n",
       "    <tr>\n",
       "      <th>3</th>\n",
       "      <td>ANDAMAN &amp; NICOBAR ISLANDS</td>\n",
       "      <td>1904</td>\n",
       "      <td>9.4</td>\n",
       "      <td>14.7</td>\n",
       "      <td>0.0</td>\n",
       "      <td>202.4</td>\n",
       "      <td>304.5</td>\n",
       "      <td>495.1</td>\n",
       "      <td>502.0</td>\n",
       "      <td>160.1</td>\n",
       "      <td>820.4</td>\n",
       "      <td>222.2</td>\n",
       "      <td>308.7</td>\n",
       "      <td>40.1</td>\n",
       "      <td>3079.6</td>\n",
       "      <td>24.1</td>\n",
       "      <td>506.9</td>\n",
       "      <td>1977.6</td>\n",
       "      <td>571.0</td>\n",
       "    </tr>\n",
       "    <tr>\n",
       "      <th>4</th>\n",
       "      <td>ANDAMAN &amp; NICOBAR ISLANDS</td>\n",
       "      <td>1905</td>\n",
       "      <td>1.3</td>\n",
       "      <td>0.0</td>\n",
       "      <td>3.3</td>\n",
       "      <td>26.9</td>\n",
       "      <td>279.5</td>\n",
       "      <td>628.7</td>\n",
       "      <td>368.7</td>\n",
       "      <td>330.5</td>\n",
       "      <td>297.0</td>\n",
       "      <td>260.7</td>\n",
       "      <td>25.4</td>\n",
       "      <td>344.7</td>\n",
       "      <td>2566.7</td>\n",
       "      <td>1.3</td>\n",
       "      <td>309.7</td>\n",
       "      <td>1624.9</td>\n",
       "      <td>630.8</td>\n",
       "    </tr>\n",
       "  </tbody>\n",
       "</table>\n",
       "</div>"
      ],
      "text/plain": [
       "                 SUBDIVISION  YEAR   JAN    FEB   MAR    APR    MAY    JUN  \\\n",
       "0  ANDAMAN & NICOBAR ISLANDS  1901  49.2   87.1  29.2    2.3  528.8  517.5   \n",
       "1  ANDAMAN & NICOBAR ISLANDS  1902   0.0  159.8  12.2    0.0  446.1  537.1   \n",
       "2  ANDAMAN & NICOBAR ISLANDS  1903  12.7  144.0   0.0    1.0  235.1  479.9   \n",
       "3  ANDAMAN & NICOBAR ISLANDS  1904   9.4   14.7   0.0  202.4  304.5  495.1   \n",
       "4  ANDAMAN & NICOBAR ISLANDS  1905   1.3    0.0   3.3   26.9  279.5  628.7   \n",
       "\n",
       "     JUL    AUG    SEP    OCT    NOV    DEC  ANNUAL  Jan-Feb  Mar-May  \\\n",
       "0  365.1  481.1  332.6  388.5  558.2   33.6  3373.2    136.3    560.3   \n",
       "1  228.9  753.7  666.2  197.2  359.0  160.5  3520.7    159.8    458.3   \n",
       "2  728.4  326.7  339.0  181.2  284.4  225.0  2957.4    156.7    236.1   \n",
       "3  502.0  160.1  820.4  222.2  308.7   40.1  3079.6     24.1    506.9   \n",
       "4  368.7  330.5  297.0  260.7   25.4  344.7  2566.7      1.3    309.7   \n",
       "\n",
       "   Jun-Sep  Oct-Dec  \n",
       "0   1696.3    980.3  \n",
       "1   2185.9    716.7  \n",
       "2   1874.0    690.6  \n",
       "3   1977.6    571.0  \n",
       "4   1624.9    630.8  "
      ]
     },
     "execution_count": 4,
     "metadata": {},
     "output_type": "execute_result"
    }
   ],
   "source": [
    "india_rainfall_data.head()"
   ]
  },
  {
   "cell_type": "markdown",
   "id": "5676af57",
   "metadata": {
    "papermill": {
     "duration": 0.007986,
     "end_time": "2023-02-10T17:04:35.220948",
     "exception": false,
     "start_time": "2023-02-10T17:04:35.212962",
     "status": "completed"
    },
    "tags": []
   },
   "source": [
    "printing all the unique values in the rainfall dataset"
   ]
  },
  {
   "cell_type": "code",
   "execution_count": 5,
   "id": "8b1acbe9",
   "metadata": {
    "execution": {
     "iopub.execute_input": "2023-02-10T17:04:35.239604Z",
     "iopub.status.busy": "2023-02-10T17:04:35.239119Z",
     "iopub.status.idle": "2023-02-10T17:04:35.251629Z",
     "shell.execute_reply": "2023-02-10T17:04:35.250381Z"
    },
    "papermill": {
     "duration": 0.024679,
     "end_time": "2023-02-10T17:04:35.253889",
     "exception": false,
     "start_time": "2023-02-10T17:04:35.229210",
     "status": "completed"
    },
    "tags": []
   },
   "outputs": [
    {
     "name": "stdout",
     "output_type": "stream",
     "text": [
      "['ANDAMAN & NICOBAR ISLANDS' 'ARUNACHAL PRADESH' 'ASSAM & MEGHALAYA'\n",
      " 'NAGA MANI MIZO TRIPURA' 'SUB HIMALAYAN WEST BENGAL & SIKKIM'\n",
      " 'GANGETIC WEST BENGAL' 'ORISSA' 'JHARKHAND' 'BIHAR' 'EAST UTTAR PRADESH'\n",
      " 'WEST UTTAR PRADESH' 'UTTARAKHAND' 'HARYANA DELHI & CHANDIGARH' 'PUNJAB'\n",
      " 'HIMACHAL PRADESH' 'JAMMU & KASHMIR' 'WEST RAJASTHAN' 'EAST RAJASTHAN'\n",
      " 'WEST MADHYA PRADESH' 'EAST MADHYA PRADESH' 'GUJARAT REGION'\n",
      " 'SAURASHTRA & KUTCH' 'KONKAN & GOA' 'MADHYA MAHARASHTRA' 'MATATHWADA'\n",
      " 'VIDARBHA' 'CHHATTISGARH' 'COASTAL ANDHRA PRADESH' 'TELANGANA'\n",
      " 'RAYALSEEMA' 'TAMIL NADU' 'COASTAL KARNATAKA' 'NORTH INTERIOR KARNATAKA'\n",
      " 'SOUTH INTERIOR KARNATAKA' 'KERALA' 'LAKSHADWEEP']\n"
     ]
    }
   ],
   "source": [
    "unique_values=india_rainfall_data['SUBDIVISION'].unique()\n",
    "print(unique_values)"
   ]
  },
  {
   "cell_type": "markdown",
   "id": "291ba9c0",
   "metadata": {
    "papermill": {
     "duration": 0.007891,
     "end_time": "2023-02-10T17:04:35.270976",
     "exception": false,
     "start_time": "2023-02-10T17:04:35.263085",
     "status": "completed"
    },
    "tags": []
   },
   "source": [
    "checking for null values"
   ]
  },
  {
   "cell_type": "code",
   "execution_count": 6,
   "id": "ae7e55a0",
   "metadata": {
    "execution": {
     "iopub.execute_input": "2023-02-10T17:04:35.289716Z",
     "iopub.status.busy": "2023-02-10T17:04:35.289259Z",
     "iopub.status.idle": "2023-02-10T17:04:35.297447Z",
     "shell.execute_reply": "2023-02-10T17:04:35.296077Z"
    },
    "papermill": {
     "duration": 0.020543,
     "end_time": "2023-02-10T17:04:35.299732",
     "exception": false,
     "start_time": "2023-02-10T17:04:35.279189",
     "status": "completed"
    },
    "tags": []
   },
   "outputs": [
    {
     "data": {
      "text/plain": [
       "(4116, 19)"
      ]
     },
     "execution_count": 6,
     "metadata": {},
     "output_type": "execute_result"
    }
   ],
   "source": [
    "india_rainfall_data.shape"
   ]
  },
  {
   "cell_type": "markdown",
   "id": "86da3ceb",
   "metadata": {
    "papermill": {
     "duration": 0.008109,
     "end_time": "2023-02-10T17:04:35.316249",
     "exception": false,
     "start_time": "2023-02-10T17:04:35.308140",
     "status": "completed"
    },
    "tags": []
   },
   "source": [
    "checking total null values"
   ]
  },
  {
   "cell_type": "code",
   "execution_count": 7,
   "id": "b2c91792",
   "metadata": {
    "execution": {
     "iopub.execute_input": "2023-02-10T17:04:35.335931Z",
     "iopub.status.busy": "2023-02-10T17:04:35.335086Z",
     "iopub.status.idle": "2023-02-10T17:04:35.346056Z",
     "shell.execute_reply": "2023-02-10T17:04:35.344885Z"
    },
    "papermill": {
     "duration": 0.023452,
     "end_time": "2023-02-10T17:04:35.348601",
     "exception": false,
     "start_time": "2023-02-10T17:04:35.325149",
     "status": "completed"
    },
    "tags": []
   },
   "outputs": [
    {
     "data": {
      "text/plain": [
       "134"
      ]
     },
     "execution_count": 7,
     "metadata": {},
     "output_type": "execute_result"
    }
   ],
   "source": [
    "india_rainfall_data.isnull().sum().sum()"
   ]
  },
  {
   "cell_type": "markdown",
   "id": "7dfb735d",
   "metadata": {
    "papermill": {
     "duration": 0.008846,
     "end_time": "2023-02-10T17:04:35.366564",
     "exception": false,
     "start_time": "2023-02-10T17:04:35.357718",
     "status": "completed"
    },
    "tags": []
   },
   "source": [
    "checking the columns that have said null values"
   ]
  },
  {
   "cell_type": "code",
   "execution_count": 8,
   "id": "d1bac1f9",
   "metadata": {
    "execution": {
     "iopub.execute_input": "2023-02-10T17:04:35.385480Z",
     "iopub.status.busy": "2023-02-10T17:04:35.385056Z",
     "iopub.status.idle": "2023-02-10T17:04:35.408137Z",
     "shell.execute_reply": "2023-02-10T17:04:35.407055Z"
    },
    "papermill": {
     "duration": 0.035335,
     "end_time": "2023-02-10T17:04:35.410455",
     "exception": false,
     "start_time": "2023-02-10T17:04:35.375120",
     "status": "completed"
    },
    "tags": []
   },
   "outputs": [
    {
     "data": {
      "text/plain": [
       "SUBDIVISION     0\n",
       "YEAR            0\n",
       "JAN             4\n",
       "FEB             3\n",
       "MAR             6\n",
       "APR             4\n",
       "MAY             3\n",
       "JUN             5\n",
       "JUL             7\n",
       "AUG             4\n",
       "SEP             6\n",
       "OCT             7\n",
       "NOV            11\n",
       "DEC            10\n",
       "ANNUAL         26\n",
       "Jan-Feb         6\n",
       "Mar-May         9\n",
       "Jun-Sep        10\n",
       "Oct-Dec        13\n",
       "dtype: int64"
      ]
     },
     "execution_count": 8,
     "metadata": {},
     "output_type": "execute_result"
    }
   ],
   "source": [
    "missing_values_count=india_rainfall_data.isnull().sum()\n",
    "missing_values_count"
   ]
  },
  {
   "cell_type": "markdown",
   "id": "a78ee278",
   "metadata": {
    "papermill": {
     "duration": 0.008285,
     "end_time": "2023-02-10T17:04:35.427409",
     "exception": false,
     "start_time": "2023-02-10T17:04:35.419124",
     "status": "completed"
    },
    "tags": []
   },
   "source": [
    "check percentage of null values"
   ]
  },
  {
   "cell_type": "code",
   "execution_count": 9,
   "id": "509c074d",
   "metadata": {
    "execution": {
     "iopub.execute_input": "2023-02-10T17:04:35.447177Z",
     "iopub.status.busy": "2023-02-10T17:04:35.446739Z",
     "iopub.status.idle": "2023-02-10T17:04:35.453762Z",
     "shell.execute_reply": "2023-02-10T17:04:35.452417Z"
    },
    "papermill": {
     "duration": 0.019897,
     "end_time": "2023-02-10T17:04:35.456283",
     "exception": false,
     "start_time": "2023-02-10T17:04:35.436386",
     "status": "completed"
    },
    "tags": []
   },
   "outputs": [
    {
     "name": "stdout",
     "output_type": "stream",
     "text": [
      "0.17134673418239477\n"
     ]
    }
   ],
   "source": [
    "total_cells = np.product(india_rainfall_data.shape)\n",
    "total_missing = missing_values_count.sum()\n",
    "\n",
    "# percent of data that is missing\n",
    "percent_missing = (total_missing/total_cells) * 100\n",
    "print(percent_missing)"
   ]
  },
  {
   "cell_type": "markdown",
   "id": "ec9caff1",
   "metadata": {
    "papermill": {
     "duration": 0.008381,
     "end_time": "2023-02-10T17:04:35.473429",
     "exception": false,
     "start_time": "2023-02-10T17:04:35.465048",
     "status": "completed"
    },
    "tags": []
   },
   "source": [
    "removing all the na values"
   ]
  },
  {
   "cell_type": "code",
   "execution_count": 10,
   "id": "839ac349",
   "metadata": {
    "execution": {
     "iopub.execute_input": "2023-02-10T17:04:35.492704Z",
     "iopub.status.busy": "2023-02-10T17:04:35.492202Z",
     "iopub.status.idle": "2023-02-10T17:04:35.511794Z",
     "shell.execute_reply": "2023-02-10T17:04:35.510085Z"
    },
    "papermill": {
     "duration": 0.032459,
     "end_time": "2023-02-10T17:04:35.514664",
     "exception": false,
     "start_time": "2023-02-10T17:04:35.482205",
     "status": "completed"
    },
    "tags": []
   },
   "outputs": [
    {
     "data": {
      "text/plain": [
       "0"
      ]
     },
     "execution_count": 10,
     "metadata": {},
     "output_type": "execute_result"
    }
   ],
   "source": [
    "rainfall_india_clean=india_rainfall_data.dropna()\n",
    "rainfall_india_clean.isnull().sum().sum()"
   ]
  },
  {
   "cell_type": "markdown",
   "id": "5bd2ca55",
   "metadata": {
    "papermill": {
     "duration": 0.008618,
     "end_time": "2023-02-10T17:04:35.532157",
     "exception": false,
     "start_time": "2023-02-10T17:04:35.523539",
     "status": "completed"
    },
    "tags": []
   },
   "source": [
    "checking Nan values"
   ]
  },
  {
   "cell_type": "code",
   "execution_count": 11,
   "id": "2e913537",
   "metadata": {
    "execution": {
     "iopub.execute_input": "2023-02-10T17:04:35.552826Z",
     "iopub.status.busy": "2023-02-10T17:04:35.551930Z",
     "iopub.status.idle": "2023-02-10T17:04:35.561952Z",
     "shell.execute_reply": "2023-02-10T17:04:35.560603Z"
    },
    "papermill": {
     "duration": 0.022778,
     "end_time": "2023-02-10T17:04:35.564475",
     "exception": false,
     "start_time": "2023-02-10T17:04:35.541697",
     "status": "completed"
    },
    "tags": []
   },
   "outputs": [
    {
     "data": {
      "text/plain": [
       "0"
      ]
     },
     "execution_count": 11,
     "metadata": {},
     "output_type": "execute_result"
    }
   ],
   "source": [
    "rainfall_india_clean.isna().sum().sum()"
   ]
  },
  {
   "cell_type": "markdown",
   "id": "466f81d8",
   "metadata": {
    "papermill": {
     "duration": 0.008505,
     "end_time": "2023-02-10T17:04:35.581972",
     "exception": false,
     "start_time": "2023-02-10T17:04:35.573467",
     "status": "completed"
    },
    "tags": []
   },
   "source": [
    "viewing the final rainfall clean dataset"
   ]
  },
  {
   "cell_type": "code",
   "execution_count": 12,
   "id": "bcbdf131",
   "metadata": {
    "execution": {
     "iopub.execute_input": "2023-02-10T17:04:35.602196Z",
     "iopub.status.busy": "2023-02-10T17:04:35.601424Z",
     "iopub.status.idle": "2023-02-10T17:04:35.628476Z",
     "shell.execute_reply": "2023-02-10T17:04:35.627380Z"
    },
    "papermill": {
     "duration": 0.039929,
     "end_time": "2023-02-10T17:04:35.630900",
     "exception": false,
     "start_time": "2023-02-10T17:04:35.590971",
     "status": "completed"
    },
    "tags": []
   },
   "outputs": [
    {
     "data": {
      "text/html": [
       "<div>\n",
       "<style scoped>\n",
       "    .dataframe tbody tr th:only-of-type {\n",
       "        vertical-align: middle;\n",
       "    }\n",
       "\n",
       "    .dataframe tbody tr th {\n",
       "        vertical-align: top;\n",
       "    }\n",
       "\n",
       "    .dataframe thead th {\n",
       "        text-align: right;\n",
       "    }\n",
       "</style>\n",
       "<table border=\"1\" class=\"dataframe\">\n",
       "  <thead>\n",
       "    <tr style=\"text-align: right;\">\n",
       "      <th></th>\n",
       "      <th>SUBDIVISION</th>\n",
       "      <th>YEAR</th>\n",
       "      <th>JAN</th>\n",
       "      <th>FEB</th>\n",
       "      <th>MAR</th>\n",
       "      <th>APR</th>\n",
       "      <th>MAY</th>\n",
       "      <th>JUN</th>\n",
       "      <th>JUL</th>\n",
       "      <th>AUG</th>\n",
       "      <th>SEP</th>\n",
       "      <th>OCT</th>\n",
       "      <th>NOV</th>\n",
       "      <th>DEC</th>\n",
       "      <th>ANNUAL</th>\n",
       "      <th>Jan-Feb</th>\n",
       "      <th>Mar-May</th>\n",
       "      <th>Jun-Sep</th>\n",
       "      <th>Oct-Dec</th>\n",
       "    </tr>\n",
       "  </thead>\n",
       "  <tbody>\n",
       "    <tr>\n",
       "      <th>0</th>\n",
       "      <td>ANDAMAN &amp; NICOBAR ISLANDS</td>\n",
       "      <td>1901</td>\n",
       "      <td>49.2</td>\n",
       "      <td>87.1</td>\n",
       "      <td>29.2</td>\n",
       "      <td>2.3</td>\n",
       "      <td>528.8</td>\n",
       "      <td>517.5</td>\n",
       "      <td>365.1</td>\n",
       "      <td>481.1</td>\n",
       "      <td>332.6</td>\n",
       "      <td>388.5</td>\n",
       "      <td>558.2</td>\n",
       "      <td>33.6</td>\n",
       "      <td>3373.2</td>\n",
       "      <td>136.3</td>\n",
       "      <td>560.3</td>\n",
       "      <td>1696.3</td>\n",
       "      <td>980.3</td>\n",
       "    </tr>\n",
       "    <tr>\n",
       "      <th>1</th>\n",
       "      <td>ANDAMAN &amp; NICOBAR ISLANDS</td>\n",
       "      <td>1902</td>\n",
       "      <td>0.0</td>\n",
       "      <td>159.8</td>\n",
       "      <td>12.2</td>\n",
       "      <td>0.0</td>\n",
       "      <td>446.1</td>\n",
       "      <td>537.1</td>\n",
       "      <td>228.9</td>\n",
       "      <td>753.7</td>\n",
       "      <td>666.2</td>\n",
       "      <td>197.2</td>\n",
       "      <td>359.0</td>\n",
       "      <td>160.5</td>\n",
       "      <td>3520.7</td>\n",
       "      <td>159.8</td>\n",
       "      <td>458.3</td>\n",
       "      <td>2185.9</td>\n",
       "      <td>716.7</td>\n",
       "    </tr>\n",
       "    <tr>\n",
       "      <th>2</th>\n",
       "      <td>ANDAMAN &amp; NICOBAR ISLANDS</td>\n",
       "      <td>1903</td>\n",
       "      <td>12.7</td>\n",
       "      <td>144.0</td>\n",
       "      <td>0.0</td>\n",
       "      <td>1.0</td>\n",
       "      <td>235.1</td>\n",
       "      <td>479.9</td>\n",
       "      <td>728.4</td>\n",
       "      <td>326.7</td>\n",
       "      <td>339.0</td>\n",
       "      <td>181.2</td>\n",
       "      <td>284.4</td>\n",
       "      <td>225.0</td>\n",
       "      <td>2957.4</td>\n",
       "      <td>156.7</td>\n",
       "      <td>236.1</td>\n",
       "      <td>1874.0</td>\n",
       "      <td>690.6</td>\n",
       "    </tr>\n",
       "    <tr>\n",
       "      <th>3</th>\n",
       "      <td>ANDAMAN &amp; NICOBAR ISLANDS</td>\n",
       "      <td>1904</td>\n",
       "      <td>9.4</td>\n",
       "      <td>14.7</td>\n",
       "      <td>0.0</td>\n",
       "      <td>202.4</td>\n",
       "      <td>304.5</td>\n",
       "      <td>495.1</td>\n",
       "      <td>502.0</td>\n",
       "      <td>160.1</td>\n",
       "      <td>820.4</td>\n",
       "      <td>222.2</td>\n",
       "      <td>308.7</td>\n",
       "      <td>40.1</td>\n",
       "      <td>3079.6</td>\n",
       "      <td>24.1</td>\n",
       "      <td>506.9</td>\n",
       "      <td>1977.6</td>\n",
       "      <td>571.0</td>\n",
       "    </tr>\n",
       "    <tr>\n",
       "      <th>4</th>\n",
       "      <td>ANDAMAN &amp; NICOBAR ISLANDS</td>\n",
       "      <td>1905</td>\n",
       "      <td>1.3</td>\n",
       "      <td>0.0</td>\n",
       "      <td>3.3</td>\n",
       "      <td>26.9</td>\n",
       "      <td>279.5</td>\n",
       "      <td>628.7</td>\n",
       "      <td>368.7</td>\n",
       "      <td>330.5</td>\n",
       "      <td>297.0</td>\n",
       "      <td>260.7</td>\n",
       "      <td>25.4</td>\n",
       "      <td>344.7</td>\n",
       "      <td>2566.7</td>\n",
       "      <td>1.3</td>\n",
       "      <td>309.7</td>\n",
       "      <td>1624.9</td>\n",
       "      <td>630.8</td>\n",
       "    </tr>\n",
       "  </tbody>\n",
       "</table>\n",
       "</div>"
      ],
      "text/plain": [
       "                 SUBDIVISION  YEAR   JAN    FEB   MAR    APR    MAY    JUN  \\\n",
       "0  ANDAMAN & NICOBAR ISLANDS  1901  49.2   87.1  29.2    2.3  528.8  517.5   \n",
       "1  ANDAMAN & NICOBAR ISLANDS  1902   0.0  159.8  12.2    0.0  446.1  537.1   \n",
       "2  ANDAMAN & NICOBAR ISLANDS  1903  12.7  144.0   0.0    1.0  235.1  479.9   \n",
       "3  ANDAMAN & NICOBAR ISLANDS  1904   9.4   14.7   0.0  202.4  304.5  495.1   \n",
       "4  ANDAMAN & NICOBAR ISLANDS  1905   1.3    0.0   3.3   26.9  279.5  628.7   \n",
       "\n",
       "     JUL    AUG    SEP    OCT    NOV    DEC  ANNUAL  Jan-Feb  Mar-May  \\\n",
       "0  365.1  481.1  332.6  388.5  558.2   33.6  3373.2    136.3    560.3   \n",
       "1  228.9  753.7  666.2  197.2  359.0  160.5  3520.7    159.8    458.3   \n",
       "2  728.4  326.7  339.0  181.2  284.4  225.0  2957.4    156.7    236.1   \n",
       "3  502.0  160.1  820.4  222.2  308.7   40.1  3079.6     24.1    506.9   \n",
       "4  368.7  330.5  297.0  260.7   25.4  344.7  2566.7      1.3    309.7   \n",
       "\n",
       "   Jun-Sep  Oct-Dec  \n",
       "0   1696.3    980.3  \n",
       "1   2185.9    716.7  \n",
       "2   1874.0    690.6  \n",
       "3   1977.6    571.0  \n",
       "4   1624.9    630.8  "
      ]
     },
     "execution_count": 12,
     "metadata": {},
     "output_type": "execute_result"
    }
   ],
   "source": [
    "rainfall_india_clean.head()"
   ]
  },
  {
   "cell_type": "markdown",
   "id": "4597114f",
   "metadata": {
    "papermill": {
     "duration": 0.008908,
     "end_time": "2023-02-10T17:04:35.649322",
     "exception": false,
     "start_time": "2023-02-10T17:04:35.640414",
     "status": "completed"
    },
    "tags": []
   },
   "source": [
    "checking for null values in the district rainfall dataset"
   ]
  },
  {
   "cell_type": "code",
   "execution_count": 13,
   "id": "e4c244fd",
   "metadata": {
    "execution": {
     "iopub.execute_input": "2023-02-10T17:04:35.670583Z",
     "iopub.status.busy": "2023-02-10T17:04:35.669516Z",
     "iopub.status.idle": "2023-02-10T17:04:35.678731Z",
     "shell.execute_reply": "2023-02-10T17:04:35.677674Z"
    },
    "papermill": {
     "duration": 0.022323,
     "end_time": "2023-02-10T17:04:35.680912",
     "exception": false,
     "start_time": "2023-02-10T17:04:35.658589",
     "status": "completed"
    },
    "tags": []
   },
   "outputs": [
    {
     "data": {
      "text/plain": [
       "0"
      ]
     },
     "execution_count": 13,
     "metadata": {},
     "output_type": "execute_result"
    }
   ],
   "source": [
    "district_rainfall_data.isnull().sum().sum()"
   ]
  },
  {
   "cell_type": "markdown",
   "id": "13177a26",
   "metadata": {
    "papermill": {
     "duration": 0.009205,
     "end_time": "2023-02-10T17:04:35.699552",
     "exception": false,
     "start_time": "2023-02-10T17:04:35.690347",
     "status": "completed"
    },
    "tags": []
   },
   "source": [
    "checking NaN values in"
   ]
  },
  {
   "cell_type": "code",
   "execution_count": 14,
   "id": "3be2d702",
   "metadata": {
    "execution": {
     "iopub.execute_input": "2023-02-10T17:04:35.720306Z",
     "iopub.status.busy": "2023-02-10T17:04:35.719633Z",
     "iopub.status.idle": "2023-02-10T17:04:35.727061Z",
     "shell.execute_reply": "2023-02-10T17:04:35.726291Z"
    },
    "papermill": {
     "duration": 0.020388,
     "end_time": "2023-02-10T17:04:35.729282",
     "exception": false,
     "start_time": "2023-02-10T17:04:35.708894",
     "status": "completed"
    },
    "tags": []
   },
   "outputs": [
    {
     "data": {
      "text/plain": [
       "0"
      ]
     },
     "execution_count": 14,
     "metadata": {},
     "output_type": "execute_result"
    }
   ],
   "source": [
    "district_rainfall_data.isna().sum().sum()"
   ]
  },
  {
   "cell_type": "markdown",
   "id": "e06a2afd",
   "metadata": {
    "papermill": {
     "duration": 0.009111,
     "end_time": "2023-02-10T17:04:35.748617",
     "exception": false,
     "start_time": "2023-02-10T17:04:35.739506",
     "status": "completed"
    },
    "tags": []
   },
   "source": [
    "importing the crop recommendation data"
   ]
  },
  {
   "cell_type": "code",
   "execution_count": 15,
   "id": "e5b0bd62",
   "metadata": {
    "execution": {
     "iopub.execute_input": "2023-02-10T17:04:35.770834Z",
     "iopub.status.busy": "2023-02-10T17:04:35.769981Z",
     "iopub.status.idle": "2023-02-10T17:04:35.788605Z",
     "shell.execute_reply": "2023-02-10T17:04:35.787656Z"
    },
    "papermill": {
     "duration": 0.032424,
     "end_time": "2023-02-10T17:04:35.790870",
     "exception": false,
     "start_time": "2023-02-10T17:04:35.758446",
     "status": "completed"
    },
    "tags": []
   },
   "outputs": [
    {
     "data": {
      "text/plain": [
       "0"
      ]
     },
     "execution_count": 15,
     "metadata": {},
     "output_type": "execute_result"
    }
   ],
   "source": [
    "recommendation_data=pd.read_csv('/kaggle/input/crop-recommendation-dataset/Crop_recommendation.csv')\n",
    "recommendation_data.isnull().sum().sum()"
   ]
  },
  {
   "cell_type": "markdown",
   "id": "1004fd18",
   "metadata": {
    "papermill": {
     "duration": 0.009643,
     "end_time": "2023-02-10T17:04:35.811244",
     "exception": false,
     "start_time": "2023-02-10T17:04:35.801601",
     "status": "completed"
    },
    "tags": []
   },
   "source": [
    "checking for null values"
   ]
  },
  {
   "cell_type": "code",
   "execution_count": 16,
   "id": "dc14d152",
   "metadata": {
    "execution": {
     "iopub.execute_input": "2023-02-10T17:04:35.833082Z",
     "iopub.status.busy": "2023-02-10T17:04:35.832379Z",
     "iopub.status.idle": "2023-02-10T17:04:35.841702Z",
     "shell.execute_reply": "2023-02-10T17:04:35.840630Z"
    },
    "papermill": {
     "duration": 0.023126,
     "end_time": "2023-02-10T17:04:35.844120",
     "exception": false,
     "start_time": "2023-02-10T17:04:35.820994",
     "status": "completed"
    },
    "tags": []
   },
   "outputs": [
    {
     "data": {
      "text/plain": [
       "0"
      ]
     },
     "execution_count": 16,
     "metadata": {},
     "output_type": "execute_result"
    }
   ],
   "source": [
    "recommendation_data.isna().sum().sum()"
   ]
  },
  {
   "cell_type": "code",
   "execution_count": 17,
   "id": "5998b170",
   "metadata": {
    "execution": {
     "iopub.execute_input": "2023-02-10T17:04:35.865584Z",
     "iopub.status.busy": "2023-02-10T17:04:35.865146Z",
     "iopub.status.idle": "2023-02-10T17:04:35.896782Z",
     "shell.execute_reply": "2023-02-10T17:04:35.895207Z"
    },
    "papermill": {
     "duration": 0.046274,
     "end_time": "2023-02-10T17:04:35.900185",
     "exception": false,
     "start_time": "2023-02-10T17:04:35.853911",
     "status": "completed"
    },
    "tags": []
   },
   "outputs": [
    {
     "data": {
      "text/html": [
       "<div>\n",
       "<style scoped>\n",
       "    .dataframe tbody tr th:only-of-type {\n",
       "        vertical-align: middle;\n",
       "    }\n",
       "\n",
       "    .dataframe tbody tr th {\n",
       "        vertical-align: top;\n",
       "    }\n",
       "\n",
       "    .dataframe thead th {\n",
       "        text-align: right;\n",
       "    }\n",
       "</style>\n",
       "<table border=\"1\" class=\"dataframe\">\n",
       "  <thead>\n",
       "    <tr style=\"text-align: right;\">\n",
       "      <th></th>\n",
       "      <th>state</th>\n",
       "      <th>district</th>\n",
       "      <th>market</th>\n",
       "      <th>commodity</th>\n",
       "      <th>variety</th>\n",
       "      <th>arrival_date</th>\n",
       "      <th>min_price</th>\n",
       "      <th>max_price</th>\n",
       "      <th>modal_price</th>\n",
       "    </tr>\n",
       "  </thead>\n",
       "  <tbody>\n",
       "    <tr>\n",
       "      <th>0</th>\n",
       "      <td>Andaman and Nicobar</td>\n",
       "      <td>South Andaman</td>\n",
       "      <td>Port Blair</td>\n",
       "      <td>Amaranthus</td>\n",
       "      <td>Amaranthus</td>\n",
       "      <td>04/03/2019</td>\n",
       "      <td>6000</td>\n",
       "      <td>8000</td>\n",
       "      <td>7000</td>\n",
       "    </tr>\n",
       "    <tr>\n",
       "      <th>1</th>\n",
       "      <td>Andaman and Nicobar</td>\n",
       "      <td>South Andaman</td>\n",
       "      <td>Port Blair</td>\n",
       "      <td>Banana - Green</td>\n",
       "      <td>Banana - Green</td>\n",
       "      <td>04/03/2019</td>\n",
       "      <td>4500</td>\n",
       "      <td>5500</td>\n",
       "      <td>5000</td>\n",
       "    </tr>\n",
       "    <tr>\n",
       "      <th>2</th>\n",
       "      <td>Andaman and Nicobar</td>\n",
       "      <td>South Andaman</td>\n",
       "      <td>Port Blair</td>\n",
       "      <td>Bhindi(Ladies Finger)</td>\n",
       "      <td>Bhindi</td>\n",
       "      <td>04/03/2019</td>\n",
       "      <td>6000</td>\n",
       "      <td>8000</td>\n",
       "      <td>7000</td>\n",
       "    </tr>\n",
       "    <tr>\n",
       "      <th>3</th>\n",
       "      <td>Andaman and Nicobar</td>\n",
       "      <td>South Andaman</td>\n",
       "      <td>Port Blair</td>\n",
       "      <td>Bitter gourd</td>\n",
       "      <td>Other</td>\n",
       "      <td>04/03/2019</td>\n",
       "      <td>6000</td>\n",
       "      <td>8000</td>\n",
       "      <td>7000</td>\n",
       "    </tr>\n",
       "    <tr>\n",
       "      <th>4</th>\n",
       "      <td>Andaman and Nicobar</td>\n",
       "      <td>South Andaman</td>\n",
       "      <td>Port Blair</td>\n",
       "      <td>Black pepper</td>\n",
       "      <td>Other</td>\n",
       "      <td>04/03/2019</td>\n",
       "      <td>110000</td>\n",
       "      <td>130000</td>\n",
       "      <td>120000</td>\n",
       "    </tr>\n",
       "  </tbody>\n",
       "</table>\n",
       "</div>"
      ],
      "text/plain": [
       "                 state       district      market              commodity  \\\n",
       "0  Andaman and Nicobar  South Andaman  Port Blair             Amaranthus   \n",
       "1  Andaman and Nicobar  South Andaman  Port Blair         Banana - Green   \n",
       "2  Andaman and Nicobar  South Andaman  Port Blair  Bhindi(Ladies Finger)   \n",
       "3  Andaman and Nicobar  South Andaman  Port Blair           Bitter gourd   \n",
       "4  Andaman and Nicobar  South Andaman  Port Blair           Black pepper   \n",
       "\n",
       "          variety arrival_date  min_price  max_price  modal_price  \n",
       "0      Amaranthus   04/03/2019       6000       8000         7000  \n",
       "1  Banana - Green   04/03/2019       4500       5500         5000  \n",
       "2          Bhindi   04/03/2019       6000       8000         7000  \n",
       "3           Other   04/03/2019       6000       8000         7000  \n",
       "4           Other   04/03/2019     110000     130000       120000  "
      ]
     },
     "execution_count": 17,
     "metadata": {},
     "output_type": "execute_result"
    }
   ],
   "source": [
    "agriculture_related_data=pd.read_csv('/kaggle/input/all-agriculture-related-datasets-for-india/csv')\n",
    "agriculture_related_data.head()"
   ]
  },
  {
   "cell_type": "code",
   "execution_count": 18,
   "id": "18f15e7c",
   "metadata": {
    "execution": {
     "iopub.execute_input": "2023-02-10T17:04:35.931147Z",
     "iopub.status.busy": "2023-02-10T17:04:35.930614Z",
     "iopub.status.idle": "2023-02-10T17:04:35.940385Z",
     "shell.execute_reply": "2023-02-10T17:04:35.939200Z"
    },
    "papermill": {
     "duration": 0.030595,
     "end_time": "2023-02-10T17:04:35.944537",
     "exception": false,
     "start_time": "2023-02-10T17:04:35.913942",
     "status": "completed"
    },
    "tags": []
   },
   "outputs": [
    {
     "data": {
      "text/plain": [
       "(2238, 9)"
      ]
     },
     "execution_count": 18,
     "metadata": {},
     "output_type": "execute_result"
    }
   ],
   "source": [
    "agriculture_related_data.shape"
   ]
  },
  {
   "cell_type": "code",
   "execution_count": 19,
   "id": "48d1558c",
   "metadata": {
    "execution": {
     "iopub.execute_input": "2023-02-10T17:04:35.972185Z",
     "iopub.status.busy": "2023-02-10T17:04:35.971522Z",
     "iopub.status.idle": "2023-02-10T17:04:35.982338Z",
     "shell.execute_reply": "2023-02-10T17:04:35.981338Z"
    },
    "papermill": {
     "duration": 0.028694,
     "end_time": "2023-02-10T17:04:35.984744",
     "exception": false,
     "start_time": "2023-02-10T17:04:35.956050",
     "status": "completed"
    },
    "tags": []
   },
   "outputs": [
    {
     "data": {
      "text/plain": [
       "Index(['state', 'district', 'market', 'commodity', 'variety', 'arrival_date',\n",
       "       'min_price', 'max_price', 'modal_price'],\n",
       "      dtype='object')"
      ]
     },
     "execution_count": 19,
     "metadata": {},
     "output_type": "execute_result"
    }
   ],
   "source": [
    "agriculture_related_data.columns"
   ]
  },
  {
   "cell_type": "code",
   "execution_count": 20,
   "id": "c73210b0",
   "metadata": {
    "execution": {
     "iopub.execute_input": "2023-02-10T17:04:36.018097Z",
     "iopub.status.busy": "2023-02-10T17:04:36.017284Z",
     "iopub.status.idle": "2023-02-10T17:04:36.027615Z",
     "shell.execute_reply": "2023-02-10T17:04:36.026036Z"
    },
    "papermill": {
     "duration": 0.029801,
     "end_time": "2023-02-10T17:04:36.030591",
     "exception": false,
     "start_time": "2023-02-10T17:04:36.000790",
     "status": "completed"
    },
    "tags": []
   },
   "outputs": [
    {
     "data": {
      "text/plain": [
       "0"
      ]
     },
     "execution_count": 20,
     "metadata": {},
     "output_type": "execute_result"
    }
   ],
   "source": [
    "agriculture_related_data.isnull().sum().sum()"
   ]
  },
  {
   "cell_type": "code",
   "execution_count": 21,
   "id": "6f0de968",
   "metadata": {
    "execution": {
     "iopub.execute_input": "2023-02-10T17:04:36.053449Z",
     "iopub.status.busy": "2023-02-10T17:04:36.053036Z",
     "iopub.status.idle": "2023-02-10T17:04:36.064117Z",
     "shell.execute_reply": "2023-02-10T17:04:36.062994Z"
    },
    "papermill": {
     "duration": 0.025464,
     "end_time": "2023-02-10T17:04:36.066512",
     "exception": false,
     "start_time": "2023-02-10T17:04:36.041048",
     "status": "completed"
    },
    "tags": []
   },
   "outputs": [
    {
     "data": {
      "text/plain": [
       "0"
      ]
     },
     "execution_count": 21,
     "metadata": {},
     "output_type": "execute_result"
    }
   ],
   "source": [
    "agriculture_related_data.isna().sum().sum()"
   ]
  },
  {
   "cell_type": "code",
   "execution_count": null,
   "id": "4f53335b",
   "metadata": {
    "papermill": {
     "duration": 0.014586,
     "end_time": "2023-02-10T17:04:36.093647",
     "exception": false,
     "start_time": "2023-02-10T17:04:36.079061",
     "status": "completed"
    },
    "tags": []
   },
   "outputs": [],
   "source": []
  }
 ],
 "metadata": {
  "kernelspec": {
   "display_name": "Python 3",
   "language": "python",
   "name": "python3"
  },
  "language_info": {
   "codemirror_mode": {
    "name": "ipython",
    "version": 3
   },
   "file_extension": ".py",
   "mimetype": "text/x-python",
   "name": "python",
   "nbconvert_exporter": "python",
   "pygments_lexer": "ipython3",
   "version": "3.7.12"
  },
  "papermill": {
   "default_parameters": {},
   "duration": 10.078523,
   "end_time": "2023-02-10T17:04:36.832525",
   "environment_variables": {},
   "exception": null,
   "input_path": "__notebook__.ipynb",
   "output_path": "__notebook__.ipynb",
   "parameters": {},
   "start_time": "2023-02-10T17:04:26.754002",
   "version": "2.3.4"
  }
 },
 "nbformat": 4,
 "nbformat_minor": 5
}
