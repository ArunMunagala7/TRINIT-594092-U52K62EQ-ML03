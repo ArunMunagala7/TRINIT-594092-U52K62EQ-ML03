{
 "cells": [
  {
   "cell_type": "code",
   "execution_count": 1,
   "id": "42500480",
   "metadata": {
    "_cell_guid": "b1076dfc-b9ad-4769-8c92-a6c4dae69d19",
    "_uuid": "8f2839f25d086af736a60e9eeb907d3b93b6e0e5",
    "execution": {
     "iopub.execute_input": "2023-02-10T21:58:30.272246Z",
     "iopub.status.busy": "2023-02-10T21:58:30.271437Z",
     "iopub.status.idle": "2023-02-10T21:58:30.310932Z",
     "shell.execute_reply": "2023-02-10T21:58:30.309963Z"
    },
    "papermill": {
     "duration": 0.059641,
     "end_time": "2023-02-10T21:58:30.314026",
     "exception": false,
     "start_time": "2023-02-10T21:58:30.254385",
     "status": "completed"
    },
    "scrolled": true,
    "tags": []
   },
   "outputs": [
    {
     "name": "stdout",
     "output_type": "stream",
     "text": [
      "/kaggle/input/crop-recommendation-dataset/Crop_recommendation.csv\n",
      "/kaggle/input/all-agriculture-related-datasets-for-india/csv\n",
      "/kaggle/input/rainfall-in-india/rainfall in india 1901-2015.csv\n",
      "/kaggle/input/rainfall-in-india/district wise rainfall normal.csv\n",
      "/kaggle/input/historicalweatherdataforindiancities/Temperature_And_Precipitation_Cities_IN/Lucknow_1990_2022.csv\n",
      "/kaggle/input/historicalweatherdataforindiancities/Temperature_And_Precipitation_Cities_IN/Delhi_NCR_1990_2022_Safdarjung.csv\n",
      "/kaggle/input/historicalweatherdataforindiancities/Temperature_And_Precipitation_Cities_IN/weather_Rourkela_2021_2022.csv\n",
      "/kaggle/input/historicalweatherdataforindiancities/Temperature_And_Precipitation_Cities_IN/Chennai_1990_2022_Madras.csv\n",
      "/kaggle/input/historicalweatherdataforindiancities/Temperature_And_Precipitation_Cities_IN/Rajasthan_1990_2022_Jodhpur.csv\n",
      "/kaggle/input/historicalweatherdataforindiancities/Temperature_And_Precipitation_Cities_IN/Bangalore_1990_2022_BangaloreCity.csv\n",
      "/kaggle/input/historicalweatherdataforindiancities/Temperature_And_Precipitation_Cities_IN/Station_GeoLocation_Longitute_Latitude_Elevation_EPSG_4326.csv\n",
      "/kaggle/input/historicalweatherdataforindiancities/Temperature_And_Precipitation_Cities_IN/Mumbai_1990_2022_Santacruz.csv\n",
      "/kaggle/input/historicalweatherdataforindiancities/Temperature_And_Precipitation_Cities_IN/weather_Bhubhneshwar_1990_2022.csv\n"
     ]
    }
   ],
   "source": [
    "# This Python 3 environment comes with many helpful analytics libraries installed\n",
    "# It is defined by the kaggle/python Docker image: https://github.com/kaggle/docker-python\n",
    "# For example, here's several helpful packages to load\n",
    "\n",
    "import numpy as np # linear algebra\n",
    "import pandas as pd # data processing, CSV file I/O (e.g. pd.read_csv)\n",
    "\n",
    "# Input data files are available in the read-only \"../input/\" directory\n",
    "# For example, running this (by clicking run or pressing Shift+Enter) will list all files under the input directory\n",
    "\n",
    "import os\n",
    "for dirname, _, filenames in os.walk('/kaggle/input'):\n",
    "    for filename in filenames:\n",
    "        print(os.path.join(dirname, filename))\n",
    "\n",
    "# You can write up to 20GB to the current directory (/kaggle/working/) that gets preserved as output when you create a version using \"Save & Run All\" \n",
    "# You can also write temporary files to /kaggle/temp/, but they won't be saved outside of the current session"
   ]
  },
  {
   "cell_type": "markdown",
   "id": "5bbd36d0",
   "metadata": {
    "papermill": {
     "duration": 0.013333,
     "end_time": "2023-02-10T21:58:30.341442",
     "exception": false,
     "start_time": "2023-02-10T21:58:30.328109",
     "status": "completed"
    },
    "tags": []
   },
   "source": [
    "extracting the rainfall data and viewing the features accordingly"
   ]
  },
  {
   "cell_type": "code",
   "execution_count": 2,
   "id": "12fdb40f",
   "metadata": {
    "execution": {
     "iopub.execute_input": "2023-02-10T21:58:30.372669Z",
     "iopub.status.busy": "2023-02-10T21:58:30.371906Z",
     "iopub.status.idle": "2023-02-10T21:58:30.420277Z",
     "shell.execute_reply": "2023-02-10T21:58:30.418987Z"
    },
    "papermill": {
     "duration": 0.066385,
     "end_time": "2023-02-10T21:58:30.423206",
     "exception": false,
     "start_time": "2023-02-10T21:58:30.356821",
     "status": "completed"
    },
    "tags": []
   },
   "outputs": [],
   "source": [
    "district_rainfall_data=pd.read_csv('/kaggle/input/rainfall-in-india/district wise rainfall normal.csv')\n",
    "india_rainfall_data=pd.read_csv('/kaggle/input/rainfall-in-india/rainfall in india 1901-2015.csv')"
   ]
  },
  {
   "cell_type": "code",
   "execution_count": 3,
   "id": "25382c11",
   "metadata": {
    "execution": {
     "iopub.execute_input": "2023-02-10T21:58:30.452857Z",
     "iopub.status.busy": "2023-02-10T21:58:30.452471Z",
     "iopub.status.idle": "2023-02-10T21:58:30.491080Z",
     "shell.execute_reply": "2023-02-10T21:58:30.489566Z"
    },
    "papermill": {
     "duration": 0.05704,
     "end_time": "2023-02-10T21:58:30.494049",
     "exception": false,
     "start_time": "2023-02-10T21:58:30.437009",
     "status": "completed"
    },
    "tags": []
   },
   "outputs": [
    {
     "data": {
      "text/html": [
       "<div>\n",
       "<style scoped>\n",
       "    .dataframe tbody tr th:only-of-type {\n",
       "        vertical-align: middle;\n",
       "    }\n",
       "\n",
       "    .dataframe tbody tr th {\n",
       "        vertical-align: top;\n",
       "    }\n",
       "\n",
       "    .dataframe thead th {\n",
       "        text-align: right;\n",
       "    }\n",
       "</style>\n",
       "<table border=\"1\" class=\"dataframe\">\n",
       "  <thead>\n",
       "    <tr style=\"text-align: right;\">\n",
       "      <th></th>\n",
       "      <th>STATE_UT_NAME</th>\n",
       "      <th>DISTRICT</th>\n",
       "      <th>JAN</th>\n",
       "      <th>FEB</th>\n",
       "      <th>MAR</th>\n",
       "      <th>APR</th>\n",
       "      <th>MAY</th>\n",
       "      <th>JUN</th>\n",
       "      <th>JUL</th>\n",
       "      <th>AUG</th>\n",
       "      <th>SEP</th>\n",
       "      <th>OCT</th>\n",
       "      <th>NOV</th>\n",
       "      <th>DEC</th>\n",
       "      <th>ANNUAL</th>\n",
       "      <th>Jan-Feb</th>\n",
       "      <th>Mar-May</th>\n",
       "      <th>Jun-Sep</th>\n",
       "      <th>Oct-Dec</th>\n",
       "    </tr>\n",
       "  </thead>\n",
       "  <tbody>\n",
       "    <tr>\n",
       "      <th>0</th>\n",
       "      <td>ANDAMAN And NICOBAR ISLANDS</td>\n",
       "      <td>NICOBAR</td>\n",
       "      <td>107.3</td>\n",
       "      <td>57.9</td>\n",
       "      <td>65.2</td>\n",
       "      <td>117.0</td>\n",
       "      <td>358.5</td>\n",
       "      <td>295.5</td>\n",
       "      <td>285.0</td>\n",
       "      <td>271.9</td>\n",
       "      <td>354.8</td>\n",
       "      <td>326.0</td>\n",
       "      <td>315.2</td>\n",
       "      <td>250.9</td>\n",
       "      <td>2805.2</td>\n",
       "      <td>165.2</td>\n",
       "      <td>540.7</td>\n",
       "      <td>1207.2</td>\n",
       "      <td>892.1</td>\n",
       "    </tr>\n",
       "    <tr>\n",
       "      <th>1</th>\n",
       "      <td>ANDAMAN And NICOBAR ISLANDS</td>\n",
       "      <td>SOUTH ANDAMAN</td>\n",
       "      <td>43.7</td>\n",
       "      <td>26.0</td>\n",
       "      <td>18.6</td>\n",
       "      <td>90.5</td>\n",
       "      <td>374.4</td>\n",
       "      <td>457.2</td>\n",
       "      <td>421.3</td>\n",
       "      <td>423.1</td>\n",
       "      <td>455.6</td>\n",
       "      <td>301.2</td>\n",
       "      <td>275.8</td>\n",
       "      <td>128.3</td>\n",
       "      <td>3015.7</td>\n",
       "      <td>69.7</td>\n",
       "      <td>483.5</td>\n",
       "      <td>1757.2</td>\n",
       "      <td>705.3</td>\n",
       "    </tr>\n",
       "    <tr>\n",
       "      <th>2</th>\n",
       "      <td>ANDAMAN And NICOBAR ISLANDS</td>\n",
       "      <td>N &amp; M ANDAMAN</td>\n",
       "      <td>32.7</td>\n",
       "      <td>15.9</td>\n",
       "      <td>8.6</td>\n",
       "      <td>53.4</td>\n",
       "      <td>343.6</td>\n",
       "      <td>503.3</td>\n",
       "      <td>465.4</td>\n",
       "      <td>460.9</td>\n",
       "      <td>454.8</td>\n",
       "      <td>276.1</td>\n",
       "      <td>198.6</td>\n",
       "      <td>100.0</td>\n",
       "      <td>2913.3</td>\n",
       "      <td>48.6</td>\n",
       "      <td>405.6</td>\n",
       "      <td>1884.4</td>\n",
       "      <td>574.7</td>\n",
       "    </tr>\n",
       "    <tr>\n",
       "      <th>3</th>\n",
       "      <td>ARUNACHAL PRADESH</td>\n",
       "      <td>LOHIT</td>\n",
       "      <td>42.2</td>\n",
       "      <td>80.8</td>\n",
       "      <td>176.4</td>\n",
       "      <td>358.5</td>\n",
       "      <td>306.4</td>\n",
       "      <td>447.0</td>\n",
       "      <td>660.1</td>\n",
       "      <td>427.8</td>\n",
       "      <td>313.6</td>\n",
       "      <td>167.1</td>\n",
       "      <td>34.1</td>\n",
       "      <td>29.8</td>\n",
       "      <td>3043.8</td>\n",
       "      <td>123.0</td>\n",
       "      <td>841.3</td>\n",
       "      <td>1848.5</td>\n",
       "      <td>231.0</td>\n",
       "    </tr>\n",
       "    <tr>\n",
       "      <th>4</th>\n",
       "      <td>ARUNACHAL PRADESH</td>\n",
       "      <td>EAST SIANG</td>\n",
       "      <td>33.3</td>\n",
       "      <td>79.5</td>\n",
       "      <td>105.9</td>\n",
       "      <td>216.5</td>\n",
       "      <td>323.0</td>\n",
       "      <td>738.3</td>\n",
       "      <td>990.9</td>\n",
       "      <td>711.2</td>\n",
       "      <td>568.0</td>\n",
       "      <td>206.9</td>\n",
       "      <td>29.5</td>\n",
       "      <td>31.7</td>\n",
       "      <td>4034.7</td>\n",
       "      <td>112.8</td>\n",
       "      <td>645.4</td>\n",
       "      <td>3008.4</td>\n",
       "      <td>268.1</td>\n",
       "    </tr>\n",
       "  </tbody>\n",
       "</table>\n",
       "</div>"
      ],
      "text/plain": [
       "                 STATE_UT_NAME       DISTRICT    JAN   FEB    MAR    APR  \\\n",
       "0  ANDAMAN And NICOBAR ISLANDS        NICOBAR  107.3  57.9   65.2  117.0   \n",
       "1  ANDAMAN And NICOBAR ISLANDS  SOUTH ANDAMAN   43.7  26.0   18.6   90.5   \n",
       "2  ANDAMAN And NICOBAR ISLANDS  N & M ANDAMAN   32.7  15.9    8.6   53.4   \n",
       "3            ARUNACHAL PRADESH          LOHIT   42.2  80.8  176.4  358.5   \n",
       "4            ARUNACHAL PRADESH     EAST SIANG   33.3  79.5  105.9  216.5   \n",
       "\n",
       "     MAY    JUN    JUL    AUG    SEP    OCT    NOV    DEC  ANNUAL  Jan-Feb  \\\n",
       "0  358.5  295.5  285.0  271.9  354.8  326.0  315.2  250.9  2805.2    165.2   \n",
       "1  374.4  457.2  421.3  423.1  455.6  301.2  275.8  128.3  3015.7     69.7   \n",
       "2  343.6  503.3  465.4  460.9  454.8  276.1  198.6  100.0  2913.3     48.6   \n",
       "3  306.4  447.0  660.1  427.8  313.6  167.1   34.1   29.8  3043.8    123.0   \n",
       "4  323.0  738.3  990.9  711.2  568.0  206.9   29.5   31.7  4034.7    112.8   \n",
       "\n",
       "   Mar-May  Jun-Sep  Oct-Dec  \n",
       "0    540.7   1207.2    892.1  \n",
       "1    483.5   1757.2    705.3  \n",
       "2    405.6   1884.4    574.7  \n",
       "3    841.3   1848.5    231.0  \n",
       "4    645.4   3008.4    268.1  "
      ]
     },
     "execution_count": 3,
     "metadata": {},
     "output_type": "execute_result"
    }
   ],
   "source": [
    "district_rainfall_data.head()"
   ]
  },
  {
   "cell_type": "code",
   "execution_count": 4,
   "id": "b6537e96",
   "metadata": {
    "execution": {
     "iopub.execute_input": "2023-02-10T21:58:30.528547Z",
     "iopub.status.busy": "2023-02-10T21:58:30.527866Z",
     "iopub.status.idle": "2023-02-10T21:58:30.554589Z",
     "shell.execute_reply": "2023-02-10T21:58:30.553384Z"
    },
    "papermill": {
     "duration": 0.045504,
     "end_time": "2023-02-10T21:58:30.557285",
     "exception": false,
     "start_time": "2023-02-10T21:58:30.511781",
     "status": "completed"
    },
    "tags": []
   },
   "outputs": [
    {
     "data": {
      "text/html": [
       "<div>\n",
       "<style scoped>\n",
       "    .dataframe tbody tr th:only-of-type {\n",
       "        vertical-align: middle;\n",
       "    }\n",
       "\n",
       "    .dataframe tbody tr th {\n",
       "        vertical-align: top;\n",
       "    }\n",
       "\n",
       "    .dataframe thead th {\n",
       "        text-align: right;\n",
       "    }\n",
       "</style>\n",
       "<table border=\"1\" class=\"dataframe\">\n",
       "  <thead>\n",
       "    <tr style=\"text-align: right;\">\n",
       "      <th></th>\n",
       "      <th>SUBDIVISION</th>\n",
       "      <th>YEAR</th>\n",
       "      <th>JAN</th>\n",
       "      <th>FEB</th>\n",
       "      <th>MAR</th>\n",
       "      <th>APR</th>\n",
       "      <th>MAY</th>\n",
       "      <th>JUN</th>\n",
       "      <th>JUL</th>\n",
       "      <th>AUG</th>\n",
       "      <th>SEP</th>\n",
       "      <th>OCT</th>\n",
       "      <th>NOV</th>\n",
       "      <th>DEC</th>\n",
       "      <th>ANNUAL</th>\n",
       "      <th>Jan-Feb</th>\n",
       "      <th>Mar-May</th>\n",
       "      <th>Jun-Sep</th>\n",
       "      <th>Oct-Dec</th>\n",
       "    </tr>\n",
       "  </thead>\n",
       "  <tbody>\n",
       "    <tr>\n",
       "      <th>0</th>\n",
       "      <td>ANDAMAN &amp; NICOBAR ISLANDS</td>\n",
       "      <td>1901</td>\n",
       "      <td>49.2</td>\n",
       "      <td>87.1</td>\n",
       "      <td>29.2</td>\n",
       "      <td>2.3</td>\n",
       "      <td>528.8</td>\n",
       "      <td>517.5</td>\n",
       "      <td>365.1</td>\n",
       "      <td>481.1</td>\n",
       "      <td>332.6</td>\n",
       "      <td>388.5</td>\n",
       "      <td>558.2</td>\n",
       "      <td>33.6</td>\n",
       "      <td>3373.2</td>\n",
       "      <td>136.3</td>\n",
       "      <td>560.3</td>\n",
       "      <td>1696.3</td>\n",
       "      <td>980.3</td>\n",
       "    </tr>\n",
       "    <tr>\n",
       "      <th>1</th>\n",
       "      <td>ANDAMAN &amp; NICOBAR ISLANDS</td>\n",
       "      <td>1902</td>\n",
       "      <td>0.0</td>\n",
       "      <td>159.8</td>\n",
       "      <td>12.2</td>\n",
       "      <td>0.0</td>\n",
       "      <td>446.1</td>\n",
       "      <td>537.1</td>\n",
       "      <td>228.9</td>\n",
       "      <td>753.7</td>\n",
       "      <td>666.2</td>\n",
       "      <td>197.2</td>\n",
       "      <td>359.0</td>\n",
       "      <td>160.5</td>\n",
       "      <td>3520.7</td>\n",
       "      <td>159.8</td>\n",
       "      <td>458.3</td>\n",
       "      <td>2185.9</td>\n",
       "      <td>716.7</td>\n",
       "    </tr>\n",
       "    <tr>\n",
       "      <th>2</th>\n",
       "      <td>ANDAMAN &amp; NICOBAR ISLANDS</td>\n",
       "      <td>1903</td>\n",
       "      <td>12.7</td>\n",
       "      <td>144.0</td>\n",
       "      <td>0.0</td>\n",
       "      <td>1.0</td>\n",
       "      <td>235.1</td>\n",
       "      <td>479.9</td>\n",
       "      <td>728.4</td>\n",
       "      <td>326.7</td>\n",
       "      <td>339.0</td>\n",
       "      <td>181.2</td>\n",
       "      <td>284.4</td>\n",
       "      <td>225.0</td>\n",
       "      <td>2957.4</td>\n",
       "      <td>156.7</td>\n",
       "      <td>236.1</td>\n",
       "      <td>1874.0</td>\n",
       "      <td>690.6</td>\n",
       "    </tr>\n",
       "    <tr>\n",
       "      <th>3</th>\n",
       "      <td>ANDAMAN &amp; NICOBAR ISLANDS</td>\n",
       "      <td>1904</td>\n",
       "      <td>9.4</td>\n",
       "      <td>14.7</td>\n",
       "      <td>0.0</td>\n",
       "      <td>202.4</td>\n",
       "      <td>304.5</td>\n",
       "      <td>495.1</td>\n",
       "      <td>502.0</td>\n",
       "      <td>160.1</td>\n",
       "      <td>820.4</td>\n",
       "      <td>222.2</td>\n",
       "      <td>308.7</td>\n",
       "      <td>40.1</td>\n",
       "      <td>3079.6</td>\n",
       "      <td>24.1</td>\n",
       "      <td>506.9</td>\n",
       "      <td>1977.6</td>\n",
       "      <td>571.0</td>\n",
       "    </tr>\n",
       "    <tr>\n",
       "      <th>4</th>\n",
       "      <td>ANDAMAN &amp; NICOBAR ISLANDS</td>\n",
       "      <td>1905</td>\n",
       "      <td>1.3</td>\n",
       "      <td>0.0</td>\n",
       "      <td>3.3</td>\n",
       "      <td>26.9</td>\n",
       "      <td>279.5</td>\n",
       "      <td>628.7</td>\n",
       "      <td>368.7</td>\n",
       "      <td>330.5</td>\n",
       "      <td>297.0</td>\n",
       "      <td>260.7</td>\n",
       "      <td>25.4</td>\n",
       "      <td>344.7</td>\n",
       "      <td>2566.7</td>\n",
       "      <td>1.3</td>\n",
       "      <td>309.7</td>\n",
       "      <td>1624.9</td>\n",
       "      <td>630.8</td>\n",
       "    </tr>\n",
       "  </tbody>\n",
       "</table>\n",
       "</div>"
      ],
      "text/plain": [
       "                 SUBDIVISION  YEAR   JAN    FEB   MAR    APR    MAY    JUN  \\\n",
       "0  ANDAMAN & NICOBAR ISLANDS  1901  49.2   87.1  29.2    2.3  528.8  517.5   \n",
       "1  ANDAMAN & NICOBAR ISLANDS  1902   0.0  159.8  12.2    0.0  446.1  537.1   \n",
       "2  ANDAMAN & NICOBAR ISLANDS  1903  12.7  144.0   0.0    1.0  235.1  479.9   \n",
       "3  ANDAMAN & NICOBAR ISLANDS  1904   9.4   14.7   0.0  202.4  304.5  495.1   \n",
       "4  ANDAMAN & NICOBAR ISLANDS  1905   1.3    0.0   3.3   26.9  279.5  628.7   \n",
       "\n",
       "     JUL    AUG    SEP    OCT    NOV    DEC  ANNUAL  Jan-Feb  Mar-May  \\\n",
       "0  365.1  481.1  332.6  388.5  558.2   33.6  3373.2    136.3    560.3   \n",
       "1  228.9  753.7  666.2  197.2  359.0  160.5  3520.7    159.8    458.3   \n",
       "2  728.4  326.7  339.0  181.2  284.4  225.0  2957.4    156.7    236.1   \n",
       "3  502.0  160.1  820.4  222.2  308.7   40.1  3079.6     24.1    506.9   \n",
       "4  368.7  330.5  297.0  260.7   25.4  344.7  2566.7      1.3    309.7   \n",
       "\n",
       "   Jun-Sep  Oct-Dec  \n",
       "0   1696.3    980.3  \n",
       "1   2185.9    716.7  \n",
       "2   1874.0    690.6  \n",
       "3   1977.6    571.0  \n",
       "4   1624.9    630.8  "
      ]
     },
     "execution_count": 4,
     "metadata": {},
     "output_type": "execute_result"
    }
   ],
   "source": [
    "india_rainfall_data.head()"
   ]
  },
  {
   "cell_type": "markdown",
   "id": "5d899991",
   "metadata": {
    "papermill": {
     "duration": 0.015624,
     "end_time": "2023-02-10T21:58:30.587249",
     "exception": false,
     "start_time": "2023-02-10T21:58:30.571625",
     "status": "completed"
    },
    "tags": []
   },
   "source": [
    "printing all the unique values in the rainfall dataset"
   ]
  },
  {
   "cell_type": "code",
   "execution_count": 5,
   "id": "cf8673ad",
   "metadata": {
    "execution": {
     "iopub.execute_input": "2023-02-10T21:58:30.626546Z",
     "iopub.status.busy": "2023-02-10T21:58:30.625734Z",
     "iopub.status.idle": "2023-02-10T21:58:30.647620Z",
     "shell.execute_reply": "2023-02-10T21:58:30.646191Z"
    },
    "papermill": {
     "duration": 0.046394,
     "end_time": "2023-02-10T21:58:30.651559",
     "exception": false,
     "start_time": "2023-02-10T21:58:30.605165",
     "status": "completed"
    },
    "tags": []
   },
   "outputs": [
    {
     "name": "stdout",
     "output_type": "stream",
     "text": [
      "['ANDAMAN & NICOBAR ISLANDS' 'ARUNACHAL PRADESH' 'ASSAM & MEGHALAYA'\n",
      " 'NAGA MANI MIZO TRIPURA' 'SUB HIMALAYAN WEST BENGAL & SIKKIM'\n",
      " 'GANGETIC WEST BENGAL' 'ORISSA' 'JHARKHAND' 'BIHAR' 'EAST UTTAR PRADESH'\n",
      " 'WEST UTTAR PRADESH' 'UTTARAKHAND' 'HARYANA DELHI & CHANDIGARH' 'PUNJAB'\n",
      " 'HIMACHAL PRADESH' 'JAMMU & KASHMIR' 'WEST RAJASTHAN' 'EAST RAJASTHAN'\n",
      " 'WEST MADHYA PRADESH' 'EAST MADHYA PRADESH' 'GUJARAT REGION'\n",
      " 'SAURASHTRA & KUTCH' 'KONKAN & GOA' 'MADHYA MAHARASHTRA' 'MATATHWADA'\n",
      " 'VIDARBHA' 'CHHATTISGARH' 'COASTAL ANDHRA PRADESH' 'TELANGANA'\n",
      " 'RAYALSEEMA' 'TAMIL NADU' 'COASTAL KARNATAKA' 'NORTH INTERIOR KARNATAKA'\n",
      " 'SOUTH INTERIOR KARNATAKA' 'KERALA' 'LAKSHADWEEP']\n"
     ]
    }
   ],
   "source": [
    "unique_values=india_rainfall_data['SUBDIVISION'].unique()\n",
    "print(unique_values)"
   ]
  },
  {
   "cell_type": "markdown",
   "id": "31edd39d",
   "metadata": {
    "papermill": {
     "duration": 0.014509,
     "end_time": "2023-02-10T21:58:30.681317",
     "exception": false,
     "start_time": "2023-02-10T21:58:30.666808",
     "status": "completed"
    },
    "tags": []
   },
   "source": [
    "checking for null values"
   ]
  },
  {
   "cell_type": "code",
   "execution_count": 6,
   "id": "44152c36",
   "metadata": {
    "execution": {
     "iopub.execute_input": "2023-02-10T21:58:30.713320Z",
     "iopub.status.busy": "2023-02-10T21:58:30.712955Z",
     "iopub.status.idle": "2023-02-10T21:58:30.719761Z",
     "shell.execute_reply": "2023-02-10T21:58:30.718600Z"
    },
    "papermill": {
     "duration": 0.02567,
     "end_time": "2023-02-10T21:58:30.722046",
     "exception": false,
     "start_time": "2023-02-10T21:58:30.696376",
     "status": "completed"
    },
    "tags": []
   },
   "outputs": [
    {
     "data": {
      "text/plain": [
       "(4116, 19)"
      ]
     },
     "execution_count": 6,
     "metadata": {},
     "output_type": "execute_result"
    }
   ],
   "source": [
    "india_rainfall_data.shape"
   ]
  },
  {
   "cell_type": "markdown",
   "id": "c9eb335b",
   "metadata": {
    "papermill": {
     "duration": 0.014088,
     "end_time": "2023-02-10T21:58:30.750621",
     "exception": false,
     "start_time": "2023-02-10T21:58:30.736533",
     "status": "completed"
    },
    "tags": []
   },
   "source": [
    "checking total null values"
   ]
  },
  {
   "cell_type": "code",
   "execution_count": 7,
   "id": "34641580",
   "metadata": {
    "execution": {
     "iopub.execute_input": "2023-02-10T21:58:30.781733Z",
     "iopub.status.busy": "2023-02-10T21:58:30.780940Z",
     "iopub.status.idle": "2023-02-10T21:58:30.790367Z",
     "shell.execute_reply": "2023-02-10T21:58:30.789267Z"
    },
    "papermill": {
     "duration": 0.028174,
     "end_time": "2023-02-10T21:58:30.793100",
     "exception": false,
     "start_time": "2023-02-10T21:58:30.764926",
     "status": "completed"
    },
    "tags": []
   },
   "outputs": [
    {
     "data": {
      "text/plain": [
       "134"
      ]
     },
     "execution_count": 7,
     "metadata": {},
     "output_type": "execute_result"
    }
   ],
   "source": [
    "india_rainfall_data.isnull().sum().sum()"
   ]
  },
  {
   "cell_type": "markdown",
   "id": "548cd6ad",
   "metadata": {
    "papermill": {
     "duration": 0.014727,
     "end_time": "2023-02-10T21:58:30.822584",
     "exception": false,
     "start_time": "2023-02-10T21:58:30.807857",
     "status": "completed"
    },
    "tags": []
   },
   "source": [
    "checking the columns that have said null values"
   ]
  },
  {
   "cell_type": "code",
   "execution_count": 8,
   "id": "6081add6",
   "metadata": {
    "execution": {
     "iopub.execute_input": "2023-02-10T21:58:30.853651Z",
     "iopub.status.busy": "2023-02-10T21:58:30.853219Z",
     "iopub.status.idle": "2023-02-10T21:58:30.863400Z",
     "shell.execute_reply": "2023-02-10T21:58:30.862129Z"
    },
    "papermill": {
     "duration": 0.028569,
     "end_time": "2023-02-10T21:58:30.865721",
     "exception": false,
     "start_time": "2023-02-10T21:58:30.837152",
     "status": "completed"
    },
    "tags": []
   },
   "outputs": [
    {
     "data": {
      "text/plain": [
       "SUBDIVISION     0\n",
       "YEAR            0\n",
       "JAN             4\n",
       "FEB             3\n",
       "MAR             6\n",
       "APR             4\n",
       "MAY             3\n",
       "JUN             5\n",
       "JUL             7\n",
       "AUG             4\n",
       "SEP             6\n",
       "OCT             7\n",
       "NOV            11\n",
       "DEC            10\n",
       "ANNUAL         26\n",
       "Jan-Feb         6\n",
       "Mar-May         9\n",
       "Jun-Sep        10\n",
       "Oct-Dec        13\n",
       "dtype: int64"
      ]
     },
     "execution_count": 8,
     "metadata": {},
     "output_type": "execute_result"
    }
   ],
   "source": [
    "missing_values_count=india_rainfall_data.isnull().sum()\n",
    "missing_values_count"
   ]
  },
  {
   "cell_type": "markdown",
   "id": "3c018d0f",
   "metadata": {
    "papermill": {
     "duration": 0.014384,
     "end_time": "2023-02-10T21:58:30.895027",
     "exception": false,
     "start_time": "2023-02-10T21:58:30.880643",
     "status": "completed"
    },
    "tags": []
   },
   "source": [
    "check percentage of null values"
   ]
  },
  {
   "cell_type": "code",
   "execution_count": 9,
   "id": "d65230e0",
   "metadata": {
    "execution": {
     "iopub.execute_input": "2023-02-10T21:58:30.926601Z",
     "iopub.status.busy": "2023-02-10T21:58:30.925995Z",
     "iopub.status.idle": "2023-02-10T21:58:30.932427Z",
     "shell.execute_reply": "2023-02-10T21:58:30.930792Z"
    },
    "papermill": {
     "duration": 0.025223,
     "end_time": "2023-02-10T21:58:30.934937",
     "exception": false,
     "start_time": "2023-02-10T21:58:30.909714",
     "status": "completed"
    },
    "tags": []
   },
   "outputs": [
    {
     "name": "stdout",
     "output_type": "stream",
     "text": [
      "0.17134673418239477\n"
     ]
    }
   ],
   "source": [
    "total_cells = np.product(india_rainfall_data.shape)\n",
    "total_missing = missing_values_count.sum()\n",
    "\n",
    "# percent of data that is missing\n",
    "percent_missing = (total_missing/total_cells) * 100\n",
    "print(percent_missing)"
   ]
  },
  {
   "cell_type": "markdown",
   "id": "fa720ce9",
   "metadata": {
    "papermill": {
     "duration": 0.014066,
     "end_time": "2023-02-10T21:58:30.963821",
     "exception": false,
     "start_time": "2023-02-10T21:58:30.949755",
     "status": "completed"
    },
    "tags": []
   },
   "source": [
    "removing all the na values"
   ]
  },
  {
   "cell_type": "code",
   "execution_count": 10,
   "id": "ab00df3a",
   "metadata": {
    "execution": {
     "iopub.execute_input": "2023-02-10T21:58:30.994649Z",
     "iopub.status.busy": "2023-02-10T21:58:30.993986Z",
     "iopub.status.idle": "2023-02-10T21:58:31.009579Z",
     "shell.execute_reply": "2023-02-10T21:58:31.008218Z"
    },
    "papermill": {
     "duration": 0.033576,
     "end_time": "2023-02-10T21:58:31.011957",
     "exception": false,
     "start_time": "2023-02-10T21:58:30.978381",
     "status": "completed"
    },
    "tags": []
   },
   "outputs": [
    {
     "data": {
      "text/plain": [
       "0"
      ]
     },
     "execution_count": 10,
     "metadata": {},
     "output_type": "execute_result"
    }
   ],
   "source": [
    "rainfall_india_clean=india_rainfall_data.dropna()\n",
    "rainfall_india_clean.isnull().sum().sum()"
   ]
  },
  {
   "cell_type": "markdown",
   "id": "88213fb8",
   "metadata": {
    "papermill": {
     "duration": 0.014492,
     "end_time": "2023-02-10T21:58:31.041425",
     "exception": false,
     "start_time": "2023-02-10T21:58:31.026933",
     "status": "completed"
    },
    "tags": []
   },
   "source": [
    "checking Nan values"
   ]
  },
  {
   "cell_type": "code",
   "execution_count": 11,
   "id": "b598214a",
   "metadata": {
    "execution": {
     "iopub.execute_input": "2023-02-10T21:58:31.073337Z",
     "iopub.status.busy": "2023-02-10T21:58:31.072149Z",
     "iopub.status.idle": "2023-02-10T21:58:31.081322Z",
     "shell.execute_reply": "2023-02-10T21:58:31.080243Z"
    },
    "papermill": {
     "duration": 0.027976,
     "end_time": "2023-02-10T21:58:31.084132",
     "exception": false,
     "start_time": "2023-02-10T21:58:31.056156",
     "status": "completed"
    },
    "tags": []
   },
   "outputs": [
    {
     "data": {
      "text/plain": [
       "0"
      ]
     },
     "execution_count": 11,
     "metadata": {},
     "output_type": "execute_result"
    }
   ],
   "source": [
    "rainfall_india_clean.isna().sum().sum()"
   ]
  },
  {
   "cell_type": "markdown",
   "id": "8eb05cc2",
   "metadata": {
    "papermill": {
     "duration": 0.014452,
     "end_time": "2023-02-10T21:58:31.113589",
     "exception": false,
     "start_time": "2023-02-10T21:58:31.099137",
     "status": "completed"
    },
    "tags": []
   },
   "source": [
    "viewing the final rainfall clean dataset"
   ]
  },
  {
   "cell_type": "code",
   "execution_count": 12,
   "id": "b645add5",
   "metadata": {
    "execution": {
     "iopub.execute_input": "2023-02-10T21:58:31.144858Z",
     "iopub.status.busy": "2023-02-10T21:58:31.144472Z",
     "iopub.status.idle": "2023-02-10T21:58:31.172223Z",
     "shell.execute_reply": "2023-02-10T21:58:31.171176Z"
    },
    "papermill": {
     "duration": 0.046447,
     "end_time": "2023-02-10T21:58:31.174773",
     "exception": false,
     "start_time": "2023-02-10T21:58:31.128326",
     "status": "completed"
    },
    "tags": []
   },
   "outputs": [
    {
     "data": {
      "text/html": [
       "<div>\n",
       "<style scoped>\n",
       "    .dataframe tbody tr th:only-of-type {\n",
       "        vertical-align: middle;\n",
       "    }\n",
       "\n",
       "    .dataframe tbody tr th {\n",
       "        vertical-align: top;\n",
       "    }\n",
       "\n",
       "    .dataframe thead th {\n",
       "        text-align: right;\n",
       "    }\n",
       "</style>\n",
       "<table border=\"1\" class=\"dataframe\">\n",
       "  <thead>\n",
       "    <tr style=\"text-align: right;\">\n",
       "      <th></th>\n",
       "      <th>SUBDIVISION</th>\n",
       "      <th>YEAR</th>\n",
       "      <th>JAN</th>\n",
       "      <th>FEB</th>\n",
       "      <th>MAR</th>\n",
       "      <th>APR</th>\n",
       "      <th>MAY</th>\n",
       "      <th>JUN</th>\n",
       "      <th>JUL</th>\n",
       "      <th>AUG</th>\n",
       "      <th>SEP</th>\n",
       "      <th>OCT</th>\n",
       "      <th>NOV</th>\n",
       "      <th>DEC</th>\n",
       "      <th>ANNUAL</th>\n",
       "      <th>Jan-Feb</th>\n",
       "      <th>Mar-May</th>\n",
       "      <th>Jun-Sep</th>\n",
       "      <th>Oct-Dec</th>\n",
       "    </tr>\n",
       "  </thead>\n",
       "  <tbody>\n",
       "    <tr>\n",
       "      <th>0</th>\n",
       "      <td>ANDAMAN &amp; NICOBAR ISLANDS</td>\n",
       "      <td>1901</td>\n",
       "      <td>49.2</td>\n",
       "      <td>87.1</td>\n",
       "      <td>29.2</td>\n",
       "      <td>2.3</td>\n",
       "      <td>528.8</td>\n",
       "      <td>517.5</td>\n",
       "      <td>365.1</td>\n",
       "      <td>481.1</td>\n",
       "      <td>332.6</td>\n",
       "      <td>388.5</td>\n",
       "      <td>558.2</td>\n",
       "      <td>33.6</td>\n",
       "      <td>3373.2</td>\n",
       "      <td>136.3</td>\n",
       "      <td>560.3</td>\n",
       "      <td>1696.3</td>\n",
       "      <td>980.3</td>\n",
       "    </tr>\n",
       "    <tr>\n",
       "      <th>1</th>\n",
       "      <td>ANDAMAN &amp; NICOBAR ISLANDS</td>\n",
       "      <td>1902</td>\n",
       "      <td>0.0</td>\n",
       "      <td>159.8</td>\n",
       "      <td>12.2</td>\n",
       "      <td>0.0</td>\n",
       "      <td>446.1</td>\n",
       "      <td>537.1</td>\n",
       "      <td>228.9</td>\n",
       "      <td>753.7</td>\n",
       "      <td>666.2</td>\n",
       "      <td>197.2</td>\n",
       "      <td>359.0</td>\n",
       "      <td>160.5</td>\n",
       "      <td>3520.7</td>\n",
       "      <td>159.8</td>\n",
       "      <td>458.3</td>\n",
       "      <td>2185.9</td>\n",
       "      <td>716.7</td>\n",
       "    </tr>\n",
       "    <tr>\n",
       "      <th>2</th>\n",
       "      <td>ANDAMAN &amp; NICOBAR ISLANDS</td>\n",
       "      <td>1903</td>\n",
       "      <td>12.7</td>\n",
       "      <td>144.0</td>\n",
       "      <td>0.0</td>\n",
       "      <td>1.0</td>\n",
       "      <td>235.1</td>\n",
       "      <td>479.9</td>\n",
       "      <td>728.4</td>\n",
       "      <td>326.7</td>\n",
       "      <td>339.0</td>\n",
       "      <td>181.2</td>\n",
       "      <td>284.4</td>\n",
       "      <td>225.0</td>\n",
       "      <td>2957.4</td>\n",
       "      <td>156.7</td>\n",
       "      <td>236.1</td>\n",
       "      <td>1874.0</td>\n",
       "      <td>690.6</td>\n",
       "    </tr>\n",
       "    <tr>\n",
       "      <th>3</th>\n",
       "      <td>ANDAMAN &amp; NICOBAR ISLANDS</td>\n",
       "      <td>1904</td>\n",
       "      <td>9.4</td>\n",
       "      <td>14.7</td>\n",
       "      <td>0.0</td>\n",
       "      <td>202.4</td>\n",
       "      <td>304.5</td>\n",
       "      <td>495.1</td>\n",
       "      <td>502.0</td>\n",
       "      <td>160.1</td>\n",
       "      <td>820.4</td>\n",
       "      <td>222.2</td>\n",
       "      <td>308.7</td>\n",
       "      <td>40.1</td>\n",
       "      <td>3079.6</td>\n",
       "      <td>24.1</td>\n",
       "      <td>506.9</td>\n",
       "      <td>1977.6</td>\n",
       "      <td>571.0</td>\n",
       "    </tr>\n",
       "    <tr>\n",
       "      <th>4</th>\n",
       "      <td>ANDAMAN &amp; NICOBAR ISLANDS</td>\n",
       "      <td>1905</td>\n",
       "      <td>1.3</td>\n",
       "      <td>0.0</td>\n",
       "      <td>3.3</td>\n",
       "      <td>26.9</td>\n",
       "      <td>279.5</td>\n",
       "      <td>628.7</td>\n",
       "      <td>368.7</td>\n",
       "      <td>330.5</td>\n",
       "      <td>297.0</td>\n",
       "      <td>260.7</td>\n",
       "      <td>25.4</td>\n",
       "      <td>344.7</td>\n",
       "      <td>2566.7</td>\n",
       "      <td>1.3</td>\n",
       "      <td>309.7</td>\n",
       "      <td>1624.9</td>\n",
       "      <td>630.8</td>\n",
       "    </tr>\n",
       "  </tbody>\n",
       "</table>\n",
       "</div>"
      ],
      "text/plain": [
       "                 SUBDIVISION  YEAR   JAN    FEB   MAR    APR    MAY    JUN  \\\n",
       "0  ANDAMAN & NICOBAR ISLANDS  1901  49.2   87.1  29.2    2.3  528.8  517.5   \n",
       "1  ANDAMAN & NICOBAR ISLANDS  1902   0.0  159.8  12.2    0.0  446.1  537.1   \n",
       "2  ANDAMAN & NICOBAR ISLANDS  1903  12.7  144.0   0.0    1.0  235.1  479.9   \n",
       "3  ANDAMAN & NICOBAR ISLANDS  1904   9.4   14.7   0.0  202.4  304.5  495.1   \n",
       "4  ANDAMAN & NICOBAR ISLANDS  1905   1.3    0.0   3.3   26.9  279.5  628.7   \n",
       "\n",
       "     JUL    AUG    SEP    OCT    NOV    DEC  ANNUAL  Jan-Feb  Mar-May  \\\n",
       "0  365.1  481.1  332.6  388.5  558.2   33.6  3373.2    136.3    560.3   \n",
       "1  228.9  753.7  666.2  197.2  359.0  160.5  3520.7    159.8    458.3   \n",
       "2  728.4  326.7  339.0  181.2  284.4  225.0  2957.4    156.7    236.1   \n",
       "3  502.0  160.1  820.4  222.2  308.7   40.1  3079.6     24.1    506.9   \n",
       "4  368.7  330.5  297.0  260.7   25.4  344.7  2566.7      1.3    309.7   \n",
       "\n",
       "   Jun-Sep  Oct-Dec  \n",
       "0   1696.3    980.3  \n",
       "1   2185.9    716.7  \n",
       "2   1874.0    690.6  \n",
       "3   1977.6    571.0  \n",
       "4   1624.9    630.8  "
      ]
     },
     "execution_count": 12,
     "metadata": {},
     "output_type": "execute_result"
    }
   ],
   "source": [
    "rainfall_india_clean.head()"
   ]
  },
  {
   "cell_type": "markdown",
   "id": "b85f01b7",
   "metadata": {
    "papermill": {
     "duration": 0.015394,
     "end_time": "2023-02-10T21:58:31.205574",
     "exception": false,
     "start_time": "2023-02-10T21:58:31.190180",
     "status": "completed"
    },
    "tags": []
   },
   "source": [
    "checking for null values in the district rainfall dataset"
   ]
  },
  {
   "cell_type": "code",
   "execution_count": 13,
   "id": "58cebe9f",
   "metadata": {
    "execution": {
     "iopub.execute_input": "2023-02-10T21:58:31.238207Z",
     "iopub.status.busy": "2023-02-10T21:58:31.237791Z",
     "iopub.status.idle": "2023-02-10T21:58:31.246377Z",
     "shell.execute_reply": "2023-02-10T21:58:31.245178Z"
    },
    "papermill": {
     "duration": 0.027558,
     "end_time": "2023-02-10T21:58:31.248660",
     "exception": false,
     "start_time": "2023-02-10T21:58:31.221102",
     "status": "completed"
    },
    "tags": []
   },
   "outputs": [
    {
     "data": {
      "text/plain": [
       "0"
      ]
     },
     "execution_count": 13,
     "metadata": {},
     "output_type": "execute_result"
    }
   ],
   "source": [
    "district_rainfall_data.isnull().sum().sum()"
   ]
  },
  {
   "cell_type": "markdown",
   "id": "fff3f154",
   "metadata": {
    "papermill": {
     "duration": 0.015036,
     "end_time": "2023-02-10T21:58:31.279510",
     "exception": false,
     "start_time": "2023-02-10T21:58:31.264474",
     "status": "completed"
    },
    "tags": []
   },
   "source": [
    "checking NaN values in"
   ]
  },
  {
   "cell_type": "code",
   "execution_count": 14,
   "id": "f24fe1ee",
   "metadata": {
    "execution": {
     "iopub.execute_input": "2023-02-10T21:58:31.312687Z",
     "iopub.status.busy": "2023-02-10T21:58:31.312272Z",
     "iopub.status.idle": "2023-02-10T21:58:31.321198Z",
     "shell.execute_reply": "2023-02-10T21:58:31.320152Z"
    },
    "papermill": {
     "duration": 0.028274,
     "end_time": "2023-02-10T21:58:31.323578",
     "exception": false,
     "start_time": "2023-02-10T21:58:31.295304",
     "status": "completed"
    },
    "tags": []
   },
   "outputs": [
    {
     "data": {
      "text/plain": [
       "0"
      ]
     },
     "execution_count": 14,
     "metadata": {},
     "output_type": "execute_result"
    }
   ],
   "source": [
    "district_rainfall_data.isna().sum().sum()"
   ]
  },
  {
   "cell_type": "markdown",
   "id": "40c304f8",
   "metadata": {
    "papermill": {
     "duration": 0.01513,
     "end_time": "2023-02-10T21:58:31.354150",
     "exception": false,
     "start_time": "2023-02-10T21:58:31.339020",
     "status": "completed"
    },
    "tags": []
   },
   "source": [
    "importing the crop recommendation data"
   ]
  },
  {
   "cell_type": "code",
   "execution_count": 15,
   "id": "4a28b2ba",
   "metadata": {
    "execution": {
     "iopub.execute_input": "2023-02-10T21:58:31.386978Z",
     "iopub.status.busy": "2023-02-10T21:58:31.386561Z",
     "iopub.status.idle": "2023-02-10T21:58:31.406216Z",
     "shell.execute_reply": "2023-02-10T21:58:31.405354Z"
    },
    "papermill": {
     "duration": 0.039115,
     "end_time": "2023-02-10T21:58:31.408740",
     "exception": false,
     "start_time": "2023-02-10T21:58:31.369625",
     "status": "completed"
    },
    "tags": []
   },
   "outputs": [
    {
     "data": {
      "text/plain": [
       "0"
      ]
     },
     "execution_count": 15,
     "metadata": {},
     "output_type": "execute_result"
    }
   ],
   "source": [
    "recommendation_data=pd.read_csv('/kaggle/input/crop-recommendation-dataset/Crop_recommendation.csv')\n",
    "recommendation_data.isnull().sum().sum()"
   ]
  },
  {
   "cell_type": "markdown",
   "id": "3ae701a5",
   "metadata": {
    "papermill": {
     "duration": 0.016057,
     "end_time": "2023-02-10T21:58:31.440483",
     "exception": false,
     "start_time": "2023-02-10T21:58:31.424426",
     "status": "completed"
    },
    "tags": []
   },
   "source": [
    "checking for null values"
   ]
  },
  {
   "cell_type": "code",
   "execution_count": 16,
   "id": "531a545c",
   "metadata": {
    "execution": {
     "iopub.execute_input": "2023-02-10T21:58:31.474784Z",
     "iopub.status.busy": "2023-02-10T21:58:31.474328Z",
     "iopub.status.idle": "2023-02-10T21:58:31.483663Z",
     "shell.execute_reply": "2023-02-10T21:58:31.482807Z"
    },
    "papermill": {
     "duration": 0.029379,
     "end_time": "2023-02-10T21:58:31.486005",
     "exception": false,
     "start_time": "2023-02-10T21:58:31.456626",
     "status": "completed"
    },
    "tags": []
   },
   "outputs": [
    {
     "data": {
      "text/plain": [
       "0"
      ]
     },
     "execution_count": 16,
     "metadata": {},
     "output_type": "execute_result"
    }
   ],
   "source": [
    "recommendation_data.isna().sum().sum()"
   ]
  },
  {
   "cell_type": "code",
   "execution_count": 17,
   "id": "8409cb40",
   "metadata": {
    "execution": {
     "iopub.execute_input": "2023-02-10T21:58:31.519509Z",
     "iopub.status.busy": "2023-02-10T21:58:31.519032Z",
     "iopub.status.idle": "2023-02-10T21:58:31.546450Z",
     "shell.execute_reply": "2023-02-10T21:58:31.545495Z"
    },
    "papermill": {
     "duration": 0.046925,
     "end_time": "2023-02-10T21:58:31.548894",
     "exception": false,
     "start_time": "2023-02-10T21:58:31.501969",
     "status": "completed"
    },
    "tags": []
   },
   "outputs": [
    {
     "data": {
      "text/html": [
       "<div>\n",
       "<style scoped>\n",
       "    .dataframe tbody tr th:only-of-type {\n",
       "        vertical-align: middle;\n",
       "    }\n",
       "\n",
       "    .dataframe tbody tr th {\n",
       "        vertical-align: top;\n",
       "    }\n",
       "\n",
       "    .dataframe thead th {\n",
       "        text-align: right;\n",
       "    }\n",
       "</style>\n",
       "<table border=\"1\" class=\"dataframe\">\n",
       "  <thead>\n",
       "    <tr style=\"text-align: right;\">\n",
       "      <th></th>\n",
       "      <th>state</th>\n",
       "      <th>district</th>\n",
       "      <th>market</th>\n",
       "      <th>commodity</th>\n",
       "      <th>variety</th>\n",
       "      <th>arrival_date</th>\n",
       "      <th>min_price</th>\n",
       "      <th>max_price</th>\n",
       "      <th>modal_price</th>\n",
       "    </tr>\n",
       "  </thead>\n",
       "  <tbody>\n",
       "    <tr>\n",
       "      <th>0</th>\n",
       "      <td>Andaman and Nicobar</td>\n",
       "      <td>South Andaman</td>\n",
       "      <td>Port Blair</td>\n",
       "      <td>Amaranthus</td>\n",
       "      <td>Amaranthus</td>\n",
       "      <td>04/03/2019</td>\n",
       "      <td>6000</td>\n",
       "      <td>8000</td>\n",
       "      <td>7000</td>\n",
       "    </tr>\n",
       "    <tr>\n",
       "      <th>1</th>\n",
       "      <td>Andaman and Nicobar</td>\n",
       "      <td>South Andaman</td>\n",
       "      <td>Port Blair</td>\n",
       "      <td>Banana - Green</td>\n",
       "      <td>Banana - Green</td>\n",
       "      <td>04/03/2019</td>\n",
       "      <td>4500</td>\n",
       "      <td>5500</td>\n",
       "      <td>5000</td>\n",
       "    </tr>\n",
       "    <tr>\n",
       "      <th>2</th>\n",
       "      <td>Andaman and Nicobar</td>\n",
       "      <td>South Andaman</td>\n",
       "      <td>Port Blair</td>\n",
       "      <td>Bhindi(Ladies Finger)</td>\n",
       "      <td>Bhindi</td>\n",
       "      <td>04/03/2019</td>\n",
       "      <td>6000</td>\n",
       "      <td>8000</td>\n",
       "      <td>7000</td>\n",
       "    </tr>\n",
       "    <tr>\n",
       "      <th>3</th>\n",
       "      <td>Andaman and Nicobar</td>\n",
       "      <td>South Andaman</td>\n",
       "      <td>Port Blair</td>\n",
       "      <td>Bitter gourd</td>\n",
       "      <td>Other</td>\n",
       "      <td>04/03/2019</td>\n",
       "      <td>6000</td>\n",
       "      <td>8000</td>\n",
       "      <td>7000</td>\n",
       "    </tr>\n",
       "    <tr>\n",
       "      <th>4</th>\n",
       "      <td>Andaman and Nicobar</td>\n",
       "      <td>South Andaman</td>\n",
       "      <td>Port Blair</td>\n",
       "      <td>Black pepper</td>\n",
       "      <td>Other</td>\n",
       "      <td>04/03/2019</td>\n",
       "      <td>110000</td>\n",
       "      <td>130000</td>\n",
       "      <td>120000</td>\n",
       "    </tr>\n",
       "  </tbody>\n",
       "</table>\n",
       "</div>"
      ],
      "text/plain": [
       "                 state       district      market              commodity  \\\n",
       "0  Andaman and Nicobar  South Andaman  Port Blair             Amaranthus   \n",
       "1  Andaman and Nicobar  South Andaman  Port Blair         Banana - Green   \n",
       "2  Andaman and Nicobar  South Andaman  Port Blair  Bhindi(Ladies Finger)   \n",
       "3  Andaman and Nicobar  South Andaman  Port Blair           Bitter gourd   \n",
       "4  Andaman and Nicobar  South Andaman  Port Blair           Black pepper   \n",
       "\n",
       "          variety arrival_date  min_price  max_price  modal_price  \n",
       "0      Amaranthus   04/03/2019       6000       8000         7000  \n",
       "1  Banana - Green   04/03/2019       4500       5500         5000  \n",
       "2          Bhindi   04/03/2019       6000       8000         7000  \n",
       "3           Other   04/03/2019       6000       8000         7000  \n",
       "4           Other   04/03/2019     110000     130000       120000  "
      ]
     },
     "execution_count": 17,
     "metadata": {},
     "output_type": "execute_result"
    }
   ],
   "source": [
    "agriculture_related_data=pd.read_csv('/kaggle/input/all-agriculture-related-datasets-for-india/csv')\n",
    "agriculture_related_data.head()"
   ]
  },
  {
   "cell_type": "code",
   "execution_count": 18,
   "id": "16293da9",
   "metadata": {
    "execution": {
     "iopub.execute_input": "2023-02-10T21:58:31.585998Z",
     "iopub.status.busy": "2023-02-10T21:58:31.584747Z",
     "iopub.status.idle": "2023-02-10T21:58:31.591424Z",
     "shell.execute_reply": "2023-02-10T21:58:31.590502Z"
    },
    "papermill": {
     "duration": 0.028178,
     "end_time": "2023-02-10T21:58:31.593607",
     "exception": false,
     "start_time": "2023-02-10T21:58:31.565429",
     "status": "completed"
    },
    "tags": []
   },
   "outputs": [
    {
     "data": {
      "text/plain": [
       "(2238, 9)"
      ]
     },
     "execution_count": 18,
     "metadata": {},
     "output_type": "execute_result"
    }
   ],
   "source": [
    "agriculture_related_data.shape"
   ]
  },
  {
   "cell_type": "code",
   "execution_count": 19,
   "id": "09395429",
   "metadata": {
    "execution": {
     "iopub.execute_input": "2023-02-10T21:58:31.627923Z",
     "iopub.status.busy": "2023-02-10T21:58:31.627300Z",
     "iopub.status.idle": "2023-02-10T21:58:31.633331Z",
     "shell.execute_reply": "2023-02-10T21:58:31.632485Z"
    },
    "papermill": {
     "duration": 0.026178,
     "end_time": "2023-02-10T21:58:31.635903",
     "exception": false,
     "start_time": "2023-02-10T21:58:31.609725",
     "status": "completed"
    },
    "tags": []
   },
   "outputs": [
    {
     "data": {
      "text/plain": [
       "Index(['state', 'district', 'market', 'commodity', 'variety', 'arrival_date',\n",
       "       'min_price', 'max_price', 'modal_price'],\n",
       "      dtype='object')"
      ]
     },
     "execution_count": 19,
     "metadata": {},
     "output_type": "execute_result"
    }
   ],
   "source": [
    "agriculture_related_data.columns"
   ]
  },
  {
   "cell_type": "code",
   "execution_count": 20,
   "id": "c68efa40",
   "metadata": {
    "execution": {
     "iopub.execute_input": "2023-02-10T21:58:31.671244Z",
     "iopub.status.busy": "2023-02-10T21:58:31.670840Z",
     "iopub.status.idle": "2023-02-10T21:58:31.681158Z",
     "shell.execute_reply": "2023-02-10T21:58:31.679919Z"
    },
    "papermill": {
     "duration": 0.030593,
     "end_time": "2023-02-10T21:58:31.683325",
     "exception": false,
     "start_time": "2023-02-10T21:58:31.652732",
     "status": "completed"
    },
    "tags": []
   },
   "outputs": [
    {
     "data": {
      "text/plain": [
       "0"
      ]
     },
     "execution_count": 20,
     "metadata": {},
     "output_type": "execute_result"
    }
   ],
   "source": [
    "agriculture_related_data.isnull().sum().sum()"
   ]
  },
  {
   "cell_type": "code",
   "execution_count": 21,
   "id": "9adfc474",
   "metadata": {
    "execution": {
     "iopub.execute_input": "2023-02-10T21:58:31.718405Z",
     "iopub.status.busy": "2023-02-10T21:58:31.717707Z",
     "iopub.status.idle": "2023-02-10T21:58:31.726903Z",
     "shell.execute_reply": "2023-02-10T21:58:31.725794Z"
    },
    "papermill": {
     "duration": 0.029411,
     "end_time": "2023-02-10T21:58:31.729375",
     "exception": false,
     "start_time": "2023-02-10T21:58:31.699964",
     "status": "completed"
    },
    "tags": []
   },
   "outputs": [
    {
     "data": {
      "text/plain": [
       "0"
      ]
     },
     "execution_count": 21,
     "metadata": {},
     "output_type": "execute_result"
    }
   ],
   "source": [
    "agriculture_related_data.isna().sum().sum()"
   ]
  },
  {
   "cell_type": "code",
   "execution_count": 22,
   "id": "fc9779e3",
   "metadata": {
    "execution": {
     "iopub.execute_input": "2023-02-10T21:58:31.765052Z",
     "iopub.status.busy": "2023-02-10T21:58:31.764607Z",
     "iopub.status.idle": "2023-02-10T21:58:31.779599Z",
     "shell.execute_reply": "2023-02-10T21:58:31.778421Z"
    },
    "papermill": {
     "duration": 0.036594,
     "end_time": "2023-02-10T21:58:31.782452",
     "exception": false,
     "start_time": "2023-02-10T21:58:31.745858",
     "status": "completed"
    },
    "tags": []
   },
   "outputs": [
    {
     "data": {
      "text/html": [
       "<div>\n",
       "<style scoped>\n",
       "    .dataframe tbody tr th:only-of-type {\n",
       "        vertical-align: middle;\n",
       "    }\n",
       "\n",
       "    .dataframe tbody tr th {\n",
       "        vertical-align: top;\n",
       "    }\n",
       "\n",
       "    .dataframe thead th {\n",
       "        text-align: right;\n",
       "    }\n",
       "</style>\n",
       "<table border=\"1\" class=\"dataframe\">\n",
       "  <thead>\n",
       "    <tr style=\"text-align: right;\">\n",
       "      <th></th>\n",
       "      <th>state</th>\n",
       "      <th>district</th>\n",
       "      <th>market</th>\n",
       "      <th>commodity</th>\n",
       "      <th>variety</th>\n",
       "      <th>arrival_date</th>\n",
       "      <th>min_price</th>\n",
       "      <th>max_price</th>\n",
       "      <th>modal_price</th>\n",
       "    </tr>\n",
       "  </thead>\n",
       "  <tbody>\n",
       "    <tr>\n",
       "      <th>0</th>\n",
       "      <td>Andaman and Nicobar</td>\n",
       "      <td>South Andaman</td>\n",
       "      <td>Port Blair</td>\n",
       "      <td>Amaranthus</td>\n",
       "      <td>Amaranthus</td>\n",
       "      <td>04/03/2019</td>\n",
       "      <td>6000</td>\n",
       "      <td>8000</td>\n",
       "      <td>7000</td>\n",
       "    </tr>\n",
       "    <tr>\n",
       "      <th>1</th>\n",
       "      <td>Andaman and Nicobar</td>\n",
       "      <td>South Andaman</td>\n",
       "      <td>Port Blair</td>\n",
       "      <td>Banana - Green</td>\n",
       "      <td>Banana - Green</td>\n",
       "      <td>04/03/2019</td>\n",
       "      <td>4500</td>\n",
       "      <td>5500</td>\n",
       "      <td>5000</td>\n",
       "    </tr>\n",
       "    <tr>\n",
       "      <th>2</th>\n",
       "      <td>Andaman and Nicobar</td>\n",
       "      <td>South Andaman</td>\n",
       "      <td>Port Blair</td>\n",
       "      <td>Bhindi(Ladies Finger)</td>\n",
       "      <td>Bhindi</td>\n",
       "      <td>04/03/2019</td>\n",
       "      <td>6000</td>\n",
       "      <td>8000</td>\n",
       "      <td>7000</td>\n",
       "    </tr>\n",
       "    <tr>\n",
       "      <th>3</th>\n",
       "      <td>Andaman and Nicobar</td>\n",
       "      <td>South Andaman</td>\n",
       "      <td>Port Blair</td>\n",
       "      <td>Bitter gourd</td>\n",
       "      <td>Other</td>\n",
       "      <td>04/03/2019</td>\n",
       "      <td>6000</td>\n",
       "      <td>8000</td>\n",
       "      <td>7000</td>\n",
       "    </tr>\n",
       "    <tr>\n",
       "      <th>4</th>\n",
       "      <td>Andaman and Nicobar</td>\n",
       "      <td>South Andaman</td>\n",
       "      <td>Port Blair</td>\n",
       "      <td>Black pepper</td>\n",
       "      <td>Other</td>\n",
       "      <td>04/03/2019</td>\n",
       "      <td>110000</td>\n",
       "      <td>130000</td>\n",
       "      <td>120000</td>\n",
       "    </tr>\n",
       "  </tbody>\n",
       "</table>\n",
       "</div>"
      ],
      "text/plain": [
       "                 state       district      market              commodity  \\\n",
       "0  Andaman and Nicobar  South Andaman  Port Blair             Amaranthus   \n",
       "1  Andaman and Nicobar  South Andaman  Port Blair         Banana - Green   \n",
       "2  Andaman and Nicobar  South Andaman  Port Blair  Bhindi(Ladies Finger)   \n",
       "3  Andaman and Nicobar  South Andaman  Port Blair           Bitter gourd   \n",
       "4  Andaman and Nicobar  South Andaman  Port Blair           Black pepper   \n",
       "\n",
       "          variety arrival_date  min_price  max_price  modal_price  \n",
       "0      Amaranthus   04/03/2019       6000       8000         7000  \n",
       "1  Banana - Green   04/03/2019       4500       5500         5000  \n",
       "2          Bhindi   04/03/2019       6000       8000         7000  \n",
       "3           Other   04/03/2019       6000       8000         7000  \n",
       "4           Other   04/03/2019     110000     130000       120000  "
      ]
     },
     "execution_count": 22,
     "metadata": {},
     "output_type": "execute_result"
    }
   ],
   "source": [
    "agriculture_related_data.head()"
   ]
  },
  {
   "cell_type": "code",
   "execution_count": 23,
   "id": "7943d644",
   "metadata": {
    "_kg_hide-output": true,
    "execution": {
     "iopub.execute_input": "2023-02-10T21:58:31.819310Z",
     "iopub.status.busy": "2023-02-10T21:58:31.818856Z",
     "iopub.status.idle": "2023-02-10T21:58:31.827254Z",
     "shell.execute_reply": "2023-02-10T21:58:31.825171Z"
    },
    "papermill": {
     "duration": 0.031295,
     "end_time": "2023-02-10T21:58:31.830443",
     "exception": false,
     "start_time": "2023-02-10T21:58:31.799148",
     "status": "completed"
    },
    "tags": []
   },
   "outputs": [
    {
     "name": "stdout",
     "output_type": "stream",
     "text": [
      "174\n"
     ]
    }
   ],
   "source": [
    "ard_unique_districts=agriculture_related_data['district'].unique()\n",
    "ard_unique_states=agriculture_related_data['state'].unique()\n",
    "print(len(ard_unique_districts))"
   ]
  },
  {
   "cell_type": "markdown",
   "id": "8bb4523e",
   "metadata": {
    "papermill": {
     "duration": 0.017048,
     "end_time": "2023-02-10T21:58:31.866067",
     "exception": false,
     "start_time": "2023-02-10T21:58:31.849019",
     "status": "completed"
    },
    "tags": []
   },
   "source": [
    "checking the unique states in the dataset"
   ]
  },
  {
   "cell_type": "code",
   "execution_count": 24,
   "id": "e06e4994",
   "metadata": {
    "execution": {
     "iopub.execute_input": "2023-02-10T21:58:31.902317Z",
     "iopub.status.busy": "2023-02-10T21:58:31.901911Z",
     "iopub.status.idle": "2023-02-10T21:58:31.906428Z",
     "shell.execute_reply": "2023-02-10T21:58:31.905498Z"
    },
    "papermill": {
     "duration": 0.027095,
     "end_time": "2023-02-10T21:58:31.910022",
     "exception": false,
     "start_time": "2023-02-10T21:58:31.882927",
     "status": "completed"
    },
    "tags": []
   },
   "outputs": [
    {
     "name": "stdout",
     "output_type": "stream",
     "text": [
      "26\n"
     ]
    }
   ],
   "source": [
    "print(len(ard_unique_states))"
   ]
  },
  {
   "cell_type": "code",
   "execution_count": 25,
   "id": "b06475fa",
   "metadata": {
    "execution": {
     "iopub.execute_input": "2023-02-10T21:58:31.945288Z",
     "iopub.status.busy": "2023-02-10T21:58:31.944897Z",
     "iopub.status.idle": "2023-02-10T21:58:31.950959Z",
     "shell.execute_reply": "2023-02-10T21:58:31.949418Z"
    },
    "papermill": {
     "duration": 0.02734,
     "end_time": "2023-02-10T21:58:31.954058",
     "exception": false,
     "start_time": "2023-02-10T21:58:31.926718",
     "status": "completed"
    },
    "tags": []
   },
   "outputs": [
    {
     "name": "stdout",
     "output_type": "stream",
     "text": [
      "['Andaman and Nicobar' 'Andhra Pradesh' 'Assam' 'Chattisgarh' 'Goa'\n",
      " 'Gujarat' 'Haryana' 'Himachal Pradesh' 'Jammu and Kashmir' 'Karnataka'\n",
      " 'Kerala' 'Madhya Pradesh' 'Maharashtra' 'Manipur' 'Meghalaya' 'Nagaland'\n",
      " 'Odisha' 'Pondicherry' 'Punjab' 'Rajasthan' 'Tamil Nadu' 'Telangana'\n",
      " 'Tripura' 'Uttar Pradesh' 'Uttrakhand' 'West Bengal']\n"
     ]
    }
   ],
   "source": [
    "print(ard_unique_states)"
   ]
  },
  {
   "cell_type": "markdown",
   "id": "d74ce499",
   "metadata": {
    "papermill": {
     "duration": 0.017145,
     "end_time": "2023-02-10T21:58:31.989131",
     "exception": false,
     "start_time": "2023-02-10T21:58:31.971986",
     "status": "completed"
    },
    "tags": []
   },
   "source": [
    "checking districts for the districts dataset as well"
   ]
  },
  {
   "cell_type": "code",
   "execution_count": 26,
   "id": "b4b0958a",
   "metadata": {
    "execution": {
     "iopub.execute_input": "2023-02-10T21:58:32.026363Z",
     "iopub.status.busy": "2023-02-10T21:58:32.025972Z",
     "iopub.status.idle": "2023-02-10T21:58:32.056001Z",
     "shell.execute_reply": "2023-02-10T21:58:32.054818Z"
    },
    "papermill": {
     "duration": 0.052684,
     "end_time": "2023-02-10T21:58:32.058633",
     "exception": false,
     "start_time": "2023-02-10T21:58:32.005949",
     "status": "completed"
    },
    "tags": []
   },
   "outputs": [
    {
     "data": {
      "text/html": [
       "<div>\n",
       "<style scoped>\n",
       "    .dataframe tbody tr th:only-of-type {\n",
       "        vertical-align: middle;\n",
       "    }\n",
       "\n",
       "    .dataframe tbody tr th {\n",
       "        vertical-align: top;\n",
       "    }\n",
       "\n",
       "    .dataframe thead th {\n",
       "        text-align: right;\n",
       "    }\n",
       "</style>\n",
       "<table border=\"1\" class=\"dataframe\">\n",
       "  <thead>\n",
       "    <tr style=\"text-align: right;\">\n",
       "      <th></th>\n",
       "      <th>STATE_UT_NAME</th>\n",
       "      <th>DISTRICT</th>\n",
       "      <th>JAN</th>\n",
       "      <th>FEB</th>\n",
       "      <th>MAR</th>\n",
       "      <th>APR</th>\n",
       "      <th>MAY</th>\n",
       "      <th>JUN</th>\n",
       "      <th>JUL</th>\n",
       "      <th>AUG</th>\n",
       "      <th>SEP</th>\n",
       "      <th>OCT</th>\n",
       "      <th>NOV</th>\n",
       "      <th>DEC</th>\n",
       "      <th>ANNUAL</th>\n",
       "      <th>Jan-Feb</th>\n",
       "      <th>Mar-May</th>\n",
       "      <th>Jun-Sep</th>\n",
       "      <th>Oct-Dec</th>\n",
       "    </tr>\n",
       "  </thead>\n",
       "  <tbody>\n",
       "    <tr>\n",
       "      <th>0</th>\n",
       "      <td>ANDAMAN And NICOBAR ISLANDS</td>\n",
       "      <td>NICOBAR</td>\n",
       "      <td>107.3</td>\n",
       "      <td>57.9</td>\n",
       "      <td>65.2</td>\n",
       "      <td>117.0</td>\n",
       "      <td>358.5</td>\n",
       "      <td>295.5</td>\n",
       "      <td>285.0</td>\n",
       "      <td>271.9</td>\n",
       "      <td>354.8</td>\n",
       "      <td>326.0</td>\n",
       "      <td>315.2</td>\n",
       "      <td>250.9</td>\n",
       "      <td>2805.2</td>\n",
       "      <td>165.2</td>\n",
       "      <td>540.7</td>\n",
       "      <td>1207.2</td>\n",
       "      <td>892.1</td>\n",
       "    </tr>\n",
       "    <tr>\n",
       "      <th>1</th>\n",
       "      <td>ANDAMAN And NICOBAR ISLANDS</td>\n",
       "      <td>SOUTH ANDAMAN</td>\n",
       "      <td>43.7</td>\n",
       "      <td>26.0</td>\n",
       "      <td>18.6</td>\n",
       "      <td>90.5</td>\n",
       "      <td>374.4</td>\n",
       "      <td>457.2</td>\n",
       "      <td>421.3</td>\n",
       "      <td>423.1</td>\n",
       "      <td>455.6</td>\n",
       "      <td>301.2</td>\n",
       "      <td>275.8</td>\n",
       "      <td>128.3</td>\n",
       "      <td>3015.7</td>\n",
       "      <td>69.7</td>\n",
       "      <td>483.5</td>\n",
       "      <td>1757.2</td>\n",
       "      <td>705.3</td>\n",
       "    </tr>\n",
       "    <tr>\n",
       "      <th>2</th>\n",
       "      <td>ANDAMAN And NICOBAR ISLANDS</td>\n",
       "      <td>N &amp; M ANDAMAN</td>\n",
       "      <td>32.7</td>\n",
       "      <td>15.9</td>\n",
       "      <td>8.6</td>\n",
       "      <td>53.4</td>\n",
       "      <td>343.6</td>\n",
       "      <td>503.3</td>\n",
       "      <td>465.4</td>\n",
       "      <td>460.9</td>\n",
       "      <td>454.8</td>\n",
       "      <td>276.1</td>\n",
       "      <td>198.6</td>\n",
       "      <td>100.0</td>\n",
       "      <td>2913.3</td>\n",
       "      <td>48.6</td>\n",
       "      <td>405.6</td>\n",
       "      <td>1884.4</td>\n",
       "      <td>574.7</td>\n",
       "    </tr>\n",
       "    <tr>\n",
       "      <th>3</th>\n",
       "      <td>ARUNACHAL PRADESH</td>\n",
       "      <td>LOHIT</td>\n",
       "      <td>42.2</td>\n",
       "      <td>80.8</td>\n",
       "      <td>176.4</td>\n",
       "      <td>358.5</td>\n",
       "      <td>306.4</td>\n",
       "      <td>447.0</td>\n",
       "      <td>660.1</td>\n",
       "      <td>427.8</td>\n",
       "      <td>313.6</td>\n",
       "      <td>167.1</td>\n",
       "      <td>34.1</td>\n",
       "      <td>29.8</td>\n",
       "      <td>3043.8</td>\n",
       "      <td>123.0</td>\n",
       "      <td>841.3</td>\n",
       "      <td>1848.5</td>\n",
       "      <td>231.0</td>\n",
       "    </tr>\n",
       "    <tr>\n",
       "      <th>4</th>\n",
       "      <td>ARUNACHAL PRADESH</td>\n",
       "      <td>EAST SIANG</td>\n",
       "      <td>33.3</td>\n",
       "      <td>79.5</td>\n",
       "      <td>105.9</td>\n",
       "      <td>216.5</td>\n",
       "      <td>323.0</td>\n",
       "      <td>738.3</td>\n",
       "      <td>990.9</td>\n",
       "      <td>711.2</td>\n",
       "      <td>568.0</td>\n",
       "      <td>206.9</td>\n",
       "      <td>29.5</td>\n",
       "      <td>31.7</td>\n",
       "      <td>4034.7</td>\n",
       "      <td>112.8</td>\n",
       "      <td>645.4</td>\n",
       "      <td>3008.4</td>\n",
       "      <td>268.1</td>\n",
       "    </tr>\n",
       "  </tbody>\n",
       "</table>\n",
       "</div>"
      ],
      "text/plain": [
       "                 STATE_UT_NAME       DISTRICT    JAN   FEB    MAR    APR  \\\n",
       "0  ANDAMAN And NICOBAR ISLANDS        NICOBAR  107.3  57.9   65.2  117.0   \n",
       "1  ANDAMAN And NICOBAR ISLANDS  SOUTH ANDAMAN   43.7  26.0   18.6   90.5   \n",
       "2  ANDAMAN And NICOBAR ISLANDS  N & M ANDAMAN   32.7  15.9    8.6   53.4   \n",
       "3            ARUNACHAL PRADESH          LOHIT   42.2  80.8  176.4  358.5   \n",
       "4            ARUNACHAL PRADESH     EAST SIANG   33.3  79.5  105.9  216.5   \n",
       "\n",
       "     MAY    JUN    JUL    AUG    SEP    OCT    NOV    DEC  ANNUAL  Jan-Feb  \\\n",
       "0  358.5  295.5  285.0  271.9  354.8  326.0  315.2  250.9  2805.2    165.2   \n",
       "1  374.4  457.2  421.3  423.1  455.6  301.2  275.8  128.3  3015.7     69.7   \n",
       "2  343.6  503.3  465.4  460.9  454.8  276.1  198.6  100.0  2913.3     48.6   \n",
       "3  306.4  447.0  660.1  427.8  313.6  167.1   34.1   29.8  3043.8    123.0   \n",
       "4  323.0  738.3  990.9  711.2  568.0  206.9   29.5   31.7  4034.7    112.8   \n",
       "\n",
       "   Mar-May  Jun-Sep  Oct-Dec  \n",
       "0    540.7   1207.2    892.1  \n",
       "1    483.5   1757.2    705.3  \n",
       "2    405.6   1884.4    574.7  \n",
       "3    841.3   1848.5    231.0  \n",
       "4    645.4   3008.4    268.1  "
      ]
     },
     "execution_count": 26,
     "metadata": {},
     "output_type": "execute_result"
    }
   ],
   "source": [
    "district_rainfall_data.head()"
   ]
  },
  {
   "cell_type": "code",
   "execution_count": 27,
   "id": "0a5f64ca",
   "metadata": {
    "execution": {
     "iopub.execute_input": "2023-02-10T21:58:32.097325Z",
     "iopub.status.busy": "2023-02-10T21:58:32.096890Z",
     "iopub.status.idle": "2023-02-10T21:58:32.106039Z",
     "shell.execute_reply": "2023-02-10T21:58:32.104192Z"
    },
    "papermill": {
     "duration": 0.034053,
     "end_time": "2023-02-10T21:58:32.110687",
     "exception": false,
     "start_time": "2023-02-10T21:58:32.076634",
     "status": "completed"
    },
    "tags": []
   },
   "outputs": [
    {
     "name": "stdout",
     "output_type": "stream",
     "text": [
      "637\n"
     ]
    }
   ],
   "source": [
    "drd_unique_districts=district_rainfall_data['DISTRICT'].unique()\n",
    "drd_unique_states=district_rainfall_data['STATE_UT_NAME'].unique()\n",
    "print(len(drd_unique_districts))"
   ]
  },
  {
   "cell_type": "markdown",
   "id": "dc137aad",
   "metadata": {
    "papermill": {
     "duration": 0.0176,
     "end_time": "2023-02-10T21:58:32.146299",
     "exception": false,
     "start_time": "2023-02-10T21:58:32.128699",
     "status": "completed"
    },
    "tags": []
   },
   "source": [
    "checking the unique states for district rainfall"
   ]
  },
  {
   "cell_type": "code",
   "execution_count": 28,
   "id": "5f338aa2",
   "metadata": {
    "execution": {
     "iopub.execute_input": "2023-02-10T21:58:32.183184Z",
     "iopub.status.busy": "2023-02-10T21:58:32.182692Z",
     "iopub.status.idle": "2023-02-10T21:58:32.188525Z",
     "shell.execute_reply": "2023-02-10T21:58:32.187277Z"
    },
    "papermill": {
     "duration": 0.027729,
     "end_time": "2023-02-10T21:58:32.191643",
     "exception": false,
     "start_time": "2023-02-10T21:58:32.163914",
     "status": "completed"
    },
    "tags": []
   },
   "outputs": [
    {
     "name": "stdout",
     "output_type": "stream",
     "text": [
      "35\n"
     ]
    }
   ],
   "source": [
    "print(len(drd_unique_states))"
   ]
  },
  {
   "cell_type": "markdown",
   "id": "a0254816",
   "metadata": {
    "papermill": {
     "duration": 0.016965,
     "end_time": "2023-02-10T21:58:32.226656",
     "exception": false,
     "start_time": "2023-02-10T21:58:32.209691",
     "status": "completed"
    },
    "tags": []
   },
   "source": [
    "checking the unique states of the agriculture dataset"
   ]
  },
  {
   "cell_type": "code",
   "execution_count": 29,
   "id": "eeafc83f",
   "metadata": {
    "execution": {
     "iopub.execute_input": "2023-02-10T21:58:32.264485Z",
     "iopub.status.busy": "2023-02-10T21:58:32.263228Z",
     "iopub.status.idle": "2023-02-10T21:58:32.270292Z",
     "shell.execute_reply": "2023-02-10T21:58:32.268410Z"
    },
    "papermill": {
     "duration": 0.028574,
     "end_time": "2023-02-10T21:58:32.272862",
     "exception": false,
     "start_time": "2023-02-10T21:58:32.244288",
     "status": "completed"
    },
    "tags": []
   },
   "outputs": [
    {
     "name": "stdout",
     "output_type": "stream",
     "text": [
      "['ANDAMAN And NICOBAR ISLANDS' 'ARUNACHAL PRADESH' 'ASSAM' 'MEGHALAYA'\n",
      " 'MANIPUR' 'MIZORAM' 'NAGALAND' 'TRIPURA' 'WEST BENGAL' 'SIKKIM' 'ORISSA'\n",
      " 'JHARKHAND' 'BIHAR' 'UTTAR PRADESH' 'UTTARANCHAL' 'HARYANA' 'CHANDIGARH'\n",
      " 'DELHI' 'PUNJAB' 'HIMACHAL' 'JAMMU AND KASHMIR' 'RAJASTHAN'\n",
      " 'MADHYA PRADESH' 'GUJARAT' 'DADAR NAGAR HAVELI' 'DAMAN AND DUI'\n",
      " 'MAHARASHTRA' 'GOA' 'CHATISGARH' 'ANDHRA PRADESH' 'TAMIL NADU'\n",
      " 'PONDICHERRY' 'KARNATAKA' 'KERALA' 'LAKSHADWEEP']\n"
     ]
    }
   ],
   "source": [
    "print(drd_unique_states)"
   ]
  },
  {
   "cell_type": "markdown",
   "id": "5a2f6297",
   "metadata": {
    "papermill": {
     "duration": 0.018035,
     "end_time": "2023-02-10T21:58:32.308878",
     "exception": false,
     "start_time": "2023-02-10T21:58:32.290843",
     "status": "completed"
    },
    "tags": []
   },
   "source": [
    "renaming the state and district column names for agriculture related dataset"
   ]
  },
  {
   "cell_type": "code",
   "execution_count": 30,
   "id": "28f64143",
   "metadata": {
    "execution": {
     "iopub.execute_input": "2023-02-10T21:58:32.347083Z",
     "iopub.status.busy": "2023-02-10T21:58:32.346687Z",
     "iopub.status.idle": "2023-02-10T21:58:32.375967Z",
     "shell.execute_reply": "2023-02-10T21:58:32.374846Z"
    },
    "papermill": {
     "duration": 0.050705,
     "end_time": "2023-02-10T21:58:32.378468",
     "exception": false,
     "start_time": "2023-02-10T21:58:32.327763",
     "status": "completed"
    },
    "tags": []
   },
   "outputs": [
    {
     "data": {
      "text/html": [
       "<div>\n",
       "<style scoped>\n",
       "    .dataframe tbody tr th:only-of-type {\n",
       "        vertical-align: middle;\n",
       "    }\n",
       "\n",
       "    .dataframe tbody tr th {\n",
       "        vertical-align: top;\n",
       "    }\n",
       "\n",
       "    .dataframe thead th {\n",
       "        text-align: right;\n",
       "    }\n",
       "</style>\n",
       "<table border=\"1\" class=\"dataframe\">\n",
       "  <thead>\n",
       "    <tr style=\"text-align: right;\">\n",
       "      <th></th>\n",
       "      <th>state</th>\n",
       "      <th>district</th>\n",
       "      <th>JAN</th>\n",
       "      <th>FEB</th>\n",
       "      <th>MAR</th>\n",
       "      <th>APR</th>\n",
       "      <th>MAY</th>\n",
       "      <th>JUN</th>\n",
       "      <th>JUL</th>\n",
       "      <th>AUG</th>\n",
       "      <th>SEP</th>\n",
       "      <th>OCT</th>\n",
       "      <th>NOV</th>\n",
       "      <th>DEC</th>\n",
       "      <th>ANNUAL</th>\n",
       "      <th>Jan-Feb</th>\n",
       "      <th>Mar-May</th>\n",
       "      <th>Jun-Sep</th>\n",
       "      <th>Oct-Dec</th>\n",
       "    </tr>\n",
       "  </thead>\n",
       "  <tbody>\n",
       "    <tr>\n",
       "      <th>0</th>\n",
       "      <td>ANDAMAN And NICOBAR ISLANDS</td>\n",
       "      <td>NICOBAR</td>\n",
       "      <td>107.3</td>\n",
       "      <td>57.9</td>\n",
       "      <td>65.2</td>\n",
       "      <td>117.0</td>\n",
       "      <td>358.5</td>\n",
       "      <td>295.5</td>\n",
       "      <td>285.0</td>\n",
       "      <td>271.9</td>\n",
       "      <td>354.8</td>\n",
       "      <td>326.0</td>\n",
       "      <td>315.2</td>\n",
       "      <td>250.9</td>\n",
       "      <td>2805.2</td>\n",
       "      <td>165.2</td>\n",
       "      <td>540.7</td>\n",
       "      <td>1207.2</td>\n",
       "      <td>892.1</td>\n",
       "    </tr>\n",
       "    <tr>\n",
       "      <th>1</th>\n",
       "      <td>ANDAMAN And NICOBAR ISLANDS</td>\n",
       "      <td>SOUTH ANDAMAN</td>\n",
       "      <td>43.7</td>\n",
       "      <td>26.0</td>\n",
       "      <td>18.6</td>\n",
       "      <td>90.5</td>\n",
       "      <td>374.4</td>\n",
       "      <td>457.2</td>\n",
       "      <td>421.3</td>\n",
       "      <td>423.1</td>\n",
       "      <td>455.6</td>\n",
       "      <td>301.2</td>\n",
       "      <td>275.8</td>\n",
       "      <td>128.3</td>\n",
       "      <td>3015.7</td>\n",
       "      <td>69.7</td>\n",
       "      <td>483.5</td>\n",
       "      <td>1757.2</td>\n",
       "      <td>705.3</td>\n",
       "    </tr>\n",
       "    <tr>\n",
       "      <th>2</th>\n",
       "      <td>ANDAMAN And NICOBAR ISLANDS</td>\n",
       "      <td>N &amp; M ANDAMAN</td>\n",
       "      <td>32.7</td>\n",
       "      <td>15.9</td>\n",
       "      <td>8.6</td>\n",
       "      <td>53.4</td>\n",
       "      <td>343.6</td>\n",
       "      <td>503.3</td>\n",
       "      <td>465.4</td>\n",
       "      <td>460.9</td>\n",
       "      <td>454.8</td>\n",
       "      <td>276.1</td>\n",
       "      <td>198.6</td>\n",
       "      <td>100.0</td>\n",
       "      <td>2913.3</td>\n",
       "      <td>48.6</td>\n",
       "      <td>405.6</td>\n",
       "      <td>1884.4</td>\n",
       "      <td>574.7</td>\n",
       "    </tr>\n",
       "    <tr>\n",
       "      <th>3</th>\n",
       "      <td>ARUNACHAL PRADESH</td>\n",
       "      <td>LOHIT</td>\n",
       "      <td>42.2</td>\n",
       "      <td>80.8</td>\n",
       "      <td>176.4</td>\n",
       "      <td>358.5</td>\n",
       "      <td>306.4</td>\n",
       "      <td>447.0</td>\n",
       "      <td>660.1</td>\n",
       "      <td>427.8</td>\n",
       "      <td>313.6</td>\n",
       "      <td>167.1</td>\n",
       "      <td>34.1</td>\n",
       "      <td>29.8</td>\n",
       "      <td>3043.8</td>\n",
       "      <td>123.0</td>\n",
       "      <td>841.3</td>\n",
       "      <td>1848.5</td>\n",
       "      <td>231.0</td>\n",
       "    </tr>\n",
       "    <tr>\n",
       "      <th>4</th>\n",
       "      <td>ARUNACHAL PRADESH</td>\n",
       "      <td>EAST SIANG</td>\n",
       "      <td>33.3</td>\n",
       "      <td>79.5</td>\n",
       "      <td>105.9</td>\n",
       "      <td>216.5</td>\n",
       "      <td>323.0</td>\n",
       "      <td>738.3</td>\n",
       "      <td>990.9</td>\n",
       "      <td>711.2</td>\n",
       "      <td>568.0</td>\n",
       "      <td>206.9</td>\n",
       "      <td>29.5</td>\n",
       "      <td>31.7</td>\n",
       "      <td>4034.7</td>\n",
       "      <td>112.8</td>\n",
       "      <td>645.4</td>\n",
       "      <td>3008.4</td>\n",
       "      <td>268.1</td>\n",
       "    </tr>\n",
       "  </tbody>\n",
       "</table>\n",
       "</div>"
      ],
      "text/plain": [
       "                         state       district    JAN   FEB    MAR    APR  \\\n",
       "0  ANDAMAN And NICOBAR ISLANDS        NICOBAR  107.3  57.9   65.2  117.0   \n",
       "1  ANDAMAN And NICOBAR ISLANDS  SOUTH ANDAMAN   43.7  26.0   18.6   90.5   \n",
       "2  ANDAMAN And NICOBAR ISLANDS  N & M ANDAMAN   32.7  15.9    8.6   53.4   \n",
       "3            ARUNACHAL PRADESH          LOHIT   42.2  80.8  176.4  358.5   \n",
       "4            ARUNACHAL PRADESH     EAST SIANG   33.3  79.5  105.9  216.5   \n",
       "\n",
       "     MAY    JUN    JUL    AUG    SEP    OCT    NOV    DEC  ANNUAL  Jan-Feb  \\\n",
       "0  358.5  295.5  285.0  271.9  354.8  326.0  315.2  250.9  2805.2    165.2   \n",
       "1  374.4  457.2  421.3  423.1  455.6  301.2  275.8  128.3  3015.7     69.7   \n",
       "2  343.6  503.3  465.4  460.9  454.8  276.1  198.6  100.0  2913.3     48.6   \n",
       "3  306.4  447.0  660.1  427.8  313.6  167.1   34.1   29.8  3043.8    123.0   \n",
       "4  323.0  738.3  990.9  711.2  568.0  206.9   29.5   31.7  4034.7    112.8   \n",
       "\n",
       "   Mar-May  Jun-Sep  Oct-Dec  \n",
       "0    540.7   1207.2    892.1  \n",
       "1    483.5   1757.2    705.3  \n",
       "2    405.6   1884.4    574.7  \n",
       "3    841.3   1848.5    231.0  \n",
       "4    645.4   3008.4    268.1  "
      ]
     },
     "execution_count": 30,
     "metadata": {},
     "output_type": "execute_result"
    }
   ],
   "source": [
    "district_rainfall_data.rename(columns={'STATE_UT_NAME':'state','DISTRICT':'district'},inplace=True)\n",
    "district_rainfall_data.head()"
   ]
  },
  {
   "cell_type": "markdown",
   "id": "3df25181",
   "metadata": {
    "papermill": {
     "duration": 0.017205,
     "end_time": "2023-02-10T21:58:32.414072",
     "exception": false,
     "start_time": "2023-02-10T21:58:32.396867",
     "status": "completed"
    },
    "tags": []
   },
   "source": [
    "trying to combine two pandas datasets based on common values. I will be using both the common features(state,district) and will get two seperate datasets accordingly"
   ]
  },
  {
   "cell_type": "markdown",
   "id": "49c11704",
   "metadata": {
    "papermill": {
     "duration": 0.017334,
     "end_time": "2023-02-10T21:58:32.449675",
     "exception": false,
     "start_time": "2023-02-10T21:58:32.432341",
     "status": "completed"
    },
    "tags": []
   },
   "source": [
    "checking the columns of the two datasets"
   ]
  },
  {
   "cell_type": "code",
   "execution_count": 31,
   "id": "978427bd",
   "metadata": {
    "execution": {
     "iopub.execute_input": "2023-02-10T21:58:32.486585Z",
     "iopub.status.busy": "2023-02-10T21:58:32.486144Z",
     "iopub.status.idle": "2023-02-10T21:58:32.492356Z",
     "shell.execute_reply": "2023-02-10T21:58:32.491476Z"
    },
    "papermill": {
     "duration": 0.027204,
     "end_time": "2023-02-10T21:58:32.494482",
     "exception": false,
     "start_time": "2023-02-10T21:58:32.467278",
     "status": "completed"
    },
    "tags": []
   },
   "outputs": [
    {
     "data": {
      "text/plain": [
       "Index(['state', 'district', 'market', 'commodity', 'variety', 'arrival_date',\n",
       "       'min_price', 'max_price', 'modal_price'],\n",
       "      dtype='object')"
      ]
     },
     "execution_count": 31,
     "metadata": {},
     "output_type": "execute_result"
    }
   ],
   "source": [
    "agriculture_related_data.columns"
   ]
  },
  {
   "cell_type": "code",
   "execution_count": 32,
   "id": "c6505d36",
   "metadata": {
    "execution": {
     "iopub.execute_input": "2023-02-10T21:58:32.532101Z",
     "iopub.status.busy": "2023-02-10T21:58:32.531155Z",
     "iopub.status.idle": "2023-02-10T21:58:32.538876Z",
     "shell.execute_reply": "2023-02-10T21:58:32.537782Z"
    },
    "papermill": {
     "duration": 0.028921,
     "end_time": "2023-02-10T21:58:32.541169",
     "exception": false,
     "start_time": "2023-02-10T21:58:32.512248",
     "status": "completed"
    },
    "tags": []
   },
   "outputs": [
    {
     "data": {
      "text/plain": [
       "Index(['state', 'district', 'JAN', 'FEB', 'MAR', 'APR', 'MAY', 'JUN', 'JUL',\n",
       "       'AUG', 'SEP', 'OCT', 'NOV', 'DEC', 'ANNUAL', 'Jan-Feb', 'Mar-May',\n",
       "       'Jun-Sep', 'Oct-Dec'],\n",
       "      dtype='object')"
      ]
     },
     "execution_count": 32,
     "metadata": {},
     "output_type": "execute_result"
    }
   ],
   "source": [
    "district_rainfall_data.columns"
   ]
  },
  {
   "cell_type": "markdown",
   "id": "102bd0fc",
   "metadata": {
    "papermill": {
     "duration": 0.017469,
     "end_time": "2023-02-10T21:58:32.576429",
     "exception": false,
     "start_time": "2023-02-10T21:58:32.558960",
     "status": "completed"
    },
    "tags": []
   },
   "source": [
    "dropping rows which have uncommon state values in district rainfall data "
   ]
  },
  {
   "cell_type": "code",
   "execution_count": 33,
   "id": "78f3d293",
   "metadata": {
    "execution": {
     "iopub.execute_input": "2023-02-10T21:58:32.629912Z",
     "iopub.status.busy": "2023-02-10T21:58:32.629178Z",
     "iopub.status.idle": "2023-02-10T21:58:32.635314Z",
     "shell.execute_reply": "2023-02-10T21:58:32.633985Z"
    },
    "papermill": {
     "duration": 0.037544,
     "end_time": "2023-02-10T21:58:32.638761",
     "exception": false,
     "start_time": "2023-02-10T21:58:32.601217",
     "status": "completed"
    },
    "tags": []
   },
   "outputs": [],
   "source": [
    "# # Drop rows where column 'B' is equal to values in values_to_drop list\n",
    "# district_rainfall_data = district_rainfall_data[~district_rainfall_data['state'].isin(result)]\n",
    "# district_rainfall_data.reset_index(drop=True)\n",
    "# # district_rainfall_data.head()"
   ]
  },
  {
   "cell_type": "markdown",
   "id": "f7db76e5",
   "metadata": {
    "papermill": {
     "duration": 0.026755,
     "end_time": "2023-02-10T21:58:32.687319",
     "exception": false,
     "start_time": "2023-02-10T21:58:32.660564",
     "status": "completed"
    },
    "tags": []
   },
   "source": [
    "checking the unique values now"
   ]
  },
  {
   "cell_type": "code",
   "execution_count": 34,
   "id": "f1d32eef",
   "metadata": {
    "execution": {
     "iopub.execute_input": "2023-02-10T21:58:32.735346Z",
     "iopub.status.busy": "2023-02-10T21:58:32.734540Z",
     "iopub.status.idle": "2023-02-10T21:58:32.741879Z",
     "shell.execute_reply": "2023-02-10T21:58:32.740721Z"
    },
    "papermill": {
     "duration": 0.033987,
     "end_time": "2023-02-10T21:58:32.744224",
     "exception": false,
     "start_time": "2023-02-10T21:58:32.710237",
     "status": "completed"
    },
    "tags": []
   },
   "outputs": [
    {
     "name": "stdout",
     "output_type": "stream",
     "text": [
      "35\n"
     ]
    }
   ],
   "source": [
    "drd_unique_districts=district_rainfall_data['district'].unique()\n",
    "drd_unique_states=district_rainfall_data['state'].unique()\n",
    "print(len(drd_unique_states))"
   ]
  },
  {
   "cell_type": "markdown",
   "id": "70b9a7db",
   "metadata": {
    "papermill": {
     "duration": 0.020506,
     "end_time": "2023-02-10T21:58:32.785421",
     "exception": false,
     "start_time": "2023-02-10T21:58:32.764915",
     "status": "completed"
    },
    "tags": []
   },
   "source": [
    "merging two datasets on the basis of state"
   ]
  },
  {
   "cell_type": "code",
   "execution_count": 35,
   "id": "a50f6c84",
   "metadata": {
    "execution": {
     "iopub.execute_input": "2023-02-10T21:58:32.824183Z",
     "iopub.status.busy": "2023-02-10T21:58:32.823341Z",
     "iopub.status.idle": "2023-02-10T21:58:32.843242Z",
     "shell.execute_reply": "2023-02-10T21:58:32.842331Z"
    },
    "papermill": {
     "duration": 0.041966,
     "end_time": "2023-02-10T21:58:32.845811",
     "exception": false,
     "start_time": "2023-02-10T21:58:32.803845",
     "status": "completed"
    },
    "tags": []
   },
   "outputs": [],
   "source": [
    "state_merged=pd.merge(agriculture_related_data,district_rainfall_data,on='state',how='outer')"
   ]
  },
  {
   "cell_type": "code",
   "execution_count": 36,
   "id": "d1854ad3",
   "metadata": {
    "execution": {
     "iopub.execute_input": "2023-02-10T21:58:32.891193Z",
     "iopub.status.busy": "2023-02-10T21:58:32.890695Z",
     "iopub.status.idle": "2023-02-10T21:58:32.924814Z",
     "shell.execute_reply": "2023-02-10T21:58:32.923498Z"
    },
    "papermill": {
     "duration": 0.062176,
     "end_time": "2023-02-10T21:58:32.927351",
     "exception": false,
     "start_time": "2023-02-10T21:58:32.865175",
     "status": "completed"
    },
    "tags": []
   },
   "outputs": [
    {
     "data": {
      "text/html": [
       "<div>\n",
       "<style scoped>\n",
       "    .dataframe tbody tr th:only-of-type {\n",
       "        vertical-align: middle;\n",
       "    }\n",
       "\n",
       "    .dataframe tbody tr th {\n",
       "        vertical-align: top;\n",
       "    }\n",
       "\n",
       "    .dataframe thead th {\n",
       "        text-align: right;\n",
       "    }\n",
       "</style>\n",
       "<table border=\"1\" class=\"dataframe\">\n",
       "  <thead>\n",
       "    <tr style=\"text-align: right;\">\n",
       "      <th></th>\n",
       "      <th>state</th>\n",
       "      <th>district_x</th>\n",
       "      <th>market</th>\n",
       "      <th>commodity</th>\n",
       "      <th>variety</th>\n",
       "      <th>arrival_date</th>\n",
       "      <th>min_price</th>\n",
       "      <th>max_price</th>\n",
       "      <th>modal_price</th>\n",
       "      <th>district_y</th>\n",
       "      <th>...</th>\n",
       "      <th>AUG</th>\n",
       "      <th>SEP</th>\n",
       "      <th>OCT</th>\n",
       "      <th>NOV</th>\n",
       "      <th>DEC</th>\n",
       "      <th>ANNUAL</th>\n",
       "      <th>Jan-Feb</th>\n",
       "      <th>Mar-May</th>\n",
       "      <th>Jun-Sep</th>\n",
       "      <th>Oct-Dec</th>\n",
       "    </tr>\n",
       "  </thead>\n",
       "  <tbody>\n",
       "    <tr>\n",
       "      <th>0</th>\n",
       "      <td>Andaman and Nicobar</td>\n",
       "      <td>South Andaman</td>\n",
       "      <td>Port Blair</td>\n",
       "      <td>Amaranthus</td>\n",
       "      <td>Amaranthus</td>\n",
       "      <td>04/03/2019</td>\n",
       "      <td>6000.0</td>\n",
       "      <td>8000.0</td>\n",
       "      <td>7000.0</td>\n",
       "      <td>NaN</td>\n",
       "      <td>...</td>\n",
       "      <td>NaN</td>\n",
       "      <td>NaN</td>\n",
       "      <td>NaN</td>\n",
       "      <td>NaN</td>\n",
       "      <td>NaN</td>\n",
       "      <td>NaN</td>\n",
       "      <td>NaN</td>\n",
       "      <td>NaN</td>\n",
       "      <td>NaN</td>\n",
       "      <td>NaN</td>\n",
       "    </tr>\n",
       "    <tr>\n",
       "      <th>1</th>\n",
       "      <td>Andaman and Nicobar</td>\n",
       "      <td>South Andaman</td>\n",
       "      <td>Port Blair</td>\n",
       "      <td>Banana - Green</td>\n",
       "      <td>Banana - Green</td>\n",
       "      <td>04/03/2019</td>\n",
       "      <td>4500.0</td>\n",
       "      <td>5500.0</td>\n",
       "      <td>5000.0</td>\n",
       "      <td>NaN</td>\n",
       "      <td>...</td>\n",
       "      <td>NaN</td>\n",
       "      <td>NaN</td>\n",
       "      <td>NaN</td>\n",
       "      <td>NaN</td>\n",
       "      <td>NaN</td>\n",
       "      <td>NaN</td>\n",
       "      <td>NaN</td>\n",
       "      <td>NaN</td>\n",
       "      <td>NaN</td>\n",
       "      <td>NaN</td>\n",
       "    </tr>\n",
       "    <tr>\n",
       "      <th>2</th>\n",
       "      <td>Andaman and Nicobar</td>\n",
       "      <td>South Andaman</td>\n",
       "      <td>Port Blair</td>\n",
       "      <td>Bhindi(Ladies Finger)</td>\n",
       "      <td>Bhindi</td>\n",
       "      <td>04/03/2019</td>\n",
       "      <td>6000.0</td>\n",
       "      <td>8000.0</td>\n",
       "      <td>7000.0</td>\n",
       "      <td>NaN</td>\n",
       "      <td>...</td>\n",
       "      <td>NaN</td>\n",
       "      <td>NaN</td>\n",
       "      <td>NaN</td>\n",
       "      <td>NaN</td>\n",
       "      <td>NaN</td>\n",
       "      <td>NaN</td>\n",
       "      <td>NaN</td>\n",
       "      <td>NaN</td>\n",
       "      <td>NaN</td>\n",
       "      <td>NaN</td>\n",
       "    </tr>\n",
       "    <tr>\n",
       "      <th>3</th>\n",
       "      <td>Andaman and Nicobar</td>\n",
       "      <td>South Andaman</td>\n",
       "      <td>Port Blair</td>\n",
       "      <td>Bitter gourd</td>\n",
       "      <td>Other</td>\n",
       "      <td>04/03/2019</td>\n",
       "      <td>6000.0</td>\n",
       "      <td>8000.0</td>\n",
       "      <td>7000.0</td>\n",
       "      <td>NaN</td>\n",
       "      <td>...</td>\n",
       "      <td>NaN</td>\n",
       "      <td>NaN</td>\n",
       "      <td>NaN</td>\n",
       "      <td>NaN</td>\n",
       "      <td>NaN</td>\n",
       "      <td>NaN</td>\n",
       "      <td>NaN</td>\n",
       "      <td>NaN</td>\n",
       "      <td>NaN</td>\n",
       "      <td>NaN</td>\n",
       "    </tr>\n",
       "    <tr>\n",
       "      <th>4</th>\n",
       "      <td>Andaman and Nicobar</td>\n",
       "      <td>South Andaman</td>\n",
       "      <td>Port Blair</td>\n",
       "      <td>Black pepper</td>\n",
       "      <td>Other</td>\n",
       "      <td>04/03/2019</td>\n",
       "      <td>110000.0</td>\n",
       "      <td>130000.0</td>\n",
       "      <td>120000.0</td>\n",
       "      <td>NaN</td>\n",
       "      <td>...</td>\n",
       "      <td>NaN</td>\n",
       "      <td>NaN</td>\n",
       "      <td>NaN</td>\n",
       "      <td>NaN</td>\n",
       "      <td>NaN</td>\n",
       "      <td>NaN</td>\n",
       "      <td>NaN</td>\n",
       "      <td>NaN</td>\n",
       "      <td>NaN</td>\n",
       "      <td>NaN</td>\n",
       "    </tr>\n",
       "  </tbody>\n",
       "</table>\n",
       "<p>5 rows × 27 columns</p>\n",
       "</div>"
      ],
      "text/plain": [
       "                 state     district_x      market              commodity  \\\n",
       "0  Andaman and Nicobar  South Andaman  Port Blair             Amaranthus   \n",
       "1  Andaman and Nicobar  South Andaman  Port Blair         Banana - Green   \n",
       "2  Andaman and Nicobar  South Andaman  Port Blair  Bhindi(Ladies Finger)   \n",
       "3  Andaman and Nicobar  South Andaman  Port Blair           Bitter gourd   \n",
       "4  Andaman and Nicobar  South Andaman  Port Blair           Black pepper   \n",
       "\n",
       "          variety arrival_date  min_price  max_price  modal_price district_y  \\\n",
       "0      Amaranthus   04/03/2019     6000.0     8000.0       7000.0        NaN   \n",
       "1  Banana - Green   04/03/2019     4500.0     5500.0       5000.0        NaN   \n",
       "2          Bhindi   04/03/2019     6000.0     8000.0       7000.0        NaN   \n",
       "3           Other   04/03/2019     6000.0     8000.0       7000.0        NaN   \n",
       "4           Other   04/03/2019   110000.0   130000.0     120000.0        NaN   \n",
       "\n",
       "   ...  AUG  SEP  OCT  NOV  DEC  ANNUAL  Jan-Feb  Mar-May  Jun-Sep  Oct-Dec  \n",
       "0  ...  NaN  NaN  NaN  NaN  NaN     NaN      NaN      NaN      NaN      NaN  \n",
       "1  ...  NaN  NaN  NaN  NaN  NaN     NaN      NaN      NaN      NaN      NaN  \n",
       "2  ...  NaN  NaN  NaN  NaN  NaN     NaN      NaN      NaN      NaN      NaN  \n",
       "3  ...  NaN  NaN  NaN  NaN  NaN     NaN      NaN      NaN      NaN      NaN  \n",
       "4  ...  NaN  NaN  NaN  NaN  NaN     NaN      NaN      NaN      NaN      NaN  \n",
       "\n",
       "[5 rows x 27 columns]"
      ]
     },
     "execution_count": 36,
     "metadata": {},
     "output_type": "execute_result"
    }
   ],
   "source": [
    "state_merged.head()"
   ]
  },
  {
   "cell_type": "markdown",
   "id": "d6bd5a63",
   "metadata": {
    "papermill": {
     "duration": 0.022138,
     "end_time": "2023-02-10T21:58:32.968361",
     "exception": false,
     "start_time": "2023-02-10T21:58:32.946223",
     "status": "completed"
    },
    "tags": []
   },
   "source": [
    "kill me now if i get a lot of na values"
   ]
  },
  {
   "cell_type": "code",
   "execution_count": 37,
   "id": "b9a9f6a0",
   "metadata": {
    "execution": {
     "iopub.execute_input": "2023-02-10T21:58:33.008541Z",
     "iopub.status.busy": "2023-02-10T21:58:33.008087Z",
     "iopub.status.idle": "2023-02-10T21:58:33.019189Z",
     "shell.execute_reply": "2023-02-10T21:58:33.018279Z"
    },
    "papermill": {
     "duration": 0.034273,
     "end_time": "2023-02-10T21:58:33.021557",
     "exception": false,
     "start_time": "2023-02-10T21:58:32.987284",
     "status": "completed"
    },
    "tags": []
   },
   "outputs": [
    {
     "data": {
      "text/plain": [
       "45412"
      ]
     },
     "execution_count": 37,
     "metadata": {},
     "output_type": "execute_result"
    }
   ],
   "source": [
    "state_merged.isna().sum().sum()"
   ]
  },
  {
   "cell_type": "code",
   "execution_count": 38,
   "id": "b1e0f2cf",
   "metadata": {
    "execution": {
     "iopub.execute_input": "2023-02-10T21:58:33.076872Z",
     "iopub.status.busy": "2023-02-10T21:58:33.076246Z",
     "iopub.status.idle": "2023-02-10T21:58:33.089780Z",
     "shell.execute_reply": "2023-02-10T21:58:33.088477Z"
    },
    "papermill": {
     "duration": 0.042724,
     "end_time": "2023-02-10T21:58:33.092520",
     "exception": false,
     "start_time": "2023-02-10T21:58:33.049796",
     "status": "completed"
    },
    "tags": []
   },
   "outputs": [
    {
     "name": "stdout",
     "output_type": "stream",
     "text": [
      "state            0.000000\n",
      "district_x      22.264675\n",
      "market          22.264675\n",
      "commodity       22.264675\n",
      "variety         22.264675\n",
      "arrival_date    22.264675\n",
      "min_price       22.264675\n",
      "max_price       22.264675\n",
      "modal_price     22.264675\n",
      "district_y      77.735325\n",
      "JAN             77.735325\n",
      "FEB             77.735325\n",
      "MAR             77.735325\n",
      "APR             77.735325\n",
      "MAY             77.735325\n",
      "JUN             77.735325\n",
      "JUL             77.735325\n",
      "AUG             77.735325\n",
      "SEP             77.735325\n",
      "OCT             77.735325\n",
      "NOV             77.735325\n",
      "DEC             77.735325\n",
      "ANNUAL          77.735325\n",
      "Jan-Feb         77.735325\n",
      "Mar-May         77.735325\n",
      "Jun-Sep         77.735325\n",
      "Oct-Dec         77.735325\n",
      "dtype: float64\n"
     ]
    }
   ],
   "source": [
    "missing_values = state_merged.isna().mean() * 100\n",
    "\n",
    "print(missing_values)"
   ]
  },
  {
   "cell_type": "code",
   "execution_count": 39,
   "id": "07439025",
   "metadata": {
    "execution": {
     "iopub.execute_input": "2023-02-10T21:58:33.133439Z",
     "iopub.status.busy": "2023-02-10T21:58:33.132922Z",
     "iopub.status.idle": "2023-02-10T21:58:33.137752Z",
     "shell.execute_reply": "2023-02-10T21:58:33.136666Z"
    },
    "papermill": {
     "duration": 0.027833,
     "end_time": "2023-02-10T21:58:33.139940",
     "exception": false,
     "start_time": "2023-02-10T21:58:33.112107",
     "status": "completed"
    },
    "tags": []
   },
   "outputs": [],
   "source": [
    "# Impute missing values with the mean of the column\n",
    "# state_merged.fillna(state_merged.mean(), inplace=True)"
   ]
  },
  {
   "cell_type": "code",
   "execution_count": 40,
   "id": "913bcb36",
   "metadata": {
    "execution": {
     "iopub.execute_input": "2023-02-10T21:58:33.179676Z",
     "iopub.status.busy": "2023-02-10T21:58:33.179162Z",
     "iopub.status.idle": "2023-02-10T21:58:33.183936Z",
     "shell.execute_reply": "2023-02-10T21:58:33.182896Z"
    },
    "papermill": {
     "duration": 0.02757,
     "end_time": "2023-02-10T21:58:33.186210",
     "exception": false,
     "start_time": "2023-02-10T21:58:33.158640",
     "status": "completed"
    },
    "tags": []
   },
   "outputs": [],
   "source": [
    "# state_merged.isna().sum().sum()"
   ]
  },
  {
   "cell_type": "code",
   "execution_count": 41,
   "id": "fb3f6ded",
   "metadata": {
    "execution": {
     "iopub.execute_input": "2023-02-10T21:58:33.227990Z",
     "iopub.status.busy": "2023-02-10T21:58:33.225913Z",
     "iopub.status.idle": "2023-02-10T21:58:33.234868Z",
     "shell.execute_reply": "2023-02-10T21:58:33.233427Z"
    },
    "papermill": {
     "duration": 0.031933,
     "end_time": "2023-02-10T21:58:33.237582",
     "exception": false,
     "start_time": "2023-02-10T21:58:33.205649",
     "status": "completed"
    },
    "tags": []
   },
   "outputs": [
    {
     "name": "stdout",
     "output_type": "stream",
     "text": [
      "['ANDAMAN & NICOBAR ISLANDS' 'ARUNACHAL PRADESH' 'ASSAM & MEGHALAYA'\n",
      " 'NAGA MANI MIZO TRIPURA' 'SUB HIMALAYAN WEST BENGAL & SIKKIM'\n",
      " 'GANGETIC WEST BENGAL' 'ORISSA' 'JHARKHAND' 'BIHAR' 'EAST UTTAR PRADESH'\n",
      " 'WEST UTTAR PRADESH' 'UTTARAKHAND' 'HARYANA DELHI & CHANDIGARH' 'PUNJAB'\n",
      " 'HIMACHAL PRADESH' 'JAMMU & KASHMIR' 'WEST RAJASTHAN' 'EAST RAJASTHAN'\n",
      " 'WEST MADHYA PRADESH' 'EAST MADHYA PRADESH' 'GUJARAT REGION'\n",
      " 'SAURASHTRA & KUTCH' 'KONKAN & GOA' 'MADHYA MAHARASHTRA' 'MATATHWADA'\n",
      " 'VIDARBHA' 'CHHATTISGARH' 'COASTAL ANDHRA PRADESH' 'TELANGANA'\n",
      " 'RAYALSEEMA' 'TAMIL NADU' 'COASTAL KARNATAKA' 'NORTH INTERIOR KARNATAKA'\n",
      " 'SOUTH INTERIOR KARNATAKA' 'KERALA' 'LAKSHADWEEP']\n"
     ]
    }
   ],
   "source": [
    "subdivisions=india_rainfall_data['SUBDIVISION'].unique()\n",
    "print(subdivisions)"
   ]
  },
  {
   "cell_type": "code",
   "execution_count": 42,
   "id": "81cb5bb7",
   "metadata": {
    "execution": {
     "iopub.execute_input": "2023-02-10T21:58:33.278971Z",
     "iopub.status.busy": "2023-02-10T21:58:33.278058Z",
     "iopub.status.idle": "2023-02-10T21:58:33.284473Z",
     "shell.execute_reply": "2023-02-10T21:58:33.283164Z"
    },
    "papermill": {
     "duration": 0.030443,
     "end_time": "2023-02-10T21:58:33.287451",
     "exception": false,
     "start_time": "2023-02-10T21:58:33.257008",
     "status": "completed"
    },
    "tags": []
   },
   "outputs": [
    {
     "name": "stdout",
     "output_type": "stream",
     "text": [
      "36\n"
     ]
    }
   ],
   "source": [
    "print(len(subdivisions))"
   ]
  },
  {
   "cell_type": "code",
   "execution_count": 43,
   "id": "5203eed4",
   "metadata": {
    "execution": {
     "iopub.execute_input": "2023-02-10T21:58:33.327549Z",
     "iopub.status.busy": "2023-02-10T21:58:33.327041Z",
     "iopub.status.idle": "2023-02-10T21:58:33.363630Z",
     "shell.execute_reply": "2023-02-10T21:58:33.362490Z"
    },
    "papermill": {
     "duration": 0.059145,
     "end_time": "2023-02-10T21:58:33.365978",
     "exception": false,
     "start_time": "2023-02-10T21:58:33.306833",
     "status": "completed"
    },
    "tags": []
   },
   "outputs": [
    {
     "data": {
      "text/html": [
       "<div>\n",
       "<style scoped>\n",
       "    .dataframe tbody tr th:only-of-type {\n",
       "        vertical-align: middle;\n",
       "    }\n",
       "\n",
       "    .dataframe tbody tr th {\n",
       "        vertical-align: top;\n",
       "    }\n",
       "\n",
       "    .dataframe thead th {\n",
       "        text-align: right;\n",
       "    }\n",
       "</style>\n",
       "<table border=\"1\" class=\"dataframe\">\n",
       "  <thead>\n",
       "    <tr style=\"text-align: right;\">\n",
       "      <th></th>\n",
       "      <th>state</th>\n",
       "      <th>YEAR</th>\n",
       "      <th>JAN</th>\n",
       "      <th>FEB</th>\n",
       "      <th>MAR</th>\n",
       "      <th>APR</th>\n",
       "      <th>MAY</th>\n",
       "      <th>JUN</th>\n",
       "      <th>JUL</th>\n",
       "      <th>AUG</th>\n",
       "      <th>SEP</th>\n",
       "      <th>OCT</th>\n",
       "      <th>NOV</th>\n",
       "      <th>DEC</th>\n",
       "      <th>ANNUAL</th>\n",
       "      <th>Jan-Feb</th>\n",
       "      <th>Mar-May</th>\n",
       "      <th>Jun-Sep</th>\n",
       "      <th>Oct-Dec</th>\n",
       "    </tr>\n",
       "  </thead>\n",
       "  <tbody>\n",
       "    <tr>\n",
       "      <th>0</th>\n",
       "      <td>ANDAMAN &amp; NICOBAR ISLANDS</td>\n",
       "      <td>1901</td>\n",
       "      <td>49.2</td>\n",
       "      <td>87.1</td>\n",
       "      <td>29.2</td>\n",
       "      <td>2.3</td>\n",
       "      <td>528.8</td>\n",
       "      <td>517.5</td>\n",
       "      <td>365.1</td>\n",
       "      <td>481.1</td>\n",
       "      <td>332.6</td>\n",
       "      <td>388.5</td>\n",
       "      <td>558.2</td>\n",
       "      <td>33.6</td>\n",
       "      <td>3373.2</td>\n",
       "      <td>136.3</td>\n",
       "      <td>560.3</td>\n",
       "      <td>1696.3</td>\n",
       "      <td>980.3</td>\n",
       "    </tr>\n",
       "    <tr>\n",
       "      <th>1</th>\n",
       "      <td>ANDAMAN &amp; NICOBAR ISLANDS</td>\n",
       "      <td>1902</td>\n",
       "      <td>0.0</td>\n",
       "      <td>159.8</td>\n",
       "      <td>12.2</td>\n",
       "      <td>0.0</td>\n",
       "      <td>446.1</td>\n",
       "      <td>537.1</td>\n",
       "      <td>228.9</td>\n",
       "      <td>753.7</td>\n",
       "      <td>666.2</td>\n",
       "      <td>197.2</td>\n",
       "      <td>359.0</td>\n",
       "      <td>160.5</td>\n",
       "      <td>3520.7</td>\n",
       "      <td>159.8</td>\n",
       "      <td>458.3</td>\n",
       "      <td>2185.9</td>\n",
       "      <td>716.7</td>\n",
       "    </tr>\n",
       "    <tr>\n",
       "      <th>2</th>\n",
       "      <td>ANDAMAN &amp; NICOBAR ISLANDS</td>\n",
       "      <td>1903</td>\n",
       "      <td>12.7</td>\n",
       "      <td>144.0</td>\n",
       "      <td>0.0</td>\n",
       "      <td>1.0</td>\n",
       "      <td>235.1</td>\n",
       "      <td>479.9</td>\n",
       "      <td>728.4</td>\n",
       "      <td>326.7</td>\n",
       "      <td>339.0</td>\n",
       "      <td>181.2</td>\n",
       "      <td>284.4</td>\n",
       "      <td>225.0</td>\n",
       "      <td>2957.4</td>\n",
       "      <td>156.7</td>\n",
       "      <td>236.1</td>\n",
       "      <td>1874.0</td>\n",
       "      <td>690.6</td>\n",
       "    </tr>\n",
       "    <tr>\n",
       "      <th>3</th>\n",
       "      <td>ANDAMAN &amp; NICOBAR ISLANDS</td>\n",
       "      <td>1904</td>\n",
       "      <td>9.4</td>\n",
       "      <td>14.7</td>\n",
       "      <td>0.0</td>\n",
       "      <td>202.4</td>\n",
       "      <td>304.5</td>\n",
       "      <td>495.1</td>\n",
       "      <td>502.0</td>\n",
       "      <td>160.1</td>\n",
       "      <td>820.4</td>\n",
       "      <td>222.2</td>\n",
       "      <td>308.7</td>\n",
       "      <td>40.1</td>\n",
       "      <td>3079.6</td>\n",
       "      <td>24.1</td>\n",
       "      <td>506.9</td>\n",
       "      <td>1977.6</td>\n",
       "      <td>571.0</td>\n",
       "    </tr>\n",
       "    <tr>\n",
       "      <th>4</th>\n",
       "      <td>ANDAMAN &amp; NICOBAR ISLANDS</td>\n",
       "      <td>1905</td>\n",
       "      <td>1.3</td>\n",
       "      <td>0.0</td>\n",
       "      <td>3.3</td>\n",
       "      <td>26.9</td>\n",
       "      <td>279.5</td>\n",
       "      <td>628.7</td>\n",
       "      <td>368.7</td>\n",
       "      <td>330.5</td>\n",
       "      <td>297.0</td>\n",
       "      <td>260.7</td>\n",
       "      <td>25.4</td>\n",
       "      <td>344.7</td>\n",
       "      <td>2566.7</td>\n",
       "      <td>1.3</td>\n",
       "      <td>309.7</td>\n",
       "      <td>1624.9</td>\n",
       "      <td>630.8</td>\n",
       "    </tr>\n",
       "  </tbody>\n",
       "</table>\n",
       "</div>"
      ],
      "text/plain": [
       "                       state  YEAR   JAN    FEB   MAR    APR    MAY    JUN  \\\n",
       "0  ANDAMAN & NICOBAR ISLANDS  1901  49.2   87.1  29.2    2.3  528.8  517.5   \n",
       "1  ANDAMAN & NICOBAR ISLANDS  1902   0.0  159.8  12.2    0.0  446.1  537.1   \n",
       "2  ANDAMAN & NICOBAR ISLANDS  1903  12.7  144.0   0.0    1.0  235.1  479.9   \n",
       "3  ANDAMAN & NICOBAR ISLANDS  1904   9.4   14.7   0.0  202.4  304.5  495.1   \n",
       "4  ANDAMAN & NICOBAR ISLANDS  1905   1.3    0.0   3.3   26.9  279.5  628.7   \n",
       "\n",
       "     JUL    AUG    SEP    OCT    NOV    DEC  ANNUAL  Jan-Feb  Mar-May  \\\n",
       "0  365.1  481.1  332.6  388.5  558.2   33.6  3373.2    136.3    560.3   \n",
       "1  228.9  753.7  666.2  197.2  359.0  160.5  3520.7    159.8    458.3   \n",
       "2  728.4  326.7  339.0  181.2  284.4  225.0  2957.4    156.7    236.1   \n",
       "3  502.0  160.1  820.4  222.2  308.7   40.1  3079.6     24.1    506.9   \n",
       "4  368.7  330.5  297.0  260.7   25.4  344.7  2566.7      1.3    309.7   \n",
       "\n",
       "   Jun-Sep  Oct-Dec  \n",
       "0   1696.3    980.3  \n",
       "1   2185.9    716.7  \n",
       "2   1874.0    690.6  \n",
       "3   1977.6    571.0  \n",
       "4   1624.9    630.8  "
      ]
     },
     "execution_count": 43,
     "metadata": {},
     "output_type": "execute_result"
    }
   ],
   "source": [
    "india_rainfall_data.rename(columns={'SUBDIVISION': 'state'},inplace=True)\n",
    "india_rainfall_data.head()"
   ]
  },
  {
   "cell_type": "code",
   "execution_count": 44,
   "id": "94a50b78",
   "metadata": {
    "execution": {
     "iopub.execute_input": "2023-02-10T21:58:33.406326Z",
     "iopub.status.busy": "2023-02-10T21:58:33.405649Z",
     "iopub.status.idle": "2023-02-10T21:58:33.643980Z",
     "shell.execute_reply": "2023-02-10T21:58:33.642619Z"
    },
    "papermill": {
     "duration": 0.261384,
     "end_time": "2023-02-10T21:58:33.646402",
     "exception": false,
     "start_time": "2023-02-10T21:58:33.385018",
     "status": "completed"
    },
    "tags": []
   },
   "outputs": [
    {
     "name": "stderr",
     "output_type": "stream",
     "text": [
      "/opt/conda/lib/python3.7/site-packages/ipykernel_launcher.py:5: FutureWarning: Dropping of nuisance columns in DataFrame reductions (with 'numeric_only=None') is deprecated; in a future version this will raise TypeError.  Select only valid columns before calling the reduction.\n",
      "  \"\"\"\n"
     ]
    },
    {
     "data": {
      "text/html": [
       "<div>\n",
       "<style scoped>\n",
       "    .dataframe tbody tr th:only-of-type {\n",
       "        vertical-align: middle;\n",
       "    }\n",
       "\n",
       "    .dataframe tbody tr th {\n",
       "        vertical-align: top;\n",
       "    }\n",
       "\n",
       "    .dataframe thead th {\n",
       "        text-align: right;\n",
       "    }\n",
       "</style>\n",
       "<table border=\"1\" class=\"dataframe\">\n",
       "  <thead>\n",
       "    <tr style=\"text-align: right;\">\n",
       "      <th></th>\n",
       "      <th>state</th>\n",
       "      <th>YEAR</th>\n",
       "      <th>JAN_x</th>\n",
       "      <th>FEB_x</th>\n",
       "      <th>MAR_x</th>\n",
       "      <th>APR_x</th>\n",
       "      <th>MAY_x</th>\n",
       "      <th>JUN_x</th>\n",
       "      <th>JUL_x</th>\n",
       "      <th>AUG_x</th>\n",
       "      <th>...</th>\n",
       "      <th>Jun-Sep_y</th>\n",
       "      <th>Oct-Dec_y</th>\n",
       "      <th>district_y</th>\n",
       "      <th>market</th>\n",
       "      <th>commodity</th>\n",
       "      <th>variety</th>\n",
       "      <th>arrival_date</th>\n",
       "      <th>min_price</th>\n",
       "      <th>max_price</th>\n",
       "      <th>modal_price</th>\n",
       "    </tr>\n",
       "  </thead>\n",
       "  <tbody>\n",
       "    <tr>\n",
       "      <th>0</th>\n",
       "      <td>ANDAMAN &amp; NICOBAR ISLANDS</td>\n",
       "      <td>1901.0</td>\n",
       "      <td>49.2</td>\n",
       "      <td>87.1</td>\n",
       "      <td>29.2</td>\n",
       "      <td>2.3</td>\n",
       "      <td>528.8</td>\n",
       "      <td>517.5</td>\n",
       "      <td>365.1</td>\n",
       "      <td>481.1</td>\n",
       "      <td>...</td>\n",
       "      <td>1007.78413</td>\n",
       "      <td>207.296242</td>\n",
       "      <td>NaN</td>\n",
       "      <td>NaN</td>\n",
       "      <td>NaN</td>\n",
       "      <td>NaN</td>\n",
       "      <td>NaN</td>\n",
       "      <td>2456.230563</td>\n",
       "      <td>2855.890527</td>\n",
       "      <td>2698.865952</td>\n",
       "    </tr>\n",
       "    <tr>\n",
       "      <th>1</th>\n",
       "      <td>ANDAMAN &amp; NICOBAR ISLANDS</td>\n",
       "      <td>1902.0</td>\n",
       "      <td>0.0</td>\n",
       "      <td>159.8</td>\n",
       "      <td>12.2</td>\n",
       "      <td>0.0</td>\n",
       "      <td>446.1</td>\n",
       "      <td>537.1</td>\n",
       "      <td>228.9</td>\n",
       "      <td>753.7</td>\n",
       "      <td>...</td>\n",
       "      <td>1007.78413</td>\n",
       "      <td>207.296242</td>\n",
       "      <td>NaN</td>\n",
       "      <td>NaN</td>\n",
       "      <td>NaN</td>\n",
       "      <td>NaN</td>\n",
       "      <td>NaN</td>\n",
       "      <td>2456.230563</td>\n",
       "      <td>2855.890527</td>\n",
       "      <td>2698.865952</td>\n",
       "    </tr>\n",
       "    <tr>\n",
       "      <th>2</th>\n",
       "      <td>ANDAMAN &amp; NICOBAR ISLANDS</td>\n",
       "      <td>1903.0</td>\n",
       "      <td>12.7</td>\n",
       "      <td>144.0</td>\n",
       "      <td>0.0</td>\n",
       "      <td>1.0</td>\n",
       "      <td>235.1</td>\n",
       "      <td>479.9</td>\n",
       "      <td>728.4</td>\n",
       "      <td>326.7</td>\n",
       "      <td>...</td>\n",
       "      <td>1007.78413</td>\n",
       "      <td>207.296242</td>\n",
       "      <td>NaN</td>\n",
       "      <td>NaN</td>\n",
       "      <td>NaN</td>\n",
       "      <td>NaN</td>\n",
       "      <td>NaN</td>\n",
       "      <td>2456.230563</td>\n",
       "      <td>2855.890527</td>\n",
       "      <td>2698.865952</td>\n",
       "    </tr>\n",
       "    <tr>\n",
       "      <th>3</th>\n",
       "      <td>ANDAMAN &amp; NICOBAR ISLANDS</td>\n",
       "      <td>1904.0</td>\n",
       "      <td>9.4</td>\n",
       "      <td>14.7</td>\n",
       "      <td>0.0</td>\n",
       "      <td>202.4</td>\n",
       "      <td>304.5</td>\n",
       "      <td>495.1</td>\n",
       "      <td>502.0</td>\n",
       "      <td>160.1</td>\n",
       "      <td>...</td>\n",
       "      <td>1007.78413</td>\n",
       "      <td>207.296242</td>\n",
       "      <td>NaN</td>\n",
       "      <td>NaN</td>\n",
       "      <td>NaN</td>\n",
       "      <td>NaN</td>\n",
       "      <td>NaN</td>\n",
       "      <td>2456.230563</td>\n",
       "      <td>2855.890527</td>\n",
       "      <td>2698.865952</td>\n",
       "    </tr>\n",
       "    <tr>\n",
       "      <th>4</th>\n",
       "      <td>ANDAMAN &amp; NICOBAR ISLANDS</td>\n",
       "      <td>1905.0</td>\n",
       "      <td>1.3</td>\n",
       "      <td>0.0</td>\n",
       "      <td>3.3</td>\n",
       "      <td>26.9</td>\n",
       "      <td>279.5</td>\n",
       "      <td>628.7</td>\n",
       "      <td>368.7</td>\n",
       "      <td>330.5</td>\n",
       "      <td>...</td>\n",
       "      <td>1007.78413</td>\n",
       "      <td>207.296242</td>\n",
       "      <td>NaN</td>\n",
       "      <td>NaN</td>\n",
       "      <td>NaN</td>\n",
       "      <td>NaN</td>\n",
       "      <td>NaN</td>\n",
       "      <td>2456.230563</td>\n",
       "      <td>2855.890527</td>\n",
       "      <td>2698.865952</td>\n",
       "    </tr>\n",
       "  </tbody>\n",
       "</table>\n",
       "<p>5 rows × 45 columns</p>\n",
       "</div>"
      ],
      "text/plain": [
       "                       state    YEAR  JAN_x  FEB_x  MAR_x  APR_x  MAY_x  \\\n",
       "0  ANDAMAN & NICOBAR ISLANDS  1901.0   49.2   87.1   29.2    2.3  528.8   \n",
       "1  ANDAMAN & NICOBAR ISLANDS  1902.0    0.0  159.8   12.2    0.0  446.1   \n",
       "2  ANDAMAN & NICOBAR ISLANDS  1903.0   12.7  144.0    0.0    1.0  235.1   \n",
       "3  ANDAMAN & NICOBAR ISLANDS  1904.0    9.4   14.7    0.0  202.4  304.5   \n",
       "4  ANDAMAN & NICOBAR ISLANDS  1905.0    1.3    0.0    3.3   26.9  279.5   \n",
       "\n",
       "   JUN_x  JUL_x  AUG_x  ...   Jun-Sep_y   Oct-Dec_y  district_y  market  \\\n",
       "0  517.5  365.1  481.1  ...  1007.78413  207.296242         NaN     NaN   \n",
       "1  537.1  228.9  753.7  ...  1007.78413  207.296242         NaN     NaN   \n",
       "2  479.9  728.4  326.7  ...  1007.78413  207.296242         NaN     NaN   \n",
       "3  495.1  502.0  160.1  ...  1007.78413  207.296242         NaN     NaN   \n",
       "4  628.7  368.7  330.5  ...  1007.78413  207.296242         NaN     NaN   \n",
       "\n",
       "   commodity  variety  arrival_date    min_price    max_price  modal_price  \n",
       "0        NaN      NaN           NaN  2456.230563  2855.890527  2698.865952  \n",
       "1        NaN      NaN           NaN  2456.230563  2855.890527  2698.865952  \n",
       "2        NaN      NaN           NaN  2456.230563  2855.890527  2698.865952  \n",
       "3        NaN      NaN           NaN  2456.230563  2855.890527  2698.865952  \n",
       "4        NaN      NaN           NaN  2456.230563  2855.890527  2698.865952  \n",
       "\n",
       "[5 rows x 45 columns]"
      ]
     },
     "execution_count": 44,
     "metadata": {},
     "output_type": "execute_result"
    }
   ],
   "source": [
    "merged_dataset = pd.merge(india_rainfall_data,district_rainfall_data, on='state', how='outer')\n",
    "merged_dataset = pd.merge(merged_dataset,agriculture_related_data, on='state', how='outer')\n",
    "\n",
    "# Impute all NaN values with the mean value of each column\n",
    "merged_dataset.fillna(merged_dataset.mean(), inplace=True)\n",
    "\n",
    "# Print the head of the merged dataset\n",
    "merged_dataset.head()"
   ]
  },
  {
   "cell_type": "code",
   "execution_count": null,
   "id": "c33275fd",
   "metadata": {
    "papermill": {
     "duration": 0.019414,
     "end_time": "2023-02-10T21:58:33.685703",
     "exception": false,
     "start_time": "2023-02-10T21:58:33.666289",
     "status": "completed"
    },
    "tags": []
   },
   "outputs": [],
   "source": []
  }
 ],
 "metadata": {
  "kernelspec": {
   "display_name": "Python 3",
   "language": "python",
   "name": "python3"
  },
  "language_info": {
   "codemirror_mode": {
    "name": "ipython",
    "version": 3
   },
   "file_extension": ".py",
   "mimetype": "text/x-python",
   "name": "python",
   "nbconvert_exporter": "python",
   "pygments_lexer": "ipython3",
   "version": "3.7.12"
  },
  "papermill": {
   "default_parameters": {},
   "duration": 12.821137,
   "end_time": "2023-02-10T21:58:34.328485",
   "environment_variables": {},
   "exception": null,
   "input_path": "__notebook__.ipynb",
   "output_path": "__notebook__.ipynb",
   "parameters": {},
   "start_time": "2023-02-10T21:58:21.507348",
   "version": "2.3.4"
  }
 },
 "nbformat": 4,
 "nbformat_minor": 5
}
