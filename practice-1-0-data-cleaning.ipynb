{
 "cells": [
  {
   "cell_type": "code",
   "execution_count": 1,
   "id": "51455218",
   "metadata": {
    "_cell_guid": "b1076dfc-b9ad-4769-8c92-a6c4dae69d19",
    "_uuid": "8f2839f25d086af736a60e9eeb907d3b93b6e0e5",
    "execution": {
     "iopub.execute_input": "2023-02-10T22:11:30.824168Z",
     "iopub.status.busy": "2023-02-10T22:11:30.823662Z",
     "iopub.status.idle": "2023-02-10T22:11:30.864177Z",
     "shell.execute_reply": "2023-02-10T22:11:30.863072Z"
    },
    "papermill": {
     "duration": 0.064139,
     "end_time": "2023-02-10T22:11:30.867686",
     "exception": false,
     "start_time": "2023-02-10T22:11:30.803547",
     "status": "completed"
    },
    "scrolled": true,
    "tags": []
   },
   "outputs": [
    {
     "name": "stdout",
     "output_type": "stream",
     "text": [
      "/kaggle/input/historicalweatherdataforindiancities/Temperature_And_Precipitation_Cities_IN/Lucknow_1990_2022.csv\n",
      "/kaggle/input/historicalweatherdataforindiancities/Temperature_And_Precipitation_Cities_IN/Delhi_NCR_1990_2022_Safdarjung.csv\n",
      "/kaggle/input/historicalweatherdataforindiancities/Temperature_And_Precipitation_Cities_IN/weather_Rourkela_2021_2022.csv\n",
      "/kaggle/input/historicalweatherdataforindiancities/Temperature_And_Precipitation_Cities_IN/Chennai_1990_2022_Madras.csv\n",
      "/kaggle/input/historicalweatherdataforindiancities/Temperature_And_Precipitation_Cities_IN/Rajasthan_1990_2022_Jodhpur.csv\n",
      "/kaggle/input/historicalweatherdataforindiancities/Temperature_And_Precipitation_Cities_IN/Bangalore_1990_2022_BangaloreCity.csv\n",
      "/kaggle/input/historicalweatherdataforindiancities/Temperature_And_Precipitation_Cities_IN/Station_GeoLocation_Longitute_Latitude_Elevation_EPSG_4326.csv\n",
      "/kaggle/input/historicalweatherdataforindiancities/Temperature_And_Precipitation_Cities_IN/Mumbai_1990_2022_Santacruz.csv\n",
      "/kaggle/input/historicalweatherdataforindiancities/Temperature_And_Precipitation_Cities_IN/weather_Bhubhneshwar_1990_2022.csv\n",
      "/kaggle/input/all-agriculture-related-datasets-for-india/csv\n",
      "/kaggle/input/crop-recommendation-dataset/Crop_recommendation.csv\n",
      "/kaggle/input/rainfall-in-india/rainfall in india 1901-2015.csv\n",
      "/kaggle/input/rainfall-in-india/district wise rainfall normal.csv\n"
     ]
    }
   ],
   "source": [
    "# This Python 3 environment comes with many helpful analytics libraries installed\n",
    "# It is defined by the kaggle/python Docker image: https://github.com/kaggle/docker-python\n",
    "# For example, here's several helpful packages to load\n",
    "\n",
    "import numpy as np # linear algebra\n",
    "import pandas as pd # data processing, CSV file I/O (e.g. pd.read_csv)\n",
    "\n",
    "# Input data files are available in the read-only \"../input/\" directory\n",
    "# For example, running this (by clicking run or pressing Shift+Enter) will list all files under the input directory\n",
    "\n",
    "import os\n",
    "for dirname, _, filenames in os.walk('/kaggle/input'):\n",
    "    for filename in filenames:\n",
    "        print(os.path.join(dirname, filename))\n",
    "\n",
    "# You can write up to 20GB to the current directory (/kaggle/working/) that gets preserved as output when you create a version using \"Save & Run All\" \n",
    "# You can also write temporary files to /kaggle/temp/, but they won't be saved outside of the current session"
   ]
  },
  {
   "cell_type": "markdown",
   "id": "f3e024e3",
   "metadata": {
    "papermill": {
     "duration": 0.017431,
     "end_time": "2023-02-10T22:11:30.901035",
     "exception": false,
     "start_time": "2023-02-10T22:11:30.883604",
     "status": "completed"
    },
    "tags": []
   },
   "source": [
    "extracting the rainfall data and viewing the features accordingly"
   ]
  },
  {
   "cell_type": "code",
   "execution_count": 2,
   "id": "6b412efc",
   "metadata": {
    "execution": {
     "iopub.execute_input": "2023-02-10T22:11:30.934984Z",
     "iopub.status.busy": "2023-02-10T22:11:30.934513Z",
     "iopub.status.idle": "2023-02-10T22:11:30.983946Z",
     "shell.execute_reply": "2023-02-10T22:11:30.982713Z"
    },
    "papermill": {
     "duration": 0.070235,
     "end_time": "2023-02-10T22:11:30.986828",
     "exception": false,
     "start_time": "2023-02-10T22:11:30.916593",
     "status": "completed"
    },
    "tags": []
   },
   "outputs": [],
   "source": [
    "district_rainfall_data=pd.read_csv('/kaggle/input/rainfall-in-india/district wise rainfall normal.csv')\n",
    "india_rainfall_data=pd.read_csv('/kaggle/input/rainfall-in-india/rainfall in india 1901-2015.csv')"
   ]
  },
  {
   "cell_type": "code",
   "execution_count": 3,
   "id": "595087d6",
   "metadata": {
    "execution": {
     "iopub.execute_input": "2023-02-10T22:11:31.021451Z",
     "iopub.status.busy": "2023-02-10T22:11:31.020965Z",
     "iopub.status.idle": "2023-02-10T22:11:31.064615Z",
     "shell.execute_reply": "2023-02-10T22:11:31.063276Z"
    },
    "papermill": {
     "duration": 0.064211,
     "end_time": "2023-02-10T22:11:31.067248",
     "exception": false,
     "start_time": "2023-02-10T22:11:31.003037",
     "status": "completed"
    },
    "tags": []
   },
   "outputs": [
    {
     "data": {
      "text/html": [
       "<div>\n",
       "<style scoped>\n",
       "    .dataframe tbody tr th:only-of-type {\n",
       "        vertical-align: middle;\n",
       "    }\n",
       "\n",
       "    .dataframe tbody tr th {\n",
       "        vertical-align: top;\n",
       "    }\n",
       "\n",
       "    .dataframe thead th {\n",
       "        text-align: right;\n",
       "    }\n",
       "</style>\n",
       "<table border=\"1\" class=\"dataframe\">\n",
       "  <thead>\n",
       "    <tr style=\"text-align: right;\">\n",
       "      <th></th>\n",
       "      <th>STATE_UT_NAME</th>\n",
       "      <th>DISTRICT</th>\n",
       "      <th>JAN</th>\n",
       "      <th>FEB</th>\n",
       "      <th>MAR</th>\n",
       "      <th>APR</th>\n",
       "      <th>MAY</th>\n",
       "      <th>JUN</th>\n",
       "      <th>JUL</th>\n",
       "      <th>AUG</th>\n",
       "      <th>SEP</th>\n",
       "      <th>OCT</th>\n",
       "      <th>NOV</th>\n",
       "      <th>DEC</th>\n",
       "      <th>ANNUAL</th>\n",
       "      <th>Jan-Feb</th>\n",
       "      <th>Mar-May</th>\n",
       "      <th>Jun-Sep</th>\n",
       "      <th>Oct-Dec</th>\n",
       "    </tr>\n",
       "  </thead>\n",
       "  <tbody>\n",
       "    <tr>\n",
       "      <th>0</th>\n",
       "      <td>ANDAMAN And NICOBAR ISLANDS</td>\n",
       "      <td>NICOBAR</td>\n",
       "      <td>107.3</td>\n",
       "      <td>57.9</td>\n",
       "      <td>65.2</td>\n",
       "      <td>117.0</td>\n",
       "      <td>358.5</td>\n",
       "      <td>295.5</td>\n",
       "      <td>285.0</td>\n",
       "      <td>271.9</td>\n",
       "      <td>354.8</td>\n",
       "      <td>326.0</td>\n",
       "      <td>315.2</td>\n",
       "      <td>250.9</td>\n",
       "      <td>2805.2</td>\n",
       "      <td>165.2</td>\n",
       "      <td>540.7</td>\n",
       "      <td>1207.2</td>\n",
       "      <td>892.1</td>\n",
       "    </tr>\n",
       "    <tr>\n",
       "      <th>1</th>\n",
       "      <td>ANDAMAN And NICOBAR ISLANDS</td>\n",
       "      <td>SOUTH ANDAMAN</td>\n",
       "      <td>43.7</td>\n",
       "      <td>26.0</td>\n",
       "      <td>18.6</td>\n",
       "      <td>90.5</td>\n",
       "      <td>374.4</td>\n",
       "      <td>457.2</td>\n",
       "      <td>421.3</td>\n",
       "      <td>423.1</td>\n",
       "      <td>455.6</td>\n",
       "      <td>301.2</td>\n",
       "      <td>275.8</td>\n",
       "      <td>128.3</td>\n",
       "      <td>3015.7</td>\n",
       "      <td>69.7</td>\n",
       "      <td>483.5</td>\n",
       "      <td>1757.2</td>\n",
       "      <td>705.3</td>\n",
       "    </tr>\n",
       "    <tr>\n",
       "      <th>2</th>\n",
       "      <td>ANDAMAN And NICOBAR ISLANDS</td>\n",
       "      <td>N &amp; M ANDAMAN</td>\n",
       "      <td>32.7</td>\n",
       "      <td>15.9</td>\n",
       "      <td>8.6</td>\n",
       "      <td>53.4</td>\n",
       "      <td>343.6</td>\n",
       "      <td>503.3</td>\n",
       "      <td>465.4</td>\n",
       "      <td>460.9</td>\n",
       "      <td>454.8</td>\n",
       "      <td>276.1</td>\n",
       "      <td>198.6</td>\n",
       "      <td>100.0</td>\n",
       "      <td>2913.3</td>\n",
       "      <td>48.6</td>\n",
       "      <td>405.6</td>\n",
       "      <td>1884.4</td>\n",
       "      <td>574.7</td>\n",
       "    </tr>\n",
       "    <tr>\n",
       "      <th>3</th>\n",
       "      <td>ARUNACHAL PRADESH</td>\n",
       "      <td>LOHIT</td>\n",
       "      <td>42.2</td>\n",
       "      <td>80.8</td>\n",
       "      <td>176.4</td>\n",
       "      <td>358.5</td>\n",
       "      <td>306.4</td>\n",
       "      <td>447.0</td>\n",
       "      <td>660.1</td>\n",
       "      <td>427.8</td>\n",
       "      <td>313.6</td>\n",
       "      <td>167.1</td>\n",
       "      <td>34.1</td>\n",
       "      <td>29.8</td>\n",
       "      <td>3043.8</td>\n",
       "      <td>123.0</td>\n",
       "      <td>841.3</td>\n",
       "      <td>1848.5</td>\n",
       "      <td>231.0</td>\n",
       "    </tr>\n",
       "    <tr>\n",
       "      <th>4</th>\n",
       "      <td>ARUNACHAL PRADESH</td>\n",
       "      <td>EAST SIANG</td>\n",
       "      <td>33.3</td>\n",
       "      <td>79.5</td>\n",
       "      <td>105.9</td>\n",
       "      <td>216.5</td>\n",
       "      <td>323.0</td>\n",
       "      <td>738.3</td>\n",
       "      <td>990.9</td>\n",
       "      <td>711.2</td>\n",
       "      <td>568.0</td>\n",
       "      <td>206.9</td>\n",
       "      <td>29.5</td>\n",
       "      <td>31.7</td>\n",
       "      <td>4034.7</td>\n",
       "      <td>112.8</td>\n",
       "      <td>645.4</td>\n",
       "      <td>3008.4</td>\n",
       "      <td>268.1</td>\n",
       "    </tr>\n",
       "  </tbody>\n",
       "</table>\n",
       "</div>"
      ],
      "text/plain": [
       "                 STATE_UT_NAME       DISTRICT    JAN   FEB    MAR    APR  \\\n",
       "0  ANDAMAN And NICOBAR ISLANDS        NICOBAR  107.3  57.9   65.2  117.0   \n",
       "1  ANDAMAN And NICOBAR ISLANDS  SOUTH ANDAMAN   43.7  26.0   18.6   90.5   \n",
       "2  ANDAMAN And NICOBAR ISLANDS  N & M ANDAMAN   32.7  15.9    8.6   53.4   \n",
       "3            ARUNACHAL PRADESH          LOHIT   42.2  80.8  176.4  358.5   \n",
       "4            ARUNACHAL PRADESH     EAST SIANG   33.3  79.5  105.9  216.5   \n",
       "\n",
       "     MAY    JUN    JUL    AUG    SEP    OCT    NOV    DEC  ANNUAL  Jan-Feb  \\\n",
       "0  358.5  295.5  285.0  271.9  354.8  326.0  315.2  250.9  2805.2    165.2   \n",
       "1  374.4  457.2  421.3  423.1  455.6  301.2  275.8  128.3  3015.7     69.7   \n",
       "2  343.6  503.3  465.4  460.9  454.8  276.1  198.6  100.0  2913.3     48.6   \n",
       "3  306.4  447.0  660.1  427.8  313.6  167.1   34.1   29.8  3043.8    123.0   \n",
       "4  323.0  738.3  990.9  711.2  568.0  206.9   29.5   31.7  4034.7    112.8   \n",
       "\n",
       "   Mar-May  Jun-Sep  Oct-Dec  \n",
       "0    540.7   1207.2    892.1  \n",
       "1    483.5   1757.2    705.3  \n",
       "2    405.6   1884.4    574.7  \n",
       "3    841.3   1848.5    231.0  \n",
       "4    645.4   3008.4    268.1  "
      ]
     },
     "execution_count": 3,
     "metadata": {},
     "output_type": "execute_result"
    }
   ],
   "source": [
    "district_rainfall_data.head()"
   ]
  },
  {
   "cell_type": "code",
   "execution_count": 4,
   "id": "64cd085a",
   "metadata": {
    "execution": {
     "iopub.execute_input": "2023-02-10T22:11:31.101080Z",
     "iopub.status.busy": "2023-02-10T22:11:31.100142Z",
     "iopub.status.idle": "2023-02-10T22:11:31.130942Z",
     "shell.execute_reply": "2023-02-10T22:11:31.129456Z"
    },
    "papermill": {
     "duration": 0.050514,
     "end_time": "2023-02-10T22:11:31.133859",
     "exception": false,
     "start_time": "2023-02-10T22:11:31.083345",
     "status": "completed"
    },
    "tags": []
   },
   "outputs": [
    {
     "data": {
      "text/html": [
       "<div>\n",
       "<style scoped>\n",
       "    .dataframe tbody tr th:only-of-type {\n",
       "        vertical-align: middle;\n",
       "    }\n",
       "\n",
       "    .dataframe tbody tr th {\n",
       "        vertical-align: top;\n",
       "    }\n",
       "\n",
       "    .dataframe thead th {\n",
       "        text-align: right;\n",
       "    }\n",
       "</style>\n",
       "<table border=\"1\" class=\"dataframe\">\n",
       "  <thead>\n",
       "    <tr style=\"text-align: right;\">\n",
       "      <th></th>\n",
       "      <th>SUBDIVISION</th>\n",
       "      <th>YEAR</th>\n",
       "      <th>JAN</th>\n",
       "      <th>FEB</th>\n",
       "      <th>MAR</th>\n",
       "      <th>APR</th>\n",
       "      <th>MAY</th>\n",
       "      <th>JUN</th>\n",
       "      <th>JUL</th>\n",
       "      <th>AUG</th>\n",
       "      <th>SEP</th>\n",
       "      <th>OCT</th>\n",
       "      <th>NOV</th>\n",
       "      <th>DEC</th>\n",
       "      <th>ANNUAL</th>\n",
       "      <th>Jan-Feb</th>\n",
       "      <th>Mar-May</th>\n",
       "      <th>Jun-Sep</th>\n",
       "      <th>Oct-Dec</th>\n",
       "    </tr>\n",
       "  </thead>\n",
       "  <tbody>\n",
       "    <tr>\n",
       "      <th>0</th>\n",
       "      <td>ANDAMAN &amp; NICOBAR ISLANDS</td>\n",
       "      <td>1901</td>\n",
       "      <td>49.2</td>\n",
       "      <td>87.1</td>\n",
       "      <td>29.2</td>\n",
       "      <td>2.3</td>\n",
       "      <td>528.8</td>\n",
       "      <td>517.5</td>\n",
       "      <td>365.1</td>\n",
       "      <td>481.1</td>\n",
       "      <td>332.6</td>\n",
       "      <td>388.5</td>\n",
       "      <td>558.2</td>\n",
       "      <td>33.6</td>\n",
       "      <td>3373.2</td>\n",
       "      <td>136.3</td>\n",
       "      <td>560.3</td>\n",
       "      <td>1696.3</td>\n",
       "      <td>980.3</td>\n",
       "    </tr>\n",
       "    <tr>\n",
       "      <th>1</th>\n",
       "      <td>ANDAMAN &amp; NICOBAR ISLANDS</td>\n",
       "      <td>1902</td>\n",
       "      <td>0.0</td>\n",
       "      <td>159.8</td>\n",
       "      <td>12.2</td>\n",
       "      <td>0.0</td>\n",
       "      <td>446.1</td>\n",
       "      <td>537.1</td>\n",
       "      <td>228.9</td>\n",
       "      <td>753.7</td>\n",
       "      <td>666.2</td>\n",
       "      <td>197.2</td>\n",
       "      <td>359.0</td>\n",
       "      <td>160.5</td>\n",
       "      <td>3520.7</td>\n",
       "      <td>159.8</td>\n",
       "      <td>458.3</td>\n",
       "      <td>2185.9</td>\n",
       "      <td>716.7</td>\n",
       "    </tr>\n",
       "    <tr>\n",
       "      <th>2</th>\n",
       "      <td>ANDAMAN &amp; NICOBAR ISLANDS</td>\n",
       "      <td>1903</td>\n",
       "      <td>12.7</td>\n",
       "      <td>144.0</td>\n",
       "      <td>0.0</td>\n",
       "      <td>1.0</td>\n",
       "      <td>235.1</td>\n",
       "      <td>479.9</td>\n",
       "      <td>728.4</td>\n",
       "      <td>326.7</td>\n",
       "      <td>339.0</td>\n",
       "      <td>181.2</td>\n",
       "      <td>284.4</td>\n",
       "      <td>225.0</td>\n",
       "      <td>2957.4</td>\n",
       "      <td>156.7</td>\n",
       "      <td>236.1</td>\n",
       "      <td>1874.0</td>\n",
       "      <td>690.6</td>\n",
       "    </tr>\n",
       "    <tr>\n",
       "      <th>3</th>\n",
       "      <td>ANDAMAN &amp; NICOBAR ISLANDS</td>\n",
       "      <td>1904</td>\n",
       "      <td>9.4</td>\n",
       "      <td>14.7</td>\n",
       "      <td>0.0</td>\n",
       "      <td>202.4</td>\n",
       "      <td>304.5</td>\n",
       "      <td>495.1</td>\n",
       "      <td>502.0</td>\n",
       "      <td>160.1</td>\n",
       "      <td>820.4</td>\n",
       "      <td>222.2</td>\n",
       "      <td>308.7</td>\n",
       "      <td>40.1</td>\n",
       "      <td>3079.6</td>\n",
       "      <td>24.1</td>\n",
       "      <td>506.9</td>\n",
       "      <td>1977.6</td>\n",
       "      <td>571.0</td>\n",
       "    </tr>\n",
       "    <tr>\n",
       "      <th>4</th>\n",
       "      <td>ANDAMAN &amp; NICOBAR ISLANDS</td>\n",
       "      <td>1905</td>\n",
       "      <td>1.3</td>\n",
       "      <td>0.0</td>\n",
       "      <td>3.3</td>\n",
       "      <td>26.9</td>\n",
       "      <td>279.5</td>\n",
       "      <td>628.7</td>\n",
       "      <td>368.7</td>\n",
       "      <td>330.5</td>\n",
       "      <td>297.0</td>\n",
       "      <td>260.7</td>\n",
       "      <td>25.4</td>\n",
       "      <td>344.7</td>\n",
       "      <td>2566.7</td>\n",
       "      <td>1.3</td>\n",
       "      <td>309.7</td>\n",
       "      <td>1624.9</td>\n",
       "      <td>630.8</td>\n",
       "    </tr>\n",
       "  </tbody>\n",
       "</table>\n",
       "</div>"
      ],
      "text/plain": [
       "                 SUBDIVISION  YEAR   JAN    FEB   MAR    APR    MAY    JUN  \\\n",
       "0  ANDAMAN & NICOBAR ISLANDS  1901  49.2   87.1  29.2    2.3  528.8  517.5   \n",
       "1  ANDAMAN & NICOBAR ISLANDS  1902   0.0  159.8  12.2    0.0  446.1  537.1   \n",
       "2  ANDAMAN & NICOBAR ISLANDS  1903  12.7  144.0   0.0    1.0  235.1  479.9   \n",
       "3  ANDAMAN & NICOBAR ISLANDS  1904   9.4   14.7   0.0  202.4  304.5  495.1   \n",
       "4  ANDAMAN & NICOBAR ISLANDS  1905   1.3    0.0   3.3   26.9  279.5  628.7   \n",
       "\n",
       "     JUL    AUG    SEP    OCT    NOV    DEC  ANNUAL  Jan-Feb  Mar-May  \\\n",
       "0  365.1  481.1  332.6  388.5  558.2   33.6  3373.2    136.3    560.3   \n",
       "1  228.9  753.7  666.2  197.2  359.0  160.5  3520.7    159.8    458.3   \n",
       "2  728.4  326.7  339.0  181.2  284.4  225.0  2957.4    156.7    236.1   \n",
       "3  502.0  160.1  820.4  222.2  308.7   40.1  3079.6     24.1    506.9   \n",
       "4  368.7  330.5  297.0  260.7   25.4  344.7  2566.7      1.3    309.7   \n",
       "\n",
       "   Jun-Sep  Oct-Dec  \n",
       "0   1696.3    980.3  \n",
       "1   2185.9    716.7  \n",
       "2   1874.0    690.6  \n",
       "3   1977.6    571.0  \n",
       "4   1624.9    630.8  "
      ]
     },
     "execution_count": 4,
     "metadata": {},
     "output_type": "execute_result"
    }
   ],
   "source": [
    "india_rainfall_data.head()"
   ]
  },
  {
   "cell_type": "markdown",
   "id": "3b6edd4d",
   "metadata": {
    "papermill": {
     "duration": 0.015249,
     "end_time": "2023-02-10T22:11:31.165758",
     "exception": false,
     "start_time": "2023-02-10T22:11:31.150509",
     "status": "completed"
    },
    "tags": []
   },
   "source": [
    "printing all the unique values in the rainfall dataset"
   ]
  },
  {
   "cell_type": "code",
   "execution_count": 5,
   "id": "41b68771",
   "metadata": {
    "execution": {
     "iopub.execute_input": "2023-02-10T22:11:31.199579Z",
     "iopub.status.busy": "2023-02-10T22:11:31.199105Z",
     "iopub.status.idle": "2023-02-10T22:11:31.220606Z",
     "shell.execute_reply": "2023-02-10T22:11:31.218946Z"
    },
    "papermill": {
     "duration": 0.042826,
     "end_time": "2023-02-10T22:11:31.224277",
     "exception": false,
     "start_time": "2023-02-10T22:11:31.181451",
     "status": "completed"
    },
    "tags": []
   },
   "outputs": [
    {
     "name": "stdout",
     "output_type": "stream",
     "text": [
      "['ANDAMAN & NICOBAR ISLANDS' 'ARUNACHAL PRADESH' 'ASSAM & MEGHALAYA'\n",
      " 'NAGA MANI MIZO TRIPURA' 'SUB HIMALAYAN WEST BENGAL & SIKKIM'\n",
      " 'GANGETIC WEST BENGAL' 'ORISSA' 'JHARKHAND' 'BIHAR' 'EAST UTTAR PRADESH'\n",
      " 'WEST UTTAR PRADESH' 'UTTARAKHAND' 'HARYANA DELHI & CHANDIGARH' 'PUNJAB'\n",
      " 'HIMACHAL PRADESH' 'JAMMU & KASHMIR' 'WEST RAJASTHAN' 'EAST RAJASTHAN'\n",
      " 'WEST MADHYA PRADESH' 'EAST MADHYA PRADESH' 'GUJARAT REGION'\n",
      " 'SAURASHTRA & KUTCH' 'KONKAN & GOA' 'MADHYA MAHARASHTRA' 'MATATHWADA'\n",
      " 'VIDARBHA' 'CHHATTISGARH' 'COASTAL ANDHRA PRADESH' 'TELANGANA'\n",
      " 'RAYALSEEMA' 'TAMIL NADU' 'COASTAL KARNATAKA' 'NORTH INTERIOR KARNATAKA'\n",
      " 'SOUTH INTERIOR KARNATAKA' 'KERALA' 'LAKSHADWEEP']\n"
     ]
    }
   ],
   "source": [
    "unique_values=india_rainfall_data['SUBDIVISION'].unique()\n",
    "print(unique_values)"
   ]
  },
  {
   "cell_type": "markdown",
   "id": "7c0433f3",
   "metadata": {
    "papermill": {
     "duration": 0.016106,
     "end_time": "2023-02-10T22:11:31.256490",
     "exception": false,
     "start_time": "2023-02-10T22:11:31.240384",
     "status": "completed"
    },
    "tags": []
   },
   "source": [
    "checking for null values"
   ]
  },
  {
   "cell_type": "code",
   "execution_count": 6,
   "id": "1a491df2",
   "metadata": {
    "execution": {
     "iopub.execute_input": "2023-02-10T22:11:31.289678Z",
     "iopub.status.busy": "2023-02-10T22:11:31.289176Z",
     "iopub.status.idle": "2023-02-10T22:11:31.296537Z",
     "shell.execute_reply": "2023-02-10T22:11:31.295598Z"
    },
    "papermill": {
     "duration": 0.026777,
     "end_time": "2023-02-10T22:11:31.298892",
     "exception": false,
     "start_time": "2023-02-10T22:11:31.272115",
     "status": "completed"
    },
    "tags": []
   },
   "outputs": [
    {
     "data": {
      "text/plain": [
       "(4116, 19)"
      ]
     },
     "execution_count": 6,
     "metadata": {},
     "output_type": "execute_result"
    }
   ],
   "source": [
    "india_rainfall_data.shape"
   ]
  },
  {
   "cell_type": "markdown",
   "id": "ca897ae8",
   "metadata": {
    "papermill": {
     "duration": 0.016255,
     "end_time": "2023-02-10T22:11:31.331558",
     "exception": false,
     "start_time": "2023-02-10T22:11:31.315303",
     "status": "completed"
    },
    "tags": []
   },
   "source": [
    "checking total null values"
   ]
  },
  {
   "cell_type": "code",
   "execution_count": 7,
   "id": "9ee8d28e",
   "metadata": {
    "execution": {
     "iopub.execute_input": "2023-02-10T22:11:31.368555Z",
     "iopub.status.busy": "2023-02-10T22:11:31.367171Z",
     "iopub.status.idle": "2023-02-10T22:11:31.381277Z",
     "shell.execute_reply": "2023-02-10T22:11:31.380106Z"
    },
    "papermill": {
     "duration": 0.038214,
     "end_time": "2023-02-10T22:11:31.386079",
     "exception": false,
     "start_time": "2023-02-10T22:11:31.347865",
     "status": "completed"
    },
    "tags": []
   },
   "outputs": [
    {
     "data": {
      "text/plain": [
       "134"
      ]
     },
     "execution_count": 7,
     "metadata": {},
     "output_type": "execute_result"
    }
   ],
   "source": [
    "india_rainfall_data.isnull().sum().sum()"
   ]
  },
  {
   "cell_type": "markdown",
   "id": "1c86a474",
   "metadata": {
    "papermill": {
     "duration": 0.026783,
     "end_time": "2023-02-10T22:11:31.431362",
     "exception": false,
     "start_time": "2023-02-10T22:11:31.404579",
     "status": "completed"
    },
    "tags": []
   },
   "source": [
    "checking the columns that have said null values"
   ]
  },
  {
   "cell_type": "code",
   "execution_count": 8,
   "id": "7d232a9f",
   "metadata": {
    "execution": {
     "iopub.execute_input": "2023-02-10T22:11:31.471084Z",
     "iopub.status.busy": "2023-02-10T22:11:31.469277Z",
     "iopub.status.idle": "2023-02-10T22:11:31.485160Z",
     "shell.execute_reply": "2023-02-10T22:11:31.483770Z"
    },
    "papermill": {
     "duration": 0.03835,
     "end_time": "2023-02-10T22:11:31.487913",
     "exception": false,
     "start_time": "2023-02-10T22:11:31.449563",
     "status": "completed"
    },
    "tags": []
   },
   "outputs": [
    {
     "data": {
      "text/plain": [
       "SUBDIVISION     0\n",
       "YEAR            0\n",
       "JAN             4\n",
       "FEB             3\n",
       "MAR             6\n",
       "APR             4\n",
       "MAY             3\n",
       "JUN             5\n",
       "JUL             7\n",
       "AUG             4\n",
       "SEP             6\n",
       "OCT             7\n",
       "NOV            11\n",
       "DEC            10\n",
       "ANNUAL         26\n",
       "Jan-Feb         6\n",
       "Mar-May         9\n",
       "Jun-Sep        10\n",
       "Oct-Dec        13\n",
       "dtype: int64"
      ]
     },
     "execution_count": 8,
     "metadata": {},
     "output_type": "execute_result"
    }
   ],
   "source": [
    "missing_values_count=india_rainfall_data.isnull().sum()\n",
    "missing_values_count"
   ]
  },
  {
   "cell_type": "markdown",
   "id": "6b87214b",
   "metadata": {
    "papermill": {
     "duration": 0.016238,
     "end_time": "2023-02-10T22:11:31.520973",
     "exception": false,
     "start_time": "2023-02-10T22:11:31.504735",
     "status": "completed"
    },
    "tags": []
   },
   "source": [
    "check percentage of null values"
   ]
  },
  {
   "cell_type": "code",
   "execution_count": 9,
   "id": "3ea01f4a",
   "metadata": {
    "execution": {
     "iopub.execute_input": "2023-02-10T22:11:31.556231Z",
     "iopub.status.busy": "2023-02-10T22:11:31.555412Z",
     "iopub.status.idle": "2023-02-10T22:11:31.563890Z",
     "shell.execute_reply": "2023-02-10T22:11:31.561946Z"
    },
    "papermill": {
     "duration": 0.029109,
     "end_time": "2023-02-10T22:11:31.566685",
     "exception": false,
     "start_time": "2023-02-10T22:11:31.537576",
     "status": "completed"
    },
    "tags": []
   },
   "outputs": [
    {
     "name": "stdout",
     "output_type": "stream",
     "text": [
      "0.17134673418239477\n"
     ]
    }
   ],
   "source": [
    "total_cells = np.product(india_rainfall_data.shape)\n",
    "total_missing = missing_values_count.sum()\n",
    "\n",
    "# percent of data that is missing\n",
    "percent_missing = (total_missing/total_cells) * 100\n",
    "print(percent_missing)"
   ]
  },
  {
   "cell_type": "markdown",
   "id": "b5b51c89",
   "metadata": {
    "papermill": {
     "duration": 0.016303,
     "end_time": "2023-02-10T22:11:31.600013",
     "exception": false,
     "start_time": "2023-02-10T22:11:31.583710",
     "status": "completed"
    },
    "tags": []
   },
   "source": [
    "removing all the na values"
   ]
  },
  {
   "cell_type": "code",
   "execution_count": 10,
   "id": "2bdd4556",
   "metadata": {
    "execution": {
     "iopub.execute_input": "2023-02-10T22:11:31.634610Z",
     "iopub.status.busy": "2023-02-10T22:11:31.633910Z",
     "iopub.status.idle": "2023-02-10T22:11:31.651440Z",
     "shell.execute_reply": "2023-02-10T22:11:31.650021Z"
    },
    "papermill": {
     "duration": 0.037901,
     "end_time": "2023-02-10T22:11:31.654394",
     "exception": false,
     "start_time": "2023-02-10T22:11:31.616493",
     "status": "completed"
    },
    "tags": []
   },
   "outputs": [
    {
     "data": {
      "text/plain": [
       "0"
      ]
     },
     "execution_count": 10,
     "metadata": {},
     "output_type": "execute_result"
    }
   ],
   "source": [
    "rainfall_india_clean=india_rainfall_data.dropna()\n",
    "rainfall_india_clean.isnull().sum().sum()"
   ]
  },
  {
   "cell_type": "markdown",
   "id": "c66b0de2",
   "metadata": {
    "papermill": {
     "duration": 0.015595,
     "end_time": "2023-02-10T22:11:31.686018",
     "exception": false,
     "start_time": "2023-02-10T22:11:31.670423",
     "status": "completed"
    },
    "tags": []
   },
   "source": [
    "checking Nan values"
   ]
  },
  {
   "cell_type": "code",
   "execution_count": 11,
   "id": "1114cc4b",
   "metadata": {
    "execution": {
     "iopub.execute_input": "2023-02-10T22:11:31.720878Z",
     "iopub.status.busy": "2023-02-10T22:11:31.720451Z",
     "iopub.status.idle": "2023-02-10T22:11:31.731068Z",
     "shell.execute_reply": "2023-02-10T22:11:31.729760Z"
    },
    "papermill": {
     "duration": 0.031359,
     "end_time": "2023-02-10T22:11:31.733681",
     "exception": false,
     "start_time": "2023-02-10T22:11:31.702322",
     "status": "completed"
    },
    "tags": []
   },
   "outputs": [
    {
     "data": {
      "text/plain": [
       "0"
      ]
     },
     "execution_count": 11,
     "metadata": {},
     "output_type": "execute_result"
    }
   ],
   "source": [
    "rainfall_india_clean.isna().sum().sum()"
   ]
  },
  {
   "cell_type": "markdown",
   "id": "06565215",
   "metadata": {
    "papermill": {
     "duration": 0.015783,
     "end_time": "2023-02-10T22:11:31.766152",
     "exception": false,
     "start_time": "2023-02-10T22:11:31.750369",
     "status": "completed"
    },
    "tags": []
   },
   "source": [
    "viewing the final rainfall clean dataset"
   ]
  },
  {
   "cell_type": "code",
   "execution_count": 12,
   "id": "17b62c8d",
   "metadata": {
    "execution": {
     "iopub.execute_input": "2023-02-10T22:11:31.800923Z",
     "iopub.status.busy": "2023-02-10T22:11:31.800489Z",
     "iopub.status.idle": "2023-02-10T22:11:31.831555Z",
     "shell.execute_reply": "2023-02-10T22:11:31.829729Z"
    },
    "papermill": {
     "duration": 0.052274,
     "end_time": "2023-02-10T22:11:31.834689",
     "exception": false,
     "start_time": "2023-02-10T22:11:31.782415",
     "status": "completed"
    },
    "tags": []
   },
   "outputs": [
    {
     "data": {
      "text/html": [
       "<div>\n",
       "<style scoped>\n",
       "    .dataframe tbody tr th:only-of-type {\n",
       "        vertical-align: middle;\n",
       "    }\n",
       "\n",
       "    .dataframe tbody tr th {\n",
       "        vertical-align: top;\n",
       "    }\n",
       "\n",
       "    .dataframe thead th {\n",
       "        text-align: right;\n",
       "    }\n",
       "</style>\n",
       "<table border=\"1\" class=\"dataframe\">\n",
       "  <thead>\n",
       "    <tr style=\"text-align: right;\">\n",
       "      <th></th>\n",
       "      <th>SUBDIVISION</th>\n",
       "      <th>YEAR</th>\n",
       "      <th>JAN</th>\n",
       "      <th>FEB</th>\n",
       "      <th>MAR</th>\n",
       "      <th>APR</th>\n",
       "      <th>MAY</th>\n",
       "      <th>JUN</th>\n",
       "      <th>JUL</th>\n",
       "      <th>AUG</th>\n",
       "      <th>SEP</th>\n",
       "      <th>OCT</th>\n",
       "      <th>NOV</th>\n",
       "      <th>DEC</th>\n",
       "      <th>ANNUAL</th>\n",
       "      <th>Jan-Feb</th>\n",
       "      <th>Mar-May</th>\n",
       "      <th>Jun-Sep</th>\n",
       "      <th>Oct-Dec</th>\n",
       "    </tr>\n",
       "  </thead>\n",
       "  <tbody>\n",
       "    <tr>\n",
       "      <th>0</th>\n",
       "      <td>ANDAMAN &amp; NICOBAR ISLANDS</td>\n",
       "      <td>1901</td>\n",
       "      <td>49.2</td>\n",
       "      <td>87.1</td>\n",
       "      <td>29.2</td>\n",
       "      <td>2.3</td>\n",
       "      <td>528.8</td>\n",
       "      <td>517.5</td>\n",
       "      <td>365.1</td>\n",
       "      <td>481.1</td>\n",
       "      <td>332.6</td>\n",
       "      <td>388.5</td>\n",
       "      <td>558.2</td>\n",
       "      <td>33.6</td>\n",
       "      <td>3373.2</td>\n",
       "      <td>136.3</td>\n",
       "      <td>560.3</td>\n",
       "      <td>1696.3</td>\n",
       "      <td>980.3</td>\n",
       "    </tr>\n",
       "    <tr>\n",
       "      <th>1</th>\n",
       "      <td>ANDAMAN &amp; NICOBAR ISLANDS</td>\n",
       "      <td>1902</td>\n",
       "      <td>0.0</td>\n",
       "      <td>159.8</td>\n",
       "      <td>12.2</td>\n",
       "      <td>0.0</td>\n",
       "      <td>446.1</td>\n",
       "      <td>537.1</td>\n",
       "      <td>228.9</td>\n",
       "      <td>753.7</td>\n",
       "      <td>666.2</td>\n",
       "      <td>197.2</td>\n",
       "      <td>359.0</td>\n",
       "      <td>160.5</td>\n",
       "      <td>3520.7</td>\n",
       "      <td>159.8</td>\n",
       "      <td>458.3</td>\n",
       "      <td>2185.9</td>\n",
       "      <td>716.7</td>\n",
       "    </tr>\n",
       "    <tr>\n",
       "      <th>2</th>\n",
       "      <td>ANDAMAN &amp; NICOBAR ISLANDS</td>\n",
       "      <td>1903</td>\n",
       "      <td>12.7</td>\n",
       "      <td>144.0</td>\n",
       "      <td>0.0</td>\n",
       "      <td>1.0</td>\n",
       "      <td>235.1</td>\n",
       "      <td>479.9</td>\n",
       "      <td>728.4</td>\n",
       "      <td>326.7</td>\n",
       "      <td>339.0</td>\n",
       "      <td>181.2</td>\n",
       "      <td>284.4</td>\n",
       "      <td>225.0</td>\n",
       "      <td>2957.4</td>\n",
       "      <td>156.7</td>\n",
       "      <td>236.1</td>\n",
       "      <td>1874.0</td>\n",
       "      <td>690.6</td>\n",
       "    </tr>\n",
       "    <tr>\n",
       "      <th>3</th>\n",
       "      <td>ANDAMAN &amp; NICOBAR ISLANDS</td>\n",
       "      <td>1904</td>\n",
       "      <td>9.4</td>\n",
       "      <td>14.7</td>\n",
       "      <td>0.0</td>\n",
       "      <td>202.4</td>\n",
       "      <td>304.5</td>\n",
       "      <td>495.1</td>\n",
       "      <td>502.0</td>\n",
       "      <td>160.1</td>\n",
       "      <td>820.4</td>\n",
       "      <td>222.2</td>\n",
       "      <td>308.7</td>\n",
       "      <td>40.1</td>\n",
       "      <td>3079.6</td>\n",
       "      <td>24.1</td>\n",
       "      <td>506.9</td>\n",
       "      <td>1977.6</td>\n",
       "      <td>571.0</td>\n",
       "    </tr>\n",
       "    <tr>\n",
       "      <th>4</th>\n",
       "      <td>ANDAMAN &amp; NICOBAR ISLANDS</td>\n",
       "      <td>1905</td>\n",
       "      <td>1.3</td>\n",
       "      <td>0.0</td>\n",
       "      <td>3.3</td>\n",
       "      <td>26.9</td>\n",
       "      <td>279.5</td>\n",
       "      <td>628.7</td>\n",
       "      <td>368.7</td>\n",
       "      <td>330.5</td>\n",
       "      <td>297.0</td>\n",
       "      <td>260.7</td>\n",
       "      <td>25.4</td>\n",
       "      <td>344.7</td>\n",
       "      <td>2566.7</td>\n",
       "      <td>1.3</td>\n",
       "      <td>309.7</td>\n",
       "      <td>1624.9</td>\n",
       "      <td>630.8</td>\n",
       "    </tr>\n",
       "  </tbody>\n",
       "</table>\n",
       "</div>"
      ],
      "text/plain": [
       "                 SUBDIVISION  YEAR   JAN    FEB   MAR    APR    MAY    JUN  \\\n",
       "0  ANDAMAN & NICOBAR ISLANDS  1901  49.2   87.1  29.2    2.3  528.8  517.5   \n",
       "1  ANDAMAN & NICOBAR ISLANDS  1902   0.0  159.8  12.2    0.0  446.1  537.1   \n",
       "2  ANDAMAN & NICOBAR ISLANDS  1903  12.7  144.0   0.0    1.0  235.1  479.9   \n",
       "3  ANDAMAN & NICOBAR ISLANDS  1904   9.4   14.7   0.0  202.4  304.5  495.1   \n",
       "4  ANDAMAN & NICOBAR ISLANDS  1905   1.3    0.0   3.3   26.9  279.5  628.7   \n",
       "\n",
       "     JUL    AUG    SEP    OCT    NOV    DEC  ANNUAL  Jan-Feb  Mar-May  \\\n",
       "0  365.1  481.1  332.6  388.5  558.2   33.6  3373.2    136.3    560.3   \n",
       "1  228.9  753.7  666.2  197.2  359.0  160.5  3520.7    159.8    458.3   \n",
       "2  728.4  326.7  339.0  181.2  284.4  225.0  2957.4    156.7    236.1   \n",
       "3  502.0  160.1  820.4  222.2  308.7   40.1  3079.6     24.1    506.9   \n",
       "4  368.7  330.5  297.0  260.7   25.4  344.7  2566.7      1.3    309.7   \n",
       "\n",
       "   Jun-Sep  Oct-Dec  \n",
       "0   1696.3    980.3  \n",
       "1   2185.9    716.7  \n",
       "2   1874.0    690.6  \n",
       "3   1977.6    571.0  \n",
       "4   1624.9    630.8  "
      ]
     },
     "execution_count": 12,
     "metadata": {},
     "output_type": "execute_result"
    }
   ],
   "source": [
    "rainfall_india_clean.head()"
   ]
  },
  {
   "cell_type": "markdown",
   "id": "74af43d4",
   "metadata": {
    "papermill": {
     "duration": 0.016901,
     "end_time": "2023-02-10T22:11:31.869798",
     "exception": false,
     "start_time": "2023-02-10T22:11:31.852897",
     "status": "completed"
    },
    "tags": []
   },
   "source": [
    "checking for null values in the district rainfall dataset"
   ]
  },
  {
   "cell_type": "code",
   "execution_count": 13,
   "id": "d896eaa3",
   "metadata": {
    "execution": {
     "iopub.execute_input": "2023-02-10T22:11:31.904912Z",
     "iopub.status.busy": "2023-02-10T22:11:31.904447Z",
     "iopub.status.idle": "2023-02-10T22:11:31.915404Z",
     "shell.execute_reply": "2023-02-10T22:11:31.914007Z"
    },
    "papermill": {
     "duration": 0.031585,
     "end_time": "2023-02-10T22:11:31.918042",
     "exception": false,
     "start_time": "2023-02-10T22:11:31.886457",
     "status": "completed"
    },
    "tags": []
   },
   "outputs": [
    {
     "data": {
      "text/plain": [
       "0"
      ]
     },
     "execution_count": 13,
     "metadata": {},
     "output_type": "execute_result"
    }
   ],
   "source": [
    "district_rainfall_data.isnull().sum().sum()"
   ]
  },
  {
   "cell_type": "markdown",
   "id": "caf1cc13",
   "metadata": {
    "papermill": {
     "duration": 0.016812,
     "end_time": "2023-02-10T22:11:31.951981",
     "exception": false,
     "start_time": "2023-02-10T22:11:31.935169",
     "status": "completed"
    },
    "tags": []
   },
   "source": [
    "checking NaN values in"
   ]
  },
  {
   "cell_type": "code",
   "execution_count": 14,
   "id": "55edf6b1",
   "metadata": {
    "execution": {
     "iopub.execute_input": "2023-02-10T22:11:31.987968Z",
     "iopub.status.busy": "2023-02-10T22:11:31.987493Z",
     "iopub.status.idle": "2023-02-10T22:11:31.998681Z",
     "shell.execute_reply": "2023-02-10T22:11:31.996957Z"
    },
    "papermill": {
     "duration": 0.032822,
     "end_time": "2023-02-10T22:11:32.001519",
     "exception": false,
     "start_time": "2023-02-10T22:11:31.968697",
     "status": "completed"
    },
    "tags": []
   },
   "outputs": [
    {
     "data": {
      "text/plain": [
       "0"
      ]
     },
     "execution_count": 14,
     "metadata": {},
     "output_type": "execute_result"
    }
   ],
   "source": [
    "district_rainfall_data.isna().sum().sum()"
   ]
  },
  {
   "cell_type": "markdown",
   "id": "03569294",
   "metadata": {
    "papermill": {
     "duration": 0.017912,
     "end_time": "2023-02-10T22:11:32.037013",
     "exception": false,
     "start_time": "2023-02-10T22:11:32.019101",
     "status": "completed"
    },
    "tags": []
   },
   "source": [
    "importing the crop recommendation data"
   ]
  },
  {
   "cell_type": "code",
   "execution_count": 15,
   "id": "30416bd8",
   "metadata": {
    "execution": {
     "iopub.execute_input": "2023-02-10T22:11:32.074780Z",
     "iopub.status.busy": "2023-02-10T22:11:32.074349Z",
     "iopub.status.idle": "2023-02-10T22:11:32.098726Z",
     "shell.execute_reply": "2023-02-10T22:11:32.097373Z"
    },
    "papermill": {
     "duration": 0.047206,
     "end_time": "2023-02-10T22:11:32.102134",
     "exception": false,
     "start_time": "2023-02-10T22:11:32.054928",
     "status": "completed"
    },
    "tags": []
   },
   "outputs": [
    {
     "data": {
      "text/plain": [
       "0"
      ]
     },
     "execution_count": 15,
     "metadata": {},
     "output_type": "execute_result"
    }
   ],
   "source": [
    "recommendation_data=pd.read_csv('/kaggle/input/crop-recommendation-dataset/Crop_recommendation.csv')\n",
    "recommendation_data.isnull().sum().sum()"
   ]
  },
  {
   "cell_type": "markdown",
   "id": "e89a40a3",
   "metadata": {
    "papermill": {
     "duration": 0.016803,
     "end_time": "2023-02-10T22:11:32.136837",
     "exception": false,
     "start_time": "2023-02-10T22:11:32.120034",
     "status": "completed"
    },
    "tags": []
   },
   "source": [
    "checking for null values"
   ]
  },
  {
   "cell_type": "code",
   "execution_count": 16,
   "id": "62c8e47a",
   "metadata": {
    "execution": {
     "iopub.execute_input": "2023-02-10T22:11:32.174096Z",
     "iopub.status.busy": "2023-02-10T22:11:32.173666Z",
     "iopub.status.idle": "2023-02-10T22:11:32.182749Z",
     "shell.execute_reply": "2023-02-10T22:11:32.181590Z"
    },
    "papermill": {
     "duration": 0.030841,
     "end_time": "2023-02-10T22:11:32.185534",
     "exception": false,
     "start_time": "2023-02-10T22:11:32.154693",
     "status": "completed"
    },
    "tags": []
   },
   "outputs": [
    {
     "data": {
      "text/plain": [
       "0"
      ]
     },
     "execution_count": 16,
     "metadata": {},
     "output_type": "execute_result"
    }
   ],
   "source": [
    "recommendation_data.isna().sum().sum()"
   ]
  },
  {
   "cell_type": "code",
   "execution_count": 17,
   "id": "f7f91918",
   "metadata": {
    "execution": {
     "iopub.execute_input": "2023-02-10T22:11:32.223958Z",
     "iopub.status.busy": "2023-02-10T22:11:32.223055Z",
     "iopub.status.idle": "2023-02-10T22:11:32.252317Z",
     "shell.execute_reply": "2023-02-10T22:11:32.250944Z"
    },
    "papermill": {
     "duration": 0.051812,
     "end_time": "2023-02-10T22:11:32.255363",
     "exception": false,
     "start_time": "2023-02-10T22:11:32.203551",
     "status": "completed"
    },
    "tags": []
   },
   "outputs": [
    {
     "data": {
      "text/html": [
       "<div>\n",
       "<style scoped>\n",
       "    .dataframe tbody tr th:only-of-type {\n",
       "        vertical-align: middle;\n",
       "    }\n",
       "\n",
       "    .dataframe tbody tr th {\n",
       "        vertical-align: top;\n",
       "    }\n",
       "\n",
       "    .dataframe thead th {\n",
       "        text-align: right;\n",
       "    }\n",
       "</style>\n",
       "<table border=\"1\" class=\"dataframe\">\n",
       "  <thead>\n",
       "    <tr style=\"text-align: right;\">\n",
       "      <th></th>\n",
       "      <th>state</th>\n",
       "      <th>district</th>\n",
       "      <th>market</th>\n",
       "      <th>commodity</th>\n",
       "      <th>variety</th>\n",
       "      <th>arrival_date</th>\n",
       "      <th>min_price</th>\n",
       "      <th>max_price</th>\n",
       "      <th>modal_price</th>\n",
       "    </tr>\n",
       "  </thead>\n",
       "  <tbody>\n",
       "    <tr>\n",
       "      <th>0</th>\n",
       "      <td>Andaman and Nicobar</td>\n",
       "      <td>South Andaman</td>\n",
       "      <td>Port Blair</td>\n",
       "      <td>Amaranthus</td>\n",
       "      <td>Amaranthus</td>\n",
       "      <td>04/03/2019</td>\n",
       "      <td>6000</td>\n",
       "      <td>8000</td>\n",
       "      <td>7000</td>\n",
       "    </tr>\n",
       "    <tr>\n",
       "      <th>1</th>\n",
       "      <td>Andaman and Nicobar</td>\n",
       "      <td>South Andaman</td>\n",
       "      <td>Port Blair</td>\n",
       "      <td>Banana - Green</td>\n",
       "      <td>Banana - Green</td>\n",
       "      <td>04/03/2019</td>\n",
       "      <td>4500</td>\n",
       "      <td>5500</td>\n",
       "      <td>5000</td>\n",
       "    </tr>\n",
       "    <tr>\n",
       "      <th>2</th>\n",
       "      <td>Andaman and Nicobar</td>\n",
       "      <td>South Andaman</td>\n",
       "      <td>Port Blair</td>\n",
       "      <td>Bhindi(Ladies Finger)</td>\n",
       "      <td>Bhindi</td>\n",
       "      <td>04/03/2019</td>\n",
       "      <td>6000</td>\n",
       "      <td>8000</td>\n",
       "      <td>7000</td>\n",
       "    </tr>\n",
       "    <tr>\n",
       "      <th>3</th>\n",
       "      <td>Andaman and Nicobar</td>\n",
       "      <td>South Andaman</td>\n",
       "      <td>Port Blair</td>\n",
       "      <td>Bitter gourd</td>\n",
       "      <td>Other</td>\n",
       "      <td>04/03/2019</td>\n",
       "      <td>6000</td>\n",
       "      <td>8000</td>\n",
       "      <td>7000</td>\n",
       "    </tr>\n",
       "    <tr>\n",
       "      <th>4</th>\n",
       "      <td>Andaman and Nicobar</td>\n",
       "      <td>South Andaman</td>\n",
       "      <td>Port Blair</td>\n",
       "      <td>Black pepper</td>\n",
       "      <td>Other</td>\n",
       "      <td>04/03/2019</td>\n",
       "      <td>110000</td>\n",
       "      <td>130000</td>\n",
       "      <td>120000</td>\n",
       "    </tr>\n",
       "  </tbody>\n",
       "</table>\n",
       "</div>"
      ],
      "text/plain": [
       "                 state       district      market              commodity  \\\n",
       "0  Andaman and Nicobar  South Andaman  Port Blair             Amaranthus   \n",
       "1  Andaman and Nicobar  South Andaman  Port Blair         Banana - Green   \n",
       "2  Andaman and Nicobar  South Andaman  Port Blair  Bhindi(Ladies Finger)   \n",
       "3  Andaman and Nicobar  South Andaman  Port Blair           Bitter gourd   \n",
       "4  Andaman and Nicobar  South Andaman  Port Blair           Black pepper   \n",
       "\n",
       "          variety arrival_date  min_price  max_price  modal_price  \n",
       "0      Amaranthus   04/03/2019       6000       8000         7000  \n",
       "1  Banana - Green   04/03/2019       4500       5500         5000  \n",
       "2          Bhindi   04/03/2019       6000       8000         7000  \n",
       "3           Other   04/03/2019       6000       8000         7000  \n",
       "4           Other   04/03/2019     110000     130000       120000  "
      ]
     },
     "execution_count": 17,
     "metadata": {},
     "output_type": "execute_result"
    }
   ],
   "source": [
    "agriculture_related_data=pd.read_csv('/kaggle/input/all-agriculture-related-datasets-for-india/csv')\n",
    "agriculture_related_data.head()"
   ]
  },
  {
   "cell_type": "code",
   "execution_count": 18,
   "id": "c887b11b",
   "metadata": {
    "execution": {
     "iopub.execute_input": "2023-02-10T22:11:32.295195Z",
     "iopub.status.busy": "2023-02-10T22:11:32.294365Z",
     "iopub.status.idle": "2023-02-10T22:11:32.301331Z",
     "shell.execute_reply": "2023-02-10T22:11:32.300374Z"
    },
    "papermill": {
     "duration": 0.030868,
     "end_time": "2023-02-10T22:11:32.303931",
     "exception": false,
     "start_time": "2023-02-10T22:11:32.273063",
     "status": "completed"
    },
    "tags": []
   },
   "outputs": [
    {
     "data": {
      "text/plain": [
       "(2238, 9)"
      ]
     },
     "execution_count": 18,
     "metadata": {},
     "output_type": "execute_result"
    }
   ],
   "source": [
    "agriculture_related_data.shape"
   ]
  },
  {
   "cell_type": "code",
   "execution_count": 19,
   "id": "10f5de02",
   "metadata": {
    "execution": {
     "iopub.execute_input": "2023-02-10T22:11:32.342149Z",
     "iopub.status.busy": "2023-02-10T22:11:32.341341Z",
     "iopub.status.idle": "2023-02-10T22:11:32.349114Z",
     "shell.execute_reply": "2023-02-10T22:11:32.347516Z"
    },
    "papermill": {
     "duration": 0.031264,
     "end_time": "2023-02-10T22:11:32.352636",
     "exception": false,
     "start_time": "2023-02-10T22:11:32.321372",
     "status": "completed"
    },
    "tags": []
   },
   "outputs": [
    {
     "data": {
      "text/plain": [
       "Index(['state', 'district', 'market', 'commodity', 'variety', 'arrival_date',\n",
       "       'min_price', 'max_price', 'modal_price'],\n",
       "      dtype='object')"
      ]
     },
     "execution_count": 19,
     "metadata": {},
     "output_type": "execute_result"
    }
   ],
   "source": [
    "agriculture_related_data.columns"
   ]
  },
  {
   "cell_type": "code",
   "execution_count": 20,
   "id": "e774a7aa",
   "metadata": {
    "execution": {
     "iopub.execute_input": "2023-02-10T22:11:32.392354Z",
     "iopub.status.busy": "2023-02-10T22:11:32.391432Z",
     "iopub.status.idle": "2023-02-10T22:11:32.403731Z",
     "shell.execute_reply": "2023-02-10T22:11:32.401473Z"
    },
    "papermill": {
     "duration": 0.03563,
     "end_time": "2023-02-10T22:11:32.406934",
     "exception": false,
     "start_time": "2023-02-10T22:11:32.371304",
     "status": "completed"
    },
    "tags": []
   },
   "outputs": [
    {
     "data": {
      "text/plain": [
       "0"
      ]
     },
     "execution_count": 20,
     "metadata": {},
     "output_type": "execute_result"
    }
   ],
   "source": [
    "agriculture_related_data.isnull().sum().sum()"
   ]
  },
  {
   "cell_type": "code",
   "execution_count": 21,
   "id": "68d8a961",
   "metadata": {
    "execution": {
     "iopub.execute_input": "2023-02-10T22:11:32.446036Z",
     "iopub.status.busy": "2023-02-10T22:11:32.445619Z",
     "iopub.status.idle": "2023-02-10T22:11:32.457041Z",
     "shell.execute_reply": "2023-02-10T22:11:32.455680Z"
    },
    "papermill": {
     "duration": 0.033417,
     "end_time": "2023-02-10T22:11:32.459553",
     "exception": false,
     "start_time": "2023-02-10T22:11:32.426136",
     "status": "completed"
    },
    "tags": []
   },
   "outputs": [
    {
     "data": {
      "text/plain": [
       "0"
      ]
     },
     "execution_count": 21,
     "metadata": {},
     "output_type": "execute_result"
    }
   ],
   "source": [
    "agriculture_related_data.isna().sum().sum()"
   ]
  },
  {
   "cell_type": "code",
   "execution_count": 22,
   "id": "2e01cf6d",
   "metadata": {
    "execution": {
     "iopub.execute_input": "2023-02-10T22:11:32.499844Z",
     "iopub.status.busy": "2023-02-10T22:11:32.498480Z",
     "iopub.status.idle": "2023-02-10T22:11:32.513592Z",
     "shell.execute_reply": "2023-02-10T22:11:32.512490Z"
    },
    "papermill": {
     "duration": 0.037292,
     "end_time": "2023-02-10T22:11:32.516137",
     "exception": false,
     "start_time": "2023-02-10T22:11:32.478845",
     "status": "completed"
    },
    "tags": []
   },
   "outputs": [
    {
     "data": {
      "text/html": [
       "<div>\n",
       "<style scoped>\n",
       "    .dataframe tbody tr th:only-of-type {\n",
       "        vertical-align: middle;\n",
       "    }\n",
       "\n",
       "    .dataframe tbody tr th {\n",
       "        vertical-align: top;\n",
       "    }\n",
       "\n",
       "    .dataframe thead th {\n",
       "        text-align: right;\n",
       "    }\n",
       "</style>\n",
       "<table border=\"1\" class=\"dataframe\">\n",
       "  <thead>\n",
       "    <tr style=\"text-align: right;\">\n",
       "      <th></th>\n",
       "      <th>state</th>\n",
       "      <th>district</th>\n",
       "      <th>market</th>\n",
       "      <th>commodity</th>\n",
       "      <th>variety</th>\n",
       "      <th>arrival_date</th>\n",
       "      <th>min_price</th>\n",
       "      <th>max_price</th>\n",
       "      <th>modal_price</th>\n",
       "    </tr>\n",
       "  </thead>\n",
       "  <tbody>\n",
       "    <tr>\n",
       "      <th>0</th>\n",
       "      <td>Andaman and Nicobar</td>\n",
       "      <td>South Andaman</td>\n",
       "      <td>Port Blair</td>\n",
       "      <td>Amaranthus</td>\n",
       "      <td>Amaranthus</td>\n",
       "      <td>04/03/2019</td>\n",
       "      <td>6000</td>\n",
       "      <td>8000</td>\n",
       "      <td>7000</td>\n",
       "    </tr>\n",
       "    <tr>\n",
       "      <th>1</th>\n",
       "      <td>Andaman and Nicobar</td>\n",
       "      <td>South Andaman</td>\n",
       "      <td>Port Blair</td>\n",
       "      <td>Banana - Green</td>\n",
       "      <td>Banana - Green</td>\n",
       "      <td>04/03/2019</td>\n",
       "      <td>4500</td>\n",
       "      <td>5500</td>\n",
       "      <td>5000</td>\n",
       "    </tr>\n",
       "    <tr>\n",
       "      <th>2</th>\n",
       "      <td>Andaman and Nicobar</td>\n",
       "      <td>South Andaman</td>\n",
       "      <td>Port Blair</td>\n",
       "      <td>Bhindi(Ladies Finger)</td>\n",
       "      <td>Bhindi</td>\n",
       "      <td>04/03/2019</td>\n",
       "      <td>6000</td>\n",
       "      <td>8000</td>\n",
       "      <td>7000</td>\n",
       "    </tr>\n",
       "    <tr>\n",
       "      <th>3</th>\n",
       "      <td>Andaman and Nicobar</td>\n",
       "      <td>South Andaman</td>\n",
       "      <td>Port Blair</td>\n",
       "      <td>Bitter gourd</td>\n",
       "      <td>Other</td>\n",
       "      <td>04/03/2019</td>\n",
       "      <td>6000</td>\n",
       "      <td>8000</td>\n",
       "      <td>7000</td>\n",
       "    </tr>\n",
       "    <tr>\n",
       "      <th>4</th>\n",
       "      <td>Andaman and Nicobar</td>\n",
       "      <td>South Andaman</td>\n",
       "      <td>Port Blair</td>\n",
       "      <td>Black pepper</td>\n",
       "      <td>Other</td>\n",
       "      <td>04/03/2019</td>\n",
       "      <td>110000</td>\n",
       "      <td>130000</td>\n",
       "      <td>120000</td>\n",
       "    </tr>\n",
       "  </tbody>\n",
       "</table>\n",
       "</div>"
      ],
      "text/plain": [
       "                 state       district      market              commodity  \\\n",
       "0  Andaman and Nicobar  South Andaman  Port Blair             Amaranthus   \n",
       "1  Andaman and Nicobar  South Andaman  Port Blair         Banana - Green   \n",
       "2  Andaman and Nicobar  South Andaman  Port Blair  Bhindi(Ladies Finger)   \n",
       "3  Andaman and Nicobar  South Andaman  Port Blair           Bitter gourd   \n",
       "4  Andaman and Nicobar  South Andaman  Port Blair           Black pepper   \n",
       "\n",
       "          variety arrival_date  min_price  max_price  modal_price  \n",
       "0      Amaranthus   04/03/2019       6000       8000         7000  \n",
       "1  Banana - Green   04/03/2019       4500       5500         5000  \n",
       "2          Bhindi   04/03/2019       6000       8000         7000  \n",
       "3           Other   04/03/2019       6000       8000         7000  \n",
       "4           Other   04/03/2019     110000     130000       120000  "
      ]
     },
     "execution_count": 22,
     "metadata": {},
     "output_type": "execute_result"
    }
   ],
   "source": [
    "agriculture_related_data.head()"
   ]
  },
  {
   "cell_type": "code",
   "execution_count": 23,
   "id": "7f8c67d6",
   "metadata": {
    "_kg_hide-output": true,
    "execution": {
     "iopub.execute_input": "2023-02-10T22:11:32.554402Z",
     "iopub.status.busy": "2023-02-10T22:11:32.553613Z",
     "iopub.status.idle": "2023-02-10T22:11:32.561657Z",
     "shell.execute_reply": "2023-02-10T22:11:32.559942Z"
    },
    "papermill": {
     "duration": 0.030279,
     "end_time": "2023-02-10T22:11:32.564362",
     "exception": false,
     "start_time": "2023-02-10T22:11:32.534083",
     "status": "completed"
    },
    "tags": []
   },
   "outputs": [
    {
     "name": "stdout",
     "output_type": "stream",
     "text": [
      "174\n"
     ]
    }
   ],
   "source": [
    "ard_unique_districts=agriculture_related_data['district'].unique()\n",
    "ard_unique_states=agriculture_related_data['state'].unique()\n",
    "print(len(ard_unique_districts))"
   ]
  },
  {
   "cell_type": "markdown",
   "id": "c13d25b3",
   "metadata": {
    "papermill": {
     "duration": 0.0186,
     "end_time": "2023-02-10T22:11:32.601961",
     "exception": false,
     "start_time": "2023-02-10T22:11:32.583361",
     "status": "completed"
    },
    "tags": []
   },
   "source": [
    "checking the unique states in the dataset"
   ]
  },
  {
   "cell_type": "code",
   "execution_count": 24,
   "id": "65990dab",
   "metadata": {
    "execution": {
     "iopub.execute_input": "2023-02-10T22:11:32.642196Z",
     "iopub.status.busy": "2023-02-10T22:11:32.641339Z",
     "iopub.status.idle": "2023-02-10T22:11:32.647981Z",
     "shell.execute_reply": "2023-02-10T22:11:32.646370Z"
    },
    "papermill": {
     "duration": 0.031536,
     "end_time": "2023-02-10T22:11:32.652155",
     "exception": false,
     "start_time": "2023-02-10T22:11:32.620619",
     "status": "completed"
    },
    "tags": []
   },
   "outputs": [
    {
     "name": "stdout",
     "output_type": "stream",
     "text": [
      "26\n"
     ]
    }
   ],
   "source": [
    "print(len(ard_unique_states))"
   ]
  },
  {
   "cell_type": "code",
   "execution_count": 25,
   "id": "6bc02d7c",
   "metadata": {
    "execution": {
     "iopub.execute_input": "2023-02-10T22:11:32.690678Z",
     "iopub.status.busy": "2023-02-10T22:11:32.689894Z",
     "iopub.status.idle": "2023-02-10T22:11:32.696671Z",
     "shell.execute_reply": "2023-02-10T22:11:32.695178Z"
    },
    "papermill": {
     "duration": 0.02986,
     "end_time": "2023-02-10T22:11:32.700317",
     "exception": false,
     "start_time": "2023-02-10T22:11:32.670457",
     "status": "completed"
    },
    "tags": []
   },
   "outputs": [
    {
     "name": "stdout",
     "output_type": "stream",
     "text": [
      "['Andaman and Nicobar' 'Andhra Pradesh' 'Assam' 'Chattisgarh' 'Goa'\n",
      " 'Gujarat' 'Haryana' 'Himachal Pradesh' 'Jammu and Kashmir' 'Karnataka'\n",
      " 'Kerala' 'Madhya Pradesh' 'Maharashtra' 'Manipur' 'Meghalaya' 'Nagaland'\n",
      " 'Odisha' 'Pondicherry' 'Punjab' 'Rajasthan' 'Tamil Nadu' 'Telangana'\n",
      " 'Tripura' 'Uttar Pradesh' 'Uttrakhand' 'West Bengal']\n"
     ]
    }
   ],
   "source": [
    "print(ard_unique_states)"
   ]
  },
  {
   "cell_type": "markdown",
   "id": "148b8a8d",
   "metadata": {
    "papermill": {
     "duration": 0.017966,
     "end_time": "2023-02-10T22:11:32.737391",
     "exception": false,
     "start_time": "2023-02-10T22:11:32.719425",
     "status": "completed"
    },
    "tags": []
   },
   "source": [
    "checking districts for the districts dataset as well"
   ]
  },
  {
   "cell_type": "code",
   "execution_count": 26,
   "id": "114192de",
   "metadata": {
    "execution": {
     "iopub.execute_input": "2023-02-10T22:11:32.776965Z",
     "iopub.status.busy": "2023-02-10T22:11:32.775780Z",
     "iopub.status.idle": "2023-02-10T22:11:32.805224Z",
     "shell.execute_reply": "2023-02-10T22:11:32.803429Z"
    },
    "papermill": {
     "duration": 0.052618,
     "end_time": "2023-02-10T22:11:32.808298",
     "exception": false,
     "start_time": "2023-02-10T22:11:32.755680",
     "status": "completed"
    },
    "tags": []
   },
   "outputs": [
    {
     "data": {
      "text/html": [
       "<div>\n",
       "<style scoped>\n",
       "    .dataframe tbody tr th:only-of-type {\n",
       "        vertical-align: middle;\n",
       "    }\n",
       "\n",
       "    .dataframe tbody tr th {\n",
       "        vertical-align: top;\n",
       "    }\n",
       "\n",
       "    .dataframe thead th {\n",
       "        text-align: right;\n",
       "    }\n",
       "</style>\n",
       "<table border=\"1\" class=\"dataframe\">\n",
       "  <thead>\n",
       "    <tr style=\"text-align: right;\">\n",
       "      <th></th>\n",
       "      <th>STATE_UT_NAME</th>\n",
       "      <th>DISTRICT</th>\n",
       "      <th>JAN</th>\n",
       "      <th>FEB</th>\n",
       "      <th>MAR</th>\n",
       "      <th>APR</th>\n",
       "      <th>MAY</th>\n",
       "      <th>JUN</th>\n",
       "      <th>JUL</th>\n",
       "      <th>AUG</th>\n",
       "      <th>SEP</th>\n",
       "      <th>OCT</th>\n",
       "      <th>NOV</th>\n",
       "      <th>DEC</th>\n",
       "      <th>ANNUAL</th>\n",
       "      <th>Jan-Feb</th>\n",
       "      <th>Mar-May</th>\n",
       "      <th>Jun-Sep</th>\n",
       "      <th>Oct-Dec</th>\n",
       "    </tr>\n",
       "  </thead>\n",
       "  <tbody>\n",
       "    <tr>\n",
       "      <th>0</th>\n",
       "      <td>ANDAMAN And NICOBAR ISLANDS</td>\n",
       "      <td>NICOBAR</td>\n",
       "      <td>107.3</td>\n",
       "      <td>57.9</td>\n",
       "      <td>65.2</td>\n",
       "      <td>117.0</td>\n",
       "      <td>358.5</td>\n",
       "      <td>295.5</td>\n",
       "      <td>285.0</td>\n",
       "      <td>271.9</td>\n",
       "      <td>354.8</td>\n",
       "      <td>326.0</td>\n",
       "      <td>315.2</td>\n",
       "      <td>250.9</td>\n",
       "      <td>2805.2</td>\n",
       "      <td>165.2</td>\n",
       "      <td>540.7</td>\n",
       "      <td>1207.2</td>\n",
       "      <td>892.1</td>\n",
       "    </tr>\n",
       "    <tr>\n",
       "      <th>1</th>\n",
       "      <td>ANDAMAN And NICOBAR ISLANDS</td>\n",
       "      <td>SOUTH ANDAMAN</td>\n",
       "      <td>43.7</td>\n",
       "      <td>26.0</td>\n",
       "      <td>18.6</td>\n",
       "      <td>90.5</td>\n",
       "      <td>374.4</td>\n",
       "      <td>457.2</td>\n",
       "      <td>421.3</td>\n",
       "      <td>423.1</td>\n",
       "      <td>455.6</td>\n",
       "      <td>301.2</td>\n",
       "      <td>275.8</td>\n",
       "      <td>128.3</td>\n",
       "      <td>3015.7</td>\n",
       "      <td>69.7</td>\n",
       "      <td>483.5</td>\n",
       "      <td>1757.2</td>\n",
       "      <td>705.3</td>\n",
       "    </tr>\n",
       "    <tr>\n",
       "      <th>2</th>\n",
       "      <td>ANDAMAN And NICOBAR ISLANDS</td>\n",
       "      <td>N &amp; M ANDAMAN</td>\n",
       "      <td>32.7</td>\n",
       "      <td>15.9</td>\n",
       "      <td>8.6</td>\n",
       "      <td>53.4</td>\n",
       "      <td>343.6</td>\n",
       "      <td>503.3</td>\n",
       "      <td>465.4</td>\n",
       "      <td>460.9</td>\n",
       "      <td>454.8</td>\n",
       "      <td>276.1</td>\n",
       "      <td>198.6</td>\n",
       "      <td>100.0</td>\n",
       "      <td>2913.3</td>\n",
       "      <td>48.6</td>\n",
       "      <td>405.6</td>\n",
       "      <td>1884.4</td>\n",
       "      <td>574.7</td>\n",
       "    </tr>\n",
       "    <tr>\n",
       "      <th>3</th>\n",
       "      <td>ARUNACHAL PRADESH</td>\n",
       "      <td>LOHIT</td>\n",
       "      <td>42.2</td>\n",
       "      <td>80.8</td>\n",
       "      <td>176.4</td>\n",
       "      <td>358.5</td>\n",
       "      <td>306.4</td>\n",
       "      <td>447.0</td>\n",
       "      <td>660.1</td>\n",
       "      <td>427.8</td>\n",
       "      <td>313.6</td>\n",
       "      <td>167.1</td>\n",
       "      <td>34.1</td>\n",
       "      <td>29.8</td>\n",
       "      <td>3043.8</td>\n",
       "      <td>123.0</td>\n",
       "      <td>841.3</td>\n",
       "      <td>1848.5</td>\n",
       "      <td>231.0</td>\n",
       "    </tr>\n",
       "    <tr>\n",
       "      <th>4</th>\n",
       "      <td>ARUNACHAL PRADESH</td>\n",
       "      <td>EAST SIANG</td>\n",
       "      <td>33.3</td>\n",
       "      <td>79.5</td>\n",
       "      <td>105.9</td>\n",
       "      <td>216.5</td>\n",
       "      <td>323.0</td>\n",
       "      <td>738.3</td>\n",
       "      <td>990.9</td>\n",
       "      <td>711.2</td>\n",
       "      <td>568.0</td>\n",
       "      <td>206.9</td>\n",
       "      <td>29.5</td>\n",
       "      <td>31.7</td>\n",
       "      <td>4034.7</td>\n",
       "      <td>112.8</td>\n",
       "      <td>645.4</td>\n",
       "      <td>3008.4</td>\n",
       "      <td>268.1</td>\n",
       "    </tr>\n",
       "  </tbody>\n",
       "</table>\n",
       "</div>"
      ],
      "text/plain": [
       "                 STATE_UT_NAME       DISTRICT    JAN   FEB    MAR    APR  \\\n",
       "0  ANDAMAN And NICOBAR ISLANDS        NICOBAR  107.3  57.9   65.2  117.0   \n",
       "1  ANDAMAN And NICOBAR ISLANDS  SOUTH ANDAMAN   43.7  26.0   18.6   90.5   \n",
       "2  ANDAMAN And NICOBAR ISLANDS  N & M ANDAMAN   32.7  15.9    8.6   53.4   \n",
       "3            ARUNACHAL PRADESH          LOHIT   42.2  80.8  176.4  358.5   \n",
       "4            ARUNACHAL PRADESH     EAST SIANG   33.3  79.5  105.9  216.5   \n",
       "\n",
       "     MAY    JUN    JUL    AUG    SEP    OCT    NOV    DEC  ANNUAL  Jan-Feb  \\\n",
       "0  358.5  295.5  285.0  271.9  354.8  326.0  315.2  250.9  2805.2    165.2   \n",
       "1  374.4  457.2  421.3  423.1  455.6  301.2  275.8  128.3  3015.7     69.7   \n",
       "2  343.6  503.3  465.4  460.9  454.8  276.1  198.6  100.0  2913.3     48.6   \n",
       "3  306.4  447.0  660.1  427.8  313.6  167.1   34.1   29.8  3043.8    123.0   \n",
       "4  323.0  738.3  990.9  711.2  568.0  206.9   29.5   31.7  4034.7    112.8   \n",
       "\n",
       "   Mar-May  Jun-Sep  Oct-Dec  \n",
       "0    540.7   1207.2    892.1  \n",
       "1    483.5   1757.2    705.3  \n",
       "2    405.6   1884.4    574.7  \n",
       "3    841.3   1848.5    231.0  \n",
       "4    645.4   3008.4    268.1  "
      ]
     },
     "execution_count": 26,
     "metadata": {},
     "output_type": "execute_result"
    }
   ],
   "source": [
    "district_rainfall_data.head()"
   ]
  },
  {
   "cell_type": "code",
   "execution_count": 27,
   "id": "d686cb84",
   "metadata": {
    "execution": {
     "iopub.execute_input": "2023-02-10T22:11:32.851541Z",
     "iopub.status.busy": "2023-02-10T22:11:32.851073Z",
     "iopub.status.idle": "2023-02-10T22:11:32.859397Z",
     "shell.execute_reply": "2023-02-10T22:11:32.857813Z"
    },
    "papermill": {
     "duration": 0.035,
     "end_time": "2023-02-10T22:11:32.861935",
     "exception": false,
     "start_time": "2023-02-10T22:11:32.826935",
     "status": "completed"
    },
    "tags": []
   },
   "outputs": [
    {
     "name": "stdout",
     "output_type": "stream",
     "text": [
      "637\n"
     ]
    }
   ],
   "source": [
    "drd_unique_districts=district_rainfall_data['DISTRICT'].unique()\n",
    "drd_unique_states=district_rainfall_data['STATE_UT_NAME'].unique()\n",
    "print(len(drd_unique_districts))"
   ]
  },
  {
   "cell_type": "markdown",
   "id": "c3490fa8",
   "metadata": {
    "papermill": {
     "duration": 0.019161,
     "end_time": "2023-02-10T22:11:32.900381",
     "exception": false,
     "start_time": "2023-02-10T22:11:32.881220",
     "status": "completed"
    },
    "tags": []
   },
   "source": [
    "checking the unique states for district rainfall"
   ]
  },
  {
   "cell_type": "code",
   "execution_count": 28,
   "id": "c4da1980",
   "metadata": {
    "execution": {
     "iopub.execute_input": "2023-02-10T22:11:32.941928Z",
     "iopub.status.busy": "2023-02-10T22:11:32.941523Z",
     "iopub.status.idle": "2023-02-10T22:11:32.948122Z",
     "shell.execute_reply": "2023-02-10T22:11:32.946507Z"
    },
    "papermill": {
     "duration": 0.030528,
     "end_time": "2023-02-10T22:11:32.951019",
     "exception": false,
     "start_time": "2023-02-10T22:11:32.920491",
     "status": "completed"
    },
    "tags": []
   },
   "outputs": [
    {
     "name": "stdout",
     "output_type": "stream",
     "text": [
      "35\n"
     ]
    }
   ],
   "source": [
    "print(len(drd_unique_states))"
   ]
  },
  {
   "cell_type": "markdown",
   "id": "645b0a2e",
   "metadata": {
    "papermill": {
     "duration": 0.019867,
     "end_time": "2023-02-10T22:11:32.990495",
     "exception": false,
     "start_time": "2023-02-10T22:11:32.970628",
     "status": "completed"
    },
    "tags": []
   },
   "source": [
    "checking the unique states of the agriculture dataset"
   ]
  },
  {
   "cell_type": "code",
   "execution_count": 29,
   "id": "09cff441",
   "metadata": {
    "execution": {
     "iopub.execute_input": "2023-02-10T22:11:33.031757Z",
     "iopub.status.busy": "2023-02-10T22:11:33.031332Z",
     "iopub.status.idle": "2023-02-10T22:11:33.038084Z",
     "shell.execute_reply": "2023-02-10T22:11:33.036352Z"
    },
    "papermill": {
     "duration": 0.030725,
     "end_time": "2023-02-10T22:11:33.041166",
     "exception": false,
     "start_time": "2023-02-10T22:11:33.010441",
     "status": "completed"
    },
    "tags": []
   },
   "outputs": [
    {
     "name": "stdout",
     "output_type": "stream",
     "text": [
      "['ANDAMAN And NICOBAR ISLANDS' 'ARUNACHAL PRADESH' 'ASSAM' 'MEGHALAYA'\n",
      " 'MANIPUR' 'MIZORAM' 'NAGALAND' 'TRIPURA' 'WEST BENGAL' 'SIKKIM' 'ORISSA'\n",
      " 'JHARKHAND' 'BIHAR' 'UTTAR PRADESH' 'UTTARANCHAL' 'HARYANA' 'CHANDIGARH'\n",
      " 'DELHI' 'PUNJAB' 'HIMACHAL' 'JAMMU AND KASHMIR' 'RAJASTHAN'\n",
      " 'MADHYA PRADESH' 'GUJARAT' 'DADAR NAGAR HAVELI' 'DAMAN AND DUI'\n",
      " 'MAHARASHTRA' 'GOA' 'CHATISGARH' 'ANDHRA PRADESH' 'TAMIL NADU'\n",
      " 'PONDICHERRY' 'KARNATAKA' 'KERALA' 'LAKSHADWEEP']\n"
     ]
    }
   ],
   "source": [
    "print(drd_unique_states)"
   ]
  },
  {
   "cell_type": "markdown",
   "id": "aee9cdf4",
   "metadata": {
    "papermill": {
     "duration": 0.020406,
     "end_time": "2023-02-10T22:11:33.080966",
     "exception": false,
     "start_time": "2023-02-10T22:11:33.060560",
     "status": "completed"
    },
    "tags": []
   },
   "source": [
    "renaming the state and district column names for agriculture related dataset"
   ]
  },
  {
   "cell_type": "code",
   "execution_count": 30,
   "id": "adc3b96e",
   "metadata": {
    "execution": {
     "iopub.execute_input": "2023-02-10T22:11:33.122213Z",
     "iopub.status.busy": "2023-02-10T22:11:33.121765Z",
     "iopub.status.idle": "2023-02-10T22:11:33.151952Z",
     "shell.execute_reply": "2023-02-10T22:11:33.151060Z"
    },
    "papermill": {
     "duration": 0.054815,
     "end_time": "2023-02-10T22:11:33.154716",
     "exception": false,
     "start_time": "2023-02-10T22:11:33.099901",
     "status": "completed"
    },
    "tags": []
   },
   "outputs": [
    {
     "data": {
      "text/html": [
       "<div>\n",
       "<style scoped>\n",
       "    .dataframe tbody tr th:only-of-type {\n",
       "        vertical-align: middle;\n",
       "    }\n",
       "\n",
       "    .dataframe tbody tr th {\n",
       "        vertical-align: top;\n",
       "    }\n",
       "\n",
       "    .dataframe thead th {\n",
       "        text-align: right;\n",
       "    }\n",
       "</style>\n",
       "<table border=\"1\" class=\"dataframe\">\n",
       "  <thead>\n",
       "    <tr style=\"text-align: right;\">\n",
       "      <th></th>\n",
       "      <th>state</th>\n",
       "      <th>district</th>\n",
       "      <th>JAN</th>\n",
       "      <th>FEB</th>\n",
       "      <th>MAR</th>\n",
       "      <th>APR</th>\n",
       "      <th>MAY</th>\n",
       "      <th>JUN</th>\n",
       "      <th>JUL</th>\n",
       "      <th>AUG</th>\n",
       "      <th>SEP</th>\n",
       "      <th>OCT</th>\n",
       "      <th>NOV</th>\n",
       "      <th>DEC</th>\n",
       "      <th>ANNUAL</th>\n",
       "      <th>Jan-Feb</th>\n",
       "      <th>Mar-May</th>\n",
       "      <th>Jun-Sep</th>\n",
       "      <th>Oct-Dec</th>\n",
       "    </tr>\n",
       "  </thead>\n",
       "  <tbody>\n",
       "    <tr>\n",
       "      <th>0</th>\n",
       "      <td>ANDAMAN And NICOBAR ISLANDS</td>\n",
       "      <td>NICOBAR</td>\n",
       "      <td>107.3</td>\n",
       "      <td>57.9</td>\n",
       "      <td>65.2</td>\n",
       "      <td>117.0</td>\n",
       "      <td>358.5</td>\n",
       "      <td>295.5</td>\n",
       "      <td>285.0</td>\n",
       "      <td>271.9</td>\n",
       "      <td>354.8</td>\n",
       "      <td>326.0</td>\n",
       "      <td>315.2</td>\n",
       "      <td>250.9</td>\n",
       "      <td>2805.2</td>\n",
       "      <td>165.2</td>\n",
       "      <td>540.7</td>\n",
       "      <td>1207.2</td>\n",
       "      <td>892.1</td>\n",
       "    </tr>\n",
       "    <tr>\n",
       "      <th>1</th>\n",
       "      <td>ANDAMAN And NICOBAR ISLANDS</td>\n",
       "      <td>SOUTH ANDAMAN</td>\n",
       "      <td>43.7</td>\n",
       "      <td>26.0</td>\n",
       "      <td>18.6</td>\n",
       "      <td>90.5</td>\n",
       "      <td>374.4</td>\n",
       "      <td>457.2</td>\n",
       "      <td>421.3</td>\n",
       "      <td>423.1</td>\n",
       "      <td>455.6</td>\n",
       "      <td>301.2</td>\n",
       "      <td>275.8</td>\n",
       "      <td>128.3</td>\n",
       "      <td>3015.7</td>\n",
       "      <td>69.7</td>\n",
       "      <td>483.5</td>\n",
       "      <td>1757.2</td>\n",
       "      <td>705.3</td>\n",
       "    </tr>\n",
       "    <tr>\n",
       "      <th>2</th>\n",
       "      <td>ANDAMAN And NICOBAR ISLANDS</td>\n",
       "      <td>N &amp; M ANDAMAN</td>\n",
       "      <td>32.7</td>\n",
       "      <td>15.9</td>\n",
       "      <td>8.6</td>\n",
       "      <td>53.4</td>\n",
       "      <td>343.6</td>\n",
       "      <td>503.3</td>\n",
       "      <td>465.4</td>\n",
       "      <td>460.9</td>\n",
       "      <td>454.8</td>\n",
       "      <td>276.1</td>\n",
       "      <td>198.6</td>\n",
       "      <td>100.0</td>\n",
       "      <td>2913.3</td>\n",
       "      <td>48.6</td>\n",
       "      <td>405.6</td>\n",
       "      <td>1884.4</td>\n",
       "      <td>574.7</td>\n",
       "    </tr>\n",
       "    <tr>\n",
       "      <th>3</th>\n",
       "      <td>ARUNACHAL PRADESH</td>\n",
       "      <td>LOHIT</td>\n",
       "      <td>42.2</td>\n",
       "      <td>80.8</td>\n",
       "      <td>176.4</td>\n",
       "      <td>358.5</td>\n",
       "      <td>306.4</td>\n",
       "      <td>447.0</td>\n",
       "      <td>660.1</td>\n",
       "      <td>427.8</td>\n",
       "      <td>313.6</td>\n",
       "      <td>167.1</td>\n",
       "      <td>34.1</td>\n",
       "      <td>29.8</td>\n",
       "      <td>3043.8</td>\n",
       "      <td>123.0</td>\n",
       "      <td>841.3</td>\n",
       "      <td>1848.5</td>\n",
       "      <td>231.0</td>\n",
       "    </tr>\n",
       "    <tr>\n",
       "      <th>4</th>\n",
       "      <td>ARUNACHAL PRADESH</td>\n",
       "      <td>EAST SIANG</td>\n",
       "      <td>33.3</td>\n",
       "      <td>79.5</td>\n",
       "      <td>105.9</td>\n",
       "      <td>216.5</td>\n",
       "      <td>323.0</td>\n",
       "      <td>738.3</td>\n",
       "      <td>990.9</td>\n",
       "      <td>711.2</td>\n",
       "      <td>568.0</td>\n",
       "      <td>206.9</td>\n",
       "      <td>29.5</td>\n",
       "      <td>31.7</td>\n",
       "      <td>4034.7</td>\n",
       "      <td>112.8</td>\n",
       "      <td>645.4</td>\n",
       "      <td>3008.4</td>\n",
       "      <td>268.1</td>\n",
       "    </tr>\n",
       "  </tbody>\n",
       "</table>\n",
       "</div>"
      ],
      "text/plain": [
       "                         state       district    JAN   FEB    MAR    APR  \\\n",
       "0  ANDAMAN And NICOBAR ISLANDS        NICOBAR  107.3  57.9   65.2  117.0   \n",
       "1  ANDAMAN And NICOBAR ISLANDS  SOUTH ANDAMAN   43.7  26.0   18.6   90.5   \n",
       "2  ANDAMAN And NICOBAR ISLANDS  N & M ANDAMAN   32.7  15.9    8.6   53.4   \n",
       "3            ARUNACHAL PRADESH          LOHIT   42.2  80.8  176.4  358.5   \n",
       "4            ARUNACHAL PRADESH     EAST SIANG   33.3  79.5  105.9  216.5   \n",
       "\n",
       "     MAY    JUN    JUL    AUG    SEP    OCT    NOV    DEC  ANNUAL  Jan-Feb  \\\n",
       "0  358.5  295.5  285.0  271.9  354.8  326.0  315.2  250.9  2805.2    165.2   \n",
       "1  374.4  457.2  421.3  423.1  455.6  301.2  275.8  128.3  3015.7     69.7   \n",
       "2  343.6  503.3  465.4  460.9  454.8  276.1  198.6  100.0  2913.3     48.6   \n",
       "3  306.4  447.0  660.1  427.8  313.6  167.1   34.1   29.8  3043.8    123.0   \n",
       "4  323.0  738.3  990.9  711.2  568.0  206.9   29.5   31.7  4034.7    112.8   \n",
       "\n",
       "   Mar-May  Jun-Sep  Oct-Dec  \n",
       "0    540.7   1207.2    892.1  \n",
       "1    483.5   1757.2    705.3  \n",
       "2    405.6   1884.4    574.7  \n",
       "3    841.3   1848.5    231.0  \n",
       "4    645.4   3008.4    268.1  "
      ]
     },
     "execution_count": 30,
     "metadata": {},
     "output_type": "execute_result"
    }
   ],
   "source": [
    "district_rainfall_data.rename(columns={'STATE_UT_NAME':'state','DISTRICT':'district'},inplace=True)\n",
    "district_rainfall_data.head()"
   ]
  },
  {
   "cell_type": "markdown",
   "id": "88f9c7b9",
   "metadata": {
    "papermill": {
     "duration": 0.019169,
     "end_time": "2023-02-10T22:11:33.193563",
     "exception": false,
     "start_time": "2023-02-10T22:11:33.174394",
     "status": "completed"
    },
    "tags": []
   },
   "source": [
    "trying to combine two pandas datasets based on common values. I will be using both the common features(state,district) and will get two seperate datasets accordingly"
   ]
  },
  {
   "cell_type": "markdown",
   "id": "d00fd8fd",
   "metadata": {
    "papermill": {
     "duration": 0.019977,
     "end_time": "2023-02-10T22:11:33.233347",
     "exception": false,
     "start_time": "2023-02-10T22:11:33.213370",
     "status": "completed"
    },
    "tags": []
   },
   "source": [
    "checking the columns of the two datasets"
   ]
  },
  {
   "cell_type": "code",
   "execution_count": 31,
   "id": "6a5fc9bf",
   "metadata": {
    "execution": {
     "iopub.execute_input": "2023-02-10T22:11:33.274422Z",
     "iopub.status.busy": "2023-02-10T22:11:33.273953Z",
     "iopub.status.idle": "2023-02-10T22:11:33.281750Z",
     "shell.execute_reply": "2023-02-10T22:11:33.280372Z"
    },
    "papermill": {
     "duration": 0.031544,
     "end_time": "2023-02-10T22:11:33.284567",
     "exception": false,
     "start_time": "2023-02-10T22:11:33.253023",
     "status": "completed"
    },
    "tags": []
   },
   "outputs": [
    {
     "data": {
      "text/plain": [
       "Index(['state', 'district', 'market', 'commodity', 'variety', 'arrival_date',\n",
       "       'min_price', 'max_price', 'modal_price'],\n",
       "      dtype='object')"
      ]
     },
     "execution_count": 31,
     "metadata": {},
     "output_type": "execute_result"
    }
   ],
   "source": [
    "agriculture_related_data.columns"
   ]
  },
  {
   "cell_type": "code",
   "execution_count": 32,
   "id": "e555fe8f",
   "metadata": {
    "execution": {
     "iopub.execute_input": "2023-02-10T22:11:33.326991Z",
     "iopub.status.busy": "2023-02-10T22:11:33.326528Z",
     "iopub.status.idle": "2023-02-10T22:11:33.333657Z",
     "shell.execute_reply": "2023-02-10T22:11:33.332786Z"
    },
    "papermill": {
     "duration": 0.031399,
     "end_time": "2023-02-10T22:11:33.335929",
     "exception": false,
     "start_time": "2023-02-10T22:11:33.304530",
     "status": "completed"
    },
    "tags": []
   },
   "outputs": [
    {
     "data": {
      "text/plain": [
       "Index(['state', 'district', 'JAN', 'FEB', 'MAR', 'APR', 'MAY', 'JUN', 'JUL',\n",
       "       'AUG', 'SEP', 'OCT', 'NOV', 'DEC', 'ANNUAL', 'Jan-Feb', 'Mar-May',\n",
       "       'Jun-Sep', 'Oct-Dec'],\n",
       "      dtype='object')"
      ]
     },
     "execution_count": 32,
     "metadata": {},
     "output_type": "execute_result"
    }
   ],
   "source": [
    "district_rainfall_data.columns"
   ]
  },
  {
   "cell_type": "markdown",
   "id": "a91e2f6f",
   "metadata": {
    "papermill": {
     "duration": 0.019018,
     "end_time": "2023-02-10T22:11:33.374366",
     "exception": false,
     "start_time": "2023-02-10T22:11:33.355348",
     "status": "completed"
    },
    "tags": []
   },
   "source": [
    "dropping rows which have uncommon state values in district rainfall data "
   ]
  },
  {
   "cell_type": "code",
   "execution_count": 33,
   "id": "e1963c20",
   "metadata": {
    "execution": {
     "iopub.execute_input": "2023-02-10T22:11:33.417090Z",
     "iopub.status.busy": "2023-02-10T22:11:33.415525Z",
     "iopub.status.idle": "2023-02-10T22:11:33.421377Z",
     "shell.execute_reply": "2023-02-10T22:11:33.420152Z"
    },
    "papermill": {
     "duration": 0.030045,
     "end_time": "2023-02-10T22:11:33.424051",
     "exception": false,
     "start_time": "2023-02-10T22:11:33.394006",
     "status": "completed"
    },
    "tags": []
   },
   "outputs": [],
   "source": [
    "# # Drop rows where column 'B' is equal to values in values_to_drop list\n",
    "# district_rainfall_data = district_rainfall_data[~district_rainfall_data['state'].isin(result)]\n",
    "# district_rainfall_data.reset_index(drop=True)\n",
    "# # district_rainfall_data.head()"
   ]
  },
  {
   "cell_type": "markdown",
   "id": "05397580",
   "metadata": {
    "papermill": {
     "duration": 0.019989,
     "end_time": "2023-02-10T22:11:33.463889",
     "exception": false,
     "start_time": "2023-02-10T22:11:33.443900",
     "status": "completed"
    },
    "tags": []
   },
   "source": [
    "checking the unique values now"
   ]
  },
  {
   "cell_type": "code",
   "execution_count": 34,
   "id": "73b759f6",
   "metadata": {
    "execution": {
     "iopub.execute_input": "2023-02-10T22:11:33.506239Z",
     "iopub.status.busy": "2023-02-10T22:11:33.505781Z",
     "iopub.status.idle": "2023-02-10T22:11:33.514312Z",
     "shell.execute_reply": "2023-02-10T22:11:33.512553Z"
    },
    "papermill": {
     "duration": 0.033511,
     "end_time": "2023-02-10T22:11:33.517372",
     "exception": false,
     "start_time": "2023-02-10T22:11:33.483861",
     "status": "completed"
    },
    "tags": []
   },
   "outputs": [
    {
     "name": "stdout",
     "output_type": "stream",
     "text": [
      "35\n"
     ]
    }
   ],
   "source": [
    "drd_unique_districts=district_rainfall_data['district'].unique()\n",
    "drd_unique_states=district_rainfall_data['state'].unique()\n",
    "print(len(drd_unique_states))"
   ]
  },
  {
   "cell_type": "markdown",
   "id": "db3a7765",
   "metadata": {
    "papermill": {
     "duration": 0.021312,
     "end_time": "2023-02-10T22:11:33.559723",
     "exception": false,
     "start_time": "2023-02-10T22:11:33.538411",
     "status": "completed"
    },
    "tags": []
   },
   "source": [
    "merging two datasets on the basis of state"
   ]
  },
  {
   "cell_type": "code",
   "execution_count": 35,
   "id": "e4183e79",
   "metadata": {
    "execution": {
     "iopub.execute_input": "2023-02-10T22:11:33.603875Z",
     "iopub.status.busy": "2023-02-10T22:11:33.603443Z",
     "iopub.status.idle": "2023-02-10T22:11:33.624564Z",
     "shell.execute_reply": "2023-02-10T22:11:33.623150Z"
    },
    "papermill": {
     "duration": 0.046772,
     "end_time": "2023-02-10T22:11:33.627522",
     "exception": false,
     "start_time": "2023-02-10T22:11:33.580750",
     "status": "completed"
    },
    "tags": []
   },
   "outputs": [],
   "source": [
    "state_merged=pd.merge(agriculture_related_data,district_rainfall_data,on='state',how='outer')"
   ]
  },
  {
   "cell_type": "code",
   "execution_count": 36,
   "id": "99643bf7",
   "metadata": {
    "execution": {
     "iopub.execute_input": "2023-02-10T22:11:33.670150Z",
     "iopub.status.busy": "2023-02-10T22:11:33.669707Z",
     "iopub.status.idle": "2023-02-10T22:11:33.699340Z",
     "shell.execute_reply": "2023-02-10T22:11:33.697976Z"
    },
    "papermill": {
     "duration": 0.053879,
     "end_time": "2023-02-10T22:11:33.701990",
     "exception": false,
     "start_time": "2023-02-10T22:11:33.648111",
     "status": "completed"
    },
    "tags": []
   },
   "outputs": [
    {
     "data": {
      "text/html": [
       "<div>\n",
       "<style scoped>\n",
       "    .dataframe tbody tr th:only-of-type {\n",
       "        vertical-align: middle;\n",
       "    }\n",
       "\n",
       "    .dataframe tbody tr th {\n",
       "        vertical-align: top;\n",
       "    }\n",
       "\n",
       "    .dataframe thead th {\n",
       "        text-align: right;\n",
       "    }\n",
       "</style>\n",
       "<table border=\"1\" class=\"dataframe\">\n",
       "  <thead>\n",
       "    <tr style=\"text-align: right;\">\n",
       "      <th></th>\n",
       "      <th>state</th>\n",
       "      <th>district_x</th>\n",
       "      <th>market</th>\n",
       "      <th>commodity</th>\n",
       "      <th>variety</th>\n",
       "      <th>arrival_date</th>\n",
       "      <th>min_price</th>\n",
       "      <th>max_price</th>\n",
       "      <th>modal_price</th>\n",
       "      <th>district_y</th>\n",
       "      <th>...</th>\n",
       "      <th>AUG</th>\n",
       "      <th>SEP</th>\n",
       "      <th>OCT</th>\n",
       "      <th>NOV</th>\n",
       "      <th>DEC</th>\n",
       "      <th>ANNUAL</th>\n",
       "      <th>Jan-Feb</th>\n",
       "      <th>Mar-May</th>\n",
       "      <th>Jun-Sep</th>\n",
       "      <th>Oct-Dec</th>\n",
       "    </tr>\n",
       "  </thead>\n",
       "  <tbody>\n",
       "    <tr>\n",
       "      <th>0</th>\n",
       "      <td>Andaman and Nicobar</td>\n",
       "      <td>South Andaman</td>\n",
       "      <td>Port Blair</td>\n",
       "      <td>Amaranthus</td>\n",
       "      <td>Amaranthus</td>\n",
       "      <td>04/03/2019</td>\n",
       "      <td>6000.0</td>\n",
       "      <td>8000.0</td>\n",
       "      <td>7000.0</td>\n",
       "      <td>NaN</td>\n",
       "      <td>...</td>\n",
       "      <td>NaN</td>\n",
       "      <td>NaN</td>\n",
       "      <td>NaN</td>\n",
       "      <td>NaN</td>\n",
       "      <td>NaN</td>\n",
       "      <td>NaN</td>\n",
       "      <td>NaN</td>\n",
       "      <td>NaN</td>\n",
       "      <td>NaN</td>\n",
       "      <td>NaN</td>\n",
       "    </tr>\n",
       "    <tr>\n",
       "      <th>1</th>\n",
       "      <td>Andaman and Nicobar</td>\n",
       "      <td>South Andaman</td>\n",
       "      <td>Port Blair</td>\n",
       "      <td>Banana - Green</td>\n",
       "      <td>Banana - Green</td>\n",
       "      <td>04/03/2019</td>\n",
       "      <td>4500.0</td>\n",
       "      <td>5500.0</td>\n",
       "      <td>5000.0</td>\n",
       "      <td>NaN</td>\n",
       "      <td>...</td>\n",
       "      <td>NaN</td>\n",
       "      <td>NaN</td>\n",
       "      <td>NaN</td>\n",
       "      <td>NaN</td>\n",
       "      <td>NaN</td>\n",
       "      <td>NaN</td>\n",
       "      <td>NaN</td>\n",
       "      <td>NaN</td>\n",
       "      <td>NaN</td>\n",
       "      <td>NaN</td>\n",
       "    </tr>\n",
       "    <tr>\n",
       "      <th>2</th>\n",
       "      <td>Andaman and Nicobar</td>\n",
       "      <td>South Andaman</td>\n",
       "      <td>Port Blair</td>\n",
       "      <td>Bhindi(Ladies Finger)</td>\n",
       "      <td>Bhindi</td>\n",
       "      <td>04/03/2019</td>\n",
       "      <td>6000.0</td>\n",
       "      <td>8000.0</td>\n",
       "      <td>7000.0</td>\n",
       "      <td>NaN</td>\n",
       "      <td>...</td>\n",
       "      <td>NaN</td>\n",
       "      <td>NaN</td>\n",
       "      <td>NaN</td>\n",
       "      <td>NaN</td>\n",
       "      <td>NaN</td>\n",
       "      <td>NaN</td>\n",
       "      <td>NaN</td>\n",
       "      <td>NaN</td>\n",
       "      <td>NaN</td>\n",
       "      <td>NaN</td>\n",
       "    </tr>\n",
       "    <tr>\n",
       "      <th>3</th>\n",
       "      <td>Andaman and Nicobar</td>\n",
       "      <td>South Andaman</td>\n",
       "      <td>Port Blair</td>\n",
       "      <td>Bitter gourd</td>\n",
       "      <td>Other</td>\n",
       "      <td>04/03/2019</td>\n",
       "      <td>6000.0</td>\n",
       "      <td>8000.0</td>\n",
       "      <td>7000.0</td>\n",
       "      <td>NaN</td>\n",
       "      <td>...</td>\n",
       "      <td>NaN</td>\n",
       "      <td>NaN</td>\n",
       "      <td>NaN</td>\n",
       "      <td>NaN</td>\n",
       "      <td>NaN</td>\n",
       "      <td>NaN</td>\n",
       "      <td>NaN</td>\n",
       "      <td>NaN</td>\n",
       "      <td>NaN</td>\n",
       "      <td>NaN</td>\n",
       "    </tr>\n",
       "    <tr>\n",
       "      <th>4</th>\n",
       "      <td>Andaman and Nicobar</td>\n",
       "      <td>South Andaman</td>\n",
       "      <td>Port Blair</td>\n",
       "      <td>Black pepper</td>\n",
       "      <td>Other</td>\n",
       "      <td>04/03/2019</td>\n",
       "      <td>110000.0</td>\n",
       "      <td>130000.0</td>\n",
       "      <td>120000.0</td>\n",
       "      <td>NaN</td>\n",
       "      <td>...</td>\n",
       "      <td>NaN</td>\n",
       "      <td>NaN</td>\n",
       "      <td>NaN</td>\n",
       "      <td>NaN</td>\n",
       "      <td>NaN</td>\n",
       "      <td>NaN</td>\n",
       "      <td>NaN</td>\n",
       "      <td>NaN</td>\n",
       "      <td>NaN</td>\n",
       "      <td>NaN</td>\n",
       "    </tr>\n",
       "  </tbody>\n",
       "</table>\n",
       "<p>5 rows × 27 columns</p>\n",
       "</div>"
      ],
      "text/plain": [
       "                 state     district_x      market              commodity  \\\n",
       "0  Andaman and Nicobar  South Andaman  Port Blair             Amaranthus   \n",
       "1  Andaman and Nicobar  South Andaman  Port Blair         Banana - Green   \n",
       "2  Andaman and Nicobar  South Andaman  Port Blair  Bhindi(Ladies Finger)   \n",
       "3  Andaman and Nicobar  South Andaman  Port Blair           Bitter gourd   \n",
       "4  Andaman and Nicobar  South Andaman  Port Blair           Black pepper   \n",
       "\n",
       "          variety arrival_date  min_price  max_price  modal_price district_y  \\\n",
       "0      Amaranthus   04/03/2019     6000.0     8000.0       7000.0        NaN   \n",
       "1  Banana - Green   04/03/2019     4500.0     5500.0       5000.0        NaN   \n",
       "2          Bhindi   04/03/2019     6000.0     8000.0       7000.0        NaN   \n",
       "3           Other   04/03/2019     6000.0     8000.0       7000.0        NaN   \n",
       "4           Other   04/03/2019   110000.0   130000.0     120000.0        NaN   \n",
       "\n",
       "   ...  AUG  SEP  OCT  NOV  DEC  ANNUAL  Jan-Feb  Mar-May  Jun-Sep  Oct-Dec  \n",
       "0  ...  NaN  NaN  NaN  NaN  NaN     NaN      NaN      NaN      NaN      NaN  \n",
       "1  ...  NaN  NaN  NaN  NaN  NaN     NaN      NaN      NaN      NaN      NaN  \n",
       "2  ...  NaN  NaN  NaN  NaN  NaN     NaN      NaN      NaN      NaN      NaN  \n",
       "3  ...  NaN  NaN  NaN  NaN  NaN     NaN      NaN      NaN      NaN      NaN  \n",
       "4  ...  NaN  NaN  NaN  NaN  NaN     NaN      NaN      NaN      NaN      NaN  \n",
       "\n",
       "[5 rows x 27 columns]"
      ]
     },
     "execution_count": 36,
     "metadata": {},
     "output_type": "execute_result"
    }
   ],
   "source": [
    "state_merged.head()"
   ]
  },
  {
   "cell_type": "markdown",
   "id": "6bebe7ad",
   "metadata": {
    "papermill": {
     "duration": 0.02023,
     "end_time": "2023-02-10T22:11:33.742538",
     "exception": false,
     "start_time": "2023-02-10T22:11:33.722308",
     "status": "completed"
    },
    "tags": []
   },
   "source": [
    "kill me now if i get a lot of na values"
   ]
  },
  {
   "cell_type": "code",
   "execution_count": 37,
   "id": "af8e48c9",
   "metadata": {
    "execution": {
     "iopub.execute_input": "2023-02-10T22:11:33.786926Z",
     "iopub.status.busy": "2023-02-10T22:11:33.786469Z",
     "iopub.status.idle": "2023-02-10T22:11:33.797784Z",
     "shell.execute_reply": "2023-02-10T22:11:33.796320Z"
    },
    "papermill": {
     "duration": 0.037005,
     "end_time": "2023-02-10T22:11:33.800702",
     "exception": false,
     "start_time": "2023-02-10T22:11:33.763697",
     "status": "completed"
    },
    "tags": []
   },
   "outputs": [
    {
     "data": {
      "text/plain": [
       "45412"
      ]
     },
     "execution_count": 37,
     "metadata": {},
     "output_type": "execute_result"
    }
   ],
   "source": [
    "state_merged.isna().sum().sum()"
   ]
  },
  {
   "cell_type": "code",
   "execution_count": 38,
   "id": "3f61107e",
   "metadata": {
    "execution": {
     "iopub.execute_input": "2023-02-10T22:11:33.845865Z",
     "iopub.status.busy": "2023-02-10T22:11:33.845454Z",
     "iopub.status.idle": "2023-02-10T22:11:33.856807Z",
     "shell.execute_reply": "2023-02-10T22:11:33.855481Z"
    },
    "papermill": {
     "duration": 0.037024,
     "end_time": "2023-02-10T22:11:33.859389",
     "exception": false,
     "start_time": "2023-02-10T22:11:33.822365",
     "status": "completed"
    },
    "tags": []
   },
   "outputs": [
    {
     "name": "stdout",
     "output_type": "stream",
     "text": [
      "state            0.000000\n",
      "district_x      22.264675\n",
      "market          22.264675\n",
      "commodity       22.264675\n",
      "variety         22.264675\n",
      "arrival_date    22.264675\n",
      "min_price       22.264675\n",
      "max_price       22.264675\n",
      "modal_price     22.264675\n",
      "district_y      77.735325\n",
      "JAN             77.735325\n",
      "FEB             77.735325\n",
      "MAR             77.735325\n",
      "APR             77.735325\n",
      "MAY             77.735325\n",
      "JUN             77.735325\n",
      "JUL             77.735325\n",
      "AUG             77.735325\n",
      "SEP             77.735325\n",
      "OCT             77.735325\n",
      "NOV             77.735325\n",
      "DEC             77.735325\n",
      "ANNUAL          77.735325\n",
      "Jan-Feb         77.735325\n",
      "Mar-May         77.735325\n",
      "Jun-Sep         77.735325\n",
      "Oct-Dec         77.735325\n",
      "dtype: float64\n"
     ]
    }
   ],
   "source": [
    "missing_values = state_merged.isna().mean() * 100\n",
    "\n",
    "print(missing_values)"
   ]
  },
  {
   "cell_type": "code",
   "execution_count": 39,
   "id": "313f4e5d",
   "metadata": {
    "execution": {
     "iopub.execute_input": "2023-02-10T22:11:33.903485Z",
     "iopub.status.busy": "2023-02-10T22:11:33.902153Z",
     "iopub.status.idle": "2023-02-10T22:11:33.908094Z",
     "shell.execute_reply": "2023-02-10T22:11:33.906743Z"
    },
    "papermill": {
     "duration": 0.031506,
     "end_time": "2023-02-10T22:11:33.911185",
     "exception": false,
     "start_time": "2023-02-10T22:11:33.879679",
     "status": "completed"
    },
    "tags": []
   },
   "outputs": [],
   "source": [
    "# Impute missing values with the mean of the column\n",
    "# state_merged.fillna(state_merged.mean(), inplace=True)"
   ]
  },
  {
   "cell_type": "code",
   "execution_count": 40,
   "id": "781029a0",
   "metadata": {
    "execution": {
     "iopub.execute_input": "2023-02-10T22:11:33.954721Z",
     "iopub.status.busy": "2023-02-10T22:11:33.954227Z",
     "iopub.status.idle": "2023-02-10T22:11:33.959539Z",
     "shell.execute_reply": "2023-02-10T22:11:33.958360Z"
    },
    "papermill": {
     "duration": 0.029292,
     "end_time": "2023-02-10T22:11:33.962037",
     "exception": false,
     "start_time": "2023-02-10T22:11:33.932745",
     "status": "completed"
    },
    "tags": []
   },
   "outputs": [],
   "source": [
    "# state_merged.isna().sum().sum()"
   ]
  },
  {
   "cell_type": "code",
   "execution_count": 41,
   "id": "b7b9ae24",
   "metadata": {
    "execution": {
     "iopub.execute_input": "2023-02-10T22:11:34.004953Z",
     "iopub.status.busy": "2023-02-10T22:11:34.004482Z",
     "iopub.status.idle": "2023-02-10T22:11:34.012815Z",
     "shell.execute_reply": "2023-02-10T22:11:34.011270Z"
    },
    "papermill": {
     "duration": 0.034448,
     "end_time": "2023-02-10T22:11:34.017049",
     "exception": false,
     "start_time": "2023-02-10T22:11:33.982601",
     "status": "completed"
    },
    "tags": []
   },
   "outputs": [
    {
     "name": "stdout",
     "output_type": "stream",
     "text": [
      "['ANDAMAN & NICOBAR ISLANDS' 'ARUNACHAL PRADESH' 'ASSAM & MEGHALAYA'\n",
      " 'NAGA MANI MIZO TRIPURA' 'SUB HIMALAYAN WEST BENGAL & SIKKIM'\n",
      " 'GANGETIC WEST BENGAL' 'ORISSA' 'JHARKHAND' 'BIHAR' 'EAST UTTAR PRADESH'\n",
      " 'WEST UTTAR PRADESH' 'UTTARAKHAND' 'HARYANA DELHI & CHANDIGARH' 'PUNJAB'\n",
      " 'HIMACHAL PRADESH' 'JAMMU & KASHMIR' 'WEST RAJASTHAN' 'EAST RAJASTHAN'\n",
      " 'WEST MADHYA PRADESH' 'EAST MADHYA PRADESH' 'GUJARAT REGION'\n",
      " 'SAURASHTRA & KUTCH' 'KONKAN & GOA' 'MADHYA MAHARASHTRA' 'MATATHWADA'\n",
      " 'VIDARBHA' 'CHHATTISGARH' 'COASTAL ANDHRA PRADESH' 'TELANGANA'\n",
      " 'RAYALSEEMA' 'TAMIL NADU' 'COASTAL KARNATAKA' 'NORTH INTERIOR KARNATAKA'\n",
      " 'SOUTH INTERIOR KARNATAKA' 'KERALA' 'LAKSHADWEEP']\n"
     ]
    }
   ],
   "source": [
    "subdivisions=india_rainfall_data['SUBDIVISION'].unique()\n",
    "print(subdivisions)"
   ]
  },
  {
   "cell_type": "code",
   "execution_count": 42,
   "id": "59d9fbc1",
   "metadata": {
    "execution": {
     "iopub.execute_input": "2023-02-10T22:11:34.063069Z",
     "iopub.status.busy": "2023-02-10T22:11:34.062656Z",
     "iopub.status.idle": "2023-02-10T22:11:34.069336Z",
     "shell.execute_reply": "2023-02-10T22:11:34.067395Z"
    },
    "papermill": {
     "duration": 0.03203,
     "end_time": "2023-02-10T22:11:34.071869",
     "exception": false,
     "start_time": "2023-02-10T22:11:34.039839",
     "status": "completed"
    },
    "tags": []
   },
   "outputs": [
    {
     "name": "stdout",
     "output_type": "stream",
     "text": [
      "36\n"
     ]
    }
   ],
   "source": [
    "print(len(subdivisions))"
   ]
  },
  {
   "cell_type": "code",
   "execution_count": 43,
   "id": "1030206b",
   "metadata": {
    "execution": {
     "iopub.execute_input": "2023-02-10T22:11:34.114960Z",
     "iopub.status.busy": "2023-02-10T22:11:34.114485Z",
     "iopub.status.idle": "2023-02-10T22:11:34.144179Z",
     "shell.execute_reply": "2023-02-10T22:11:34.142994Z"
    },
    "papermill": {
     "duration": 0.054005,
     "end_time": "2023-02-10T22:11:34.146944",
     "exception": false,
     "start_time": "2023-02-10T22:11:34.092939",
     "status": "completed"
    },
    "tags": []
   },
   "outputs": [
    {
     "data": {
      "text/html": [
       "<div>\n",
       "<style scoped>\n",
       "    .dataframe tbody tr th:only-of-type {\n",
       "        vertical-align: middle;\n",
       "    }\n",
       "\n",
       "    .dataframe tbody tr th {\n",
       "        vertical-align: top;\n",
       "    }\n",
       "\n",
       "    .dataframe thead th {\n",
       "        text-align: right;\n",
       "    }\n",
       "</style>\n",
       "<table border=\"1\" class=\"dataframe\">\n",
       "  <thead>\n",
       "    <tr style=\"text-align: right;\">\n",
       "      <th></th>\n",
       "      <th>state</th>\n",
       "      <th>YEAR</th>\n",
       "      <th>JAN</th>\n",
       "      <th>FEB</th>\n",
       "      <th>MAR</th>\n",
       "      <th>APR</th>\n",
       "      <th>MAY</th>\n",
       "      <th>JUN</th>\n",
       "      <th>JUL</th>\n",
       "      <th>AUG</th>\n",
       "      <th>SEP</th>\n",
       "      <th>OCT</th>\n",
       "      <th>NOV</th>\n",
       "      <th>DEC</th>\n",
       "      <th>ANNUAL</th>\n",
       "      <th>Jan-Feb</th>\n",
       "      <th>Mar-May</th>\n",
       "      <th>Jun-Sep</th>\n",
       "      <th>Oct-Dec</th>\n",
       "    </tr>\n",
       "  </thead>\n",
       "  <tbody>\n",
       "    <tr>\n",
       "      <th>0</th>\n",
       "      <td>ANDAMAN &amp; NICOBAR ISLANDS</td>\n",
       "      <td>1901</td>\n",
       "      <td>49.2</td>\n",
       "      <td>87.1</td>\n",
       "      <td>29.2</td>\n",
       "      <td>2.3</td>\n",
       "      <td>528.8</td>\n",
       "      <td>517.5</td>\n",
       "      <td>365.1</td>\n",
       "      <td>481.1</td>\n",
       "      <td>332.6</td>\n",
       "      <td>388.5</td>\n",
       "      <td>558.2</td>\n",
       "      <td>33.6</td>\n",
       "      <td>3373.2</td>\n",
       "      <td>136.3</td>\n",
       "      <td>560.3</td>\n",
       "      <td>1696.3</td>\n",
       "      <td>980.3</td>\n",
       "    </tr>\n",
       "    <tr>\n",
       "      <th>1</th>\n",
       "      <td>ANDAMAN &amp; NICOBAR ISLANDS</td>\n",
       "      <td>1902</td>\n",
       "      <td>0.0</td>\n",
       "      <td>159.8</td>\n",
       "      <td>12.2</td>\n",
       "      <td>0.0</td>\n",
       "      <td>446.1</td>\n",
       "      <td>537.1</td>\n",
       "      <td>228.9</td>\n",
       "      <td>753.7</td>\n",
       "      <td>666.2</td>\n",
       "      <td>197.2</td>\n",
       "      <td>359.0</td>\n",
       "      <td>160.5</td>\n",
       "      <td>3520.7</td>\n",
       "      <td>159.8</td>\n",
       "      <td>458.3</td>\n",
       "      <td>2185.9</td>\n",
       "      <td>716.7</td>\n",
       "    </tr>\n",
       "    <tr>\n",
       "      <th>2</th>\n",
       "      <td>ANDAMAN &amp; NICOBAR ISLANDS</td>\n",
       "      <td>1903</td>\n",
       "      <td>12.7</td>\n",
       "      <td>144.0</td>\n",
       "      <td>0.0</td>\n",
       "      <td>1.0</td>\n",
       "      <td>235.1</td>\n",
       "      <td>479.9</td>\n",
       "      <td>728.4</td>\n",
       "      <td>326.7</td>\n",
       "      <td>339.0</td>\n",
       "      <td>181.2</td>\n",
       "      <td>284.4</td>\n",
       "      <td>225.0</td>\n",
       "      <td>2957.4</td>\n",
       "      <td>156.7</td>\n",
       "      <td>236.1</td>\n",
       "      <td>1874.0</td>\n",
       "      <td>690.6</td>\n",
       "    </tr>\n",
       "    <tr>\n",
       "      <th>3</th>\n",
       "      <td>ANDAMAN &amp; NICOBAR ISLANDS</td>\n",
       "      <td>1904</td>\n",
       "      <td>9.4</td>\n",
       "      <td>14.7</td>\n",
       "      <td>0.0</td>\n",
       "      <td>202.4</td>\n",
       "      <td>304.5</td>\n",
       "      <td>495.1</td>\n",
       "      <td>502.0</td>\n",
       "      <td>160.1</td>\n",
       "      <td>820.4</td>\n",
       "      <td>222.2</td>\n",
       "      <td>308.7</td>\n",
       "      <td>40.1</td>\n",
       "      <td>3079.6</td>\n",
       "      <td>24.1</td>\n",
       "      <td>506.9</td>\n",
       "      <td>1977.6</td>\n",
       "      <td>571.0</td>\n",
       "    </tr>\n",
       "    <tr>\n",
       "      <th>4</th>\n",
       "      <td>ANDAMAN &amp; NICOBAR ISLANDS</td>\n",
       "      <td>1905</td>\n",
       "      <td>1.3</td>\n",
       "      <td>0.0</td>\n",
       "      <td>3.3</td>\n",
       "      <td>26.9</td>\n",
       "      <td>279.5</td>\n",
       "      <td>628.7</td>\n",
       "      <td>368.7</td>\n",
       "      <td>330.5</td>\n",
       "      <td>297.0</td>\n",
       "      <td>260.7</td>\n",
       "      <td>25.4</td>\n",
       "      <td>344.7</td>\n",
       "      <td>2566.7</td>\n",
       "      <td>1.3</td>\n",
       "      <td>309.7</td>\n",
       "      <td>1624.9</td>\n",
       "      <td>630.8</td>\n",
       "    </tr>\n",
       "  </tbody>\n",
       "</table>\n",
       "</div>"
      ],
      "text/plain": [
       "                       state  YEAR   JAN    FEB   MAR    APR    MAY    JUN  \\\n",
       "0  ANDAMAN & NICOBAR ISLANDS  1901  49.2   87.1  29.2    2.3  528.8  517.5   \n",
       "1  ANDAMAN & NICOBAR ISLANDS  1902   0.0  159.8  12.2    0.0  446.1  537.1   \n",
       "2  ANDAMAN & NICOBAR ISLANDS  1903  12.7  144.0   0.0    1.0  235.1  479.9   \n",
       "3  ANDAMAN & NICOBAR ISLANDS  1904   9.4   14.7   0.0  202.4  304.5  495.1   \n",
       "4  ANDAMAN & NICOBAR ISLANDS  1905   1.3    0.0   3.3   26.9  279.5  628.7   \n",
       "\n",
       "     JUL    AUG    SEP    OCT    NOV    DEC  ANNUAL  Jan-Feb  Mar-May  \\\n",
       "0  365.1  481.1  332.6  388.5  558.2   33.6  3373.2    136.3    560.3   \n",
       "1  228.9  753.7  666.2  197.2  359.0  160.5  3520.7    159.8    458.3   \n",
       "2  728.4  326.7  339.0  181.2  284.4  225.0  2957.4    156.7    236.1   \n",
       "3  502.0  160.1  820.4  222.2  308.7   40.1  3079.6     24.1    506.9   \n",
       "4  368.7  330.5  297.0  260.7   25.4  344.7  2566.7      1.3    309.7   \n",
       "\n",
       "   Jun-Sep  Oct-Dec  \n",
       "0   1696.3    980.3  \n",
       "1   2185.9    716.7  \n",
       "2   1874.0    690.6  \n",
       "3   1977.6    571.0  \n",
       "4   1624.9    630.8  "
      ]
     },
     "execution_count": 43,
     "metadata": {},
     "output_type": "execute_result"
    }
   ],
   "source": [
    "india_rainfall_data.rename(columns={'SUBDIVISION': 'state'},inplace=True)\n",
    "india_rainfall_data.head()"
   ]
  },
  {
   "cell_type": "code",
   "execution_count": 44,
   "id": "75300535",
   "metadata": {
    "execution": {
     "iopub.execute_input": "2023-02-10T22:11:34.190596Z",
     "iopub.status.busy": "2023-02-10T22:11:34.190125Z",
     "iopub.status.idle": "2023-02-10T22:11:34.453509Z",
     "shell.execute_reply": "2023-02-10T22:11:34.451984Z"
    },
    "papermill": {
     "duration": 0.289156,
     "end_time": "2023-02-10T22:11:34.457329",
     "exception": false,
     "start_time": "2023-02-10T22:11:34.168173",
     "status": "completed"
    },
    "tags": []
   },
   "outputs": [
    {
     "name": "stderr",
     "output_type": "stream",
     "text": [
      "/opt/conda/lib/python3.7/site-packages/ipykernel_launcher.py:5: FutureWarning: Dropping of nuisance columns in DataFrame reductions (with 'numeric_only=None') is deprecated; in a future version this will raise TypeError.  Select only valid columns before calling the reduction.\n",
      "  \"\"\"\n"
     ]
    },
    {
     "data": {
      "text/html": [
       "<div>\n",
       "<style scoped>\n",
       "    .dataframe tbody tr th:only-of-type {\n",
       "        vertical-align: middle;\n",
       "    }\n",
       "\n",
       "    .dataframe tbody tr th {\n",
       "        vertical-align: top;\n",
       "    }\n",
       "\n",
       "    .dataframe thead th {\n",
       "        text-align: right;\n",
       "    }\n",
       "</style>\n",
       "<table border=\"1\" class=\"dataframe\">\n",
       "  <thead>\n",
       "    <tr style=\"text-align: right;\">\n",
       "      <th></th>\n",
       "      <th>state</th>\n",
       "      <th>YEAR</th>\n",
       "      <th>JAN_x</th>\n",
       "      <th>FEB_x</th>\n",
       "      <th>MAR_x</th>\n",
       "      <th>APR_x</th>\n",
       "      <th>MAY_x</th>\n",
       "      <th>JUN_x</th>\n",
       "      <th>JUL_x</th>\n",
       "      <th>AUG_x</th>\n",
       "      <th>...</th>\n",
       "      <th>Jun-Sep_y</th>\n",
       "      <th>Oct-Dec_y</th>\n",
       "      <th>district_y</th>\n",
       "      <th>market</th>\n",
       "      <th>commodity</th>\n",
       "      <th>variety</th>\n",
       "      <th>arrival_date</th>\n",
       "      <th>min_price</th>\n",
       "      <th>max_price</th>\n",
       "      <th>modal_price</th>\n",
       "    </tr>\n",
       "  </thead>\n",
       "  <tbody>\n",
       "    <tr>\n",
       "      <th>0</th>\n",
       "      <td>ANDAMAN &amp; NICOBAR ISLANDS</td>\n",
       "      <td>1901.0</td>\n",
       "      <td>49.2</td>\n",
       "      <td>87.1</td>\n",
       "      <td>29.2</td>\n",
       "      <td>2.3</td>\n",
       "      <td>528.8</td>\n",
       "      <td>517.5</td>\n",
       "      <td>365.1</td>\n",
       "      <td>481.1</td>\n",
       "      <td>...</td>\n",
       "      <td>1007.78413</td>\n",
       "      <td>207.296242</td>\n",
       "      <td>NaN</td>\n",
       "      <td>NaN</td>\n",
       "      <td>NaN</td>\n",
       "      <td>NaN</td>\n",
       "      <td>NaN</td>\n",
       "      <td>2456.230563</td>\n",
       "      <td>2855.890527</td>\n",
       "      <td>2698.865952</td>\n",
       "    </tr>\n",
       "    <tr>\n",
       "      <th>1</th>\n",
       "      <td>ANDAMAN &amp; NICOBAR ISLANDS</td>\n",
       "      <td>1902.0</td>\n",
       "      <td>0.0</td>\n",
       "      <td>159.8</td>\n",
       "      <td>12.2</td>\n",
       "      <td>0.0</td>\n",
       "      <td>446.1</td>\n",
       "      <td>537.1</td>\n",
       "      <td>228.9</td>\n",
       "      <td>753.7</td>\n",
       "      <td>...</td>\n",
       "      <td>1007.78413</td>\n",
       "      <td>207.296242</td>\n",
       "      <td>NaN</td>\n",
       "      <td>NaN</td>\n",
       "      <td>NaN</td>\n",
       "      <td>NaN</td>\n",
       "      <td>NaN</td>\n",
       "      <td>2456.230563</td>\n",
       "      <td>2855.890527</td>\n",
       "      <td>2698.865952</td>\n",
       "    </tr>\n",
       "    <tr>\n",
       "      <th>2</th>\n",
       "      <td>ANDAMAN &amp; NICOBAR ISLANDS</td>\n",
       "      <td>1903.0</td>\n",
       "      <td>12.7</td>\n",
       "      <td>144.0</td>\n",
       "      <td>0.0</td>\n",
       "      <td>1.0</td>\n",
       "      <td>235.1</td>\n",
       "      <td>479.9</td>\n",
       "      <td>728.4</td>\n",
       "      <td>326.7</td>\n",
       "      <td>...</td>\n",
       "      <td>1007.78413</td>\n",
       "      <td>207.296242</td>\n",
       "      <td>NaN</td>\n",
       "      <td>NaN</td>\n",
       "      <td>NaN</td>\n",
       "      <td>NaN</td>\n",
       "      <td>NaN</td>\n",
       "      <td>2456.230563</td>\n",
       "      <td>2855.890527</td>\n",
       "      <td>2698.865952</td>\n",
       "    </tr>\n",
       "    <tr>\n",
       "      <th>3</th>\n",
       "      <td>ANDAMAN &amp; NICOBAR ISLANDS</td>\n",
       "      <td>1904.0</td>\n",
       "      <td>9.4</td>\n",
       "      <td>14.7</td>\n",
       "      <td>0.0</td>\n",
       "      <td>202.4</td>\n",
       "      <td>304.5</td>\n",
       "      <td>495.1</td>\n",
       "      <td>502.0</td>\n",
       "      <td>160.1</td>\n",
       "      <td>...</td>\n",
       "      <td>1007.78413</td>\n",
       "      <td>207.296242</td>\n",
       "      <td>NaN</td>\n",
       "      <td>NaN</td>\n",
       "      <td>NaN</td>\n",
       "      <td>NaN</td>\n",
       "      <td>NaN</td>\n",
       "      <td>2456.230563</td>\n",
       "      <td>2855.890527</td>\n",
       "      <td>2698.865952</td>\n",
       "    </tr>\n",
       "    <tr>\n",
       "      <th>4</th>\n",
       "      <td>ANDAMAN &amp; NICOBAR ISLANDS</td>\n",
       "      <td>1905.0</td>\n",
       "      <td>1.3</td>\n",
       "      <td>0.0</td>\n",
       "      <td>3.3</td>\n",
       "      <td>26.9</td>\n",
       "      <td>279.5</td>\n",
       "      <td>628.7</td>\n",
       "      <td>368.7</td>\n",
       "      <td>330.5</td>\n",
       "      <td>...</td>\n",
       "      <td>1007.78413</td>\n",
       "      <td>207.296242</td>\n",
       "      <td>NaN</td>\n",
       "      <td>NaN</td>\n",
       "      <td>NaN</td>\n",
       "      <td>NaN</td>\n",
       "      <td>NaN</td>\n",
       "      <td>2456.230563</td>\n",
       "      <td>2855.890527</td>\n",
       "      <td>2698.865952</td>\n",
       "    </tr>\n",
       "  </tbody>\n",
       "</table>\n",
       "<p>5 rows × 45 columns</p>\n",
       "</div>"
      ],
      "text/plain": [
       "                       state    YEAR  JAN_x  FEB_x  MAR_x  APR_x  MAY_x  \\\n",
       "0  ANDAMAN & NICOBAR ISLANDS  1901.0   49.2   87.1   29.2    2.3  528.8   \n",
       "1  ANDAMAN & NICOBAR ISLANDS  1902.0    0.0  159.8   12.2    0.0  446.1   \n",
       "2  ANDAMAN & NICOBAR ISLANDS  1903.0   12.7  144.0    0.0    1.0  235.1   \n",
       "3  ANDAMAN & NICOBAR ISLANDS  1904.0    9.4   14.7    0.0  202.4  304.5   \n",
       "4  ANDAMAN & NICOBAR ISLANDS  1905.0    1.3    0.0    3.3   26.9  279.5   \n",
       "\n",
       "   JUN_x  JUL_x  AUG_x  ...   Jun-Sep_y   Oct-Dec_y  district_y  market  \\\n",
       "0  517.5  365.1  481.1  ...  1007.78413  207.296242         NaN     NaN   \n",
       "1  537.1  228.9  753.7  ...  1007.78413  207.296242         NaN     NaN   \n",
       "2  479.9  728.4  326.7  ...  1007.78413  207.296242         NaN     NaN   \n",
       "3  495.1  502.0  160.1  ...  1007.78413  207.296242         NaN     NaN   \n",
       "4  628.7  368.7  330.5  ...  1007.78413  207.296242         NaN     NaN   \n",
       "\n",
       "   commodity  variety  arrival_date    min_price    max_price  modal_price  \n",
       "0        NaN      NaN           NaN  2456.230563  2855.890527  2698.865952  \n",
       "1        NaN      NaN           NaN  2456.230563  2855.890527  2698.865952  \n",
       "2        NaN      NaN           NaN  2456.230563  2855.890527  2698.865952  \n",
       "3        NaN      NaN           NaN  2456.230563  2855.890527  2698.865952  \n",
       "4        NaN      NaN           NaN  2456.230563  2855.890527  2698.865952  \n",
       "\n",
       "[5 rows x 45 columns]"
      ]
     },
     "execution_count": 44,
     "metadata": {},
     "output_type": "execute_result"
    }
   ],
   "source": [
    "merged_dataset = pd.merge(india_rainfall_data,district_rainfall_data, on='state', how='outer')\n",
    "merged_dataset = pd.merge(merged_dataset,agriculture_related_data, on='state', how='outer')\n",
    "\n",
    "# Impute all NaN values with the mean value of each column\n",
    "merged_dataset.fillna(merged_dataset.mean(), inplace=True)\n",
    "\n",
    "# Print the head of the merged dataset\n",
    "merged_dataset.head()"
   ]
  },
  {
   "cell_type": "markdown",
   "id": "a7afae83",
   "metadata": {
    "papermill": {
     "duration": 0.020551,
     "end_time": "2023-02-10T22:11:34.498361",
     "exception": false,
     "start_time": "2023-02-10T22:11:34.477810",
     "status": "completed"
    },
    "tags": []
   },
   "source": [
    "please"
   ]
  },
  {
   "cell_type": "code",
   "execution_count": 45,
   "id": "c8a70d35",
   "metadata": {
    "execution": {
     "iopub.execute_input": "2023-02-10T22:11:34.541921Z",
     "iopub.status.busy": "2023-02-10T22:11:34.541507Z",
     "iopub.status.idle": "2023-02-10T22:11:34.559818Z",
     "shell.execute_reply": "2023-02-10T22:11:34.558179Z"
    },
    "papermill": {
     "duration": 0.043261,
     "end_time": "2023-02-10T22:11:34.562709",
     "exception": false,
     "start_time": "2023-02-10T22:11:34.519448",
     "status": "completed"
    },
    "tags": []
   },
   "outputs": [
    {
     "name": "stdout",
     "output_type": "stream",
     "text": [
      "10.616104747729675\n"
     ]
    }
   ],
   "source": [
    "missing_values_count = merged_dataset.isnull().sum()\n",
    "# how many total missing values do we have?\n",
    "total_cells = np.product(merged_dataset.shape)\n",
    "total_missing = missing_values_count.sum()\n",
    "\n",
    "# percent of data that is missing\n",
    "percent_missing = (total_missing/total_cells) * 100\n",
    "print(percent_missing)"
   ]
  },
  {
   "cell_type": "code",
   "execution_count": 46,
   "id": "4e0ad3fd",
   "metadata": {
    "execution": {
     "iopub.execute_input": "2023-02-10T22:11:34.609054Z",
     "iopub.status.busy": "2023-02-10T22:11:34.608090Z",
     "iopub.status.idle": "2023-02-10T22:11:34.617052Z",
     "shell.execute_reply": "2023-02-10T22:11:34.615291Z"
    },
    "papermill": {
     "duration": 0.035107,
     "end_time": "2023-02-10T22:11:34.619847",
     "exception": false,
     "start_time": "2023-02-10T22:11:34.584740",
     "status": "completed"
    },
    "tags": []
   },
   "outputs": [
    {
     "data": {
      "text/plain": [
       "123038"
      ]
     },
     "execution_count": 46,
     "metadata": {},
     "output_type": "execute_result"
    }
   ],
   "source": [
    "total_missing"
   ]
  },
  {
   "cell_type": "code",
   "execution_count": 47,
   "id": "1966c5fd",
   "metadata": {
    "execution": {
     "iopub.execute_input": "2023-02-10T22:11:34.665088Z",
     "iopub.status.busy": "2023-02-10T22:11:34.664090Z",
     "iopub.status.idle": "2023-02-10T22:11:34.672064Z",
     "shell.execute_reply": "2023-02-10T22:11:34.670685Z"
    },
    "papermill": {
     "duration": 0.03289,
     "end_time": "2023-02-10T22:11:34.674727",
     "exception": false,
     "start_time": "2023-02-10T22:11:34.641837",
     "status": "completed"
    },
    "tags": []
   },
   "outputs": [
    {
     "data": {
      "text/plain": [
       "1158975"
      ]
     },
     "execution_count": 47,
     "metadata": {},
     "output_type": "execute_result"
    }
   ],
   "source": [
    "total_cells"
   ]
  },
  {
   "cell_type": "code",
   "execution_count": 48,
   "id": "4013e415",
   "metadata": {
    "execution": {
     "iopub.execute_input": "2023-02-10T22:11:34.719305Z",
     "iopub.status.busy": "2023-02-10T22:11:34.718883Z",
     "iopub.status.idle": "2023-02-10T22:11:34.728073Z",
     "shell.execute_reply": "2023-02-10T22:11:34.726667Z"
    },
    "papermill": {
     "duration": 0.034086,
     "end_time": "2023-02-10T22:11:34.730733",
     "exception": false,
     "start_time": "2023-02-10T22:11:34.696647",
     "status": "completed"
    },
    "tags": []
   },
   "outputs": [
    {
     "data": {
      "text/plain": [
       "state               0\n",
       "YEAR                0\n",
       "JAN_x               0\n",
       "FEB_x               0\n",
       "MAR_x               0\n",
       "APR_x               0\n",
       "MAY_x               0\n",
       "JUN_x               0\n",
       "JUL_x               0\n",
       "AUG_x               0\n",
       "SEP_x               0\n",
       "OCT_x               0\n",
       "NOV_x               0\n",
       "DEC_x               0\n",
       "ANNUAL_x            0\n",
       "Jan-Feb_x           0\n",
       "Mar-May_x           0\n",
       "Jun-Sep_x           0\n",
       "Oct-Dec_x           0\n",
       "district_x       5453\n",
       "JAN_y               0\n",
       "FEB_y               0\n",
       "MAR_y               0\n",
       "APR_y               0\n",
       "MAY_y               0\n",
       "JUN_y               0\n",
       "JUL_y               0\n",
       "AUG_y               0\n",
       "SEP_y               0\n",
       "OCT_y               0\n",
       "NOV_y               0\n",
       "DEC_y               0\n",
       "ANNUAL_y            0\n",
       "Jan-Feb_y           0\n",
       "Mar-May_y           0\n",
       "Jun-Sep_y           0\n",
       "Oct-Dec_y           0\n",
       "district_y      23517\n",
       "market          23517\n",
       "commodity       23517\n",
       "variety         23517\n",
       "arrival_date    23517\n",
       "min_price           0\n",
       "max_price           0\n",
       "modal_price         0\n",
       "dtype: int64"
      ]
     },
     "execution_count": 48,
     "metadata": {},
     "output_type": "execute_result"
    }
   ],
   "source": [
    "missing_values_count"
   ]
  },
  {
   "cell_type": "code",
   "execution_count": null,
   "id": "7fac8d60",
   "metadata": {
    "papermill": {
     "duration": 0.020551,
     "end_time": "2023-02-10T22:11:34.772009",
     "exception": false,
     "start_time": "2023-02-10T22:11:34.751458",
     "status": "completed"
    },
    "tags": []
   },
   "outputs": [],
   "source": []
  }
 ],
 "metadata": {
  "kernelspec": {
   "display_name": "Python 3",
   "language": "python",
   "name": "python3"
  },
  "language_info": {
   "codemirror_mode": {
    "name": "ipython",
    "version": 3
   },
   "file_extension": ".py",
   "mimetype": "text/x-python",
   "name": "python",
   "nbconvert_exporter": "python",
   "pygments_lexer": "ipython3",
   "version": "3.7.12"
  },
  "papermill": {
   "default_parameters": {},
   "duration": 15.075953,
   "end_time": "2023-02-10T22:11:35.617899",
   "environment_variables": {},
   "exception": null,
   "input_path": "__notebook__.ipynb",
   "output_path": "__notebook__.ipynb",
   "parameters": {},
   "start_time": "2023-02-10T22:11:20.541946",
   "version": "2.3.4"
  }
 },
 "nbformat": 4,
 "nbformat_minor": 5
}
