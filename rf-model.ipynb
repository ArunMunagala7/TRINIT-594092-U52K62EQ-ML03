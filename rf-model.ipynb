{
 "cells": [
  {
   "cell_type": "code",
   "execution_count": 1,
   "id": "0828f62d",
   "metadata": {
    "_cell_guid": "b1076dfc-b9ad-4769-8c92-a6c4dae69d19",
    "_uuid": "8f2839f25d086af736a60e9eeb907d3b93b6e0e5",
    "execution": {
     "iopub.execute_input": "2023-02-11T10:09:56.553939Z",
     "iopub.status.busy": "2023-02-11T10:09:56.553183Z",
     "iopub.status.idle": "2023-02-11T10:09:56.585054Z",
     "shell.execute_reply": "2023-02-11T10:09:56.584188Z"
    },
    "papermill": {
     "duration": 0.060024,
     "end_time": "2023-02-11T10:09:56.587608",
     "exception": false,
     "start_time": "2023-02-11T10:09:56.527584",
     "status": "completed"
    },
    "scrolled": true,
    "tags": []
   },
   "outputs": [
    {
     "name": "stdout",
     "output_type": "stream",
     "text": [
      "/kaggle/input/crop-recommendation-dataset/Crop_recommendation.csv\n",
      "/kaggle/input/all-agriculture-related-datasets-for-india/csv\n",
      "/kaggle/input/rainfall-in-india/rainfall in india 1901-2015.csv\n",
      "/kaggle/input/rainfall-in-india/district wise rainfall normal.csv\n",
      "/kaggle/input/historicalweatherdataforindiancities/Temperature_And_Precipitation_Cities_IN/Lucknow_1990_2022.csv\n",
      "/kaggle/input/historicalweatherdataforindiancities/Temperature_And_Precipitation_Cities_IN/Delhi_NCR_1990_2022_Safdarjung.csv\n",
      "/kaggle/input/historicalweatherdataforindiancities/Temperature_And_Precipitation_Cities_IN/weather_Rourkela_2021_2022.csv\n",
      "/kaggle/input/historicalweatherdataforindiancities/Temperature_And_Precipitation_Cities_IN/Chennai_1990_2022_Madras.csv\n",
      "/kaggle/input/historicalweatherdataforindiancities/Temperature_And_Precipitation_Cities_IN/Rajasthan_1990_2022_Jodhpur.csv\n",
      "/kaggle/input/historicalweatherdataforindiancities/Temperature_And_Precipitation_Cities_IN/Bangalore_1990_2022_BangaloreCity.csv\n",
      "/kaggle/input/historicalweatherdataforindiancities/Temperature_And_Precipitation_Cities_IN/Station_GeoLocation_Longitute_Latitude_Elevation_EPSG_4326.csv\n",
      "/kaggle/input/historicalweatherdataforindiancities/Temperature_And_Precipitation_Cities_IN/Mumbai_1990_2022_Santacruz.csv\n",
      "/kaggle/input/historicalweatherdataforindiancities/Temperature_And_Precipitation_Cities_IN/weather_Bhubhneshwar_1990_2022.csv\n"
     ]
    }
   ],
   "source": [
    "# This Python 3 environment comes with many helpful analytics libraries installed\n",
    "# It is defined by the kaggle/python Docker image: https://github.com/kaggle/docker-python\n",
    "# For example, here's several helpful packages to load\n",
    "\n",
    "import numpy as np # linear algebra\n",
    "import pandas as pd # data processing, CSV file I/O (e.g. pd.read_csv)\n",
    "\n",
    "# Input data files are available in the read-only \"../input/\" directory\n",
    "# For example, running this (by clicking run or pressing Shift+Enter) will list all files under the input directory\n",
    "\n",
    "import os\n",
    "for dirname, _, filenames in os.walk('/kaggle/input'):\n",
    "    for filename in filenames:\n",
    "        print(os.path.join(dirname, filename))\n",
    "\n",
    "# You can write up to 20GB to the current directory (/kaggle/working/) that gets preserved as output when you create a version using \"Save & Run All\" \n",
    "# You can also write temporary files to /kaggle/temp/, but they won't be saved outside of the current session"
   ]
  },
  {
   "cell_type": "markdown",
   "id": "6c871904",
   "metadata": {
    "papermill": {
     "duration": 0.021033,
     "end_time": "2023-02-11T10:09:56.630334",
     "exception": false,
     "start_time": "2023-02-11T10:09:56.609301",
     "status": "completed"
    },
    "tags": []
   },
   "source": [
    "extracting the rainfall data and viewing the features accordingly"
   ]
  },
  {
   "cell_type": "code",
   "execution_count": 2,
   "id": "22243a33",
   "metadata": {
    "execution": {
     "iopub.execute_input": "2023-02-11T10:09:56.675503Z",
     "iopub.status.busy": "2023-02-11T10:09:56.675074Z",
     "iopub.status.idle": "2023-02-11T10:09:56.721660Z",
     "shell.execute_reply": "2023-02-11T10:09:56.720462Z"
    },
    "papermill": {
     "duration": 0.072047,
     "end_time": "2023-02-11T10:09:56.724399",
     "exception": false,
     "start_time": "2023-02-11T10:09:56.652352",
     "status": "completed"
    },
    "tags": []
   },
   "outputs": [],
   "source": [
    "district_rainfall_data=pd.read_csv('/kaggle/input/rainfall-in-india/district wise rainfall normal.csv')\n",
    "india_rainfall_data=pd.read_csv('/kaggle/input/rainfall-in-india/rainfall in india 1901-2015.csv')"
   ]
  },
  {
   "cell_type": "code",
   "execution_count": 3,
   "id": "b5049efa",
   "metadata": {
    "execution": {
     "iopub.execute_input": "2023-02-11T10:09:56.769676Z",
     "iopub.status.busy": "2023-02-11T10:09:56.768926Z",
     "iopub.status.idle": "2023-02-11T10:09:56.806205Z",
     "shell.execute_reply": "2023-02-11T10:09:56.805031Z"
    },
    "papermill": {
     "duration": 0.0627,
     "end_time": "2023-02-11T10:09:56.808717",
     "exception": false,
     "start_time": "2023-02-11T10:09:56.746017",
     "status": "completed"
    },
    "tags": []
   },
   "outputs": [
    {
     "data": {
      "text/html": [
       "<div>\n",
       "<style scoped>\n",
       "    .dataframe tbody tr th:only-of-type {\n",
       "        vertical-align: middle;\n",
       "    }\n",
       "\n",
       "    .dataframe tbody tr th {\n",
       "        vertical-align: top;\n",
       "    }\n",
       "\n",
       "    .dataframe thead th {\n",
       "        text-align: right;\n",
       "    }\n",
       "</style>\n",
       "<table border=\"1\" class=\"dataframe\">\n",
       "  <thead>\n",
       "    <tr style=\"text-align: right;\">\n",
       "      <th></th>\n",
       "      <th>STATE_UT_NAME</th>\n",
       "      <th>DISTRICT</th>\n",
       "      <th>JAN</th>\n",
       "      <th>FEB</th>\n",
       "      <th>MAR</th>\n",
       "      <th>APR</th>\n",
       "      <th>MAY</th>\n",
       "      <th>JUN</th>\n",
       "      <th>JUL</th>\n",
       "      <th>AUG</th>\n",
       "      <th>SEP</th>\n",
       "      <th>OCT</th>\n",
       "      <th>NOV</th>\n",
       "      <th>DEC</th>\n",
       "      <th>ANNUAL</th>\n",
       "      <th>Jan-Feb</th>\n",
       "      <th>Mar-May</th>\n",
       "      <th>Jun-Sep</th>\n",
       "      <th>Oct-Dec</th>\n",
       "    </tr>\n",
       "  </thead>\n",
       "  <tbody>\n",
       "    <tr>\n",
       "      <th>0</th>\n",
       "      <td>ANDAMAN And NICOBAR ISLANDS</td>\n",
       "      <td>NICOBAR</td>\n",
       "      <td>107.3</td>\n",
       "      <td>57.9</td>\n",
       "      <td>65.2</td>\n",
       "      <td>117.0</td>\n",
       "      <td>358.5</td>\n",
       "      <td>295.5</td>\n",
       "      <td>285.0</td>\n",
       "      <td>271.9</td>\n",
       "      <td>354.8</td>\n",
       "      <td>326.0</td>\n",
       "      <td>315.2</td>\n",
       "      <td>250.9</td>\n",
       "      <td>2805.2</td>\n",
       "      <td>165.2</td>\n",
       "      <td>540.7</td>\n",
       "      <td>1207.2</td>\n",
       "      <td>892.1</td>\n",
       "    </tr>\n",
       "    <tr>\n",
       "      <th>1</th>\n",
       "      <td>ANDAMAN And NICOBAR ISLANDS</td>\n",
       "      <td>SOUTH ANDAMAN</td>\n",
       "      <td>43.7</td>\n",
       "      <td>26.0</td>\n",
       "      <td>18.6</td>\n",
       "      <td>90.5</td>\n",
       "      <td>374.4</td>\n",
       "      <td>457.2</td>\n",
       "      <td>421.3</td>\n",
       "      <td>423.1</td>\n",
       "      <td>455.6</td>\n",
       "      <td>301.2</td>\n",
       "      <td>275.8</td>\n",
       "      <td>128.3</td>\n",
       "      <td>3015.7</td>\n",
       "      <td>69.7</td>\n",
       "      <td>483.5</td>\n",
       "      <td>1757.2</td>\n",
       "      <td>705.3</td>\n",
       "    </tr>\n",
       "    <tr>\n",
       "      <th>2</th>\n",
       "      <td>ANDAMAN And NICOBAR ISLANDS</td>\n",
       "      <td>N &amp; M ANDAMAN</td>\n",
       "      <td>32.7</td>\n",
       "      <td>15.9</td>\n",
       "      <td>8.6</td>\n",
       "      <td>53.4</td>\n",
       "      <td>343.6</td>\n",
       "      <td>503.3</td>\n",
       "      <td>465.4</td>\n",
       "      <td>460.9</td>\n",
       "      <td>454.8</td>\n",
       "      <td>276.1</td>\n",
       "      <td>198.6</td>\n",
       "      <td>100.0</td>\n",
       "      <td>2913.3</td>\n",
       "      <td>48.6</td>\n",
       "      <td>405.6</td>\n",
       "      <td>1884.4</td>\n",
       "      <td>574.7</td>\n",
       "    </tr>\n",
       "    <tr>\n",
       "      <th>3</th>\n",
       "      <td>ARUNACHAL PRADESH</td>\n",
       "      <td>LOHIT</td>\n",
       "      <td>42.2</td>\n",
       "      <td>80.8</td>\n",
       "      <td>176.4</td>\n",
       "      <td>358.5</td>\n",
       "      <td>306.4</td>\n",
       "      <td>447.0</td>\n",
       "      <td>660.1</td>\n",
       "      <td>427.8</td>\n",
       "      <td>313.6</td>\n",
       "      <td>167.1</td>\n",
       "      <td>34.1</td>\n",
       "      <td>29.8</td>\n",
       "      <td>3043.8</td>\n",
       "      <td>123.0</td>\n",
       "      <td>841.3</td>\n",
       "      <td>1848.5</td>\n",
       "      <td>231.0</td>\n",
       "    </tr>\n",
       "    <tr>\n",
       "      <th>4</th>\n",
       "      <td>ARUNACHAL PRADESH</td>\n",
       "      <td>EAST SIANG</td>\n",
       "      <td>33.3</td>\n",
       "      <td>79.5</td>\n",
       "      <td>105.9</td>\n",
       "      <td>216.5</td>\n",
       "      <td>323.0</td>\n",
       "      <td>738.3</td>\n",
       "      <td>990.9</td>\n",
       "      <td>711.2</td>\n",
       "      <td>568.0</td>\n",
       "      <td>206.9</td>\n",
       "      <td>29.5</td>\n",
       "      <td>31.7</td>\n",
       "      <td>4034.7</td>\n",
       "      <td>112.8</td>\n",
       "      <td>645.4</td>\n",
       "      <td>3008.4</td>\n",
       "      <td>268.1</td>\n",
       "    </tr>\n",
       "  </tbody>\n",
       "</table>\n",
       "</div>"
      ],
      "text/plain": [
       "                 STATE_UT_NAME       DISTRICT    JAN   FEB    MAR    APR  \\\n",
       "0  ANDAMAN And NICOBAR ISLANDS        NICOBAR  107.3  57.9   65.2  117.0   \n",
       "1  ANDAMAN And NICOBAR ISLANDS  SOUTH ANDAMAN   43.7  26.0   18.6   90.5   \n",
       "2  ANDAMAN And NICOBAR ISLANDS  N & M ANDAMAN   32.7  15.9    8.6   53.4   \n",
       "3            ARUNACHAL PRADESH          LOHIT   42.2  80.8  176.4  358.5   \n",
       "4            ARUNACHAL PRADESH     EAST SIANG   33.3  79.5  105.9  216.5   \n",
       "\n",
       "     MAY    JUN    JUL    AUG    SEP    OCT    NOV    DEC  ANNUAL  Jan-Feb  \\\n",
       "0  358.5  295.5  285.0  271.9  354.8  326.0  315.2  250.9  2805.2    165.2   \n",
       "1  374.4  457.2  421.3  423.1  455.6  301.2  275.8  128.3  3015.7     69.7   \n",
       "2  343.6  503.3  465.4  460.9  454.8  276.1  198.6  100.0  2913.3     48.6   \n",
       "3  306.4  447.0  660.1  427.8  313.6  167.1   34.1   29.8  3043.8    123.0   \n",
       "4  323.0  738.3  990.9  711.2  568.0  206.9   29.5   31.7  4034.7    112.8   \n",
       "\n",
       "   Mar-May  Jun-Sep  Oct-Dec  \n",
       "0    540.7   1207.2    892.1  \n",
       "1    483.5   1757.2    705.3  \n",
       "2    405.6   1884.4    574.7  \n",
       "3    841.3   1848.5    231.0  \n",
       "4    645.4   3008.4    268.1  "
      ]
     },
     "execution_count": 3,
     "metadata": {},
     "output_type": "execute_result"
    }
   ],
   "source": [
    "district_rainfall_data.head()"
   ]
  },
  {
   "cell_type": "code",
   "execution_count": 4,
   "id": "4705cbec",
   "metadata": {
    "execution": {
     "iopub.execute_input": "2023-02-11T10:09:56.854281Z",
     "iopub.status.busy": "2023-02-11T10:09:56.853846Z",
     "iopub.status.idle": "2023-02-11T10:09:56.880293Z",
     "shell.execute_reply": "2023-02-11T10:09:56.879488Z"
    },
    "papermill": {
     "duration": 0.051673,
     "end_time": "2023-02-11T10:09:56.882338",
     "exception": false,
     "start_time": "2023-02-11T10:09:56.830665",
     "status": "completed"
    },
    "tags": []
   },
   "outputs": [
    {
     "data": {
      "text/html": [
       "<div>\n",
       "<style scoped>\n",
       "    .dataframe tbody tr th:only-of-type {\n",
       "        vertical-align: middle;\n",
       "    }\n",
       "\n",
       "    .dataframe tbody tr th {\n",
       "        vertical-align: top;\n",
       "    }\n",
       "\n",
       "    .dataframe thead th {\n",
       "        text-align: right;\n",
       "    }\n",
       "</style>\n",
       "<table border=\"1\" class=\"dataframe\">\n",
       "  <thead>\n",
       "    <tr style=\"text-align: right;\">\n",
       "      <th></th>\n",
       "      <th>SUBDIVISION</th>\n",
       "      <th>YEAR</th>\n",
       "      <th>JAN</th>\n",
       "      <th>FEB</th>\n",
       "      <th>MAR</th>\n",
       "      <th>APR</th>\n",
       "      <th>MAY</th>\n",
       "      <th>JUN</th>\n",
       "      <th>JUL</th>\n",
       "      <th>AUG</th>\n",
       "      <th>SEP</th>\n",
       "      <th>OCT</th>\n",
       "      <th>NOV</th>\n",
       "      <th>DEC</th>\n",
       "      <th>ANNUAL</th>\n",
       "      <th>Jan-Feb</th>\n",
       "      <th>Mar-May</th>\n",
       "      <th>Jun-Sep</th>\n",
       "      <th>Oct-Dec</th>\n",
       "    </tr>\n",
       "  </thead>\n",
       "  <tbody>\n",
       "    <tr>\n",
       "      <th>0</th>\n",
       "      <td>ANDAMAN &amp; NICOBAR ISLANDS</td>\n",
       "      <td>1901</td>\n",
       "      <td>49.2</td>\n",
       "      <td>87.1</td>\n",
       "      <td>29.2</td>\n",
       "      <td>2.3</td>\n",
       "      <td>528.8</td>\n",
       "      <td>517.5</td>\n",
       "      <td>365.1</td>\n",
       "      <td>481.1</td>\n",
       "      <td>332.6</td>\n",
       "      <td>388.5</td>\n",
       "      <td>558.2</td>\n",
       "      <td>33.6</td>\n",
       "      <td>3373.2</td>\n",
       "      <td>136.3</td>\n",
       "      <td>560.3</td>\n",
       "      <td>1696.3</td>\n",
       "      <td>980.3</td>\n",
       "    </tr>\n",
       "    <tr>\n",
       "      <th>1</th>\n",
       "      <td>ANDAMAN &amp; NICOBAR ISLANDS</td>\n",
       "      <td>1902</td>\n",
       "      <td>0.0</td>\n",
       "      <td>159.8</td>\n",
       "      <td>12.2</td>\n",
       "      <td>0.0</td>\n",
       "      <td>446.1</td>\n",
       "      <td>537.1</td>\n",
       "      <td>228.9</td>\n",
       "      <td>753.7</td>\n",
       "      <td>666.2</td>\n",
       "      <td>197.2</td>\n",
       "      <td>359.0</td>\n",
       "      <td>160.5</td>\n",
       "      <td>3520.7</td>\n",
       "      <td>159.8</td>\n",
       "      <td>458.3</td>\n",
       "      <td>2185.9</td>\n",
       "      <td>716.7</td>\n",
       "    </tr>\n",
       "    <tr>\n",
       "      <th>2</th>\n",
       "      <td>ANDAMAN &amp; NICOBAR ISLANDS</td>\n",
       "      <td>1903</td>\n",
       "      <td>12.7</td>\n",
       "      <td>144.0</td>\n",
       "      <td>0.0</td>\n",
       "      <td>1.0</td>\n",
       "      <td>235.1</td>\n",
       "      <td>479.9</td>\n",
       "      <td>728.4</td>\n",
       "      <td>326.7</td>\n",
       "      <td>339.0</td>\n",
       "      <td>181.2</td>\n",
       "      <td>284.4</td>\n",
       "      <td>225.0</td>\n",
       "      <td>2957.4</td>\n",
       "      <td>156.7</td>\n",
       "      <td>236.1</td>\n",
       "      <td>1874.0</td>\n",
       "      <td>690.6</td>\n",
       "    </tr>\n",
       "    <tr>\n",
       "      <th>3</th>\n",
       "      <td>ANDAMAN &amp; NICOBAR ISLANDS</td>\n",
       "      <td>1904</td>\n",
       "      <td>9.4</td>\n",
       "      <td>14.7</td>\n",
       "      <td>0.0</td>\n",
       "      <td>202.4</td>\n",
       "      <td>304.5</td>\n",
       "      <td>495.1</td>\n",
       "      <td>502.0</td>\n",
       "      <td>160.1</td>\n",
       "      <td>820.4</td>\n",
       "      <td>222.2</td>\n",
       "      <td>308.7</td>\n",
       "      <td>40.1</td>\n",
       "      <td>3079.6</td>\n",
       "      <td>24.1</td>\n",
       "      <td>506.9</td>\n",
       "      <td>1977.6</td>\n",
       "      <td>571.0</td>\n",
       "    </tr>\n",
       "    <tr>\n",
       "      <th>4</th>\n",
       "      <td>ANDAMAN &amp; NICOBAR ISLANDS</td>\n",
       "      <td>1905</td>\n",
       "      <td>1.3</td>\n",
       "      <td>0.0</td>\n",
       "      <td>3.3</td>\n",
       "      <td>26.9</td>\n",
       "      <td>279.5</td>\n",
       "      <td>628.7</td>\n",
       "      <td>368.7</td>\n",
       "      <td>330.5</td>\n",
       "      <td>297.0</td>\n",
       "      <td>260.7</td>\n",
       "      <td>25.4</td>\n",
       "      <td>344.7</td>\n",
       "      <td>2566.7</td>\n",
       "      <td>1.3</td>\n",
       "      <td>309.7</td>\n",
       "      <td>1624.9</td>\n",
       "      <td>630.8</td>\n",
       "    </tr>\n",
       "  </tbody>\n",
       "</table>\n",
       "</div>"
      ],
      "text/plain": [
       "                 SUBDIVISION  YEAR   JAN    FEB   MAR    APR    MAY    JUN  \\\n",
       "0  ANDAMAN & NICOBAR ISLANDS  1901  49.2   87.1  29.2    2.3  528.8  517.5   \n",
       "1  ANDAMAN & NICOBAR ISLANDS  1902   0.0  159.8  12.2    0.0  446.1  537.1   \n",
       "2  ANDAMAN & NICOBAR ISLANDS  1903  12.7  144.0   0.0    1.0  235.1  479.9   \n",
       "3  ANDAMAN & NICOBAR ISLANDS  1904   9.4   14.7   0.0  202.4  304.5  495.1   \n",
       "4  ANDAMAN & NICOBAR ISLANDS  1905   1.3    0.0   3.3   26.9  279.5  628.7   \n",
       "\n",
       "     JUL    AUG    SEP    OCT    NOV    DEC  ANNUAL  Jan-Feb  Mar-May  \\\n",
       "0  365.1  481.1  332.6  388.5  558.2   33.6  3373.2    136.3    560.3   \n",
       "1  228.9  753.7  666.2  197.2  359.0  160.5  3520.7    159.8    458.3   \n",
       "2  728.4  326.7  339.0  181.2  284.4  225.0  2957.4    156.7    236.1   \n",
       "3  502.0  160.1  820.4  222.2  308.7   40.1  3079.6     24.1    506.9   \n",
       "4  368.7  330.5  297.0  260.7   25.4  344.7  2566.7      1.3    309.7   \n",
       "\n",
       "   Jun-Sep  Oct-Dec  \n",
       "0   1696.3    980.3  \n",
       "1   2185.9    716.7  \n",
       "2   1874.0    690.6  \n",
       "3   1977.6    571.0  \n",
       "4   1624.9    630.8  "
      ]
     },
     "execution_count": 4,
     "metadata": {},
     "output_type": "execute_result"
    }
   ],
   "source": [
    "india_rainfall_data.head()"
   ]
  },
  {
   "cell_type": "markdown",
   "id": "7c0b8023",
   "metadata": {
    "papermill": {
     "duration": 0.021636,
     "end_time": "2023-02-11T10:09:56.926234",
     "exception": false,
     "start_time": "2023-02-11T10:09:56.904598",
     "status": "completed"
    },
    "tags": []
   },
   "source": [
    "printing all the unique values in the rainfall dataset"
   ]
  },
  {
   "cell_type": "code",
   "execution_count": 5,
   "id": "be9c1a9a",
   "metadata": {
    "execution": {
     "iopub.execute_input": "2023-02-11T10:09:56.972506Z",
     "iopub.status.busy": "2023-02-11T10:09:56.971397Z",
     "iopub.status.idle": "2023-02-11T10:09:56.990707Z",
     "shell.execute_reply": "2023-02-11T10:09:56.989366Z"
    },
    "papermill": {
     "duration": 0.04491,
     "end_time": "2023-02-11T10:09:56.993056",
     "exception": false,
     "start_time": "2023-02-11T10:09:56.948146",
     "status": "completed"
    },
    "tags": []
   },
   "outputs": [
    {
     "name": "stdout",
     "output_type": "stream",
     "text": [
      "['ANDAMAN & NICOBAR ISLANDS' 'ARUNACHAL PRADESH' 'ASSAM & MEGHALAYA'\n",
      " 'NAGA MANI MIZO TRIPURA' 'SUB HIMALAYAN WEST BENGAL & SIKKIM'\n",
      " 'GANGETIC WEST BENGAL' 'ORISSA' 'JHARKHAND' 'BIHAR' 'EAST UTTAR PRADESH'\n",
      " 'WEST UTTAR PRADESH' 'UTTARAKHAND' 'HARYANA DELHI & CHANDIGARH' 'PUNJAB'\n",
      " 'HIMACHAL PRADESH' 'JAMMU & KASHMIR' 'WEST RAJASTHAN' 'EAST RAJASTHAN'\n",
      " 'WEST MADHYA PRADESH' 'EAST MADHYA PRADESH' 'GUJARAT REGION'\n",
      " 'SAURASHTRA & KUTCH' 'KONKAN & GOA' 'MADHYA MAHARASHTRA' 'MATATHWADA'\n",
      " 'VIDARBHA' 'CHHATTISGARH' 'COASTAL ANDHRA PRADESH' 'TELANGANA'\n",
      " 'RAYALSEEMA' 'TAMIL NADU' 'COASTAL KARNATAKA' 'NORTH INTERIOR KARNATAKA'\n",
      " 'SOUTH INTERIOR KARNATAKA' 'KERALA' 'LAKSHADWEEP']\n"
     ]
    }
   ],
   "source": [
    "unique_values=india_rainfall_data['SUBDIVISION'].unique()\n",
    "print(unique_values)"
   ]
  },
  {
   "cell_type": "markdown",
   "id": "7d5bfea2",
   "metadata": {
    "papermill": {
     "duration": 0.021775,
     "end_time": "2023-02-11T10:09:57.037703",
     "exception": false,
     "start_time": "2023-02-11T10:09:57.015928",
     "status": "completed"
    },
    "tags": []
   },
   "source": [
    "checking for null values"
   ]
  },
  {
   "cell_type": "code",
   "execution_count": 6,
   "id": "069cd8a7",
   "metadata": {
    "execution": {
     "iopub.execute_input": "2023-02-11T10:09:57.083466Z",
     "iopub.status.busy": "2023-02-11T10:09:57.083049Z",
     "iopub.status.idle": "2023-02-11T10:09:57.089442Z",
     "shell.execute_reply": "2023-02-11T10:09:57.088433Z"
    },
    "papermill": {
     "duration": 0.031885,
     "end_time": "2023-02-11T10:09:57.091695",
     "exception": false,
     "start_time": "2023-02-11T10:09:57.059810",
     "status": "completed"
    },
    "tags": []
   },
   "outputs": [
    {
     "data": {
      "text/plain": [
       "(4116, 19)"
      ]
     },
     "execution_count": 6,
     "metadata": {},
     "output_type": "execute_result"
    }
   ],
   "source": [
    "india_rainfall_data.shape"
   ]
  },
  {
   "cell_type": "markdown",
   "id": "fcc7cf09",
   "metadata": {
    "papermill": {
     "duration": 0.022227,
     "end_time": "2023-02-11T10:09:57.136077",
     "exception": false,
     "start_time": "2023-02-11T10:09:57.113850",
     "status": "completed"
    },
    "tags": []
   },
   "source": [
    "checking total null values"
   ]
  },
  {
   "cell_type": "code",
   "execution_count": 7,
   "id": "36ac2382",
   "metadata": {
    "execution": {
     "iopub.execute_input": "2023-02-11T10:09:57.183642Z",
     "iopub.status.busy": "2023-02-11T10:09:57.182836Z",
     "iopub.status.idle": "2023-02-11T10:09:57.192130Z",
     "shell.execute_reply": "2023-02-11T10:09:57.191169Z"
    },
    "papermill": {
     "duration": 0.035449,
     "end_time": "2023-02-11T10:09:57.194430",
     "exception": false,
     "start_time": "2023-02-11T10:09:57.158981",
     "status": "completed"
    },
    "tags": []
   },
   "outputs": [
    {
     "data": {
      "text/plain": [
       "134"
      ]
     },
     "execution_count": 7,
     "metadata": {},
     "output_type": "execute_result"
    }
   ],
   "source": [
    "india_rainfall_data.isnull().sum().sum()"
   ]
  },
  {
   "cell_type": "markdown",
   "id": "2981cfc1",
   "metadata": {
    "papermill": {
     "duration": 0.022366,
     "end_time": "2023-02-11T10:09:57.239532",
     "exception": false,
     "start_time": "2023-02-11T10:09:57.217166",
     "status": "completed"
    },
    "tags": []
   },
   "source": [
    "checking the columns that have said null values"
   ]
  },
  {
   "cell_type": "code",
   "execution_count": 8,
   "id": "ad459919",
   "metadata": {
    "execution": {
     "iopub.execute_input": "2023-02-11T10:09:57.296249Z",
     "iopub.status.busy": "2023-02-11T10:09:57.294893Z",
     "iopub.status.idle": "2023-02-11T10:09:57.304964Z",
     "shell.execute_reply": "2023-02-11T10:09:57.304140Z"
    },
    "papermill": {
     "duration": 0.041426,
     "end_time": "2023-02-11T10:09:57.307082",
     "exception": false,
     "start_time": "2023-02-11T10:09:57.265656",
     "status": "completed"
    },
    "tags": []
   },
   "outputs": [
    {
     "data": {
      "text/plain": [
       "SUBDIVISION     0\n",
       "YEAR            0\n",
       "JAN             4\n",
       "FEB             3\n",
       "MAR             6\n",
       "APR             4\n",
       "MAY             3\n",
       "JUN             5\n",
       "JUL             7\n",
       "AUG             4\n",
       "SEP             6\n",
       "OCT             7\n",
       "NOV            11\n",
       "DEC            10\n",
       "ANNUAL         26\n",
       "Jan-Feb         6\n",
       "Mar-May         9\n",
       "Jun-Sep        10\n",
       "Oct-Dec        13\n",
       "dtype: int64"
      ]
     },
     "execution_count": 8,
     "metadata": {},
     "output_type": "execute_result"
    }
   ],
   "source": [
    "missing_values_count=india_rainfall_data.isnull().sum()\n",
    "missing_values_count"
   ]
  },
  {
   "cell_type": "markdown",
   "id": "25a45a61",
   "metadata": {
    "papermill": {
     "duration": 0.022447,
     "end_time": "2023-02-11T10:09:57.356307",
     "exception": false,
     "start_time": "2023-02-11T10:09:57.333860",
     "status": "completed"
    },
    "tags": []
   },
   "source": [
    "check percentage of null values"
   ]
  },
  {
   "cell_type": "code",
   "execution_count": 9,
   "id": "8de376d5",
   "metadata": {
    "execution": {
     "iopub.execute_input": "2023-02-11T10:09:57.403862Z",
     "iopub.status.busy": "2023-02-11T10:09:57.403112Z",
     "iopub.status.idle": "2023-02-11T10:09:57.409692Z",
     "shell.execute_reply": "2023-02-11T10:09:57.408357Z"
    },
    "papermill": {
     "duration": 0.033134,
     "end_time": "2023-02-11T10:09:57.412182",
     "exception": false,
     "start_time": "2023-02-11T10:09:57.379048",
     "status": "completed"
    },
    "tags": []
   },
   "outputs": [
    {
     "name": "stdout",
     "output_type": "stream",
     "text": [
      "0.17134673418239477\n"
     ]
    }
   ],
   "source": [
    "total_cells = np.product(india_rainfall_data.shape)\n",
    "total_missing = missing_values_count.sum()\n",
    "\n",
    "# percent of data that is missing\n",
    "percent_missing = (total_missing/total_cells) * 100\n",
    "print(percent_missing)"
   ]
  },
  {
   "cell_type": "markdown",
   "id": "229589b1",
   "metadata": {
    "papermill": {
     "duration": 0.02226,
     "end_time": "2023-02-11T10:09:57.457076",
     "exception": false,
     "start_time": "2023-02-11T10:09:57.434816",
     "status": "completed"
    },
    "tags": []
   },
   "source": [
    "removing all the na values"
   ]
  },
  {
   "cell_type": "code",
   "execution_count": 10,
   "id": "147fc672",
   "metadata": {
    "execution": {
     "iopub.execute_input": "2023-02-11T10:09:57.504007Z",
     "iopub.status.busy": "2023-02-11T10:09:57.503566Z",
     "iopub.status.idle": "2023-02-11T10:09:57.520360Z",
     "shell.execute_reply": "2023-02-11T10:09:57.519477Z"
    },
    "papermill": {
     "duration": 0.042974,
     "end_time": "2023-02-11T10:09:57.522573",
     "exception": false,
     "start_time": "2023-02-11T10:09:57.479599",
     "status": "completed"
    },
    "tags": []
   },
   "outputs": [
    {
     "data": {
      "text/plain": [
       "0"
      ]
     },
     "execution_count": 10,
     "metadata": {},
     "output_type": "execute_result"
    }
   ],
   "source": [
    "rainfall_india_clean=india_rainfall_data.dropna()\n",
    "rainfall_india_clean.isnull().sum().sum()"
   ]
  },
  {
   "cell_type": "markdown",
   "id": "d1965263",
   "metadata": {
    "papermill": {
     "duration": 0.022337,
     "end_time": "2023-02-11T10:09:57.567730",
     "exception": false,
     "start_time": "2023-02-11T10:09:57.545393",
     "status": "completed"
    },
    "tags": []
   },
   "source": [
    "checking Nan values"
   ]
  },
  {
   "cell_type": "code",
   "execution_count": 11,
   "id": "595486d0",
   "metadata": {
    "execution": {
     "iopub.execute_input": "2023-02-11T10:09:57.615209Z",
     "iopub.status.busy": "2023-02-11T10:09:57.614507Z",
     "iopub.status.idle": "2023-02-11T10:09:57.623241Z",
     "shell.execute_reply": "2023-02-11T10:09:57.622084Z"
    },
    "papermill": {
     "duration": 0.034915,
     "end_time": "2023-02-11T10:09:57.625460",
     "exception": false,
     "start_time": "2023-02-11T10:09:57.590545",
     "status": "completed"
    },
    "tags": []
   },
   "outputs": [
    {
     "data": {
      "text/plain": [
       "0"
      ]
     },
     "execution_count": 11,
     "metadata": {},
     "output_type": "execute_result"
    }
   ],
   "source": [
    "rainfall_india_clean.isna().sum().sum()"
   ]
  },
  {
   "cell_type": "markdown",
   "id": "2c26d81d",
   "metadata": {
    "papermill": {
     "duration": 0.022534,
     "end_time": "2023-02-11T10:09:57.670937",
     "exception": false,
     "start_time": "2023-02-11T10:09:57.648403",
     "status": "completed"
    },
    "tags": []
   },
   "source": [
    "viewing the final rainfall clean dataset"
   ]
  },
  {
   "cell_type": "code",
   "execution_count": 12,
   "id": "352ed8bc",
   "metadata": {
    "execution": {
     "iopub.execute_input": "2023-02-11T10:09:57.719302Z",
     "iopub.status.busy": "2023-02-11T10:09:57.718771Z",
     "iopub.status.idle": "2023-02-11T10:09:57.744508Z",
     "shell.execute_reply": "2023-02-11T10:09:57.743689Z"
    },
    "papermill": {
     "duration": 0.052546,
     "end_time": "2023-02-11T10:09:57.746631",
     "exception": false,
     "start_time": "2023-02-11T10:09:57.694085",
     "status": "completed"
    },
    "tags": []
   },
   "outputs": [
    {
     "data": {
      "text/html": [
       "<div>\n",
       "<style scoped>\n",
       "    .dataframe tbody tr th:only-of-type {\n",
       "        vertical-align: middle;\n",
       "    }\n",
       "\n",
       "    .dataframe tbody tr th {\n",
       "        vertical-align: top;\n",
       "    }\n",
       "\n",
       "    .dataframe thead th {\n",
       "        text-align: right;\n",
       "    }\n",
       "</style>\n",
       "<table border=\"1\" class=\"dataframe\">\n",
       "  <thead>\n",
       "    <tr style=\"text-align: right;\">\n",
       "      <th></th>\n",
       "      <th>SUBDIVISION</th>\n",
       "      <th>YEAR</th>\n",
       "      <th>JAN</th>\n",
       "      <th>FEB</th>\n",
       "      <th>MAR</th>\n",
       "      <th>APR</th>\n",
       "      <th>MAY</th>\n",
       "      <th>JUN</th>\n",
       "      <th>JUL</th>\n",
       "      <th>AUG</th>\n",
       "      <th>SEP</th>\n",
       "      <th>OCT</th>\n",
       "      <th>NOV</th>\n",
       "      <th>DEC</th>\n",
       "      <th>ANNUAL</th>\n",
       "      <th>Jan-Feb</th>\n",
       "      <th>Mar-May</th>\n",
       "      <th>Jun-Sep</th>\n",
       "      <th>Oct-Dec</th>\n",
       "    </tr>\n",
       "  </thead>\n",
       "  <tbody>\n",
       "    <tr>\n",
       "      <th>0</th>\n",
       "      <td>ANDAMAN &amp; NICOBAR ISLANDS</td>\n",
       "      <td>1901</td>\n",
       "      <td>49.2</td>\n",
       "      <td>87.1</td>\n",
       "      <td>29.2</td>\n",
       "      <td>2.3</td>\n",
       "      <td>528.8</td>\n",
       "      <td>517.5</td>\n",
       "      <td>365.1</td>\n",
       "      <td>481.1</td>\n",
       "      <td>332.6</td>\n",
       "      <td>388.5</td>\n",
       "      <td>558.2</td>\n",
       "      <td>33.6</td>\n",
       "      <td>3373.2</td>\n",
       "      <td>136.3</td>\n",
       "      <td>560.3</td>\n",
       "      <td>1696.3</td>\n",
       "      <td>980.3</td>\n",
       "    </tr>\n",
       "    <tr>\n",
       "      <th>1</th>\n",
       "      <td>ANDAMAN &amp; NICOBAR ISLANDS</td>\n",
       "      <td>1902</td>\n",
       "      <td>0.0</td>\n",
       "      <td>159.8</td>\n",
       "      <td>12.2</td>\n",
       "      <td>0.0</td>\n",
       "      <td>446.1</td>\n",
       "      <td>537.1</td>\n",
       "      <td>228.9</td>\n",
       "      <td>753.7</td>\n",
       "      <td>666.2</td>\n",
       "      <td>197.2</td>\n",
       "      <td>359.0</td>\n",
       "      <td>160.5</td>\n",
       "      <td>3520.7</td>\n",
       "      <td>159.8</td>\n",
       "      <td>458.3</td>\n",
       "      <td>2185.9</td>\n",
       "      <td>716.7</td>\n",
       "    </tr>\n",
       "    <tr>\n",
       "      <th>2</th>\n",
       "      <td>ANDAMAN &amp; NICOBAR ISLANDS</td>\n",
       "      <td>1903</td>\n",
       "      <td>12.7</td>\n",
       "      <td>144.0</td>\n",
       "      <td>0.0</td>\n",
       "      <td>1.0</td>\n",
       "      <td>235.1</td>\n",
       "      <td>479.9</td>\n",
       "      <td>728.4</td>\n",
       "      <td>326.7</td>\n",
       "      <td>339.0</td>\n",
       "      <td>181.2</td>\n",
       "      <td>284.4</td>\n",
       "      <td>225.0</td>\n",
       "      <td>2957.4</td>\n",
       "      <td>156.7</td>\n",
       "      <td>236.1</td>\n",
       "      <td>1874.0</td>\n",
       "      <td>690.6</td>\n",
       "    </tr>\n",
       "    <tr>\n",
       "      <th>3</th>\n",
       "      <td>ANDAMAN &amp; NICOBAR ISLANDS</td>\n",
       "      <td>1904</td>\n",
       "      <td>9.4</td>\n",
       "      <td>14.7</td>\n",
       "      <td>0.0</td>\n",
       "      <td>202.4</td>\n",
       "      <td>304.5</td>\n",
       "      <td>495.1</td>\n",
       "      <td>502.0</td>\n",
       "      <td>160.1</td>\n",
       "      <td>820.4</td>\n",
       "      <td>222.2</td>\n",
       "      <td>308.7</td>\n",
       "      <td>40.1</td>\n",
       "      <td>3079.6</td>\n",
       "      <td>24.1</td>\n",
       "      <td>506.9</td>\n",
       "      <td>1977.6</td>\n",
       "      <td>571.0</td>\n",
       "    </tr>\n",
       "    <tr>\n",
       "      <th>4</th>\n",
       "      <td>ANDAMAN &amp; NICOBAR ISLANDS</td>\n",
       "      <td>1905</td>\n",
       "      <td>1.3</td>\n",
       "      <td>0.0</td>\n",
       "      <td>3.3</td>\n",
       "      <td>26.9</td>\n",
       "      <td>279.5</td>\n",
       "      <td>628.7</td>\n",
       "      <td>368.7</td>\n",
       "      <td>330.5</td>\n",
       "      <td>297.0</td>\n",
       "      <td>260.7</td>\n",
       "      <td>25.4</td>\n",
       "      <td>344.7</td>\n",
       "      <td>2566.7</td>\n",
       "      <td>1.3</td>\n",
       "      <td>309.7</td>\n",
       "      <td>1624.9</td>\n",
       "      <td>630.8</td>\n",
       "    </tr>\n",
       "  </tbody>\n",
       "</table>\n",
       "</div>"
      ],
      "text/plain": [
       "                 SUBDIVISION  YEAR   JAN    FEB   MAR    APR    MAY    JUN  \\\n",
       "0  ANDAMAN & NICOBAR ISLANDS  1901  49.2   87.1  29.2    2.3  528.8  517.5   \n",
       "1  ANDAMAN & NICOBAR ISLANDS  1902   0.0  159.8  12.2    0.0  446.1  537.1   \n",
       "2  ANDAMAN & NICOBAR ISLANDS  1903  12.7  144.0   0.0    1.0  235.1  479.9   \n",
       "3  ANDAMAN & NICOBAR ISLANDS  1904   9.4   14.7   0.0  202.4  304.5  495.1   \n",
       "4  ANDAMAN & NICOBAR ISLANDS  1905   1.3    0.0   3.3   26.9  279.5  628.7   \n",
       "\n",
       "     JUL    AUG    SEP    OCT    NOV    DEC  ANNUAL  Jan-Feb  Mar-May  \\\n",
       "0  365.1  481.1  332.6  388.5  558.2   33.6  3373.2    136.3    560.3   \n",
       "1  228.9  753.7  666.2  197.2  359.0  160.5  3520.7    159.8    458.3   \n",
       "2  728.4  326.7  339.0  181.2  284.4  225.0  2957.4    156.7    236.1   \n",
       "3  502.0  160.1  820.4  222.2  308.7   40.1  3079.6     24.1    506.9   \n",
       "4  368.7  330.5  297.0  260.7   25.4  344.7  2566.7      1.3    309.7   \n",
       "\n",
       "   Jun-Sep  Oct-Dec  \n",
       "0   1696.3    980.3  \n",
       "1   2185.9    716.7  \n",
       "2   1874.0    690.6  \n",
       "3   1977.6    571.0  \n",
       "4   1624.9    630.8  "
      ]
     },
     "execution_count": 12,
     "metadata": {},
     "output_type": "execute_result"
    }
   ],
   "source": [
    "rainfall_india_clean.head()"
   ]
  },
  {
   "cell_type": "markdown",
   "id": "1e76ef27",
   "metadata": {
    "papermill": {
     "duration": 0.023452,
     "end_time": "2023-02-11T10:09:57.793137",
     "exception": false,
     "start_time": "2023-02-11T10:09:57.769685",
     "status": "completed"
    },
    "tags": []
   },
   "source": [
    "checking for null values in the district rainfall dataset"
   ]
  },
  {
   "cell_type": "code",
   "execution_count": 13,
   "id": "1e9a9954",
   "metadata": {
    "execution": {
     "iopub.execute_input": "2023-02-11T10:09:57.841607Z",
     "iopub.status.busy": "2023-02-11T10:09:57.840841Z",
     "iopub.status.idle": "2023-02-11T10:09:57.848934Z",
     "shell.execute_reply": "2023-02-11T10:09:57.847702Z"
    },
    "papermill": {
     "duration": 0.035186,
     "end_time": "2023-02-11T10:09:57.851452",
     "exception": false,
     "start_time": "2023-02-11T10:09:57.816266",
     "status": "completed"
    },
    "tags": []
   },
   "outputs": [
    {
     "data": {
      "text/plain": [
       "0"
      ]
     },
     "execution_count": 13,
     "metadata": {},
     "output_type": "execute_result"
    }
   ],
   "source": [
    "district_rainfall_data.isnull().sum().sum()"
   ]
  },
  {
   "cell_type": "markdown",
   "id": "8cd6227a",
   "metadata": {
    "papermill": {
     "duration": 0.023368,
     "end_time": "2023-02-11T10:09:57.898195",
     "exception": false,
     "start_time": "2023-02-11T10:09:57.874827",
     "status": "completed"
    },
    "tags": []
   },
   "source": [
    "checking NaN values in"
   ]
  },
  {
   "cell_type": "code",
   "execution_count": 14,
   "id": "45d04edc",
   "metadata": {
    "execution": {
     "iopub.execute_input": "2023-02-11T10:09:57.946432Z",
     "iopub.status.busy": "2023-02-11T10:09:57.946023Z",
     "iopub.status.idle": "2023-02-11T10:09:57.955167Z",
     "shell.execute_reply": "2023-02-11T10:09:57.954013Z"
    },
    "papermill": {
     "duration": 0.036053,
     "end_time": "2023-02-11T10:09:57.957493",
     "exception": false,
     "start_time": "2023-02-11T10:09:57.921440",
     "status": "completed"
    },
    "tags": []
   },
   "outputs": [
    {
     "data": {
      "text/plain": [
       "0"
      ]
     },
     "execution_count": 14,
     "metadata": {},
     "output_type": "execute_result"
    }
   ],
   "source": [
    "district_rainfall_data.isna().sum().sum()"
   ]
  },
  {
   "cell_type": "markdown",
   "id": "b6ffe74f",
   "metadata": {
    "papermill": {
     "duration": 0.022879,
     "end_time": "2023-02-11T10:09:58.003703",
     "exception": false,
     "start_time": "2023-02-11T10:09:57.980824",
     "status": "completed"
    },
    "tags": []
   },
   "source": [
    "importing the crop recommendation data"
   ]
  },
  {
   "cell_type": "code",
   "execution_count": 15,
   "id": "7aeda12d",
   "metadata": {
    "execution": {
     "iopub.execute_input": "2023-02-11T10:09:58.051855Z",
     "iopub.status.busy": "2023-02-11T10:09:58.051435Z",
     "iopub.status.idle": "2023-02-11T10:09:58.072279Z",
     "shell.execute_reply": "2023-02-11T10:09:58.071184Z"
    },
    "papermill": {
     "duration": 0.04773,
     "end_time": "2023-02-11T10:09:58.074601",
     "exception": false,
     "start_time": "2023-02-11T10:09:58.026871",
     "status": "completed"
    },
    "tags": []
   },
   "outputs": [
    {
     "data": {
      "text/plain": [
       "0"
      ]
     },
     "execution_count": 15,
     "metadata": {},
     "output_type": "execute_result"
    }
   ],
   "source": [
    "recommendation_data=pd.read_csv('/kaggle/input/crop-recommendation-dataset/Crop_recommendation.csv')\n",
    "recommendation_data.isnull().sum().sum()"
   ]
  },
  {
   "cell_type": "markdown",
   "id": "5d280246",
   "metadata": {
    "papermill": {
     "duration": 0.022921,
     "end_time": "2023-02-11T10:09:58.120919",
     "exception": false,
     "start_time": "2023-02-11T10:09:58.097998",
     "status": "completed"
    },
    "tags": []
   },
   "source": [
    "checking for null values"
   ]
  },
  {
   "cell_type": "code",
   "execution_count": 16,
   "id": "2373abb6",
   "metadata": {
    "execution": {
     "iopub.execute_input": "2023-02-11T10:09:58.169544Z",
     "iopub.status.busy": "2023-02-11T10:09:58.168627Z",
     "iopub.status.idle": "2023-02-11T10:09:58.176430Z",
     "shell.execute_reply": "2023-02-11T10:09:58.175461Z"
    },
    "papermill": {
     "duration": 0.034231,
     "end_time": "2023-02-11T10:09:58.178443",
     "exception": false,
     "start_time": "2023-02-11T10:09:58.144212",
     "status": "completed"
    },
    "tags": []
   },
   "outputs": [
    {
     "data": {
      "text/plain": [
       "0"
      ]
     },
     "execution_count": 16,
     "metadata": {},
     "output_type": "execute_result"
    }
   ],
   "source": [
    "recommendation_data.isna().sum().sum()"
   ]
  },
  {
   "cell_type": "code",
   "execution_count": 17,
   "id": "ac9288bd",
   "metadata": {
    "execution": {
     "iopub.execute_input": "2023-02-11T10:09:58.227422Z",
     "iopub.status.busy": "2023-02-11T10:09:58.226719Z",
     "iopub.status.idle": "2023-02-11T10:09:58.258323Z",
     "shell.execute_reply": "2023-02-11T10:09:58.257463Z"
    },
    "papermill": {
     "duration": 0.058883,
     "end_time": "2023-02-11T10:09:58.260719",
     "exception": false,
     "start_time": "2023-02-11T10:09:58.201836",
     "status": "completed"
    },
    "tags": []
   },
   "outputs": [
    {
     "data": {
      "text/html": [
       "<div>\n",
       "<style scoped>\n",
       "    .dataframe tbody tr th:only-of-type {\n",
       "        vertical-align: middle;\n",
       "    }\n",
       "\n",
       "    .dataframe tbody tr th {\n",
       "        vertical-align: top;\n",
       "    }\n",
       "\n",
       "    .dataframe thead th {\n",
       "        text-align: right;\n",
       "    }\n",
       "</style>\n",
       "<table border=\"1\" class=\"dataframe\">\n",
       "  <thead>\n",
       "    <tr style=\"text-align: right;\">\n",
       "      <th></th>\n",
       "      <th>state</th>\n",
       "      <th>district</th>\n",
       "      <th>market</th>\n",
       "      <th>commodity</th>\n",
       "      <th>variety</th>\n",
       "      <th>arrival_date</th>\n",
       "      <th>min_price</th>\n",
       "      <th>max_price</th>\n",
       "      <th>modal_price</th>\n",
       "    </tr>\n",
       "  </thead>\n",
       "  <tbody>\n",
       "    <tr>\n",
       "      <th>0</th>\n",
       "      <td>Andaman and Nicobar</td>\n",
       "      <td>South Andaman</td>\n",
       "      <td>Port Blair</td>\n",
       "      <td>Amaranthus</td>\n",
       "      <td>Amaranthus</td>\n",
       "      <td>04/03/2019</td>\n",
       "      <td>6000</td>\n",
       "      <td>8000</td>\n",
       "      <td>7000</td>\n",
       "    </tr>\n",
       "    <tr>\n",
       "      <th>1</th>\n",
       "      <td>Andaman and Nicobar</td>\n",
       "      <td>South Andaman</td>\n",
       "      <td>Port Blair</td>\n",
       "      <td>Banana - Green</td>\n",
       "      <td>Banana - Green</td>\n",
       "      <td>04/03/2019</td>\n",
       "      <td>4500</td>\n",
       "      <td>5500</td>\n",
       "      <td>5000</td>\n",
       "    </tr>\n",
       "    <tr>\n",
       "      <th>2</th>\n",
       "      <td>Andaman and Nicobar</td>\n",
       "      <td>South Andaman</td>\n",
       "      <td>Port Blair</td>\n",
       "      <td>Bhindi(Ladies Finger)</td>\n",
       "      <td>Bhindi</td>\n",
       "      <td>04/03/2019</td>\n",
       "      <td>6000</td>\n",
       "      <td>8000</td>\n",
       "      <td>7000</td>\n",
       "    </tr>\n",
       "    <tr>\n",
       "      <th>3</th>\n",
       "      <td>Andaman and Nicobar</td>\n",
       "      <td>South Andaman</td>\n",
       "      <td>Port Blair</td>\n",
       "      <td>Bitter gourd</td>\n",
       "      <td>Other</td>\n",
       "      <td>04/03/2019</td>\n",
       "      <td>6000</td>\n",
       "      <td>8000</td>\n",
       "      <td>7000</td>\n",
       "    </tr>\n",
       "    <tr>\n",
       "      <th>4</th>\n",
       "      <td>Andaman and Nicobar</td>\n",
       "      <td>South Andaman</td>\n",
       "      <td>Port Blair</td>\n",
       "      <td>Black pepper</td>\n",
       "      <td>Other</td>\n",
       "      <td>04/03/2019</td>\n",
       "      <td>110000</td>\n",
       "      <td>130000</td>\n",
       "      <td>120000</td>\n",
       "    </tr>\n",
       "  </tbody>\n",
       "</table>\n",
       "</div>"
      ],
      "text/plain": [
       "                 state       district      market              commodity  \\\n",
       "0  Andaman and Nicobar  South Andaman  Port Blair             Amaranthus   \n",
       "1  Andaman and Nicobar  South Andaman  Port Blair         Banana - Green   \n",
       "2  Andaman and Nicobar  South Andaman  Port Blair  Bhindi(Ladies Finger)   \n",
       "3  Andaman and Nicobar  South Andaman  Port Blair           Bitter gourd   \n",
       "4  Andaman and Nicobar  South Andaman  Port Blair           Black pepper   \n",
       "\n",
       "          variety arrival_date  min_price  max_price  modal_price  \n",
       "0      Amaranthus   04/03/2019       6000       8000         7000  \n",
       "1  Banana - Green   04/03/2019       4500       5500         5000  \n",
       "2          Bhindi   04/03/2019       6000       8000         7000  \n",
       "3           Other   04/03/2019       6000       8000         7000  \n",
       "4           Other   04/03/2019     110000     130000       120000  "
      ]
     },
     "execution_count": 17,
     "metadata": {},
     "output_type": "execute_result"
    }
   ],
   "source": [
    "agriculture_related_data=pd.read_csv('/kaggle/input/all-agriculture-related-datasets-for-india/csv')\n",
    "agriculture_related_data.head()"
   ]
  },
  {
   "cell_type": "code",
   "execution_count": 18,
   "id": "bb23a665",
   "metadata": {
    "execution": {
     "iopub.execute_input": "2023-02-11T10:09:58.311917Z",
     "iopub.status.busy": "2023-02-11T10:09:58.311196Z",
     "iopub.status.idle": "2023-02-11T10:09:58.317843Z",
     "shell.execute_reply": "2023-02-11T10:09:58.316981Z"
    },
    "papermill": {
     "duration": 0.03429,
     "end_time": "2023-02-11T10:09:58.319973",
     "exception": false,
     "start_time": "2023-02-11T10:09:58.285683",
     "status": "completed"
    },
    "tags": []
   },
   "outputs": [
    {
     "data": {
      "text/plain": [
       "(2238, 9)"
      ]
     },
     "execution_count": 18,
     "metadata": {},
     "output_type": "execute_result"
    }
   ],
   "source": [
    "agriculture_related_data.shape"
   ]
  },
  {
   "cell_type": "code",
   "execution_count": 19,
   "id": "afa18727",
   "metadata": {
    "execution": {
     "iopub.execute_input": "2023-02-11T10:09:58.370450Z",
     "iopub.status.busy": "2023-02-11T10:09:58.369751Z",
     "iopub.status.idle": "2023-02-11T10:09:58.376659Z",
     "shell.execute_reply": "2023-02-11T10:09:58.375790Z"
    },
    "papermill": {
     "duration": 0.034348,
     "end_time": "2023-02-11T10:09:58.378699",
     "exception": false,
     "start_time": "2023-02-11T10:09:58.344351",
     "status": "completed"
    },
    "tags": []
   },
   "outputs": [
    {
     "data": {
      "text/plain": [
       "Index(['state', 'district', 'market', 'commodity', 'variety', 'arrival_date',\n",
       "       'min_price', 'max_price', 'modal_price'],\n",
       "      dtype='object')"
      ]
     },
     "execution_count": 19,
     "metadata": {},
     "output_type": "execute_result"
    }
   ],
   "source": [
    "agriculture_related_data.columns"
   ]
  },
  {
   "cell_type": "code",
   "execution_count": 20,
   "id": "5f496370",
   "metadata": {
    "execution": {
     "iopub.execute_input": "2023-02-11T10:09:58.428464Z",
     "iopub.status.busy": "2023-02-11T10:09:58.427556Z",
     "iopub.status.idle": "2023-02-11T10:09:58.436571Z",
     "shell.execute_reply": "2023-02-11T10:09:58.435680Z"
    },
    "papermill": {
     "duration": 0.036051,
     "end_time": "2023-02-11T10:09:58.438621",
     "exception": false,
     "start_time": "2023-02-11T10:09:58.402570",
     "status": "completed"
    },
    "tags": []
   },
   "outputs": [
    {
     "data": {
      "text/plain": [
       "0"
      ]
     },
     "execution_count": 20,
     "metadata": {},
     "output_type": "execute_result"
    }
   ],
   "source": [
    "agriculture_related_data.isnull().sum().sum()"
   ]
  },
  {
   "cell_type": "code",
   "execution_count": 21,
   "id": "88062d41",
   "metadata": {
    "execution": {
     "iopub.execute_input": "2023-02-11T10:09:58.488724Z",
     "iopub.status.busy": "2023-02-11T10:09:58.488300Z",
     "iopub.status.idle": "2023-02-11T10:09:58.497458Z",
     "shell.execute_reply": "2023-02-11T10:09:58.496396Z"
    },
    "papermill": {
     "duration": 0.036577,
     "end_time": "2023-02-11T10:09:58.499577",
     "exception": false,
     "start_time": "2023-02-11T10:09:58.463000",
     "status": "completed"
    },
    "tags": []
   },
   "outputs": [
    {
     "data": {
      "text/plain": [
       "0"
      ]
     },
     "execution_count": 21,
     "metadata": {},
     "output_type": "execute_result"
    }
   ],
   "source": [
    "agriculture_related_data.isna().sum().sum()"
   ]
  },
  {
   "cell_type": "code",
   "execution_count": 22,
   "id": "5aa081b3",
   "metadata": {
    "execution": {
     "iopub.execute_input": "2023-02-11T10:09:58.550976Z",
     "iopub.status.busy": "2023-02-11T10:09:58.550119Z",
     "iopub.status.idle": "2023-02-11T10:09:58.565136Z",
     "shell.execute_reply": "2023-02-11T10:09:58.563919Z"
    },
    "papermill": {
     "duration": 0.043321,
     "end_time": "2023-02-11T10:09:58.567609",
     "exception": false,
     "start_time": "2023-02-11T10:09:58.524288",
     "status": "completed"
    },
    "tags": []
   },
   "outputs": [
    {
     "data": {
      "text/html": [
       "<div>\n",
       "<style scoped>\n",
       "    .dataframe tbody tr th:only-of-type {\n",
       "        vertical-align: middle;\n",
       "    }\n",
       "\n",
       "    .dataframe tbody tr th {\n",
       "        vertical-align: top;\n",
       "    }\n",
       "\n",
       "    .dataframe thead th {\n",
       "        text-align: right;\n",
       "    }\n",
       "</style>\n",
       "<table border=\"1\" class=\"dataframe\">\n",
       "  <thead>\n",
       "    <tr style=\"text-align: right;\">\n",
       "      <th></th>\n",
       "      <th>state</th>\n",
       "      <th>district</th>\n",
       "      <th>market</th>\n",
       "      <th>commodity</th>\n",
       "      <th>variety</th>\n",
       "      <th>arrival_date</th>\n",
       "      <th>min_price</th>\n",
       "      <th>max_price</th>\n",
       "      <th>modal_price</th>\n",
       "    </tr>\n",
       "  </thead>\n",
       "  <tbody>\n",
       "    <tr>\n",
       "      <th>0</th>\n",
       "      <td>Andaman and Nicobar</td>\n",
       "      <td>South Andaman</td>\n",
       "      <td>Port Blair</td>\n",
       "      <td>Amaranthus</td>\n",
       "      <td>Amaranthus</td>\n",
       "      <td>04/03/2019</td>\n",
       "      <td>6000</td>\n",
       "      <td>8000</td>\n",
       "      <td>7000</td>\n",
       "    </tr>\n",
       "    <tr>\n",
       "      <th>1</th>\n",
       "      <td>Andaman and Nicobar</td>\n",
       "      <td>South Andaman</td>\n",
       "      <td>Port Blair</td>\n",
       "      <td>Banana - Green</td>\n",
       "      <td>Banana - Green</td>\n",
       "      <td>04/03/2019</td>\n",
       "      <td>4500</td>\n",
       "      <td>5500</td>\n",
       "      <td>5000</td>\n",
       "    </tr>\n",
       "    <tr>\n",
       "      <th>2</th>\n",
       "      <td>Andaman and Nicobar</td>\n",
       "      <td>South Andaman</td>\n",
       "      <td>Port Blair</td>\n",
       "      <td>Bhindi(Ladies Finger)</td>\n",
       "      <td>Bhindi</td>\n",
       "      <td>04/03/2019</td>\n",
       "      <td>6000</td>\n",
       "      <td>8000</td>\n",
       "      <td>7000</td>\n",
       "    </tr>\n",
       "    <tr>\n",
       "      <th>3</th>\n",
       "      <td>Andaman and Nicobar</td>\n",
       "      <td>South Andaman</td>\n",
       "      <td>Port Blair</td>\n",
       "      <td>Bitter gourd</td>\n",
       "      <td>Other</td>\n",
       "      <td>04/03/2019</td>\n",
       "      <td>6000</td>\n",
       "      <td>8000</td>\n",
       "      <td>7000</td>\n",
       "    </tr>\n",
       "    <tr>\n",
       "      <th>4</th>\n",
       "      <td>Andaman and Nicobar</td>\n",
       "      <td>South Andaman</td>\n",
       "      <td>Port Blair</td>\n",
       "      <td>Black pepper</td>\n",
       "      <td>Other</td>\n",
       "      <td>04/03/2019</td>\n",
       "      <td>110000</td>\n",
       "      <td>130000</td>\n",
       "      <td>120000</td>\n",
       "    </tr>\n",
       "  </tbody>\n",
       "</table>\n",
       "</div>"
      ],
      "text/plain": [
       "                 state       district      market              commodity  \\\n",
       "0  Andaman and Nicobar  South Andaman  Port Blair             Amaranthus   \n",
       "1  Andaman and Nicobar  South Andaman  Port Blair         Banana - Green   \n",
       "2  Andaman and Nicobar  South Andaman  Port Blair  Bhindi(Ladies Finger)   \n",
       "3  Andaman and Nicobar  South Andaman  Port Blair           Bitter gourd   \n",
       "4  Andaman and Nicobar  South Andaman  Port Blair           Black pepper   \n",
       "\n",
       "          variety arrival_date  min_price  max_price  modal_price  \n",
       "0      Amaranthus   04/03/2019       6000       8000         7000  \n",
       "1  Banana - Green   04/03/2019       4500       5500         5000  \n",
       "2          Bhindi   04/03/2019       6000       8000         7000  \n",
       "3           Other   04/03/2019       6000       8000         7000  \n",
       "4           Other   04/03/2019     110000     130000       120000  "
      ]
     },
     "execution_count": 22,
     "metadata": {},
     "output_type": "execute_result"
    }
   ],
   "source": [
    "agriculture_related_data.head()"
   ]
  },
  {
   "cell_type": "code",
   "execution_count": 23,
   "id": "e167d1b7",
   "metadata": {
    "_kg_hide-output": true,
    "execution": {
     "iopub.execute_input": "2023-02-11T10:09:58.621657Z",
     "iopub.status.busy": "2023-02-11T10:09:58.620592Z",
     "iopub.status.idle": "2023-02-11T10:09:58.627703Z",
     "shell.execute_reply": "2023-02-11T10:09:58.626803Z"
    },
    "papermill": {
     "duration": 0.035179,
     "end_time": "2023-02-11T10:09:58.629848",
     "exception": false,
     "start_time": "2023-02-11T10:09:58.594669",
     "status": "completed"
    },
    "tags": []
   },
   "outputs": [
    {
     "name": "stdout",
     "output_type": "stream",
     "text": [
      "174\n"
     ]
    }
   ],
   "source": [
    "ard_unique_districts=agriculture_related_data['district'].unique()\n",
    "ard_unique_states=agriculture_related_data['state'].unique()\n",
    "print(len(ard_unique_districts))"
   ]
  },
  {
   "cell_type": "markdown",
   "id": "7d2b85b3",
   "metadata": {
    "papermill": {
     "duration": 0.025028,
     "end_time": "2023-02-11T10:09:58.681021",
     "exception": false,
     "start_time": "2023-02-11T10:09:58.655993",
     "status": "completed"
    },
    "tags": []
   },
   "source": [
    "checking the unique states in the dataset"
   ]
  },
  {
   "cell_type": "code",
   "execution_count": 24,
   "id": "c9181c0a",
   "metadata": {
    "execution": {
     "iopub.execute_input": "2023-02-11T10:09:58.733311Z",
     "iopub.status.busy": "2023-02-11T10:09:58.731961Z",
     "iopub.status.idle": "2023-02-11T10:09:58.738501Z",
     "shell.execute_reply": "2023-02-11T10:09:58.737011Z"
    },
    "papermill": {
     "duration": 0.035124,
     "end_time": "2023-02-11T10:09:58.740752",
     "exception": false,
     "start_time": "2023-02-11T10:09:58.705628",
     "status": "completed"
    },
    "tags": []
   },
   "outputs": [
    {
     "name": "stdout",
     "output_type": "stream",
     "text": [
      "26\n"
     ]
    }
   ],
   "source": [
    "print(len(ard_unique_states))"
   ]
  },
  {
   "cell_type": "code",
   "execution_count": 25,
   "id": "8e7229f4",
   "metadata": {
    "execution": {
     "iopub.execute_input": "2023-02-11T10:09:58.792781Z",
     "iopub.status.busy": "2023-02-11T10:09:58.791781Z",
     "iopub.status.idle": "2023-02-11T10:09:58.797908Z",
     "shell.execute_reply": "2023-02-11T10:09:58.796691Z"
    },
    "papermill": {
     "duration": 0.035031,
     "end_time": "2023-02-11T10:09:58.800652",
     "exception": false,
     "start_time": "2023-02-11T10:09:58.765621",
     "status": "completed"
    },
    "tags": []
   },
   "outputs": [
    {
     "name": "stdout",
     "output_type": "stream",
     "text": [
      "['Andaman and Nicobar' 'Andhra Pradesh' 'Assam' 'Chattisgarh' 'Goa'\n",
      " 'Gujarat' 'Haryana' 'Himachal Pradesh' 'Jammu and Kashmir' 'Karnataka'\n",
      " 'Kerala' 'Madhya Pradesh' 'Maharashtra' 'Manipur' 'Meghalaya' 'Nagaland'\n",
      " 'Odisha' 'Pondicherry' 'Punjab' 'Rajasthan' 'Tamil Nadu' 'Telangana'\n",
      " 'Tripura' 'Uttar Pradesh' 'Uttrakhand' 'West Bengal']\n"
     ]
    }
   ],
   "source": [
    "print(ard_unique_states)"
   ]
  },
  {
   "cell_type": "markdown",
   "id": "38fc71d9",
   "metadata": {
    "papermill": {
     "duration": 0.024601,
     "end_time": "2023-02-11T10:09:58.850032",
     "exception": false,
     "start_time": "2023-02-11T10:09:58.825431",
     "status": "completed"
    },
    "tags": []
   },
   "source": [
    "checking districts for the districts dataset as well"
   ]
  },
  {
   "cell_type": "code",
   "execution_count": 26,
   "id": "f9e53cf0",
   "metadata": {
    "execution": {
     "iopub.execute_input": "2023-02-11T10:09:58.901074Z",
     "iopub.status.busy": "2023-02-11T10:09:58.900609Z",
     "iopub.status.idle": "2023-02-11T10:09:58.928391Z",
     "shell.execute_reply": "2023-02-11T10:09:58.927288Z"
    },
    "papermill": {
     "duration": 0.056136,
     "end_time": "2023-02-11T10:09:58.930803",
     "exception": false,
     "start_time": "2023-02-11T10:09:58.874667",
     "status": "completed"
    },
    "tags": []
   },
   "outputs": [
    {
     "data": {
      "text/html": [
       "<div>\n",
       "<style scoped>\n",
       "    .dataframe tbody tr th:only-of-type {\n",
       "        vertical-align: middle;\n",
       "    }\n",
       "\n",
       "    .dataframe tbody tr th {\n",
       "        vertical-align: top;\n",
       "    }\n",
       "\n",
       "    .dataframe thead th {\n",
       "        text-align: right;\n",
       "    }\n",
       "</style>\n",
       "<table border=\"1\" class=\"dataframe\">\n",
       "  <thead>\n",
       "    <tr style=\"text-align: right;\">\n",
       "      <th></th>\n",
       "      <th>STATE_UT_NAME</th>\n",
       "      <th>DISTRICT</th>\n",
       "      <th>JAN</th>\n",
       "      <th>FEB</th>\n",
       "      <th>MAR</th>\n",
       "      <th>APR</th>\n",
       "      <th>MAY</th>\n",
       "      <th>JUN</th>\n",
       "      <th>JUL</th>\n",
       "      <th>AUG</th>\n",
       "      <th>SEP</th>\n",
       "      <th>OCT</th>\n",
       "      <th>NOV</th>\n",
       "      <th>DEC</th>\n",
       "      <th>ANNUAL</th>\n",
       "      <th>Jan-Feb</th>\n",
       "      <th>Mar-May</th>\n",
       "      <th>Jun-Sep</th>\n",
       "      <th>Oct-Dec</th>\n",
       "    </tr>\n",
       "  </thead>\n",
       "  <tbody>\n",
       "    <tr>\n",
       "      <th>0</th>\n",
       "      <td>ANDAMAN And NICOBAR ISLANDS</td>\n",
       "      <td>NICOBAR</td>\n",
       "      <td>107.3</td>\n",
       "      <td>57.9</td>\n",
       "      <td>65.2</td>\n",
       "      <td>117.0</td>\n",
       "      <td>358.5</td>\n",
       "      <td>295.5</td>\n",
       "      <td>285.0</td>\n",
       "      <td>271.9</td>\n",
       "      <td>354.8</td>\n",
       "      <td>326.0</td>\n",
       "      <td>315.2</td>\n",
       "      <td>250.9</td>\n",
       "      <td>2805.2</td>\n",
       "      <td>165.2</td>\n",
       "      <td>540.7</td>\n",
       "      <td>1207.2</td>\n",
       "      <td>892.1</td>\n",
       "    </tr>\n",
       "    <tr>\n",
       "      <th>1</th>\n",
       "      <td>ANDAMAN And NICOBAR ISLANDS</td>\n",
       "      <td>SOUTH ANDAMAN</td>\n",
       "      <td>43.7</td>\n",
       "      <td>26.0</td>\n",
       "      <td>18.6</td>\n",
       "      <td>90.5</td>\n",
       "      <td>374.4</td>\n",
       "      <td>457.2</td>\n",
       "      <td>421.3</td>\n",
       "      <td>423.1</td>\n",
       "      <td>455.6</td>\n",
       "      <td>301.2</td>\n",
       "      <td>275.8</td>\n",
       "      <td>128.3</td>\n",
       "      <td>3015.7</td>\n",
       "      <td>69.7</td>\n",
       "      <td>483.5</td>\n",
       "      <td>1757.2</td>\n",
       "      <td>705.3</td>\n",
       "    </tr>\n",
       "    <tr>\n",
       "      <th>2</th>\n",
       "      <td>ANDAMAN And NICOBAR ISLANDS</td>\n",
       "      <td>N &amp; M ANDAMAN</td>\n",
       "      <td>32.7</td>\n",
       "      <td>15.9</td>\n",
       "      <td>8.6</td>\n",
       "      <td>53.4</td>\n",
       "      <td>343.6</td>\n",
       "      <td>503.3</td>\n",
       "      <td>465.4</td>\n",
       "      <td>460.9</td>\n",
       "      <td>454.8</td>\n",
       "      <td>276.1</td>\n",
       "      <td>198.6</td>\n",
       "      <td>100.0</td>\n",
       "      <td>2913.3</td>\n",
       "      <td>48.6</td>\n",
       "      <td>405.6</td>\n",
       "      <td>1884.4</td>\n",
       "      <td>574.7</td>\n",
       "    </tr>\n",
       "    <tr>\n",
       "      <th>3</th>\n",
       "      <td>ARUNACHAL PRADESH</td>\n",
       "      <td>LOHIT</td>\n",
       "      <td>42.2</td>\n",
       "      <td>80.8</td>\n",
       "      <td>176.4</td>\n",
       "      <td>358.5</td>\n",
       "      <td>306.4</td>\n",
       "      <td>447.0</td>\n",
       "      <td>660.1</td>\n",
       "      <td>427.8</td>\n",
       "      <td>313.6</td>\n",
       "      <td>167.1</td>\n",
       "      <td>34.1</td>\n",
       "      <td>29.8</td>\n",
       "      <td>3043.8</td>\n",
       "      <td>123.0</td>\n",
       "      <td>841.3</td>\n",
       "      <td>1848.5</td>\n",
       "      <td>231.0</td>\n",
       "    </tr>\n",
       "    <tr>\n",
       "      <th>4</th>\n",
       "      <td>ARUNACHAL PRADESH</td>\n",
       "      <td>EAST SIANG</td>\n",
       "      <td>33.3</td>\n",
       "      <td>79.5</td>\n",
       "      <td>105.9</td>\n",
       "      <td>216.5</td>\n",
       "      <td>323.0</td>\n",
       "      <td>738.3</td>\n",
       "      <td>990.9</td>\n",
       "      <td>711.2</td>\n",
       "      <td>568.0</td>\n",
       "      <td>206.9</td>\n",
       "      <td>29.5</td>\n",
       "      <td>31.7</td>\n",
       "      <td>4034.7</td>\n",
       "      <td>112.8</td>\n",
       "      <td>645.4</td>\n",
       "      <td>3008.4</td>\n",
       "      <td>268.1</td>\n",
       "    </tr>\n",
       "  </tbody>\n",
       "</table>\n",
       "</div>"
      ],
      "text/plain": [
       "                 STATE_UT_NAME       DISTRICT    JAN   FEB    MAR    APR  \\\n",
       "0  ANDAMAN And NICOBAR ISLANDS        NICOBAR  107.3  57.9   65.2  117.0   \n",
       "1  ANDAMAN And NICOBAR ISLANDS  SOUTH ANDAMAN   43.7  26.0   18.6   90.5   \n",
       "2  ANDAMAN And NICOBAR ISLANDS  N & M ANDAMAN   32.7  15.9    8.6   53.4   \n",
       "3            ARUNACHAL PRADESH          LOHIT   42.2  80.8  176.4  358.5   \n",
       "4            ARUNACHAL PRADESH     EAST SIANG   33.3  79.5  105.9  216.5   \n",
       "\n",
       "     MAY    JUN    JUL    AUG    SEP    OCT    NOV    DEC  ANNUAL  Jan-Feb  \\\n",
       "0  358.5  295.5  285.0  271.9  354.8  326.0  315.2  250.9  2805.2    165.2   \n",
       "1  374.4  457.2  421.3  423.1  455.6  301.2  275.8  128.3  3015.7     69.7   \n",
       "2  343.6  503.3  465.4  460.9  454.8  276.1  198.6  100.0  2913.3     48.6   \n",
       "3  306.4  447.0  660.1  427.8  313.6  167.1   34.1   29.8  3043.8    123.0   \n",
       "4  323.0  738.3  990.9  711.2  568.0  206.9   29.5   31.7  4034.7    112.8   \n",
       "\n",
       "   Mar-May  Jun-Sep  Oct-Dec  \n",
       "0    540.7   1207.2    892.1  \n",
       "1    483.5   1757.2    705.3  \n",
       "2    405.6   1884.4    574.7  \n",
       "3    841.3   1848.5    231.0  \n",
       "4    645.4   3008.4    268.1  "
      ]
     },
     "execution_count": 26,
     "metadata": {},
     "output_type": "execute_result"
    }
   ],
   "source": [
    "district_rainfall_data.head()"
   ]
  },
  {
   "cell_type": "code",
   "execution_count": 27,
   "id": "8af5f03d",
   "metadata": {
    "execution": {
     "iopub.execute_input": "2023-02-11T10:09:58.985500Z",
     "iopub.status.busy": "2023-02-11T10:09:58.985113Z",
     "iopub.status.idle": "2023-02-11T10:09:58.991964Z",
     "shell.execute_reply": "2023-02-11T10:09:58.990711Z"
    },
    "papermill": {
     "duration": 0.03855,
     "end_time": "2023-02-11T10:09:58.994528",
     "exception": false,
     "start_time": "2023-02-11T10:09:58.955978",
     "status": "completed"
    },
    "tags": []
   },
   "outputs": [
    {
     "name": "stdout",
     "output_type": "stream",
     "text": [
      "637\n"
     ]
    }
   ],
   "source": [
    "drd_unique_districts=district_rainfall_data['DISTRICT'].unique()\n",
    "drd_unique_states=district_rainfall_data['STATE_UT_NAME'].unique()\n",
    "print(len(drd_unique_districts))"
   ]
  },
  {
   "cell_type": "markdown",
   "id": "8f25f75f",
   "metadata": {
    "papermill": {
     "duration": 0.024404,
     "end_time": "2023-02-11T10:09:59.044163",
     "exception": false,
     "start_time": "2023-02-11T10:09:59.019759",
     "status": "completed"
    },
    "tags": []
   },
   "source": [
    "checking the unique states for district rainfall"
   ]
  },
  {
   "cell_type": "code",
   "execution_count": 28,
   "id": "9762b65f",
   "metadata": {
    "execution": {
     "iopub.execute_input": "2023-02-11T10:09:59.095367Z",
     "iopub.status.busy": "2023-02-11T10:09:59.094968Z",
     "iopub.status.idle": "2023-02-11T10:09:59.100256Z",
     "shell.execute_reply": "2023-02-11T10:09:59.099116Z"
    },
    "papermill": {
     "duration": 0.033828,
     "end_time": "2023-02-11T10:09:59.102670",
     "exception": false,
     "start_time": "2023-02-11T10:09:59.068842",
     "status": "completed"
    },
    "tags": []
   },
   "outputs": [
    {
     "name": "stdout",
     "output_type": "stream",
     "text": [
      "35\n"
     ]
    }
   ],
   "source": [
    "print(len(drd_unique_states))"
   ]
  },
  {
   "cell_type": "markdown",
   "id": "44383795",
   "metadata": {
    "papermill": {
     "duration": 0.024972,
     "end_time": "2023-02-11T10:09:59.152566",
     "exception": false,
     "start_time": "2023-02-11T10:09:59.127594",
     "status": "completed"
    },
    "tags": []
   },
   "source": [
    "checking the unique states of the agriculture dataset"
   ]
  },
  {
   "cell_type": "code",
   "execution_count": 29,
   "id": "1b4ea6c7",
   "metadata": {
    "execution": {
     "iopub.execute_input": "2023-02-11T10:09:59.204686Z",
     "iopub.status.busy": "2023-02-11T10:09:59.204304Z",
     "iopub.status.idle": "2023-02-11T10:09:59.209444Z",
     "shell.execute_reply": "2023-02-11T10:09:59.208350Z"
    },
    "papermill": {
     "duration": 0.034258,
     "end_time": "2023-02-11T10:09:59.212080",
     "exception": false,
     "start_time": "2023-02-11T10:09:59.177822",
     "status": "completed"
    },
    "tags": []
   },
   "outputs": [
    {
     "name": "stdout",
     "output_type": "stream",
     "text": [
      "['ANDAMAN And NICOBAR ISLANDS' 'ARUNACHAL PRADESH' 'ASSAM' 'MEGHALAYA'\n",
      " 'MANIPUR' 'MIZORAM' 'NAGALAND' 'TRIPURA' 'WEST BENGAL' 'SIKKIM' 'ORISSA'\n",
      " 'JHARKHAND' 'BIHAR' 'UTTAR PRADESH' 'UTTARANCHAL' 'HARYANA' 'CHANDIGARH'\n",
      " 'DELHI' 'PUNJAB' 'HIMACHAL' 'JAMMU AND KASHMIR' 'RAJASTHAN'\n",
      " 'MADHYA PRADESH' 'GUJARAT' 'DADAR NAGAR HAVELI' 'DAMAN AND DUI'\n",
      " 'MAHARASHTRA' 'GOA' 'CHATISGARH' 'ANDHRA PRADESH' 'TAMIL NADU'\n",
      " 'PONDICHERRY' 'KARNATAKA' 'KERALA' 'LAKSHADWEEP']\n"
     ]
    }
   ],
   "source": [
    "print(drd_unique_states)"
   ]
  },
  {
   "cell_type": "markdown",
   "id": "8efa7d51",
   "metadata": {
    "papermill": {
     "duration": 0.024657,
     "end_time": "2023-02-11T10:09:59.261895",
     "exception": false,
     "start_time": "2023-02-11T10:09:59.237238",
     "status": "completed"
    },
    "tags": []
   },
   "source": [
    "renaming the state and district column names for agriculture related dataset"
   ]
  },
  {
   "cell_type": "code",
   "execution_count": 30,
   "id": "2853f464",
   "metadata": {
    "execution": {
     "iopub.execute_input": "2023-02-11T10:09:59.320747Z",
     "iopub.status.busy": "2023-02-11T10:09:59.320362Z",
     "iopub.status.idle": "2023-02-11T10:09:59.353513Z",
     "shell.execute_reply": "2023-02-11T10:09:59.352370Z"
    },
    "papermill": {
     "duration": 0.066835,
     "end_time": "2023-02-11T10:09:59.355873",
     "exception": false,
     "start_time": "2023-02-11T10:09:59.289038",
     "status": "completed"
    },
    "tags": []
   },
   "outputs": [
    {
     "data": {
      "text/html": [
       "<div>\n",
       "<style scoped>\n",
       "    .dataframe tbody tr th:only-of-type {\n",
       "        vertical-align: middle;\n",
       "    }\n",
       "\n",
       "    .dataframe tbody tr th {\n",
       "        vertical-align: top;\n",
       "    }\n",
       "\n",
       "    .dataframe thead th {\n",
       "        text-align: right;\n",
       "    }\n",
       "</style>\n",
       "<table border=\"1\" class=\"dataframe\">\n",
       "  <thead>\n",
       "    <tr style=\"text-align: right;\">\n",
       "      <th></th>\n",
       "      <th>state</th>\n",
       "      <th>district</th>\n",
       "      <th>JAN</th>\n",
       "      <th>FEB</th>\n",
       "      <th>MAR</th>\n",
       "      <th>APR</th>\n",
       "      <th>MAY</th>\n",
       "      <th>JUN</th>\n",
       "      <th>JUL</th>\n",
       "      <th>AUG</th>\n",
       "      <th>SEP</th>\n",
       "      <th>OCT</th>\n",
       "      <th>NOV</th>\n",
       "      <th>DEC</th>\n",
       "      <th>ANNUAL</th>\n",
       "      <th>Jan-Feb</th>\n",
       "      <th>Mar-May</th>\n",
       "      <th>Jun-Sep</th>\n",
       "      <th>Oct-Dec</th>\n",
       "    </tr>\n",
       "  </thead>\n",
       "  <tbody>\n",
       "    <tr>\n",
       "      <th>0</th>\n",
       "      <td>ANDAMAN And NICOBAR ISLANDS</td>\n",
       "      <td>NICOBAR</td>\n",
       "      <td>107.3</td>\n",
       "      <td>57.9</td>\n",
       "      <td>65.2</td>\n",
       "      <td>117.0</td>\n",
       "      <td>358.5</td>\n",
       "      <td>295.5</td>\n",
       "      <td>285.0</td>\n",
       "      <td>271.9</td>\n",
       "      <td>354.8</td>\n",
       "      <td>326.0</td>\n",
       "      <td>315.2</td>\n",
       "      <td>250.9</td>\n",
       "      <td>2805.2</td>\n",
       "      <td>165.2</td>\n",
       "      <td>540.7</td>\n",
       "      <td>1207.2</td>\n",
       "      <td>892.1</td>\n",
       "    </tr>\n",
       "    <tr>\n",
       "      <th>1</th>\n",
       "      <td>ANDAMAN And NICOBAR ISLANDS</td>\n",
       "      <td>SOUTH ANDAMAN</td>\n",
       "      <td>43.7</td>\n",
       "      <td>26.0</td>\n",
       "      <td>18.6</td>\n",
       "      <td>90.5</td>\n",
       "      <td>374.4</td>\n",
       "      <td>457.2</td>\n",
       "      <td>421.3</td>\n",
       "      <td>423.1</td>\n",
       "      <td>455.6</td>\n",
       "      <td>301.2</td>\n",
       "      <td>275.8</td>\n",
       "      <td>128.3</td>\n",
       "      <td>3015.7</td>\n",
       "      <td>69.7</td>\n",
       "      <td>483.5</td>\n",
       "      <td>1757.2</td>\n",
       "      <td>705.3</td>\n",
       "    </tr>\n",
       "    <tr>\n",
       "      <th>2</th>\n",
       "      <td>ANDAMAN And NICOBAR ISLANDS</td>\n",
       "      <td>N &amp; M ANDAMAN</td>\n",
       "      <td>32.7</td>\n",
       "      <td>15.9</td>\n",
       "      <td>8.6</td>\n",
       "      <td>53.4</td>\n",
       "      <td>343.6</td>\n",
       "      <td>503.3</td>\n",
       "      <td>465.4</td>\n",
       "      <td>460.9</td>\n",
       "      <td>454.8</td>\n",
       "      <td>276.1</td>\n",
       "      <td>198.6</td>\n",
       "      <td>100.0</td>\n",
       "      <td>2913.3</td>\n",
       "      <td>48.6</td>\n",
       "      <td>405.6</td>\n",
       "      <td>1884.4</td>\n",
       "      <td>574.7</td>\n",
       "    </tr>\n",
       "    <tr>\n",
       "      <th>3</th>\n",
       "      <td>ARUNACHAL PRADESH</td>\n",
       "      <td>LOHIT</td>\n",
       "      <td>42.2</td>\n",
       "      <td>80.8</td>\n",
       "      <td>176.4</td>\n",
       "      <td>358.5</td>\n",
       "      <td>306.4</td>\n",
       "      <td>447.0</td>\n",
       "      <td>660.1</td>\n",
       "      <td>427.8</td>\n",
       "      <td>313.6</td>\n",
       "      <td>167.1</td>\n",
       "      <td>34.1</td>\n",
       "      <td>29.8</td>\n",
       "      <td>3043.8</td>\n",
       "      <td>123.0</td>\n",
       "      <td>841.3</td>\n",
       "      <td>1848.5</td>\n",
       "      <td>231.0</td>\n",
       "    </tr>\n",
       "    <tr>\n",
       "      <th>4</th>\n",
       "      <td>ARUNACHAL PRADESH</td>\n",
       "      <td>EAST SIANG</td>\n",
       "      <td>33.3</td>\n",
       "      <td>79.5</td>\n",
       "      <td>105.9</td>\n",
       "      <td>216.5</td>\n",
       "      <td>323.0</td>\n",
       "      <td>738.3</td>\n",
       "      <td>990.9</td>\n",
       "      <td>711.2</td>\n",
       "      <td>568.0</td>\n",
       "      <td>206.9</td>\n",
       "      <td>29.5</td>\n",
       "      <td>31.7</td>\n",
       "      <td>4034.7</td>\n",
       "      <td>112.8</td>\n",
       "      <td>645.4</td>\n",
       "      <td>3008.4</td>\n",
       "      <td>268.1</td>\n",
       "    </tr>\n",
       "  </tbody>\n",
       "</table>\n",
       "</div>"
      ],
      "text/plain": [
       "                         state       district    JAN   FEB    MAR    APR  \\\n",
       "0  ANDAMAN And NICOBAR ISLANDS        NICOBAR  107.3  57.9   65.2  117.0   \n",
       "1  ANDAMAN And NICOBAR ISLANDS  SOUTH ANDAMAN   43.7  26.0   18.6   90.5   \n",
       "2  ANDAMAN And NICOBAR ISLANDS  N & M ANDAMAN   32.7  15.9    8.6   53.4   \n",
       "3            ARUNACHAL PRADESH          LOHIT   42.2  80.8  176.4  358.5   \n",
       "4            ARUNACHAL PRADESH     EAST SIANG   33.3  79.5  105.9  216.5   \n",
       "\n",
       "     MAY    JUN    JUL    AUG    SEP    OCT    NOV    DEC  ANNUAL  Jan-Feb  \\\n",
       "0  358.5  295.5  285.0  271.9  354.8  326.0  315.2  250.9  2805.2    165.2   \n",
       "1  374.4  457.2  421.3  423.1  455.6  301.2  275.8  128.3  3015.7     69.7   \n",
       "2  343.6  503.3  465.4  460.9  454.8  276.1  198.6  100.0  2913.3     48.6   \n",
       "3  306.4  447.0  660.1  427.8  313.6  167.1   34.1   29.8  3043.8    123.0   \n",
       "4  323.0  738.3  990.9  711.2  568.0  206.9   29.5   31.7  4034.7    112.8   \n",
       "\n",
       "   Mar-May  Jun-Sep  Oct-Dec  \n",
       "0    540.7   1207.2    892.1  \n",
       "1    483.5   1757.2    705.3  \n",
       "2    405.6   1884.4    574.7  \n",
       "3    841.3   1848.5    231.0  \n",
       "4    645.4   3008.4    268.1  "
      ]
     },
     "execution_count": 30,
     "metadata": {},
     "output_type": "execute_result"
    }
   ],
   "source": [
    "district_rainfall_data.rename(columns={'STATE_UT_NAME':'state','DISTRICT':'district'},inplace=True)\n",
    "district_rainfall_data.head()"
   ]
  },
  {
   "cell_type": "markdown",
   "id": "c0413ba8",
   "metadata": {
    "papermill": {
     "duration": 0.025265,
     "end_time": "2023-02-11T10:09:59.406781",
     "exception": false,
     "start_time": "2023-02-11T10:09:59.381516",
     "status": "completed"
    },
    "tags": []
   },
   "source": [
    "trying to combine two pandas datasets based on common values. I will be using both the common features(state,district) and will get two seperate datasets accordingly"
   ]
  },
  {
   "cell_type": "markdown",
   "id": "0c4e15e3",
   "metadata": {
    "papermill": {
     "duration": 0.024818,
     "end_time": "2023-02-11T10:09:59.457187",
     "exception": false,
     "start_time": "2023-02-11T10:09:59.432369",
     "status": "completed"
    },
    "tags": []
   },
   "source": [
    "checking the columns of the two datasets"
   ]
  },
  {
   "cell_type": "code",
   "execution_count": 31,
   "id": "dd202279",
   "metadata": {
    "execution": {
     "iopub.execute_input": "2023-02-11T10:09:59.509404Z",
     "iopub.status.busy": "2023-02-11T10:09:59.508940Z",
     "iopub.status.idle": "2023-02-11T10:09:59.516505Z",
     "shell.execute_reply": "2023-02-11T10:09:59.515286Z"
    },
    "papermill": {
     "duration": 0.036446,
     "end_time": "2023-02-11T10:09:59.518881",
     "exception": false,
     "start_time": "2023-02-11T10:09:59.482435",
     "status": "completed"
    },
    "tags": []
   },
   "outputs": [
    {
     "data": {
      "text/plain": [
       "Index(['state', 'district', 'market', 'commodity', 'variety', 'arrival_date',\n",
       "       'min_price', 'max_price', 'modal_price'],\n",
       "      dtype='object')"
      ]
     },
     "execution_count": 31,
     "metadata": {},
     "output_type": "execute_result"
    }
   ],
   "source": [
    "agriculture_related_data.columns"
   ]
  },
  {
   "cell_type": "code",
   "execution_count": 32,
   "id": "5f415cb4",
   "metadata": {
    "execution": {
     "iopub.execute_input": "2023-02-11T10:09:59.573102Z",
     "iopub.status.busy": "2023-02-11T10:09:59.572651Z",
     "iopub.status.idle": "2023-02-11T10:09:59.579799Z",
     "shell.execute_reply": "2023-02-11T10:09:59.578714Z"
    },
    "papermill": {
     "duration": 0.036867,
     "end_time": "2023-02-11T10:09:59.581985",
     "exception": false,
     "start_time": "2023-02-11T10:09:59.545118",
     "status": "completed"
    },
    "tags": []
   },
   "outputs": [
    {
     "data": {
      "text/plain": [
       "Index(['state', 'district', 'JAN', 'FEB', 'MAR', 'APR', 'MAY', 'JUN', 'JUL',\n",
       "       'AUG', 'SEP', 'OCT', 'NOV', 'DEC', 'ANNUAL', 'Jan-Feb', 'Mar-May',\n",
       "       'Jun-Sep', 'Oct-Dec'],\n",
       "      dtype='object')"
      ]
     },
     "execution_count": 32,
     "metadata": {},
     "output_type": "execute_result"
    }
   ],
   "source": [
    "district_rainfall_data.columns"
   ]
  },
  {
   "cell_type": "markdown",
   "id": "0d59b859",
   "metadata": {
    "papermill": {
     "duration": 0.02535,
     "end_time": "2023-02-11T10:09:59.633079",
     "exception": false,
     "start_time": "2023-02-11T10:09:59.607729",
     "status": "completed"
    },
    "tags": []
   },
   "source": [
    "dropping rows which have uncommon state values in district rainfall data "
   ]
  },
  {
   "cell_type": "code",
   "execution_count": 33,
   "id": "7a36eb37",
   "metadata": {
    "execution": {
     "iopub.execute_input": "2023-02-11T10:09:59.685850Z",
     "iopub.status.busy": "2023-02-11T10:09:59.685426Z",
     "iopub.status.idle": "2023-02-11T10:09:59.689765Z",
     "shell.execute_reply": "2023-02-11T10:09:59.688926Z"
    },
    "papermill": {
     "duration": 0.033144,
     "end_time": "2023-02-11T10:09:59.691786",
     "exception": false,
     "start_time": "2023-02-11T10:09:59.658642",
     "status": "completed"
    },
    "tags": []
   },
   "outputs": [],
   "source": [
    "# # Drop rows where column 'B' is equal to values in values_to_drop list\n",
    "# district_rainfall_data = district_rainfall_data[~district_rainfall_data['state'].isin(result)]\n",
    "# district_rainfall_data.reset_index(drop=True)\n",
    "# # district_rainfall_data.head()"
   ]
  },
  {
   "cell_type": "markdown",
   "id": "5c1ef5b8",
   "metadata": {
    "papermill": {
     "duration": 0.024969,
     "end_time": "2023-02-11T10:09:59.742325",
     "exception": false,
     "start_time": "2023-02-11T10:09:59.717356",
     "status": "completed"
    },
    "tags": []
   },
   "source": [
    "checking the unique values now"
   ]
  },
  {
   "cell_type": "code",
   "execution_count": 34,
   "id": "e44aa55f",
   "metadata": {
    "execution": {
     "iopub.execute_input": "2023-02-11T10:09:59.794679Z",
     "iopub.status.busy": "2023-02-11T10:09:59.794251Z",
     "iopub.status.idle": "2023-02-11T10:09:59.801235Z",
     "shell.execute_reply": "2023-02-11T10:09:59.800332Z"
    },
    "papermill": {
     "duration": 0.036196,
     "end_time": "2023-02-11T10:09:59.803864",
     "exception": false,
     "start_time": "2023-02-11T10:09:59.767668",
     "status": "completed"
    },
    "tags": []
   },
   "outputs": [
    {
     "name": "stdout",
     "output_type": "stream",
     "text": [
      "35\n"
     ]
    }
   ],
   "source": [
    "drd_unique_districts=district_rainfall_data['district'].unique()\n",
    "drd_unique_states=district_rainfall_data['state'].unique()\n",
    "print(len(drd_unique_states))"
   ]
  },
  {
   "cell_type": "markdown",
   "id": "74e975db",
   "metadata": {
    "papermill": {
     "duration": 0.026225,
     "end_time": "2023-02-11T10:09:59.856791",
     "exception": false,
     "start_time": "2023-02-11T10:09:59.830566",
     "status": "completed"
    },
    "tags": []
   },
   "source": [
    "merging two datasets on the basis of state"
   ]
  },
  {
   "cell_type": "code",
   "execution_count": 35,
   "id": "a3aa53f5",
   "metadata": {
    "execution": {
     "iopub.execute_input": "2023-02-11T10:09:59.912183Z",
     "iopub.status.busy": "2023-02-11T10:09:59.911067Z",
     "iopub.status.idle": "2023-02-11T10:09:59.928680Z",
     "shell.execute_reply": "2023-02-11T10:09:59.927561Z"
    },
    "papermill": {
     "duration": 0.047179,
     "end_time": "2023-02-11T10:09:59.931369",
     "exception": false,
     "start_time": "2023-02-11T10:09:59.884190",
     "status": "completed"
    },
    "tags": []
   },
   "outputs": [],
   "source": [
    "state_merged=pd.merge(agriculture_related_data,district_rainfall_data,on='state',how='outer')"
   ]
  },
  {
   "cell_type": "code",
   "execution_count": 36,
   "id": "16f62dda",
   "metadata": {
    "execution": {
     "iopub.execute_input": "2023-02-11T10:09:59.985717Z",
     "iopub.status.busy": "2023-02-11T10:09:59.984675Z",
     "iopub.status.idle": "2023-02-11T10:10:00.011884Z",
     "shell.execute_reply": "2023-02-11T10:10:00.010637Z"
    },
    "papermill": {
     "duration": 0.057263,
     "end_time": "2023-02-11T10:10:00.014670",
     "exception": false,
     "start_time": "2023-02-11T10:09:59.957407",
     "status": "completed"
    },
    "tags": []
   },
   "outputs": [
    {
     "data": {
      "text/html": [
       "<div>\n",
       "<style scoped>\n",
       "    .dataframe tbody tr th:only-of-type {\n",
       "        vertical-align: middle;\n",
       "    }\n",
       "\n",
       "    .dataframe tbody tr th {\n",
       "        vertical-align: top;\n",
       "    }\n",
       "\n",
       "    .dataframe thead th {\n",
       "        text-align: right;\n",
       "    }\n",
       "</style>\n",
       "<table border=\"1\" class=\"dataframe\">\n",
       "  <thead>\n",
       "    <tr style=\"text-align: right;\">\n",
       "      <th></th>\n",
       "      <th>state</th>\n",
       "      <th>district_x</th>\n",
       "      <th>market</th>\n",
       "      <th>commodity</th>\n",
       "      <th>variety</th>\n",
       "      <th>arrival_date</th>\n",
       "      <th>min_price</th>\n",
       "      <th>max_price</th>\n",
       "      <th>modal_price</th>\n",
       "      <th>district_y</th>\n",
       "      <th>...</th>\n",
       "      <th>AUG</th>\n",
       "      <th>SEP</th>\n",
       "      <th>OCT</th>\n",
       "      <th>NOV</th>\n",
       "      <th>DEC</th>\n",
       "      <th>ANNUAL</th>\n",
       "      <th>Jan-Feb</th>\n",
       "      <th>Mar-May</th>\n",
       "      <th>Jun-Sep</th>\n",
       "      <th>Oct-Dec</th>\n",
       "    </tr>\n",
       "  </thead>\n",
       "  <tbody>\n",
       "    <tr>\n",
       "      <th>0</th>\n",
       "      <td>Andaman and Nicobar</td>\n",
       "      <td>South Andaman</td>\n",
       "      <td>Port Blair</td>\n",
       "      <td>Amaranthus</td>\n",
       "      <td>Amaranthus</td>\n",
       "      <td>04/03/2019</td>\n",
       "      <td>6000.0</td>\n",
       "      <td>8000.0</td>\n",
       "      <td>7000.0</td>\n",
       "      <td>NaN</td>\n",
       "      <td>...</td>\n",
       "      <td>NaN</td>\n",
       "      <td>NaN</td>\n",
       "      <td>NaN</td>\n",
       "      <td>NaN</td>\n",
       "      <td>NaN</td>\n",
       "      <td>NaN</td>\n",
       "      <td>NaN</td>\n",
       "      <td>NaN</td>\n",
       "      <td>NaN</td>\n",
       "      <td>NaN</td>\n",
       "    </tr>\n",
       "    <tr>\n",
       "      <th>1</th>\n",
       "      <td>Andaman and Nicobar</td>\n",
       "      <td>South Andaman</td>\n",
       "      <td>Port Blair</td>\n",
       "      <td>Banana - Green</td>\n",
       "      <td>Banana - Green</td>\n",
       "      <td>04/03/2019</td>\n",
       "      <td>4500.0</td>\n",
       "      <td>5500.0</td>\n",
       "      <td>5000.0</td>\n",
       "      <td>NaN</td>\n",
       "      <td>...</td>\n",
       "      <td>NaN</td>\n",
       "      <td>NaN</td>\n",
       "      <td>NaN</td>\n",
       "      <td>NaN</td>\n",
       "      <td>NaN</td>\n",
       "      <td>NaN</td>\n",
       "      <td>NaN</td>\n",
       "      <td>NaN</td>\n",
       "      <td>NaN</td>\n",
       "      <td>NaN</td>\n",
       "    </tr>\n",
       "    <tr>\n",
       "      <th>2</th>\n",
       "      <td>Andaman and Nicobar</td>\n",
       "      <td>South Andaman</td>\n",
       "      <td>Port Blair</td>\n",
       "      <td>Bhindi(Ladies Finger)</td>\n",
       "      <td>Bhindi</td>\n",
       "      <td>04/03/2019</td>\n",
       "      <td>6000.0</td>\n",
       "      <td>8000.0</td>\n",
       "      <td>7000.0</td>\n",
       "      <td>NaN</td>\n",
       "      <td>...</td>\n",
       "      <td>NaN</td>\n",
       "      <td>NaN</td>\n",
       "      <td>NaN</td>\n",
       "      <td>NaN</td>\n",
       "      <td>NaN</td>\n",
       "      <td>NaN</td>\n",
       "      <td>NaN</td>\n",
       "      <td>NaN</td>\n",
       "      <td>NaN</td>\n",
       "      <td>NaN</td>\n",
       "    </tr>\n",
       "    <tr>\n",
       "      <th>3</th>\n",
       "      <td>Andaman and Nicobar</td>\n",
       "      <td>South Andaman</td>\n",
       "      <td>Port Blair</td>\n",
       "      <td>Bitter gourd</td>\n",
       "      <td>Other</td>\n",
       "      <td>04/03/2019</td>\n",
       "      <td>6000.0</td>\n",
       "      <td>8000.0</td>\n",
       "      <td>7000.0</td>\n",
       "      <td>NaN</td>\n",
       "      <td>...</td>\n",
       "      <td>NaN</td>\n",
       "      <td>NaN</td>\n",
       "      <td>NaN</td>\n",
       "      <td>NaN</td>\n",
       "      <td>NaN</td>\n",
       "      <td>NaN</td>\n",
       "      <td>NaN</td>\n",
       "      <td>NaN</td>\n",
       "      <td>NaN</td>\n",
       "      <td>NaN</td>\n",
       "    </tr>\n",
       "    <tr>\n",
       "      <th>4</th>\n",
       "      <td>Andaman and Nicobar</td>\n",
       "      <td>South Andaman</td>\n",
       "      <td>Port Blair</td>\n",
       "      <td>Black pepper</td>\n",
       "      <td>Other</td>\n",
       "      <td>04/03/2019</td>\n",
       "      <td>110000.0</td>\n",
       "      <td>130000.0</td>\n",
       "      <td>120000.0</td>\n",
       "      <td>NaN</td>\n",
       "      <td>...</td>\n",
       "      <td>NaN</td>\n",
       "      <td>NaN</td>\n",
       "      <td>NaN</td>\n",
       "      <td>NaN</td>\n",
       "      <td>NaN</td>\n",
       "      <td>NaN</td>\n",
       "      <td>NaN</td>\n",
       "      <td>NaN</td>\n",
       "      <td>NaN</td>\n",
       "      <td>NaN</td>\n",
       "    </tr>\n",
       "  </tbody>\n",
       "</table>\n",
       "<p>5 rows × 27 columns</p>\n",
       "</div>"
      ],
      "text/plain": [
       "                 state     district_x      market              commodity  \\\n",
       "0  Andaman and Nicobar  South Andaman  Port Blair             Amaranthus   \n",
       "1  Andaman and Nicobar  South Andaman  Port Blair         Banana - Green   \n",
       "2  Andaman and Nicobar  South Andaman  Port Blair  Bhindi(Ladies Finger)   \n",
       "3  Andaman and Nicobar  South Andaman  Port Blair           Bitter gourd   \n",
       "4  Andaman and Nicobar  South Andaman  Port Blair           Black pepper   \n",
       "\n",
       "          variety arrival_date  min_price  max_price  modal_price district_y  \\\n",
       "0      Amaranthus   04/03/2019     6000.0     8000.0       7000.0        NaN   \n",
       "1  Banana - Green   04/03/2019     4500.0     5500.0       5000.0        NaN   \n",
       "2          Bhindi   04/03/2019     6000.0     8000.0       7000.0        NaN   \n",
       "3           Other   04/03/2019     6000.0     8000.0       7000.0        NaN   \n",
       "4           Other   04/03/2019   110000.0   130000.0     120000.0        NaN   \n",
       "\n",
       "   ...  AUG  SEP  OCT  NOV  DEC  ANNUAL  Jan-Feb  Mar-May  Jun-Sep  Oct-Dec  \n",
       "0  ...  NaN  NaN  NaN  NaN  NaN     NaN      NaN      NaN      NaN      NaN  \n",
       "1  ...  NaN  NaN  NaN  NaN  NaN     NaN      NaN      NaN      NaN      NaN  \n",
       "2  ...  NaN  NaN  NaN  NaN  NaN     NaN      NaN      NaN      NaN      NaN  \n",
       "3  ...  NaN  NaN  NaN  NaN  NaN     NaN      NaN      NaN      NaN      NaN  \n",
       "4  ...  NaN  NaN  NaN  NaN  NaN     NaN      NaN      NaN      NaN      NaN  \n",
       "\n",
       "[5 rows x 27 columns]"
      ]
     },
     "execution_count": 36,
     "metadata": {},
     "output_type": "execute_result"
    }
   ],
   "source": [
    "state_merged.head()"
   ]
  },
  {
   "cell_type": "markdown",
   "id": "4ff0284d",
   "metadata": {
    "papermill": {
     "duration": 0.026126,
     "end_time": "2023-02-11T10:10:00.067494",
     "exception": false,
     "start_time": "2023-02-11T10:10:00.041368",
     "status": "completed"
    },
    "tags": []
   },
   "source": [
    "kill me now if i get a lot of na values"
   ]
  },
  {
   "cell_type": "code",
   "execution_count": 37,
   "id": "32e3cf8f",
   "metadata": {
    "execution": {
     "iopub.execute_input": "2023-02-11T10:10:00.124286Z",
     "iopub.status.busy": "2023-02-11T10:10:00.123120Z",
     "iopub.status.idle": "2023-02-11T10:10:00.132914Z",
     "shell.execute_reply": "2023-02-11T10:10:00.131677Z"
    },
    "papermill": {
     "duration": 0.040234,
     "end_time": "2023-02-11T10:10:00.135423",
     "exception": false,
     "start_time": "2023-02-11T10:10:00.095189",
     "status": "completed"
    },
    "tags": []
   },
   "outputs": [
    {
     "data": {
      "text/plain": [
       "45412"
      ]
     },
     "execution_count": 37,
     "metadata": {},
     "output_type": "execute_result"
    }
   ],
   "source": [
    "state_merged.isna().sum().sum()"
   ]
  },
  {
   "cell_type": "code",
   "execution_count": 38,
   "id": "9107cd40",
   "metadata": {
    "execution": {
     "iopub.execute_input": "2023-02-11T10:10:00.190658Z",
     "iopub.status.busy": "2023-02-11T10:10:00.189868Z",
     "iopub.status.idle": "2023-02-11T10:10:00.200503Z",
     "shell.execute_reply": "2023-02-11T10:10:00.198770Z"
    },
    "papermill": {
     "duration": 0.041462,
     "end_time": "2023-02-11T10:10:00.203198",
     "exception": false,
     "start_time": "2023-02-11T10:10:00.161736",
     "status": "completed"
    },
    "tags": []
   },
   "outputs": [
    {
     "name": "stdout",
     "output_type": "stream",
     "text": [
      "state            0.000000\n",
      "district_x      22.264675\n",
      "market          22.264675\n",
      "commodity       22.264675\n",
      "variety         22.264675\n",
      "arrival_date    22.264675\n",
      "min_price       22.264675\n",
      "max_price       22.264675\n",
      "modal_price     22.264675\n",
      "district_y      77.735325\n",
      "JAN             77.735325\n",
      "FEB             77.735325\n",
      "MAR             77.735325\n",
      "APR             77.735325\n",
      "MAY             77.735325\n",
      "JUN             77.735325\n",
      "JUL             77.735325\n",
      "AUG             77.735325\n",
      "SEP             77.735325\n",
      "OCT             77.735325\n",
      "NOV             77.735325\n",
      "DEC             77.735325\n",
      "ANNUAL          77.735325\n",
      "Jan-Feb         77.735325\n",
      "Mar-May         77.735325\n",
      "Jun-Sep         77.735325\n",
      "Oct-Dec         77.735325\n",
      "dtype: float64\n"
     ]
    }
   ],
   "source": [
    "missing_values = state_merged.isna().mean() * 100\n",
    "\n",
    "print(missing_values)"
   ]
  },
  {
   "cell_type": "markdown",
   "id": "ec2032df",
   "metadata": {
    "papermill": {
     "duration": 0.026498,
     "end_time": "2023-02-11T10:10:00.258530",
     "exception": false,
     "start_time": "2023-02-11T10:10:00.232032",
     "status": "completed"
    },
    "tags": []
   },
   "source": []
  },
  {
   "cell_type": "code",
   "execution_count": 39,
   "id": "41afe67f",
   "metadata": {
    "execution": {
     "iopub.execute_input": "2023-02-11T10:10:00.315407Z",
     "iopub.status.busy": "2023-02-11T10:10:00.315015Z",
     "iopub.status.idle": "2023-02-11T10:10:00.319479Z",
     "shell.execute_reply": "2023-02-11T10:10:00.318217Z"
    },
    "papermill": {
     "duration": 0.036307,
     "end_time": "2023-02-11T10:10:00.321895",
     "exception": false,
     "start_time": "2023-02-11T10:10:00.285588",
     "status": "completed"
    },
    "tags": []
   },
   "outputs": [],
   "source": [
    "# Impute missing values with the mean of the column\n",
    "# state_merged.fillna(state_merged.mean(), inplace=True)"
   ]
  },
  {
   "cell_type": "code",
   "execution_count": 40,
   "id": "b241d904",
   "metadata": {
    "execution": {
     "iopub.execute_input": "2023-02-11T10:10:00.377599Z",
     "iopub.status.busy": "2023-02-11T10:10:00.376387Z",
     "iopub.status.idle": "2023-02-11T10:10:00.381990Z",
     "shell.execute_reply": "2023-02-11T10:10:00.380739Z"
    },
    "papermill": {
     "duration": 0.036045,
     "end_time": "2023-02-11T10:10:00.384504",
     "exception": false,
     "start_time": "2023-02-11T10:10:00.348459",
     "status": "completed"
    },
    "tags": []
   },
   "outputs": [],
   "source": [
    "# state_merged.isna().sum().sum()"
   ]
  },
  {
   "cell_type": "code",
   "execution_count": 41,
   "id": "45c23e1d",
   "metadata": {
    "execution": {
     "iopub.execute_input": "2023-02-11T10:10:00.442393Z",
     "iopub.status.busy": "2023-02-11T10:10:00.441932Z",
     "iopub.status.idle": "2023-02-11T10:10:00.448921Z",
     "shell.execute_reply": "2023-02-11T10:10:00.447246Z"
    },
    "papermill": {
     "duration": 0.039715,
     "end_time": "2023-02-11T10:10:00.452302",
     "exception": false,
     "start_time": "2023-02-11T10:10:00.412587",
     "status": "completed"
    },
    "tags": []
   },
   "outputs": [
    {
     "name": "stdout",
     "output_type": "stream",
     "text": [
      "['ANDAMAN & NICOBAR ISLANDS' 'ARUNACHAL PRADESH' 'ASSAM & MEGHALAYA'\n",
      " 'NAGA MANI MIZO TRIPURA' 'SUB HIMALAYAN WEST BENGAL & SIKKIM'\n",
      " 'GANGETIC WEST BENGAL' 'ORISSA' 'JHARKHAND' 'BIHAR' 'EAST UTTAR PRADESH'\n",
      " 'WEST UTTAR PRADESH' 'UTTARAKHAND' 'HARYANA DELHI & CHANDIGARH' 'PUNJAB'\n",
      " 'HIMACHAL PRADESH' 'JAMMU & KASHMIR' 'WEST RAJASTHAN' 'EAST RAJASTHAN'\n",
      " 'WEST MADHYA PRADESH' 'EAST MADHYA PRADESH' 'GUJARAT REGION'\n",
      " 'SAURASHTRA & KUTCH' 'KONKAN & GOA' 'MADHYA MAHARASHTRA' 'MATATHWADA'\n",
      " 'VIDARBHA' 'CHHATTISGARH' 'COASTAL ANDHRA PRADESH' 'TELANGANA'\n",
      " 'RAYALSEEMA' 'TAMIL NADU' 'COASTAL KARNATAKA' 'NORTH INTERIOR KARNATAKA'\n",
      " 'SOUTH INTERIOR KARNATAKA' 'KERALA' 'LAKSHADWEEP']\n"
     ]
    }
   ],
   "source": [
    "subdivisions=india_rainfall_data['SUBDIVISION'].unique()\n",
    "print(subdivisions)"
   ]
  },
  {
   "cell_type": "code",
   "execution_count": 42,
   "id": "f5434dfd",
   "metadata": {
    "execution": {
     "iopub.execute_input": "2023-02-11T10:10:00.507882Z",
     "iopub.status.busy": "2023-02-11T10:10:00.506648Z",
     "iopub.status.idle": "2023-02-11T10:10:00.513394Z",
     "shell.execute_reply": "2023-02-11T10:10:00.511838Z"
    },
    "papermill": {
     "duration": 0.036935,
     "end_time": "2023-02-11T10:10:00.515817",
     "exception": false,
     "start_time": "2023-02-11T10:10:00.478882",
     "status": "completed"
    },
    "tags": []
   },
   "outputs": [
    {
     "name": "stdout",
     "output_type": "stream",
     "text": [
      "36\n"
     ]
    }
   ],
   "source": [
    "print(len(subdivisions))"
   ]
  },
  {
   "cell_type": "code",
   "execution_count": 43,
   "id": "5ae8c4b2",
   "metadata": {
    "execution": {
     "iopub.execute_input": "2023-02-11T10:10:00.571146Z",
     "iopub.status.busy": "2023-02-11T10:10:00.570417Z",
     "iopub.status.idle": "2023-02-11T10:10:00.597597Z",
     "shell.execute_reply": "2023-02-11T10:10:00.596607Z"
    },
    "papermill": {
     "duration": 0.057386,
     "end_time": "2023-02-11T10:10:00.599916",
     "exception": false,
     "start_time": "2023-02-11T10:10:00.542530",
     "status": "completed"
    },
    "tags": []
   },
   "outputs": [
    {
     "data": {
      "text/html": [
       "<div>\n",
       "<style scoped>\n",
       "    .dataframe tbody tr th:only-of-type {\n",
       "        vertical-align: middle;\n",
       "    }\n",
       "\n",
       "    .dataframe tbody tr th {\n",
       "        vertical-align: top;\n",
       "    }\n",
       "\n",
       "    .dataframe thead th {\n",
       "        text-align: right;\n",
       "    }\n",
       "</style>\n",
       "<table border=\"1\" class=\"dataframe\">\n",
       "  <thead>\n",
       "    <tr style=\"text-align: right;\">\n",
       "      <th></th>\n",
       "      <th>state</th>\n",
       "      <th>YEAR</th>\n",
       "      <th>JAN</th>\n",
       "      <th>FEB</th>\n",
       "      <th>MAR</th>\n",
       "      <th>APR</th>\n",
       "      <th>MAY</th>\n",
       "      <th>JUN</th>\n",
       "      <th>JUL</th>\n",
       "      <th>AUG</th>\n",
       "      <th>SEP</th>\n",
       "      <th>OCT</th>\n",
       "      <th>NOV</th>\n",
       "      <th>DEC</th>\n",
       "      <th>ANNUAL</th>\n",
       "      <th>Jan-Feb</th>\n",
       "      <th>Mar-May</th>\n",
       "      <th>Jun-Sep</th>\n",
       "      <th>Oct-Dec</th>\n",
       "    </tr>\n",
       "  </thead>\n",
       "  <tbody>\n",
       "    <tr>\n",
       "      <th>0</th>\n",
       "      <td>ANDAMAN &amp; NICOBAR ISLANDS</td>\n",
       "      <td>1901</td>\n",
       "      <td>49.2</td>\n",
       "      <td>87.1</td>\n",
       "      <td>29.2</td>\n",
       "      <td>2.3</td>\n",
       "      <td>528.8</td>\n",
       "      <td>517.5</td>\n",
       "      <td>365.1</td>\n",
       "      <td>481.1</td>\n",
       "      <td>332.6</td>\n",
       "      <td>388.5</td>\n",
       "      <td>558.2</td>\n",
       "      <td>33.6</td>\n",
       "      <td>3373.2</td>\n",
       "      <td>136.3</td>\n",
       "      <td>560.3</td>\n",
       "      <td>1696.3</td>\n",
       "      <td>980.3</td>\n",
       "    </tr>\n",
       "    <tr>\n",
       "      <th>1</th>\n",
       "      <td>ANDAMAN &amp; NICOBAR ISLANDS</td>\n",
       "      <td>1902</td>\n",
       "      <td>0.0</td>\n",
       "      <td>159.8</td>\n",
       "      <td>12.2</td>\n",
       "      <td>0.0</td>\n",
       "      <td>446.1</td>\n",
       "      <td>537.1</td>\n",
       "      <td>228.9</td>\n",
       "      <td>753.7</td>\n",
       "      <td>666.2</td>\n",
       "      <td>197.2</td>\n",
       "      <td>359.0</td>\n",
       "      <td>160.5</td>\n",
       "      <td>3520.7</td>\n",
       "      <td>159.8</td>\n",
       "      <td>458.3</td>\n",
       "      <td>2185.9</td>\n",
       "      <td>716.7</td>\n",
       "    </tr>\n",
       "    <tr>\n",
       "      <th>2</th>\n",
       "      <td>ANDAMAN &amp; NICOBAR ISLANDS</td>\n",
       "      <td>1903</td>\n",
       "      <td>12.7</td>\n",
       "      <td>144.0</td>\n",
       "      <td>0.0</td>\n",
       "      <td>1.0</td>\n",
       "      <td>235.1</td>\n",
       "      <td>479.9</td>\n",
       "      <td>728.4</td>\n",
       "      <td>326.7</td>\n",
       "      <td>339.0</td>\n",
       "      <td>181.2</td>\n",
       "      <td>284.4</td>\n",
       "      <td>225.0</td>\n",
       "      <td>2957.4</td>\n",
       "      <td>156.7</td>\n",
       "      <td>236.1</td>\n",
       "      <td>1874.0</td>\n",
       "      <td>690.6</td>\n",
       "    </tr>\n",
       "    <tr>\n",
       "      <th>3</th>\n",
       "      <td>ANDAMAN &amp; NICOBAR ISLANDS</td>\n",
       "      <td>1904</td>\n",
       "      <td>9.4</td>\n",
       "      <td>14.7</td>\n",
       "      <td>0.0</td>\n",
       "      <td>202.4</td>\n",
       "      <td>304.5</td>\n",
       "      <td>495.1</td>\n",
       "      <td>502.0</td>\n",
       "      <td>160.1</td>\n",
       "      <td>820.4</td>\n",
       "      <td>222.2</td>\n",
       "      <td>308.7</td>\n",
       "      <td>40.1</td>\n",
       "      <td>3079.6</td>\n",
       "      <td>24.1</td>\n",
       "      <td>506.9</td>\n",
       "      <td>1977.6</td>\n",
       "      <td>571.0</td>\n",
       "    </tr>\n",
       "    <tr>\n",
       "      <th>4</th>\n",
       "      <td>ANDAMAN &amp; NICOBAR ISLANDS</td>\n",
       "      <td>1905</td>\n",
       "      <td>1.3</td>\n",
       "      <td>0.0</td>\n",
       "      <td>3.3</td>\n",
       "      <td>26.9</td>\n",
       "      <td>279.5</td>\n",
       "      <td>628.7</td>\n",
       "      <td>368.7</td>\n",
       "      <td>330.5</td>\n",
       "      <td>297.0</td>\n",
       "      <td>260.7</td>\n",
       "      <td>25.4</td>\n",
       "      <td>344.7</td>\n",
       "      <td>2566.7</td>\n",
       "      <td>1.3</td>\n",
       "      <td>309.7</td>\n",
       "      <td>1624.9</td>\n",
       "      <td>630.8</td>\n",
       "    </tr>\n",
       "  </tbody>\n",
       "</table>\n",
       "</div>"
      ],
      "text/plain": [
       "                       state  YEAR   JAN    FEB   MAR    APR    MAY    JUN  \\\n",
       "0  ANDAMAN & NICOBAR ISLANDS  1901  49.2   87.1  29.2    2.3  528.8  517.5   \n",
       "1  ANDAMAN & NICOBAR ISLANDS  1902   0.0  159.8  12.2    0.0  446.1  537.1   \n",
       "2  ANDAMAN & NICOBAR ISLANDS  1903  12.7  144.0   0.0    1.0  235.1  479.9   \n",
       "3  ANDAMAN & NICOBAR ISLANDS  1904   9.4   14.7   0.0  202.4  304.5  495.1   \n",
       "4  ANDAMAN & NICOBAR ISLANDS  1905   1.3    0.0   3.3   26.9  279.5  628.7   \n",
       "\n",
       "     JUL    AUG    SEP    OCT    NOV    DEC  ANNUAL  Jan-Feb  Mar-May  \\\n",
       "0  365.1  481.1  332.6  388.5  558.2   33.6  3373.2    136.3    560.3   \n",
       "1  228.9  753.7  666.2  197.2  359.0  160.5  3520.7    159.8    458.3   \n",
       "2  728.4  326.7  339.0  181.2  284.4  225.0  2957.4    156.7    236.1   \n",
       "3  502.0  160.1  820.4  222.2  308.7   40.1  3079.6     24.1    506.9   \n",
       "4  368.7  330.5  297.0  260.7   25.4  344.7  2566.7      1.3    309.7   \n",
       "\n",
       "   Jun-Sep  Oct-Dec  \n",
       "0   1696.3    980.3  \n",
       "1   2185.9    716.7  \n",
       "2   1874.0    690.6  \n",
       "3   1977.6    571.0  \n",
       "4   1624.9    630.8  "
      ]
     },
     "execution_count": 43,
     "metadata": {},
     "output_type": "execute_result"
    }
   ],
   "source": [
    "india_rainfall_data.rename(columns={'SUBDIVISION': 'state'},inplace=True)\n",
    "india_rainfall_data.head()"
   ]
  },
  {
   "cell_type": "code",
   "execution_count": 44,
   "id": "40dbf0c5",
   "metadata": {
    "execution": {
     "iopub.execute_input": "2023-02-11T10:10:00.657277Z",
     "iopub.status.busy": "2023-02-11T10:10:00.656550Z",
     "iopub.status.idle": "2023-02-11T10:10:00.893024Z",
     "shell.execute_reply": "2023-02-11T10:10:00.891338Z"
    },
    "papermill": {
     "duration": 0.268593,
     "end_time": "2023-02-11T10:10:00.895443",
     "exception": false,
     "start_time": "2023-02-11T10:10:00.626850",
     "status": "completed"
    },
    "tags": []
   },
   "outputs": [
    {
     "name": "stderr",
     "output_type": "stream",
     "text": [
      "/opt/conda/lib/python3.7/site-packages/ipykernel_launcher.py:5: FutureWarning: Dropping of nuisance columns in DataFrame reductions (with 'numeric_only=None') is deprecated; in a future version this will raise TypeError.  Select only valid columns before calling the reduction.\n",
      "  \"\"\"\n"
     ]
    },
    {
     "data": {
      "text/html": [
       "<div>\n",
       "<style scoped>\n",
       "    .dataframe tbody tr th:only-of-type {\n",
       "        vertical-align: middle;\n",
       "    }\n",
       "\n",
       "    .dataframe tbody tr th {\n",
       "        vertical-align: top;\n",
       "    }\n",
       "\n",
       "    .dataframe thead th {\n",
       "        text-align: right;\n",
       "    }\n",
       "</style>\n",
       "<table border=\"1\" class=\"dataframe\">\n",
       "  <thead>\n",
       "    <tr style=\"text-align: right;\">\n",
       "      <th></th>\n",
       "      <th>state</th>\n",
       "      <th>YEAR</th>\n",
       "      <th>JAN_x</th>\n",
       "      <th>FEB_x</th>\n",
       "      <th>MAR_x</th>\n",
       "      <th>APR_x</th>\n",
       "      <th>MAY_x</th>\n",
       "      <th>JUN_x</th>\n",
       "      <th>JUL_x</th>\n",
       "      <th>AUG_x</th>\n",
       "      <th>...</th>\n",
       "      <th>Jun-Sep_y</th>\n",
       "      <th>Oct-Dec_y</th>\n",
       "      <th>district_y</th>\n",
       "      <th>market</th>\n",
       "      <th>commodity</th>\n",
       "      <th>variety</th>\n",
       "      <th>arrival_date</th>\n",
       "      <th>min_price</th>\n",
       "      <th>max_price</th>\n",
       "      <th>modal_price</th>\n",
       "    </tr>\n",
       "  </thead>\n",
       "  <tbody>\n",
       "    <tr>\n",
       "      <th>0</th>\n",
       "      <td>ANDAMAN &amp; NICOBAR ISLANDS</td>\n",
       "      <td>1901.0</td>\n",
       "      <td>49.2</td>\n",
       "      <td>87.1</td>\n",
       "      <td>29.2</td>\n",
       "      <td>2.3</td>\n",
       "      <td>528.8</td>\n",
       "      <td>517.5</td>\n",
       "      <td>365.1</td>\n",
       "      <td>481.1</td>\n",
       "      <td>...</td>\n",
       "      <td>1007.78413</td>\n",
       "      <td>207.296242</td>\n",
       "      <td>NaN</td>\n",
       "      <td>NaN</td>\n",
       "      <td>NaN</td>\n",
       "      <td>NaN</td>\n",
       "      <td>NaN</td>\n",
       "      <td>2456.230563</td>\n",
       "      <td>2855.890527</td>\n",
       "      <td>2698.865952</td>\n",
       "    </tr>\n",
       "    <tr>\n",
       "      <th>1</th>\n",
       "      <td>ANDAMAN &amp; NICOBAR ISLANDS</td>\n",
       "      <td>1902.0</td>\n",
       "      <td>0.0</td>\n",
       "      <td>159.8</td>\n",
       "      <td>12.2</td>\n",
       "      <td>0.0</td>\n",
       "      <td>446.1</td>\n",
       "      <td>537.1</td>\n",
       "      <td>228.9</td>\n",
       "      <td>753.7</td>\n",
       "      <td>...</td>\n",
       "      <td>1007.78413</td>\n",
       "      <td>207.296242</td>\n",
       "      <td>NaN</td>\n",
       "      <td>NaN</td>\n",
       "      <td>NaN</td>\n",
       "      <td>NaN</td>\n",
       "      <td>NaN</td>\n",
       "      <td>2456.230563</td>\n",
       "      <td>2855.890527</td>\n",
       "      <td>2698.865952</td>\n",
       "    </tr>\n",
       "    <tr>\n",
       "      <th>2</th>\n",
       "      <td>ANDAMAN &amp; NICOBAR ISLANDS</td>\n",
       "      <td>1903.0</td>\n",
       "      <td>12.7</td>\n",
       "      <td>144.0</td>\n",
       "      <td>0.0</td>\n",
       "      <td>1.0</td>\n",
       "      <td>235.1</td>\n",
       "      <td>479.9</td>\n",
       "      <td>728.4</td>\n",
       "      <td>326.7</td>\n",
       "      <td>...</td>\n",
       "      <td>1007.78413</td>\n",
       "      <td>207.296242</td>\n",
       "      <td>NaN</td>\n",
       "      <td>NaN</td>\n",
       "      <td>NaN</td>\n",
       "      <td>NaN</td>\n",
       "      <td>NaN</td>\n",
       "      <td>2456.230563</td>\n",
       "      <td>2855.890527</td>\n",
       "      <td>2698.865952</td>\n",
       "    </tr>\n",
       "    <tr>\n",
       "      <th>3</th>\n",
       "      <td>ANDAMAN &amp; NICOBAR ISLANDS</td>\n",
       "      <td>1904.0</td>\n",
       "      <td>9.4</td>\n",
       "      <td>14.7</td>\n",
       "      <td>0.0</td>\n",
       "      <td>202.4</td>\n",
       "      <td>304.5</td>\n",
       "      <td>495.1</td>\n",
       "      <td>502.0</td>\n",
       "      <td>160.1</td>\n",
       "      <td>...</td>\n",
       "      <td>1007.78413</td>\n",
       "      <td>207.296242</td>\n",
       "      <td>NaN</td>\n",
       "      <td>NaN</td>\n",
       "      <td>NaN</td>\n",
       "      <td>NaN</td>\n",
       "      <td>NaN</td>\n",
       "      <td>2456.230563</td>\n",
       "      <td>2855.890527</td>\n",
       "      <td>2698.865952</td>\n",
       "    </tr>\n",
       "    <tr>\n",
       "      <th>4</th>\n",
       "      <td>ANDAMAN &amp; NICOBAR ISLANDS</td>\n",
       "      <td>1905.0</td>\n",
       "      <td>1.3</td>\n",
       "      <td>0.0</td>\n",
       "      <td>3.3</td>\n",
       "      <td>26.9</td>\n",
       "      <td>279.5</td>\n",
       "      <td>628.7</td>\n",
       "      <td>368.7</td>\n",
       "      <td>330.5</td>\n",
       "      <td>...</td>\n",
       "      <td>1007.78413</td>\n",
       "      <td>207.296242</td>\n",
       "      <td>NaN</td>\n",
       "      <td>NaN</td>\n",
       "      <td>NaN</td>\n",
       "      <td>NaN</td>\n",
       "      <td>NaN</td>\n",
       "      <td>2456.230563</td>\n",
       "      <td>2855.890527</td>\n",
       "      <td>2698.865952</td>\n",
       "    </tr>\n",
       "  </tbody>\n",
       "</table>\n",
       "<p>5 rows × 45 columns</p>\n",
       "</div>"
      ],
      "text/plain": [
       "                       state    YEAR  JAN_x  FEB_x  MAR_x  APR_x  MAY_x  \\\n",
       "0  ANDAMAN & NICOBAR ISLANDS  1901.0   49.2   87.1   29.2    2.3  528.8   \n",
       "1  ANDAMAN & NICOBAR ISLANDS  1902.0    0.0  159.8   12.2    0.0  446.1   \n",
       "2  ANDAMAN & NICOBAR ISLANDS  1903.0   12.7  144.0    0.0    1.0  235.1   \n",
       "3  ANDAMAN & NICOBAR ISLANDS  1904.0    9.4   14.7    0.0  202.4  304.5   \n",
       "4  ANDAMAN & NICOBAR ISLANDS  1905.0    1.3    0.0    3.3   26.9  279.5   \n",
       "\n",
       "   JUN_x  JUL_x  AUG_x  ...   Jun-Sep_y   Oct-Dec_y  district_y  market  \\\n",
       "0  517.5  365.1  481.1  ...  1007.78413  207.296242         NaN     NaN   \n",
       "1  537.1  228.9  753.7  ...  1007.78413  207.296242         NaN     NaN   \n",
       "2  479.9  728.4  326.7  ...  1007.78413  207.296242         NaN     NaN   \n",
       "3  495.1  502.0  160.1  ...  1007.78413  207.296242         NaN     NaN   \n",
       "4  628.7  368.7  330.5  ...  1007.78413  207.296242         NaN     NaN   \n",
       "\n",
       "   commodity  variety  arrival_date    min_price    max_price  modal_price  \n",
       "0        NaN      NaN           NaN  2456.230563  2855.890527  2698.865952  \n",
       "1        NaN      NaN           NaN  2456.230563  2855.890527  2698.865952  \n",
       "2        NaN      NaN           NaN  2456.230563  2855.890527  2698.865952  \n",
       "3        NaN      NaN           NaN  2456.230563  2855.890527  2698.865952  \n",
       "4        NaN      NaN           NaN  2456.230563  2855.890527  2698.865952  \n",
       "\n",
       "[5 rows x 45 columns]"
      ]
     },
     "execution_count": 44,
     "metadata": {},
     "output_type": "execute_result"
    }
   ],
   "source": [
    "merged_dataset = pd.merge(india_rainfall_data,district_rainfall_data, on='state', how='outer')\n",
    "merged_dataset = pd.merge(merged_dataset,agriculture_related_data, on='state', how='outer')\n",
    "\n",
    "# Impute all NaN values with the mean value of each column\n",
    "merged_dataset.fillna(merged_dataset.mean(), inplace=True)\n",
    "\n",
    "# Print the head of the merged dataset\n",
    "merged_dataset.head()"
   ]
  },
  {
   "cell_type": "markdown",
   "id": "65044cb4",
   "metadata": {
    "papermill": {
     "duration": 0.027282,
     "end_time": "2023-02-11T10:10:00.949993",
     "exception": false,
     "start_time": "2023-02-11T10:10:00.922711",
     "status": "completed"
    },
    "tags": []
   },
   "source": [
    "please"
   ]
  },
  {
   "cell_type": "code",
   "execution_count": 45,
   "id": "defb26a7",
   "metadata": {
    "execution": {
     "iopub.execute_input": "2023-02-11T10:10:01.007142Z",
     "iopub.status.busy": "2023-02-11T10:10:01.006692Z",
     "iopub.status.idle": "2023-02-11T10:10:01.023143Z",
     "shell.execute_reply": "2023-02-11T10:10:01.021746Z"
    },
    "papermill": {
     "duration": 0.047195,
     "end_time": "2023-02-11T10:10:01.025451",
     "exception": false,
     "start_time": "2023-02-11T10:10:00.978256",
     "status": "completed"
    },
    "tags": []
   },
   "outputs": [
    {
     "name": "stdout",
     "output_type": "stream",
     "text": [
      "10.616104747729675\n"
     ]
    }
   ],
   "source": [
    "missing_values_count = merged_dataset.isnull().sum()\n",
    "# how many total missing values do we have?\n",
    "total_cells = np.product(merged_dataset.shape)\n",
    "total_missing = missing_values_count.sum()\n",
    "\n",
    "# percent of data that is missing\n",
    "percent_missing = (total_missing/total_cells) * 100\n",
    "print(percent_missing)"
   ]
  },
  {
   "cell_type": "code",
   "execution_count": 46,
   "id": "4d637fec",
   "metadata": {
    "execution": {
     "iopub.execute_input": "2023-02-11T10:10:01.082933Z",
     "iopub.status.busy": "2023-02-11T10:10:01.082257Z",
     "iopub.status.idle": "2023-02-11T10:10:01.088061Z",
     "shell.execute_reply": "2023-02-11T10:10:01.087138Z"
    },
    "papermill": {
     "duration": 0.036923,
     "end_time": "2023-02-11T10:10:01.090113",
     "exception": false,
     "start_time": "2023-02-11T10:10:01.053190",
     "status": "completed"
    },
    "tags": []
   },
   "outputs": [
    {
     "data": {
      "text/plain": [
       "123038"
      ]
     },
     "execution_count": 46,
     "metadata": {},
     "output_type": "execute_result"
    }
   ],
   "source": [
    "total_missing"
   ]
  },
  {
   "cell_type": "code",
   "execution_count": 47,
   "id": "128570b6",
   "metadata": {
    "execution": {
     "iopub.execute_input": "2023-02-11T10:10:01.147230Z",
     "iopub.status.busy": "2023-02-11T10:10:01.146806Z",
     "iopub.status.idle": "2023-02-11T10:10:01.153242Z",
     "shell.execute_reply": "2023-02-11T10:10:01.152145Z"
    },
    "papermill": {
     "duration": 0.037918,
     "end_time": "2023-02-11T10:10:01.155419",
     "exception": false,
     "start_time": "2023-02-11T10:10:01.117501",
     "status": "completed"
    },
    "tags": []
   },
   "outputs": [
    {
     "data": {
      "text/plain": [
       "1158975"
      ]
     },
     "execution_count": 47,
     "metadata": {},
     "output_type": "execute_result"
    }
   ],
   "source": [
    "total_cells"
   ]
  },
  {
   "cell_type": "code",
   "execution_count": 48,
   "id": "b21effa2",
   "metadata": {
    "execution": {
     "iopub.execute_input": "2023-02-11T10:10:01.211661Z",
     "iopub.status.busy": "2023-02-11T10:10:01.211246Z",
     "iopub.status.idle": "2023-02-11T10:10:01.218736Z",
     "shell.execute_reply": "2023-02-11T10:10:01.217715Z"
    },
    "papermill": {
     "duration": 0.038144,
     "end_time": "2023-02-11T10:10:01.220881",
     "exception": false,
     "start_time": "2023-02-11T10:10:01.182737",
     "status": "completed"
    },
    "tags": []
   },
   "outputs": [
    {
     "data": {
      "text/plain": [
       "state               0\n",
       "YEAR                0\n",
       "JAN_x               0\n",
       "FEB_x               0\n",
       "MAR_x               0\n",
       "APR_x               0\n",
       "MAY_x               0\n",
       "JUN_x               0\n",
       "JUL_x               0\n",
       "AUG_x               0\n",
       "SEP_x               0\n",
       "OCT_x               0\n",
       "NOV_x               0\n",
       "DEC_x               0\n",
       "ANNUAL_x            0\n",
       "Jan-Feb_x           0\n",
       "Mar-May_x           0\n",
       "Jun-Sep_x           0\n",
       "Oct-Dec_x           0\n",
       "district_x       5453\n",
       "JAN_y               0\n",
       "FEB_y               0\n",
       "MAR_y               0\n",
       "APR_y               0\n",
       "MAY_y               0\n",
       "JUN_y               0\n",
       "JUL_y               0\n",
       "AUG_y               0\n",
       "SEP_y               0\n",
       "OCT_y               0\n",
       "NOV_y               0\n",
       "DEC_y               0\n",
       "ANNUAL_y            0\n",
       "Jan-Feb_y           0\n",
       "Mar-May_y           0\n",
       "Jun-Sep_y           0\n",
       "Oct-Dec_y           0\n",
       "district_y      23517\n",
       "market          23517\n",
       "commodity       23517\n",
       "variety         23517\n",
       "arrival_date    23517\n",
       "min_price           0\n",
       "max_price           0\n",
       "modal_price         0\n",
       "dtype: int64"
      ]
     },
     "execution_count": 48,
     "metadata": {},
     "output_type": "execute_result"
    }
   ],
   "source": [
    "missing_values_count"
   ]
  },
  {
   "cell_type": "code",
   "execution_count": 49,
   "id": "5fced11b",
   "metadata": {
    "execution": {
     "iopub.execute_input": "2023-02-11T10:10:01.277957Z",
     "iopub.status.busy": "2023-02-11T10:10:01.277529Z",
     "iopub.status.idle": "2023-02-11T10:10:01.295263Z",
     "shell.execute_reply": "2023-02-11T10:10:01.294100Z"
    },
    "papermill": {
     "duration": 0.049177,
     "end_time": "2023-02-11T10:10:01.297629",
     "exception": false,
     "start_time": "2023-02-11T10:10:01.248452",
     "status": "completed"
    },
    "tags": []
   },
   "outputs": [
    {
     "data": {
      "text/plain": [
       "state               0\n",
       "YEAR                0\n",
       "JAN_x               0\n",
       "FEB_x               0\n",
       "MAR_x               0\n",
       "APR_x               0\n",
       "MAY_x               0\n",
       "JUN_x               0\n",
       "JUL_x               0\n",
       "AUG_x               0\n",
       "SEP_x               0\n",
       "OCT_x               0\n",
       "NOV_x               0\n",
       "DEC_x               0\n",
       "ANNUAL_x            0\n",
       "Jan-Feb_x           0\n",
       "Mar-May_x           0\n",
       "Jun-Sep_x           0\n",
       "Oct-Dec_x           0\n",
       "district_x       5453\n",
       "JAN_y               0\n",
       "FEB_y               0\n",
       "MAR_y               0\n",
       "APR_y               0\n",
       "MAY_y               0\n",
       "JUN_y               0\n",
       "JUL_y               0\n",
       "AUG_y               0\n",
       "SEP_y               0\n",
       "OCT_y               0\n",
       "NOV_y               0\n",
       "DEC_y               0\n",
       "ANNUAL_y            0\n",
       "Jan-Feb_y           0\n",
       "Mar-May_y           0\n",
       "Jun-Sep_y           0\n",
       "Oct-Dec_y           0\n",
       "district_y      23517\n",
       "market          23517\n",
       "commodity       23517\n",
       "variety         23517\n",
       "arrival_date    23517\n",
       "min_price           0\n",
       "max_price           0\n",
       "modal_price         0\n",
       "dtype: int64"
      ]
     },
     "execution_count": 49,
     "metadata": {},
     "output_type": "execute_result"
    }
   ],
   "source": [
    "merged_dataset.isna().sum()"
   ]
  },
  {
   "cell_type": "code",
   "execution_count": 50,
   "id": "635f3c3f",
   "metadata": {
    "execution": {
     "iopub.execute_input": "2023-02-11T10:10:01.355184Z",
     "iopub.status.busy": "2023-02-11T10:10:01.354761Z",
     "iopub.status.idle": "2023-02-11T10:10:01.369266Z",
     "shell.execute_reply": "2023-02-11T10:10:01.367838Z"
    },
    "papermill": {
     "duration": 0.046204,
     "end_time": "2023-02-11T10:10:01.371816",
     "exception": false,
     "start_time": "2023-02-11T10:10:01.325612",
     "status": "completed"
    },
    "tags": []
   },
   "outputs": [],
   "source": [
    "df=merged_dataset.copy()\n",
    "df.drop(columns=['district_x','district_y','market','commodity','variety','arrival_date'], inplace=True)\n",
    "\n"
   ]
  },
  {
   "cell_type": "code",
   "execution_count": 51,
   "id": "3e13b656",
   "metadata": {
    "execution": {
     "iopub.execute_input": "2023-02-11T10:10:01.428934Z",
     "iopub.status.busy": "2023-02-11T10:10:01.428525Z",
     "iopub.status.idle": "2023-02-11T10:10:01.439824Z",
     "shell.execute_reply": "2023-02-11T10:10:01.438774Z"
    },
    "papermill": {
     "duration": 0.042432,
     "end_time": "2023-02-11T10:10:01.442026",
     "exception": false,
     "start_time": "2023-02-11T10:10:01.399594",
     "status": "completed"
    },
    "tags": []
   },
   "outputs": [
    {
     "data": {
      "text/plain": [
       "0"
      ]
     },
     "execution_count": 51,
     "metadata": {},
     "output_type": "execute_result"
    }
   ],
   "source": [
    "df.isnull().sum().sum()"
   ]
  },
  {
   "cell_type": "code",
   "execution_count": 52,
   "id": "6260fbda",
   "metadata": {
    "execution": {
     "iopub.execute_input": "2023-02-11T10:10:01.499679Z",
     "iopub.status.busy": "2023-02-11T10:10:01.499232Z",
     "iopub.status.idle": "2023-02-11T10:10:01.507693Z",
     "shell.execute_reply": "2023-02-11T10:10:01.506493Z"
    },
    "papermill": {
     "duration": 0.039643,
     "end_time": "2023-02-11T10:10:01.510194",
     "exception": false,
     "start_time": "2023-02-11T10:10:01.470551",
     "status": "completed"
    },
    "tags": []
   },
   "outputs": [],
   "source": [
    "y=df['state']\n",
    "X=df.drop(columns=['state'])"
   ]
  },
  {
   "cell_type": "code",
   "execution_count": 53,
   "id": "5c730754",
   "metadata": {
    "execution": {
     "iopub.execute_input": "2023-02-11T10:10:01.568537Z",
     "iopub.status.busy": "2023-02-11T10:10:01.567255Z",
     "iopub.status.idle": "2023-02-11T10:10:01.597606Z",
     "shell.execute_reply": "2023-02-11T10:10:01.596298Z"
    },
    "papermill": {
     "duration": 0.062196,
     "end_time": "2023-02-11T10:10:01.600023",
     "exception": false,
     "start_time": "2023-02-11T10:10:01.537827",
     "status": "completed"
    },
    "tags": []
   },
   "outputs": [
    {
     "data": {
      "text/html": [
       "<div>\n",
       "<style scoped>\n",
       "    .dataframe tbody tr th:only-of-type {\n",
       "        vertical-align: middle;\n",
       "    }\n",
       "\n",
       "    .dataframe tbody tr th {\n",
       "        vertical-align: top;\n",
       "    }\n",
       "\n",
       "    .dataframe thead th {\n",
       "        text-align: right;\n",
       "    }\n",
       "</style>\n",
       "<table border=\"1\" class=\"dataframe\">\n",
       "  <thead>\n",
       "    <tr style=\"text-align: right;\">\n",
       "      <th></th>\n",
       "      <th>YEAR</th>\n",
       "      <th>JAN_x</th>\n",
       "      <th>FEB_x</th>\n",
       "      <th>MAR_x</th>\n",
       "      <th>APR_x</th>\n",
       "      <th>MAY_x</th>\n",
       "      <th>JUN_x</th>\n",
       "      <th>JUL_x</th>\n",
       "      <th>AUG_x</th>\n",
       "      <th>SEP_x</th>\n",
       "      <th>...</th>\n",
       "      <th>NOV_y</th>\n",
       "      <th>DEC_y</th>\n",
       "      <th>ANNUAL_y</th>\n",
       "      <th>Jan-Feb_y</th>\n",
       "      <th>Mar-May_y</th>\n",
       "      <th>Jun-Sep_y</th>\n",
       "      <th>Oct-Dec_y</th>\n",
       "      <th>min_price</th>\n",
       "      <th>max_price</th>\n",
       "      <th>modal_price</th>\n",
       "    </tr>\n",
       "  </thead>\n",
       "  <tbody>\n",
       "    <tr>\n",
       "      <th>0</th>\n",
       "      <td>1901.0</td>\n",
       "      <td>49.2</td>\n",
       "      <td>87.1</td>\n",
       "      <td>29.2</td>\n",
       "      <td>2.3</td>\n",
       "      <td>528.8</td>\n",
       "      <td>517.5</td>\n",
       "      <td>365.1</td>\n",
       "      <td>481.1</td>\n",
       "      <td>332.6</td>\n",
       "      <td>...</td>\n",
       "      <td>58.700837</td>\n",
       "      <td>28.529795</td>\n",
       "      <td>1427.970678</td>\n",
       "      <td>40.871239</td>\n",
       "      <td>172.019067</td>\n",
       "      <td>1007.78413</td>\n",
       "      <td>207.296242</td>\n",
       "      <td>2456.230563</td>\n",
       "      <td>2855.890527</td>\n",
       "      <td>2698.865952</td>\n",
       "    </tr>\n",
       "    <tr>\n",
       "      <th>1</th>\n",
       "      <td>1902.0</td>\n",
       "      <td>0.0</td>\n",
       "      <td>159.8</td>\n",
       "      <td>12.2</td>\n",
       "      <td>0.0</td>\n",
       "      <td>446.1</td>\n",
       "      <td>537.1</td>\n",
       "      <td>228.9</td>\n",
       "      <td>753.7</td>\n",
       "      <td>666.2</td>\n",
       "      <td>...</td>\n",
       "      <td>58.700837</td>\n",
       "      <td>28.529795</td>\n",
       "      <td>1427.970678</td>\n",
       "      <td>40.871239</td>\n",
       "      <td>172.019067</td>\n",
       "      <td>1007.78413</td>\n",
       "      <td>207.296242</td>\n",
       "      <td>2456.230563</td>\n",
       "      <td>2855.890527</td>\n",
       "      <td>2698.865952</td>\n",
       "    </tr>\n",
       "    <tr>\n",
       "      <th>2</th>\n",
       "      <td>1903.0</td>\n",
       "      <td>12.7</td>\n",
       "      <td>144.0</td>\n",
       "      <td>0.0</td>\n",
       "      <td>1.0</td>\n",
       "      <td>235.1</td>\n",
       "      <td>479.9</td>\n",
       "      <td>728.4</td>\n",
       "      <td>326.7</td>\n",
       "      <td>339.0</td>\n",
       "      <td>...</td>\n",
       "      <td>58.700837</td>\n",
       "      <td>28.529795</td>\n",
       "      <td>1427.970678</td>\n",
       "      <td>40.871239</td>\n",
       "      <td>172.019067</td>\n",
       "      <td>1007.78413</td>\n",
       "      <td>207.296242</td>\n",
       "      <td>2456.230563</td>\n",
       "      <td>2855.890527</td>\n",
       "      <td>2698.865952</td>\n",
       "    </tr>\n",
       "    <tr>\n",
       "      <th>3</th>\n",
       "      <td>1904.0</td>\n",
       "      <td>9.4</td>\n",
       "      <td>14.7</td>\n",
       "      <td>0.0</td>\n",
       "      <td>202.4</td>\n",
       "      <td>304.5</td>\n",
       "      <td>495.1</td>\n",
       "      <td>502.0</td>\n",
       "      <td>160.1</td>\n",
       "      <td>820.4</td>\n",
       "      <td>...</td>\n",
       "      <td>58.700837</td>\n",
       "      <td>28.529795</td>\n",
       "      <td>1427.970678</td>\n",
       "      <td>40.871239</td>\n",
       "      <td>172.019067</td>\n",
       "      <td>1007.78413</td>\n",
       "      <td>207.296242</td>\n",
       "      <td>2456.230563</td>\n",
       "      <td>2855.890527</td>\n",
       "      <td>2698.865952</td>\n",
       "    </tr>\n",
       "    <tr>\n",
       "      <th>4</th>\n",
       "      <td>1905.0</td>\n",
       "      <td>1.3</td>\n",
       "      <td>0.0</td>\n",
       "      <td>3.3</td>\n",
       "      <td>26.9</td>\n",
       "      <td>279.5</td>\n",
       "      <td>628.7</td>\n",
       "      <td>368.7</td>\n",
       "      <td>330.5</td>\n",
       "      <td>297.0</td>\n",
       "      <td>...</td>\n",
       "      <td>58.700837</td>\n",
       "      <td>28.529795</td>\n",
       "      <td>1427.970678</td>\n",
       "      <td>40.871239</td>\n",
       "      <td>172.019067</td>\n",
       "      <td>1007.78413</td>\n",
       "      <td>207.296242</td>\n",
       "      <td>2456.230563</td>\n",
       "      <td>2855.890527</td>\n",
       "      <td>2698.865952</td>\n",
       "    </tr>\n",
       "  </tbody>\n",
       "</table>\n",
       "<p>5 rows × 38 columns</p>\n",
       "</div>"
      ],
      "text/plain": [
       "     YEAR  JAN_x  FEB_x  MAR_x  APR_x  MAY_x  JUN_x  JUL_x  AUG_x  SEP_x  ...  \\\n",
       "0  1901.0   49.2   87.1   29.2    2.3  528.8  517.5  365.1  481.1  332.6  ...   \n",
       "1  1902.0    0.0  159.8   12.2    0.0  446.1  537.1  228.9  753.7  666.2  ...   \n",
       "2  1903.0   12.7  144.0    0.0    1.0  235.1  479.9  728.4  326.7  339.0  ...   \n",
       "3  1904.0    9.4   14.7    0.0  202.4  304.5  495.1  502.0  160.1  820.4  ...   \n",
       "4  1905.0    1.3    0.0    3.3   26.9  279.5  628.7  368.7  330.5  297.0  ...   \n",
       "\n",
       "       NOV_y      DEC_y     ANNUAL_y  Jan-Feb_y   Mar-May_y   Jun-Sep_y  \\\n",
       "0  58.700837  28.529795  1427.970678  40.871239  172.019067  1007.78413   \n",
       "1  58.700837  28.529795  1427.970678  40.871239  172.019067  1007.78413   \n",
       "2  58.700837  28.529795  1427.970678  40.871239  172.019067  1007.78413   \n",
       "3  58.700837  28.529795  1427.970678  40.871239  172.019067  1007.78413   \n",
       "4  58.700837  28.529795  1427.970678  40.871239  172.019067  1007.78413   \n",
       "\n",
       "    Oct-Dec_y    min_price    max_price  modal_price  \n",
       "0  207.296242  2456.230563  2855.890527  2698.865952  \n",
       "1  207.296242  2456.230563  2855.890527  2698.865952  \n",
       "2  207.296242  2456.230563  2855.890527  2698.865952  \n",
       "3  207.296242  2456.230563  2855.890527  2698.865952  \n",
       "4  207.296242  2456.230563  2855.890527  2698.865952  \n",
       "\n",
       "[5 rows x 38 columns]"
      ]
     },
     "execution_count": 53,
     "metadata": {},
     "output_type": "execute_result"
    }
   ],
   "source": [
    "X.head()"
   ]
  },
  {
   "cell_type": "code",
   "execution_count": 54,
   "id": "f90c47fd",
   "metadata": {
    "execution": {
     "iopub.execute_input": "2023-02-11T10:10:01.660068Z",
     "iopub.status.busy": "2023-02-11T10:10:01.659271Z",
     "iopub.status.idle": "2023-02-11T10:10:01.666326Z",
     "shell.execute_reply": "2023-02-11T10:10:01.665344Z"
    },
    "papermill": {
     "duration": 0.039398,
     "end_time": "2023-02-11T10:10:01.668728",
     "exception": false,
     "start_time": "2023-02-11T10:10:01.629330",
     "status": "completed"
    },
    "tags": []
   },
   "outputs": [
    {
     "data": {
      "text/plain": [
       "(25755, 38)"
      ]
     },
     "execution_count": 54,
     "metadata": {},
     "output_type": "execute_result"
    }
   ],
   "source": [
    "X.shape"
   ]
  },
  {
   "cell_type": "code",
   "execution_count": 55,
   "id": "ce2cc22e",
   "metadata": {
    "execution": {
     "iopub.execute_input": "2023-02-11T10:10:01.728664Z",
     "iopub.status.busy": "2023-02-11T10:10:01.727865Z",
     "iopub.status.idle": "2023-02-11T10:10:01.735022Z",
     "shell.execute_reply": "2023-02-11T10:10:01.734134Z"
    },
    "papermill": {
     "duration": 0.039073,
     "end_time": "2023-02-11T10:10:01.737211",
     "exception": false,
     "start_time": "2023-02-11T10:10:01.698138",
     "status": "completed"
    },
    "tags": []
   },
   "outputs": [
    {
     "data": {
      "text/plain": [
       "Index(['YEAR', 'JAN_x', 'FEB_x', 'MAR_x', 'APR_x', 'MAY_x', 'JUN_x', 'JUL_x',\n",
       "       'AUG_x', 'SEP_x', 'OCT_x', 'NOV_x', 'DEC_x', 'ANNUAL_x', 'Jan-Feb_x',\n",
       "       'Mar-May_x', 'Jun-Sep_x', 'Oct-Dec_x', 'JAN_y', 'FEB_y', 'MAR_y',\n",
       "       'APR_y', 'MAY_y', 'JUN_y', 'JUL_y', 'AUG_y', 'SEP_y', 'OCT_y', 'NOV_y',\n",
       "       'DEC_y', 'ANNUAL_y', 'Jan-Feb_y', 'Mar-May_y', 'Jun-Sep_y', 'Oct-Dec_y',\n",
       "       'min_price', 'max_price', 'modal_price'],\n",
       "      dtype='object')"
      ]
     },
     "execution_count": 55,
     "metadata": {},
     "output_type": "execute_result"
    }
   ],
   "source": [
    "X.columns"
   ]
  },
  {
   "cell_type": "code",
   "execution_count": 56,
   "id": "e4097263",
   "metadata": {
    "execution": {
     "iopub.execute_input": "2023-02-11T10:10:01.796096Z",
     "iopub.status.busy": "2023-02-11T10:10:01.795247Z",
     "iopub.status.idle": "2023-02-11T10:10:01.802809Z",
     "shell.execute_reply": "2023-02-11T10:10:01.801872Z"
    },
    "papermill": {
     "duration": 0.039803,
     "end_time": "2023-02-11T10:10:01.805113",
     "exception": false,
     "start_time": "2023-02-11T10:10:01.765310",
     "status": "completed"
    },
    "tags": []
   },
   "outputs": [
    {
     "data": {
      "text/plain": [
       "(2200, 8)"
      ]
     },
     "execution_count": 56,
     "metadata": {},
     "output_type": "execute_result"
    }
   ],
   "source": [
    "recommendation_data.shape"
   ]
  },
  {
   "cell_type": "markdown",
   "id": "7a5de14e",
   "metadata": {
    "papermill": {
     "duration": 0.028916,
     "end_time": "2023-02-11T10:10:01.862656",
     "exception": false,
     "start_time": "2023-02-11T10:10:01.833740",
     "status": "completed"
    },
    "tags": []
   },
   "source": [
    "columns of all"
   ]
  },
  {
   "cell_type": "code",
   "execution_count": 57,
   "id": "61607e7a",
   "metadata": {
    "execution": {
     "iopub.execute_input": "2023-02-11T10:10:01.922307Z",
     "iopub.status.busy": "2023-02-11T10:10:01.921745Z",
     "iopub.status.idle": "2023-02-11T10:10:01.928866Z",
     "shell.execute_reply": "2023-02-11T10:10:01.927866Z"
    },
    "papermill": {
     "duration": 0.039507,
     "end_time": "2023-02-11T10:10:01.930971",
     "exception": false,
     "start_time": "2023-02-11T10:10:01.891464",
     "status": "completed"
    },
    "tags": []
   },
   "outputs": [
    {
     "data": {
      "text/plain": [
       "Index(['state', 'YEAR', 'JAN_x', 'FEB_x', 'MAR_x', 'APR_x', 'MAY_x', 'JUN_x',\n",
       "       'JUL_x', 'AUG_x', 'SEP_x', 'OCT_x', 'NOV_x', 'DEC_x', 'ANNUAL_x',\n",
       "       'Jan-Feb_x', 'Mar-May_x', 'Jun-Sep_x', 'Oct-Dec_x', 'JAN_y', 'FEB_y',\n",
       "       'MAR_y', 'APR_y', 'MAY_y', 'JUN_y', 'JUL_y', 'AUG_y', 'SEP_y', 'OCT_y',\n",
       "       'NOV_y', 'DEC_y', 'ANNUAL_y', 'Jan-Feb_y', 'Mar-May_y', 'Jun-Sep_y',\n",
       "       'Oct-Dec_y', 'min_price', 'max_price', 'modal_price'],\n",
       "      dtype='object')"
      ]
     },
     "execution_count": 57,
     "metadata": {},
     "output_type": "execute_result"
    }
   ],
   "source": [
    "df.columns"
   ]
  },
  {
   "cell_type": "code",
   "execution_count": 58,
   "id": "ece46001",
   "metadata": {
    "execution": {
     "iopub.execute_input": "2023-02-11T10:10:01.991126Z",
     "iopub.status.busy": "2023-02-11T10:10:01.990673Z",
     "iopub.status.idle": "2023-02-11T10:10:01.997187Z",
     "shell.execute_reply": "2023-02-11T10:10:01.996232Z"
    },
    "papermill": {
     "duration": 0.039986,
     "end_time": "2023-02-11T10:10:01.999828",
     "exception": false,
     "start_time": "2023-02-11T10:10:01.959842",
     "status": "completed"
    },
    "tags": []
   },
   "outputs": [
    {
     "data": {
      "text/plain": [
       "Index(['N', 'P', 'K', 'temperature', 'humidity', 'ph', 'rainfall', 'label'], dtype='object')"
      ]
     },
     "execution_count": 58,
     "metadata": {},
     "output_type": "execute_result"
    }
   ],
   "source": [
    "recommendation_data.columns"
   ]
  },
  {
   "cell_type": "code",
   "execution_count": 59,
   "id": "dade397d",
   "metadata": {
    "execution": {
     "iopub.execute_input": "2023-02-11T10:10:02.062624Z",
     "iopub.status.busy": "2023-02-11T10:10:02.062204Z",
     "iopub.status.idle": "2023-02-11T10:10:02.105868Z",
     "shell.execute_reply": "2023-02-11T10:10:02.104980Z"
    },
    "papermill": {
     "duration": 0.076226,
     "end_time": "2023-02-11T10:10:02.108076",
     "exception": false,
     "start_time": "2023-02-11T10:10:02.031850",
     "status": "completed"
    },
    "tags": []
   },
   "outputs": [
    {
     "data": {
      "text/html": [
       "<div>\n",
       "<style scoped>\n",
       "    .dataframe tbody tr th:only-of-type {\n",
       "        vertical-align: middle;\n",
       "    }\n",
       "\n",
       "    .dataframe tbody tr th {\n",
       "        vertical-align: top;\n",
       "    }\n",
       "\n",
       "    .dataframe thead th {\n",
       "        text-align: right;\n",
       "    }\n",
       "</style>\n",
       "<table border=\"1\" class=\"dataframe\">\n",
       "  <thead>\n",
       "    <tr style=\"text-align: right;\">\n",
       "      <th></th>\n",
       "      <th>state</th>\n",
       "      <th>YEAR</th>\n",
       "      <th>JAN_x</th>\n",
       "      <th>FEB_x</th>\n",
       "      <th>MAR_x</th>\n",
       "      <th>APR_x</th>\n",
       "      <th>MAY_x</th>\n",
       "      <th>JUN_x</th>\n",
       "      <th>JUL_x</th>\n",
       "      <th>AUG_x</th>\n",
       "      <th>...</th>\n",
       "      <th>NOV_y</th>\n",
       "      <th>DEC_y</th>\n",
       "      <th>ANNUAL_y</th>\n",
       "      <th>Jan-Feb_y</th>\n",
       "      <th>Mar-May_y</th>\n",
       "      <th>Jun-Sep_y</th>\n",
       "      <th>Oct-Dec_y</th>\n",
       "      <th>min_price</th>\n",
       "      <th>max_price</th>\n",
       "      <th>modal_price</th>\n",
       "    </tr>\n",
       "  </thead>\n",
       "  <tbody>\n",
       "    <tr>\n",
       "      <th>0</th>\n",
       "      <td>ANDAMAN &amp; NICOBAR ISLANDS</td>\n",
       "      <td>1901.0</td>\n",
       "      <td>49.2</td>\n",
       "      <td>87.1</td>\n",
       "      <td>29.2</td>\n",
       "      <td>2.3</td>\n",
       "      <td>528.8</td>\n",
       "      <td>517.5</td>\n",
       "      <td>365.1</td>\n",
       "      <td>481.1</td>\n",
       "      <td>...</td>\n",
       "      <td>58.700837</td>\n",
       "      <td>28.529795</td>\n",
       "      <td>1427.970678</td>\n",
       "      <td>40.871239</td>\n",
       "      <td>172.019067</td>\n",
       "      <td>1007.78413</td>\n",
       "      <td>207.296242</td>\n",
       "      <td>2456.230563</td>\n",
       "      <td>2855.890527</td>\n",
       "      <td>2698.865952</td>\n",
       "    </tr>\n",
       "    <tr>\n",
       "      <th>1</th>\n",
       "      <td>ANDAMAN &amp; NICOBAR ISLANDS</td>\n",
       "      <td>1902.0</td>\n",
       "      <td>0.0</td>\n",
       "      <td>159.8</td>\n",
       "      <td>12.2</td>\n",
       "      <td>0.0</td>\n",
       "      <td>446.1</td>\n",
       "      <td>537.1</td>\n",
       "      <td>228.9</td>\n",
       "      <td>753.7</td>\n",
       "      <td>...</td>\n",
       "      <td>58.700837</td>\n",
       "      <td>28.529795</td>\n",
       "      <td>1427.970678</td>\n",
       "      <td>40.871239</td>\n",
       "      <td>172.019067</td>\n",
       "      <td>1007.78413</td>\n",
       "      <td>207.296242</td>\n",
       "      <td>2456.230563</td>\n",
       "      <td>2855.890527</td>\n",
       "      <td>2698.865952</td>\n",
       "    </tr>\n",
       "    <tr>\n",
       "      <th>2</th>\n",
       "      <td>ANDAMAN &amp; NICOBAR ISLANDS</td>\n",
       "      <td>1903.0</td>\n",
       "      <td>12.7</td>\n",
       "      <td>144.0</td>\n",
       "      <td>0.0</td>\n",
       "      <td>1.0</td>\n",
       "      <td>235.1</td>\n",
       "      <td>479.9</td>\n",
       "      <td>728.4</td>\n",
       "      <td>326.7</td>\n",
       "      <td>...</td>\n",
       "      <td>58.700837</td>\n",
       "      <td>28.529795</td>\n",
       "      <td>1427.970678</td>\n",
       "      <td>40.871239</td>\n",
       "      <td>172.019067</td>\n",
       "      <td>1007.78413</td>\n",
       "      <td>207.296242</td>\n",
       "      <td>2456.230563</td>\n",
       "      <td>2855.890527</td>\n",
       "      <td>2698.865952</td>\n",
       "    </tr>\n",
       "    <tr>\n",
       "      <th>3</th>\n",
       "      <td>ANDAMAN &amp; NICOBAR ISLANDS</td>\n",
       "      <td>1904.0</td>\n",
       "      <td>9.4</td>\n",
       "      <td>14.7</td>\n",
       "      <td>0.0</td>\n",
       "      <td>202.4</td>\n",
       "      <td>304.5</td>\n",
       "      <td>495.1</td>\n",
       "      <td>502.0</td>\n",
       "      <td>160.1</td>\n",
       "      <td>...</td>\n",
       "      <td>58.700837</td>\n",
       "      <td>28.529795</td>\n",
       "      <td>1427.970678</td>\n",
       "      <td>40.871239</td>\n",
       "      <td>172.019067</td>\n",
       "      <td>1007.78413</td>\n",
       "      <td>207.296242</td>\n",
       "      <td>2456.230563</td>\n",
       "      <td>2855.890527</td>\n",
       "      <td>2698.865952</td>\n",
       "    </tr>\n",
       "    <tr>\n",
       "      <th>4</th>\n",
       "      <td>ANDAMAN &amp; NICOBAR ISLANDS</td>\n",
       "      <td>1905.0</td>\n",
       "      <td>1.3</td>\n",
       "      <td>0.0</td>\n",
       "      <td>3.3</td>\n",
       "      <td>26.9</td>\n",
       "      <td>279.5</td>\n",
       "      <td>628.7</td>\n",
       "      <td>368.7</td>\n",
       "      <td>330.5</td>\n",
       "      <td>...</td>\n",
       "      <td>58.700837</td>\n",
       "      <td>28.529795</td>\n",
       "      <td>1427.970678</td>\n",
       "      <td>40.871239</td>\n",
       "      <td>172.019067</td>\n",
       "      <td>1007.78413</td>\n",
       "      <td>207.296242</td>\n",
       "      <td>2456.230563</td>\n",
       "      <td>2855.890527</td>\n",
       "      <td>2698.865952</td>\n",
       "    </tr>\n",
       "    <tr>\n",
       "      <th>5</th>\n",
       "      <td>ANDAMAN &amp; NICOBAR ISLANDS</td>\n",
       "      <td>1906.0</td>\n",
       "      <td>36.6</td>\n",
       "      <td>0.0</td>\n",
       "      <td>0.0</td>\n",
       "      <td>0.0</td>\n",
       "      <td>556.1</td>\n",
       "      <td>733.3</td>\n",
       "      <td>247.7</td>\n",
       "      <td>320.5</td>\n",
       "      <td>...</td>\n",
       "      <td>58.700837</td>\n",
       "      <td>28.529795</td>\n",
       "      <td>1427.970678</td>\n",
       "      <td>40.871239</td>\n",
       "      <td>172.019067</td>\n",
       "      <td>1007.78413</td>\n",
       "      <td>207.296242</td>\n",
       "      <td>2456.230563</td>\n",
       "      <td>2855.890527</td>\n",
       "      <td>2698.865952</td>\n",
       "    </tr>\n",
       "    <tr>\n",
       "      <th>6</th>\n",
       "      <td>ANDAMAN &amp; NICOBAR ISLANDS</td>\n",
       "      <td>1907.0</td>\n",
       "      <td>110.7</td>\n",
       "      <td>0.0</td>\n",
       "      <td>113.3</td>\n",
       "      <td>21.6</td>\n",
       "      <td>616.3</td>\n",
       "      <td>305.2</td>\n",
       "      <td>443.9</td>\n",
       "      <td>377.6</td>\n",
       "      <td>...</td>\n",
       "      <td>58.700837</td>\n",
       "      <td>28.529795</td>\n",
       "      <td>1427.970678</td>\n",
       "      <td>40.871239</td>\n",
       "      <td>172.019067</td>\n",
       "      <td>1007.78413</td>\n",
       "      <td>207.296242</td>\n",
       "      <td>2456.230563</td>\n",
       "      <td>2855.890527</td>\n",
       "      <td>2698.865952</td>\n",
       "    </tr>\n",
       "    <tr>\n",
       "      <th>7</th>\n",
       "      <td>ANDAMAN &amp; NICOBAR ISLANDS</td>\n",
       "      <td>1908.0</td>\n",
       "      <td>20.9</td>\n",
       "      <td>85.1</td>\n",
       "      <td>0.0</td>\n",
       "      <td>29.0</td>\n",
       "      <td>562.0</td>\n",
       "      <td>693.6</td>\n",
       "      <td>481.4</td>\n",
       "      <td>699.9</td>\n",
       "      <td>...</td>\n",
       "      <td>58.700837</td>\n",
       "      <td>28.529795</td>\n",
       "      <td>1427.970678</td>\n",
       "      <td>40.871239</td>\n",
       "      <td>172.019067</td>\n",
       "      <td>1007.78413</td>\n",
       "      <td>207.296242</td>\n",
       "      <td>2456.230563</td>\n",
       "      <td>2855.890527</td>\n",
       "      <td>2698.865952</td>\n",
       "    </tr>\n",
       "    <tr>\n",
       "      <th>8</th>\n",
       "      <td>ANDAMAN &amp; NICOBAR ISLANDS</td>\n",
       "      <td>1910.0</td>\n",
       "      <td>26.6</td>\n",
       "      <td>22.7</td>\n",
       "      <td>206.3</td>\n",
       "      <td>89.3</td>\n",
       "      <td>224.5</td>\n",
       "      <td>472.7</td>\n",
       "      <td>264.3</td>\n",
       "      <td>337.4</td>\n",
       "      <td>...</td>\n",
       "      <td>58.700837</td>\n",
       "      <td>28.529795</td>\n",
       "      <td>1427.970678</td>\n",
       "      <td>40.871239</td>\n",
       "      <td>172.019067</td>\n",
       "      <td>1007.78413</td>\n",
       "      <td>207.296242</td>\n",
       "      <td>2456.230563</td>\n",
       "      <td>2855.890527</td>\n",
       "      <td>2698.865952</td>\n",
       "    </tr>\n",
       "    <tr>\n",
       "      <th>9</th>\n",
       "      <td>ANDAMAN &amp; NICOBAR ISLANDS</td>\n",
       "      <td>1911.0</td>\n",
       "      <td>0.0</td>\n",
       "      <td>8.4</td>\n",
       "      <td>0.0</td>\n",
       "      <td>122.5</td>\n",
       "      <td>327.3</td>\n",
       "      <td>649.0</td>\n",
       "      <td>253.0</td>\n",
       "      <td>187.1</td>\n",
       "      <td>...</td>\n",
       "      <td>58.700837</td>\n",
       "      <td>28.529795</td>\n",
       "      <td>1427.970678</td>\n",
       "      <td>40.871239</td>\n",
       "      <td>172.019067</td>\n",
       "      <td>1007.78413</td>\n",
       "      <td>207.296242</td>\n",
       "      <td>2456.230563</td>\n",
       "      <td>2855.890527</td>\n",
       "      <td>2698.865952</td>\n",
       "    </tr>\n",
       "    <tr>\n",
       "      <th>10</th>\n",
       "      <td>ANDAMAN &amp; NICOBAR ISLANDS</td>\n",
       "      <td>1912.0</td>\n",
       "      <td>583.7</td>\n",
       "      <td>0.8</td>\n",
       "      <td>0.0</td>\n",
       "      <td>21.9</td>\n",
       "      <td>140.7</td>\n",
       "      <td>549.8</td>\n",
       "      <td>468.9</td>\n",
       "      <td>370.3</td>\n",
       "      <td>...</td>\n",
       "      <td>58.700837</td>\n",
       "      <td>28.529795</td>\n",
       "      <td>1427.970678</td>\n",
       "      <td>40.871239</td>\n",
       "      <td>172.019067</td>\n",
       "      <td>1007.78413</td>\n",
       "      <td>207.296242</td>\n",
       "      <td>2456.230563</td>\n",
       "      <td>2855.890527</td>\n",
       "      <td>2698.865952</td>\n",
       "    </tr>\n",
       "    <tr>\n",
       "      <th>11</th>\n",
       "      <td>ANDAMAN &amp; NICOBAR ISLANDS</td>\n",
       "      <td>1913.0</td>\n",
       "      <td>84.8</td>\n",
       "      <td>0.5</td>\n",
       "      <td>1.3</td>\n",
       "      <td>2.5</td>\n",
       "      <td>190.7</td>\n",
       "      <td>530.0</td>\n",
       "      <td>280.8</td>\n",
       "      <td>205.8</td>\n",
       "      <td>...</td>\n",
       "      <td>58.700837</td>\n",
       "      <td>28.529795</td>\n",
       "      <td>1427.970678</td>\n",
       "      <td>40.871239</td>\n",
       "      <td>172.019067</td>\n",
       "      <td>1007.78413</td>\n",
       "      <td>207.296242</td>\n",
       "      <td>2456.230563</td>\n",
       "      <td>2855.890527</td>\n",
       "      <td>2698.865952</td>\n",
       "    </tr>\n",
       "    <tr>\n",
       "      <th>12</th>\n",
       "      <td>ANDAMAN &amp; NICOBAR ISLANDS</td>\n",
       "      <td>1914.0</td>\n",
       "      <td>0.0</td>\n",
       "      <td>0.0</td>\n",
       "      <td>0.0</td>\n",
       "      <td>37.7</td>\n",
       "      <td>298.8</td>\n",
       "      <td>383.3</td>\n",
       "      <td>792.8</td>\n",
       "      <td>520.5</td>\n",
       "      <td>...</td>\n",
       "      <td>58.700837</td>\n",
       "      <td>28.529795</td>\n",
       "      <td>1427.970678</td>\n",
       "      <td>40.871239</td>\n",
       "      <td>172.019067</td>\n",
       "      <td>1007.78413</td>\n",
       "      <td>207.296242</td>\n",
       "      <td>2456.230563</td>\n",
       "      <td>2855.890527</td>\n",
       "      <td>2698.865952</td>\n",
       "    </tr>\n",
       "    <tr>\n",
       "      <th>13</th>\n",
       "      <td>ANDAMAN &amp; NICOBAR ISLANDS</td>\n",
       "      <td>1915.0</td>\n",
       "      <td>45.0</td>\n",
       "      <td>56.7</td>\n",
       "      <td>33.3</td>\n",
       "      <td>40.9</td>\n",
       "      <td>170.2</td>\n",
       "      <td>334.7</td>\n",
       "      <td>269.0</td>\n",
       "      <td>317.2</td>\n",
       "      <td>...</td>\n",
       "      <td>58.700837</td>\n",
       "      <td>28.529795</td>\n",
       "      <td>1427.970678</td>\n",
       "      <td>40.871239</td>\n",
       "      <td>172.019067</td>\n",
       "      <td>1007.78413</td>\n",
       "      <td>207.296242</td>\n",
       "      <td>2456.230563</td>\n",
       "      <td>2855.890527</td>\n",
       "      <td>2698.865952</td>\n",
       "    </tr>\n",
       "    <tr>\n",
       "      <th>14</th>\n",
       "      <td>ANDAMAN &amp; NICOBAR ISLANDS</td>\n",
       "      <td>1916.0</td>\n",
       "      <td>0.0</td>\n",
       "      <td>0.0</td>\n",
       "      <td>0.0</td>\n",
       "      <td>0.5</td>\n",
       "      <td>487.4</td>\n",
       "      <td>450.1</td>\n",
       "      <td>317.3</td>\n",
       "      <td>425.0</td>\n",
       "      <td>...</td>\n",
       "      <td>58.700837</td>\n",
       "      <td>28.529795</td>\n",
       "      <td>1427.970678</td>\n",
       "      <td>40.871239</td>\n",
       "      <td>172.019067</td>\n",
       "      <td>1007.78413</td>\n",
       "      <td>207.296242</td>\n",
       "      <td>2456.230563</td>\n",
       "      <td>2855.890527</td>\n",
       "      <td>2698.865952</td>\n",
       "    </tr>\n",
       "    <tr>\n",
       "      <th>15</th>\n",
       "      <td>ANDAMAN &amp; NICOBAR ISLANDS</td>\n",
       "      <td>1917.0</td>\n",
       "      <td>8.0</td>\n",
       "      <td>3.6</td>\n",
       "      <td>112.0</td>\n",
       "      <td>4.5</td>\n",
       "      <td>295.9</td>\n",
       "      <td>301.1</td>\n",
       "      <td>394.8</td>\n",
       "      <td>437.4</td>\n",
       "      <td>...</td>\n",
       "      <td>58.700837</td>\n",
       "      <td>28.529795</td>\n",
       "      <td>1427.970678</td>\n",
       "      <td>40.871239</td>\n",
       "      <td>172.019067</td>\n",
       "      <td>1007.78413</td>\n",
       "      <td>207.296242</td>\n",
       "      <td>2456.230563</td>\n",
       "      <td>2855.890527</td>\n",
       "      <td>2698.865952</td>\n",
       "    </tr>\n",
       "    <tr>\n",
       "      <th>16</th>\n",
       "      <td>ANDAMAN &amp; NICOBAR ISLANDS</td>\n",
       "      <td>1918.0</td>\n",
       "      <td>77.4</td>\n",
       "      <td>6.9</td>\n",
       "      <td>11.4</td>\n",
       "      <td>10.7</td>\n",
       "      <td>729.3</td>\n",
       "      <td>710.8</td>\n",
       "      <td>200.9</td>\n",
       "      <td>455.4</td>\n",
       "      <td>...</td>\n",
       "      <td>58.700837</td>\n",
       "      <td>28.529795</td>\n",
       "      <td>1427.970678</td>\n",
       "      <td>40.871239</td>\n",
       "      <td>172.019067</td>\n",
       "      <td>1007.78413</td>\n",
       "      <td>207.296242</td>\n",
       "      <td>2456.230563</td>\n",
       "      <td>2855.890527</td>\n",
       "      <td>2698.865952</td>\n",
       "    </tr>\n",
       "    <tr>\n",
       "      <th>17</th>\n",
       "      <td>ANDAMAN &amp; NICOBAR ISLANDS</td>\n",
       "      <td>1919.0</td>\n",
       "      <td>10.2</td>\n",
       "      <td>18.0</td>\n",
       "      <td>0.0</td>\n",
       "      <td>35.5</td>\n",
       "      <td>283.9</td>\n",
       "      <td>542.5</td>\n",
       "      <td>246.5</td>\n",
       "      <td>259.8</td>\n",
       "      <td>...</td>\n",
       "      <td>58.700837</td>\n",
       "      <td>28.529795</td>\n",
       "      <td>1427.970678</td>\n",
       "      <td>40.871239</td>\n",
       "      <td>172.019067</td>\n",
       "      <td>1007.78413</td>\n",
       "      <td>207.296242</td>\n",
       "      <td>2456.230563</td>\n",
       "      <td>2855.890527</td>\n",
       "      <td>2698.865952</td>\n",
       "    </tr>\n",
       "    <tr>\n",
       "      <th>18</th>\n",
       "      <td>ANDAMAN &amp; NICOBAR ISLANDS</td>\n",
       "      <td>1920.0</td>\n",
       "      <td>122.3</td>\n",
       "      <td>7.4</td>\n",
       "      <td>3.1</td>\n",
       "      <td>13.0</td>\n",
       "      <td>237.4</td>\n",
       "      <td>546.9</td>\n",
       "      <td>294.4</td>\n",
       "      <td>467.4</td>\n",
       "      <td>...</td>\n",
       "      <td>58.700837</td>\n",
       "      <td>28.529795</td>\n",
       "      <td>1427.970678</td>\n",
       "      <td>40.871239</td>\n",
       "      <td>172.019067</td>\n",
       "      <td>1007.78413</td>\n",
       "      <td>207.296242</td>\n",
       "      <td>2456.230563</td>\n",
       "      <td>2855.890527</td>\n",
       "      <td>2698.865952</td>\n",
       "    </tr>\n",
       "    <tr>\n",
       "      <th>19</th>\n",
       "      <td>ANDAMAN &amp; NICOBAR ISLANDS</td>\n",
       "      <td>1921.0</td>\n",
       "      <td>13.2</td>\n",
       "      <td>3.1</td>\n",
       "      <td>0.0</td>\n",
       "      <td>37.5</td>\n",
       "      <td>351.2</td>\n",
       "      <td>282.7</td>\n",
       "      <td>487.1</td>\n",
       "      <td>330.0</td>\n",
       "      <td>...</td>\n",
       "      <td>58.700837</td>\n",
       "      <td>28.529795</td>\n",
       "      <td>1427.970678</td>\n",
       "      <td>40.871239</td>\n",
       "      <td>172.019067</td>\n",
       "      <td>1007.78413</td>\n",
       "      <td>207.296242</td>\n",
       "      <td>2456.230563</td>\n",
       "      <td>2855.890527</td>\n",
       "      <td>2698.865952</td>\n",
       "    </tr>\n",
       "  </tbody>\n",
       "</table>\n",
       "<p>20 rows × 39 columns</p>\n",
       "</div>"
      ],
      "text/plain": [
       "                        state    YEAR  JAN_x  FEB_x  MAR_x  APR_x  MAY_x  \\\n",
       "0   ANDAMAN & NICOBAR ISLANDS  1901.0   49.2   87.1   29.2    2.3  528.8   \n",
       "1   ANDAMAN & NICOBAR ISLANDS  1902.0    0.0  159.8   12.2    0.0  446.1   \n",
       "2   ANDAMAN & NICOBAR ISLANDS  1903.0   12.7  144.0    0.0    1.0  235.1   \n",
       "3   ANDAMAN & NICOBAR ISLANDS  1904.0    9.4   14.7    0.0  202.4  304.5   \n",
       "4   ANDAMAN & NICOBAR ISLANDS  1905.0    1.3    0.0    3.3   26.9  279.5   \n",
       "5   ANDAMAN & NICOBAR ISLANDS  1906.0   36.6    0.0    0.0    0.0  556.1   \n",
       "6   ANDAMAN & NICOBAR ISLANDS  1907.0  110.7    0.0  113.3   21.6  616.3   \n",
       "7   ANDAMAN & NICOBAR ISLANDS  1908.0   20.9   85.1    0.0   29.0  562.0   \n",
       "8   ANDAMAN & NICOBAR ISLANDS  1910.0   26.6   22.7  206.3   89.3  224.5   \n",
       "9   ANDAMAN & NICOBAR ISLANDS  1911.0    0.0    8.4    0.0  122.5  327.3   \n",
       "10  ANDAMAN & NICOBAR ISLANDS  1912.0  583.7    0.8    0.0   21.9  140.7   \n",
       "11  ANDAMAN & NICOBAR ISLANDS  1913.0   84.8    0.5    1.3    2.5  190.7   \n",
       "12  ANDAMAN & NICOBAR ISLANDS  1914.0    0.0    0.0    0.0   37.7  298.8   \n",
       "13  ANDAMAN & NICOBAR ISLANDS  1915.0   45.0   56.7   33.3   40.9  170.2   \n",
       "14  ANDAMAN & NICOBAR ISLANDS  1916.0    0.0    0.0    0.0    0.5  487.4   \n",
       "15  ANDAMAN & NICOBAR ISLANDS  1917.0    8.0    3.6  112.0    4.5  295.9   \n",
       "16  ANDAMAN & NICOBAR ISLANDS  1918.0   77.4    6.9   11.4   10.7  729.3   \n",
       "17  ANDAMAN & NICOBAR ISLANDS  1919.0   10.2   18.0    0.0   35.5  283.9   \n",
       "18  ANDAMAN & NICOBAR ISLANDS  1920.0  122.3    7.4    3.1   13.0  237.4   \n",
       "19  ANDAMAN & NICOBAR ISLANDS  1921.0   13.2    3.1    0.0   37.5  351.2   \n",
       "\n",
       "    JUN_x  JUL_x  AUG_x  ...      NOV_y      DEC_y     ANNUAL_y  Jan-Feb_y  \\\n",
       "0   517.5  365.1  481.1  ...  58.700837  28.529795  1427.970678  40.871239   \n",
       "1   537.1  228.9  753.7  ...  58.700837  28.529795  1427.970678  40.871239   \n",
       "2   479.9  728.4  326.7  ...  58.700837  28.529795  1427.970678  40.871239   \n",
       "3   495.1  502.0  160.1  ...  58.700837  28.529795  1427.970678  40.871239   \n",
       "4   628.7  368.7  330.5  ...  58.700837  28.529795  1427.970678  40.871239   \n",
       "5   733.3  247.7  320.5  ...  58.700837  28.529795  1427.970678  40.871239   \n",
       "6   305.2  443.9  377.6  ...  58.700837  28.529795  1427.970678  40.871239   \n",
       "7   693.6  481.4  699.9  ...  58.700837  28.529795  1427.970678  40.871239   \n",
       "8   472.7  264.3  337.4  ...  58.700837  28.529795  1427.970678  40.871239   \n",
       "9   649.0  253.0  187.1  ...  58.700837  28.529795  1427.970678  40.871239   \n",
       "10  549.8  468.9  370.3  ...  58.700837  28.529795  1427.970678  40.871239   \n",
       "11  530.0  280.8  205.8  ...  58.700837  28.529795  1427.970678  40.871239   \n",
       "12  383.3  792.8  520.5  ...  58.700837  28.529795  1427.970678  40.871239   \n",
       "13  334.7  269.0  317.2  ...  58.700837  28.529795  1427.970678  40.871239   \n",
       "14  450.1  317.3  425.0  ...  58.700837  28.529795  1427.970678  40.871239   \n",
       "15  301.1  394.8  437.4  ...  58.700837  28.529795  1427.970678  40.871239   \n",
       "16  710.8  200.9  455.4  ...  58.700837  28.529795  1427.970678  40.871239   \n",
       "17  542.5  246.5  259.8  ...  58.700837  28.529795  1427.970678  40.871239   \n",
       "18  546.9  294.4  467.4  ...  58.700837  28.529795  1427.970678  40.871239   \n",
       "19  282.7  487.1  330.0  ...  58.700837  28.529795  1427.970678  40.871239   \n",
       "\n",
       "     Mar-May_y   Jun-Sep_y   Oct-Dec_y    min_price    max_price  modal_price  \n",
       "0   172.019067  1007.78413  207.296242  2456.230563  2855.890527  2698.865952  \n",
       "1   172.019067  1007.78413  207.296242  2456.230563  2855.890527  2698.865952  \n",
       "2   172.019067  1007.78413  207.296242  2456.230563  2855.890527  2698.865952  \n",
       "3   172.019067  1007.78413  207.296242  2456.230563  2855.890527  2698.865952  \n",
       "4   172.019067  1007.78413  207.296242  2456.230563  2855.890527  2698.865952  \n",
       "5   172.019067  1007.78413  207.296242  2456.230563  2855.890527  2698.865952  \n",
       "6   172.019067  1007.78413  207.296242  2456.230563  2855.890527  2698.865952  \n",
       "7   172.019067  1007.78413  207.296242  2456.230563  2855.890527  2698.865952  \n",
       "8   172.019067  1007.78413  207.296242  2456.230563  2855.890527  2698.865952  \n",
       "9   172.019067  1007.78413  207.296242  2456.230563  2855.890527  2698.865952  \n",
       "10  172.019067  1007.78413  207.296242  2456.230563  2855.890527  2698.865952  \n",
       "11  172.019067  1007.78413  207.296242  2456.230563  2855.890527  2698.865952  \n",
       "12  172.019067  1007.78413  207.296242  2456.230563  2855.890527  2698.865952  \n",
       "13  172.019067  1007.78413  207.296242  2456.230563  2855.890527  2698.865952  \n",
       "14  172.019067  1007.78413  207.296242  2456.230563  2855.890527  2698.865952  \n",
       "15  172.019067  1007.78413  207.296242  2456.230563  2855.890527  2698.865952  \n",
       "16  172.019067  1007.78413  207.296242  2456.230563  2855.890527  2698.865952  \n",
       "17  172.019067  1007.78413  207.296242  2456.230563  2855.890527  2698.865952  \n",
       "18  172.019067  1007.78413  207.296242  2456.230563  2855.890527  2698.865952  \n",
       "19  172.019067  1007.78413  207.296242  2456.230563  2855.890527  2698.865952  \n",
       "\n",
       "[20 rows x 39 columns]"
      ]
     },
     "execution_count": 59,
     "metadata": {},
     "output_type": "execute_result"
    }
   ],
   "source": [
    "df.head(20)"
   ]
  },
  {
   "cell_type": "code",
   "execution_count": 60,
   "id": "5c04204d",
   "metadata": {
    "execution": {
     "iopub.execute_input": "2023-02-11T10:10:02.170635Z",
     "iopub.status.busy": "2023-02-11T10:10:02.169975Z",
     "iopub.status.idle": "2023-02-11T10:10:02.181018Z",
     "shell.execute_reply": "2023-02-11T10:10:02.180005Z"
    },
    "papermill": {
     "duration": 0.044975,
     "end_time": "2023-02-11T10:10:02.183225",
     "exception": false,
     "start_time": "2023-02-11T10:10:02.138250",
     "status": "completed"
    },
    "tags": []
   },
   "outputs": [
    {
     "data": {
      "text/plain": [
       "207.296242    5453\n",
       "83.700000      345\n",
       "93.800000      231\n",
       "72.300000      231\n",
       "45.800000      230\n",
       "              ... \n",
       "26.300000        1\n",
       "29.900000        1\n",
       "19.000000        1\n",
       "21.000000        1\n",
       "225.200000       1\n",
       "Name: Oct-Dec_y, Length: 525, dtype: int64"
      ]
     },
     "execution_count": 60,
     "metadata": {},
     "output_type": "execute_result"
    }
   ],
   "source": [
    "df['Oct-Dec_y'].value_counts()"
   ]
  },
  {
   "cell_type": "code",
   "execution_count": 61,
   "id": "395e2379",
   "metadata": {
    "execution": {
     "iopub.execute_input": "2023-02-11T10:10:02.244880Z",
     "iopub.status.busy": "2023-02-11T10:10:02.244274Z",
     "iopub.status.idle": "2023-02-11T10:10:02.252784Z",
     "shell.execute_reply": "2023-02-11T10:10:02.251953Z"
    },
    "papermill": {
     "duration": 0.042031,
     "end_time": "2023-02-11T10:10:02.254909",
     "exception": false,
     "start_time": "2023-02-11T10:10:02.212878",
     "status": "completed"
    },
    "tags": []
   },
   "outputs": [
    {
     "data": {
      "text/plain": [
       "202.935536    1\n",
       "26.036577     1\n",
       "20.390205     1\n",
       "21.179248     1\n",
       "21.000099     1\n",
       "             ..\n",
       "65.816559     1\n",
       "63.497263     1\n",
       "65.628595     1\n",
       "61.192509     1\n",
       "140.937041    1\n",
       "Name: rainfall, Length: 2200, dtype: int64"
      ]
     },
     "execution_count": 61,
     "metadata": {},
     "output_type": "execute_result"
    }
   ],
   "source": [
    "recommendation_data['rainfall'].value_counts()"
   ]
  },
  {
   "cell_type": "code",
   "execution_count": 62,
   "id": "17d03fd6",
   "metadata": {
    "execution": {
     "iopub.execute_input": "2023-02-11T10:10:02.317508Z",
     "iopub.status.busy": "2023-02-11T10:10:02.316893Z",
     "iopub.status.idle": "2023-02-11T10:10:02.325733Z",
     "shell.execute_reply": "2023-02-11T10:10:02.324651Z"
    },
    "papermill": {
     "duration": 0.04292,
     "end_time": "2023-02-11T10:10:02.327798",
     "exception": false,
     "start_time": "2023-02-11T10:10:02.284878",
     "status": "completed"
    },
    "tags": []
   },
   "outputs": [
    {
     "data": {
      "text/plain": [
       "172.019067    5453\n",
       "27.900000      233\n",
       "101.800000     230\n",
       "68.100000      230\n",
       "115.900000     230\n",
       "              ... \n",
       "25.100000        1\n",
       "13.400000        1\n",
       "48.200000        1\n",
       "48.800000        1\n",
       "104.800000       1\n",
       "Name: Mar-May_y, Length: 512, dtype: int64"
      ]
     },
     "execution_count": 62,
     "metadata": {},
     "output_type": "execute_result"
    }
   ],
   "source": [
    "df['Mar-May_y'].value_counts()"
   ]
  },
  {
   "cell_type": "code",
   "execution_count": 63,
   "id": "94d792d8",
   "metadata": {
    "execution": {
     "iopub.execute_input": "2023-02-11T10:10:02.390530Z",
     "iopub.status.busy": "2023-02-11T10:10:02.389433Z",
     "iopub.status.idle": "2023-02-11T10:10:02.396738Z",
     "shell.execute_reply": "2023-02-11T10:10:02.395733Z"
    },
    "papermill": {
     "duration": 0.041081,
     "end_time": "2023-02-11T10:10:02.399097",
     "exception": false,
     "start_time": "2023-02-11T10:10:02.358016",
     "status": "completed"
    },
    "tags": []
   },
   "outputs": [],
   "source": [
    "df['average']=(df['Jan-Feb_y']+df['Mar-May_y']+df['Jun-Sep_y']+df['Oct-Dec_y'])/4"
   ]
  },
  {
   "cell_type": "code",
   "execution_count": 64,
   "id": "b570ad32",
   "metadata": {
    "execution": {
     "iopub.execute_input": "2023-02-11T10:10:02.461053Z",
     "iopub.status.busy": "2023-02-11T10:10:02.460617Z",
     "iopub.status.idle": "2023-02-11T10:10:02.471199Z",
     "shell.execute_reply": "2023-02-11T10:10:02.470114Z"
    },
    "papermill": {
     "duration": 0.044265,
     "end_time": "2023-02-11T10:10:02.473483",
     "exception": false,
     "start_time": "2023-02-11T10:10:02.429218",
     "status": "completed"
    },
    "tags": []
   },
   "outputs": [
    {
     "data": {
      "text/plain": [
       "356.992669    5453\n",
       "362.075000     230\n",
       "286.700000     230\n",
       "260.450000     230\n",
       "383.375000     230\n",
       "              ... \n",
       "530.975000       1\n",
       "316.750000       1\n",
       "204.600000       1\n",
       "167.325000       1\n",
       "187.125000       1\n",
       "Name: average, Length: 594, dtype: int64"
      ]
     },
     "execution_count": 64,
     "metadata": {},
     "output_type": "execute_result"
    }
   ],
   "source": [
    "df['average'].value_counts()"
   ]
  },
  {
   "cell_type": "code",
   "execution_count": 65,
   "id": "92f1c813",
   "metadata": {
    "execution": {
     "iopub.execute_input": "2023-02-11T10:10:02.537425Z",
     "iopub.status.busy": "2023-02-11T10:10:02.536488Z",
     "iopub.status.idle": "2023-02-11T10:10:02.564939Z",
     "shell.execute_reply": "2023-02-11T10:10:02.563693Z"
    },
    "papermill": {
     "duration": 0.063128,
     "end_time": "2023-02-11T10:10:02.567456",
     "exception": false,
     "start_time": "2023-02-11T10:10:02.504328",
     "status": "completed"
    },
    "tags": []
   },
   "outputs": [
    {
     "data": {
      "text/html": [
       "<div>\n",
       "<style scoped>\n",
       "    .dataframe tbody tr th:only-of-type {\n",
       "        vertical-align: middle;\n",
       "    }\n",
       "\n",
       "    .dataframe tbody tr th {\n",
       "        vertical-align: top;\n",
       "    }\n",
       "\n",
       "    .dataframe thead th {\n",
       "        text-align: right;\n",
       "    }\n",
       "</style>\n",
       "<table border=\"1\" class=\"dataframe\">\n",
       "  <thead>\n",
       "    <tr style=\"text-align: right;\">\n",
       "      <th></th>\n",
       "      <th>state</th>\n",
       "      <th>YEAR</th>\n",
       "      <th>JAN_x</th>\n",
       "      <th>FEB_x</th>\n",
       "      <th>MAR_x</th>\n",
       "      <th>APR_x</th>\n",
       "      <th>MAY_x</th>\n",
       "      <th>JUN_x</th>\n",
       "      <th>JUL_x</th>\n",
       "      <th>AUG_x</th>\n",
       "      <th>...</th>\n",
       "      <th>DEC_y</th>\n",
       "      <th>ANNUAL_y</th>\n",
       "      <th>Jan-Feb_y</th>\n",
       "      <th>Mar-May_y</th>\n",
       "      <th>Jun-Sep_y</th>\n",
       "      <th>Oct-Dec_y</th>\n",
       "      <th>min_price</th>\n",
       "      <th>max_price</th>\n",
       "      <th>modal_price</th>\n",
       "      <th>average</th>\n",
       "    </tr>\n",
       "  </thead>\n",
       "  <tbody>\n",
       "    <tr>\n",
       "      <th>0</th>\n",
       "      <td>ANDAMAN &amp; NICOBAR ISLANDS</td>\n",
       "      <td>1901.0</td>\n",
       "      <td>49.2</td>\n",
       "      <td>87.1</td>\n",
       "      <td>29.2</td>\n",
       "      <td>2.3</td>\n",
       "      <td>528.8</td>\n",
       "      <td>517.5</td>\n",
       "      <td>365.1</td>\n",
       "      <td>481.1</td>\n",
       "      <td>...</td>\n",
       "      <td>28.529795</td>\n",
       "      <td>1427.970678</td>\n",
       "      <td>40.871239</td>\n",
       "      <td>172.019067</td>\n",
       "      <td>1007.78413</td>\n",
       "      <td>207.296242</td>\n",
       "      <td>2456.230563</td>\n",
       "      <td>2855.890527</td>\n",
       "      <td>2698.865952</td>\n",
       "      <td>356.992669</td>\n",
       "    </tr>\n",
       "    <tr>\n",
       "      <th>1</th>\n",
       "      <td>ANDAMAN &amp; NICOBAR ISLANDS</td>\n",
       "      <td>1902.0</td>\n",
       "      <td>0.0</td>\n",
       "      <td>159.8</td>\n",
       "      <td>12.2</td>\n",
       "      <td>0.0</td>\n",
       "      <td>446.1</td>\n",
       "      <td>537.1</td>\n",
       "      <td>228.9</td>\n",
       "      <td>753.7</td>\n",
       "      <td>...</td>\n",
       "      <td>28.529795</td>\n",
       "      <td>1427.970678</td>\n",
       "      <td>40.871239</td>\n",
       "      <td>172.019067</td>\n",
       "      <td>1007.78413</td>\n",
       "      <td>207.296242</td>\n",
       "      <td>2456.230563</td>\n",
       "      <td>2855.890527</td>\n",
       "      <td>2698.865952</td>\n",
       "      <td>356.992669</td>\n",
       "    </tr>\n",
       "    <tr>\n",
       "      <th>2</th>\n",
       "      <td>ANDAMAN &amp; NICOBAR ISLANDS</td>\n",
       "      <td>1903.0</td>\n",
       "      <td>12.7</td>\n",
       "      <td>144.0</td>\n",
       "      <td>0.0</td>\n",
       "      <td>1.0</td>\n",
       "      <td>235.1</td>\n",
       "      <td>479.9</td>\n",
       "      <td>728.4</td>\n",
       "      <td>326.7</td>\n",
       "      <td>...</td>\n",
       "      <td>28.529795</td>\n",
       "      <td>1427.970678</td>\n",
       "      <td>40.871239</td>\n",
       "      <td>172.019067</td>\n",
       "      <td>1007.78413</td>\n",
       "      <td>207.296242</td>\n",
       "      <td>2456.230563</td>\n",
       "      <td>2855.890527</td>\n",
       "      <td>2698.865952</td>\n",
       "      <td>356.992669</td>\n",
       "    </tr>\n",
       "    <tr>\n",
       "      <th>3</th>\n",
       "      <td>ANDAMAN &amp; NICOBAR ISLANDS</td>\n",
       "      <td>1904.0</td>\n",
       "      <td>9.4</td>\n",
       "      <td>14.7</td>\n",
       "      <td>0.0</td>\n",
       "      <td>202.4</td>\n",
       "      <td>304.5</td>\n",
       "      <td>495.1</td>\n",
       "      <td>502.0</td>\n",
       "      <td>160.1</td>\n",
       "      <td>...</td>\n",
       "      <td>28.529795</td>\n",
       "      <td>1427.970678</td>\n",
       "      <td>40.871239</td>\n",
       "      <td>172.019067</td>\n",
       "      <td>1007.78413</td>\n",
       "      <td>207.296242</td>\n",
       "      <td>2456.230563</td>\n",
       "      <td>2855.890527</td>\n",
       "      <td>2698.865952</td>\n",
       "      <td>356.992669</td>\n",
       "    </tr>\n",
       "    <tr>\n",
       "      <th>4</th>\n",
       "      <td>ANDAMAN &amp; NICOBAR ISLANDS</td>\n",
       "      <td>1905.0</td>\n",
       "      <td>1.3</td>\n",
       "      <td>0.0</td>\n",
       "      <td>3.3</td>\n",
       "      <td>26.9</td>\n",
       "      <td>279.5</td>\n",
       "      <td>628.7</td>\n",
       "      <td>368.7</td>\n",
       "      <td>330.5</td>\n",
       "      <td>...</td>\n",
       "      <td>28.529795</td>\n",
       "      <td>1427.970678</td>\n",
       "      <td>40.871239</td>\n",
       "      <td>172.019067</td>\n",
       "      <td>1007.78413</td>\n",
       "      <td>207.296242</td>\n",
       "      <td>2456.230563</td>\n",
       "      <td>2855.890527</td>\n",
       "      <td>2698.865952</td>\n",
       "      <td>356.992669</td>\n",
       "    </tr>\n",
       "  </tbody>\n",
       "</table>\n",
       "<p>5 rows × 40 columns</p>\n",
       "</div>"
      ],
      "text/plain": [
       "                       state    YEAR  JAN_x  FEB_x  MAR_x  APR_x  MAY_x  \\\n",
       "0  ANDAMAN & NICOBAR ISLANDS  1901.0   49.2   87.1   29.2    2.3  528.8   \n",
       "1  ANDAMAN & NICOBAR ISLANDS  1902.0    0.0  159.8   12.2    0.0  446.1   \n",
       "2  ANDAMAN & NICOBAR ISLANDS  1903.0   12.7  144.0    0.0    1.0  235.1   \n",
       "3  ANDAMAN & NICOBAR ISLANDS  1904.0    9.4   14.7    0.0  202.4  304.5   \n",
       "4  ANDAMAN & NICOBAR ISLANDS  1905.0    1.3    0.0    3.3   26.9  279.5   \n",
       "\n",
       "   JUN_x  JUL_x  AUG_x  ...      DEC_y     ANNUAL_y  Jan-Feb_y   Mar-May_y  \\\n",
       "0  517.5  365.1  481.1  ...  28.529795  1427.970678  40.871239  172.019067   \n",
       "1  537.1  228.9  753.7  ...  28.529795  1427.970678  40.871239  172.019067   \n",
       "2  479.9  728.4  326.7  ...  28.529795  1427.970678  40.871239  172.019067   \n",
       "3  495.1  502.0  160.1  ...  28.529795  1427.970678  40.871239  172.019067   \n",
       "4  628.7  368.7  330.5  ...  28.529795  1427.970678  40.871239  172.019067   \n",
       "\n",
       "    Jun-Sep_y   Oct-Dec_y    min_price    max_price  modal_price     average  \n",
       "0  1007.78413  207.296242  2456.230563  2855.890527  2698.865952  356.992669  \n",
       "1  1007.78413  207.296242  2456.230563  2855.890527  2698.865952  356.992669  \n",
       "2  1007.78413  207.296242  2456.230563  2855.890527  2698.865952  356.992669  \n",
       "3  1007.78413  207.296242  2456.230563  2855.890527  2698.865952  356.992669  \n",
       "4  1007.78413  207.296242  2456.230563  2855.890527  2698.865952  356.992669  \n",
       "\n",
       "[5 rows x 40 columns]"
      ]
     },
     "execution_count": 65,
     "metadata": {},
     "output_type": "execute_result"
    }
   ],
   "source": [
    "df.head()"
   ]
  },
  {
   "cell_type": "code",
   "execution_count": 66,
   "id": "54252f94",
   "metadata": {
    "execution": {
     "iopub.execute_input": "2023-02-11T10:10:02.632464Z",
     "iopub.status.busy": "2023-02-11T10:10:02.631205Z",
     "iopub.status.idle": "2023-02-11T10:10:02.661674Z",
     "shell.execute_reply": "2023-02-11T10:10:02.660456Z"
    },
    "papermill": {
     "duration": 0.065441,
     "end_time": "2023-02-11T10:10:02.664244",
     "exception": false,
     "start_time": "2023-02-11T10:10:02.598803",
     "status": "completed"
    },
    "tags": []
   },
   "outputs": [
    {
     "data": {
      "text/html": [
       "<div>\n",
       "<style scoped>\n",
       "    .dataframe tbody tr th:only-of-type {\n",
       "        vertical-align: middle;\n",
       "    }\n",
       "\n",
       "    .dataframe tbody tr th {\n",
       "        vertical-align: top;\n",
       "    }\n",
       "\n",
       "    .dataframe thead th {\n",
       "        text-align: right;\n",
       "    }\n",
       "</style>\n",
       "<table border=\"1\" class=\"dataframe\">\n",
       "  <thead>\n",
       "    <tr style=\"text-align: right;\">\n",
       "      <th></th>\n",
       "      <th>state</th>\n",
       "      <th>YEAR</th>\n",
       "      <th>JAN_x</th>\n",
       "      <th>FEB_x</th>\n",
       "      <th>MAR_x</th>\n",
       "      <th>APR_x</th>\n",
       "      <th>MAY_x</th>\n",
       "      <th>JUN_x</th>\n",
       "      <th>JUL_x</th>\n",
       "      <th>AUG_x</th>\n",
       "      <th>...</th>\n",
       "      <th>DEC_y</th>\n",
       "      <th>ANNUAL_y</th>\n",
       "      <th>Jan-Feb_y</th>\n",
       "      <th>Mar-May_y</th>\n",
       "      <th>Jun-Sep_y</th>\n",
       "      <th>Oct-Dec_y</th>\n",
       "      <th>min_price</th>\n",
       "      <th>max_price</th>\n",
       "      <th>modal_price</th>\n",
       "      <th>rainfall</th>\n",
       "    </tr>\n",
       "  </thead>\n",
       "  <tbody>\n",
       "    <tr>\n",
       "      <th>0</th>\n",
       "      <td>ANDAMAN &amp; NICOBAR ISLANDS</td>\n",
       "      <td>1901.0</td>\n",
       "      <td>49.2</td>\n",
       "      <td>87.1</td>\n",
       "      <td>29.2</td>\n",
       "      <td>2.3</td>\n",
       "      <td>528.8</td>\n",
       "      <td>517.5</td>\n",
       "      <td>365.1</td>\n",
       "      <td>481.1</td>\n",
       "      <td>...</td>\n",
       "      <td>28.529795</td>\n",
       "      <td>1427.970678</td>\n",
       "      <td>40.871239</td>\n",
       "      <td>172.019067</td>\n",
       "      <td>1007.78413</td>\n",
       "      <td>207.296242</td>\n",
       "      <td>2456.230563</td>\n",
       "      <td>2855.890527</td>\n",
       "      <td>2698.865952</td>\n",
       "      <td>356.992669</td>\n",
       "    </tr>\n",
       "    <tr>\n",
       "      <th>1</th>\n",
       "      <td>ANDAMAN &amp; NICOBAR ISLANDS</td>\n",
       "      <td>1902.0</td>\n",
       "      <td>0.0</td>\n",
       "      <td>159.8</td>\n",
       "      <td>12.2</td>\n",
       "      <td>0.0</td>\n",
       "      <td>446.1</td>\n",
       "      <td>537.1</td>\n",
       "      <td>228.9</td>\n",
       "      <td>753.7</td>\n",
       "      <td>...</td>\n",
       "      <td>28.529795</td>\n",
       "      <td>1427.970678</td>\n",
       "      <td>40.871239</td>\n",
       "      <td>172.019067</td>\n",
       "      <td>1007.78413</td>\n",
       "      <td>207.296242</td>\n",
       "      <td>2456.230563</td>\n",
       "      <td>2855.890527</td>\n",
       "      <td>2698.865952</td>\n",
       "      <td>356.992669</td>\n",
       "    </tr>\n",
       "    <tr>\n",
       "      <th>2</th>\n",
       "      <td>ANDAMAN &amp; NICOBAR ISLANDS</td>\n",
       "      <td>1903.0</td>\n",
       "      <td>12.7</td>\n",
       "      <td>144.0</td>\n",
       "      <td>0.0</td>\n",
       "      <td>1.0</td>\n",
       "      <td>235.1</td>\n",
       "      <td>479.9</td>\n",
       "      <td>728.4</td>\n",
       "      <td>326.7</td>\n",
       "      <td>...</td>\n",
       "      <td>28.529795</td>\n",
       "      <td>1427.970678</td>\n",
       "      <td>40.871239</td>\n",
       "      <td>172.019067</td>\n",
       "      <td>1007.78413</td>\n",
       "      <td>207.296242</td>\n",
       "      <td>2456.230563</td>\n",
       "      <td>2855.890527</td>\n",
       "      <td>2698.865952</td>\n",
       "      <td>356.992669</td>\n",
       "    </tr>\n",
       "    <tr>\n",
       "      <th>3</th>\n",
       "      <td>ANDAMAN &amp; NICOBAR ISLANDS</td>\n",
       "      <td>1904.0</td>\n",
       "      <td>9.4</td>\n",
       "      <td>14.7</td>\n",
       "      <td>0.0</td>\n",
       "      <td>202.4</td>\n",
       "      <td>304.5</td>\n",
       "      <td>495.1</td>\n",
       "      <td>502.0</td>\n",
       "      <td>160.1</td>\n",
       "      <td>...</td>\n",
       "      <td>28.529795</td>\n",
       "      <td>1427.970678</td>\n",
       "      <td>40.871239</td>\n",
       "      <td>172.019067</td>\n",
       "      <td>1007.78413</td>\n",
       "      <td>207.296242</td>\n",
       "      <td>2456.230563</td>\n",
       "      <td>2855.890527</td>\n",
       "      <td>2698.865952</td>\n",
       "      <td>356.992669</td>\n",
       "    </tr>\n",
       "    <tr>\n",
       "      <th>4</th>\n",
       "      <td>ANDAMAN &amp; NICOBAR ISLANDS</td>\n",
       "      <td>1905.0</td>\n",
       "      <td>1.3</td>\n",
       "      <td>0.0</td>\n",
       "      <td>3.3</td>\n",
       "      <td>26.9</td>\n",
       "      <td>279.5</td>\n",
       "      <td>628.7</td>\n",
       "      <td>368.7</td>\n",
       "      <td>330.5</td>\n",
       "      <td>...</td>\n",
       "      <td>28.529795</td>\n",
       "      <td>1427.970678</td>\n",
       "      <td>40.871239</td>\n",
       "      <td>172.019067</td>\n",
       "      <td>1007.78413</td>\n",
       "      <td>207.296242</td>\n",
       "      <td>2456.230563</td>\n",
       "      <td>2855.890527</td>\n",
       "      <td>2698.865952</td>\n",
       "      <td>356.992669</td>\n",
       "    </tr>\n",
       "  </tbody>\n",
       "</table>\n",
       "<p>5 rows × 40 columns</p>\n",
       "</div>"
      ],
      "text/plain": [
       "                       state    YEAR  JAN_x  FEB_x  MAR_x  APR_x  MAY_x  \\\n",
       "0  ANDAMAN & NICOBAR ISLANDS  1901.0   49.2   87.1   29.2    2.3  528.8   \n",
       "1  ANDAMAN & NICOBAR ISLANDS  1902.0    0.0  159.8   12.2    0.0  446.1   \n",
       "2  ANDAMAN & NICOBAR ISLANDS  1903.0   12.7  144.0    0.0    1.0  235.1   \n",
       "3  ANDAMAN & NICOBAR ISLANDS  1904.0    9.4   14.7    0.0  202.4  304.5   \n",
       "4  ANDAMAN & NICOBAR ISLANDS  1905.0    1.3    0.0    3.3   26.9  279.5   \n",
       "\n",
       "   JUN_x  JUL_x  AUG_x  ...      DEC_y     ANNUAL_y  Jan-Feb_y   Mar-May_y  \\\n",
       "0  517.5  365.1  481.1  ...  28.529795  1427.970678  40.871239  172.019067   \n",
       "1  537.1  228.9  753.7  ...  28.529795  1427.970678  40.871239  172.019067   \n",
       "2  479.9  728.4  326.7  ...  28.529795  1427.970678  40.871239  172.019067   \n",
       "3  495.1  502.0  160.1  ...  28.529795  1427.970678  40.871239  172.019067   \n",
       "4  628.7  368.7  330.5  ...  28.529795  1427.970678  40.871239  172.019067   \n",
       "\n",
       "    Jun-Sep_y   Oct-Dec_y    min_price    max_price  modal_price    rainfall  \n",
       "0  1007.78413  207.296242  2456.230563  2855.890527  2698.865952  356.992669  \n",
       "1  1007.78413  207.296242  2456.230563  2855.890527  2698.865952  356.992669  \n",
       "2  1007.78413  207.296242  2456.230563  2855.890527  2698.865952  356.992669  \n",
       "3  1007.78413  207.296242  2456.230563  2855.890527  2698.865952  356.992669  \n",
       "4  1007.78413  207.296242  2456.230563  2855.890527  2698.865952  356.992669  \n",
       "\n",
       "[5 rows x 40 columns]"
      ]
     },
     "execution_count": 66,
     "metadata": {},
     "output_type": "execute_result"
    }
   ],
   "source": [
    "df.rename(columns={'average':'rainfall'},inplace=True)\n",
    "df.head()"
   ]
  },
  {
   "cell_type": "markdown",
   "id": "8a37bd99",
   "metadata": {
    "papermill": {
     "duration": 0.030731,
     "end_time": "2023-02-11T10:10:02.726902",
     "exception": false,
     "start_time": "2023-02-11T10:10:02.696171",
     "status": "completed"
    },
    "tags": []
   },
   "source": [
    "making a couple of copies to try and left merge"
   ]
  },
  {
   "cell_type": "code",
   "execution_count": 67,
   "id": "fbeb04b5",
   "metadata": {
    "execution": {
     "iopub.execute_input": "2023-02-11T10:10:02.791378Z",
     "iopub.status.busy": "2023-02-11T10:10:02.790961Z",
     "iopub.status.idle": "2023-02-11T10:10:02.811108Z",
     "shell.execute_reply": "2023-02-11T10:10:02.810123Z"
    },
    "papermill": {
     "duration": 0.055486,
     "end_time": "2023-02-11T10:10:02.813782",
     "exception": false,
     "start_time": "2023-02-11T10:10:02.758296",
     "status": "completed"
    },
    "tags": []
   },
   "outputs": [],
   "source": [
    "df1=df.copy()\n",
    "df2=recommendation_data.copy()"
   ]
  },
  {
   "cell_type": "markdown",
   "id": "42646d1d",
   "metadata": {
    "papermill": {
     "duration": 0.031217,
     "end_time": "2023-02-11T10:10:02.876004",
     "exception": false,
     "start_time": "2023-02-11T10:10:02.844787",
     "status": "completed"
    },
    "tags": []
   },
   "source": [
    "trying different joins"
   ]
  },
  {
   "cell_type": "code",
   "execution_count": 68,
   "id": "de723dc4",
   "metadata": {
    "execution": {
     "iopub.execute_input": "2023-02-11T10:10:02.941012Z",
     "iopub.status.busy": "2023-02-11T10:10:02.940065Z",
     "iopub.status.idle": "2023-02-11T10:10:02.965295Z",
     "shell.execute_reply": "2023-02-11T10:10:02.964321Z"
    },
    "papermill": {
     "duration": 0.060609,
     "end_time": "2023-02-11T10:10:02.967786",
     "exception": false,
     "start_time": "2023-02-11T10:10:02.907177",
     "status": "completed"
    },
    "tags": []
   },
   "outputs": [],
   "source": [
    "# Merge the two datasets on the rainfall column\n",
    "merged_df = pd.merge(df1, df2, on=\"rainfall\",how=\"outer\")\n",
    "\n",
    "# Fill missing values in the second dataset with the mean value of the rainfall column in the first dataset\n",
    "merged_df[\"rainfall\"].fillna(df1[\"rainfall\"].mean(), inplace=True)\n",
    "\n",
    "# Print the merged DataFramemerged_df.head()"
   ]
  },
  {
   "cell_type": "code",
   "execution_count": 69,
   "id": "6265b1a0",
   "metadata": {
    "execution": {
     "iopub.execute_input": "2023-02-11T10:10:03.031620Z",
     "iopub.status.busy": "2023-02-11T10:10:03.031184Z",
     "iopub.status.idle": "2023-02-11T10:10:03.035198Z",
     "shell.execute_reply": "2023-02-11T10:10:03.034419Z"
    },
    "papermill": {
     "duration": 0.038511,
     "end_time": "2023-02-11T10:10:03.037200",
     "exception": false,
     "start_time": "2023-02-11T10:10:02.998689",
     "status": "completed"
    },
    "tags": []
   },
   "outputs": [],
   "source": [
    "# merged_df = pd.merge(df1, df2, on=\"rainfall\", how=\"outer\")\n",
    "\n",
    "# # Fill any missing values in the second dataset with the mean value of the rainfall column in df2\n",
    "# merged_df[\"rainfall\"].fillna(df2[\"rainfall\"].mean(), inplace=True)\n",
    "\n",
    "# # Round the values in the rainfall column to the nearest whole number\n",
    "# merged_df[\"rainfall\"] = merged_df[\"rainfall\"].round()\n",
    "\n",
    "# # Rename the columns to their original names\n",
    "# merged_df.rename(columns={\"rainfall\": \"rainfall\"}, inplace=True)\n",
    "\n",
    "# # Drop any remaining rows with missing values in the rainfall column\n",
    "# merged_df.dropna(subset=[\"rainfall\"], inplace=True)"
   ]
  },
  {
   "cell_type": "code",
   "execution_count": 70,
   "id": "93b4a455",
   "metadata": {
    "execution": {
     "iopub.execute_input": "2023-02-11T10:10:03.101510Z",
     "iopub.status.busy": "2023-02-11T10:10:03.100551Z",
     "iopub.status.idle": "2023-02-11T10:10:03.106246Z",
     "shell.execute_reply": "2023-02-11T10:10:03.105459Z"
    },
    "papermill": {
     "duration": 0.039982,
     "end_time": "2023-02-11T10:10:03.108203",
     "exception": false,
     "start_time": "2023-02-11T10:10:03.068221",
     "status": "completed"
    },
    "tags": []
   },
   "outputs": [
    {
     "data": {
      "text/plain": [
       "(27955, 47)"
      ]
     },
     "execution_count": 70,
     "metadata": {},
     "output_type": "execute_result"
    }
   ],
   "source": [
    "merged_df.shape"
   ]
  },
  {
   "cell_type": "code",
   "execution_count": 71,
   "id": "e44344b6",
   "metadata": {
    "execution": {
     "iopub.execute_input": "2023-02-11T10:10:03.172067Z",
     "iopub.status.busy": "2023-02-11T10:10:03.171642Z",
     "iopub.status.idle": "2023-02-11T10:10:03.184888Z",
     "shell.execute_reply": "2023-02-11T10:10:03.183839Z"
    },
    "papermill": {
     "duration": 0.04816,
     "end_time": "2023-02-11T10:10:03.187357",
     "exception": false,
     "start_time": "2023-02-11T10:10:03.139197",
     "status": "completed"
    },
    "tags": []
   },
   "outputs": [
    {
     "data": {
      "text/plain": [
       "266085"
      ]
     },
     "execution_count": 71,
     "metadata": {},
     "output_type": "execute_result"
    }
   ],
   "source": [
    "merged_df.isna().sum().sum()"
   ]
  },
  {
   "cell_type": "code",
   "execution_count": 72,
   "id": "e619f897",
   "metadata": {
    "execution": {
     "iopub.execute_input": "2023-02-11T10:10:03.251469Z",
     "iopub.status.busy": "2023-02-11T10:10:03.250804Z",
     "iopub.status.idle": "2023-02-11T10:10:03.264222Z",
     "shell.execute_reply": "2023-02-11T10:10:03.263423Z"
    },
    "papermill": {
     "duration": 0.047982,
     "end_time": "2023-02-11T10:10:03.266266",
     "exception": false,
     "start_time": "2023-02-11T10:10:03.218284",
     "status": "completed"
    },
    "tags": []
   },
   "outputs": [
    {
     "data": {
      "text/plain": [
       "state           2200\n",
       "YEAR            2200\n",
       "JAN_x           2200\n",
       "FEB_x           2200\n",
       "MAR_x           2200\n",
       "APR_x           2200\n",
       "MAY_x           2200\n",
       "JUN_x           2200\n",
       "JUL_x           2200\n",
       "AUG_x           2200\n",
       "SEP_x           2200\n",
       "OCT_x           2200\n",
       "NOV_x           2200\n",
       "DEC_x           2200\n",
       "ANNUAL_x        2200\n",
       "Jan-Feb_x       2200\n",
       "Mar-May_x       2200\n",
       "Jun-Sep_x       2200\n",
       "Oct-Dec_x       2200\n",
       "JAN_y           2200\n",
       "FEB_y           2200\n",
       "MAR_y           2200\n",
       "APR_y           2200\n",
       "MAY_y           2200\n",
       "JUN_y           2200\n",
       "JUL_y           2200\n",
       "AUG_y           2200\n",
       "SEP_y           2200\n",
       "OCT_y           2200\n",
       "NOV_y           2200\n",
       "DEC_y           2200\n",
       "ANNUAL_y        2200\n",
       "Jan-Feb_y       2200\n",
       "Mar-May_y       2200\n",
       "Jun-Sep_y       2200\n",
       "Oct-Dec_y       2200\n",
       "min_price       2200\n",
       "max_price       2200\n",
       "modal_price     2200\n",
       "rainfall           0\n",
       "N              25755\n",
       "P              25755\n",
       "K              25755\n",
       "temperature    25755\n",
       "humidity       25755\n",
       "ph             25755\n",
       "label          25755\n",
       "dtype: int64"
      ]
     },
     "execution_count": 72,
     "metadata": {},
     "output_type": "execute_result"
    }
   ],
   "source": [
    "merged_df.isna().sum()"
   ]
  },
  {
   "cell_type": "code",
   "execution_count": 73,
   "id": "25806a7e",
   "metadata": {
    "execution": {
     "iopub.execute_input": "2023-02-11T10:10:03.331442Z",
     "iopub.status.busy": "2023-02-11T10:10:03.330549Z",
     "iopub.status.idle": "2023-02-11T10:10:03.357280Z",
     "shell.execute_reply": "2023-02-11T10:10:03.356405Z"
    },
    "papermill": {
     "duration": 0.061959,
     "end_time": "2023-02-11T10:10:03.359434",
     "exception": false,
     "start_time": "2023-02-11T10:10:03.297475",
     "status": "completed"
    },
    "tags": []
   },
   "outputs": [
    {
     "data": {
      "text/html": [
       "<div>\n",
       "<style scoped>\n",
       "    .dataframe tbody tr th:only-of-type {\n",
       "        vertical-align: middle;\n",
       "    }\n",
       "\n",
       "    .dataframe tbody tr th {\n",
       "        vertical-align: top;\n",
       "    }\n",
       "\n",
       "    .dataframe thead th {\n",
       "        text-align: right;\n",
       "    }\n",
       "</style>\n",
       "<table border=\"1\" class=\"dataframe\">\n",
       "  <thead>\n",
       "    <tr style=\"text-align: right;\">\n",
       "      <th></th>\n",
       "      <th>state</th>\n",
       "      <th>YEAR</th>\n",
       "      <th>JAN_x</th>\n",
       "      <th>FEB_x</th>\n",
       "      <th>MAR_x</th>\n",
       "      <th>APR_x</th>\n",
       "      <th>MAY_x</th>\n",
       "      <th>JUN_x</th>\n",
       "      <th>JUL_x</th>\n",
       "      <th>AUG_x</th>\n",
       "      <th>...</th>\n",
       "      <th>max_price</th>\n",
       "      <th>modal_price</th>\n",
       "      <th>rainfall</th>\n",
       "      <th>N</th>\n",
       "      <th>P</th>\n",
       "      <th>K</th>\n",
       "      <th>temperature</th>\n",
       "      <th>humidity</th>\n",
       "      <th>ph</th>\n",
       "      <th>label</th>\n",
       "    </tr>\n",
       "  </thead>\n",
       "  <tbody>\n",
       "    <tr>\n",
       "      <th>0</th>\n",
       "      <td>ANDAMAN &amp; NICOBAR ISLANDS</td>\n",
       "      <td>1901.0</td>\n",
       "      <td>49.2</td>\n",
       "      <td>87.1</td>\n",
       "      <td>29.2</td>\n",
       "      <td>2.3</td>\n",
       "      <td>528.8</td>\n",
       "      <td>517.5</td>\n",
       "      <td>365.1</td>\n",
       "      <td>481.1</td>\n",
       "      <td>...</td>\n",
       "      <td>2855.890527</td>\n",
       "      <td>2698.865952</td>\n",
       "      <td>356.992669</td>\n",
       "      <td>NaN</td>\n",
       "      <td>NaN</td>\n",
       "      <td>NaN</td>\n",
       "      <td>NaN</td>\n",
       "      <td>NaN</td>\n",
       "      <td>NaN</td>\n",
       "      <td>NaN</td>\n",
       "    </tr>\n",
       "    <tr>\n",
       "      <th>1</th>\n",
       "      <td>ANDAMAN &amp; NICOBAR ISLANDS</td>\n",
       "      <td>1902.0</td>\n",
       "      <td>0.0</td>\n",
       "      <td>159.8</td>\n",
       "      <td>12.2</td>\n",
       "      <td>0.0</td>\n",
       "      <td>446.1</td>\n",
       "      <td>537.1</td>\n",
       "      <td>228.9</td>\n",
       "      <td>753.7</td>\n",
       "      <td>...</td>\n",
       "      <td>2855.890527</td>\n",
       "      <td>2698.865952</td>\n",
       "      <td>356.992669</td>\n",
       "      <td>NaN</td>\n",
       "      <td>NaN</td>\n",
       "      <td>NaN</td>\n",
       "      <td>NaN</td>\n",
       "      <td>NaN</td>\n",
       "      <td>NaN</td>\n",
       "      <td>NaN</td>\n",
       "    </tr>\n",
       "    <tr>\n",
       "      <th>2</th>\n",
       "      <td>ANDAMAN &amp; NICOBAR ISLANDS</td>\n",
       "      <td>1903.0</td>\n",
       "      <td>12.7</td>\n",
       "      <td>144.0</td>\n",
       "      <td>0.0</td>\n",
       "      <td>1.0</td>\n",
       "      <td>235.1</td>\n",
       "      <td>479.9</td>\n",
       "      <td>728.4</td>\n",
       "      <td>326.7</td>\n",
       "      <td>...</td>\n",
       "      <td>2855.890527</td>\n",
       "      <td>2698.865952</td>\n",
       "      <td>356.992669</td>\n",
       "      <td>NaN</td>\n",
       "      <td>NaN</td>\n",
       "      <td>NaN</td>\n",
       "      <td>NaN</td>\n",
       "      <td>NaN</td>\n",
       "      <td>NaN</td>\n",
       "      <td>NaN</td>\n",
       "    </tr>\n",
       "    <tr>\n",
       "      <th>3</th>\n",
       "      <td>ANDAMAN &amp; NICOBAR ISLANDS</td>\n",
       "      <td>1904.0</td>\n",
       "      <td>9.4</td>\n",
       "      <td>14.7</td>\n",
       "      <td>0.0</td>\n",
       "      <td>202.4</td>\n",
       "      <td>304.5</td>\n",
       "      <td>495.1</td>\n",
       "      <td>502.0</td>\n",
       "      <td>160.1</td>\n",
       "      <td>...</td>\n",
       "      <td>2855.890527</td>\n",
       "      <td>2698.865952</td>\n",
       "      <td>356.992669</td>\n",
       "      <td>NaN</td>\n",
       "      <td>NaN</td>\n",
       "      <td>NaN</td>\n",
       "      <td>NaN</td>\n",
       "      <td>NaN</td>\n",
       "      <td>NaN</td>\n",
       "      <td>NaN</td>\n",
       "    </tr>\n",
       "    <tr>\n",
       "      <th>4</th>\n",
       "      <td>ANDAMAN &amp; NICOBAR ISLANDS</td>\n",
       "      <td>1905.0</td>\n",
       "      <td>1.3</td>\n",
       "      <td>0.0</td>\n",
       "      <td>3.3</td>\n",
       "      <td>26.9</td>\n",
       "      <td>279.5</td>\n",
       "      <td>628.7</td>\n",
       "      <td>368.7</td>\n",
       "      <td>330.5</td>\n",
       "      <td>...</td>\n",
       "      <td>2855.890527</td>\n",
       "      <td>2698.865952</td>\n",
       "      <td>356.992669</td>\n",
       "      <td>NaN</td>\n",
       "      <td>NaN</td>\n",
       "      <td>NaN</td>\n",
       "      <td>NaN</td>\n",
       "      <td>NaN</td>\n",
       "      <td>NaN</td>\n",
       "      <td>NaN</td>\n",
       "    </tr>\n",
       "  </tbody>\n",
       "</table>\n",
       "<p>5 rows × 47 columns</p>\n",
       "</div>"
      ],
      "text/plain": [
       "                       state    YEAR  JAN_x  FEB_x  MAR_x  APR_x  MAY_x  \\\n",
       "0  ANDAMAN & NICOBAR ISLANDS  1901.0   49.2   87.1   29.2    2.3  528.8   \n",
       "1  ANDAMAN & NICOBAR ISLANDS  1902.0    0.0  159.8   12.2    0.0  446.1   \n",
       "2  ANDAMAN & NICOBAR ISLANDS  1903.0   12.7  144.0    0.0    1.0  235.1   \n",
       "3  ANDAMAN & NICOBAR ISLANDS  1904.0    9.4   14.7    0.0  202.4  304.5   \n",
       "4  ANDAMAN & NICOBAR ISLANDS  1905.0    1.3    0.0    3.3   26.9  279.5   \n",
       "\n",
       "   JUN_x  JUL_x  AUG_x  ...    max_price  modal_price    rainfall   N   P   K  \\\n",
       "0  517.5  365.1  481.1  ...  2855.890527  2698.865952  356.992669 NaN NaN NaN   \n",
       "1  537.1  228.9  753.7  ...  2855.890527  2698.865952  356.992669 NaN NaN NaN   \n",
       "2  479.9  728.4  326.7  ...  2855.890527  2698.865952  356.992669 NaN NaN NaN   \n",
       "3  495.1  502.0  160.1  ...  2855.890527  2698.865952  356.992669 NaN NaN NaN   \n",
       "4  628.7  368.7  330.5  ...  2855.890527  2698.865952  356.992669 NaN NaN NaN   \n",
       "\n",
       "   temperature  humidity  ph  label  \n",
       "0          NaN       NaN NaN    NaN  \n",
       "1          NaN       NaN NaN    NaN  \n",
       "2          NaN       NaN NaN    NaN  \n",
       "3          NaN       NaN NaN    NaN  \n",
       "4          NaN       NaN NaN    NaN  \n",
       "\n",
       "[5 rows x 47 columns]"
      ]
     },
     "execution_count": 73,
     "metadata": {},
     "output_type": "execute_result"
    }
   ],
   "source": [
    "merged_df.head()"
   ]
  },
  {
   "cell_type": "code",
   "execution_count": 74,
   "id": "0f415228",
   "metadata": {
    "execution": {
     "iopub.execute_input": "2023-02-11T10:10:03.424264Z",
     "iopub.status.busy": "2023-02-11T10:10:03.423619Z",
     "iopub.status.idle": "2023-02-11T10:10:33.003856Z",
     "shell.execute_reply": "2023-02-11T10:10:33.002697Z"
    },
    "papermill": {
     "duration": 29.615748,
     "end_time": "2023-02-11T10:10:33.006501",
     "exception": false,
     "start_time": "2023-02-11T10:10:03.390753",
     "status": "completed"
    },
    "tags": []
   },
   "outputs": [
    {
     "data": {
      "text/html": [
       "<div>\n",
       "<style scoped>\n",
       "    .dataframe tbody tr th:only-of-type {\n",
       "        vertical-align: middle;\n",
       "    }\n",
       "\n",
       "    .dataframe tbody tr th {\n",
       "        vertical-align: top;\n",
       "    }\n",
       "\n",
       "    .dataframe thead th {\n",
       "        text-align: right;\n",
       "    }\n",
       "</style>\n",
       "<table border=\"1\" class=\"dataframe\">\n",
       "  <thead>\n",
       "    <tr style=\"text-align: right;\">\n",
       "      <th></th>\n",
       "      <th>state</th>\n",
       "      <th>YEAR</th>\n",
       "      <th>JAN_x</th>\n",
       "      <th>FEB_x</th>\n",
       "      <th>MAR_x</th>\n",
       "      <th>APR_x</th>\n",
       "      <th>MAY_x</th>\n",
       "      <th>JUN_x</th>\n",
       "      <th>JUL_x</th>\n",
       "      <th>AUG_x</th>\n",
       "      <th>...</th>\n",
       "      <th>rainfall_x</th>\n",
       "      <th>match_score</th>\n",
       "      <th>N</th>\n",
       "      <th>P</th>\n",
       "      <th>K</th>\n",
       "      <th>temperature</th>\n",
       "      <th>humidity</th>\n",
       "      <th>ph</th>\n",
       "      <th>rainfall_y</th>\n",
       "      <th>label</th>\n",
       "    </tr>\n",
       "  </thead>\n",
       "  <tbody>\n",
       "    <tr>\n",
       "      <th>0</th>\n",
       "      <td>ARUNACHAL PRADESH</td>\n",
       "      <td>1916.0</td>\n",
       "      <td>48.1</td>\n",
       "      <td>69.8</td>\n",
       "      <td>71.1</td>\n",
       "      <td>316.1</td>\n",
       "      <td>424.6</td>\n",
       "      <td>1124.9</td>\n",
       "      <td>327.463533</td>\n",
       "      <td>629.7</td>\n",
       "      <td>...</td>\n",
       "      <td>760.95</td>\n",
       "      <td>6</td>\n",
       "      <td>94</td>\n",
       "      <td>50</td>\n",
       "      <td>37</td>\n",
       "      <td>25.665852</td>\n",
       "      <td>80.663850</td>\n",
       "      <td>6.948020</td>\n",
       "      <td>209.586971</td>\n",
       "      <td>rice</td>\n",
       "    </tr>\n",
       "    <tr>\n",
       "      <th>1</th>\n",
       "      <td>ARUNACHAL PRADESH</td>\n",
       "      <td>1916.0</td>\n",
       "      <td>48.1</td>\n",
       "      <td>69.8</td>\n",
       "      <td>71.1</td>\n",
       "      <td>316.1</td>\n",
       "      <td>424.6</td>\n",
       "      <td>1124.9</td>\n",
       "      <td>327.463533</td>\n",
       "      <td>629.7</td>\n",
       "      <td>...</td>\n",
       "      <td>760.95</td>\n",
       "      <td>6</td>\n",
       "      <td>92</td>\n",
       "      <td>35</td>\n",
       "      <td>40</td>\n",
       "      <td>22.179319</td>\n",
       "      <td>80.331272</td>\n",
       "      <td>6.357389</td>\n",
       "      <td>200.088279</td>\n",
       "      <td>rice</td>\n",
       "    </tr>\n",
       "    <tr>\n",
       "      <th>2</th>\n",
       "      <td>ARUNACHAL PRADESH</td>\n",
       "      <td>1916.0</td>\n",
       "      <td>48.1</td>\n",
       "      <td>69.8</td>\n",
       "      <td>71.1</td>\n",
       "      <td>316.1</td>\n",
       "      <td>424.6</td>\n",
       "      <td>1124.9</td>\n",
       "      <td>327.463533</td>\n",
       "      <td>629.7</td>\n",
       "      <td>...</td>\n",
       "      <td>760.95</td>\n",
       "      <td>6</td>\n",
       "      <td>64</td>\n",
       "      <td>45</td>\n",
       "      <td>43</td>\n",
       "      <td>25.629801</td>\n",
       "      <td>83.528423</td>\n",
       "      <td>5.534878</td>\n",
       "      <td>209.900198</td>\n",
       "      <td>rice</td>\n",
       "    </tr>\n",
       "    <tr>\n",
       "      <th>3</th>\n",
       "      <td>ARUNACHAL PRADESH</td>\n",
       "      <td>1916.0</td>\n",
       "      <td>48.1</td>\n",
       "      <td>69.8</td>\n",
       "      <td>71.1</td>\n",
       "      <td>316.1</td>\n",
       "      <td>424.6</td>\n",
       "      <td>1124.9</td>\n",
       "      <td>327.463533</td>\n",
       "      <td>629.7</td>\n",
       "      <td>...</td>\n",
       "      <td>760.95</td>\n",
       "      <td>6</td>\n",
       "      <td>83</td>\n",
       "      <td>60</td>\n",
       "      <td>36</td>\n",
       "      <td>25.597049</td>\n",
       "      <td>80.145093</td>\n",
       "      <td>6.903986</td>\n",
       "      <td>200.834898</td>\n",
       "      <td>rice</td>\n",
       "    </tr>\n",
       "    <tr>\n",
       "      <th>4</th>\n",
       "      <td>ARUNACHAL PRADESH</td>\n",
       "      <td>1916.0</td>\n",
       "      <td>48.1</td>\n",
       "      <td>69.8</td>\n",
       "      <td>71.1</td>\n",
       "      <td>316.1</td>\n",
       "      <td>424.6</td>\n",
       "      <td>1124.9</td>\n",
       "      <td>327.463533</td>\n",
       "      <td>629.7</td>\n",
       "      <td>...</td>\n",
       "      <td>760.95</td>\n",
       "      <td>6</td>\n",
       "      <td>91</td>\n",
       "      <td>35</td>\n",
       "      <td>38</td>\n",
       "      <td>24.897282</td>\n",
       "      <td>80.525861</td>\n",
       "      <td>6.134287</td>\n",
       "      <td>183.679321</td>\n",
       "      <td>rice</td>\n",
       "    </tr>\n",
       "  </tbody>\n",
       "</table>\n",
       "<p>5 rows × 49 columns</p>\n",
       "</div>"
      ],
      "text/plain": [
       "               state    YEAR  JAN_x  FEB_x  MAR_x  APR_x  MAY_x   JUN_x  \\\n",
       "0  ARUNACHAL PRADESH  1916.0   48.1   69.8   71.1  316.1  424.6  1124.9   \n",
       "1  ARUNACHAL PRADESH  1916.0   48.1   69.8   71.1  316.1  424.6  1124.9   \n",
       "2  ARUNACHAL PRADESH  1916.0   48.1   69.8   71.1  316.1  424.6  1124.9   \n",
       "3  ARUNACHAL PRADESH  1916.0   48.1   69.8   71.1  316.1  424.6  1124.9   \n",
       "4  ARUNACHAL PRADESH  1916.0   48.1   69.8   71.1  316.1  424.6  1124.9   \n",
       "\n",
       "        JUL_x  AUG_x  ...  rainfall_x  match_score   N   P   K  temperature  \\\n",
       "0  327.463533  629.7  ...      760.95            6  94  50  37    25.665852   \n",
       "1  327.463533  629.7  ...      760.95            6  92  35  40    22.179319   \n",
       "2  327.463533  629.7  ...      760.95            6  64  45  43    25.629801   \n",
       "3  327.463533  629.7  ...      760.95            6  83  60  36    25.597049   \n",
       "4  327.463533  629.7  ...      760.95            6  91  35  38    24.897282   \n",
       "\n",
       "    humidity        ph  rainfall_y  label  \n",
       "0  80.663850  6.948020  209.586971   rice  \n",
       "1  80.331272  6.357389  200.088279   rice  \n",
       "2  83.528423  5.534878  209.900198   rice  \n",
       "3  80.145093  6.903986  200.834898   rice  \n",
       "4  80.525861  6.134287  183.679321   rice  \n",
       "\n",
       "[5 rows x 49 columns]"
      ]
     },
     "execution_count": 74,
     "metadata": {},
     "output_type": "execute_result"
    }
   ],
   "source": [
    "from fuzzywuzzy import fuzz\n",
    "# Create a new column in each DataFrame that contains the fuzzy match score between each value in the rainfall column and the corresponding value in the other DataFrame\n",
    "df1[\"match_score\"] = df1.apply(lambda x: fuzz.token_sort_ratio(x[\"rainfall\"], df2[\"rainfall\"]), axis=1)\n",
    "df2[\"match_score\"] = df2.apply(lambda x: fuzz.token_sort_ratio(x[\"rainfall\"], df1[\"rainfall\"]), axis=1)\n",
    "\n",
    "# Merge the two datasets on the match_score column using an inner join\n",
    "merged_df1= pd.merge(df1, df2, on=\"match_score\", how=\"inner\")\n",
    "\n",
    "# Print the merged DataFrame\n",
    "merged_df1.head()"
   ]
  },
  {
   "cell_type": "code",
   "execution_count": 75,
   "id": "866a8ec6",
   "metadata": {
    "execution": {
     "iopub.execute_input": "2023-02-11T10:10:33.072091Z",
     "iopub.status.busy": "2023-02-11T10:10:33.071498Z",
     "iopub.status.idle": "2023-02-11T10:10:34.172919Z",
     "shell.execute_reply": "2023-02-11T10:10:34.171798Z"
    },
    "papermill": {
     "duration": 1.136559,
     "end_time": "2023-02-11T10:10:34.175382",
     "exception": false,
     "start_time": "2023-02-11T10:10:33.038823",
     "status": "completed"
    },
    "tags": []
   },
   "outputs": [
    {
     "data": {
      "text/plain": [
       "0"
      ]
     },
     "execution_count": 75,
     "metadata": {},
     "output_type": "execute_result"
    }
   ],
   "source": [
    "merged_df1.isnull().sum().sum()"
   ]
  },
  {
   "cell_type": "code",
   "execution_count": 76,
   "id": "d591d94b",
   "metadata": {
    "execution": {
     "iopub.execute_input": "2023-02-11T10:10:34.240643Z",
     "iopub.status.busy": "2023-02-11T10:10:34.239980Z",
     "iopub.status.idle": "2023-02-11T10:10:34.246006Z",
     "shell.execute_reply": "2023-02-11T10:10:34.244997Z"
    },
    "papermill": {
     "duration": 0.041097,
     "end_time": "2023-02-11T10:10:34.248225",
     "exception": false,
     "start_time": "2023-02-11T10:10:34.207128",
     "status": "completed"
    },
    "tags": []
   },
   "outputs": [
    {
     "data": {
      "text/plain": [
       "(6154502, 49)"
      ]
     },
     "execution_count": 76,
     "metadata": {},
     "output_type": "execute_result"
    }
   ],
   "source": [
    "merged_df1.shape"
   ]
  },
  {
   "cell_type": "code",
   "execution_count": 77,
   "id": "71ca3eb1",
   "metadata": {
    "execution": {
     "iopub.execute_input": "2023-02-11T10:10:34.314884Z",
     "iopub.status.busy": "2023-02-11T10:10:34.314269Z",
     "iopub.status.idle": "2023-02-11T10:10:39.128748Z",
     "shell.execute_reply": "2023-02-11T10:10:39.127356Z"
    },
    "papermill": {
     "duration": 4.850798,
     "end_time": "2023-02-11T10:10:39.131638",
     "exception": false,
     "start_time": "2023-02-11T10:10:34.280840",
     "status": "completed"
    },
    "tags": []
   },
   "outputs": [],
   "source": [
    "Y=merged_df1['label']\n",
    "X=merged_df1.copy()\n",
    "X.drop(columns='label',inplace=True)"
   ]
  },
  {
   "cell_type": "code",
   "execution_count": 78,
   "id": "40045b42",
   "metadata": {
    "execution": {
     "iopub.execute_input": "2023-02-11T10:10:39.197708Z",
     "iopub.status.busy": "2023-02-11T10:10:39.197059Z",
     "iopub.status.idle": "2023-02-11T10:10:39.203614Z",
     "shell.execute_reply": "2023-02-11T10:10:39.202706Z"
    },
    "papermill": {
     "duration": 0.042089,
     "end_time": "2023-02-11T10:10:39.205735",
     "exception": false,
     "start_time": "2023-02-11T10:10:39.163646",
     "status": "completed"
    },
    "tags": []
   },
   "outputs": [
    {
     "data": {
      "text/plain": [
       "(6154502, 48)"
      ]
     },
     "execution_count": 78,
     "metadata": {},
     "output_type": "execute_result"
    }
   ],
   "source": [
    "X.shape"
   ]
  },
  {
   "cell_type": "code",
   "execution_count": 79,
   "id": "f68fc993",
   "metadata": {
    "execution": {
     "iopub.execute_input": "2023-02-11T10:10:39.272087Z",
     "iopub.status.busy": "2023-02-11T10:10:39.271420Z",
     "iopub.status.idle": "2023-02-11T10:10:39.278813Z",
     "shell.execute_reply": "2023-02-11T10:10:39.277488Z"
    },
    "papermill": {
     "duration": 0.043902,
     "end_time": "2023-02-11T10:10:39.281530",
     "exception": false,
     "start_time": "2023-02-11T10:10:39.237628",
     "status": "completed"
    },
    "tags": []
   },
   "outputs": [
    {
     "data": {
      "text/plain": [
       "(6154502,)"
      ]
     },
     "execution_count": 79,
     "metadata": {},
     "output_type": "execute_result"
    }
   ],
   "source": [
    "Y.shape"
   ]
  },
  {
   "cell_type": "code",
   "execution_count": 80,
   "id": "8574d2fe",
   "metadata": {
    "execution": {
     "iopub.execute_input": "2023-02-11T10:10:39.349831Z",
     "iopub.status.busy": "2023-02-11T10:10:39.349438Z",
     "iopub.status.idle": "2023-02-11T11:08:16.790455Z",
     "shell.execute_reply": "2023-02-11T11:08:16.789255Z"
    },
    "papermill": {
     "duration": 3457.512605,
     "end_time": "2023-02-11T11:08:16.827078",
     "exception": false,
     "start_time": "2023-02-11T10:10:39.314473",
     "status": "completed"
    },
    "tags": []
   },
   "outputs": [
    {
     "name": "stdout",
     "output_type": "stream",
     "text": [
      "Accuracy: 1.0\n"
     ]
    }
   ],
   "source": [
    "from sklearn.ensemble import RandomForestClassifier\n",
    "from xgboost import XGBClassifier\n",
    "from sklearn.model_selection import train_test_split\n",
    "from sklearn.metrics import accuracy_score\n",
    "categorical_cols = X.select_dtypes(include=[\"category\", \"object\"]).columns\n",
    "X=pd.get_dummies(X, columns=categorical_cols)#hot encoding categorical variables\n",
    "X_train, X_test, y_train, y_test = train_test_split(X, Y, test_size=0.2, random_state=0)\n",
    "clf = RandomForestClassifier()\n",
    "model=XGBClassifier()\n",
    "clf.fit(X_train, y_train)\n",
    "# Predict the target values of the test set\n",
    "y_pred = clf.predict(X_test)\n",
    "# Calculate the accuracy of the model\n",
    "accuracy = accuracy_score(y_test, y_pred)\n",
    "print(\"Accuracy:\", accuracy)"
   ]
  },
  {
   "cell_type": "code",
   "execution_count": null,
   "id": "27cac65b",
   "metadata": {
    "papermill": {
     "duration": 0.032145,
     "end_time": "2023-02-11T11:08:16.891615",
     "exception": false,
     "start_time": "2023-02-11T11:08:16.859470",
     "status": "completed"
    },
    "tags": []
   },
   "outputs": [],
   "source": []
  }
 ],
 "metadata": {
  "kernelspec": {
   "display_name": "Python 3",
   "language": "python",
   "name": "python3"
  },
  "language_info": {
   "codemirror_mode": {
    "name": "ipython",
    "version": 3
   },
   "file_extension": ".py",
   "mimetype": "text/x-python",
   "name": "python",
   "nbconvert_exporter": "python",
   "pygments_lexer": "ipython3",
   "version": "3.7.12"
  },
  "papermill": {
   "default_parameters": {},
   "duration": 3509.917277,
   "end_time": "2023-02-11T11:08:18.054111",
   "environment_variables": {},
   "exception": null,
   "input_path": "__notebook__.ipynb",
   "output_path": "__notebook__.ipynb",
   "parameters": {},
   "start_time": "2023-02-11T10:09:48.136834",
   "version": "2.3.4"
  }
 },
 "nbformat": 4,
 "nbformat_minor": 5
}
